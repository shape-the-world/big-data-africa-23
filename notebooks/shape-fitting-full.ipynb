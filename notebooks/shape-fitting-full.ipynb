{
 "cells": [
  {
   "cell_type": "markdown",
   "id": "da849a4f-0493-4c4f-baa9-be4a8e69e87e",
   "metadata": {},
   "source": [
    "# Fitting shape models - including pose\n",
    "\n",
    "#### Marcel Lüthi, Departement of Mathematics and Computer Science, University of Basel \n",
    "\n",
    "This notebook serves as a template for a more complete fitting project that does a 3D from 2D reconstruction of the vertebra, where the pose is not known. The code in this notebook is structurally correct, but the priors, evaluators and proposals are not tuned and the reconstruction as such are therefore not going to work. Your task is to make it work. "
   ]
  },
  {
   "cell_type": "markdown",
   "id": "4325f6c3-c9d9-40dc-9ac0-1f6bcdb379c8",
   "metadata": {},
   "source": [
    "### Setup\n",
    "\n",
    "We begin as usual with importing all the necessary libraries. "
   ]
  },
  {
   "cell_type": "code",
   "execution_count": 328,
   "id": "118fc52e-ead0-4941-9559-953c05f35b95",
   "metadata": {},
   "outputs": [],
   "source": [
    "// Suppressing excessive output for the jupyter-notebook\n",
    "val api = implicitly[almond.api.JupyterApi]\n",
    "api.silent(true)"
   ]
  },
  {
   "cell_type": "code",
   "execution_count": 329,
   "id": "1a6c8486-c1af-408e-b818-7285a6a3e7e0",
   "metadata": {},
   "outputs": [],
   "source": [
    "// add repositories from which libraries are loaded. \n",
    "import coursierapi.{Credentials, MavenRepository}\n",
    "interp.repositories() ++= Seq(\n",
    "  MavenRepository.of(\"https://oss.sonatype.org/content/repositories/snapshots\")\n",
    ")"
   ]
  },
  {
   "cell_type": "code",
   "execution_count": 330,
   "id": "12cd74f6-3c9a-4f93-bcd0-65d715d2a8d4",
   "metadata": {},
   "outputs": [],
   "source": [
    "// downloading the libraries\n",
    "import $ivy.`ch.unibas.cs.gravis::scalismo-plot:0.1-SNAPSHOT`\n",
    "import $ivy.`ch.unibas.cs.gravis::scalismo-renderer:0.1-SNAPSHOT`\n",
    "import $ivy.`org.scalanlp::breeze:2.1.0`\n",
    "import $ivy.`org.scalanlp::breeze-natives:2.1.0`"
   ]
  },
  {
   "cell_type": "code",
   "execution_count": 331,
   "id": "92e0b6f0-c950-497c-b692-25044847d0eb",
   "metadata": {},
   "outputs": [],
   "source": [
    "// imports\n",
    "\n",
    "// scalismo imports\n",
    "import scalismo.io.StatisticalModelIO\n",
    "import scalismo.io.LandmarkIO\n",
    "import scalismo.geometry.*\n",
    "import scalismo.common.*\n",
    "import scalismo.statisticalmodel.*\n",
    "import scalismo.mesh.{TriangleMesh, LineMesh}\n",
    "import scalismo.transformations.*\n",
    "\n",
    "// sampling framework\n",
    "import scalismo.sampling._\n",
    "import scalismo.sampling.proposals._\n",
    "import scalismo.sampling.parameters._\n",
    "import scalismo.sampling.evaluators._\n",
    "import scalismo.sampling.loggers.MHSampleLogger\n",
    "import scalismo.sampling.algorithms.MetropolisHastings\n",
    "\n",
    "\n",
    "// rendering\n",
    "import scalismo.renderer.{ContourRenderer, Renderer, show}\n",
    "import scalismo.color.RGB\n",
    "\n",
    "// plotting\n",
    "import scalismo.plot.data.DataFrame\n",
    "import scalismo.plot.plottarget.PlotTarget.plotTargetJupyter\n",
    "\n",
    "// linear algebra and statistics\n",
    "import breeze.linalg.DenseVector\n",
    "import breeze.linalg.DenseMatrix\n",
    "import breeze.stats.distributions.{Gaussian, MultivariateGaussian}\n",
    "import breeze.stats.distributions.Rand.FixedSeed.randBasis\n",
    "\n",
    "// java helpers\n",
    "import java.io.File"
   ]
  },
  {
   "cell_type": "code",
   "execution_count": 332,
   "id": "57231a01-2782-4d23-a4c1-fa9a9effe119",
   "metadata": {},
   "outputs": [],
   "source": [
    "given rng: scalismo.utils.Random = scalismo.utils.Random(42)"
   ]
  },
  {
   "cell_type": "markdown",
   "id": "427fda8f-610f-4f86-bbac-78e6b10ba0eb",
   "metadata": {},
   "source": [
    "### Generating simulated data"
   ]
  },
  {
   "cell_type": "markdown",
   "id": "28a8dec0-f5f1-4021-b63e-721c6e843d92",
   "metadata": {},
   "source": [
    "The following function generates a contour for the given parameters. Note that it is possible to add a pose transformation. "
   ]
  },
  {
   "cell_type": "code",
   "execution_count": 335,
   "id": "740c6295-59ff-4e12-99b4-e69ac0c07986",
   "metadata": {},
   "outputs": [],
   "source": [
    "def generate(vertebraModel : PointDistributionModel[_3D, TriangleMesh], \n",
    "             poseTransform : RigidTransformation[_3D], \n",
    "             shapeCoefficients : DenseVector[Double], \n",
    "             sensorDistance : Int, \n",
    "             sourceLocation : Point[_3D], \n",
    "             noiseSigma : Double) : LineMesh[_2D] = \n",
    "    \n",
    "    // sample from the prior    \n",
    "    val sample = vertebraModel.instance(shapeCoefficients).transform(poseTransform)\n",
    "\n",
    "    // project the sampled shape to get the contour\n",
    "    val sampledContour = ContourRenderer.projectMeshContours(sample, sensorDistance, sourceLocation)\n",
    "    \n",
    "    if noiseSigma > 1e-5 then     \n",
    "        // add Gaussian noise to each point  \n",
    "        val noiseTransform = Transformation2D( (point : Point[_2D]) => \n",
    "            val pointVec = DenseVector(point.x, point.y)\n",
    "            val noisyPoint = MultivariateGaussian(pointVec, DenseMatrix.eye[Double](2)* noiseSigma).draw()\n",
    "\n",
    "            Point2D(noisyPoint(0), noisyPoint(1))\n",
    "        )                 \n",
    "        sampledContour.transform(noiseTransform)\n",
    "    else sampledContour"
   ]
  },
  {
   "cell_type": "markdown",
   "id": "f519ed2c-81b1-4429-8495-2880138910a1",
   "metadata": {},
   "source": [
    "Generate a target contour to be fitted. By adjusting the pose parameters, you can make the problem more or less difficult. "
   ]
  },
  {
   "cell_type": "code",
   "execution_count": 337,
   "id": "899a4806-ee4c-4cb5-9529-fc8ec11362d7",
   "metadata": {},
   "outputs": [],
   "source": [
    "val vertebraModel = StatisticalModelIO.readStatisticalTriangleMeshModel3D(File(\"./data/vertebra-model.h5\")).get\n",
    "val rot = Rotation3D(0.1, 0.0, 0.0, Point3D(0, 0, 0))\n",
    "val translation = Translation3D(EuclideanVector3D(10, 5, 3))\n",
    "val poseTransform = TranslationAfterRotation3D(translation, rot)\n",
    "\n",
    "val coeffs = DenseVector.zeros[Double](vertebraModel.rank)\n",
    "coeffs(0) = -3\n",
    "coeffs(1) = 1.0\n",
    "coeffs(2) = 1.5\n",
    "val sensorDistance = 400\n",
    "val sourceLocation = Point3D(0, 0, 100)\n",
    "val noiseSigma : Double = 1\n",
    "\n",
    "val targetContour = generate(vertebraModel, poseTransform, coeffs, sensorDistance, sourceLocation, noiseSigma)"
   ]
  },
  {
   "cell_type": "markdown",
   "id": "0bb54e2f-59a8-445b-abd5-9581c0b1143e",
   "metadata": {},
   "source": [
    "It looks as follows:"
   ]
  },
  {
   "cell_type": "code",
   "execution_count": 338,
   "id": "8a9db155-8184-401c-9c70-3894e451eaa7",
   "metadata": {},
   "outputs": [
    {
     "data": {
      "image/png": "[encoded data removed]"
     },
     "metadata": {},
     "output_type": "display_data"
    }
   ],
   "source": [
    "ContourRenderer.renderMeshContour(targetContour, 1000, 1000).show()"
   ]
  },
  {
   "cell_type": "markdown",
   "id": "ac2764ba-f855-47bd-b269-bd4a94b77196",
   "metadata": {},
   "source": [
    "### Setting up the markov chain\n",
    "\n",
    "We can now set up the Markov-Chain to sample from the posterior, exactly as we did it for the regression example:"
   ]
  },
  {
   "cell_type": "markdown",
   "id": "0a7e2f9b-a428-4ad9-a02f-c62ed073a25f",
   "metadata": {},
   "source": [
    "### Parameter vector"
   ]
  },
  {
   "cell_type": "markdown",
   "id": "c5f1fe47-fd12-4d06-adf2-71864c83936a",
   "metadata": {},
   "source": [
    "In contrast to the previous notebook, we use not only the class `ShapeParameter`  to represent our parameters, but also pose parameters. The combo is already defined in Scalismo and is called `PoseAndShapeParameters`. The code below should make it clear how it it used. "
   ]
  },
  {
   "cell_type": "markdown",
   "id": "8451cdd9-c23a-4658-b6e4-fe312fc5e446",
   "metadata": {},
   "source": [
    "#### Evaluators"
   ]
  },
  {
   "cell_type": "markdown",
   "id": "1318820a-2c1c-446a-809a-0ce790856afa",
   "metadata": {},
   "source": [
    "We start by defining the priors for shape, translation and rotation"
   ]
  },
  {
   "cell_type": "code",
   "execution_count": 339,
   "id": "f7810653-93ea-4101-8f0f-355b4b3dce9f",
   "metadata": {},
   "outputs": [],
   "source": [
    "// Prior over the shape parameters.  \n",
    "case class ShapePriorEvaluator(model: PointDistributionModel[_3D, TriangleMesh])\n",
    "      extends MHDistributionEvaluator[PoseAndShapeParameters] {\n",
    "          \n",
    "    val shapeParameterPrior = MultivariateGaussian(DenseVector.zeros[Double](model.rank), DenseMatrix.eye[Double](model.rank))\n",
    "\n",
    "    override def logValue(sample: MHSample[PoseAndShapeParameters]): Double = {\n",
    "        shapeParameterPrior.logPdf(sample.parameters.shapeParameters.coefficients) \n",
    "    }\n",
    "  }\n",
    "\n"
   ]
  },
  {
   "cell_type": "code",
   "execution_count": 302,
   "id": "568b6a73-6a79-4a09-bee1-4e8682e3ee63",
   "metadata": {},
   "outputs": [],
   "source": [
    "// Prior over the shape parameters.  \n",
    "object TranslationPriorEvaluator  extends MHDistributionEvaluator[PoseAndShapeParameters] {\n",
    "          \n",
    "    val translationPriorParameterPrior = MultivariateGaussian(DenseVector.zeros[Double](3), DenseMatrix.eye[Double](3) * 3000.0)\n",
    "\n",
    "    override def logValue(sample: MHSample[PoseAndShapeParameters]): Double = {\n",
    "        translationPriorParameterPrior.logPdf(sample.parameters.translationParameters.translationVector.toBreezeVector) \n",
    "    }\n",
    "  }"
   ]
  },
  {
   "cell_type": "code",
   "execution_count": 341,
   "id": "5cf95939-40fd-4a66-bc03-582c72cb3c99",
   "metadata": {},
   "outputs": [],
   "source": [
    "// Prior over the shape parameters.  \n",
    "object RotationPriorEvaluator extends MHDistributionEvaluator[PoseAndShapeParameters] {\n",
    "          \n",
    "    val rotationPhiPrior = breeze.stats.distributions.Uniform(-2 * 3.141, 2 * 3.141)\n",
    "    val rotationPsiPrior = breeze.stats.distributions.Uniform(-2 * 3.141, 2 * 3.141)\n",
    "    val rotationThetaPrior = breeze.stats.distributions.Uniform(-2 * 3.141, 2 * 3.141)\n",
    "    \n",
    "\n",
    "    override def logValue(sample: MHSample[PoseAndShapeParameters]): Double = {\n",
    "        val (phi, psi, theta) = sample.parameters.rotationParameters.angles\n",
    "        rotationPhiPrior.logPdf(phi) + rotationPsiPrior.logPdf(psi) + rotationThetaPrior.logPdf(theta) \n",
    "    }\n",
    "  }"
   ]
  },
  {
   "cell_type": "markdown",
   "id": "49be134e-a876-4e2d-855d-6ae936977645",
   "metadata": {},
   "source": [
    "The contour evaluator is similar to the one in the previous notebook. There are two important differences:\n",
    "\n",
    "- It applies a rigid transformation to the shape before generating the contour\n",
    "- The distance between the genrated contour and the target contour is computed from the target contour. This makes it possible to work with target contours that are only partially given. "
   ]
  },
  {
   "cell_type": "code",
   "execution_count": 343,
   "id": "3453d353-695d-4a6e-b774-d26ad055a820",
   "metadata": {},
   "outputs": [],
   "source": [
    "// Likelihood\n",
    "case class ContourEvaluator(\n",
    "        model: PointDistributionModel[_3D, TriangleMesh],\n",
    "        targetContour: LineMesh[_2D], \n",
    "        sensorDistance : Int, \n",
    "        sourceLocation : Point[_3D], \n",
    "        noiseSigma : Double\n",
    "    ) extends MHDistributionEvaluator[PoseAndShapeParameters]:\n",
    "\n",
    "    def pointToBreezeVector(p : Point[_2D]) : DenseVector[Double] = \n",
    "        DenseVector[Double](p.x, p.y)\n",
    "    \n",
    "\n",
    "    override def logValue(sample: MHSample[PoseAndShapeParameters]): Double = \n",
    "        val poseTransformation = ContourEvaluator.transformFromPoseParameters(sample.parameters.rotationParameters, Point3D(0, 0, 0), sample.parameters.translationParameters)\n",
    "        val modelInstance = model.instance(sample.parameters.shapeParameters.coefficients).transform(poseTransformation)\n",
    "        val sampledContour = ContourRenderer.projectMeshContours(modelInstance, sensorDistance, sourceLocation)                \n",
    "    \n",
    "\n",
    "        val likelihoods = for contourPoint <- targetContour.pointSet.points yield            \n",
    "            val likelihoodDist = MultivariateGaussian(pointToBreezeVector(contourPoint), DenseMatrix.eye[Double](2) * noiseSigma)            \n",
    "            val closestSamplePoint = sampledContour.pointSet.findClosestPoint(contourPoint).point            \n",
    "            likelihoodDist.logPdf(pointToBreezeVector(closestSamplePoint))\n",
    "        likelihoods.sum    \n",
    "\n",
    "object ContourEvaluator:\n",
    "    // defines a rigid transformation for the given pose parameters. \n",
    "    def transformFromPoseParameters(rotationParameters : RotationParameters, rotationCenter : Point[_3D], translationParameters : TranslationParameters) : RigidTransformation[_3D] = \n",
    "\n",
    "        val (phi, psi, theta) = rotationParameters.angles\n",
    "        val rot = Rotation3D(phi, psi, theta, rotationCenter)\n",
    "        val translation = Translation3D(translationParameters.translationVector)\n",
    "        TranslationAfterRotation(translation, rot)\n",
    "        \n"
   ]
  },
  {
   "cell_type": "markdown",
   "id": "f3f198f8-e4b1-45db-86ee-3d57d2dbb2f2",
   "metadata": {},
   "source": [
    "The posterior is defined as always:"
   ]
  },
  {
   "cell_type": "code",
   "execution_count": 344,
   "id": "f02aa3f3-9487-44cf-bb44-b9e3ba2a812a",
   "metadata": {},
   "outputs": [],
   "source": [
    "val likelihoodEvaluator = ContourEvaluator(vertebraModel, targetContour, sensorDistance, sourceLocation, noiseSigma).cached\n",
    "val priorEvaluator = ProductEvaluator(TranslationPriorEvaluator.cached, ShapePriorEvaluator(vertebraModel).cached, RotationPriorEvaluator.cached)\n",
    "val posteriorEvaluator = ProductEvaluator(likelihoodEvaluator, priorEvaluator)"
   ]
  },
  {
   "cell_type": "markdown",
   "id": "eec1bd89-5784-4206-b55e-480a07c3e50f",
   "metadata": {},
   "source": [
    "#### Proposals\n",
    "\n",
    "Next we define the proposals for the Metropolis-Hastings algorithm. As we are dealing with more parameters, we need more sophisticated proposals. See [Tutorial 15](https://scalismo.org/docs/Tutorials/tutorial15) of the Scalismo documentation for details on how to set up such proposals. "
   ]
  },
  {
   "cell_type": "code",
   "execution_count": 345,
   "id": "ba51715a-eed8-481e-8553-466e84b98d69",
   "metadata": {},
   "outputs": [],
   "source": [
    "val identTranslationProposal = MHIdentityProposal.forType[TranslationParameters]\n",
    "val identRotationProposal = MHIdentityProposal.forType[RotationParameters]\n",
    "val identShapeProposal = MHIdentityProposal.forType[ShapeParameters]\n"
   ]
  },
  {
   "cell_type": "code",
   "execution_count": 347,
   "id": "cf69bae3-693e-492d-90c4-6bdfd4f8cc50",
   "metadata": {},
   "outputs": [],
   "source": [
    "val shapeProposal =\n",
    "    GaussianRandomWalkProposal(0.05, \"shape\")\n",
    "      .forType[ShapeParameters]\n",
    "\n",
    "val shapeOnlyProposal = MHProductProposal(\n",
    "    identTranslationProposal, \n",
    "    identRotationProposal, \n",
    "    shapeProposal\n",
    ").forType[PoseAndShapeParameters]\n",
    "  .relabel(\"shape-only\")"
   ]
  },
  {
   "cell_type": "code",
   "execution_count": 348,
   "id": "2d91048b-7bca-45fa-94ae-0770ddc77189",
   "metadata": {},
   "outputs": [],
   "source": [
    "val translationProposal = MHProductProposal(\n",
    "    GaussianRandomWalkProposal(0.1, \"tx\").forType[Double],\n",
    "    GaussianRandomWalkProposal(0.1, \"ty\").forType[Double],\n",
    "    GaussianRandomWalkProposal(0.1, \"tz\").forType[Double]\n",
    "  ).forType[TranslationParameters]\n",
    "    .relabel(\"translation-only\")\n",
    "\n",
    "val translationOnlyProposal = MHProductProposal(\n",
    "    translationProposal, \n",
    "    identRotationProposal,\n",
    "    identShapeProposal\n",
    ").forType[PoseAndShapeParameters]\n",
    "    "
   ]
  },
  {
   "cell_type": "code",
   "execution_count": 349,
   "id": "eea80f70-7fc8-4d4a-b47c-da69146b0758",
   "metadata": {},
   "outputs": [],
   "source": [
    "val rotationProposal = MHProductProposal(\n",
    "    GaussianRandomWalkProposal(0.01, \"rx\").forType[Double],\n",
    "    GaussianRandomWalkProposal(0.01, \"ry\").forType[Double],\n",
    "    GaussianRandomWalkProposal(0.01, \"rz\").forType[Double]\n",
    "  ).forType[RotationParameters].relabel(\"rotation-only\")\n",
    "\n",
    "val rotationOnlyProposal = MHProductProposal(\n",
    "    identTranslationProposal, \n",
    "    rotationProposal,\n",
    "    identShapeProposal\n",
    ").forType[PoseAndShapeParameters]\n",
    "    "
   ]
  },
  {
   "cell_type": "code",
   "execution_count": 350,
   "id": "f5d68f6a-8d69-4d4c-af40-9c6d885510e6",
   "metadata": {},
   "outputs": [],
   "source": [
    "  val mixturePoseAndShapeProposal = MHMixtureProposal(\n",
    "    (0.5, shapeOnlyProposal),\n",
    "    (0.3, translationOnlyProposal), \n",
    "    (0.2, rotationOnlyProposal)\n",
    "  )"
   ]
  },
  {
   "cell_type": "markdown",
   "id": "dd3a6aaf-2fa7-41d1-ac7f-81990fd70247",
   "metadata": {},
   "source": [
    "#### Putting it together"
   ]
  },
  {
   "cell_type": "markdown",
   "id": "47df4a78-fea3-471a-bf0f-99772eca2352",
   "metadata": {},
   "source": [
    "We can now put everything together:"
   ]
  },
  {
   "cell_type": "code",
   "execution_count": 351,
   "id": "b9b6cd68-661b-4c0b-9bdd-279030667ceb",
   "metadata": {},
   "outputs": [],
   "source": [
    "val logger = MHSampleLogger[PoseAndShapeParameters]()\n",
    "val chain = MetropolisHastings(mixturePoseAndShapeProposal, posteriorEvaluator)\n",
    "\n",
    "val initialParameters = PoseAndShapeParameters(\n",
    "    TranslationParameters(EuclideanVector3D(0,0,0)), \n",
    "    RotationParameters(0.0, 0.0, 0.0), \n",
    "    ShapeParameters(DenseVector.zeros[Double](vertebraModel.rank))\n",
    ")\n",
    "val mhIterator = chain.iterator(MHSample(initialParameters, \"inital\"), logger)"
   ]
  },
  {
   "cell_type": "markdown",
   "id": "b23e7b17-1af5-48ea-92aa-672a786be00b",
   "metadata": {},
   "source": [
    "Let's draw some samples from the posterior:"
   ]
  },
  {
   "cell_type": "code",
   "execution_count": 352,
   "id": "5aafb4d3-4aa8-459a-a88f-6e97e97456d7",
   "metadata": {},
   "outputs": [],
   "source": [
    "val samples = mhIterator.drop(1000).take(2000).toIndexedSeq"
   ]
  },
  {
   "cell_type": "markdown",
   "id": "b3bc75d2-a98e-4bed-a31c-8ed3346dffbd",
   "metadata": {},
   "source": [
    "The most likely reconstruction is given by the sample with the highest posterior value"
   ]
  },
  {
   "cell_type": "code",
   "execution_count": 354,
   "id": "21478b25-3456-42ce-987e-09541fc56963",
   "metadata": {},
   "outputs": [],
   "source": [
    "val bestSample = samples.maxBy(posteriorEvaluator.logValue)"
   ]
  },
  {
   "cell_type": "code",
   "execution_count": 355,
   "id": "e5e6f9ba-3d97-480b-90bd-db8f0704d4a2",
   "metadata": {},
   "outputs": [
    {
     "name": "stdout",
     "output_type": "stream",
     "text": [
      "MHSample(PoseAndShapeParameters(TranslationParameters(EuclideanVector3D(10.163874461816134,4.953579743645959,1.0176895803567463)),RotationParameters((0.10143373490055904,-0.00624380661466218,0.020020974377081103)),ShapeParameters(DenseVector(-3.369778893498745, 1.1002410042167976, 1.1696737600027878, 0.17246752554275618, 0.34601965883345887, 0.5603145900174371, -0.1472078056954078, -0.21461492331131485, 0.15984184446305966, 1.1760275035078982E-4, -0.052033522549111276, 0.535166708172643, -0.23886445520303765, -0.13588098654586495, 0.011068766460030327, -0.16410563078676413, 0.01844621195431312, 0.3010565062358839, 0.26790076730124024, 0.26534189402072295, -0.5758788239186644, -0.08750480781784949, 0.3742702142802216, -0.23659985611228157, -0.009586817583193172, -0.33619815125031616, -0.23642060542469318, 0.26736087920251494, 0.19526849091553009, -0.06996204506666334, -0.619901417517372, 0.6943271323645552, 0.3071989677994909, -0.42525561506497717, 0.21906450070005298, -0.3057380260495346, -0.4864918468271005, -0.5764564916483, -0.6279721751224921, 0.026036385969405704, -0.17933498759740596, 0.1288393849115778, 0.37491729243641275, -0.09659014693685136, 0.2882216537048731, -0.7037894501368718, 0.3132926025273019, -0.6525455092211947, 0.16024088101070638, 0.17877856279801063, -0.4481087322294872, 0.3492050199152805, 0.10960703483645537, 0.29164217706793605, -0.0634211724854496))),(translation-only, ident, ident))\n"
     ]
    }
   ],
   "source": [
    "println(bestSample)"
   ]
  },
  {
   "cell_type": "markdown",
   "id": "6c9af10e-5284-432b-860f-c6fe726a60ed",
   "metadata": {},
   "source": [
    "This does not mean, however, that fitting did not work. Let's visualize the result:"
   ]
  },
  {
   "cell_type": "code",
   "execution_count": 356,
   "id": "a823361b-b683-4723-9954-986ef1fd8f3e",
   "metadata": {},
   "outputs": [
    {
     "data": {
      "image/png": "[encoded data removed]"
     },
     "metadata": {},
     "output_type": "display_data"
    }
   ],
   "source": [
    "val bestMesh = vertebraModel.instance(bestSample.parameters.shapeParameters.coefficients)\n",
    "    .transform(transformFromPoseParameters(bestSample.parameters.rotationParameters, Point3D(0,0,0), bestSample.parameters.translationParameters))\n",
    "val bestConour = ContourRenderer.projectMeshContours(bestMesh, sensorDistance, sourceLocation)\n",
    "ContourRenderer.renderMeshContours(Seq((bestConour, RGB(1.0, 0, 0)), (targetContour, RGB(0, 0, 1.0))), 1000, 1000).show()"
   ]
  },
  {
   "cell_type": "markdown",
   "id": "b5281000-4420-4d18-a69b-22bb867eb734",
   "metadata": {},
   "source": [
    "As we see, the two contours are really close together. Let's see how the reconstruction looks like:"
   ]
  },
  {
   "cell_type": "code",
   "execution_count": 357,
   "id": "c8f73db8-7203-446b-b890-419a00d688fe",
   "metadata": {},
   "outputs": [
    {
     "data": {
      "image/png": "[encoded data removed]"
     },
     "metadata": {},
     "output_type": "display_data"
    }
   ],
   "source": [
    "def render(mesh : TriangleMesh[_3D]) : Unit = \n",
    "    Renderer.renderMesh(mesh, RGB.White, Point3D(0, 0, 250), 256, 256).show()\n",
    "render(bestMesh)\n"
   ]
  },
  {
   "cell_type": "markdown",
   "id": "b1f65036-06a5-43cc-9682-ee279f2780b1",
   "metadata": {},
   "source": [
    "Now we show some more contours"
   ]
  },
  {
   "cell_type": "code",
   "execution_count": 359,
   "id": "fabd12a7-6801-4f04-b45b-2b371172609c",
   "metadata": {},
   "outputs": [
    {
     "data": {
      "image/png": "[encoded data removed]"
     },
     "metadata": {},
     "output_type": "display_data"
    }
   ],
   "source": [
    "val numContours = 30\n",
    "val someContours = for sample <- samples.grouped(samples.length / numContours).map(_.head).toIndexedSeq yield \n",
    "    val mesh = vertebraModel.instance(sample.parameters.shapeParameters.coefficients)\n",
    "    .transform(transformFromPoseParameters(sample.parameters.rotationParameters, Point3D(0,0,0), sample.parameters.translationParameters))\n",
    "    ContourRenderer.projectMeshContours(mesh, sensorDistance, sourceLocation)\n",
    "\n",
    "val coloredContours = (targetContour, RGB(0, 0, 1.0)) +: someContours.map(c => (c, RGB(1.0, 0, 0)))\n",
    "ContourRenderer.renderMeshContours(coloredContours, 1000, 1000).show()"
   ]
  },
  {
   "cell_type": "code",
   "execution_count": 362,
   "id": "a8f7a876-9c0f-4290-a191-646ba3bb8228",
   "metadata": {},
   "outputs": [
    {
     "data": {
      "application/vnd.vega.v5+json": {
       "$schema": "https://vega.github.io/schema/vega-lite/v5.json",
       "data": {
        "values": [
         {
          "coeff-0": "-3.173576787331284",
          "coeff-1": "0.7242362354400719",
          "coeff-2": "0.45496867248134243"
         },
         {
          "coeff-0": "-3.173576787331284",
          "coeff-1": "0.7242362354400719",
          "coeff-2": "0.45496867248134243"
         },
         {
          "coeff-0": "-3.173576787331284",
          "coeff-1": "0.7242362354400719",
          "coeff-2": "0.45496867248134243"
         },
         {
          "coeff-0": "-3.173576787331284",
          "coeff-1": "0.7242362354400719",
          "coeff-2": "0.45496867248134243"
         },
         {
          "coeff-0": "-3.173576787331284",
          "coeff-1": "0.7242362354400719",
          "coeff-2": "0.45496867248134243"
         },
         {
          "coeff-0": "-3.173576787331284",
          "coeff-1": "0.7242362354400719",
          "coeff-2": "0.45496867248134243"
         },
         {
          "coeff-0": "-3.173576787331284",
          "coeff-1": "0.7242362354400719",
          "coeff-2": "0.45496867248134243"
         },
         {
          "coeff-0": "-3.2509571570985116",
          "coeff-1": "0.7744555995437549",
          "coeff-2": "0.39077049879255277"
         },
         {
          "coeff-0": "-3.2509571570985116",
          "coeff-1": "0.7744555995437549",
          "coeff-2": "0.39077049879255277"
         },
         {
          "coeff-0": "-3.2509571570985116",
          "coeff-1": "0.7744555995437549",
          "coeff-2": "0.39077049879255277"
         },
         {
          "coeff-0": "-3.2509571570985116",
          "coeff-1": "0.7744555995437549",
          "coeff-2": "0.39077049879255277"
         },
         {
          "coeff-0": "-3.2509571570985116",
          "coeff-1": "0.7744555995437549",
          "coeff-2": "0.39077049879255277"
         },
         {
          "coeff-0": "-3.2509571570985116",
          "coeff-1": "0.7744555995437549",
          "coeff-2": "0.39077049879255277"
         },
         {
          "coeff-0": "-3.2509571570985116",
          "coeff-1": "0.7744555995437549",
          "coeff-2": "0.39077049879255277"
         },
         {
          "coeff-0": "-3.2752010742038156",
          "coeff-1": "0.8250510293485966",
          "coeff-2": "0.3926525557789777"
         },
         {
          "coeff-0": "-3.2752010742038156",
          "coeff-1": "0.8250510293485966",
          "coeff-2": "0.3926525557789777"
         },
         {
          "coeff-0": "-3.2752010742038156",
          "coeff-1": "0.8250510293485966",
          "coeff-2": "0.3926525557789777"
         },
         {
          "coeff-0": "-3.2752010742038156",
          "coeff-1": "0.8250510293485966",
          "coeff-2": "0.3926525557789777"
         },
         {
          "coeff-0": "-3.2752010742038156",
          "coeff-1": "0.8250510293485966",
          "coeff-2": "0.3926525557789777"
         },
         {
          "coeff-0": "-3.22996510597778",
          "coeff-1": "0.8888219143046305",
          "coeff-2": "0.40003865268969807"
         },
         {
          "coeff-0": "-3.22996510597778",
          "coeff-1": "0.8888219143046305",
          "coeff-2": "0.40003865268969807"
         },
         {
          "coeff-0": "-3.22996510597778",
          "coeff-1": "0.8888219143046305",
          "coeff-2": "0.40003865268969807"
         },
         {
          "coeff-0": "-3.2774559606758276",
          "coeff-1": "0.8993343455502733",
          "coeff-2": "0.28775234405518896"
         },
         {
          "coeff-0": "-3.2774559606758276",
          "coeff-1": "0.8993343455502733",
          "coeff-2": "0.28775234405518896"
         },
         {
          "coeff-0": "-3.2774559606758276",
          "coeff-1": "0.8993343455502733",
          "coeff-2": "0.28775234405518896"
         },
         {
          "coeff-0": "-3.2774559606758276",
          "coeff-1": "0.8993343455502733",
          "coeff-2": "0.28775234405518896"
         },
         {
          "coeff-0": "-3.2774559606758276",
          "coeff-1": "0.8993343455502733",
          "coeff-2": "0.28775234405518896"
         },
         {
          "coeff-0": "-3.2774559606758276",
          "coeff-1": "0.8993343455502733",
          "coeff-2": "0.28775234405518896"
         },
         {
          "coeff-0": "-3.2631475556496308",
          "coeff-1": "0.9045403475084001",
          "coeff-2": "0.33987884069954505"
         },
         {
          "coeff-0": "-3.2631475556496308",
          "coeff-1": "0.9045403475084001",
          "coeff-2": "0.33987884069954505"
         },
         {
          "coeff-0": "-3.2435684249698022",
          "coeff-1": "0.8718201877412011",
          "coeff-2": "0.364172926590391"
         },
         {
          "coeff-0": "-3.2435684249698022",
          "coeff-1": "0.8718201877412011",
          "coeff-2": "0.364172926590391"
         },
         {
          "coeff-0": "-3.2435684249698022",
          "coeff-1": "0.8718201877412011",
          "coeff-2": "0.364172926590391"
         },
         {
          "coeff-0": "-3.2435684249698022",
          "coeff-1": "0.8718201877412011",
          "coeff-2": "0.364172926590391"
         },
         {
          "coeff-0": "-3.2435684249698022",
          "coeff-1": "0.8718201877412011",
          "coeff-2": "0.364172926590391"
         },
         {
          "coeff-0": "-3.2435684249698022",
          "coeff-1": "0.8718201877412011",
          "coeff-2": "0.364172926590391"
         },
         {
          "coeff-0": "-3.2435684249698022",
          "coeff-1": "0.8718201877412011",
          "coeff-2": "0.364172926590391"
         },
         {
          "coeff-0": "-3.2435684249698022",
          "coeff-1": "0.8718201877412011",
          "coeff-2": "0.364172926590391"
         },
         {
          "coeff-0": "-3.2435684249698022",
          "coeff-1": "0.8718201877412011",
          "coeff-2": "0.364172926590391"
         },
         {
          "coeff-0": "-3.2435684249698022",
          "coeff-1": "0.8718201877412011",
          "coeff-2": "0.364172926590391"
         },
         {
          "coeff-0": "-3.2435684249698022",
          "coeff-1": "0.8718201877412011",
          "coeff-2": "0.364172926590391"
         },
         {
          "coeff-0": "-3.2435684249698022",
          "coeff-1": "0.8718201877412011",
          "coeff-2": "0.364172926590391"
         },
         {
          "coeff-0": "-3.2435684249698022",
          "coeff-1": "0.8718201877412011",
          "coeff-2": "0.364172926590391"
         },
         {
          "coeff-0": "-3.2435684249698022",
          "coeff-1": "0.8718201877412011",
          "coeff-2": "0.364172926590391"
         },
         {
          "coeff-0": "-3.2435684249698022",
          "coeff-1": "0.8718201877412011",
          "coeff-2": "0.364172926590391"
         },
         {
          "coeff-0": "-3.2435684249698022",
          "coeff-1": "0.8718201877412011",
          "coeff-2": "0.364172926590391"
         },
         {
          "coeff-0": "-3.2435684249698022",
          "coeff-1": "0.8718201877412011",
          "coeff-2": "0.364172926590391"
         },
         {
          "coeff-0": "-3.2435684249698022",
          "coeff-1": "0.8718201877412011",
          "coeff-2": "0.364172926590391"
         },
         {
          "coeff-0": "-3.2435684249698022",
          "coeff-1": "0.8718201877412011",
          "coeff-2": "0.364172926590391"
         },
         {
          "coeff-0": "-3.2435684249698022",
          "coeff-1": "0.8718201877412011",
          "coeff-2": "0.364172926590391"
         },
         {
          "coeff-0": "-3.2435684249698022",
          "coeff-1": "0.8718201877412011",
          "coeff-2": "0.364172926590391"
         },
         {
          "coeff-0": "-3.2435684249698022",
          "coeff-1": "0.8718201877412011",
          "coeff-2": "0.364172926590391"
         },
         {
          "coeff-0": "-3.2435684249698022",
          "coeff-1": "0.8718201877412011",
          "coeff-2": "0.364172926590391"
         },
         {
          "coeff-0": "-3.2435684249698022",
          "coeff-1": "0.8718201877412011",
          "coeff-2": "0.364172926590391"
         },
         {
          "coeff-0": "-3.2435684249698022",
          "coeff-1": "0.8718201877412011",
          "coeff-2": "0.364172926590391"
         },
         {
          "coeff-0": "-3.2435684249698022",
          "coeff-1": "0.8718201877412011",
          "coeff-2": "0.364172926590391"
         },
         {
          "coeff-0": "-3.2435684249698022",
          "coeff-1": "0.8718201877412011",
          "coeff-2": "0.364172926590391"
         },
         {
          "coeff-0": "-3.2435684249698022",
          "coeff-1": "0.8718201877412011",
          "coeff-2": "0.364172926590391"
         },
         {
          "coeff-0": "-3.2435684249698022",
          "coeff-1": "0.8718201877412011",
          "coeff-2": "0.364172926590391"
         },
         {
          "coeff-0": "-3.2435684249698022",
          "coeff-1": "0.8718201877412011",
          "coeff-2": "0.364172926590391"
         },
         {
          "coeff-0": "-3.2435684249698022",
          "coeff-1": "0.8718201877412011",
          "coeff-2": "0.364172926590391"
         },
         {
          "coeff-0": "-3.2435684249698022",
          "coeff-1": "0.8718201877412011",
          "coeff-2": "0.364172926590391"
         },
         {
          "coeff-0": "-3.2435684249698022",
          "coeff-1": "0.8718201877412011",
          "coeff-2": "0.364172926590391"
         },
         {
          "coeff-0": "-3.2435684249698022",
          "coeff-1": "0.8718201877412011",
          "coeff-2": "0.364172926590391"
         },
         {
          "coeff-0": "-3.2435684249698022",
          "coeff-1": "0.8718201877412011",
          "coeff-2": "0.364172926590391"
         },
         {
          "coeff-0": "-3.2435684249698022",
          "coeff-1": "0.8718201877412011",
          "coeff-2": "0.364172926590391"
         },
         {
          "coeff-0": "-3.2435684249698022",
          "coeff-1": "0.8718201877412011",
          "coeff-2": "0.364172926590391"
         },
         {
          "coeff-0": "-3.2435684249698022",
          "coeff-1": "0.8718201877412011",
          "coeff-2": "0.364172926590391"
         },
         {
          "coeff-0": "-3.2435684249698022",
          "coeff-1": "0.8718201877412011",
          "coeff-2": "0.364172926590391"
         },
         {
          "coeff-0": "-3.2435684249698022",
          "coeff-1": "0.8718201877412011",
          "coeff-2": "0.364172926590391"
         },
         {
          "coeff-0": "-3.22735448846821",
          "coeff-1": "0.8663690750041244",
          "coeff-2": "0.43180107357985775"
         },
         {
          "coeff-0": "-3.22735448846821",
          "coeff-1": "0.8663690750041244",
          "coeff-2": "0.43180107357985775"
         },
         {
          "coeff-0": "-3.22735448846821",
          "coeff-1": "0.8663690750041244",
          "coeff-2": "0.43180107357985775"
         },
         {
          "coeff-0": "-3.22735448846821",
          "coeff-1": "0.8663690750041244",
          "coeff-2": "0.43180107357985775"
         },
         {
          "coeff-0": "-3.22735448846821",
          "coeff-1": "0.8663690750041244",
          "coeff-2": "0.43180107357985775"
         },
         {
          "coeff-0": "-3.245778740226551",
          "coeff-1": "0.8530794444613783",
          "coeff-2": "0.39083297113725185"
         },
         {
          "coeff-0": "-3.2196553748735863",
          "coeff-1": "0.8491496904947804",
          "coeff-2": "0.3478874345668664"
         },
         {
          "coeff-0": "-3.2196553748735863",
          "coeff-1": "0.8491496904947804",
          "coeff-2": "0.3478874345668664"
         },
         {
          "coeff-0": "-3.2196553748735863",
          "coeff-1": "0.8491496904947804",
          "coeff-2": "0.3478874345668664"
         },
         {
          "coeff-0": "-3.2196553748735863",
          "coeff-1": "0.8491496904947804",
          "coeff-2": "0.3478874345668664"
         },
         {
          "coeff-0": "-3.2196553748735863",
          "coeff-1": "0.8491496904947804",
          "coeff-2": "0.3478874345668664"
         },
         {
          "coeff-0": "-3.2196553748735863",
          "coeff-1": "0.8491496904947804",
          "coeff-2": "0.3478874345668664"
         },
         {
          "coeff-0": "-3.2196553748735863",
          "coeff-1": "0.8491496904947804",
          "coeff-2": "0.3478874345668664"
         },
         {
          "coeff-0": "-3.2196553748735863",
          "coeff-1": "0.8491496904947804",
          "coeff-2": "0.3478874345668664"
         },
         {
          "coeff-0": "-3.2129908250293973",
          "coeff-1": "0.8305169611420745",
          "coeff-2": "0.3406796485240145"
         },
         {
          "coeff-0": "-3.2129908250293973",
          "coeff-1": "0.8305169611420745",
          "coeff-2": "0.3406796485240145"
         },
         {
          "coeff-0": "-3.2129908250293973",
          "coeff-1": "0.8305169611420745",
          "coeff-2": "0.3406796485240145"
         },
         {
          "coeff-0": "-3.2129908250293973",
          "coeff-1": "0.8305169611420745",
          "coeff-2": "0.3406796485240145"
         },
         {
          "coeff-0": "-3.2129908250293973",
          "coeff-1": "0.8305169611420745",
          "coeff-2": "0.3406796485240145"
         },
         {
          "coeff-0": "-3.2129908250293973",
          "coeff-1": "0.8305169611420745",
          "coeff-2": "0.3406796485240145"
         },
         {
          "coeff-0": "-3.2129908250293973",
          "coeff-1": "0.8305169611420745",
          "coeff-2": "0.3406796485240145"
         },
         {
          "coeff-0": "-3.19681830215033",
          "coeff-1": "0.9365660163122564",
          "coeff-2": "0.3252284581861792"
         },
         {
          "coeff-0": "-3.19681830215033",
          "coeff-1": "0.9365660163122564",
          "coeff-2": "0.3252284581861792"
         },
         {
          "coeff-0": "-3.268842402804278",
          "coeff-1": "0.938877208096473",
          "coeff-2": "0.29950442649528003"
         },
         {
          "coeff-0": "-3.268842402804278",
          "coeff-1": "0.938877208096473",
          "coeff-2": "0.29950442649528003"
         },
         {
          "coeff-0": "-3.268842402804278",
          "coeff-1": "0.938877208096473",
          "coeff-2": "0.29950442649528003"
         },
         {
          "coeff-0": "-3.268842402804278",
          "coeff-1": "0.938877208096473",
          "coeff-2": "0.29950442649528003"
         },
         {
          "coeff-0": "-3.268842402804278",
          "coeff-1": "0.938877208096473",
          "coeff-2": "0.29950442649528003"
         },
         {
          "coeff-0": "-3.268842402804278",
          "coeff-1": "0.938877208096473",
          "coeff-2": "0.29950442649528003"
         },
         {
          "coeff-0": "-3.268842402804278",
          "coeff-1": "0.938877208096473",
          "coeff-2": "0.29950442649528003"
         },
         {
          "coeff-0": "-3.268842402804278",
          "coeff-1": "0.938877208096473",
          "coeff-2": "0.29950442649528003"
         },
         {
          "coeff-0": "-3.268842402804278",
          "coeff-1": "0.938877208096473",
          "coeff-2": "0.29950442649528003"
         },
         {
          "coeff-0": "-3.268842402804278",
          "coeff-1": "0.938877208096473",
          "coeff-2": "0.29950442649528003"
         },
         {
          "coeff-0": "-3.268842402804278",
          "coeff-1": "0.938877208096473",
          "coeff-2": "0.29950442649528003"
         },
         {
          "coeff-0": "-3.268842402804278",
          "coeff-1": "0.938877208096473",
          "coeff-2": "0.29950442649528003"
         },
         {
          "coeff-0": "-3.268842402804278",
          "coeff-1": "0.938877208096473",
          "coeff-2": "0.29950442649528003"
         },
         {
          "coeff-0": "-3.268842402804278",
          "coeff-1": "0.938877208096473",
          "coeff-2": "0.29950442649528003"
         },
         {
          "coeff-0": "-3.268842402804278",
          "coeff-1": "0.938877208096473",
          "coeff-2": "0.29950442649528003"
         },
         {
          "coeff-0": "-3.268842402804278",
          "coeff-1": "0.938877208096473",
          "coeff-2": "0.29950442649528003"
         },
         {
          "coeff-0": "-3.268842402804278",
          "coeff-1": "0.938877208096473",
          "coeff-2": "0.29950442649528003"
         },
         {
          "coeff-0": "-3.268842402804278",
          "coeff-1": "0.938877208096473",
          "coeff-2": "0.29950442649528003"
         },
         {
          "coeff-0": "-3.268842402804278",
          "coeff-1": "0.938877208096473",
          "coeff-2": "0.29950442649528003"
         },
         {
          "coeff-0": "-3.268842402804278",
          "coeff-1": "0.938877208096473",
          "coeff-2": "0.29950442649528003"
         },
         {
          "coeff-0": "-3.268842402804278",
          "coeff-1": "0.938877208096473",
          "coeff-2": "0.29950442649528003"
         },
         {
          "coeff-0": "-3.268842402804278",
          "coeff-1": "0.938877208096473",
          "coeff-2": "0.29950442649528003"
         },
         {
          "coeff-0": "-3.268842402804278",
          "coeff-1": "0.938877208096473",
          "coeff-2": "0.29950442649528003"
         },
         {
          "coeff-0": "-3.268842402804278",
          "coeff-1": "0.938877208096473",
          "coeff-2": "0.29950442649528003"
         },
         {
          "coeff-0": "-3.268842402804278",
          "coeff-1": "0.938877208096473",
          "coeff-2": "0.29950442649528003"
         },
         {
          "coeff-0": "-3.268842402804278",
          "coeff-1": "0.938877208096473",
          "coeff-2": "0.29950442649528003"
         },
         {
          "coeff-0": "-3.268842402804278",
          "coeff-1": "0.938877208096473",
          "coeff-2": "0.29950442649528003"
         },
         {
          "coeff-0": "-3.268842402804278",
          "coeff-1": "0.938877208096473",
          "coeff-2": "0.29950442649528003"
         },
         {
          "coeff-0": "-3.268842402804278",
          "coeff-1": "0.938877208096473",
          "coeff-2": "0.29950442649528003"
         },
         {
          "coeff-0": "-3.268842402804278",
          "coeff-1": "0.938877208096473",
          "coeff-2": "0.29950442649528003"
         },
         {
          "coeff-0": "-3.268842402804278",
          "coeff-1": "0.938877208096473",
          "coeff-2": "0.29950442649528003"
         },
         {
          "coeff-0": "-3.268842402804278",
          "coeff-1": "0.938877208096473",
          "coeff-2": "0.29950442649528003"
         },
         {
          "coeff-0": "-3.268842402804278",
          "coeff-1": "0.938877208096473",
          "coeff-2": "0.29950442649528003"
         },
         {
          "coeff-0": "-3.268842402804278",
          "coeff-1": "0.938877208096473",
          "coeff-2": "0.29950442649528003"
         },
         {
          "coeff-0": "-3.268842402804278",
          "coeff-1": "0.938877208096473",
          "coeff-2": "0.29950442649528003"
         },
         {
          "coeff-0": "-3.268842402804278",
          "coeff-1": "0.938877208096473",
          "coeff-2": "0.29950442649528003"
         },
         {
          "coeff-0": "-3.268842402804278",
          "coeff-1": "0.938877208096473",
          "coeff-2": "0.29950442649528003"
         },
         {
          "coeff-0": "-3.268842402804278",
          "coeff-1": "0.938877208096473",
          "coeff-2": "0.29950442649528003"
         },
         {
          "coeff-0": "-3.268842402804278",
          "coeff-1": "0.938877208096473",
          "coeff-2": "0.29950442649528003"
         },
         {
          "coeff-0": "-3.268842402804278",
          "coeff-1": "0.938877208096473",
          "coeff-2": "0.29950442649528003"
         },
         {
          "coeff-0": "-3.268842402804278",
          "coeff-1": "0.938877208096473",
          "coeff-2": "0.29950442649528003"
         },
         {
          "coeff-0": "-3.268842402804278",
          "coeff-1": "0.938877208096473",
          "coeff-2": "0.29950442649528003"
         },
         {
          "coeff-0": "-3.268842402804278",
          "coeff-1": "0.938877208096473",
          "coeff-2": "0.29950442649528003"
         },
         {
          "coeff-0": "-3.268842402804278",
          "coeff-1": "0.938877208096473",
          "coeff-2": "0.29950442649528003"
         },
         {
          "coeff-0": "-3.268842402804278",
          "coeff-1": "0.938877208096473",
          "coeff-2": "0.29950442649528003"
         },
         {
          "coeff-0": "-3.268842402804278",
          "coeff-1": "0.938877208096473",
          "coeff-2": "0.29950442649528003"
         },
         {
          "coeff-0": "-3.268842402804278",
          "coeff-1": "0.938877208096473",
          "coeff-2": "0.29950442649528003"
         },
         {
          "coeff-0": "-3.268842402804278",
          "coeff-1": "0.938877208096473",
          "coeff-2": "0.29950442649528003"
         },
         {
          "coeff-0": "-3.268842402804278",
          "coeff-1": "0.938877208096473",
          "coeff-2": "0.29950442649528003"
         },
         {
          "coeff-0": "-3.268842402804278",
          "coeff-1": "0.938877208096473",
          "coeff-2": "0.29950442649528003"
         },
         {
          "coeff-0": "-3.268842402804278",
          "coeff-1": "0.938877208096473",
          "coeff-2": "0.29950442649528003"
         },
         {
          "coeff-0": "-3.268842402804278",
          "coeff-1": "0.938877208096473",
          "coeff-2": "0.29950442649528003"
         },
         {
          "coeff-0": "-3.268842402804278",
          "coeff-1": "0.938877208096473",
          "coeff-2": "0.29950442649528003"
         },
         {
          "coeff-0": "-3.268842402804278",
          "coeff-1": "0.938877208096473",
          "coeff-2": "0.29950442649528003"
         },
         {
          "coeff-0": "-3.268842402804278",
          "coeff-1": "0.938877208096473",
          "coeff-2": "0.29950442649528003"
         },
         {
          "coeff-0": "-3.268842402804278",
          "coeff-1": "0.938877208096473",
          "coeff-2": "0.29950442649528003"
         },
         {
          "coeff-0": "-3.268842402804278",
          "coeff-1": "0.938877208096473",
          "coeff-2": "0.29950442649528003"
         },
         {
          "coeff-0": "-3.268842402804278",
          "coeff-1": "0.938877208096473",
          "coeff-2": "0.29950442649528003"
         },
         {
          "coeff-0": "-3.268842402804278",
          "coeff-1": "0.938877208096473",
          "coeff-2": "0.29950442649528003"
         },
         {
          "coeff-0": "-3.268842402804278",
          "coeff-1": "0.938877208096473",
          "coeff-2": "0.29950442649528003"
         },
         {
          "coeff-0": "-3.2553505904329088",
          "coeff-1": "0.9997237177263041",
          "coeff-2": "0.23306763462490193"
         },
         {
          "coeff-0": "-3.2553505904329088",
          "coeff-1": "0.9997237177263041",
          "coeff-2": "0.23306763462490193"
         },
         {
          "coeff-0": "-3.2553505904329088",
          "coeff-1": "0.9997237177263041",
          "coeff-2": "0.23306763462490193"
         },
         {
          "coeff-0": "-3.2553505904329088",
          "coeff-1": "0.9997237177263041",
          "coeff-2": "0.23306763462490193"
         },
         {
          "coeff-0": "-3.2553505904329088",
          "coeff-1": "0.9997237177263041",
          "coeff-2": "0.23306763462490193"
         },
         {
          "coeff-0": "-3.2553505904329088",
          "coeff-1": "0.9997237177263041",
          "coeff-2": "0.23306763462490193"
         },
         {
          "coeff-0": "-3.249205329602208",
          "coeff-1": "0.9826015539968233",
          "coeff-2": "0.29768792292488716"
         },
         {
          "coeff-0": "-3.249205329602208",
          "coeff-1": "0.9826015539968233",
          "coeff-2": "0.29768792292488716"
         },
         {
          "coeff-0": "-3.249205329602208",
          "coeff-1": "0.9826015539968233",
          "coeff-2": "0.29768792292488716"
         },
         {
          "coeff-0": "-3.249205329602208",
          "coeff-1": "0.9826015539968233",
          "coeff-2": "0.29768792292488716"
         },
         {
          "coeff-0": "-3.249205329602208",
          "coeff-1": "0.9826015539968233",
          "coeff-2": "0.29768792292488716"
         },
         {
          "coeff-0": "-3.249205329602208",
          "coeff-1": "0.9826015539968233",
          "coeff-2": "0.29768792292488716"
         },
         {
          "coeff-0": "-3.2602534948156925",
          "coeff-1": "1.0012563012663145",
          "coeff-2": "0.3242946915495235"
         },
         {
          "coeff-0": "-3.2065026190351325",
          "coeff-1": "1.0544614070985134",
          "coeff-2": "0.3422565724099885"
         },
         {
          "coeff-0": "-3.2065026190351325",
          "coeff-1": "1.0544614070985134",
          "coeff-2": "0.3422565724099885"
         },
         {
          "coeff-0": "-3.2065026190351325",
          "coeff-1": "1.0544614070985134",
          "coeff-2": "0.3422565724099885"
         },
         {
          "coeff-0": "-3.2065026190351325",
          "coeff-1": "1.0544614070985134",
          "coeff-2": "0.3422565724099885"
         },
         {
          "coeff-0": "-3.2065026190351325",
          "coeff-1": "1.0544614070985134",
          "coeff-2": "0.3422565724099885"
         },
         {
          "coeff-0": "-3.2065026190351325",
          "coeff-1": "1.0544614070985134",
          "coeff-2": "0.3422565724099885"
         },
         {
          "coeff-0": "-3.2065026190351325",
          "coeff-1": "1.0544614070985134",
          "coeff-2": "0.3422565724099885"
         },
         {
          "coeff-0": "-3.2065026190351325",
          "coeff-1": "1.0544614070985134",
          "coeff-2": "0.3422565724099885"
         },
         {
          "coeff-0": "-3.2065026190351325",
          "coeff-1": "1.0544614070985134",
          "coeff-2": "0.3422565724099885"
         },
         {
          "coeff-0": "-3.2065026190351325",
          "coeff-1": "1.0544614070985134",
          "coeff-2": "0.3422565724099885"
         },
         {
          "coeff-0": "-3.2065026190351325",
          "coeff-1": "1.0544614070985134",
          "coeff-2": "0.3422565724099885"
         },
         {
          "coeff-0": "-3.2065026190351325",
          "coeff-1": "1.0544614070985134",
          "coeff-2": "0.3422565724099885"
         },
         {
          "coeff-0": "-3.2065026190351325",
          "coeff-1": "1.0544614070985134",
          "coeff-2": "0.3422565724099885"
         },
         {
          "coeff-0": "-3.2065026190351325",
          "coeff-1": "1.0544614070985134",
          "coeff-2": "0.3422565724099885"
         },
         {
          "coeff-0": "-3.2065026190351325",
          "coeff-1": "1.0544614070985134",
          "coeff-2": "0.3422565724099885"
         },
         {
          "coeff-0": "-3.2065026190351325",
          "coeff-1": "1.0544614070985134",
          "coeff-2": "0.3422565724099885"
         },
         {
          "coeff-0": "-3.2065026190351325",
          "coeff-1": "1.0544614070985134",
          "coeff-2": "0.3422565724099885"
         },
         {
          "coeff-0": "-3.2065026190351325",
          "coeff-1": "1.0544614070985134",
          "coeff-2": "0.3422565724099885"
         },
         {
          "coeff-0": "-3.2141303564515824",
          "coeff-1": "1.0746451140270668",
          "coeff-2": "0.32432593753499184"
         },
         {
          "coeff-0": "-3.2141303564515824",
          "coeff-1": "1.0746451140270668",
          "coeff-2": "0.32432593753499184"
         },
         {
          "coeff-0": "-3.2141303564515824",
          "coeff-1": "1.0746451140270668",
          "coeff-2": "0.32432593753499184"
         },
         {
          "coeff-0": "-3.2141303564515824",
          "coeff-1": "1.0746451140270668",
          "coeff-2": "0.32432593753499184"
         },
         {
          "coeff-0": "-3.2141303564515824",
          "coeff-1": "1.0746451140270668",
          "coeff-2": "0.32432593753499184"
         },
         {
          "coeff-0": "-3.2141303564515824",
          "coeff-1": "1.0746451140270668",
          "coeff-2": "0.32432593753499184"
         },
         {
          "coeff-0": "-3.2141303564515824",
          "coeff-1": "1.0746451140270668",
          "coeff-2": "0.32432593753499184"
         },
         {
          "coeff-0": "-3.2141303564515824",
          "coeff-1": "1.0746451140270668",
          "coeff-2": "0.32432593753499184"
         },
         {
          "coeff-0": "-3.2141303564515824",
          "coeff-1": "1.0746451140270668",
          "coeff-2": "0.32432593753499184"
         },
         {
          "coeff-0": "-3.2141303564515824",
          "coeff-1": "1.0746451140270668",
          "coeff-2": "0.32432593753499184"
         },
         {
          "coeff-0": "-3.2141303564515824",
          "coeff-1": "1.0746451140270668",
          "coeff-2": "0.32432593753499184"
         },
         {
          "coeff-0": "-3.2141303564515824",
          "coeff-1": "1.0746451140270668",
          "coeff-2": "0.32432593753499184"
         },
         {
          "coeff-0": "-3.2141303564515824",
          "coeff-1": "1.0746451140270668",
          "coeff-2": "0.32432593753499184"
         },
         {
          "coeff-0": "-3.2353952181579717",
          "coeff-1": "1.0839433292645453",
          "coeff-2": "0.353118164854767"
         },
         {
          "coeff-0": "-3.2353952181579717",
          "coeff-1": "1.0839433292645453",
          "coeff-2": "0.353118164854767"
         },
         {
          "coeff-0": "-3.2353952181579717",
          "coeff-1": "1.0839433292645453",
          "coeff-2": "0.353118164854767"
         },
         {
          "coeff-0": "-3.2353952181579717",
          "coeff-1": "1.0839433292645453",
          "coeff-2": "0.353118164854767"
         },
         {
          "coeff-0": "-3.2353952181579717",
          "coeff-1": "1.0839433292645453",
          "coeff-2": "0.353118164854767"
         },
         {
          "coeff-0": "-3.2353952181579717",
          "coeff-1": "1.0839433292645453",
          "coeff-2": "0.353118164854767"
         },
         {
          "coeff-0": "-3.2353952181579717",
          "coeff-1": "1.0839433292645453",
          "coeff-2": "0.353118164854767"
         },
         {
          "coeff-0": "-3.2602074446198315",
          "coeff-1": "1.1273595473985554",
          "coeff-2": "0.40516859166153374"
         },
         {
          "coeff-0": "-3.2602074446198315",
          "coeff-1": "1.1273595473985554",
          "coeff-2": "0.40516859166153374"
         },
         {
          "coeff-0": "-3.2602074446198315",
          "coeff-1": "1.1273595473985554",
          "coeff-2": "0.40516859166153374"
         },
         {
          "coeff-0": "-3.2602074446198315",
          "coeff-1": "1.1273595473985554",
          "coeff-2": "0.40516859166153374"
         },
         {
          "coeff-0": "-3.2602074446198315",
          "coeff-1": "1.1273595473985554",
          "coeff-2": "0.40516859166153374"
         },
         {
          "coeff-0": "-3.2602074446198315",
          "coeff-1": "1.1273595473985554",
          "coeff-2": "0.40516859166153374"
         },
         {
          "coeff-0": "-3.2602074446198315",
          "coeff-1": "1.1273595473985554",
          "coeff-2": "0.40516859166153374"
         },
         {
          "coeff-0": "-3.2602074446198315",
          "coeff-1": "1.1273595473985554",
          "coeff-2": "0.40516859166153374"
         },
         {
          "coeff-0": "-3.2602074446198315",
          "coeff-1": "1.1273595473985554",
          "coeff-2": "0.40516859166153374"
         },
         {
          "coeff-0": "-3.2602074446198315",
          "coeff-1": "1.1273595473985554",
          "coeff-2": "0.40516859166153374"
         },
         {
          "coeff-0": "-3.2602074446198315",
          "coeff-1": "1.1273595473985554",
          "coeff-2": "0.40516859166153374"
         },
         {
          "coeff-0": "-3.2602074446198315",
          "coeff-1": "1.1273595473985554",
          "coeff-2": "0.40516859166153374"
         },
         {
          "coeff-0": "-3.2602074446198315",
          "coeff-1": "1.1273595473985554",
          "coeff-2": "0.40516859166153374"
         },
         {
          "coeff-0": "-3.2602074446198315",
          "coeff-1": "1.1273595473985554",
          "coeff-2": "0.40516859166153374"
         },
         {
          "coeff-0": "-3.2602074446198315",
          "coeff-1": "1.1273595473985554",
          "coeff-2": "0.40516859166153374"
         },
         {
          "coeff-0": "-3.2602074446198315",
          "coeff-1": "1.1273595473985554",
          "coeff-2": "0.40516859166153374"
         },
         {
          "coeff-0": "-3.270243009017347",
          "coeff-1": "1.107812104505365",
          "coeff-2": "0.421590404380984"
         },
         {
          "coeff-0": "-3.270243009017347",
          "coeff-1": "1.107812104505365",
          "coeff-2": "0.421590404380984"
         },
         {
          "coeff-0": "-3.270243009017347",
          "coeff-1": "1.107812104505365",
          "coeff-2": "0.421590404380984"
         },
         {
          "coeff-0": "-3.2733980229947344",
          "coeff-1": "1.069249779537366",
          "coeff-2": "0.4597456820323043"
         },
         {
          "coeff-0": "-3.2733980229947344",
          "coeff-1": "1.069249779537366",
          "coeff-2": "0.4597456820323043"
         },
         {
          "coeff-0": "-3.2733980229947344",
          "coeff-1": "1.069249779537366",
          "coeff-2": "0.4597456820323043"
         },
         {
          "coeff-0": "-3.2733980229947344",
          "coeff-1": "1.069249779537366",
          "coeff-2": "0.4597456820323043"
         },
         {
          "coeff-0": "-3.2733980229947344",
          "coeff-1": "1.069249779537366",
          "coeff-2": "0.4597456820323043"
         },
         {
          "coeff-0": "-3.2733980229947344",
          "coeff-1": "1.069249779537366",
          "coeff-2": "0.4597456820323043"
         },
         {
          "coeff-0": "-3.2733980229947344",
          "coeff-1": "1.069249779537366",
          "coeff-2": "0.4597456820323043"
         },
         {
          "coeff-0": "-3.2391388814325164",
          "coeff-1": "1.0403109526909413",
          "coeff-2": "0.5269526638005093"
         },
         {
          "coeff-0": "-3.2391388814325164",
          "coeff-1": "1.0403109526909413",
          "coeff-2": "0.5269526638005093"
         },
         {
          "coeff-0": "-3.2391388814325164",
          "coeff-1": "1.0403109526909413",
          "coeff-2": "0.5269526638005093"
         },
         {
          "coeff-0": "-3.2391388814325164",
          "coeff-1": "1.0403109526909413",
          "coeff-2": "0.5269526638005093"
         },
         {
          "coeff-0": "-3.2391388814325164",
          "coeff-1": "1.0403109526909413",
          "coeff-2": "0.5269526638005093"
         },
         {
          "coeff-0": "-3.2391388814325164",
          "coeff-1": "1.0403109526909413",
          "coeff-2": "0.5269526638005093"
         },
         {
          "coeff-0": "-3.2391388814325164",
          "coeff-1": "1.0403109526909413",
          "coeff-2": "0.5269526638005093"
         },
         {
          "coeff-0": "-3.2391388814325164",
          "coeff-1": "1.0403109526909413",
          "coeff-2": "0.5269526638005093"
         },
         {
          "coeff-0": "-3.2391388814325164",
          "coeff-1": "1.0403109526909413",
          "coeff-2": "0.5269526638005093"
         },
         {
          "coeff-0": "-3.2391388814325164",
          "coeff-1": "1.0403109526909413",
          "coeff-2": "0.5269526638005093"
         },
         {
          "coeff-0": "-3.2391388814325164",
          "coeff-1": "1.0403109526909413",
          "coeff-2": "0.5269526638005093"
         },
         {
          "coeff-0": "-3.2391388814325164",
          "coeff-1": "1.0403109526909413",
          "coeff-2": "0.5269526638005093"
         },
         {
          "coeff-0": "-3.2391388814325164",
          "coeff-1": "1.0403109526909413",
          "coeff-2": "0.5269526638005093"
         },
         {
          "coeff-0": "-3.2391388814325164",
          "coeff-1": "1.0403109526909413",
          "coeff-2": "0.5269526638005093"
         },
         {
          "coeff-0": "-3.2391388814325164",
          "coeff-1": "1.0403109526909413",
          "coeff-2": "0.5269526638005093"
         },
         {
          "coeff-0": "-3.2391388814325164",
          "coeff-1": "1.0403109526909413",
          "coeff-2": "0.5269526638005093"
         },
         {
          "coeff-0": "-3.2391388814325164",
          "coeff-1": "1.0403109526909413",
          "coeff-2": "0.5269526638005093"
         },
         {
          "coeff-0": "-3.2391388814325164",
          "coeff-1": "1.0403109526909413",
          "coeff-2": "0.5269526638005093"
         },
         {
          "coeff-0": "-3.2391388814325164",
          "coeff-1": "1.0403109526909413",
          "coeff-2": "0.5269526638005093"
         },
         {
          "coeff-0": "-3.2391388814325164",
          "coeff-1": "1.0403109526909413",
          "coeff-2": "0.5269526638005093"
         },
         {
          "coeff-0": "-3.2391388814325164",
          "coeff-1": "1.0403109526909413",
          "coeff-2": "0.5269526638005093"
         },
         {
          "coeff-0": "-3.2391388814325164",
          "coeff-1": "1.0403109526909413",
          "coeff-2": "0.5269526638005093"
         },
         {
          "coeff-0": "-3.2391388814325164",
          "coeff-1": "1.0403109526909413",
          "coeff-2": "0.5269526638005093"
         },
         {
          "coeff-0": "-3.2155277189033424",
          "coeff-1": "0.983106214007178",
          "coeff-2": "0.5501989366213208"
         },
         {
          "coeff-0": "-3.2108587309568573",
          "coeff-1": "0.9686717718281882",
          "coeff-2": "0.5831272968502902"
         },
         {
          "coeff-0": "-3.2108587309568573",
          "coeff-1": "0.9686717718281882",
          "coeff-2": "0.5831272968502902"
         },
         {
          "coeff-0": "-3.2108587309568573",
          "coeff-1": "0.9686717718281882",
          "coeff-2": "0.5831272968502902"
         },
         {
          "coeff-0": "-3.2108587309568573",
          "coeff-1": "0.9686717718281882",
          "coeff-2": "0.5831272968502902"
         },
         {
          "coeff-0": "-3.2108587309568573",
          "coeff-1": "0.9686717718281882",
          "coeff-2": "0.5831272968502902"
         },
         {
          "coeff-0": "-3.2108587309568573",
          "coeff-1": "0.9686717718281882",
          "coeff-2": "0.5831272968502902"
         },
         {
          "coeff-0": "-3.2108587309568573",
          "coeff-1": "0.9686717718281882",
          "coeff-2": "0.5831272968502902"
         },
         {
          "coeff-0": "-3.1945255896920917",
          "coeff-1": "0.9549539677858867",
          "coeff-2": "0.5936748147728302"
         },
         {
          "coeff-0": "-3.1945255896920917",
          "coeff-1": "0.9549539677858867",
          "coeff-2": "0.5936748147728302"
         },
         {
          "coeff-0": "-3.1945255896920917",
          "coeff-1": "0.9549539677858867",
          "coeff-2": "0.5936748147728302"
         },
         {
          "coeff-0": "-3.1945255896920917",
          "coeff-1": "0.9549539677858867",
          "coeff-2": "0.5936748147728302"
         },
         {
          "coeff-0": "-3.1945255896920917",
          "coeff-1": "0.9549539677858867",
          "coeff-2": "0.5936748147728302"
         },
         {
          "coeff-0": "-3.1945255896920917",
          "coeff-1": "0.9549539677858867",
          "coeff-2": "0.5936748147728302"
         },
         {
          "coeff-0": "-3.204730850702927",
          "coeff-1": "0.9292054574424101",
          "coeff-2": "0.6638842021498736"
         },
         {
          "coeff-0": "-3.204730850702927",
          "coeff-1": "0.9292054574424101",
          "coeff-2": "0.6638842021498736"
         },
         {
          "coeff-0": "-3.2272250904365896",
          "coeff-1": "0.959660093961635",
          "coeff-2": "0.6497198077396115"
         },
         {
          "coeff-0": "-3.2272250904365896",
          "coeff-1": "0.959660093961635",
          "coeff-2": "0.6497198077396115"
         },
         {
          "coeff-0": "-3.2272250904365896",
          "coeff-1": "0.959660093961635",
          "coeff-2": "0.6497198077396115"
         },
         {
          "coeff-0": "-3.2449587290740207",
          "coeff-1": "1.0056770418514207",
          "coeff-2": "0.7095698589175611"
         },
         {
          "coeff-0": "-3.2449587290740207",
          "coeff-1": "1.0056770418514207",
          "coeff-2": "0.7095698589175611"
         },
         {
          "coeff-0": "-3.2449587290740207",
          "coeff-1": "1.0056770418514207",
          "coeff-2": "0.7095698589175611"
         },
         {
          "coeff-0": "-3.2449587290740207",
          "coeff-1": "1.0056770418514207",
          "coeff-2": "0.7095698589175611"
         },
         {
          "coeff-0": "-3.2449587290740207",
          "coeff-1": "1.0056770418514207",
          "coeff-2": "0.7095698589175611"
         },
         {
          "coeff-0": "-3.2449587290740207",
          "coeff-1": "1.0056770418514207",
          "coeff-2": "0.7095698589175611"
         },
         {
          "coeff-0": "-3.2449587290740207",
          "coeff-1": "1.0056770418514207",
          "coeff-2": "0.7095698589175611"
         },
         {
          "coeff-0": "-3.2449587290740207",
          "coeff-1": "1.0056770418514207",
          "coeff-2": "0.7095698589175611"
         },
         {
          "coeff-0": "-3.2449587290740207",
          "coeff-1": "1.0056770418514207",
          "coeff-2": "0.7095698589175611"
         },
         {
          "coeff-0": "-3.2449587290740207",
          "coeff-1": "1.0056770418514207",
          "coeff-2": "0.7095698589175611"
         },
         {
          "coeff-0": "-3.2244033385541373",
          "coeff-1": "1.0227732269465537",
          "coeff-2": "0.778286854381409"
         },
         {
          "coeff-0": "-3.2244033385541373",
          "coeff-1": "1.0227732269465537",
          "coeff-2": "0.778286854381409"
         },
         {
          "coeff-0": "-3.2244033385541373",
          "coeff-1": "1.0227732269465537",
          "coeff-2": "0.778286854381409"
         },
         {
          "coeff-0": "-3.2244033385541373",
          "coeff-1": "1.0227732269465537",
          "coeff-2": "0.778286854381409"
         },
         {
          "coeff-0": "-3.2688334904924745",
          "coeff-1": "1.063596658415917",
          "coeff-2": "0.7985503681851577"
         },
         {
          "coeff-0": "-3.2688334904924745",
          "coeff-1": "1.063596658415917",
          "coeff-2": "0.7985503681851577"
         },
         {
          "coeff-0": "-3.324522168968755",
          "coeff-1": "1.1122099017534297",
          "coeff-2": "0.7633052598357883"
         },
         {
          "coeff-0": "-3.324522168968755",
          "coeff-1": "1.1122099017534297",
          "coeff-2": "0.7633052598357883"
         },
         {
          "coeff-0": "-3.324522168968755",
          "coeff-1": "1.1122099017534297",
          "coeff-2": "0.7633052598357883"
         },
         {
          "coeff-0": "-3.324522168968755",
          "coeff-1": "1.1122099017534297",
          "coeff-2": "0.7633052598357883"
         },
         {
          "coeff-0": "-3.324522168968755",
          "coeff-1": "1.1122099017534297",
          "coeff-2": "0.7633052598357883"
         },
         {
          "coeff-0": "-3.324522168968755",
          "coeff-1": "1.1122099017534297",
          "coeff-2": "0.7633052598357883"
         },
         {
          "coeff-0": "-3.3302154122120484",
          "coeff-1": "1.1150659001871503",
          "coeff-2": "0.7962090508415347"
         },
         {
          "coeff-0": "-3.3302154122120484",
          "coeff-1": "1.1150659001871503",
          "coeff-2": "0.7962090508415347"
         },
         {
          "coeff-0": "-3.3302154122120484",
          "coeff-1": "1.1150659001871503",
          "coeff-2": "0.7962090508415347"
         },
         {
          "coeff-0": "-3.3302154122120484",
          "coeff-1": "1.1150659001871503",
          "coeff-2": "0.7962090508415347"
         },
         {
          "coeff-0": "-3.3302154122120484",
          "coeff-1": "1.1150659001871503",
          "coeff-2": "0.7962090508415347"
         },
         {
          "coeff-0": "-3.3302154122120484",
          "coeff-1": "1.1150659001871503",
          "coeff-2": "0.7962090508415347"
         },
         {
          "coeff-0": "-3.3302154122120484",
          "coeff-1": "1.1150659001871503",
          "coeff-2": "0.7962090508415347"
         },
         {
          "coeff-0": "-3.3302154122120484",
          "coeff-1": "1.1150659001871503",
          "coeff-2": "0.7962090508415347"
         },
         {
          "coeff-0": "-3.3302154122120484",
          "coeff-1": "1.1150659001871503",
          "coeff-2": "0.7962090508415347"
         },
         {
          "coeff-0": "-3.3302154122120484",
          "coeff-1": "1.1150659001871503",
          "coeff-2": "0.7962090508415347"
         },
         {
          "coeff-0": "-3.3302154122120484",
          "coeff-1": "1.1150659001871503",
          "coeff-2": "0.7962090508415347"
         },
         {
          "coeff-0": "-3.3302154122120484",
          "coeff-1": "1.1150659001871503",
          "coeff-2": "0.7962090508415347"
         },
         {
          "coeff-0": "-3.3302154122120484",
          "coeff-1": "1.1150659001871503",
          "coeff-2": "0.7962090508415347"
         },
         {
          "coeff-0": "-3.3302154122120484",
          "coeff-1": "1.1150659001871503",
          "coeff-2": "0.7962090508415347"
         },
         {
          "coeff-0": "-3.3302154122120484",
          "coeff-1": "1.1150659001871503",
          "coeff-2": "0.7962090508415347"
         },
         {
          "coeff-0": "-3.3302154122120484",
          "coeff-1": "1.1150659001871503",
          "coeff-2": "0.7962090508415347"
         },
         {
          "coeff-0": "-3.3302154122120484",
          "coeff-1": "1.1150659001871503",
          "coeff-2": "0.7962090508415347"
         },
         {
          "coeff-0": "-3.3302154122120484",
          "coeff-1": "1.1150659001871503",
          "coeff-2": "0.7962090508415347"
         },
         {
          "coeff-0": "-3.3302154122120484",
          "coeff-1": "1.1150659001871503",
          "coeff-2": "0.7962090508415347"
         },
         {
          "coeff-0": "-3.3302154122120484",
          "coeff-1": "1.1150659001871503",
          "coeff-2": "0.7962090508415347"
         },
         {
          "coeff-0": "-3.3302154122120484",
          "coeff-1": "1.1150659001871503",
          "coeff-2": "0.7962090508415347"
         },
         {
          "coeff-0": "-3.3152154133814222",
          "coeff-1": "1.0903098417661994",
          "coeff-2": "0.782802621741949"
         },
         {
          "coeff-0": "-3.3152154133814222",
          "coeff-1": "1.0903098417661994",
          "coeff-2": "0.782802621741949"
         },
         {
          "coeff-0": "-3.3152154133814222",
          "coeff-1": "1.0903098417661994",
          "coeff-2": "0.782802621741949"
         },
         {
          "coeff-0": "-3.3152154133814222",
          "coeff-1": "1.0903098417661994",
          "coeff-2": "0.782802621741949"
         },
         {
          "coeff-0": "-3.3152154133814222",
          "coeff-1": "1.0903098417661994",
          "coeff-2": "0.782802621741949"
         },
         {
          "coeff-0": "-3.3152154133814222",
          "coeff-1": "1.0903098417661994",
          "coeff-2": "0.782802621741949"
         },
         {
          "coeff-0": "-3.3152154133814222",
          "coeff-1": "1.0903098417661994",
          "coeff-2": "0.782802621741949"
         },
         {
          "coeff-0": "-3.3152154133814222",
          "coeff-1": "1.0903098417661994",
          "coeff-2": "0.782802621741949"
         },
         {
          "coeff-0": "-3.3152154133814222",
          "coeff-1": "1.0903098417661994",
          "coeff-2": "0.782802621741949"
         },
         {
          "coeff-0": "-3.3152154133814222",
          "coeff-1": "1.0903098417661994",
          "coeff-2": "0.782802621741949"
         },
         {
          "coeff-0": "-3.3152154133814222",
          "coeff-1": "1.0903098417661994",
          "coeff-2": "0.782802621741949"
         },
         {
          "coeff-0": "-3.3152154133814222",
          "coeff-1": "1.0903098417661994",
          "coeff-2": "0.782802621741949"
         },
         {
          "coeff-0": "-3.3152154133814222",
          "coeff-1": "1.0903098417661994",
          "coeff-2": "0.782802621741949"
         },
         {
          "coeff-0": "-3.3152154133814222",
          "coeff-1": "1.0903098417661994",
          "coeff-2": "0.782802621741949"
         },
         {
          "coeff-0": "-3.292530946374537",
          "coeff-1": "1.1147438856552747",
          "coeff-2": "0.7888844018395677"
         },
         {
          "coeff-0": "-3.292530946374537",
          "coeff-1": "1.1147438856552747",
          "coeff-2": "0.7888844018395677"
         },
         {
          "coeff-0": "-3.292530946374537",
          "coeff-1": "1.1147438856552747",
          "coeff-2": "0.7888844018395677"
         },
         {
          "coeff-0": "-3.292530946374537",
          "coeff-1": "1.1147438856552747",
          "coeff-2": "0.7888844018395677"
         },
         {
          "coeff-0": "-3.292530946374537",
          "coeff-1": "1.1147438856552747",
          "coeff-2": "0.7888844018395677"
         },
         {
          "coeff-0": "-3.292530946374537",
          "coeff-1": "1.1147438856552747",
          "coeff-2": "0.7888844018395677"
         },
         {
          "coeff-0": "-3.292530946374537",
          "coeff-1": "1.1147438856552747",
          "coeff-2": "0.7888844018395677"
         },
         {
          "coeff-0": "-3.292530946374537",
          "coeff-1": "1.1147438856552747",
          "coeff-2": "0.7888844018395677"
         },
         {
          "coeff-0": "-3.292530946374537",
          "coeff-1": "1.1147438856552747",
          "coeff-2": "0.7888844018395677"
         },
         {
          "coeff-0": "-3.292530946374537",
          "coeff-1": "1.1147438856552747",
          "coeff-2": "0.7888844018395677"
         },
         {
          "coeff-0": "-3.292530946374537",
          "coeff-1": "1.1147438856552747",
          "coeff-2": "0.7888844018395677"
         },
         {
          "coeff-0": "-3.292530946374537",
          "coeff-1": "1.1147438856552747",
          "coeff-2": "0.7888844018395677"
         },
         {
          "coeff-0": "-3.292530946374537",
          "coeff-1": "1.1147438856552747",
          "coeff-2": "0.7888844018395677"
         },
         {
          "coeff-0": "-3.292530946374537",
          "coeff-1": "1.1147438856552747",
          "coeff-2": "0.7888844018395677"
         },
         {
          "coeff-0": "-3.292530946374537",
          "coeff-1": "1.1147438856552747",
          "coeff-2": "0.7888844018395677"
         },
         {
          "coeff-0": "-3.292530946374537",
          "coeff-1": "1.1147438856552747",
          "coeff-2": "0.7888844018395677"
         },
         {
          "coeff-0": "-3.292530946374537",
          "coeff-1": "1.1147438856552747",
          "coeff-2": "0.7888844018395677"
         },
         {
          "coeff-0": "-3.3410302115429946",
          "coeff-1": "1.1103573508486149",
          "coeff-2": "0.8356499354580935"
         },
         {
          "coeff-0": "-3.3410302115429946",
          "coeff-1": "1.1103573508486149",
          "coeff-2": "0.8356499354580935"
         },
         {
          "coeff-0": "-3.3410302115429946",
          "coeff-1": "1.1103573508486149",
          "coeff-2": "0.8356499354580935"
         },
         {
          "coeff-0": "-3.3410302115429946",
          "coeff-1": "1.1103573508486149",
          "coeff-2": "0.8356499354580935"
         },
         {
          "coeff-0": "-3.3410302115429946",
          "coeff-1": "1.1103573508486149",
          "coeff-2": "0.8356499354580935"
         },
         {
          "coeff-0": "-3.3410302115429946",
          "coeff-1": "1.1103573508486149",
          "coeff-2": "0.8356499354580935"
         },
         {
          "coeff-0": "-3.2691824122885276",
          "coeff-1": "1.05777210638267",
          "coeff-2": "0.8300515043994059"
         },
         {
          "coeff-0": "-3.2691824122885276",
          "coeff-1": "1.05777210638267",
          "coeff-2": "0.8300515043994059"
         },
         {
          "coeff-0": "-3.2691824122885276",
          "coeff-1": "1.05777210638267",
          "coeff-2": "0.8300515043994059"
         },
         {
          "coeff-0": "-3.324884195298965",
          "coeff-1": "1.0552773047430917",
          "coeff-2": "0.813372072546288"
         },
         {
          "coeff-0": "-3.324884195298965",
          "coeff-1": "1.0552773047430917",
          "coeff-2": "0.813372072546288"
         },
         {
          "coeff-0": "-3.324884195298965",
          "coeff-1": "1.0552773047430917",
          "coeff-2": "0.813372072546288"
         },
         {
          "coeff-0": "-3.324884195298965",
          "coeff-1": "1.0552773047430917",
          "coeff-2": "0.813372072546288"
         },
         {
          "coeff-0": "-3.324884195298965",
          "coeff-1": "1.0552773047430917",
          "coeff-2": "0.813372072546288"
         },
         {
          "coeff-0": "-3.324884195298965",
          "coeff-1": "1.0552773047430917",
          "coeff-2": "0.813372072546288"
         },
         {
          "coeff-0": "-3.324884195298965",
          "coeff-1": "1.0552773047430917",
          "coeff-2": "0.813372072546288"
         },
         {
          "coeff-0": "-3.324884195298965",
          "coeff-1": "1.0552773047430917",
          "coeff-2": "0.813372072546288"
         },
         {
          "coeff-0": "-3.324884195298965",
          "coeff-1": "1.0552773047430917",
          "coeff-2": "0.813372072546288"
         },
         {
          "coeff-0": "-3.324884195298965",
          "coeff-1": "1.0552773047430917",
          "coeff-2": "0.813372072546288"
         },
         {
          "coeff-0": "-3.324884195298965",
          "coeff-1": "1.0552773047430917",
          "coeff-2": "0.813372072546288"
         },
         {
          "coeff-0": "-3.324884195298965",
          "coeff-1": "1.0552773047430917",
          "coeff-2": "0.813372072546288"
         },
         {
          "coeff-0": "-3.324884195298965",
          "coeff-1": "1.0552773047430917",
          "coeff-2": "0.813372072546288"
         },
         {
          "coeff-0": "-3.324884195298965",
          "coeff-1": "1.0552773047430917",
          "coeff-2": "0.813372072546288"
         },
         {
          "coeff-0": "-3.324884195298965",
          "coeff-1": "1.0552773047430917",
          "coeff-2": "0.813372072546288"
         },
         {
          "coeff-0": "-3.324884195298965",
          "coeff-1": "1.0552773047430917",
          "coeff-2": "0.813372072546288"
         },
         {
          "coeff-0": "-3.324884195298965",
          "coeff-1": "1.0552773047430917",
          "coeff-2": "0.813372072546288"
         },
         {
          "coeff-0": "-3.324884195298965",
          "coeff-1": "1.0552773047430917",
          "coeff-2": "0.813372072546288"
         },
         {
          "coeff-0": "-3.324884195298965",
          "coeff-1": "1.0552773047430917",
          "coeff-2": "0.813372072546288"
         },
         {
          "coeff-0": "-3.324884195298965",
          "coeff-1": "1.0552773047430917",
          "coeff-2": "0.813372072546288"
         },
         {
          "coeff-0": "-3.324884195298965",
          "coeff-1": "1.0552773047430917",
          "coeff-2": "0.813372072546288"
         },
         {
          "coeff-0": "-3.324884195298965",
          "coeff-1": "1.0552773047430917",
          "coeff-2": "0.813372072546288"
         },
         {
          "coeff-0": "-3.324884195298965",
          "coeff-1": "1.0552773047430917",
          "coeff-2": "0.813372072546288"
         },
         {
          "coeff-0": "-3.324884195298965",
          "coeff-1": "1.0552773047430917",
          "coeff-2": "0.813372072546288"
         },
         {
          "coeff-0": "-3.3180808965852497",
          "coeff-1": "1.1089198849889241",
          "coeff-2": "0.8129489152162348"
         },
         {
          "coeff-0": "-3.3180808965852497",
          "coeff-1": "1.1089198849889241",
          "coeff-2": "0.8129489152162348"
         },
         {
          "coeff-0": "-3.3601310909080424",
          "coeff-1": "1.0973707520498157",
          "coeff-2": "0.8294788427211857"
         },
         {
          "coeff-0": "-3.3601310909080424",
          "coeff-1": "1.0973707520498157",
          "coeff-2": "0.8294788427211857"
         },
         {
          "coeff-0": "-3.3601310909080424",
          "coeff-1": "1.0973707520498157",
          "coeff-2": "0.8294788427211857"
         },
         {
          "coeff-0": "-3.3601310909080424",
          "coeff-1": "1.0973707520498157",
          "coeff-2": "0.8294788427211857"
         },
         {
          "coeff-0": "-3.3601310909080424",
          "coeff-1": "1.0973707520498157",
          "coeff-2": "0.8294788427211857"
         },
         {
          "coeff-0": "-3.3601310909080424",
          "coeff-1": "1.0973707520498157",
          "coeff-2": "0.8294788427211857"
         },
         {
          "coeff-0": "-3.3601310909080424",
          "coeff-1": "1.0973707520498157",
          "coeff-2": "0.8294788427211857"
         },
         {
          "coeff-0": "-3.3601310909080424",
          "coeff-1": "1.0973707520498157",
          "coeff-2": "0.8294788427211857"
         },
         {
          "coeff-0": "-3.3601310909080424",
          "coeff-1": "1.0973707520498157",
          "coeff-2": "0.8294788427211857"
         },
         {
          "coeff-0": "-3.3601310909080424",
          "coeff-1": "1.0973707520498157",
          "coeff-2": "0.8294788427211857"
         },
         {
          "coeff-0": "-3.3601310909080424",
          "coeff-1": "1.0973707520498157",
          "coeff-2": "0.8294788427211857"
         },
         {
          "coeff-0": "-3.3601310909080424",
          "coeff-1": "1.0973707520498157",
          "coeff-2": "0.8294788427211857"
         },
         {
          "coeff-0": "-3.3233674692965374",
          "coeff-1": "0.9725147306885198",
          "coeff-2": "0.8727339661861705"
         },
         {
          "coeff-0": "-3.3233674692965374",
          "coeff-1": "0.9725147306885198",
          "coeff-2": "0.8727339661861705"
         },
         {
          "coeff-0": "-3.3233674692965374",
          "coeff-1": "0.9725147306885198",
          "coeff-2": "0.8727339661861705"
         },
         {
          "coeff-0": "-3.3233674692965374",
          "coeff-1": "0.9725147306885198",
          "coeff-2": "0.8727339661861705"
         },
         {
          "coeff-0": "-3.3233674692965374",
          "coeff-1": "0.9725147306885198",
          "coeff-2": "0.8727339661861705"
         },
         {
          "coeff-0": "-3.3233674692965374",
          "coeff-1": "0.9725147306885198",
          "coeff-2": "0.8727339661861705"
         },
         {
          "coeff-0": "-3.3233674692965374",
          "coeff-1": "0.9725147306885198",
          "coeff-2": "0.8727339661861705"
         },
         {
          "coeff-0": "-3.3233674692965374",
          "coeff-1": "0.9725147306885198",
          "coeff-2": "0.8727339661861705"
         },
         {
          "coeff-0": "-3.3233674692965374",
          "coeff-1": "0.9725147306885198",
          "coeff-2": "0.8727339661861705"
         },
         {
          "coeff-0": "-3.3233674692965374",
          "coeff-1": "0.9725147306885198",
          "coeff-2": "0.8727339661861705"
         },
         {
          "coeff-0": "-3.3233674692965374",
          "coeff-1": "0.9725147306885198",
          "coeff-2": "0.8727339661861705"
         },
         {
          "coeff-0": "-3.3233674692965374",
          "coeff-1": "0.9725147306885198",
          "coeff-2": "0.8727339661861705"
         },
         {
          "coeff-0": "-3.3233674692965374",
          "coeff-1": "0.9725147306885198",
          "coeff-2": "0.8727339661861705"
         },
         {
          "coeff-0": "-3.3233674692965374",
          "coeff-1": "0.9725147306885198",
          "coeff-2": "0.8727339661861705"
         },
         {
          "coeff-0": "-3.328963439662295",
          "coeff-1": "1.1081311001940521",
          "coeff-2": "0.880234792746666"
         },
         {
          "coeff-0": "-3.3454341385631845",
          "coeff-1": "1.1250100586771372",
          "coeff-2": "0.9032670304495413"
         },
         {
          "coeff-0": "-3.3454341385631845",
          "coeff-1": "1.1250100586771372",
          "coeff-2": "0.9032670304495413"
         },
         {
          "coeff-0": "-3.3454341385631845",
          "coeff-1": "1.1250100586771372",
          "coeff-2": "0.9032670304495413"
         },
         {
          "coeff-0": "-3.3296010591455856",
          "coeff-1": "1.100745742095001",
          "coeff-2": "0.8740007932759386"
         },
         {
          "coeff-0": "-3.3296010591455856",
          "coeff-1": "1.100745742095001",
          "coeff-2": "0.8740007932759386"
         },
         {
          "coeff-0": "-3.3296010591455856",
          "coeff-1": "1.100745742095001",
          "coeff-2": "0.8740007932759386"
         },
         {
          "coeff-0": "-3.3296010591455856",
          "coeff-1": "1.100745742095001",
          "coeff-2": "0.8740007932759386"
         },
         {
          "coeff-0": "-3.3296010591455856",
          "coeff-1": "1.100745742095001",
          "coeff-2": "0.8740007932759386"
         },
         {
          "coeff-0": "-3.3296010591455856",
          "coeff-1": "1.100745742095001",
          "coeff-2": "0.8740007932759386"
         },
         {
          "coeff-0": "-3.3296010591455856",
          "coeff-1": "1.100745742095001",
          "coeff-2": "0.8740007932759386"
         },
         {
          "coeff-0": "-3.3296010591455856",
          "coeff-1": "1.100745742095001",
          "coeff-2": "0.8740007932759386"
         },
         {
          "coeff-0": "-3.3296010591455856",
          "coeff-1": "1.100745742095001",
          "coeff-2": "0.8740007932759386"
         },
         {
          "coeff-0": "-3.3296010591455856",
          "coeff-1": "1.100745742095001",
          "coeff-2": "0.8740007932759386"
         },
         {
          "coeff-0": "-3.3296010591455856",
          "coeff-1": "1.100745742095001",
          "coeff-2": "0.8740007932759386"
         },
         {
          "coeff-0": "-3.3296010591455856",
          "coeff-1": "1.100745742095001",
          "coeff-2": "0.8740007932759386"
         },
         {
          "coeff-0": "-3.39499659740706",
          "coeff-1": "1.1364539899196113",
          "coeff-2": "0.8349457169060197"
         },
         {
          "coeff-0": "-3.39499659740706",
          "coeff-1": "1.1364539899196113",
          "coeff-2": "0.8349457169060197"
         },
         {
          "coeff-0": "-3.39499659740706",
          "coeff-1": "1.1364539899196113",
          "coeff-2": "0.8349457169060197"
         },
         {
          "coeff-0": "-3.39499659740706",
          "coeff-1": "1.1364539899196113",
          "coeff-2": "0.8349457169060197"
         },
         {
          "coeff-0": "-3.39499659740706",
          "coeff-1": "1.1364539899196113",
          "coeff-2": "0.8349457169060197"
         },
         {
          "coeff-0": "-3.39499659740706",
          "coeff-1": "1.1364539899196113",
          "coeff-2": "0.8349457169060197"
         },
         {
          "coeff-0": "-3.39499659740706",
          "coeff-1": "1.1364539899196113",
          "coeff-2": "0.8349457169060197"
         },
         {
          "coeff-0": "-3.39499659740706",
          "coeff-1": "1.1364539899196113",
          "coeff-2": "0.8349457169060197"
         },
         {
          "coeff-0": "-3.39499659740706",
          "coeff-1": "1.1364539899196113",
          "coeff-2": "0.8349457169060197"
         },
         {
          "coeff-0": "-3.39499659740706",
          "coeff-1": "1.1364539899196113",
          "coeff-2": "0.8349457169060197"
         },
         {
          "coeff-0": "-3.39499659740706",
          "coeff-1": "1.1364539899196113",
          "coeff-2": "0.8349457169060197"
         },
         {
          "coeff-0": "-3.39499659740706",
          "coeff-1": "1.1364539899196113",
          "coeff-2": "0.8349457169060197"
         },
         {
          "coeff-0": "-3.39499659740706",
          "coeff-1": "1.1364539899196113",
          "coeff-2": "0.8349457169060197"
         },
         {
          "coeff-0": "-3.39499659740706",
          "coeff-1": "1.1364539899196113",
          "coeff-2": "0.8349457169060197"
         },
         {
          "coeff-0": "-3.39499659740706",
          "coeff-1": "1.1364539899196113",
          "coeff-2": "0.8349457169060197"
         },
         {
          "coeff-0": "-3.39499659740706",
          "coeff-1": "1.1364539899196113",
          "coeff-2": "0.8349457169060197"
         },
         {
          "coeff-0": "-3.39499659740706",
          "coeff-1": "1.1364539899196113",
          "coeff-2": "0.8349457169060197"
         },
         {
          "coeff-0": "-3.39499659740706",
          "coeff-1": "1.1364539899196113",
          "coeff-2": "0.8349457169060197"
         },
         {
          "coeff-0": "-3.4214740059622404",
          "coeff-1": "1.1086572235079413",
          "coeff-2": "0.8959579305425595"
         },
         {
          "coeff-0": "-3.4214740059622404",
          "coeff-1": "1.1086572235079413",
          "coeff-2": "0.8959579305425595"
         },
         {
          "coeff-0": "-3.4214740059622404",
          "coeff-1": "1.1086572235079413",
          "coeff-2": "0.8959579305425595"
         },
         {
          "coeff-0": "-3.4214740059622404",
          "coeff-1": "1.1086572235079413",
          "coeff-2": "0.8959579305425595"
         },
         {
          "coeff-0": "-3.4214740059622404",
          "coeff-1": "1.1086572235079413",
          "coeff-2": "0.8959579305425595"
         },
         {
          "coeff-0": "-3.4214740059622404",
          "coeff-1": "1.1086572235079413",
          "coeff-2": "0.8959579305425595"
         },
         {
          "coeff-0": "-3.4214740059622404",
          "coeff-1": "1.1086572235079413",
          "coeff-2": "0.8959579305425595"
         },
         {
          "coeff-0": "-3.4214740059622404",
          "coeff-1": "1.1086572235079413",
          "coeff-2": "0.8959579305425595"
         },
         {
          "coeff-0": "-3.4214740059622404",
          "coeff-1": "1.1086572235079413",
          "coeff-2": "0.8959579305425595"
         },
         {
          "coeff-0": "-3.4214740059622404",
          "coeff-1": "1.1086572235079413",
          "coeff-2": "0.8959579305425595"
         },
         {
          "coeff-0": "-3.4214740059622404",
          "coeff-1": "1.1086572235079413",
          "coeff-2": "0.8959579305425595"
         },
         {
          "coeff-0": "-3.4214740059622404",
          "coeff-1": "1.1086572235079413",
          "coeff-2": "0.8959579305425595"
         },
         {
          "coeff-0": "-3.4214740059622404",
          "coeff-1": "1.1086572235079413",
          "coeff-2": "0.8959579305425595"
         },
         {
          "coeff-0": "-3.44065405997152",
          "coeff-1": "1.0333980395724893",
          "coeff-2": "0.868398460587362"
         },
         {
          "coeff-0": "-3.405096280970475",
          "coeff-1": "1.1095761687214005",
          "coeff-2": "0.8678363539018897"
         },
         {
          "coeff-0": "-3.405096280970475",
          "coeff-1": "1.1095761687214005",
          "coeff-2": "0.8678363539018897"
         },
         {
          "coeff-0": "-3.405096280970475",
          "coeff-1": "1.1095761687214005",
          "coeff-2": "0.8678363539018897"
         },
         {
          "coeff-0": "-3.4647833518680367",
          "coeff-1": "1.113719311791761",
          "coeff-2": "0.7966118951389043"
         },
         {
          "coeff-0": "-3.4647833518680367",
          "coeff-1": "1.113719311791761",
          "coeff-2": "0.7966118951389043"
         },
         {
          "coeff-0": "-3.4647833518680367",
          "coeff-1": "1.113719311791761",
          "coeff-2": "0.7966118951389043"
         },
         {
          "coeff-0": "-3.4647833518680367",
          "coeff-1": "1.113719311791761",
          "coeff-2": "0.7966118951389043"
         },
         {
          "coeff-0": "-3.4647833518680367",
          "coeff-1": "1.113719311791761",
          "coeff-2": "0.7966118951389043"
         },
         {
          "coeff-0": "-3.4647833518680367",
          "coeff-1": "1.113719311791761",
          "coeff-2": "0.7966118951389043"
         },
         {
          "coeff-0": "-3.4647833518680367",
          "coeff-1": "1.113719311791761",
          "coeff-2": "0.7966118951389043"
         },
         {
          "coeff-0": "-3.4647833518680367",
          "coeff-1": "1.113719311791761",
          "coeff-2": "0.7966118951389043"
         },
         {
          "coeff-0": "-3.4647833518680367",
          "coeff-1": "1.113719311791761",
          "coeff-2": "0.7966118951389043"
         },
         {
          "coeff-0": "-3.4647833518680367",
          "coeff-1": "1.113719311791761",
          "coeff-2": "0.7966118951389043"
         },
         {
          "coeff-0": "-3.4647833518680367",
          "coeff-1": "1.113719311791761",
          "coeff-2": "0.7966118951389043"
         },
         {
          "coeff-0": "-3.4647833518680367",
          "coeff-1": "1.113719311791761",
          "coeff-2": "0.7966118951389043"
         },
         {
          "coeff-0": "-3.4647833518680367",
          "coeff-1": "1.113719311791761",
          "coeff-2": "0.7966118951389043"
         },
         {
          "coeff-0": "-3.4647833518680367",
          "coeff-1": "1.113719311791761",
          "coeff-2": "0.7966118951389043"
         },
         {
          "coeff-0": "-3.4647833518680367",
          "coeff-1": "1.113719311791761",
          "coeff-2": "0.7966118951389043"
         },
         {
          "coeff-0": "-3.4647833518680367",
          "coeff-1": "1.113719311791761",
          "coeff-2": "0.7966118951389043"
         },
         {
          "coeff-0": "-3.4647833518680367",
          "coeff-1": "1.113719311791761",
          "coeff-2": "0.7966118951389043"
         },
         {
          "coeff-0": "-3.4647833518680367",
          "coeff-1": "1.113719311791761",
          "coeff-2": "0.7966118951389043"
         },
         {
          "coeff-0": "-3.4647833518680367",
          "coeff-1": "1.113719311791761",
          "coeff-2": "0.7966118951389043"
         },
         {
          "coeff-0": "-3.4647833518680367",
          "coeff-1": "1.113719311791761",
          "coeff-2": "0.7966118951389043"
         },
         {
          "coeff-0": "-3.4647833518680367",
          "coeff-1": "1.113719311791761",
          "coeff-2": "0.7966118951389043"
         },
         {
          "coeff-0": "-3.439595537446891",
          "coeff-1": "1.0925531755085478",
          "coeff-2": "0.7801757484032248"
         },
         {
          "coeff-0": "-3.439595537446891",
          "coeff-1": "1.0925531755085478",
          "coeff-2": "0.7801757484032248"
         },
         {
          "coeff-0": "-3.439595537446891",
          "coeff-1": "1.0925531755085478",
          "coeff-2": "0.7801757484032248"
         },
         {
          "coeff-0": "-3.439595537446891",
          "coeff-1": "1.0925531755085478",
          "coeff-2": "0.7801757484032248"
         },
         {
          "coeff-0": "-3.439595537446891",
          "coeff-1": "1.0925531755085478",
          "coeff-2": "0.7801757484032248"
         },
         {
          "coeff-0": "-3.439595537446891",
          "coeff-1": "1.0925531755085478",
          "coeff-2": "0.7801757484032248"
         },
         {
          "coeff-0": "-3.439595537446891",
          "coeff-1": "1.0925531755085478",
          "coeff-2": "0.7801757484032248"
         },
         {
          "coeff-0": "-3.439595537446891",
          "coeff-1": "1.0925531755085478",
          "coeff-2": "0.7801757484032248"
         },
         {
          "coeff-0": "-3.439595537446891",
          "coeff-1": "1.0925531755085478",
          "coeff-2": "0.7801757484032248"
         },
         {
          "coeff-0": "-3.439595537446891",
          "coeff-1": "1.0925531755085478",
          "coeff-2": "0.7801757484032248"
         },
         {
          "coeff-0": "-3.439595537446891",
          "coeff-1": "1.0925531755085478",
          "coeff-2": "0.7801757484032248"
         },
         {
          "coeff-0": "-3.439595537446891",
          "coeff-1": "1.0925531755085478",
          "coeff-2": "0.7801757484032248"
         },
         {
          "coeff-0": "-3.439595537446891",
          "coeff-1": "1.0925531755085478",
          "coeff-2": "0.7801757484032248"
         },
         {
          "coeff-0": "-3.439595537446891",
          "coeff-1": "1.0925531755085478",
          "coeff-2": "0.7801757484032248"
         },
         {
          "coeff-0": "-3.439595537446891",
          "coeff-1": "1.0925531755085478",
          "coeff-2": "0.7801757484032248"
         },
         {
          "coeff-0": "-3.439595537446891",
          "coeff-1": "1.0925531755085478",
          "coeff-2": "0.7801757484032248"
         },
         {
          "coeff-0": "-3.439595537446891",
          "coeff-1": "1.0925531755085478",
          "coeff-2": "0.7801757484032248"
         },
         {
          "coeff-0": "-3.439595537446891",
          "coeff-1": "1.0925531755085478",
          "coeff-2": "0.7801757484032248"
         },
         {
          "coeff-0": "-3.439595537446891",
          "coeff-1": "1.0925531755085478",
          "coeff-2": "0.7801757484032248"
         },
         {
          "coeff-0": "-3.439595537446891",
          "coeff-1": "1.0925531755085478",
          "coeff-2": "0.7801757484032248"
         },
         {
          "coeff-0": "-3.439595537446891",
          "coeff-1": "1.0925531755085478",
          "coeff-2": "0.7801757484032248"
         },
         {
          "coeff-0": "-3.439595537446891",
          "coeff-1": "1.0925531755085478",
          "coeff-2": "0.7801757484032248"
         },
         {
          "coeff-0": "-3.439595537446891",
          "coeff-1": "1.0925531755085478",
          "coeff-2": "0.7801757484032248"
         },
         {
          "coeff-0": "-3.439595537446891",
          "coeff-1": "1.0925531755085478",
          "coeff-2": "0.7801757484032248"
         },
         {
          "coeff-0": "-3.439595537446891",
          "coeff-1": "1.0925531755085478",
          "coeff-2": "0.7801757484032248"
         },
         {
          "coeff-0": "-3.439595537446891",
          "coeff-1": "1.0925531755085478",
          "coeff-2": "0.7801757484032248"
         },
         {
          "coeff-0": "-3.439595537446891",
          "coeff-1": "1.0925531755085478",
          "coeff-2": "0.7801757484032248"
         },
         {
          "coeff-0": "-3.439595537446891",
          "coeff-1": "1.0925531755085478",
          "coeff-2": "0.7801757484032248"
         },
         {
          "coeff-0": "-3.439595537446891",
          "coeff-1": "1.0925531755085478",
          "coeff-2": "0.7801757484032248"
         },
         {
          "coeff-0": "-3.403515695851115",
          "coeff-1": "1.037266782576162",
          "coeff-2": "0.8362362980891805"
         },
         {
          "coeff-0": "-3.403515695851115",
          "coeff-1": "1.037266782576162",
          "coeff-2": "0.8362362980891805"
         },
         {
          "coeff-0": "-3.403515695851115",
          "coeff-1": "1.037266782576162",
          "coeff-2": "0.8362362980891805"
         },
         {
          "coeff-0": "-3.403515695851115",
          "coeff-1": "1.037266782576162",
          "coeff-2": "0.8362362980891805"
         },
         {
          "coeff-0": "-3.403515695851115",
          "coeff-1": "1.037266782576162",
          "coeff-2": "0.8362362980891805"
         },
         {
          "coeff-0": "-3.403515695851115",
          "coeff-1": "1.037266782576162",
          "coeff-2": "0.8362362980891805"
         },
         {
          "coeff-0": "-3.403515695851115",
          "coeff-1": "1.037266782576162",
          "coeff-2": "0.8362362980891805"
         },
         {
          "coeff-0": "-3.403515695851115",
          "coeff-1": "1.037266782576162",
          "coeff-2": "0.8362362980891805"
         },
         {
          "coeff-0": "-3.403515695851115",
          "coeff-1": "1.037266782576162",
          "coeff-2": "0.8362362980891805"
         },
         {
          "coeff-0": "-3.403515695851115",
          "coeff-1": "1.037266782576162",
          "coeff-2": "0.8362362980891805"
         },
         {
          "coeff-0": "-3.403515695851115",
          "coeff-1": "1.037266782576162",
          "coeff-2": "0.8362362980891805"
         },
         {
          "coeff-0": "-3.403515695851115",
          "coeff-1": "1.037266782576162",
          "coeff-2": "0.8362362980891805"
         },
         {
          "coeff-0": "-3.403515695851115",
          "coeff-1": "1.037266782576162",
          "coeff-2": "0.8362362980891805"
         },
         {
          "coeff-0": "-3.403515695851115",
          "coeff-1": "1.037266782576162",
          "coeff-2": "0.8362362980891805"
         },
         {
          "coeff-0": "-3.403515695851115",
          "coeff-1": "1.037266782576162",
          "coeff-2": "0.8362362980891805"
         },
         {
          "coeff-0": "-3.403515695851115",
          "coeff-1": "1.037266782576162",
          "coeff-2": "0.8362362980891805"
         },
         {
          "coeff-0": "-3.403515695851115",
          "coeff-1": "1.037266782576162",
          "coeff-2": "0.8362362980891805"
         },
         {
          "coeff-0": "-3.403515695851115",
          "coeff-1": "1.037266782576162",
          "coeff-2": "0.8362362980891805"
         },
         {
          "coeff-0": "-3.403515695851115",
          "coeff-1": "1.037266782576162",
          "coeff-2": "0.8362362980891805"
         },
         {
          "coeff-0": "-3.403515695851115",
          "coeff-1": "1.037266782576162",
          "coeff-2": "0.8362362980891805"
         },
         {
          "coeff-0": "-3.364417339178079",
          "coeff-1": "1.0540215634730887",
          "coeff-2": "0.8169367329126139"
         },
         {
          "coeff-0": "-3.364417339178079",
          "coeff-1": "1.0540215634730887",
          "coeff-2": "0.8169367329126139"
         },
         {
          "coeff-0": "-3.364417339178079",
          "coeff-1": "1.0540215634730887",
          "coeff-2": "0.8169367329126139"
         },
         {
          "coeff-0": "-3.364417339178079",
          "coeff-1": "1.0540215634730887",
          "coeff-2": "0.8169367329126139"
         },
         {
          "coeff-0": "-3.364417339178079",
          "coeff-1": "1.0540215634730887",
          "coeff-2": "0.8169367329126139"
         },
         {
          "coeff-0": "-3.364417339178079",
          "coeff-1": "1.0540215634730887",
          "coeff-2": "0.8169367329126139"
         },
         {
          "coeff-0": "-3.336355996667812",
          "coeff-1": "1.0619689323662405",
          "coeff-2": "0.8220506779136594"
         },
         {
          "coeff-0": "-3.336355996667812",
          "coeff-1": "1.0619689323662405",
          "coeff-2": "0.8220506779136594"
         },
         {
          "coeff-0": "-3.336355996667812",
          "coeff-1": "1.0619689323662405",
          "coeff-2": "0.8220506779136594"
         },
         {
          "coeff-0": "-3.331449785728678",
          "coeff-1": "1.053035954273821",
          "coeff-2": "0.8870740636433712"
         },
         {
          "coeff-0": "-3.3537303461997587",
          "coeff-1": "0.9876132006377715",
          "coeff-2": "0.8632029326281265"
         },
         {
          "coeff-0": "-3.3537303461997587",
          "coeff-1": "0.9876132006377715",
          "coeff-2": "0.8632029326281265"
         },
         {
          "coeff-0": "-3.3537303461997587",
          "coeff-1": "0.9876132006377715",
          "coeff-2": "0.8632029326281265"
         },
         {
          "coeff-0": "-3.3537303461997587",
          "coeff-1": "0.9876132006377715",
          "coeff-2": "0.8632029326281265"
         },
         {
          "coeff-0": "-3.3537303461997587",
          "coeff-1": "0.9876132006377715",
          "coeff-2": "0.8632029326281265"
         },
         {
          "coeff-0": "-3.3537303461997587",
          "coeff-1": "0.9876132006377715",
          "coeff-2": "0.8632029326281265"
         },
         {
          "coeff-0": "-3.3537303461997587",
          "coeff-1": "0.9876132006377715",
          "coeff-2": "0.8632029326281265"
         },
         {
          "coeff-0": "-3.3537303461997587",
          "coeff-1": "0.9876132006377715",
          "coeff-2": "0.8632029326281265"
         },
         {
          "coeff-0": "-3.3537303461997587",
          "coeff-1": "0.9876132006377715",
          "coeff-2": "0.8632029326281265"
         },
         {
          "coeff-0": "-3.3537303461997587",
          "coeff-1": "0.9876132006377715",
          "coeff-2": "0.8632029326281265"
         },
         {
          "coeff-0": "-3.3537303461997587",
          "coeff-1": "0.9876132006377715",
          "coeff-2": "0.8632029326281265"
         },
         {
          "coeff-0": "-3.3537303461997587",
          "coeff-1": "0.9876132006377715",
          "coeff-2": "0.8632029326281265"
         },
         {
          "coeff-0": "-3.3537303461997587",
          "coeff-1": "0.9876132006377715",
          "coeff-2": "0.8632029326281265"
         },
         {
          "coeff-0": "-3.3537303461997587",
          "coeff-1": "0.9876132006377715",
          "coeff-2": "0.8632029326281265"
         },
         {
          "coeff-0": "-3.3537303461997587",
          "coeff-1": "0.9876132006377715",
          "coeff-2": "0.8632029326281265"
         },
         {
          "coeff-0": "-3.3537303461997587",
          "coeff-1": "0.9876132006377715",
          "coeff-2": "0.8632029326281265"
         },
         {
          "coeff-0": "-3.3537303461997587",
          "coeff-1": "0.9876132006377715",
          "coeff-2": "0.8632029326281265"
         },
         {
          "coeff-0": "-3.3537303461997587",
          "coeff-1": "0.9876132006377715",
          "coeff-2": "0.8632029326281265"
         },
         {
          "coeff-0": "-3.3537303461997587",
          "coeff-1": "0.9876132006377715",
          "coeff-2": "0.8632029326281265"
         },
         {
          "coeff-0": "-3.3537303461997587",
          "coeff-1": "0.9876132006377715",
          "coeff-2": "0.8632029326281265"
         },
         {
          "coeff-0": "-3.3537303461997587",
          "coeff-1": "0.9876132006377715",
          "coeff-2": "0.8632029326281265"
         },
         {
          "coeff-0": "-3.3537303461997587",
          "coeff-1": "0.9876132006377715",
          "coeff-2": "0.8632029326281265"
         },
         {
          "coeff-0": "-3.3537303461997587",
          "coeff-1": "0.9876132006377715",
          "coeff-2": "0.8632029326281265"
         },
         {
          "coeff-0": "-3.3537303461997587",
          "coeff-1": "0.9876132006377715",
          "coeff-2": "0.8632029326281265"
         },
         {
          "coeff-0": "-3.3537303461997587",
          "coeff-1": "0.9876132006377715",
          "coeff-2": "0.8632029326281265"
         },
         {
          "coeff-0": "-3.3537303461997587",
          "coeff-1": "0.9876132006377715",
          "coeff-2": "0.8632029326281265"
         },
         {
          "coeff-0": "-3.3537303461997587",
          "coeff-1": "0.9876132006377715",
          "coeff-2": "0.8632029326281265"
         },
         {
          "coeff-0": "-3.3537303461997587",
          "coeff-1": "0.9876132006377715",
          "coeff-2": "0.8632029326281265"
         },
         {
          "coeff-0": "-3.3537303461997587",
          "coeff-1": "0.9876132006377715",
          "coeff-2": "0.8632029326281265"
         },
         {
          "coeff-0": "-3.3537303461997587",
          "coeff-1": "0.9876132006377715",
          "coeff-2": "0.8632029326281265"
         },
         {
          "coeff-0": "-3.3537303461997587",
          "coeff-1": "0.9876132006377715",
          "coeff-2": "0.8632029326281265"
         },
         {
          "coeff-0": "-3.3537303461997587",
          "coeff-1": "0.9876132006377715",
          "coeff-2": "0.8632029326281265"
         },
         {
          "coeff-0": "-3.3537303461997587",
          "coeff-1": "0.9876132006377715",
          "coeff-2": "0.8632029326281265"
         },
         {
          "coeff-0": "-3.3537303461997587",
          "coeff-1": "0.9876132006377715",
          "coeff-2": "0.8632029326281265"
         },
         {
          "coeff-0": "-3.3537303461997587",
          "coeff-1": "0.9876132006377715",
          "coeff-2": "0.8632029326281265"
         },
         {
          "coeff-0": "-3.3537303461997587",
          "coeff-1": "0.9876132006377715",
          "coeff-2": "0.8632029326281265"
         },
         {
          "coeff-0": "-3.311410850210892",
          "coeff-1": "0.9535397093990575",
          "coeff-2": "0.874301893401772"
         },
         {
          "coeff-0": "-3.311410850210892",
          "coeff-1": "0.9535397093990575",
          "coeff-2": "0.874301893401772"
         },
         {
          "coeff-0": "-3.311410850210892",
          "coeff-1": "0.9535397093990575",
          "coeff-2": "0.874301893401772"
         },
         {
          "coeff-0": "-3.311410850210892",
          "coeff-1": "0.9535397093990575",
          "coeff-2": "0.874301893401772"
         },
         {
          "coeff-0": "-3.311410850210892",
          "coeff-1": "0.9535397093990575",
          "coeff-2": "0.874301893401772"
         },
         {
          "coeff-0": "-3.311410850210892",
          "coeff-1": "0.9535397093990575",
          "coeff-2": "0.874301893401772"
         },
         {
          "coeff-0": "-3.3138057061990103",
          "coeff-1": "0.9798983722026442",
          "coeff-2": "0.9118136347347885"
         },
         {
          "coeff-0": "-3.3138057061990103",
          "coeff-1": "0.9798983722026442",
          "coeff-2": "0.9118136347347885"
         },
         {
          "coeff-0": "-3.3138057061990103",
          "coeff-1": "0.9798983722026442",
          "coeff-2": "0.9118136347347885"
         },
         {
          "coeff-0": "-3.3138057061990103",
          "coeff-1": "0.9798983722026442",
          "coeff-2": "0.9118136347347885"
         },
         {
          "coeff-0": "-3.3138057061990103",
          "coeff-1": "0.9798983722026442",
          "coeff-2": "0.9118136347347885"
         },
         {
          "coeff-0": "-3.3138057061990103",
          "coeff-1": "0.9798983722026442",
          "coeff-2": "0.9118136347347885"
         },
         {
          "coeff-0": "-3.3138057061990103",
          "coeff-1": "0.9798983722026442",
          "coeff-2": "0.9118136347347885"
         },
         {
          "coeff-0": "-3.3138057061990103",
          "coeff-1": "0.9798983722026442",
          "coeff-2": "0.9118136347347885"
         },
         {
          "coeff-0": "-3.3138057061990103",
          "coeff-1": "0.9798983722026442",
          "coeff-2": "0.9118136347347885"
         },
         {
          "coeff-0": "-3.3138057061990103",
          "coeff-1": "0.9798983722026442",
          "coeff-2": "0.9118136347347885"
         },
         {
          "coeff-0": "-3.3138057061990103",
          "coeff-1": "0.9798983722026442",
          "coeff-2": "0.9118136347347885"
         },
         {
          "coeff-0": "-3.3138057061990103",
          "coeff-1": "0.9798983722026442",
          "coeff-2": "0.9118136347347885"
         },
         {
          "coeff-0": "-3.3138057061990103",
          "coeff-1": "0.9798983722026442",
          "coeff-2": "0.9118136347347885"
         },
         {
          "coeff-0": "-3.3138057061990103",
          "coeff-1": "0.9798983722026442",
          "coeff-2": "0.9118136347347885"
         },
         {
          "coeff-0": "-3.3138057061990103",
          "coeff-1": "0.9798983722026442",
          "coeff-2": "0.9118136347347885"
         },
         {
          "coeff-0": "-3.3138057061990103",
          "coeff-1": "0.9798983722026442",
          "coeff-2": "0.9118136347347885"
         },
         {
          "coeff-0": "-3.3138057061990103",
          "coeff-1": "0.9798983722026442",
          "coeff-2": "0.9118136347347885"
         },
         {
          "coeff-0": "-3.3138057061990103",
          "coeff-1": "0.9798983722026442",
          "coeff-2": "0.9118136347347885"
         },
         {
          "coeff-0": "-3.3138057061990103",
          "coeff-1": "0.9798983722026442",
          "coeff-2": "0.9118136347347885"
         },
         {
          "coeff-0": "-3.3138057061990103",
          "coeff-1": "0.9798983722026442",
          "coeff-2": "0.9118136347347885"
         },
         {
          "coeff-0": "-3.3138057061990103",
          "coeff-1": "0.9798983722026442",
          "coeff-2": "0.9118136347347885"
         },
         {
          "coeff-0": "-3.3138057061990103",
          "coeff-1": "0.9798983722026442",
          "coeff-2": "0.9118136347347885"
         },
         {
          "coeff-0": "-3.3138057061990103",
          "coeff-1": "0.9798983722026442",
          "coeff-2": "0.9118136347347885"
         },
         {
          "coeff-0": "-3.3138057061990103",
          "coeff-1": "0.9798983722026442",
          "coeff-2": "0.9118136347347885"
         },
         {
          "coeff-0": "-3.3138057061990103",
          "coeff-1": "0.9798983722026442",
          "coeff-2": "0.9118136347347885"
         },
         {
          "coeff-0": "-3.3138057061990103",
          "coeff-1": "0.9798983722026442",
          "coeff-2": "0.9118136347347885"
         },
         {
          "coeff-0": "-3.3138057061990103",
          "coeff-1": "0.9798983722026442",
          "coeff-2": "0.9118136347347885"
         },
         {
          "coeff-0": "-3.3138057061990103",
          "coeff-1": "0.9798983722026442",
          "coeff-2": "0.9118136347347885"
         },
         {
          "coeff-0": "-3.3138057061990103",
          "coeff-1": "0.9798983722026442",
          "coeff-2": "0.9118136347347885"
         },
         {
          "coeff-0": "-3.3138057061990103",
          "coeff-1": "0.9798983722026442",
          "coeff-2": "0.9118136347347885"
         },
         {
          "coeff-0": "-3.3138057061990103",
          "coeff-1": "0.9798983722026442",
          "coeff-2": "0.9118136347347885"
         },
         {
          "coeff-0": "-3.3138057061990103",
          "coeff-1": "0.9798983722026442",
          "coeff-2": "0.9118136347347885"
         },
         {
          "coeff-0": "-3.3138057061990103",
          "coeff-1": "0.9798983722026442",
          "coeff-2": "0.9118136347347885"
         },
         {
          "coeff-0": "-3.3148080417194676",
          "coeff-1": "1.0039674951147652",
          "coeff-2": "1.0192021907286868"
         },
         {
          "coeff-0": "-3.3148080417194676",
          "coeff-1": "1.0039674951147652",
          "coeff-2": "1.0192021907286868"
         },
         {
          "coeff-0": "-3.3148080417194676",
          "coeff-1": "1.0039674951147652",
          "coeff-2": "1.0192021907286868"
         },
         {
          "coeff-0": "-3.3148080417194676",
          "coeff-1": "1.0039674951147652",
          "coeff-2": "1.0192021907286868"
         },
         {
          "coeff-0": "-3.3148080417194676",
          "coeff-1": "1.0039674951147652",
          "coeff-2": "1.0192021907286868"
         },
         {
          "coeff-0": "-3.3148080417194676",
          "coeff-1": "1.0039674951147652",
          "coeff-2": "1.0192021907286868"
         },
         {
          "coeff-0": "-3.3148080417194676",
          "coeff-1": "1.0039674951147652",
          "coeff-2": "1.0192021907286868"
         },
         {
          "coeff-0": "-3.3148080417194676",
          "coeff-1": "1.0039674951147652",
          "coeff-2": "1.0192021907286868"
         },
         {
          "coeff-0": "-3.33258198481241",
          "coeff-1": "1.0079314616792596",
          "coeff-2": "1.0030101267319609"
         },
         {
          "coeff-0": "-3.33258198481241",
          "coeff-1": "1.0079314616792596",
          "coeff-2": "1.0030101267319609"
         },
         {
          "coeff-0": "-3.33258198481241",
          "coeff-1": "1.0079314616792596",
          "coeff-2": "1.0030101267319609"
         },
         {
          "coeff-0": "-3.33258198481241",
          "coeff-1": "1.0079314616792596",
          "coeff-2": "1.0030101267319609"
         },
         {
          "coeff-0": "-3.33258198481241",
          "coeff-1": "1.0079314616792596",
          "coeff-2": "1.0030101267319609"
         },
         {
          "coeff-0": "-3.33258198481241",
          "coeff-1": "1.0079314616792596",
          "coeff-2": "1.0030101267319609"
         },
         {
          "coeff-0": "-3.33258198481241",
          "coeff-1": "1.0079314616792596",
          "coeff-2": "1.0030101267319609"
         },
         {
          "coeff-0": "-3.33258198481241",
          "coeff-1": "1.0079314616792596",
          "coeff-2": "1.0030101267319609"
         },
         {
          "coeff-0": "-3.33258198481241",
          "coeff-1": "1.0079314616792596",
          "coeff-2": "1.0030101267319609"
         },
         {
          "coeff-0": "-3.33258198481241",
          "coeff-1": "1.0079314616792596",
          "coeff-2": "1.0030101267319609"
         },
         {
          "coeff-0": "-3.33258198481241",
          "coeff-1": "1.0079314616792596",
          "coeff-2": "1.0030101267319609"
         },
         {
          "coeff-0": "-3.33258198481241",
          "coeff-1": "1.0079314616792596",
          "coeff-2": "1.0030101267319609"
         },
         {
          "coeff-0": "-3.33258198481241",
          "coeff-1": "1.0079314616792596",
          "coeff-2": "1.0030101267319609"
         },
         {
          "coeff-0": "-3.33258198481241",
          "coeff-1": "1.0079314616792596",
          "coeff-2": "1.0030101267319609"
         },
         {
          "coeff-0": "-3.33258198481241",
          "coeff-1": "1.0079314616792596",
          "coeff-2": "1.0030101267319609"
         },
         {
          "coeff-0": "-3.33258198481241",
          "coeff-1": "1.0079314616792596",
          "coeff-2": "1.0030101267319609"
         },
         {
          "coeff-0": "-3.33258198481241",
          "coeff-1": "1.0079314616792596",
          "coeff-2": "1.0030101267319609"
         },
         {
          "coeff-0": "-3.33258198481241",
          "coeff-1": "1.0079314616792596",
          "coeff-2": "1.0030101267319609"
         },
         {
          "coeff-0": "-3.33258198481241",
          "coeff-1": "1.0079314616792596",
          "coeff-2": "1.0030101267319609"
         },
         {
          "coeff-0": "-3.33258198481241",
          "coeff-1": "1.0079314616792596",
          "coeff-2": "1.0030101267319609"
         },
         {
          "coeff-0": "-3.33258198481241",
          "coeff-1": "1.0079314616792596",
          "coeff-2": "1.0030101267319609"
         },
         {
          "coeff-0": "-3.33258198481241",
          "coeff-1": "1.0079314616792596",
          "coeff-2": "1.0030101267319609"
         },
         {
          "coeff-0": "-3.33258198481241",
          "coeff-1": "1.0079314616792596",
          "coeff-2": "1.0030101267319609"
         },
         {
          "coeff-0": "-3.33258198481241",
          "coeff-1": "1.0079314616792596",
          "coeff-2": "1.0030101267319609"
         },
         {
          "coeff-0": "-3.33258198481241",
          "coeff-1": "1.0079314616792596",
          "coeff-2": "1.0030101267319609"
         },
         {
          "coeff-0": "-3.33258198481241",
          "coeff-1": "1.0079314616792596",
          "coeff-2": "1.0030101267319609"
         },
         {
          "coeff-0": "-3.33258198481241",
          "coeff-1": "1.0079314616792596",
          "coeff-2": "1.0030101267319609"
         },
         {
          "coeff-0": "-3.33258198481241",
          "coeff-1": "1.0079314616792596",
          "coeff-2": "1.0030101267319609"
         },
         {
          "coeff-0": "-3.33258198481241",
          "coeff-1": "1.0079314616792596",
          "coeff-2": "1.0030101267319609"
         },
         {
          "coeff-0": "-3.33258198481241",
          "coeff-1": "1.0079314616792596",
          "coeff-2": "1.0030101267319609"
         },
         {
          "coeff-0": "-3.33258198481241",
          "coeff-1": "1.0079314616792596",
          "coeff-2": "1.0030101267319609"
         },
         {
          "coeff-0": "-3.33258198481241",
          "coeff-1": "1.0079314616792596",
          "coeff-2": "1.0030101267319609"
         },
         {
          "coeff-0": "-3.33258198481241",
          "coeff-1": "1.0079314616792596",
          "coeff-2": "1.0030101267319609"
         },
         {
          "coeff-0": "-3.33258198481241",
          "coeff-1": "1.0079314616792596",
          "coeff-2": "1.0030101267319609"
         },
         {
          "coeff-0": "-3.33258198481241",
          "coeff-1": "1.0079314616792596",
          "coeff-2": "1.0030101267319609"
         },
         {
          "coeff-0": "-3.33258198481241",
          "coeff-1": "1.0079314616792596",
          "coeff-2": "1.0030101267319609"
         },
         {
          "coeff-0": "-3.33258198481241",
          "coeff-1": "1.0079314616792596",
          "coeff-2": "1.0030101267319609"
         },
         {
          "coeff-0": "-3.33258198481241",
          "coeff-1": "1.0079314616792596",
          "coeff-2": "1.0030101267319609"
         },
         {
          "coeff-0": "-3.33258198481241",
          "coeff-1": "1.0079314616792596",
          "coeff-2": "1.0030101267319609"
         },
         {
          "coeff-0": "-3.33258198481241",
          "coeff-1": "1.0079314616792596",
          "coeff-2": "1.0030101267319609"
         },
         {
          "coeff-0": "-3.33258198481241",
          "coeff-1": "1.0079314616792596",
          "coeff-2": "1.0030101267319609"
         },
         {
          "coeff-0": "-3.33258198481241",
          "coeff-1": "1.0079314616792596",
          "coeff-2": "1.0030101267319609"
         },
         {
          "coeff-0": "-3.33258198481241",
          "coeff-1": "1.0079314616792596",
          "coeff-2": "1.0030101267319609"
         },
         {
          "coeff-0": "-3.33258198481241",
          "coeff-1": "1.0079314616792596",
          "coeff-2": "1.0030101267319609"
         },
         {
          "coeff-0": "-3.33258198481241",
          "coeff-1": "1.0079314616792596",
          "coeff-2": "1.0030101267319609"
         },
         {
          "coeff-0": "-3.33258198481241",
          "coeff-1": "1.0079314616792596",
          "coeff-2": "1.0030101267319609"
         },
         {
          "coeff-0": "-3.33258198481241",
          "coeff-1": "1.0079314616792596",
          "coeff-2": "1.0030101267319609"
         },
         {
          "coeff-0": "-3.33258198481241",
          "coeff-1": "1.0079314616792596",
          "coeff-2": "1.0030101267319609"
         },
         {
          "coeff-0": "-3.33258198481241",
          "coeff-1": "1.0079314616792596",
          "coeff-2": "1.0030101267319609"
         },
         {
          "coeff-0": "-3.33258198481241",
          "coeff-1": "1.0079314616792596",
          "coeff-2": "1.0030101267319609"
         },
         {
          "coeff-0": "-3.33258198481241",
          "coeff-1": "1.0079314616792596",
          "coeff-2": "1.0030101267319609"
         },
         {
          "coeff-0": "-3.33258198481241",
          "coeff-1": "1.0079314616792596",
          "coeff-2": "1.0030101267319609"
         },
         {
          "coeff-0": "-3.33258198481241",
          "coeff-1": "1.0079314616792596",
          "coeff-2": "1.0030101267319609"
         },
         {
          "coeff-0": "-3.33258198481241",
          "coeff-1": "1.0079314616792596",
          "coeff-2": "1.0030101267319609"
         },
         {
          "coeff-0": "-3.33258198481241",
          "coeff-1": "1.0079314616792596",
          "coeff-2": "1.0030101267319609"
         },
         {
          "coeff-0": "-3.33258198481241",
          "coeff-1": "1.0079314616792596",
          "coeff-2": "1.0030101267319609"
         },
         {
          "coeff-0": "-3.33258198481241",
          "coeff-1": "1.0079314616792596",
          "coeff-2": "1.0030101267319609"
         },
         {
          "coeff-0": "-3.33258198481241",
          "coeff-1": "1.0079314616792596",
          "coeff-2": "1.0030101267319609"
         },
         {
          "coeff-0": "-3.33258198481241",
          "coeff-1": "1.0079314616792596",
          "coeff-2": "1.0030101267319609"
         },
         {
          "coeff-0": "-3.33258198481241",
          "coeff-1": "1.0079314616792596",
          "coeff-2": "1.0030101267319609"
         },
         {
          "coeff-0": "-3.33258198481241",
          "coeff-1": "1.0079314616792596",
          "coeff-2": "1.0030101267319609"
         },
         {
          "coeff-0": "-3.33258198481241",
          "coeff-1": "1.0079314616792596",
          "coeff-2": "1.0030101267319609"
         },
         {
          "coeff-0": "-3.370380273462016",
          "coeff-1": "1.0727390332243396",
          "coeff-2": "0.9933611337616083"
         },
         {
          "coeff-0": "-3.370380273462016",
          "coeff-1": "1.0727390332243396",
          "coeff-2": "0.9933611337616083"
         },
         {
          "coeff-0": "-3.370380273462016",
          "coeff-1": "1.0727390332243396",
          "coeff-2": "0.9933611337616083"
         },
         {
          "coeff-0": "-3.370380273462016",
          "coeff-1": "1.0727390332243396",
          "coeff-2": "0.9933611337616083"
         },
         {
          "coeff-0": "-3.370380273462016",
          "coeff-1": "1.0727390332243396",
          "coeff-2": "0.9933611337616083"
         },
         {
          "coeff-0": "-3.370380273462016",
          "coeff-1": "1.0727390332243396",
          "coeff-2": "0.9933611337616083"
         },
         {
          "coeff-0": "-3.370380273462016",
          "coeff-1": "1.0727390332243396",
          "coeff-2": "0.9933611337616083"
         },
         {
          "coeff-0": "-3.2789234480962306",
          "coeff-1": "1.0715084728933217",
          "coeff-2": "0.9782554086442337"
         },
         {
          "coeff-0": "-3.2789234480962306",
          "coeff-1": "1.0715084728933217",
          "coeff-2": "0.9782554086442337"
         },
         {
          "coeff-0": "-3.2789234480962306",
          "coeff-1": "1.0715084728933217",
          "coeff-2": "0.9782554086442337"
         },
         {
          "coeff-0": "-3.2789234480962306",
          "coeff-1": "1.0715084728933217",
          "coeff-2": "0.9782554086442337"
         },
         {
          "coeff-0": "-3.2789234480962306",
          "coeff-1": "1.0715084728933217",
          "coeff-2": "0.9782554086442337"
         },
         {
          "coeff-0": "-3.2789234480962306",
          "coeff-1": "1.0715084728933217",
          "coeff-2": "0.9782554086442337"
         },
         {
          "coeff-0": "-3.2789234480962306",
          "coeff-1": "1.0715084728933217",
          "coeff-2": "0.9782554086442337"
         },
         {
          "coeff-0": "-3.2789234480962306",
          "coeff-1": "1.0715084728933217",
          "coeff-2": "0.9782554086442337"
         },
         {
          "coeff-0": "-3.2789234480962306",
          "coeff-1": "1.0715084728933217",
          "coeff-2": "0.9782554086442337"
         },
         {
          "coeff-0": "-3.2789234480962306",
          "coeff-1": "1.0715084728933217",
          "coeff-2": "0.9782554086442337"
         },
         {
          "coeff-0": "-3.330669692585281",
          "coeff-1": "1.0576945957737323",
          "coeff-2": "0.9548812880916812"
         },
         {
          "coeff-0": "-3.330669692585281",
          "coeff-1": "1.0576945957737323",
          "coeff-2": "0.9548812880916812"
         },
         {
          "coeff-0": "-3.330669692585281",
          "coeff-1": "1.0576945957737323",
          "coeff-2": "0.9548812880916812"
         },
         {
          "coeff-0": "-3.330669692585281",
          "coeff-1": "1.0576945957737323",
          "coeff-2": "0.9548812880916812"
         },
         {
          "coeff-0": "-3.330669692585281",
          "coeff-1": "1.0576945957737323",
          "coeff-2": "0.9548812880916812"
         },
         {
          "coeff-0": "-3.330669692585281",
          "coeff-1": "1.0576945957737323",
          "coeff-2": "0.9548812880916812"
         },
         {
          "coeff-0": "-3.330669692585281",
          "coeff-1": "1.0576945957737323",
          "coeff-2": "0.9548812880916812"
         },
         {
          "coeff-0": "-3.330669692585281",
          "coeff-1": "1.0576945957737323",
          "coeff-2": "0.9548812880916812"
         },
         {
          "coeff-0": "-3.330669692585281",
          "coeff-1": "1.0576945957737323",
          "coeff-2": "0.9548812880916812"
         },
         {
          "coeff-0": "-3.330669692585281",
          "coeff-1": "1.0576945957737323",
          "coeff-2": "0.9548812880916812"
         },
         {
          "coeff-0": "-3.330669692585281",
          "coeff-1": "1.0576945957737323",
          "coeff-2": "0.9548812880916812"
         },
         {
          "coeff-0": "-3.330669692585281",
          "coeff-1": "1.0576945957737323",
          "coeff-2": "0.9548812880916812"
         },
         {
          "coeff-0": "-3.330669692585281",
          "coeff-1": "1.0576945957737323",
          "coeff-2": "0.9548812880916812"
         },
         {
          "coeff-0": "-3.330669692585281",
          "coeff-1": "1.0576945957737323",
          "coeff-2": "0.9548812880916812"
         },
         {
          "coeff-0": "-3.330669692585281",
          "coeff-1": "1.0576945957737323",
          "coeff-2": "0.9548812880916812"
         },
         {
          "coeff-0": "-3.330669692585281",
          "coeff-1": "1.0576945957737323",
          "coeff-2": "0.9548812880916812"
         },
         {
          "coeff-0": "-3.330669692585281",
          "coeff-1": "1.0576945957737323",
          "coeff-2": "0.9548812880916812"
         },
         {
          "coeff-0": "-3.330669692585281",
          "coeff-1": "1.0576945957737323",
          "coeff-2": "0.9548812880916812"
         },
         {
          "coeff-0": "-3.330669692585281",
          "coeff-1": "1.0576945957737323",
          "coeff-2": "0.9548812880916812"
         },
         {
          "coeff-0": "-3.330669692585281",
          "coeff-1": "1.0576945957737323",
          "coeff-2": "0.9548812880916812"
         },
         {
          "coeff-0": "-3.330669692585281",
          "coeff-1": "1.0576945957737323",
          "coeff-2": "0.9548812880916812"
         },
         {
          "coeff-0": "-3.330669692585281",
          "coeff-1": "1.0576945957737323",
          "coeff-2": "0.9548812880916812"
         },
         {
          "coeff-0": "-3.330669692585281",
          "coeff-1": "1.0576945957737323",
          "coeff-2": "0.9548812880916812"
         },
         {
          "coeff-0": "-3.330669692585281",
          "coeff-1": "1.0576945957737323",
          "coeff-2": "0.9548812880916812"
         },
         {
          "coeff-0": "-3.330669692585281",
          "coeff-1": "1.0576945957737323",
          "coeff-2": "0.9548812880916812"
         },
         {
          "coeff-0": "-3.330669692585281",
          "coeff-1": "1.0576945957737323",
          "coeff-2": "0.9548812880916812"
         },
         {
          "coeff-0": "-3.330669692585281",
          "coeff-1": "1.0576945957737323",
          "coeff-2": "0.9548812880916812"
         },
         {
          "coeff-0": "-3.330669692585281",
          "coeff-1": "1.0576945957737323",
          "coeff-2": "0.9548812880916812"
         },
         {
          "coeff-0": "-3.330669692585281",
          "coeff-1": "1.0576945957737323",
          "coeff-2": "0.9548812880916812"
         },
         {
          "coeff-0": "-3.330669692585281",
          "coeff-1": "1.0576945957737323",
          "coeff-2": "0.9548812880916812"
         },
         {
          "coeff-0": "-3.330669692585281",
          "coeff-1": "1.0576945957737323",
          "coeff-2": "0.9548812880916812"
         },
         {
          "coeff-0": "-3.330669692585281",
          "coeff-1": "1.0576945957737323",
          "coeff-2": "0.9548812880916812"
         },
         {
          "coeff-0": "-3.330669692585281",
          "coeff-1": "1.0576945957737323",
          "coeff-2": "0.9548812880916812"
         },
         {
          "coeff-0": "-3.330669692585281",
          "coeff-1": "1.0576945957737323",
          "coeff-2": "0.9548812880916812"
         },
         {
          "coeff-0": "-3.330669692585281",
          "coeff-1": "1.0576945957737323",
          "coeff-2": "0.9548812880916812"
         },
         {
          "coeff-0": "-3.330669692585281",
          "coeff-1": "1.0576945957737323",
          "coeff-2": "0.9548812880916812"
         },
         {
          "coeff-0": "-3.330669692585281",
          "coeff-1": "1.0576945957737323",
          "coeff-2": "0.9548812880916812"
         },
         {
          "coeff-0": "-3.330669692585281",
          "coeff-1": "1.0576945957737323",
          "coeff-2": "0.9548812880916812"
         },
         {
          "coeff-0": "-3.330669692585281",
          "coeff-1": "1.0576945957737323",
          "coeff-2": "0.9548812880916812"
         },
         {
          "coeff-0": "-3.330669692585281",
          "coeff-1": "1.0576945957737323",
          "coeff-2": "0.9548812880916812"
         },
         {
          "coeff-0": "-3.330669692585281",
          "coeff-1": "1.0576945957737323",
          "coeff-2": "0.9548812880916812"
         },
         {
          "coeff-0": "-3.330669692585281",
          "coeff-1": "1.0576945957737323",
          "coeff-2": "0.9548812880916812"
         },
         {
          "coeff-0": "-3.330669692585281",
          "coeff-1": "1.0576945957737323",
          "coeff-2": "0.9548812880916812"
         },
         {
          "coeff-0": "-3.330669692585281",
          "coeff-1": "1.0576945957737323",
          "coeff-2": "0.9548812880916812"
         },
         {
          "coeff-0": "-3.330669692585281",
          "coeff-1": "1.0576945957737323",
          "coeff-2": "0.9548812880916812"
         },
         {
          "coeff-0": "-3.330669692585281",
          "coeff-1": "1.0576945957737323",
          "coeff-2": "0.9548812880916812"
         },
         {
          "coeff-0": "-3.330669692585281",
          "coeff-1": "1.0576945957737323",
          "coeff-2": "0.9548812880916812"
         },
         {
          "coeff-0": "-3.330669692585281",
          "coeff-1": "1.0576945957737323",
          "coeff-2": "0.9548812880916812"
         },
         {
          "coeff-0": "-3.330669692585281",
          "coeff-1": "1.0576945957737323",
          "coeff-2": "0.9548812880916812"
         },
         {
          "coeff-0": "-3.330669692585281",
          "coeff-1": "1.0576945957737323",
          "coeff-2": "0.9548812880916812"
         },
         {
          "coeff-0": "-3.330669692585281",
          "coeff-1": "1.0576945957737323",
          "coeff-2": "0.9548812880916812"
         },
         {
          "coeff-0": "-3.330669692585281",
          "coeff-1": "1.0576945957737323",
          "coeff-2": "0.9548812880916812"
         },
         {
          "coeff-0": "-3.330669692585281",
          "coeff-1": "1.0576945957737323",
          "coeff-2": "0.9548812880916812"
         },
         {
          "coeff-0": "-3.330669692585281",
          "coeff-1": "1.0576945957737323",
          "coeff-2": "0.9548812880916812"
         },
         {
          "coeff-0": "-3.330669692585281",
          "coeff-1": "1.0576945957737323",
          "coeff-2": "0.9548812880916812"
         },
         {
          "coeff-0": "-3.330669692585281",
          "coeff-1": "1.0576945957737323",
          "coeff-2": "0.9548812880916812"
         },
         {
          "coeff-0": "-3.330669692585281",
          "coeff-1": "1.0576945957737323",
          "coeff-2": "0.9548812880916812"
         },
         {
          "coeff-0": "-3.330669692585281",
          "coeff-1": "1.0576945957737323",
          "coeff-2": "0.9548812880916812"
         },
         {
          "coeff-0": "-3.330669692585281",
          "coeff-1": "1.0576945957737323",
          "coeff-2": "0.9548812880916812"
         },
         {
          "coeff-0": "-3.330669692585281",
          "coeff-1": "1.0576945957737323",
          "coeff-2": "0.9548812880916812"
         },
         {
          "coeff-0": "-3.330669692585281",
          "coeff-1": "1.0576945957737323",
          "coeff-2": "0.9548812880916812"
         },
         {
          "coeff-0": "-3.330669692585281",
          "coeff-1": "1.0576945957737323",
          "coeff-2": "0.9548812880916812"
         },
         {
          "coeff-0": "-3.330669692585281",
          "coeff-1": "1.0576945957737323",
          "coeff-2": "0.9548812880916812"
         },
         {
          "coeff-0": "-3.330669692585281",
          "coeff-1": "1.0576945957737323",
          "coeff-2": "0.9548812880916812"
         },
         {
          "coeff-0": "-3.3067281226834626",
          "coeff-1": "1.1072855435838087",
          "coeff-2": "1.047145443587454"
         },
         {
          "coeff-0": "-3.3067281226834626",
          "coeff-1": "1.1072855435838087",
          "coeff-2": "1.047145443587454"
         },
         {
          "coeff-0": "-3.3067281226834626",
          "coeff-1": "1.1072855435838087",
          "coeff-2": "1.047145443587454"
         },
         {
          "coeff-0": "-3.3067281226834626",
          "coeff-1": "1.1072855435838087",
          "coeff-2": "1.047145443587454"
         },
         {
          "coeff-0": "-3.3067281226834626",
          "coeff-1": "1.1072855435838087",
          "coeff-2": "1.047145443587454"
         },
         {
          "coeff-0": "-3.3067281226834626",
          "coeff-1": "1.1072855435838087",
          "coeff-2": "1.047145443587454"
         },
         {
          "coeff-0": "-3.3067281226834626",
          "coeff-1": "1.1072855435838087",
          "coeff-2": "1.047145443587454"
         },
         {
          "coeff-0": "-3.3067281226834626",
          "coeff-1": "1.1072855435838087",
          "coeff-2": "1.047145443587454"
         },
         {
          "coeff-0": "-3.3067281226834626",
          "coeff-1": "1.1072855435838087",
          "coeff-2": "1.047145443587454"
         },
         {
          "coeff-0": "-3.3067281226834626",
          "coeff-1": "1.1072855435838087",
          "coeff-2": "1.047145443587454"
         },
         {
          "coeff-0": "-3.3067281226834626",
          "coeff-1": "1.1072855435838087",
          "coeff-2": "1.047145443587454"
         },
         {
          "coeff-0": "-3.3067281226834626",
          "coeff-1": "1.1072855435838087",
          "coeff-2": "1.047145443587454"
         },
         {
          "coeff-0": "-3.3067281226834626",
          "coeff-1": "1.1072855435838087",
          "coeff-2": "1.047145443587454"
         },
         {
          "coeff-0": "-3.3067281226834626",
          "coeff-1": "1.1072855435838087",
          "coeff-2": "1.047145443587454"
         },
         {
          "coeff-0": "-3.3067281226834626",
          "coeff-1": "1.1072855435838087",
          "coeff-2": "1.047145443587454"
         },
         {
          "coeff-0": "-3.3067281226834626",
          "coeff-1": "1.1072855435838087",
          "coeff-2": "1.047145443587454"
         },
         {
          "coeff-0": "-3.3067281226834626",
          "coeff-1": "1.1072855435838087",
          "coeff-2": "1.047145443587454"
         },
         {
          "coeff-0": "-3.3067281226834626",
          "coeff-1": "1.1072855435838087",
          "coeff-2": "1.047145443587454"
         },
         {
          "coeff-0": "-3.3067281226834626",
          "coeff-1": "1.1072855435838087",
          "coeff-2": "1.047145443587454"
         },
         {
          "coeff-0": "-3.3067281226834626",
          "coeff-1": "1.1072855435838087",
          "coeff-2": "1.047145443587454"
         },
         {
          "coeff-0": "-3.3067281226834626",
          "coeff-1": "1.1072855435838087",
          "coeff-2": "1.047145443587454"
         },
         {
          "coeff-0": "-3.3067281226834626",
          "coeff-1": "1.1072855435838087",
          "coeff-2": "1.047145443587454"
         },
         {
          "coeff-0": "-3.3067281226834626",
          "coeff-1": "1.1072855435838087",
          "coeff-2": "1.047145443587454"
         },
         {
          "coeff-0": "-3.3067281226834626",
          "coeff-1": "1.1072855435838087",
          "coeff-2": "1.047145443587454"
         },
         {
          "coeff-0": "-3.3067281226834626",
          "coeff-1": "1.1072855435838087",
          "coeff-2": "1.047145443587454"
         },
         {
          "coeff-0": "-3.3067281226834626",
          "coeff-1": "1.1072855435838087",
          "coeff-2": "1.047145443587454"
         },
         {
          "coeff-0": "-3.3067281226834626",
          "coeff-1": "1.1072855435838087",
          "coeff-2": "1.047145443587454"
         },
         {
          "coeff-0": "-3.3067281226834626",
          "coeff-1": "1.1072855435838087",
          "coeff-2": "1.047145443587454"
         },
         {
          "coeff-0": "-3.3067281226834626",
          "coeff-1": "1.1072855435838087",
          "coeff-2": "1.047145443587454"
         },
         {
          "coeff-0": "-3.3067281226834626",
          "coeff-1": "1.1072855435838087",
          "coeff-2": "1.047145443587454"
         },
         {
          "coeff-0": "-3.3067281226834626",
          "coeff-1": "1.1072855435838087",
          "coeff-2": "1.047145443587454"
         },
         {
          "coeff-0": "-3.3067281226834626",
          "coeff-1": "1.1072855435838087",
          "coeff-2": "1.047145443587454"
         },
         {
          "coeff-0": "-3.3067281226834626",
          "coeff-1": "1.1072855435838087",
          "coeff-2": "1.047145443587454"
         },
         {
          "coeff-0": "-3.3067281226834626",
          "coeff-1": "1.1072855435838087",
          "coeff-2": "1.047145443587454"
         },
         {
          "coeff-0": "-3.3067281226834626",
          "coeff-1": "1.1072855435838087",
          "coeff-2": "1.047145443587454"
         },
         {
          "coeff-0": "-3.3067281226834626",
          "coeff-1": "1.1072855435838087",
          "coeff-2": "1.047145443587454"
         },
         {
          "coeff-0": "-3.3067281226834626",
          "coeff-1": "1.1072855435838087",
          "coeff-2": "1.047145443587454"
         },
         {
          "coeff-0": "-3.3067281226834626",
          "coeff-1": "1.1072855435838087",
          "coeff-2": "1.047145443587454"
         },
         {
          "coeff-0": "-3.3067281226834626",
          "coeff-1": "1.1072855435838087",
          "coeff-2": "1.047145443587454"
         },
         {
          "coeff-0": "-3.3067281226834626",
          "coeff-1": "1.1072855435838087",
          "coeff-2": "1.047145443587454"
         },
         {
          "coeff-0": "-3.3067281226834626",
          "coeff-1": "1.1072855435838087",
          "coeff-2": "1.047145443587454"
         },
         {
          "coeff-0": "-3.3067281226834626",
          "coeff-1": "1.1072855435838087",
          "coeff-2": "1.047145443587454"
         },
         {
          "coeff-0": "-3.3067281226834626",
          "coeff-1": "1.1072855435838087",
          "coeff-2": "1.047145443587454"
         },
         {
          "coeff-0": "-3.3067281226834626",
          "coeff-1": "1.1072855435838087",
          "coeff-2": "1.047145443587454"
         },
         {
          "coeff-0": "-3.3067281226834626",
          "coeff-1": "1.1072855435838087",
          "coeff-2": "1.047145443587454"
         },
         {
          "coeff-0": "-3.3067281226834626",
          "coeff-1": "1.1072855435838087",
          "coeff-2": "1.047145443587454"
         },
         {
          "coeff-0": "-3.3067281226834626",
          "coeff-1": "1.1072855435838087",
          "coeff-2": "1.047145443587454"
         },
         {
          "coeff-0": "-3.3067281226834626",
          "coeff-1": "1.1072855435838087",
          "coeff-2": "1.047145443587454"
         },
         {
          "coeff-0": "-3.3067281226834626",
          "coeff-1": "1.1072855435838087",
          "coeff-2": "1.047145443587454"
         },
         {
          "coeff-0": "-3.3067281226834626",
          "coeff-1": "1.1072855435838087",
          "coeff-2": "1.047145443587454"
         },
         {
          "coeff-0": "-3.3067281226834626",
          "coeff-1": "1.1072855435838087",
          "coeff-2": "1.047145443587454"
         },
         {
          "coeff-0": "-3.3067281226834626",
          "coeff-1": "1.1072855435838087",
          "coeff-2": "1.047145443587454"
         },
         {
          "coeff-0": "-3.336258922336737",
          "coeff-1": "1.0857902067076886",
          "coeff-2": "0.9889575098170981"
         },
         {
          "coeff-0": "-3.336258922336737",
          "coeff-1": "1.0857902067076886",
          "coeff-2": "0.9889575098170981"
         },
         {
          "coeff-0": "-3.336258922336737",
          "coeff-1": "1.0857902067076886",
          "coeff-2": "0.9889575098170981"
         },
         {
          "coeff-0": "-3.336258922336737",
          "coeff-1": "1.0857902067076886",
          "coeff-2": "0.9889575098170981"
         },
         {
          "coeff-0": "-3.336258922336737",
          "coeff-1": "1.0857902067076886",
          "coeff-2": "0.9889575098170981"
         },
         {
          "coeff-0": "-3.336258922336737",
          "coeff-1": "1.0857902067076886",
          "coeff-2": "0.9889575098170981"
         },
         {
          "coeff-0": "-3.336258922336737",
          "coeff-1": "1.0857902067076886",
          "coeff-2": "0.9889575098170981"
         },
         {
          "coeff-0": "-3.336258922336737",
          "coeff-1": "1.0857902067076886",
          "coeff-2": "0.9889575098170981"
         },
         {
          "coeff-0": "-3.336258922336737",
          "coeff-1": "1.0857902067076886",
          "coeff-2": "0.9889575098170981"
         },
         {
          "coeff-0": "-3.336258922336737",
          "coeff-1": "1.0857902067076886",
          "coeff-2": "0.9889575098170981"
         },
         {
          "coeff-0": "-3.336258922336737",
          "coeff-1": "1.0857902067076886",
          "coeff-2": "0.9889575098170981"
         },
         {
          "coeff-0": "-3.336258922336737",
          "coeff-1": "1.0857902067076886",
          "coeff-2": "0.9889575098170981"
         },
         {
          "coeff-0": "-3.336258922336737",
          "coeff-1": "1.0857902067076886",
          "coeff-2": "0.9889575098170981"
         },
         {
          "coeff-0": "-3.336258922336737",
          "coeff-1": "1.0857902067076886",
          "coeff-2": "0.9889575098170981"
         },
         {
          "coeff-0": "-3.336258922336737",
          "coeff-1": "1.0857902067076886",
          "coeff-2": "0.9889575098170981"
         },
         {
          "coeff-0": "-3.336258922336737",
          "coeff-1": "1.0857902067076886",
          "coeff-2": "0.9889575098170981"
         },
         {
          "coeff-0": "-3.336258922336737",
          "coeff-1": "1.0857902067076886",
          "coeff-2": "0.9889575098170981"
         },
         {
          "coeff-0": "-3.336258922336737",
          "coeff-1": "1.0857902067076886",
          "coeff-2": "0.9889575098170981"
         },
         {
          "coeff-0": "-3.336258922336737",
          "coeff-1": "1.0857902067076886",
          "coeff-2": "0.9889575098170981"
         },
         {
          "coeff-0": "-3.336258922336737",
          "coeff-1": "1.0857902067076886",
          "coeff-2": "0.9889575098170981"
         },
         {
          "coeff-0": "-3.336258922336737",
          "coeff-1": "1.0857902067076886",
          "coeff-2": "0.9889575098170981"
         },
         {
          "coeff-0": "-3.336258922336737",
          "coeff-1": "1.0857902067076886",
          "coeff-2": "0.9889575098170981"
         },
         {
          "coeff-0": "-3.336258922336737",
          "coeff-1": "1.0857902067076886",
          "coeff-2": "0.9889575098170981"
         },
         {
          "coeff-0": "-3.336258922336737",
          "coeff-1": "1.0857902067076886",
          "coeff-2": "0.9889575098170981"
         },
         {
          "coeff-0": "-3.336258922336737",
          "coeff-1": "1.0857902067076886",
          "coeff-2": "0.9889575098170981"
         },
         {
          "coeff-0": "-3.336258922336737",
          "coeff-1": "1.0857902067076886",
          "coeff-2": "0.9889575098170981"
         },
         {
          "coeff-0": "-3.336258922336737",
          "coeff-1": "1.0857902067076886",
          "coeff-2": "0.9889575098170981"
         },
         {
          "coeff-0": "-3.336258922336737",
          "coeff-1": "1.0857902067076886",
          "coeff-2": "0.9889575098170981"
         },
         {
          "coeff-0": "-3.336258922336737",
          "coeff-1": "1.0857902067076886",
          "coeff-2": "0.9889575098170981"
         },
         {
          "coeff-0": "-3.336258922336737",
          "coeff-1": "1.0857902067076886",
          "coeff-2": "0.9889575098170981"
         },
         {
          "coeff-0": "-3.336258922336737",
          "coeff-1": "1.0857902067076886",
          "coeff-2": "0.9889575098170981"
         },
         {
          "coeff-0": "-3.336258922336737",
          "coeff-1": "1.0857902067076886",
          "coeff-2": "0.9889575098170981"
         },
         {
          "coeff-0": "-3.336258922336737",
          "coeff-1": "1.0857902067076886",
          "coeff-2": "0.9889575098170981"
         },
         {
          "coeff-0": "-3.336258922336737",
          "coeff-1": "1.0857902067076886",
          "coeff-2": "0.9889575098170981"
         },
         {
          "coeff-0": "-3.336258922336737",
          "coeff-1": "1.0857902067076886",
          "coeff-2": "0.9889575098170981"
         },
         {
          "coeff-0": "-3.336258922336737",
          "coeff-1": "1.0857902067076886",
          "coeff-2": "0.9889575098170981"
         },
         {
          "coeff-0": "-3.336258922336737",
          "coeff-1": "1.0857902067076886",
          "coeff-2": "0.9889575098170981"
         },
         {
          "coeff-0": "-3.336258922336737",
          "coeff-1": "1.0857902067076886",
          "coeff-2": "0.9889575098170981"
         },
         {
          "coeff-0": "-3.336258922336737",
          "coeff-1": "1.0857902067076886",
          "coeff-2": "0.9889575098170981"
         },
         {
          "coeff-0": "-3.336258922336737",
          "coeff-1": "1.0857902067076886",
          "coeff-2": "0.9889575098170981"
         },
         {
          "coeff-0": "-3.3018197209092457",
          "coeff-1": "1.0573125532233392",
          "coeff-2": "1.064708264137118"
         },
         {
          "coeff-0": "-3.3018197209092457",
          "coeff-1": "1.0573125532233392",
          "coeff-2": "1.064708264137118"
         },
         {
          "coeff-0": "-3.3018197209092457",
          "coeff-1": "1.0573125532233392",
          "coeff-2": "1.064708264137118"
         },
         {
          "coeff-0": "-3.3018197209092457",
          "coeff-1": "1.0573125532233392",
          "coeff-2": "1.064708264137118"
         },
         {
          "coeff-0": "-3.342174117448693",
          "coeff-1": "1.090692218434287",
          "coeff-2": "1.0662772779358374"
         },
         {
          "coeff-0": "-3.342174117448693",
          "coeff-1": "1.090692218434287",
          "coeff-2": "1.0662772779358374"
         },
         {
          "coeff-0": "-3.342174117448693",
          "coeff-1": "1.090692218434287",
          "coeff-2": "1.0662772779358374"
         },
         {
          "coeff-0": "-3.342174117448693",
          "coeff-1": "1.090692218434287",
          "coeff-2": "1.0662772779358374"
         },
         {
          "coeff-0": "-3.342174117448693",
          "coeff-1": "1.090692218434287",
          "coeff-2": "1.0662772779358374"
         },
         {
          "coeff-0": "-3.342174117448693",
          "coeff-1": "1.090692218434287",
          "coeff-2": "1.0662772779358374"
         },
         {
          "coeff-0": "-3.342174117448693",
          "coeff-1": "1.090692218434287",
          "coeff-2": "1.0662772779358374"
         },
         {
          "coeff-0": "-3.342174117448693",
          "coeff-1": "1.090692218434287",
          "coeff-2": "1.0662772779358374"
         },
         {
          "coeff-0": "-3.3100682493063305",
          "coeff-1": "1.115635521775554",
          "coeff-2": "1.1290921370391347"
         },
         {
          "coeff-0": "-3.3100682493063305",
          "coeff-1": "1.115635521775554",
          "coeff-2": "1.1290921370391347"
         },
         {
          "coeff-0": "-3.3100682493063305",
          "coeff-1": "1.115635521775554",
          "coeff-2": "1.1290921370391347"
         },
         {
          "coeff-0": "-3.3100682493063305",
          "coeff-1": "1.115635521775554",
          "coeff-2": "1.1290921370391347"
         },
         {
          "coeff-0": "-3.3100682493063305",
          "coeff-1": "1.115635521775554",
          "coeff-2": "1.1290921370391347"
         },
         {
          "coeff-0": "-3.3100682493063305",
          "coeff-1": "1.115635521775554",
          "coeff-2": "1.1290921370391347"
         },
         {
          "coeff-0": "-3.3100682493063305",
          "coeff-1": "1.115635521775554",
          "coeff-2": "1.1290921370391347"
         },
         {
          "coeff-0": "-3.3100682493063305",
          "coeff-1": "1.115635521775554",
          "coeff-2": "1.1290921370391347"
         },
         {
          "coeff-0": "-3.3100682493063305",
          "coeff-1": "1.115635521775554",
          "coeff-2": "1.1290921370391347"
         },
         {
          "coeff-0": "-3.3100682493063305",
          "coeff-1": "1.115635521775554",
          "coeff-2": "1.1290921370391347"
         },
         {
          "coeff-0": "-3.3100682493063305",
          "coeff-1": "1.115635521775554",
          "coeff-2": "1.1290921370391347"
         },
         {
          "coeff-0": "-3.3100682493063305",
          "coeff-1": "1.115635521775554",
          "coeff-2": "1.1290921370391347"
         },
         {
          "coeff-0": "-3.3100682493063305",
          "coeff-1": "1.115635521775554",
          "coeff-2": "1.1290921370391347"
         },
         {
          "coeff-0": "-3.3100682493063305",
          "coeff-1": "1.115635521775554",
          "coeff-2": "1.1290921370391347"
         },
         {
          "coeff-0": "-3.3100682493063305",
          "coeff-1": "1.115635521775554",
          "coeff-2": "1.1290921370391347"
         },
         {
          "coeff-0": "-3.3100682493063305",
          "coeff-1": "1.115635521775554",
          "coeff-2": "1.1290921370391347"
         },
         {
          "coeff-0": "-3.3100682493063305",
          "coeff-1": "1.115635521775554",
          "coeff-2": "1.1290921370391347"
         },
         {
          "coeff-0": "-3.3100682493063305",
          "coeff-1": "1.115635521775554",
          "coeff-2": "1.1290921370391347"
         },
         {
          "coeff-0": "-3.3100682493063305",
          "coeff-1": "1.115635521775554",
          "coeff-2": "1.1290921370391347"
         },
         {
          "coeff-0": "-3.3100682493063305",
          "coeff-1": "1.115635521775554",
          "coeff-2": "1.1290921370391347"
         },
         {
          "coeff-0": "-3.3100682493063305",
          "coeff-1": "1.115635521775554",
          "coeff-2": "1.1290921370391347"
         },
         {
          "coeff-0": "-3.3100682493063305",
          "coeff-1": "1.115635521775554",
          "coeff-2": "1.1290921370391347"
         },
         {
          "coeff-0": "-3.3100682493063305",
          "coeff-1": "1.115635521775554",
          "coeff-2": "1.1290921370391347"
         },
         {
          "coeff-0": "-3.3100682493063305",
          "coeff-1": "1.115635521775554",
          "coeff-2": "1.1290921370391347"
         },
         {
          "coeff-0": "-3.3100682493063305",
          "coeff-1": "1.115635521775554",
          "coeff-2": "1.1290921370391347"
         },
         {
          "coeff-0": "-3.3100682493063305",
          "coeff-1": "1.115635521775554",
          "coeff-2": "1.1290921370391347"
         },
         {
          "coeff-0": "-3.3100682493063305",
          "coeff-1": "1.115635521775554",
          "coeff-2": "1.1290921370391347"
         },
         {
          "coeff-0": "-3.3100682493063305",
          "coeff-1": "1.115635521775554",
          "coeff-2": "1.1290921370391347"
         },
         {
          "coeff-0": "-3.3100682493063305",
          "coeff-1": "1.115635521775554",
          "coeff-2": "1.1290921370391347"
         },
         {
          "coeff-0": "-3.3100682493063305",
          "coeff-1": "1.115635521775554",
          "coeff-2": "1.1290921370391347"
         },
         {
          "coeff-0": "-3.3100682493063305",
          "coeff-1": "1.115635521775554",
          "coeff-2": "1.1290921370391347"
         },
         {
          "coeff-0": "-3.3100682493063305",
          "coeff-1": "1.115635521775554",
          "coeff-2": "1.1290921370391347"
         },
         {
          "coeff-0": "-3.3100682493063305",
          "coeff-1": "1.115635521775554",
          "coeff-2": "1.1290921370391347"
         },
         {
          "coeff-0": "-3.3100682493063305",
          "coeff-1": "1.115635521775554",
          "coeff-2": "1.1290921370391347"
         },
         {
          "coeff-0": "-3.3100682493063305",
          "coeff-1": "1.115635521775554",
          "coeff-2": "1.1290921370391347"
         },
         {
          "coeff-0": "-3.3100682493063305",
          "coeff-1": "1.115635521775554",
          "coeff-2": "1.1290921370391347"
         },
         {
          "coeff-0": "-3.3100682493063305",
          "coeff-1": "1.115635521775554",
          "coeff-2": "1.1290921370391347"
         },
         {
          "coeff-0": "-3.3100682493063305",
          "coeff-1": "1.115635521775554",
          "coeff-2": "1.1290921370391347"
         },
         {
          "coeff-0": "-3.3100682493063305",
          "coeff-1": "1.115635521775554",
          "coeff-2": "1.1290921370391347"
         },
         {
          "coeff-0": "-3.3100682493063305",
          "coeff-1": "1.115635521775554",
          "coeff-2": "1.1290921370391347"
         },
         {
          "coeff-0": "-3.3100682493063305",
          "coeff-1": "1.115635521775554",
          "coeff-2": "1.1290921370391347"
         },
         {
          "coeff-0": "-3.3100682493063305",
          "coeff-1": "1.115635521775554",
          "coeff-2": "1.1290921370391347"
         },
         {
          "coeff-0": "-3.3100682493063305",
          "coeff-1": "1.115635521775554",
          "coeff-2": "1.1290921370391347"
         },
         {
          "coeff-0": "-3.3100682493063305",
          "coeff-1": "1.115635521775554",
          "coeff-2": "1.1290921370391347"
         },
         {
          "coeff-0": "-3.3100682493063305",
          "coeff-1": "1.115635521775554",
          "coeff-2": "1.1290921370391347"
         },
         {
          "coeff-0": "-3.3100682493063305",
          "coeff-1": "1.115635521775554",
          "coeff-2": "1.1290921370391347"
         },
         {
          "coeff-0": "-3.3100682493063305",
          "coeff-1": "1.115635521775554",
          "coeff-2": "1.1290921370391347"
         },
         {
          "coeff-0": "-3.3100682493063305",
          "coeff-1": "1.115635521775554",
          "coeff-2": "1.1290921370391347"
         },
         {
          "coeff-0": "-3.3100682493063305",
          "coeff-1": "1.115635521775554",
          "coeff-2": "1.1290921370391347"
         },
         {
          "coeff-0": "-3.3100682493063305",
          "coeff-1": "1.115635521775554",
          "coeff-2": "1.1290921370391347"
         },
         {
          "coeff-0": "-3.3100682493063305",
          "coeff-1": "1.115635521775554",
          "coeff-2": "1.1290921370391347"
         },
         {
          "coeff-0": "-3.3100682493063305",
          "coeff-1": "1.115635521775554",
          "coeff-2": "1.1290921370391347"
         },
         {
          "coeff-0": "-3.3100682493063305",
          "coeff-1": "1.115635521775554",
          "coeff-2": "1.1290921370391347"
         },
         {
          "coeff-0": "-3.3100682493063305",
          "coeff-1": "1.115635521775554",
          "coeff-2": "1.1290921370391347"
         },
         {
          "coeff-0": "-3.3100682493063305",
          "coeff-1": "1.115635521775554",
          "coeff-2": "1.1290921370391347"
         },
         {
          "coeff-0": "-3.3409242704988866",
          "coeff-1": "1.075553928315692",
          "coeff-2": "1.1609891774147676"
         },
         {
          "coeff-0": "-3.3409242704988866",
          "coeff-1": "1.075553928315692",
          "coeff-2": "1.1609891774147676"
         },
         {
          "coeff-0": "-3.3409242704988866",
          "coeff-1": "1.075553928315692",
          "coeff-2": "1.1609891774147676"
         },
         {
          "coeff-0": "-3.3409242704988866",
          "coeff-1": "1.075553928315692",
          "coeff-2": "1.1609891774147676"
         },
         {
          "coeff-0": "-3.3409242704988866",
          "coeff-1": "1.075553928315692",
          "coeff-2": "1.1609891774147676"
         },
         {
          "coeff-0": "-3.3409242704988866",
          "coeff-1": "1.075553928315692",
          "coeff-2": "1.1609891774147676"
         },
         {
          "coeff-0": "-3.3409242704988866",
          "coeff-1": "1.075553928315692",
          "coeff-2": "1.1609891774147676"
         },
         {
          "coeff-0": "-3.3409242704988866",
          "coeff-1": "1.075553928315692",
          "coeff-2": "1.1609891774147676"
         },
         {
          "coeff-0": "-3.3409242704988866",
          "coeff-1": "1.075553928315692",
          "coeff-2": "1.1609891774147676"
         },
         {
          "coeff-0": "-3.3409242704988866",
          "coeff-1": "1.075553928315692",
          "coeff-2": "1.1609891774147676"
         },
         {
          "coeff-0": "-3.3409242704988866",
          "coeff-1": "1.075553928315692",
          "coeff-2": "1.1609891774147676"
         },
         {
          "coeff-0": "-3.3409242704988866",
          "coeff-1": "1.075553928315692",
          "coeff-2": "1.1609891774147676"
         },
         {
          "coeff-0": "-3.3409242704988866",
          "coeff-1": "1.075553928315692",
          "coeff-2": "1.1609891774147676"
         },
         {
          "coeff-0": "-3.3409242704988866",
          "coeff-1": "1.075553928315692",
          "coeff-2": "1.1609891774147676"
         },
         {
          "coeff-0": "-3.3409242704988866",
          "coeff-1": "1.075553928315692",
          "coeff-2": "1.1609891774147676"
         },
         {
          "coeff-0": "-3.3409242704988866",
          "coeff-1": "1.075553928315692",
          "coeff-2": "1.1609891774147676"
         },
         {
          "coeff-0": "-3.3409242704988866",
          "coeff-1": "1.075553928315692",
          "coeff-2": "1.1609891774147676"
         },
         {
          "coeff-0": "-3.3409242704988866",
          "coeff-1": "1.075553928315692",
          "coeff-2": "1.1609891774147676"
         },
         {
          "coeff-0": "-3.3409242704988866",
          "coeff-1": "1.075553928315692",
          "coeff-2": "1.1609891774147676"
         },
         {
          "coeff-0": "-3.3409242704988866",
          "coeff-1": "1.075553928315692",
          "coeff-2": "1.1609891774147676"
         },
         {
          "coeff-0": "-3.3409242704988866",
          "coeff-1": "1.075553928315692",
          "coeff-2": "1.1609891774147676"
         },
         {
          "coeff-0": "-3.3409242704988866",
          "coeff-1": "1.075553928315692",
          "coeff-2": "1.1609891774147676"
         },
         {
          "coeff-0": "-3.3409242704988866",
          "coeff-1": "1.075553928315692",
          "coeff-2": "1.1609891774147676"
         },
         {
          "coeff-0": "-3.3409242704988866",
          "coeff-1": "1.075553928315692",
          "coeff-2": "1.1609891774147676"
         },
         {
          "coeff-0": "-3.3409242704988866",
          "coeff-1": "1.075553928315692",
          "coeff-2": "1.1609891774147676"
         },
         {
          "coeff-0": "-3.3409242704988866",
          "coeff-1": "1.075553928315692",
          "coeff-2": "1.1609891774147676"
         },
         {
          "coeff-0": "-3.3409242704988866",
          "coeff-1": "1.075553928315692",
          "coeff-2": "1.1609891774147676"
         },
         {
          "coeff-0": "-3.3409242704988866",
          "coeff-1": "1.075553928315692",
          "coeff-2": "1.1609891774147676"
         },
         {
          "coeff-0": "-3.3409242704988866",
          "coeff-1": "1.075553928315692",
          "coeff-2": "1.1609891774147676"
         },
         {
          "coeff-0": "-3.3409242704988866",
          "coeff-1": "1.075553928315692",
          "coeff-2": "1.1609891774147676"
         },
         {
          "coeff-0": "-3.3409242704988866",
          "coeff-1": "1.075553928315692",
          "coeff-2": "1.1609891774147676"
         },
         {
          "coeff-0": "-3.3409242704988866",
          "coeff-1": "1.075553928315692",
          "coeff-2": "1.1609891774147676"
         },
         {
          "coeff-0": "-3.3409242704988866",
          "coeff-1": "1.075553928315692",
          "coeff-2": "1.1609891774147676"
         },
         {
          "coeff-0": "-3.3409242704988866",
          "coeff-1": "1.075553928315692",
          "coeff-2": "1.1609891774147676"
         },
         {
          "coeff-0": "-3.3409242704988866",
          "coeff-1": "1.075553928315692",
          "coeff-2": "1.1609891774147676"
         },
         {
          "coeff-0": "-3.3409242704988866",
          "coeff-1": "1.075553928315692",
          "coeff-2": "1.1609891774147676"
         },
         {
          "coeff-0": "-3.3409242704988866",
          "coeff-1": "1.075553928315692",
          "coeff-2": "1.1609891774147676"
         },
         {
          "coeff-0": "-3.3409242704988866",
          "coeff-1": "1.075553928315692",
          "coeff-2": "1.1609891774147676"
         },
         {
          "coeff-0": "-3.3409242704988866",
          "coeff-1": "1.075553928315692",
          "coeff-2": "1.1609891774147676"
         },
         {
          "coeff-0": "-3.3409242704988866",
          "coeff-1": "1.075553928315692",
          "coeff-2": "1.1609891774147676"
         },
         {
          "coeff-0": "-3.3409242704988866",
          "coeff-1": "1.075553928315692",
          "coeff-2": "1.1609891774147676"
         },
         {
          "coeff-0": "-3.339925773946842",
          "coeff-1": "1.0992655286647892",
          "coeff-2": "1.0834628774340143"
         },
         {
          "coeff-0": "-3.339925773946842",
          "coeff-1": "1.0992655286647892",
          "coeff-2": "1.0834628774340143"
         },
         {
          "coeff-0": "-3.339925773946842",
          "coeff-1": "1.0992655286647892",
          "coeff-2": "1.0834628774340143"
         },
         {
          "coeff-0": "-3.339925773946842",
          "coeff-1": "1.0992655286647892",
          "coeff-2": "1.0834628774340143"
         },
         {
          "coeff-0": "-3.339925773946842",
          "coeff-1": "1.0992655286647892",
          "coeff-2": "1.0834628774340143"
         },
         {
          "coeff-0": "-3.339925773946842",
          "coeff-1": "1.0992655286647892",
          "coeff-2": "1.0834628774340143"
         },
         {
          "coeff-0": "-3.339925773946842",
          "coeff-1": "1.0992655286647892",
          "coeff-2": "1.0834628774340143"
         },
         {
          "coeff-0": "-3.339925773946842",
          "coeff-1": "1.0992655286647892",
          "coeff-2": "1.0834628774340143"
         },
         {
          "coeff-0": "-3.339925773946842",
          "coeff-1": "1.0992655286647892",
          "coeff-2": "1.0834628774340143"
         },
         {
          "coeff-0": "-3.339925773946842",
          "coeff-1": "1.0992655286647892",
          "coeff-2": "1.0834628774340143"
         },
         {
          "coeff-0": "-3.339925773946842",
          "coeff-1": "1.0992655286647892",
          "coeff-2": "1.0834628774340143"
         },
         {
          "coeff-0": "-3.339925773946842",
          "coeff-1": "1.0992655286647892",
          "coeff-2": "1.0834628774340143"
         },
         {
          "coeff-0": "-3.339925773946842",
          "coeff-1": "1.0992655286647892",
          "coeff-2": "1.0834628774340143"
         },
         {
          "coeff-0": "-3.339925773946842",
          "coeff-1": "1.0992655286647892",
          "coeff-2": "1.0834628774340143"
         },
         {
          "coeff-0": "-3.339925773946842",
          "coeff-1": "1.0992655286647892",
          "coeff-2": "1.0834628774340143"
         },
         {
          "coeff-0": "-3.339925773946842",
          "coeff-1": "1.0992655286647892",
          "coeff-2": "1.0834628774340143"
         },
         {
          "coeff-0": "-3.339925773946842",
          "coeff-1": "1.0992655286647892",
          "coeff-2": "1.0834628774340143"
         },
         {
          "coeff-0": "-3.339925773946842",
          "coeff-1": "1.0992655286647892",
          "coeff-2": "1.0834628774340143"
         },
         {
          "coeff-0": "-3.339925773946842",
          "coeff-1": "1.0992655286647892",
          "coeff-2": "1.0834628774340143"
         },
         {
          "coeff-0": "-3.339925773946842",
          "coeff-1": "1.0992655286647892",
          "coeff-2": "1.0834628774340143"
         },
         {
          "coeff-0": "-3.339925773946842",
          "coeff-1": "1.0992655286647892",
          "coeff-2": "1.0834628774340143"
         },
         {
          "coeff-0": "-3.339925773946842",
          "coeff-1": "1.0992655286647892",
          "coeff-2": "1.0834628774340143"
         },
         {
          "coeff-0": "-3.339925773946842",
          "coeff-1": "1.0992655286647892",
          "coeff-2": "1.0834628774340143"
         },
         {
          "coeff-0": "-3.339925773946842",
          "coeff-1": "1.0992655286647892",
          "coeff-2": "1.0834628774340143"
         },
         {
          "coeff-0": "-3.339925773946842",
          "coeff-1": "1.0992655286647892",
          "coeff-2": "1.0834628774340143"
         },
         {
          "coeff-0": "-3.339925773946842",
          "coeff-1": "1.0992655286647892",
          "coeff-2": "1.0834628774340143"
         },
         {
          "coeff-0": "-3.339925773946842",
          "coeff-1": "1.0992655286647892",
          "coeff-2": "1.0834628774340143"
         },
         {
          "coeff-0": "-3.339925773946842",
          "coeff-1": "1.0992655286647892",
          "coeff-2": "1.0834628774340143"
         },
         {
          "coeff-0": "-3.339925773946842",
          "coeff-1": "1.0992655286647892",
          "coeff-2": "1.0834628774340143"
         },
         {
          "coeff-0": "-3.339925773946842",
          "coeff-1": "1.0992655286647892",
          "coeff-2": "1.0834628774340143"
         },
         {
          "coeff-0": "-3.339925773946842",
          "coeff-1": "1.0992655286647892",
          "coeff-2": "1.0834628774340143"
         },
         {
          "coeff-0": "-3.339925773946842",
          "coeff-1": "1.0992655286647892",
          "coeff-2": "1.0834628774340143"
         },
         {
          "coeff-0": "-3.339925773946842",
          "coeff-1": "1.0992655286647892",
          "coeff-2": "1.0834628774340143"
         },
         {
          "coeff-0": "-3.339925773946842",
          "coeff-1": "1.0992655286647892",
          "coeff-2": "1.0834628774340143"
         },
         {
          "coeff-0": "-3.339925773946842",
          "coeff-1": "1.0992655286647892",
          "coeff-2": "1.0834628774340143"
         },
         {
          "coeff-0": "-3.339925773946842",
          "coeff-1": "1.0992655286647892",
          "coeff-2": "1.0834628774340143"
         },
         {
          "coeff-0": "-3.339925773946842",
          "coeff-1": "1.0992655286647892",
          "coeff-2": "1.0834628774340143"
         },
         {
          "coeff-0": "-3.339925773946842",
          "coeff-1": "1.0992655286647892",
          "coeff-2": "1.0834628774340143"
         },
         {
          "coeff-0": "-3.339925773946842",
          "coeff-1": "1.0992655286647892",
          "coeff-2": "1.0834628774340143"
         },
         {
          "coeff-0": "-3.339925773946842",
          "coeff-1": "1.0992655286647892",
          "coeff-2": "1.0834628774340143"
         },
         {
          "coeff-0": "-3.339925773946842",
          "coeff-1": "1.0992655286647892",
          "coeff-2": "1.0834628774340143"
         },
         {
          "coeff-0": "-3.339925773946842",
          "coeff-1": "1.0992655286647892",
          "coeff-2": "1.0834628774340143"
         },
         {
          "coeff-0": "-3.339925773946842",
          "coeff-1": "1.0992655286647892",
          "coeff-2": "1.0834628774340143"
         },
         {
          "coeff-0": "-3.339925773946842",
          "coeff-1": "1.0992655286647892",
          "coeff-2": "1.0834628774340143"
         },
         {
          "coeff-0": "-3.339925773946842",
          "coeff-1": "1.0992655286647892",
          "coeff-2": "1.0834628774340143"
         },
         {
          "coeff-0": "-3.339925773946842",
          "coeff-1": "1.0992655286647892",
          "coeff-2": "1.0834628774340143"
         },
         {
          "coeff-0": "-3.339925773946842",
          "coeff-1": "1.0992655286647892",
          "coeff-2": "1.0834628774340143"
         },
         {
          "coeff-0": "-3.339925773946842",
          "coeff-1": "1.0992655286647892",
          "coeff-2": "1.0834628774340143"
         },
         {
          "coeff-0": "-3.339925773946842",
          "coeff-1": "1.0992655286647892",
          "coeff-2": "1.0834628774340143"
         },
         {
          "coeff-0": "-3.339925773946842",
          "coeff-1": "1.0992655286647892",
          "coeff-2": "1.0834628774340143"
         },
         {
          "coeff-0": "-3.339925773946842",
          "coeff-1": "1.0992655286647892",
          "coeff-2": "1.0834628774340143"
         },
         {
          "coeff-0": "-3.3384341176802197",
          "coeff-1": "1.0955931692665726",
          "coeff-2": "1.1385272017719663"
         },
         {
          "coeff-0": "-3.3384341176802197",
          "coeff-1": "1.0955931692665726",
          "coeff-2": "1.1385272017719663"
         },
         {
          "coeff-0": "-3.3384341176802197",
          "coeff-1": "1.0955931692665726",
          "coeff-2": "1.1385272017719663"
         },
         {
          "coeff-0": "-3.3384341176802197",
          "coeff-1": "1.0955931692665726",
          "coeff-2": "1.1385272017719663"
         },
         {
          "coeff-0": "-3.3384341176802197",
          "coeff-1": "1.0955931692665726",
          "coeff-2": "1.1385272017719663"
         },
         {
          "coeff-0": "-3.3384341176802197",
          "coeff-1": "1.0955931692665726",
          "coeff-2": "1.1385272017719663"
         },
         {
          "coeff-0": "-3.3384341176802197",
          "coeff-1": "1.0955931692665726",
          "coeff-2": "1.1385272017719663"
         },
         {
          "coeff-0": "-3.3384341176802197",
          "coeff-1": "1.0955931692665726",
          "coeff-2": "1.1385272017719663"
         },
         {
          "coeff-0": "-3.3384341176802197",
          "coeff-1": "1.0955931692665726",
          "coeff-2": "1.1385272017719663"
         },
         {
          "coeff-0": "-3.3384341176802197",
          "coeff-1": "1.0955931692665726",
          "coeff-2": "1.1385272017719663"
         },
         {
          "coeff-0": "-3.3384341176802197",
          "coeff-1": "1.0955931692665726",
          "coeff-2": "1.1385272017719663"
         },
         {
          "coeff-0": "-3.3384341176802197",
          "coeff-1": "1.0955931692665726",
          "coeff-2": "1.1385272017719663"
         },
         {
          "coeff-0": "-3.3384341176802197",
          "coeff-1": "1.0955931692665726",
          "coeff-2": "1.1385272017719663"
         },
         {
          "coeff-0": "-3.3384341176802197",
          "coeff-1": "1.0955931692665726",
          "coeff-2": "1.1385272017719663"
         },
         {
          "coeff-0": "-3.3384341176802197",
          "coeff-1": "1.0955931692665726",
          "coeff-2": "1.1385272017719663"
         },
         {
          "coeff-0": "-3.3384341176802197",
          "coeff-1": "1.0955931692665726",
          "coeff-2": "1.1385272017719663"
         },
         {
          "coeff-0": "-3.3384341176802197",
          "coeff-1": "1.0955931692665726",
          "coeff-2": "1.1385272017719663"
         },
         {
          "coeff-0": "-3.3384341176802197",
          "coeff-1": "1.0955931692665726",
          "coeff-2": "1.1385272017719663"
         },
         {
          "coeff-0": "-3.3384341176802197",
          "coeff-1": "1.0955931692665726",
          "coeff-2": "1.1385272017719663"
         },
         {
          "coeff-0": "-3.3384341176802197",
          "coeff-1": "1.0955931692665726",
          "coeff-2": "1.1385272017719663"
         },
         {
          "coeff-0": "-3.3384341176802197",
          "coeff-1": "1.0955931692665726",
          "coeff-2": "1.1385272017719663"
         },
         {
          "coeff-0": "-3.3384341176802197",
          "coeff-1": "1.0955931692665726",
          "coeff-2": "1.1385272017719663"
         },
         {
          "coeff-0": "-3.3384341176802197",
          "coeff-1": "1.0955931692665726",
          "coeff-2": "1.1385272017719663"
         },
         {
          "coeff-0": "-3.3384341176802197",
          "coeff-1": "1.0955931692665726",
          "coeff-2": "1.1385272017719663"
         },
         {
          "coeff-0": "-3.3384341176802197",
          "coeff-1": "1.0955931692665726",
          "coeff-2": "1.1385272017719663"
         },
         {
          "coeff-0": "-3.3384341176802197",
          "coeff-1": "1.0955931692665726",
          "coeff-2": "1.1385272017719663"
         },
         {
          "coeff-0": "-3.3384341176802197",
          "coeff-1": "1.0955931692665726",
          "coeff-2": "1.1385272017719663"
         },
         {
          "coeff-0": "-3.3384341176802197",
          "coeff-1": "1.0955931692665726",
          "coeff-2": "1.1385272017719663"
         },
         {
          "coeff-0": "-3.3384341176802197",
          "coeff-1": "1.0955931692665726",
          "coeff-2": "1.1385272017719663"
         },
         {
          "coeff-0": "-3.3384430857964835",
          "coeff-1": "1.0524563991467242",
          "coeff-2": "1.1196289250159719"
         },
         {
          "coeff-0": "-3.3384430857964835",
          "coeff-1": "1.0524563991467242",
          "coeff-2": "1.1196289250159719"
         },
         {
          "coeff-0": "-3.3384430857964835",
          "coeff-1": "1.0524563991467242",
          "coeff-2": "1.1196289250159719"
         },
         {
          "coeff-0": "-3.3384430857964835",
          "coeff-1": "1.0524563991467242",
          "coeff-2": "1.1196289250159719"
         },
         {
          "coeff-0": "-3.3384430857964835",
          "coeff-1": "1.0524563991467242",
          "coeff-2": "1.1196289250159719"
         },
         {
          "coeff-0": "-3.3384430857964835",
          "coeff-1": "1.0524563991467242",
          "coeff-2": "1.1196289250159719"
         },
         {
          "coeff-0": "-3.3384430857964835",
          "coeff-1": "1.0524563991467242",
          "coeff-2": "1.1196289250159719"
         },
         {
          "coeff-0": "-3.3384430857964835",
          "coeff-1": "1.0524563991467242",
          "coeff-2": "1.1196289250159719"
         },
         {
          "coeff-0": "-3.3384430857964835",
          "coeff-1": "1.0524563991467242",
          "coeff-2": "1.1196289250159719"
         },
         {
          "coeff-0": "-3.3384430857964835",
          "coeff-1": "1.0524563991467242",
          "coeff-2": "1.1196289250159719"
         },
         {
          "coeff-0": "-3.3384430857964835",
          "coeff-1": "1.0524563991467242",
          "coeff-2": "1.1196289250159719"
         },
         {
          "coeff-0": "-3.3384430857964835",
          "coeff-1": "1.0524563991467242",
          "coeff-2": "1.1196289250159719"
         },
         {
          "coeff-0": "-3.3384430857964835",
          "coeff-1": "1.0524563991467242",
          "coeff-2": "1.1196289250159719"
         },
         {
          "coeff-0": "-3.3384430857964835",
          "coeff-1": "1.0524563991467242",
          "coeff-2": "1.1196289250159719"
         },
         {
          "coeff-0": "-3.3384430857964835",
          "coeff-1": "1.0524563991467242",
          "coeff-2": "1.1196289250159719"
         },
         {
          "coeff-0": "-3.3384430857964835",
          "coeff-1": "1.0524563991467242",
          "coeff-2": "1.1196289250159719"
         },
         {
          "coeff-0": "-3.3384430857964835",
          "coeff-1": "1.0524563991467242",
          "coeff-2": "1.1196289250159719"
         },
         {
          "coeff-0": "-3.3384430857964835",
          "coeff-1": "1.0524563991467242",
          "coeff-2": "1.1196289250159719"
         },
         {
          "coeff-0": "-3.3384430857964835",
          "coeff-1": "1.0524563991467242",
          "coeff-2": "1.1196289250159719"
         },
         {
          "coeff-0": "-3.3384430857964835",
          "coeff-1": "1.0524563991467242",
          "coeff-2": "1.1196289250159719"
         },
         {
          "coeff-0": "-3.3384430857964835",
          "coeff-1": "1.0524563991467242",
          "coeff-2": "1.1196289250159719"
         },
         {
          "coeff-0": "-3.3384430857964835",
          "coeff-1": "1.0524563991467242",
          "coeff-2": "1.1196289250159719"
         },
         {
          "coeff-0": "-3.3384430857964835",
          "coeff-1": "1.0524563991467242",
          "coeff-2": "1.1196289250159719"
         },
         {
          "coeff-0": "-3.3384430857964835",
          "coeff-1": "1.0524563991467242",
          "coeff-2": "1.1196289250159719"
         },
         {
          "coeff-0": "-3.3384430857964835",
          "coeff-1": "1.0524563991467242",
          "coeff-2": "1.1196289250159719"
         },
         {
          "coeff-0": "-3.3384430857964835",
          "coeff-1": "1.0524563991467242",
          "coeff-2": "1.1196289250159719"
         },
         {
          "coeff-0": "-3.3384430857964835",
          "coeff-1": "1.0524563991467242",
          "coeff-2": "1.1196289250159719"
         },
         {
          "coeff-0": "-3.3384430857964835",
          "coeff-1": "1.0524563991467242",
          "coeff-2": "1.1196289250159719"
         },
         {
          "coeff-0": "-3.3384430857964835",
          "coeff-1": "1.0524563991467242",
          "coeff-2": "1.1196289250159719"
         },
         {
          "coeff-0": "-3.3384430857964835",
          "coeff-1": "1.0524563991467242",
          "coeff-2": "1.1196289250159719"
         },
         {
          "coeff-0": "-3.3384430857964835",
          "coeff-1": "1.0524563991467242",
          "coeff-2": "1.1196289250159719"
         },
         {
          "coeff-0": "-3.3384430857964835",
          "coeff-1": "1.0524563991467242",
          "coeff-2": "1.1196289250159719"
         },
         {
          "coeff-0": "-3.3384430857964835",
          "coeff-1": "1.0524563991467242",
          "coeff-2": "1.1196289250159719"
         },
         {
          "coeff-0": "-3.3384430857964835",
          "coeff-1": "1.0524563991467242",
          "coeff-2": "1.1196289250159719"
         },
         {
          "coeff-0": "-3.3384430857964835",
          "coeff-1": "1.0524563991467242",
          "coeff-2": "1.1196289250159719"
         },
         {
          "coeff-0": "-3.3384430857964835",
          "coeff-1": "1.0524563991467242",
          "coeff-2": "1.1196289250159719"
         },
         {
          "coeff-0": "-3.3384430857964835",
          "coeff-1": "1.0524563991467242",
          "coeff-2": "1.1196289250159719"
         },
         {
          "coeff-0": "-3.3384430857964835",
          "coeff-1": "1.0524563991467242",
          "coeff-2": "1.1196289250159719"
         },
         {
          "coeff-0": "-3.3384430857964835",
          "coeff-1": "1.0524563991467242",
          "coeff-2": "1.1196289250159719"
         },
         {
          "coeff-0": "-3.3384430857964835",
          "coeff-1": "1.0524563991467242",
          "coeff-2": "1.1196289250159719"
         },
         {
          "coeff-0": "-3.3384430857964835",
          "coeff-1": "1.0524563991467242",
          "coeff-2": "1.1196289250159719"
         },
         {
          "coeff-0": "-3.3384430857964835",
          "coeff-1": "1.0524563991467242",
          "coeff-2": "1.1196289250159719"
         },
         {
          "coeff-0": "-3.3384430857964835",
          "coeff-1": "1.0524563991467242",
          "coeff-2": "1.1196289250159719"
         },
         {
          "coeff-0": "-3.3384430857964835",
          "coeff-1": "1.0524563991467242",
          "coeff-2": "1.1196289250159719"
         },
         {
          "coeff-0": "-3.3384430857964835",
          "coeff-1": "1.0524563991467242",
          "coeff-2": "1.1196289250159719"
         },
         {
          "coeff-0": "-3.3384430857964835",
          "coeff-1": "1.0524563991467242",
          "coeff-2": "1.1196289250159719"
         },
         {
          "coeff-0": "-3.3384430857964835",
          "coeff-1": "1.0524563991467242",
          "coeff-2": "1.1196289250159719"
         },
         {
          "coeff-0": "-3.3384430857964835",
          "coeff-1": "1.0524563991467242",
          "coeff-2": "1.1196289250159719"
         },
         {
          "coeff-0": "-3.3384430857964835",
          "coeff-1": "1.0524563991467242",
          "coeff-2": "1.1196289250159719"
         },
         {
          "coeff-0": "-3.3384430857964835",
          "coeff-1": "1.0524563991467242",
          "coeff-2": "1.1196289250159719"
         },
         {
          "coeff-0": "-3.3384430857964835",
          "coeff-1": "1.0524563991467242",
          "coeff-2": "1.1196289250159719"
         },
         {
          "coeff-0": "-3.3384430857964835",
          "coeff-1": "1.0524563991467242",
          "coeff-2": "1.1196289250159719"
         },
         {
          "coeff-0": "-3.3384430857964835",
          "coeff-1": "1.0524563991467242",
          "coeff-2": "1.1196289250159719"
         },
         {
          "coeff-0": "-3.3384430857964835",
          "coeff-1": "1.0524563991467242",
          "coeff-2": "1.1196289250159719"
         },
         {
          "coeff-0": "-3.3384430857964835",
          "coeff-1": "1.0524563991467242",
          "coeff-2": "1.1196289250159719"
         },
         {
          "coeff-0": "-3.3384430857964835",
          "coeff-1": "1.0524563991467242",
          "coeff-2": "1.1196289250159719"
         },
         {
          "coeff-0": "-3.3384430857964835",
          "coeff-1": "1.0524563991467242",
          "coeff-2": "1.1196289250159719"
         },
         {
          "coeff-0": "-3.3384430857964835",
          "coeff-1": "1.0524563991467242",
          "coeff-2": "1.1196289250159719"
         },
         {
          "coeff-0": "-3.3384430857964835",
          "coeff-1": "1.0524563991467242",
          "coeff-2": "1.1196289250159719"
         },
         {
          "coeff-0": "-3.3384430857964835",
          "coeff-1": "1.0524563991467242",
          "coeff-2": "1.1196289250159719"
         },
         {
          "coeff-0": "-3.3384430857964835",
          "coeff-1": "1.0524563991467242",
          "coeff-2": "1.1196289250159719"
         },
         {
          "coeff-0": "-3.3384430857964835",
          "coeff-1": "1.0524563991467242",
          "coeff-2": "1.1196289250159719"
         },
         {
          "coeff-0": "-3.3384430857964835",
          "coeff-1": "1.0524563991467242",
          "coeff-2": "1.1196289250159719"
         },
         {
          "coeff-0": "-3.3384430857964835",
          "coeff-1": "1.0524563991467242",
          "coeff-2": "1.1196289250159719"
         },
         {
          "coeff-0": "-3.3384430857964835",
          "coeff-1": "1.0524563991467242",
          "coeff-2": "1.1196289250159719"
         },
         {
          "coeff-0": "-3.3384430857964835",
          "coeff-1": "1.0524563991467242",
          "coeff-2": "1.1196289250159719"
         },
         {
          "coeff-0": "-3.3384430857964835",
          "coeff-1": "1.0524563991467242",
          "coeff-2": "1.1196289250159719"
         },
         {
          "coeff-0": "-3.3384430857964835",
          "coeff-1": "1.0524563991467242",
          "coeff-2": "1.1196289250159719"
         },
         {
          "coeff-0": "-3.3384430857964835",
          "coeff-1": "1.0524563991467242",
          "coeff-2": "1.1196289250159719"
         },
         {
          "coeff-0": "-3.3384430857964835",
          "coeff-1": "1.0524563991467242",
          "coeff-2": "1.1196289250159719"
         },
         {
          "coeff-0": "-3.3384430857964835",
          "coeff-1": "1.0524563991467242",
          "coeff-2": "1.1196289250159719"
         },
         {
          "coeff-0": "-3.3384430857964835",
          "coeff-1": "1.0524563991467242",
          "coeff-2": "1.1196289250159719"
         },
         {
          "coeff-0": "-3.3384430857964835",
          "coeff-1": "1.0524563991467242",
          "coeff-2": "1.1196289250159719"
         },
         {
          "coeff-0": "-3.3384430857964835",
          "coeff-1": "1.0524563991467242",
          "coeff-2": "1.1196289250159719"
         },
         {
          "coeff-0": "-3.3384430857964835",
          "coeff-1": "1.0524563991467242",
          "coeff-2": "1.1196289250159719"
         },
         {
          "coeff-0": "-3.3384430857964835",
          "coeff-1": "1.0524563991467242",
          "coeff-2": "1.1196289250159719"
         },
         {
          "coeff-0": "-3.3384430857964835",
          "coeff-1": "1.0524563991467242",
          "coeff-2": "1.1196289250159719"
         },
         {
          "coeff-0": "-3.3384430857964835",
          "coeff-1": "1.0524563991467242",
          "coeff-2": "1.1196289250159719"
         },
         {
          "coeff-0": "-3.3384430857964835",
          "coeff-1": "1.0524563991467242",
          "coeff-2": "1.1196289250159719"
         },
         {
          "coeff-0": "-3.3384430857964835",
          "coeff-1": "1.0524563991467242",
          "coeff-2": "1.1196289250159719"
         },
         {
          "coeff-0": "-3.3384430857964835",
          "coeff-1": "1.0524563991467242",
          "coeff-2": "1.1196289250159719"
         },
         {
          "coeff-0": "-3.3384430857964835",
          "coeff-1": "1.0524563991467242",
          "coeff-2": "1.1196289250159719"
         },
         {
          "coeff-0": "-3.3384430857964835",
          "coeff-1": "1.0524563991467242",
          "coeff-2": "1.1196289250159719"
         },
         {
          "coeff-0": "-3.3384430857964835",
          "coeff-1": "1.0524563991467242",
          "coeff-2": "1.1196289250159719"
         },
         {
          "coeff-0": "-3.3384430857964835",
          "coeff-1": "1.0524563991467242",
          "coeff-2": "1.1196289250159719"
         },
         {
          "coeff-0": "-3.3384430857964835",
          "coeff-1": "1.0524563991467242",
          "coeff-2": "1.1196289250159719"
         },
         {
          "coeff-0": "-3.3384430857964835",
          "coeff-1": "1.0524563991467242",
          "coeff-2": "1.1196289250159719"
         },
         {
          "coeff-0": "-3.3384430857964835",
          "coeff-1": "1.0524563991467242",
          "coeff-2": "1.1196289250159719"
         },
         {
          "coeff-0": "-3.3384430857964835",
          "coeff-1": "1.0524563991467242",
          "coeff-2": "1.1196289250159719"
         },
         {
          "coeff-0": "-3.3384430857964835",
          "coeff-1": "1.0524563991467242",
          "coeff-2": "1.1196289250159719"
         },
         {
          "coeff-0": "-3.3384430857964835",
          "coeff-1": "1.0524563991467242",
          "coeff-2": "1.1196289250159719"
         },
         {
          "coeff-0": "-3.3384430857964835",
          "coeff-1": "1.0524563991467242",
          "coeff-2": "1.1196289250159719"
         },
         {
          "coeff-0": "-3.3384430857964835",
          "coeff-1": "1.0524563991467242",
          "coeff-2": "1.1196289250159719"
         },
         {
          "coeff-0": "-3.3384430857964835",
          "coeff-1": "1.0524563991467242",
          "coeff-2": "1.1196289250159719"
         },
         {
          "coeff-0": "-3.3384430857964835",
          "coeff-1": "1.0524563991467242",
          "coeff-2": "1.1196289250159719"
         },
         {
          "coeff-0": "-3.3384430857964835",
          "coeff-1": "1.0524563991467242",
          "coeff-2": "1.1196289250159719"
         },
         {
          "coeff-0": "-3.3384430857964835",
          "coeff-1": "1.0524563991467242",
          "coeff-2": "1.1196289250159719"
         },
         {
          "coeff-0": "-3.3384430857964835",
          "coeff-1": "1.0524563991467242",
          "coeff-2": "1.1196289250159719"
         },
         {
          "coeff-0": "-3.3384430857964835",
          "coeff-1": "1.0524563991467242",
          "coeff-2": "1.1196289250159719"
         },
         {
          "coeff-0": "-3.3384430857964835",
          "coeff-1": "1.0524563991467242",
          "coeff-2": "1.1196289250159719"
         },
         {
          "coeff-0": "-3.3384430857964835",
          "coeff-1": "1.0524563991467242",
          "coeff-2": "1.1196289250159719"
         },
         {
          "coeff-0": "-3.3384430857964835",
          "coeff-1": "1.0524563991467242",
          "coeff-2": "1.1196289250159719"
         },
         {
          "coeff-0": "-3.3384430857964835",
          "coeff-1": "1.0524563991467242",
          "coeff-2": "1.1196289250159719"
         },
         {
          "coeff-0": "-3.323062330364997",
          "coeff-1": "1.0360874487016518",
          "coeff-2": "1.1067951912562843"
         },
         {
          "coeff-0": "-3.323062330364997",
          "coeff-1": "1.0360874487016518",
          "coeff-2": "1.1067951912562843"
         },
         {
          "coeff-0": "-3.323062330364997",
          "coeff-1": "1.0360874487016518",
          "coeff-2": "1.1067951912562843"
         },
         {
          "coeff-0": "-3.323062330364997",
          "coeff-1": "1.0360874487016518",
          "coeff-2": "1.1067951912562843"
         },
         {
          "coeff-0": "-3.323062330364997",
          "coeff-1": "1.0360874487016518",
          "coeff-2": "1.1067951912562843"
         },
         {
          "coeff-0": "-3.323062330364997",
          "coeff-1": "1.0360874487016518",
          "coeff-2": "1.1067951912562843"
         },
         {
          "coeff-0": "-3.323062330364997",
          "coeff-1": "1.0360874487016518",
          "coeff-2": "1.1067951912562843"
         },
         {
          "coeff-0": "-3.323062330364997",
          "coeff-1": "1.0360874487016518",
          "coeff-2": "1.1067951912562843"
         },
         {
          "coeff-0": "-3.323062330364997",
          "coeff-1": "1.0360874487016518",
          "coeff-2": "1.1067951912562843"
         },
         {
          "coeff-0": "-3.323062330364997",
          "coeff-1": "1.0360874487016518",
          "coeff-2": "1.1067951912562843"
         },
         {
          "coeff-0": "-3.323062330364997",
          "coeff-1": "1.0360874487016518",
          "coeff-2": "1.1067951912562843"
         },
         {
          "coeff-0": "-3.323062330364997",
          "coeff-1": "1.0360874487016518",
          "coeff-2": "1.1067951912562843"
         },
         {
          "coeff-0": "-3.323062330364997",
          "coeff-1": "1.0360874487016518",
          "coeff-2": "1.1067951912562843"
         },
         {
          "coeff-0": "-3.323062330364997",
          "coeff-1": "1.0360874487016518",
          "coeff-2": "1.1067951912562843"
         },
         {
          "coeff-0": "-3.323062330364997",
          "coeff-1": "1.0360874487016518",
          "coeff-2": "1.1067951912562843"
         },
         {
          "coeff-0": "-3.323062330364997",
          "coeff-1": "1.0360874487016518",
          "coeff-2": "1.1067951912562843"
         },
         {
          "coeff-0": "-3.323062330364997",
          "coeff-1": "1.0360874487016518",
          "coeff-2": "1.1067951912562843"
         },
         {
          "coeff-0": "-3.323062330364997",
          "coeff-1": "1.0360874487016518",
          "coeff-2": "1.1067951912562843"
         },
         {
          "coeff-0": "-3.323062330364997",
          "coeff-1": "1.0360874487016518",
          "coeff-2": "1.1067951912562843"
         },
         {
          "coeff-0": "-3.323062330364997",
          "coeff-1": "1.0360874487016518",
          "coeff-2": "1.1067951912562843"
         },
         {
          "coeff-0": "-3.323062330364997",
          "coeff-1": "1.0360874487016518",
          "coeff-2": "1.1067951912562843"
         },
         {
          "coeff-0": "-3.323062330364997",
          "coeff-1": "1.0360874487016518",
          "coeff-2": "1.1067951912562843"
         },
         {
          "coeff-0": "-3.323062330364997",
          "coeff-1": "1.0360874487016518",
          "coeff-2": "1.1067951912562843"
         },
         {
          "coeff-0": "-3.323062330364997",
          "coeff-1": "1.0360874487016518",
          "coeff-2": "1.1067951912562843"
         },
         {
          "coeff-0": "-3.323062330364997",
          "coeff-1": "1.0360874487016518",
          "coeff-2": "1.1067951912562843"
         },
         {
          "coeff-0": "-3.323062330364997",
          "coeff-1": "1.0360874487016518",
          "coeff-2": "1.1067951912562843"
         },
         {
          "coeff-0": "-3.323062330364997",
          "coeff-1": "1.0360874487016518",
          "coeff-2": "1.1067951912562843"
         },
         {
          "coeff-0": "-3.323062330364997",
          "coeff-1": "1.0360874487016518",
          "coeff-2": "1.1067951912562843"
         },
         {
          "coeff-0": "-3.323062330364997",
          "coeff-1": "1.0360874487016518",
          "coeff-2": "1.1067951912562843"
         },
         {
          "coeff-0": "-3.323062330364997",
          "coeff-1": "1.0360874487016518",
          "coeff-2": "1.1067951912562843"
         },
         {
          "coeff-0": "-3.323062330364997",
          "coeff-1": "1.0360874487016518",
          "coeff-2": "1.1067951912562843"
         },
         {
          "coeff-0": "-3.323062330364997",
          "coeff-1": "1.0360874487016518",
          "coeff-2": "1.1067951912562843"
         },
         {
          "coeff-0": "-3.323062330364997",
          "coeff-1": "1.0360874487016518",
          "coeff-2": "1.1067951912562843"
         },
         {
          "coeff-0": "-3.3264379482224",
          "coeff-1": "1.113217446233371",
          "coeff-2": "1.0243326679122489"
         },
         {
          "coeff-0": "-3.3264379482224",
          "coeff-1": "1.113217446233371",
          "coeff-2": "1.0243326679122489"
         },
         {
          "coeff-0": "-3.3264379482224",
          "coeff-1": "1.113217446233371",
          "coeff-2": "1.0243326679122489"
         },
         {
          "coeff-0": "-3.3264379482224",
          "coeff-1": "1.113217446233371",
          "coeff-2": "1.0243326679122489"
         },
         {
          "coeff-0": "-3.3264379482224",
          "coeff-1": "1.113217446233371",
          "coeff-2": "1.0243326679122489"
         },
         {
          "coeff-0": "-3.3264379482224",
          "coeff-1": "1.113217446233371",
          "coeff-2": "1.0243326679122489"
         },
         {
          "coeff-0": "-3.3264379482224",
          "coeff-1": "1.113217446233371",
          "coeff-2": "1.0243326679122489"
         },
         {
          "coeff-0": "-3.3264379482224",
          "coeff-1": "1.113217446233371",
          "coeff-2": "1.0243326679122489"
         },
         {
          "coeff-0": "-3.3264379482224",
          "coeff-1": "1.113217446233371",
          "coeff-2": "1.0243326679122489"
         },
         {
          "coeff-0": "-3.3264379482224",
          "coeff-1": "1.113217446233371",
          "coeff-2": "1.0243326679122489"
         },
         {
          "coeff-0": "-3.3264379482224",
          "coeff-1": "1.113217446233371",
          "coeff-2": "1.0243326679122489"
         },
         {
          "coeff-0": "-3.3264379482224",
          "coeff-1": "1.113217446233371",
          "coeff-2": "1.0243326679122489"
         },
         {
          "coeff-0": "-3.3264379482224",
          "coeff-1": "1.113217446233371",
          "coeff-2": "1.0243326679122489"
         },
         {
          "coeff-0": "-3.3264379482224",
          "coeff-1": "1.113217446233371",
          "coeff-2": "1.0243326679122489"
         },
         {
          "coeff-0": "-3.3264379482224",
          "coeff-1": "1.113217446233371",
          "coeff-2": "1.0243326679122489"
         },
         {
          "coeff-0": "-3.3264379482224",
          "coeff-1": "1.113217446233371",
          "coeff-2": "1.0243326679122489"
         },
         {
          "coeff-0": "-3.3264379482224",
          "coeff-1": "1.113217446233371",
          "coeff-2": "1.0243326679122489"
         },
         {
          "coeff-0": "-3.3264379482224",
          "coeff-1": "1.113217446233371",
          "coeff-2": "1.0243326679122489"
         },
         {
          "coeff-0": "-3.3264379482224",
          "coeff-1": "1.113217446233371",
          "coeff-2": "1.0243326679122489"
         },
         {
          "coeff-0": "-3.3264379482224",
          "coeff-1": "1.113217446233371",
          "coeff-2": "1.0243326679122489"
         },
         {
          "coeff-0": "-3.3264379482224",
          "coeff-1": "1.113217446233371",
          "coeff-2": "1.0243326679122489"
         },
         {
          "coeff-0": "-3.3264379482224",
          "coeff-1": "1.113217446233371",
          "coeff-2": "1.0243326679122489"
         },
         {
          "coeff-0": "-3.3264379482224",
          "coeff-1": "1.113217446233371",
          "coeff-2": "1.0243326679122489"
         },
         {
          "coeff-0": "-3.3264379482224",
          "coeff-1": "1.113217446233371",
          "coeff-2": "1.0243326679122489"
         },
         {
          "coeff-0": "-3.3264379482224",
          "coeff-1": "1.113217446233371",
          "coeff-2": "1.0243326679122489"
         },
         {
          "coeff-0": "-3.3264379482224",
          "coeff-1": "1.113217446233371",
          "coeff-2": "1.0243326679122489"
         },
         {
          "coeff-0": "-3.3264379482224",
          "coeff-1": "1.113217446233371",
          "coeff-2": "1.0243326679122489"
         },
         {
          "coeff-0": "-3.3264379482224",
          "coeff-1": "1.113217446233371",
          "coeff-2": "1.0243326679122489"
         },
         {
          "coeff-0": "-3.3264379482224",
          "coeff-1": "1.113217446233371",
          "coeff-2": "1.0243326679122489"
         },
         {
          "coeff-0": "-3.3264379482224",
          "coeff-1": "1.113217446233371",
          "coeff-2": "1.0243326679122489"
         },
         {
          "coeff-0": "-3.3264379482224",
          "coeff-1": "1.113217446233371",
          "coeff-2": "1.0243326679122489"
         },
         {
          "coeff-0": "-3.3264379482224",
          "coeff-1": "1.113217446233371",
          "coeff-2": "1.0243326679122489"
         },
         {
          "coeff-0": "-3.3264379482224",
          "coeff-1": "1.113217446233371",
          "coeff-2": "1.0243326679122489"
         },
         {
          "coeff-0": "-3.3264379482224",
          "coeff-1": "1.113217446233371",
          "coeff-2": "1.0243326679122489"
         },
         {
          "coeff-0": "-3.3264379482224",
          "coeff-1": "1.113217446233371",
          "coeff-2": "1.0243326679122489"
         },
         {
          "coeff-0": "-3.3264379482224",
          "coeff-1": "1.113217446233371",
          "coeff-2": "1.0243326679122489"
         },
         {
          "coeff-0": "-3.3264379482224",
          "coeff-1": "1.113217446233371",
          "coeff-2": "1.0243326679122489"
         },
         {
          "coeff-0": "-3.3496359997499052",
          "coeff-1": "1.137290987588572",
          "coeff-2": "1.0311108269490186"
         },
         {
          "coeff-0": "-3.3496359997499052",
          "coeff-1": "1.137290987588572",
          "coeff-2": "1.0311108269490186"
         },
         {
          "coeff-0": "-3.3496359997499052",
          "coeff-1": "1.137290987588572",
          "coeff-2": "1.0311108269490186"
         },
         {
          "coeff-0": "-3.3496359997499052",
          "coeff-1": "1.137290987588572",
          "coeff-2": "1.0311108269490186"
         },
         {
          "coeff-0": "-3.3496359997499052",
          "coeff-1": "1.137290987588572",
          "coeff-2": "1.0311108269490186"
         },
         {
          "coeff-0": "-3.3496359997499052",
          "coeff-1": "1.137290987588572",
          "coeff-2": "1.0311108269490186"
         },
         {
          "coeff-0": "-3.3496359997499052",
          "coeff-1": "1.137290987588572",
          "coeff-2": "1.0311108269490186"
         },
         {
          "coeff-0": "-3.3496359997499052",
          "coeff-1": "1.137290987588572",
          "coeff-2": "1.0311108269490186"
         },
         {
          "coeff-0": "-3.3496359997499052",
          "coeff-1": "1.137290987588572",
          "coeff-2": "1.0311108269490186"
         },
         {
          "coeff-0": "-3.3496359997499052",
          "coeff-1": "1.137290987588572",
          "coeff-2": "1.0311108269490186"
         },
         {
          "coeff-0": "-3.3496359997499052",
          "coeff-1": "1.137290987588572",
          "coeff-2": "1.0311108269490186"
         },
         {
          "coeff-0": "-3.3496359997499052",
          "coeff-1": "1.137290987588572",
          "coeff-2": "1.0311108269490186"
         },
         {
          "coeff-0": "-3.3496359997499052",
          "coeff-1": "1.137290987588572",
          "coeff-2": "1.0311108269490186"
         },
         {
          "coeff-0": "-3.3496359997499052",
          "coeff-1": "1.137290987588572",
          "coeff-2": "1.0311108269490186"
         },
         {
          "coeff-0": "-3.3496359997499052",
          "coeff-1": "1.137290987588572",
          "coeff-2": "1.0311108269490186"
         },
         {
          "coeff-0": "-3.3496359997499052",
          "coeff-1": "1.137290987588572",
          "coeff-2": "1.0311108269490186"
         },
         {
          "coeff-0": "-3.3496359997499052",
          "coeff-1": "1.137290987588572",
          "coeff-2": "1.0311108269490186"
         },
         {
          "coeff-0": "-3.3496359997499052",
          "coeff-1": "1.137290987588572",
          "coeff-2": "1.0311108269490186"
         },
         {
          "coeff-0": "-3.3496359997499052",
          "coeff-1": "1.137290987588572",
          "coeff-2": "1.0311108269490186"
         },
         {
          "coeff-0": "-3.3496359997499052",
          "coeff-1": "1.137290987588572",
          "coeff-2": "1.0311108269490186"
         },
         {
          "coeff-0": "-3.3496359997499052",
          "coeff-1": "1.137290987588572",
          "coeff-2": "1.0311108269490186"
         },
         {
          "coeff-0": "-3.3496359997499052",
          "coeff-1": "1.137290987588572",
          "coeff-2": "1.0311108269490186"
         },
         {
          "coeff-0": "-3.3496359997499052",
          "coeff-1": "1.137290987588572",
          "coeff-2": "1.0311108269490186"
         },
         {
          "coeff-0": "-3.3496359997499052",
          "coeff-1": "1.137290987588572",
          "coeff-2": "1.0311108269490186"
         },
         {
          "coeff-0": "-3.3496359997499052",
          "coeff-1": "1.137290987588572",
          "coeff-2": "1.0311108269490186"
         },
         {
          "coeff-0": "-3.3496359997499052",
          "coeff-1": "1.137290987588572",
          "coeff-2": "1.0311108269490186"
         },
         {
          "coeff-0": "-3.3496359997499052",
          "coeff-1": "1.137290987588572",
          "coeff-2": "1.0311108269490186"
         },
         {
          "coeff-0": "-3.3496359997499052",
          "coeff-1": "1.137290987588572",
          "coeff-2": "1.0311108269490186"
         },
         {
          "coeff-0": "-3.3496359997499052",
          "coeff-1": "1.137290987588572",
          "coeff-2": "1.0311108269490186"
         },
         {
          "coeff-0": "-3.3496359997499052",
          "coeff-1": "1.137290987588572",
          "coeff-2": "1.0311108269490186"
         },
         {
          "coeff-0": "-3.3496359997499052",
          "coeff-1": "1.137290987588572",
          "coeff-2": "1.0311108269490186"
         },
         {
          "coeff-0": "-3.3496359997499052",
          "coeff-1": "1.137290987588572",
          "coeff-2": "1.0311108269490186"
         },
         {
          "coeff-0": "-3.3496359997499052",
          "coeff-1": "1.137290987588572",
          "coeff-2": "1.0311108269490186"
         },
         {
          "coeff-0": "-3.3496359997499052",
          "coeff-1": "1.137290987588572",
          "coeff-2": "1.0311108269490186"
         },
         {
          "coeff-0": "-3.3496359997499052",
          "coeff-1": "1.137290987588572",
          "coeff-2": "1.0311108269490186"
         },
         {
          "coeff-0": "-3.3496359997499052",
          "coeff-1": "1.137290987588572",
          "coeff-2": "1.0311108269490186"
         },
         {
          "coeff-0": "-3.3496359997499052",
          "coeff-1": "1.137290987588572",
          "coeff-2": "1.0311108269490186"
         },
         {
          "coeff-0": "-3.3496359997499052",
          "coeff-1": "1.137290987588572",
          "coeff-2": "1.0311108269490186"
         },
         {
          "coeff-0": "-3.3496359997499052",
          "coeff-1": "1.137290987588572",
          "coeff-2": "1.0311108269490186"
         },
         {
          "coeff-0": "-3.3496359997499052",
          "coeff-1": "1.137290987588572",
          "coeff-2": "1.0311108269490186"
         },
         {
          "coeff-0": "-3.3496359997499052",
          "coeff-1": "1.137290987588572",
          "coeff-2": "1.0311108269490186"
         },
         {
          "coeff-0": "-3.3496359997499052",
          "coeff-1": "1.137290987588572",
          "coeff-2": "1.0311108269490186"
         },
         {
          "coeff-0": "-3.3496359997499052",
          "coeff-1": "1.137290987588572",
          "coeff-2": "1.0311108269490186"
         },
         {
          "coeff-0": "-3.3496359997499052",
          "coeff-1": "1.137290987588572",
          "coeff-2": "1.0311108269490186"
         },
         {
          "coeff-0": "-3.3496359997499052",
          "coeff-1": "1.137290987588572",
          "coeff-2": "1.0311108269490186"
         },
         {
          "coeff-0": "-3.3496359997499052",
          "coeff-1": "1.137290987588572",
          "coeff-2": "1.0311108269490186"
         },
         {
          "coeff-0": "-3.3496359997499052",
          "coeff-1": "1.137290987588572",
          "coeff-2": "1.0311108269490186"
         },
         {
          "coeff-0": "-3.3496359997499052",
          "coeff-1": "1.137290987588572",
          "coeff-2": "1.0311108269490186"
         },
         {
          "coeff-0": "-3.3496359997499052",
          "coeff-1": "1.137290987588572",
          "coeff-2": "1.0311108269490186"
         },
         {
          "coeff-0": "-3.3496359997499052",
          "coeff-1": "1.137290987588572",
          "coeff-2": "1.0311108269490186"
         },
         {
          "coeff-0": "-3.3496359997499052",
          "coeff-1": "1.137290987588572",
          "coeff-2": "1.0311108269490186"
         },
         {
          "coeff-0": "-3.3496359997499052",
          "coeff-1": "1.137290987588572",
          "coeff-2": "1.0311108269490186"
         },
         {
          "coeff-0": "-3.3496359997499052",
          "coeff-1": "1.137290987588572",
          "coeff-2": "1.0311108269490186"
         },
         {
          "coeff-0": "-3.3496359997499052",
          "coeff-1": "1.137290987588572",
          "coeff-2": "1.0311108269490186"
         },
         {
          "coeff-0": "-3.3496359997499052",
          "coeff-1": "1.137290987588572",
          "coeff-2": "1.0311108269490186"
         },
         {
          "coeff-0": "-3.3496359997499052",
          "coeff-1": "1.137290987588572",
          "coeff-2": "1.0311108269490186"
         },
         {
          "coeff-0": "-3.344680922856306",
          "coeff-1": "1.1233120340048206",
          "coeff-2": "1.1074869544524453"
         },
         {
          "coeff-0": "-3.344680922856306",
          "coeff-1": "1.1233120340048206",
          "coeff-2": "1.1074869544524453"
         },
         {
          "coeff-0": "-3.344680922856306",
          "coeff-1": "1.1233120340048206",
          "coeff-2": "1.1074869544524453"
         },
         {
          "coeff-0": "-3.344680922856306",
          "coeff-1": "1.1233120340048206",
          "coeff-2": "1.1074869544524453"
         },
         {
          "coeff-0": "-3.344680922856306",
          "coeff-1": "1.1233120340048206",
          "coeff-2": "1.1074869544524453"
         },
         {
          "coeff-0": "-3.344680922856306",
          "coeff-1": "1.1233120340048206",
          "coeff-2": "1.1074869544524453"
         },
         {
          "coeff-0": "-3.344680922856306",
          "coeff-1": "1.1233120340048206",
          "coeff-2": "1.1074869544524453"
         },
         {
          "coeff-0": "-3.344680922856306",
          "coeff-1": "1.1233120340048206",
          "coeff-2": "1.1074869544524453"
         },
         {
          "coeff-0": "-3.344680922856306",
          "coeff-1": "1.1233120340048206",
          "coeff-2": "1.1074869544524453"
         },
         {
          "coeff-0": "-3.344680922856306",
          "coeff-1": "1.1233120340048206",
          "coeff-2": "1.1074869544524453"
         },
         {
          "coeff-0": "-3.344680922856306",
          "coeff-1": "1.1233120340048206",
          "coeff-2": "1.1074869544524453"
         },
         {
          "coeff-0": "-3.344680922856306",
          "coeff-1": "1.1233120340048206",
          "coeff-2": "1.1074869544524453"
         },
         {
          "coeff-0": "-3.344680922856306",
          "coeff-1": "1.1233120340048206",
          "coeff-2": "1.1074869544524453"
         },
         {
          "coeff-0": "-3.344680922856306",
          "coeff-1": "1.1233120340048206",
          "coeff-2": "1.1074869544524453"
         },
         {
          "coeff-0": "-3.344680922856306",
          "coeff-1": "1.1233120340048206",
          "coeff-2": "1.1074869544524453"
         },
         {
          "coeff-0": "-3.344680922856306",
          "coeff-1": "1.1233120340048206",
          "coeff-2": "1.1074869544524453"
         },
         {
          "coeff-0": "-3.344680922856306",
          "coeff-1": "1.1233120340048206",
          "coeff-2": "1.1074869544524453"
         },
         {
          "coeff-0": "-3.344680922856306",
          "coeff-1": "1.1233120340048206",
          "coeff-2": "1.1074869544524453"
         },
         {
          "coeff-0": "-3.344680922856306",
          "coeff-1": "1.1233120340048206",
          "coeff-2": "1.1074869544524453"
         },
         {
          "coeff-0": "-3.344680922856306",
          "coeff-1": "1.1233120340048206",
          "coeff-2": "1.1074869544524453"
         },
         {
          "coeff-0": "-3.344680922856306",
          "coeff-1": "1.1233120340048206",
          "coeff-2": "1.1074869544524453"
         },
         {
          "coeff-0": "-3.344680922856306",
          "coeff-1": "1.1233120340048206",
          "coeff-2": "1.1074869544524453"
         },
         {
          "coeff-0": "-3.344680922856306",
          "coeff-1": "1.1233120340048206",
          "coeff-2": "1.1074869544524453"
         },
         {
          "coeff-0": "-3.344680922856306",
          "coeff-1": "1.1233120340048206",
          "coeff-2": "1.1074869544524453"
         },
         {
          "coeff-0": "-3.344680922856306",
          "coeff-1": "1.1233120340048206",
          "coeff-2": "1.1074869544524453"
         },
         {
          "coeff-0": "-3.344680922856306",
          "coeff-1": "1.1233120340048206",
          "coeff-2": "1.1074869544524453"
         },
         {
          "coeff-0": "-3.344680922856306",
          "coeff-1": "1.1233120340048206",
          "coeff-2": "1.1074869544524453"
         },
         {
          "coeff-0": "-3.344680922856306",
          "coeff-1": "1.1233120340048206",
          "coeff-2": "1.1074869544524453"
         },
         {
          "coeff-0": "-3.344680922856306",
          "coeff-1": "1.1233120340048206",
          "coeff-2": "1.1074869544524453"
         },
         {
          "coeff-0": "-3.344680922856306",
          "coeff-1": "1.1233120340048206",
          "coeff-2": "1.1074869544524453"
         },
         {
          "coeff-0": "-3.344680922856306",
          "coeff-1": "1.1233120340048206",
          "coeff-2": "1.1074869544524453"
         },
         {
          "coeff-0": "-3.344680922856306",
          "coeff-1": "1.1233120340048206",
          "coeff-2": "1.1074869544524453"
         },
         {
          "coeff-0": "-3.344680922856306",
          "coeff-1": "1.1233120340048206",
          "coeff-2": "1.1074869544524453"
         },
         {
          "coeff-0": "-3.344680922856306",
          "coeff-1": "1.1233120340048206",
          "coeff-2": "1.1074869544524453"
         },
         {
          "coeff-0": "-3.344680922856306",
          "coeff-1": "1.1233120340048206",
          "coeff-2": "1.1074869544524453"
         },
         {
          "coeff-0": "-3.344680922856306",
          "coeff-1": "1.1233120340048206",
          "coeff-2": "1.1074869544524453"
         },
         {
          "coeff-0": "-3.344680922856306",
          "coeff-1": "1.1233120340048206",
          "coeff-2": "1.1074869544524453"
         },
         {
          "coeff-0": "-3.344680922856306",
          "coeff-1": "1.1233120340048206",
          "coeff-2": "1.1074869544524453"
         },
         {
          "coeff-0": "-3.344680922856306",
          "coeff-1": "1.1233120340048206",
          "coeff-2": "1.1074869544524453"
         },
         {
          "coeff-0": "-3.344680922856306",
          "coeff-1": "1.1233120340048206",
          "coeff-2": "1.1074869544524453"
         },
         {
          "coeff-0": "-3.344680922856306",
          "coeff-1": "1.1233120340048206",
          "coeff-2": "1.1074869544524453"
         },
         {
          "coeff-0": "-3.344680922856306",
          "coeff-1": "1.1233120340048206",
          "coeff-2": "1.1074869544524453"
         },
         {
          "coeff-0": "-3.344680922856306",
          "coeff-1": "1.1233120340048206",
          "coeff-2": "1.1074869544524453"
         },
         {
          "coeff-0": "-3.344680922856306",
          "coeff-1": "1.1233120340048206",
          "coeff-2": "1.1074869544524453"
         },
         {
          "coeff-0": "-3.344680922856306",
          "coeff-1": "1.1233120340048206",
          "coeff-2": "1.1074869544524453"
         },
         {
          "coeff-0": "-3.344680922856306",
          "coeff-1": "1.1233120340048206",
          "coeff-2": "1.1074869544524453"
         },
         {
          "coeff-0": "-3.344680922856306",
          "coeff-1": "1.1233120340048206",
          "coeff-2": "1.1074869544524453"
         },
         {
          "coeff-0": "-3.344680922856306",
          "coeff-1": "1.1233120340048206",
          "coeff-2": "1.1074869544524453"
         },
         {
          "coeff-0": "-3.344680922856306",
          "coeff-1": "1.1233120340048206",
          "coeff-2": "1.1074869544524453"
         },
         {
          "coeff-0": "-3.344680922856306",
          "coeff-1": "1.1233120340048206",
          "coeff-2": "1.1074869544524453"
         },
         {
          "coeff-0": "-3.344680922856306",
          "coeff-1": "1.1233120340048206",
          "coeff-2": "1.1074869544524453"
         },
         {
          "coeff-0": "-3.344680922856306",
          "coeff-1": "1.1233120340048206",
          "coeff-2": "1.1074869544524453"
         },
         {
          "coeff-0": "-3.344680922856306",
          "coeff-1": "1.1233120340048206",
          "coeff-2": "1.1074869544524453"
         },
         {
          "coeff-0": "-3.344680922856306",
          "coeff-1": "1.1233120340048206",
          "coeff-2": "1.1074869544524453"
         },
         {
          "coeff-0": "-3.309486382354536",
          "coeff-1": "1.061983005333532",
          "coeff-2": "1.113254000719696"
         },
         {
          "coeff-0": "-3.309486382354536",
          "coeff-1": "1.061983005333532",
          "coeff-2": "1.113254000719696"
         },
         {
          "coeff-0": "-3.309486382354536",
          "coeff-1": "1.061983005333532",
          "coeff-2": "1.113254000719696"
         },
         {
          "coeff-0": "-3.309486382354536",
          "coeff-1": "1.061983005333532",
          "coeff-2": "1.113254000719696"
         },
         {
          "coeff-0": "-3.309486382354536",
          "coeff-1": "1.061983005333532",
          "coeff-2": "1.113254000719696"
         },
         {
          "coeff-0": "-3.309486382354536",
          "coeff-1": "1.061983005333532",
          "coeff-2": "1.113254000719696"
         },
         {
          "coeff-0": "-3.309486382354536",
          "coeff-1": "1.061983005333532",
          "coeff-2": "1.113254000719696"
         },
         {
          "coeff-0": "-3.309486382354536",
          "coeff-1": "1.061983005333532",
          "coeff-2": "1.113254000719696"
         },
         {
          "coeff-0": "-3.309486382354536",
          "coeff-1": "1.061983005333532",
          "coeff-2": "1.113254000719696"
         },
         {
          "coeff-0": "-3.309486382354536",
          "coeff-1": "1.061983005333532",
          "coeff-2": "1.113254000719696"
         },
         {
          "coeff-0": "-3.309486382354536",
          "coeff-1": "1.061983005333532",
          "coeff-2": "1.113254000719696"
         },
         {
          "coeff-0": "-3.309486382354536",
          "coeff-1": "1.061983005333532",
          "coeff-2": "1.113254000719696"
         },
         {
          "coeff-0": "-3.309486382354536",
          "coeff-1": "1.061983005333532",
          "coeff-2": "1.113254000719696"
         },
         {
          "coeff-0": "-3.309486382354536",
          "coeff-1": "1.061983005333532",
          "coeff-2": "1.113254000719696"
         },
         {
          "coeff-0": "-3.309486382354536",
          "coeff-1": "1.061983005333532",
          "coeff-2": "1.113254000719696"
         },
         {
          "coeff-0": "-3.309486382354536",
          "coeff-1": "1.061983005333532",
          "coeff-2": "1.113254000719696"
         },
         {
          "coeff-0": "-3.309486382354536",
          "coeff-1": "1.061983005333532",
          "coeff-2": "1.113254000719696"
         },
         {
          "coeff-0": "-3.309486382354536",
          "coeff-1": "1.061983005333532",
          "coeff-2": "1.113254000719696"
         },
         {
          "coeff-0": "-3.309486382354536",
          "coeff-1": "1.061983005333532",
          "coeff-2": "1.113254000719696"
         },
         {
          "coeff-0": "-3.309486382354536",
          "coeff-1": "1.061983005333532",
          "coeff-2": "1.113254000719696"
         },
         {
          "coeff-0": "-3.309486382354536",
          "coeff-1": "1.061983005333532",
          "coeff-2": "1.113254000719696"
         },
         {
          "coeff-0": "-3.309486382354536",
          "coeff-1": "1.061983005333532",
          "coeff-2": "1.113254000719696"
         },
         {
          "coeff-0": "-3.309486382354536",
          "coeff-1": "1.061983005333532",
          "coeff-2": "1.113254000719696"
         },
         {
          "coeff-0": "-3.309486382354536",
          "coeff-1": "1.061983005333532",
          "coeff-2": "1.113254000719696"
         },
         {
          "coeff-0": "-3.309486382354536",
          "coeff-1": "1.061983005333532",
          "coeff-2": "1.113254000719696"
         },
         {
          "coeff-0": "-3.309486382354536",
          "coeff-1": "1.061983005333532",
          "coeff-2": "1.113254000719696"
         },
         {
          "coeff-0": "-3.309486382354536",
          "coeff-1": "1.061983005333532",
          "coeff-2": "1.113254000719696"
         },
         {
          "coeff-0": "-3.309486382354536",
          "coeff-1": "1.061983005333532",
          "coeff-2": "1.113254000719696"
         },
         {
          "coeff-0": "-3.309486382354536",
          "coeff-1": "1.061983005333532",
          "coeff-2": "1.113254000719696"
         },
         {
          "coeff-0": "-3.309486382354536",
          "coeff-1": "1.061983005333532",
          "coeff-2": "1.113254000719696"
         },
         {
          "coeff-0": "-3.309486382354536",
          "coeff-1": "1.061983005333532",
          "coeff-2": "1.113254000719696"
         },
         {
          "coeff-0": "-3.309486382354536",
          "coeff-1": "1.061983005333532",
          "coeff-2": "1.113254000719696"
         },
         {
          "coeff-0": "-3.309486382354536",
          "coeff-1": "1.061983005333532",
          "coeff-2": "1.113254000719696"
         },
         {
          "coeff-0": "-3.309486382354536",
          "coeff-1": "1.061983005333532",
          "coeff-2": "1.113254000719696"
         },
         {
          "coeff-0": "-3.309486382354536",
          "coeff-1": "1.061983005333532",
          "coeff-2": "1.113254000719696"
         },
         {
          "coeff-0": "-3.309486382354536",
          "coeff-1": "1.061983005333532",
          "coeff-2": "1.113254000719696"
         },
         {
          "coeff-0": "-3.309486382354536",
          "coeff-1": "1.061983005333532",
          "coeff-2": "1.113254000719696"
         },
         {
          "coeff-0": "-3.309486382354536",
          "coeff-1": "1.061983005333532",
          "coeff-2": "1.113254000719696"
         },
         {
          "coeff-0": "-3.309486382354536",
          "coeff-1": "1.061983005333532",
          "coeff-2": "1.113254000719696"
         },
         {
          "coeff-0": "-3.309486382354536",
          "coeff-1": "1.061983005333532",
          "coeff-2": "1.113254000719696"
         },
         {
          "coeff-0": "-3.309486382354536",
          "coeff-1": "1.061983005333532",
          "coeff-2": "1.113254000719696"
         },
         {
          "coeff-0": "-3.309486382354536",
          "coeff-1": "1.061983005333532",
          "coeff-2": "1.113254000719696"
         },
         {
          "coeff-0": "-3.309486382354536",
          "coeff-1": "1.061983005333532",
          "coeff-2": "1.113254000719696"
         },
         {
          "coeff-0": "-3.309486382354536",
          "coeff-1": "1.061983005333532",
          "coeff-2": "1.113254000719696"
         },
         {
          "coeff-0": "-3.309486382354536",
          "coeff-1": "1.061983005333532",
          "coeff-2": "1.113254000719696"
         },
         {
          "coeff-0": "-3.309486382354536",
          "coeff-1": "1.061983005333532",
          "coeff-2": "1.113254000719696"
         },
         {
          "coeff-0": "-3.309486382354536",
          "coeff-1": "1.061983005333532",
          "coeff-2": "1.113254000719696"
         },
         {
          "coeff-0": "-3.309486382354536",
          "coeff-1": "1.061983005333532",
          "coeff-2": "1.113254000719696"
         },
         {
          "coeff-0": "-3.309486382354536",
          "coeff-1": "1.061983005333532",
          "coeff-2": "1.113254000719696"
         },
         {
          "coeff-0": "-3.309486382354536",
          "coeff-1": "1.061983005333532",
          "coeff-2": "1.113254000719696"
         },
         {
          "coeff-0": "-3.309486382354536",
          "coeff-1": "1.061983005333532",
          "coeff-2": "1.113254000719696"
         },
         {
          "coeff-0": "-3.309486382354536",
          "coeff-1": "1.061983005333532",
          "coeff-2": "1.113254000719696"
         },
         {
          "coeff-0": "-3.309486382354536",
          "coeff-1": "1.061983005333532",
          "coeff-2": "1.113254000719696"
         },
         {
          "coeff-0": "-3.309486382354536",
          "coeff-1": "1.061983005333532",
          "coeff-2": "1.113254000719696"
         },
         {
          "coeff-0": "-3.309486382354536",
          "coeff-1": "1.061983005333532",
          "coeff-2": "1.113254000719696"
         },
         {
          "coeff-0": "-3.309486382354536",
          "coeff-1": "1.061983005333532",
          "coeff-2": "1.113254000719696"
         },
         {
          "coeff-0": "-3.309486382354536",
          "coeff-1": "1.061983005333532",
          "coeff-2": "1.113254000719696"
         },
         {
          "coeff-0": "-3.309486382354536",
          "coeff-1": "1.061983005333532",
          "coeff-2": "1.113254000719696"
         },
         {
          "coeff-0": "-3.309486382354536",
          "coeff-1": "1.061983005333532",
          "coeff-2": "1.113254000719696"
         },
         {
          "coeff-0": "-3.309486382354536",
          "coeff-1": "1.061983005333532",
          "coeff-2": "1.113254000719696"
         },
         {
          "coeff-0": "-3.309486382354536",
          "coeff-1": "1.061983005333532",
          "coeff-2": "1.113254000719696"
         },
         {
          "coeff-0": "-3.309486382354536",
          "coeff-1": "1.061983005333532",
          "coeff-2": "1.113254000719696"
         },
         {
          "coeff-0": "-3.309486382354536",
          "coeff-1": "1.061983005333532",
          "coeff-2": "1.113254000719696"
         },
         {
          "coeff-0": "-3.309486382354536",
          "coeff-1": "1.061983005333532",
          "coeff-2": "1.113254000719696"
         },
         {
          "coeff-0": "-3.309486382354536",
          "coeff-1": "1.061983005333532",
          "coeff-2": "1.113254000719696"
         },
         {
          "coeff-0": "-3.309486382354536",
          "coeff-1": "1.061983005333532",
          "coeff-2": "1.113254000719696"
         },
         {
          "coeff-0": "-3.309486382354536",
          "coeff-1": "1.061983005333532",
          "coeff-2": "1.113254000719696"
         },
         {
          "coeff-0": "-3.309486382354536",
          "coeff-1": "1.061983005333532",
          "coeff-2": "1.113254000719696"
         },
         {
          "coeff-0": "-3.309486382354536",
          "coeff-1": "1.061983005333532",
          "coeff-2": "1.113254000719696"
         },
         {
          "coeff-0": "-3.309486382354536",
          "coeff-1": "1.061983005333532",
          "coeff-2": "1.113254000719696"
         },
         {
          "coeff-0": "-3.309486382354536",
          "coeff-1": "1.061983005333532",
          "coeff-2": "1.113254000719696"
         },
         {
          "coeff-0": "-3.309486382354536",
          "coeff-1": "1.061983005333532",
          "coeff-2": "1.113254000719696"
         },
         {
          "coeff-0": "-3.309486382354536",
          "coeff-1": "1.061983005333532",
          "coeff-2": "1.113254000719696"
         },
         {
          "coeff-0": "-3.309486382354536",
          "coeff-1": "1.061983005333532",
          "coeff-2": "1.113254000719696"
         },
         {
          "coeff-0": "-3.309486382354536",
          "coeff-1": "1.061983005333532",
          "coeff-2": "1.113254000719696"
         },
         {
          "coeff-0": "-3.309155721992143",
          "coeff-1": "1.1123704270835586",
          "coeff-2": "1.0274804305553709"
         },
         {
          "coeff-0": "-3.309155721992143",
          "coeff-1": "1.1123704270835586",
          "coeff-2": "1.0274804305553709"
         },
         {
          "coeff-0": "-3.309155721992143",
          "coeff-1": "1.1123704270835586",
          "coeff-2": "1.0274804305553709"
         },
         {
          "coeff-0": "-3.309155721992143",
          "coeff-1": "1.1123704270835586",
          "coeff-2": "1.0274804305553709"
         },
         {
          "coeff-0": "-3.309155721992143",
          "coeff-1": "1.1123704270835586",
          "coeff-2": "1.0274804305553709"
         },
         {
          "coeff-0": "-3.309155721992143",
          "coeff-1": "1.1123704270835586",
          "coeff-2": "1.0274804305553709"
         },
         {
          "coeff-0": "-3.309155721992143",
          "coeff-1": "1.1123704270835586",
          "coeff-2": "1.0274804305553709"
         },
         {
          "coeff-0": "-3.309155721992143",
          "coeff-1": "1.1123704270835586",
          "coeff-2": "1.0274804305553709"
         },
         {
          "coeff-0": "-3.309155721992143",
          "coeff-1": "1.1123704270835586",
          "coeff-2": "1.0274804305553709"
         },
         {
          "coeff-0": "-3.309155721992143",
          "coeff-1": "1.1123704270835586",
          "coeff-2": "1.0274804305553709"
         },
         {
          "coeff-0": "-3.309155721992143",
          "coeff-1": "1.1123704270835586",
          "coeff-2": "1.0274804305553709"
         },
         {
          "coeff-0": "-3.309155721992143",
          "coeff-1": "1.1123704270835586",
          "coeff-2": "1.0274804305553709"
         },
         {
          "coeff-0": "-3.309155721992143",
          "coeff-1": "1.1123704270835586",
          "coeff-2": "1.0274804305553709"
         },
         {
          "coeff-0": "-3.309155721992143",
          "coeff-1": "1.1123704270835586",
          "coeff-2": "1.0274804305553709"
         },
         {
          "coeff-0": "-3.309155721992143",
          "coeff-1": "1.1123704270835586",
          "coeff-2": "1.0274804305553709"
         },
         {
          "coeff-0": "-3.345642447298673",
          "coeff-1": "1.0753338006313216",
          "coeff-2": "1.043198968207596"
         },
         {
          "coeff-0": "-3.345642447298673",
          "coeff-1": "1.0753338006313216",
          "coeff-2": "1.043198968207596"
         },
         {
          "coeff-0": "-3.345642447298673",
          "coeff-1": "1.0753338006313216",
          "coeff-2": "1.043198968207596"
         },
         {
          "coeff-0": "-3.345642447298673",
          "coeff-1": "1.0753338006313216",
          "coeff-2": "1.043198968207596"
         },
         {
          "coeff-0": "-3.345642447298673",
          "coeff-1": "1.0753338006313216",
          "coeff-2": "1.043198968207596"
         },
         {
          "coeff-0": "-3.345642447298673",
          "coeff-1": "1.0753338006313216",
          "coeff-2": "1.043198968207596"
         },
         {
          "coeff-0": "-3.345642447298673",
          "coeff-1": "1.0753338006313216",
          "coeff-2": "1.043198968207596"
         },
         {
          "coeff-0": "-3.345642447298673",
          "coeff-1": "1.0753338006313216",
          "coeff-2": "1.043198968207596"
         },
         {
          "coeff-0": "-3.345642447298673",
          "coeff-1": "1.0753338006313216",
          "coeff-2": "1.043198968207596"
         },
         {
          "coeff-0": "-3.345642447298673",
          "coeff-1": "1.0753338006313216",
          "coeff-2": "1.043198968207596"
         },
         {
          "coeff-0": "-3.345642447298673",
          "coeff-1": "1.0753338006313216",
          "coeff-2": "1.043198968207596"
         },
         {
          "coeff-0": "-3.345642447298673",
          "coeff-1": "1.0753338006313216",
          "coeff-2": "1.043198968207596"
         },
         {
          "coeff-0": "-3.345642447298673",
          "coeff-1": "1.0753338006313216",
          "coeff-2": "1.043198968207596"
         },
         {
          "coeff-0": "-3.345642447298673",
          "coeff-1": "1.0753338006313216",
          "coeff-2": "1.043198968207596"
         },
         {
          "coeff-0": "-3.345642447298673",
          "coeff-1": "1.0753338006313216",
          "coeff-2": "1.043198968207596"
         },
         {
          "coeff-0": "-3.345642447298673",
          "coeff-1": "1.0753338006313216",
          "coeff-2": "1.043198968207596"
         },
         {
          "coeff-0": "-3.345642447298673",
          "coeff-1": "1.0753338006313216",
          "coeff-2": "1.043198968207596"
         },
         {
          "coeff-0": "-3.345642447298673",
          "coeff-1": "1.0753338006313216",
          "coeff-2": "1.043198968207596"
         },
         {
          "coeff-0": "-3.345642447298673",
          "coeff-1": "1.0753338006313216",
          "coeff-2": "1.043198968207596"
         },
         {
          "coeff-0": "-3.345642447298673",
          "coeff-1": "1.0753338006313216",
          "coeff-2": "1.043198968207596"
         },
         {
          "coeff-0": "-3.345642447298673",
          "coeff-1": "1.0753338006313216",
          "coeff-2": "1.043198968207596"
         },
         {
          "coeff-0": "-3.345642447298673",
          "coeff-1": "1.0753338006313216",
          "coeff-2": "1.043198968207596"
         },
         {
          "coeff-0": "-3.345642447298673",
          "coeff-1": "1.0753338006313216",
          "coeff-2": "1.043198968207596"
         },
         {
          "coeff-0": "-3.345642447298673",
          "coeff-1": "1.0753338006313216",
          "coeff-2": "1.043198968207596"
         },
         {
          "coeff-0": "-3.345642447298673",
          "coeff-1": "1.0753338006313216",
          "coeff-2": "1.043198968207596"
         },
         {
          "coeff-0": "-3.345642447298673",
          "coeff-1": "1.0753338006313216",
          "coeff-2": "1.043198968207596"
         },
         {
          "coeff-0": "-3.345642447298673",
          "coeff-1": "1.0753338006313216",
          "coeff-2": "1.043198968207596"
         },
         {
          "coeff-0": "-3.345642447298673",
          "coeff-1": "1.0753338006313216",
          "coeff-2": "1.043198968207596"
         },
         {
          "coeff-0": "-3.345642447298673",
          "coeff-1": "1.0753338006313216",
          "coeff-2": "1.043198968207596"
         },
         {
          "coeff-0": "-3.345642447298673",
          "coeff-1": "1.0753338006313216",
          "coeff-2": "1.043198968207596"
         },
         {
          "coeff-0": "-3.345642447298673",
          "coeff-1": "1.0753338006313216",
          "coeff-2": "1.043198968207596"
         },
         {
          "coeff-0": "-3.345642447298673",
          "coeff-1": "1.0753338006313216",
          "coeff-2": "1.043198968207596"
         },
         {
          "coeff-0": "-3.3622192996311915",
          "coeff-1": "1.093962285701389",
          "coeff-2": "1.1625373019701968"
         },
         {
          "coeff-0": "-3.3622192996311915",
          "coeff-1": "1.093962285701389",
          "coeff-2": "1.1625373019701968"
         },
         {
          "coeff-0": "-3.3622192996311915",
          "coeff-1": "1.093962285701389",
          "coeff-2": "1.1625373019701968"
         },
         {
          "coeff-0": "-3.3622192996311915",
          "coeff-1": "1.093962285701389",
          "coeff-2": "1.1625373019701968"
         },
         {
          "coeff-0": "-3.3622192996311915",
          "coeff-1": "1.093962285701389",
          "coeff-2": "1.1625373019701968"
         },
         {
          "coeff-0": "-3.3733893038131146",
          "coeff-1": "1.044949269636367",
          "coeff-2": "1.1311904508065218"
         },
         {
          "coeff-0": "-3.3733893038131146",
          "coeff-1": "1.044949269636367",
          "coeff-2": "1.1311904508065218"
         },
         {
          "coeff-0": "-3.3733893038131146",
          "coeff-1": "1.044949269636367",
          "coeff-2": "1.1311904508065218"
         },
         {
          "coeff-0": "-3.3733893038131146",
          "coeff-1": "1.044949269636367",
          "coeff-2": "1.1311904508065218"
         },
         {
          "coeff-0": "-3.3698253971947727",
          "coeff-1": "1.0705793052883958",
          "coeff-2": "1.1374096293518154"
         },
         {
          "coeff-0": "-3.3698253971947727",
          "coeff-1": "1.0705793052883958",
          "coeff-2": "1.1374096293518154"
         },
         {
          "coeff-0": "-3.3698253971947727",
          "coeff-1": "1.0705793052883958",
          "coeff-2": "1.1374096293518154"
         },
         {
          "coeff-0": "-3.3698253971947727",
          "coeff-1": "1.0705793052883958",
          "coeff-2": "1.1374096293518154"
         },
         {
          "coeff-0": "-3.3698253971947727",
          "coeff-1": "1.0705793052883958",
          "coeff-2": "1.1374096293518154"
         },
         {
          "coeff-0": "-3.3698253971947727",
          "coeff-1": "1.0705793052883958",
          "coeff-2": "1.1374096293518154"
         },
         {
          "coeff-0": "-3.3698253971947727",
          "coeff-1": "1.0705793052883958",
          "coeff-2": "1.1374096293518154"
         },
         {
          "coeff-0": "-3.3698253971947727",
          "coeff-1": "1.0705793052883958",
          "coeff-2": "1.1374096293518154"
         },
         {
          "coeff-0": "-3.3698253971947727",
          "coeff-1": "1.0705793052883958",
          "coeff-2": "1.1374096293518154"
         },
         {
          "coeff-0": "-3.3698253971947727",
          "coeff-1": "1.0705793052883958",
          "coeff-2": "1.1374096293518154"
         },
         {
          "coeff-0": "-3.3698253971947727",
          "coeff-1": "1.0705793052883958",
          "coeff-2": "1.1374096293518154"
         },
         {
          "coeff-0": "-3.3698253971947727",
          "coeff-1": "1.0705793052883958",
          "coeff-2": "1.1374096293518154"
         },
         {
          "coeff-0": "-3.3698253971947727",
          "coeff-1": "1.0705793052883958",
          "coeff-2": "1.1374096293518154"
         },
         {
          "coeff-0": "-3.3698253971947727",
          "coeff-1": "1.0705793052883958",
          "coeff-2": "1.1374096293518154"
         },
         {
          "coeff-0": "-3.3698253971947727",
          "coeff-1": "1.0705793052883958",
          "coeff-2": "1.1374096293518154"
         },
         {
          "coeff-0": "-3.3698253971947727",
          "coeff-1": "1.0705793052883958",
          "coeff-2": "1.1374096293518154"
         },
         {
          "coeff-0": "-3.3698253971947727",
          "coeff-1": "1.0705793052883958",
          "coeff-2": "1.1374096293518154"
         },
         {
          "coeff-0": "-3.3698253971947727",
          "coeff-1": "1.0705793052883958",
          "coeff-2": "1.1374096293518154"
         },
         {
          "coeff-0": "-3.3698253971947727",
          "coeff-1": "1.0705793052883958",
          "coeff-2": "1.1374096293518154"
         },
         {
          "coeff-0": "-3.3698253971947727",
          "coeff-1": "1.0705793052883958",
          "coeff-2": "1.1374096293518154"
         },
         {
          "coeff-0": "-3.3698253971947727",
          "coeff-1": "1.0705793052883958",
          "coeff-2": "1.1374096293518154"
         },
         {
          "coeff-0": "-3.3698253971947727",
          "coeff-1": "1.0705793052883958",
          "coeff-2": "1.1374096293518154"
         },
         {
          "coeff-0": "-3.3698253971947727",
          "coeff-1": "1.0705793052883958",
          "coeff-2": "1.1374096293518154"
         },
         {
          "coeff-0": "-3.3698253971947727",
          "coeff-1": "1.0705793052883958",
          "coeff-2": "1.1374096293518154"
         },
         {
          "coeff-0": "-3.3698253971947727",
          "coeff-1": "1.0705793052883958",
          "coeff-2": "1.1374096293518154"
         },
         {
          "coeff-0": "-3.3698253971947727",
          "coeff-1": "1.0705793052883958",
          "coeff-2": "1.1374096293518154"
         },
         {
          "coeff-0": "-3.3698253971947727",
          "coeff-1": "1.0705793052883958",
          "coeff-2": "1.1374096293518154"
         },
         {
          "coeff-0": "-3.3698253971947727",
          "coeff-1": "1.0705793052883958",
          "coeff-2": "1.1374096293518154"
         },
         {
          "coeff-0": "-3.3698253971947727",
          "coeff-1": "1.0705793052883958",
          "coeff-2": "1.1374096293518154"
         },
         {
          "coeff-0": "-3.3698253971947727",
          "coeff-1": "1.0705793052883958",
          "coeff-2": "1.1374096293518154"
         },
         {
          "coeff-0": "-3.3698253971947727",
          "coeff-1": "1.0705793052883958",
          "coeff-2": "1.1374096293518154"
         },
         {
          "coeff-0": "-3.3698253971947727",
          "coeff-1": "1.0705793052883958",
          "coeff-2": "1.1374096293518154"
         },
         {
          "coeff-0": "-3.3698253971947727",
          "coeff-1": "1.0705793052883958",
          "coeff-2": "1.1374096293518154"
         },
         {
          "coeff-0": "-3.3698253971947727",
          "coeff-1": "1.0705793052883958",
          "coeff-2": "1.1374096293518154"
         },
         {
          "coeff-0": "-3.3698253971947727",
          "coeff-1": "1.0705793052883958",
          "coeff-2": "1.1374096293518154"
         },
         {
          "coeff-0": "-3.3698253971947727",
          "coeff-1": "1.0705793052883958",
          "coeff-2": "1.1374096293518154"
         },
         {
          "coeff-0": "-3.3698253971947727",
          "coeff-1": "1.0705793052883958",
          "coeff-2": "1.1374096293518154"
         },
         {
          "coeff-0": "-3.3698253971947727",
          "coeff-1": "1.0705793052883958",
          "coeff-2": "1.1374096293518154"
         },
         {
          "coeff-0": "-3.3698253971947727",
          "coeff-1": "1.0705793052883958",
          "coeff-2": "1.1374096293518154"
         },
         {
          "coeff-0": "-3.3698253971947727",
          "coeff-1": "1.0705793052883958",
          "coeff-2": "1.1374096293518154"
         },
         {
          "coeff-0": "-3.3698253971947727",
          "coeff-1": "1.0705793052883958",
          "coeff-2": "1.1374096293518154"
         },
         {
          "coeff-0": "-3.3698253971947727",
          "coeff-1": "1.0705793052883958",
          "coeff-2": "1.1374096293518154"
         },
         {
          "coeff-0": "-3.3698253971947727",
          "coeff-1": "1.0705793052883958",
          "coeff-2": "1.1374096293518154"
         },
         {
          "coeff-0": "-3.3698253971947727",
          "coeff-1": "1.0705793052883958",
          "coeff-2": "1.1374096293518154"
         },
         {
          "coeff-0": "-3.3698253971947727",
          "coeff-1": "1.0705793052883958",
          "coeff-2": "1.1374096293518154"
         },
         {
          "coeff-0": "-3.3698253971947727",
          "coeff-1": "1.0705793052883958",
          "coeff-2": "1.1374096293518154"
         },
         {
          "coeff-0": "-3.3698253971947727",
          "coeff-1": "1.0705793052883958",
          "coeff-2": "1.1374096293518154"
         },
         {
          "coeff-0": "-3.3698253971947727",
          "coeff-1": "1.0705793052883958",
          "coeff-2": "1.1374096293518154"
         },
         {
          "coeff-0": "-3.3698253971947727",
          "coeff-1": "1.0705793052883958",
          "coeff-2": "1.1374096293518154"
         },
         {
          "coeff-0": "-3.3698253971947727",
          "coeff-1": "1.0705793052883958",
          "coeff-2": "1.1374096293518154"
         },
         {
          "coeff-0": "-3.3698253971947727",
          "coeff-1": "1.0705793052883958",
          "coeff-2": "1.1374096293518154"
         },
         {
          "coeff-0": "-3.3698253971947727",
          "coeff-1": "1.0705793052883958",
          "coeff-2": "1.1374096293518154"
         },
         {
          "coeff-0": "-3.3698253971947727",
          "coeff-1": "1.0705793052883958",
          "coeff-2": "1.1374096293518154"
         },
         {
          "coeff-0": "-3.3698253971947727",
          "coeff-1": "1.0705793052883958",
          "coeff-2": "1.1374096293518154"
         },
         {
          "coeff-0": "-3.3698253971947727",
          "coeff-1": "1.0705793052883958",
          "coeff-2": "1.1374096293518154"
         },
         {
          "coeff-0": "-3.3698253971947727",
          "coeff-1": "1.0705793052883958",
          "coeff-2": "1.1374096293518154"
         },
         {
          "coeff-0": "-3.3698253971947727",
          "coeff-1": "1.0705793052883958",
          "coeff-2": "1.1374096293518154"
         },
         {
          "coeff-0": "-3.3698253971947727",
          "coeff-1": "1.0705793052883958",
          "coeff-2": "1.1374096293518154"
         },
         {
          "coeff-0": "-3.3698253971947727",
          "coeff-1": "1.0705793052883958",
          "coeff-2": "1.1374096293518154"
         },
         {
          "coeff-0": "-3.3698253971947727",
          "coeff-1": "1.0705793052883958",
          "coeff-2": "1.1374096293518154"
         },
         {
          "coeff-0": "-3.3698253971947727",
          "coeff-1": "1.0705793052883958",
          "coeff-2": "1.1374096293518154"
         },
         {
          "coeff-0": "-3.3698253971947727",
          "coeff-1": "1.0705793052883958",
          "coeff-2": "1.1374096293518154"
         },
         {
          "coeff-0": "-3.3698253971947727",
          "coeff-1": "1.0705793052883958",
          "coeff-2": "1.1374096293518154"
         },
         {
          "coeff-0": "-3.3698253971947727",
          "coeff-1": "1.0705793052883958",
          "coeff-2": "1.1374096293518154"
         },
         {
          "coeff-0": "-3.3698253971947727",
          "coeff-1": "1.0705793052883958",
          "coeff-2": "1.1374096293518154"
         },
         {
          "coeff-0": "-3.3698253971947727",
          "coeff-1": "1.0705793052883958",
          "coeff-2": "1.1374096293518154"
         },
         {
          "coeff-0": "-3.3698253971947727",
          "coeff-1": "1.0705793052883958",
          "coeff-2": "1.1374096293518154"
         },
         {
          "coeff-0": "-3.3698253971947727",
          "coeff-1": "1.0705793052883958",
          "coeff-2": "1.1374096293518154"
         },
         {
          "coeff-0": "-3.3698253971947727",
          "coeff-1": "1.0705793052883958",
          "coeff-2": "1.1374096293518154"
         },
         {
          "coeff-0": "-3.3698253971947727",
          "coeff-1": "1.0705793052883958",
          "coeff-2": "1.1374096293518154"
         },
         {
          "coeff-0": "-3.3698253971947727",
          "coeff-1": "1.0705793052883958",
          "coeff-2": "1.1374096293518154"
         },
         {
          "coeff-0": "-3.3698253971947727",
          "coeff-1": "1.0705793052883958",
          "coeff-2": "1.1374096293518154"
         },
         {
          "coeff-0": "-3.3698253971947727",
          "coeff-1": "1.0705793052883958",
          "coeff-2": "1.1374096293518154"
         },
         {
          "coeff-0": "-3.3698253971947727",
          "coeff-1": "1.0705793052883958",
          "coeff-2": "1.1374096293518154"
         },
         {
          "coeff-0": "-3.3698253971947727",
          "coeff-1": "1.0705793052883958",
          "coeff-2": "1.1374096293518154"
         },
         {
          "coeff-0": "-3.3698253971947727",
          "coeff-1": "1.0705793052883958",
          "coeff-2": "1.1374096293518154"
         },
         {
          "coeff-0": "-3.3698253971947727",
          "coeff-1": "1.0705793052883958",
          "coeff-2": "1.1374096293518154"
         },
         {
          "coeff-0": "-3.3698253971947727",
          "coeff-1": "1.0705793052883958",
          "coeff-2": "1.1374096293518154"
         },
         {
          "coeff-0": "-3.3698253971947727",
          "coeff-1": "1.0705793052883958",
          "coeff-2": "1.1374096293518154"
         },
         {
          "coeff-0": "-3.3698253971947727",
          "coeff-1": "1.0705793052883958",
          "coeff-2": "1.1374096293518154"
         },
         {
          "coeff-0": "-3.3698253971947727",
          "coeff-1": "1.0705793052883958",
          "coeff-2": "1.1374096293518154"
         },
         {
          "coeff-0": "-3.3698253971947727",
          "coeff-1": "1.0705793052883958",
          "coeff-2": "1.1374096293518154"
         },
         {
          "coeff-0": "-3.3698253971947727",
          "coeff-1": "1.0705793052883958",
          "coeff-2": "1.1374096293518154"
         },
         {
          "coeff-0": "-3.3698253971947727",
          "coeff-1": "1.0705793052883958",
          "coeff-2": "1.1374096293518154"
         },
         {
          "coeff-0": "-3.3698253971947727",
          "coeff-1": "1.0705793052883958",
          "coeff-2": "1.1374096293518154"
         },
         {
          "coeff-0": "-3.3698253971947727",
          "coeff-1": "1.0705793052883958",
          "coeff-2": "1.1374096293518154"
         },
         {
          "coeff-0": "-3.3698253971947727",
          "coeff-1": "1.0705793052883958",
          "coeff-2": "1.1374096293518154"
         },
         {
          "coeff-0": "-3.3698253971947727",
          "coeff-1": "1.0705793052883958",
          "coeff-2": "1.1374096293518154"
         },
         {
          "coeff-0": "-3.3698253971947727",
          "coeff-1": "1.0705793052883958",
          "coeff-2": "1.1374096293518154"
         },
         {
          "coeff-0": "-3.3698253971947727",
          "coeff-1": "1.0705793052883958",
          "coeff-2": "1.1374096293518154"
         },
         {
          "coeff-0": "-3.3698253971947727",
          "coeff-1": "1.0705793052883958",
          "coeff-2": "1.1374096293518154"
         },
         {
          "coeff-0": "-3.3698253971947727",
          "coeff-1": "1.0705793052883958",
          "coeff-2": "1.1374096293518154"
         },
         {
          "coeff-0": "-3.3698253971947727",
          "coeff-1": "1.0705793052883958",
          "coeff-2": "1.1374096293518154"
         },
         {
          "coeff-0": "-3.3698253971947727",
          "coeff-1": "1.0705793052883958",
          "coeff-2": "1.1374096293518154"
         },
         {
          "coeff-0": "-3.3698253971947727",
          "coeff-1": "1.0705793052883958",
          "coeff-2": "1.1374096293518154"
         },
         {
          "coeff-0": "-3.3698253971947727",
          "coeff-1": "1.0705793052883958",
          "coeff-2": "1.1374096293518154"
         },
         {
          "coeff-0": "-3.3698253971947727",
          "coeff-1": "1.0705793052883958",
          "coeff-2": "1.1374096293518154"
         },
         {
          "coeff-0": "-3.3698253971947727",
          "coeff-1": "1.0705793052883958",
          "coeff-2": "1.1374096293518154"
         },
         {
          "coeff-0": "-3.3698253971947727",
          "coeff-1": "1.0705793052883958",
          "coeff-2": "1.1374096293518154"
         },
         {
          "coeff-0": "-3.3698253971947727",
          "coeff-1": "1.0705793052883958",
          "coeff-2": "1.1374096293518154"
         },
         {
          "coeff-0": "-3.3698253971947727",
          "coeff-1": "1.0705793052883958",
          "coeff-2": "1.1374096293518154"
         },
         {
          "coeff-0": "-3.3698253971947727",
          "coeff-1": "1.0705793052883958",
          "coeff-2": "1.1374096293518154"
         },
         {
          "coeff-0": "-3.3698253971947727",
          "coeff-1": "1.0705793052883958",
          "coeff-2": "1.1374096293518154"
         },
         {
          "coeff-0": "-3.3698253971947727",
          "coeff-1": "1.0705793052883958",
          "coeff-2": "1.1374096293518154"
         },
         {
          "coeff-0": "-3.3698253971947727",
          "coeff-1": "1.0705793052883958",
          "coeff-2": "1.1374096293518154"
         },
         {
          "coeff-0": "-3.3698253971947727",
          "coeff-1": "1.0705793052883958",
          "coeff-2": "1.1374096293518154"
         },
         {
          "coeff-0": "-3.3698253971947727",
          "coeff-1": "1.0705793052883958",
          "coeff-2": "1.1374096293518154"
         },
         {
          "coeff-0": "-3.3698253971947727",
          "coeff-1": "1.0705793052883958",
          "coeff-2": "1.1374096293518154"
         },
         {
          "coeff-0": "-3.3698253971947727",
          "coeff-1": "1.0705793052883958",
          "coeff-2": "1.1374096293518154"
         },
         {
          "coeff-0": "-3.3698253971947727",
          "coeff-1": "1.0705793052883958",
          "coeff-2": "1.1374096293518154"
         },
         {
          "coeff-0": "-3.3698253971947727",
          "coeff-1": "1.0705793052883958",
          "coeff-2": "1.1374096293518154"
         },
         {
          "coeff-0": "-3.3698253971947727",
          "coeff-1": "1.0705793052883958",
          "coeff-2": "1.1374096293518154"
         },
         {
          "coeff-0": "-3.3698253971947727",
          "coeff-1": "1.0705793052883958",
          "coeff-2": "1.1374096293518154"
         },
         {
          "coeff-0": "-3.3698253971947727",
          "coeff-1": "1.0705793052883958",
          "coeff-2": "1.1374096293518154"
         },
         {
          "coeff-0": "-3.3698253971947727",
          "coeff-1": "1.0705793052883958",
          "coeff-2": "1.1374096293518154"
         },
         {
          "coeff-0": "-3.3698253971947727",
          "coeff-1": "1.0705793052883958",
          "coeff-2": "1.1374096293518154"
         },
         {
          "coeff-0": "-3.3698253971947727",
          "coeff-1": "1.0705793052883958",
          "coeff-2": "1.1374096293518154"
         },
         {
          "coeff-0": "-3.3698253971947727",
          "coeff-1": "1.0705793052883958",
          "coeff-2": "1.1374096293518154"
         },
         {
          "coeff-0": "-3.3698253971947727",
          "coeff-1": "1.0705793052883958",
          "coeff-2": "1.1374096293518154"
         },
         {
          "coeff-0": "-3.3698253971947727",
          "coeff-1": "1.0705793052883958",
          "coeff-2": "1.1374096293518154"
         },
         {
          "coeff-0": "-3.3698253971947727",
          "coeff-1": "1.0705793052883958",
          "coeff-2": "1.1374096293518154"
         },
         {
          "coeff-0": "-3.3698253971947727",
          "coeff-1": "1.0705793052883958",
          "coeff-2": "1.1374096293518154"
         },
         {
          "coeff-0": "-3.3698253971947727",
          "coeff-1": "1.0705793052883958",
          "coeff-2": "1.1374096293518154"
         },
         {
          "coeff-0": "-3.3698253971947727",
          "coeff-1": "1.0705793052883958",
          "coeff-2": "1.1374096293518154"
         },
         {
          "coeff-0": "-3.3698253971947727",
          "coeff-1": "1.0705793052883958",
          "coeff-2": "1.1374096293518154"
         },
         {
          "coeff-0": "-3.3698253971947727",
          "coeff-1": "1.0705793052883958",
          "coeff-2": "1.1374096293518154"
         },
         {
          "coeff-0": "-3.3698253971947727",
          "coeff-1": "1.0705793052883958",
          "coeff-2": "1.1374096293518154"
         },
         {
          "coeff-0": "-3.3698253971947727",
          "coeff-1": "1.0705793052883958",
          "coeff-2": "1.1374096293518154"
         },
         {
          "coeff-0": "-3.346290420684296",
          "coeff-1": "1.0828092570222267",
          "coeff-2": "1.1611617899921345"
         },
         {
          "coeff-0": "-3.346290420684296",
          "coeff-1": "1.0828092570222267",
          "coeff-2": "1.1611617899921345"
         },
         {
          "coeff-0": "-3.346290420684296",
          "coeff-1": "1.0828092570222267",
          "coeff-2": "1.1611617899921345"
         },
         {
          "coeff-0": "-3.346290420684296",
          "coeff-1": "1.0828092570222267",
          "coeff-2": "1.1611617899921345"
         },
         {
          "coeff-0": "-3.346290420684296",
          "coeff-1": "1.0828092570222267",
          "coeff-2": "1.1611617899921345"
         },
         {
          "coeff-0": "-3.346290420684296",
          "coeff-1": "1.0828092570222267",
          "coeff-2": "1.1611617899921345"
         },
         {
          "coeff-0": "-3.346290420684296",
          "coeff-1": "1.0828092570222267",
          "coeff-2": "1.1611617899921345"
         },
         {
          "coeff-0": "-3.346290420684296",
          "coeff-1": "1.0828092570222267",
          "coeff-2": "1.1611617899921345"
         },
         {
          "coeff-0": "-3.346290420684296",
          "coeff-1": "1.0828092570222267",
          "coeff-2": "1.1611617899921345"
         },
         {
          "coeff-0": "-3.346290420684296",
          "coeff-1": "1.0828092570222267",
          "coeff-2": "1.1611617899921345"
         },
         {
          "coeff-0": "-3.346290420684296",
          "coeff-1": "1.0828092570222267",
          "coeff-2": "1.1611617899921345"
         },
         {
          "coeff-0": "-3.346290420684296",
          "coeff-1": "1.0828092570222267",
          "coeff-2": "1.1611617899921345"
         },
         {
          "coeff-0": "-3.346290420684296",
          "coeff-1": "1.0828092570222267",
          "coeff-2": "1.1611617899921345"
         },
         {
          "coeff-0": "-3.346290420684296",
          "coeff-1": "1.0828092570222267",
          "coeff-2": "1.1611617899921345"
         },
         {
          "coeff-0": "-3.346290420684296",
          "coeff-1": "1.0828092570222267",
          "coeff-2": "1.1611617899921345"
         },
         {
          "coeff-0": "-3.346290420684296",
          "coeff-1": "1.0828092570222267",
          "coeff-2": "1.1611617899921345"
         },
         {
          "coeff-0": "-3.346290420684296",
          "coeff-1": "1.0828092570222267",
          "coeff-2": "1.1611617899921345"
         },
         {
          "coeff-0": "-3.346290420684296",
          "coeff-1": "1.0828092570222267",
          "coeff-2": "1.1611617899921345"
         },
         {
          "coeff-0": "-3.346290420684296",
          "coeff-1": "1.0828092570222267",
          "coeff-2": "1.1611617899921345"
         },
         {
          "coeff-0": "-3.346290420684296",
          "coeff-1": "1.0828092570222267",
          "coeff-2": "1.1611617899921345"
         },
         {
          "coeff-0": "-3.346290420684296",
          "coeff-1": "1.0828092570222267",
          "coeff-2": "1.1611617899921345"
         },
         {
          "coeff-0": "-3.346290420684296",
          "coeff-1": "1.0828092570222267",
          "coeff-2": "1.1611617899921345"
         },
         {
          "coeff-0": "-3.346290420684296",
          "coeff-1": "1.0828092570222267",
          "coeff-2": "1.1611617899921345"
         },
         {
          "coeff-0": "-3.346290420684296",
          "coeff-1": "1.0828092570222267",
          "coeff-2": "1.1611617899921345"
         },
         {
          "coeff-0": "-3.346290420684296",
          "coeff-1": "1.0828092570222267",
          "coeff-2": "1.1611617899921345"
         },
         {
          "coeff-0": "-3.369778893498745",
          "coeff-1": "1.1002410042167976",
          "coeff-2": "1.1696737600027878"
         },
         {
          "coeff-0": "-3.369778893498745",
          "coeff-1": "1.1002410042167976",
          "coeff-2": "1.1696737600027878"
         },
         {
          "coeff-0": "-3.369778893498745",
          "coeff-1": "1.1002410042167976",
          "coeff-2": "1.1696737600027878"
         },
         {
          "coeff-0": "-3.369778893498745",
          "coeff-1": "1.1002410042167976",
          "coeff-2": "1.1696737600027878"
         },
         {
          "coeff-0": "-3.369778893498745",
          "coeff-1": "1.1002410042167976",
          "coeff-2": "1.1696737600027878"
         },
         {
          "coeff-0": "-3.369778893498745",
          "coeff-1": "1.1002410042167976",
          "coeff-2": "1.1696737600027878"
         },
         {
          "coeff-0": "-3.369778893498745",
          "coeff-1": "1.1002410042167976",
          "coeff-2": "1.1696737600027878"
         },
         {
          "coeff-0": "-3.369778893498745",
          "coeff-1": "1.1002410042167976",
          "coeff-2": "1.1696737600027878"
         },
         {
          "coeff-0": "-3.369778893498745",
          "coeff-1": "1.1002410042167976",
          "coeff-2": "1.1696737600027878"
         },
         {
          "coeff-0": "-3.369778893498745",
          "coeff-1": "1.1002410042167976",
          "coeff-2": "1.1696737600027878"
         },
         {
          "coeff-0": "-3.369778893498745",
          "coeff-1": "1.1002410042167976",
          "coeff-2": "1.1696737600027878"
         },
         {
          "coeff-0": "-3.369778893498745",
          "coeff-1": "1.1002410042167976",
          "coeff-2": "1.1696737600027878"
         },
         {
          "coeff-0": "-3.369778893498745",
          "coeff-1": "1.1002410042167976",
          "coeff-2": "1.1696737600027878"
         },
         {
          "coeff-0": "-3.369778893498745",
          "coeff-1": "1.1002410042167976",
          "coeff-2": "1.1696737600027878"
         },
         {
          "coeff-0": "-3.369778893498745",
          "coeff-1": "1.1002410042167976",
          "coeff-2": "1.1696737600027878"
         },
         {
          "coeff-0": "-3.369778893498745",
          "coeff-1": "1.1002410042167976",
          "coeff-2": "1.1696737600027878"
         },
         {
          "coeff-0": "-3.369778893498745",
          "coeff-1": "1.1002410042167976",
          "coeff-2": "1.1696737600027878"
         },
         {
          "coeff-0": "-3.369778893498745",
          "coeff-1": "1.1002410042167976",
          "coeff-2": "1.1696737600027878"
         },
         {
          "coeff-0": "-3.369778893498745",
          "coeff-1": "1.1002410042167976",
          "coeff-2": "1.1696737600027878"
         },
         {
          "coeff-0": "-3.369778893498745",
          "coeff-1": "1.1002410042167976",
          "coeff-2": "1.1696737600027878"
         },
         {
          "coeff-0": "-3.369778893498745",
          "coeff-1": "1.1002410042167976",
          "coeff-2": "1.1696737600027878"
         },
         {
          "coeff-0": "-3.369778893498745",
          "coeff-1": "1.1002410042167976",
          "coeff-2": "1.1696737600027878"
         },
         {
          "coeff-0": "-3.369778893498745",
          "coeff-1": "1.1002410042167976",
          "coeff-2": "1.1696737600027878"
         },
         {
          "coeff-0": "-3.369778893498745",
          "coeff-1": "1.1002410042167976",
          "coeff-2": "1.1696737600027878"
         },
         {
          "coeff-0": "-3.369778893498745",
          "coeff-1": "1.1002410042167976",
          "coeff-2": "1.1696737600027878"
         },
         {
          "coeff-0": "-3.369778893498745",
          "coeff-1": "1.1002410042167976",
          "coeff-2": "1.1696737600027878"
         },
         {
          "coeff-0": "-3.369778893498745",
          "coeff-1": "1.1002410042167976",
          "coeff-2": "1.1696737600027878"
         },
         {
          "coeff-0": "-3.369778893498745",
          "coeff-1": "1.1002410042167976",
          "coeff-2": "1.1696737600027878"
         },
         {
          "coeff-0": "-3.369778893498745",
          "coeff-1": "1.1002410042167976",
          "coeff-2": "1.1696737600027878"
         },
         {
          "coeff-0": "-3.369778893498745",
          "coeff-1": "1.1002410042167976",
          "coeff-2": "1.1696737600027878"
         },
         {
          "coeff-0": "-3.369778893498745",
          "coeff-1": "1.1002410042167976",
          "coeff-2": "1.1696737600027878"
         },
         {
          "coeff-0": "-3.369778893498745",
          "coeff-1": "1.1002410042167976",
          "coeff-2": "1.1696737600027878"
         },
         {
          "coeff-0": "-3.369778893498745",
          "coeff-1": "1.1002410042167976",
          "coeff-2": "1.1696737600027878"
         },
         {
          "coeff-0": "-3.369778893498745",
          "coeff-1": "1.1002410042167976",
          "coeff-2": "1.1696737600027878"
         },
         {
          "coeff-0": "-3.369778893498745",
          "coeff-1": "1.1002410042167976",
          "coeff-2": "1.1696737600027878"
         },
         {
          "coeff-0": "-3.369778893498745",
          "coeff-1": "1.1002410042167976",
          "coeff-2": "1.1696737600027878"
         },
         {
          "coeff-0": "-3.369778893498745",
          "coeff-1": "1.1002410042167976",
          "coeff-2": "1.1696737600027878"
         },
         {
          "coeff-0": "-3.369778893498745",
          "coeff-1": "1.1002410042167976",
          "coeff-2": "1.1696737600027878"
         },
         {
          "coeff-0": "-3.369778893498745",
          "coeff-1": "1.1002410042167976",
          "coeff-2": "1.1696737600027878"
         },
         {
          "coeff-0": "-3.369778893498745",
          "coeff-1": "1.1002410042167976",
          "coeff-2": "1.1696737600027878"
         },
         {
          "coeff-0": "-3.369778893498745",
          "coeff-1": "1.1002410042167976",
          "coeff-2": "1.1696737600027878"
         },
         {
          "coeff-0": "-3.369778893498745",
          "coeff-1": "1.1002410042167976",
          "coeff-2": "1.1696737600027878"
         },
         {
          "coeff-0": "-3.369778893498745",
          "coeff-1": "1.1002410042167976",
          "coeff-2": "1.1696737600027878"
         },
         {
          "coeff-0": "-3.369778893498745",
          "coeff-1": "1.1002410042167976",
          "coeff-2": "1.1696737600027878"
         },
         {
          "coeff-0": "-3.369778893498745",
          "coeff-1": "1.1002410042167976",
          "coeff-2": "1.1696737600027878"
         },
         {
          "coeff-0": "-3.369778893498745",
          "coeff-1": "1.1002410042167976",
          "coeff-2": "1.1696737600027878"
         },
         {
          "coeff-0": "-3.369778893498745",
          "coeff-1": "1.1002410042167976",
          "coeff-2": "1.1696737600027878"
         },
         {
          "coeff-0": "-3.369778893498745",
          "coeff-1": "1.1002410042167976",
          "coeff-2": "1.1696737600027878"
         },
         {
          "coeff-0": "-3.369778893498745",
          "coeff-1": "1.1002410042167976",
          "coeff-2": "1.1696737600027878"
         },
         {
          "coeff-0": "-3.369778893498745",
          "coeff-1": "1.1002410042167976",
          "coeff-2": "1.1696737600027878"
         },
         {
          "coeff-0": "-3.369778893498745",
          "coeff-1": "1.1002410042167976",
          "coeff-2": "1.1696737600027878"
         },
         {
          "coeff-0": "-3.369778893498745",
          "coeff-1": "1.1002410042167976",
          "coeff-2": "1.1696737600027878"
         },
         {
          "coeff-0": "-3.369778893498745",
          "coeff-1": "1.1002410042167976",
          "coeff-2": "1.1696737600027878"
         },
         {
          "coeff-0": "-3.369778893498745",
          "coeff-1": "1.1002410042167976",
          "coeff-2": "1.1696737600027878"
         },
         {
          "coeff-0": "-3.369778893498745",
          "coeff-1": "1.1002410042167976",
          "coeff-2": "1.1696737600027878"
         },
         {
          "coeff-0": "-3.369778893498745",
          "coeff-1": "1.1002410042167976",
          "coeff-2": "1.1696737600027878"
         },
         {
          "coeff-0": "-3.369778893498745",
          "coeff-1": "1.1002410042167976",
          "coeff-2": "1.1696737600027878"
         },
         {
          "coeff-0": "-3.369778893498745",
          "coeff-1": "1.1002410042167976",
          "coeff-2": "1.1696737600027878"
         },
         {
          "coeff-0": "-3.369778893498745",
          "coeff-1": "1.1002410042167976",
          "coeff-2": "1.1696737600027878"
         },
         {
          "coeff-0": "-3.369778893498745",
          "coeff-1": "1.1002410042167976",
          "coeff-2": "1.1696737600027878"
         },
         {
          "coeff-0": "-3.369778893498745",
          "coeff-1": "1.1002410042167976",
          "coeff-2": "1.1696737600027878"
         },
         {
          "coeff-0": "-3.369778893498745",
          "coeff-1": "1.1002410042167976",
          "coeff-2": "1.1696737600027878"
         },
         {
          "coeff-0": "-3.369778893498745",
          "coeff-1": "1.1002410042167976",
          "coeff-2": "1.1696737600027878"
         },
         {
          "coeff-0": "-3.369778893498745",
          "coeff-1": "1.1002410042167976",
          "coeff-2": "1.1696737600027878"
         },
         {
          "coeff-0": "-3.369778893498745",
          "coeff-1": "1.1002410042167976",
          "coeff-2": "1.1696737600027878"
         },
         {
          "coeff-0": "-3.369778893498745",
          "coeff-1": "1.1002410042167976",
          "coeff-2": "1.1696737600027878"
         },
         {
          "coeff-0": "-3.369778893498745",
          "coeff-1": "1.1002410042167976",
          "coeff-2": "1.1696737600027878"
         },
         {
          "coeff-0": "-3.369778893498745",
          "coeff-1": "1.1002410042167976",
          "coeff-2": "1.1696737600027878"
         },
         {
          "coeff-0": "-3.369778893498745",
          "coeff-1": "1.1002410042167976",
          "coeff-2": "1.1696737600027878"
         },
         {
          "coeff-0": "-3.369778893498745",
          "coeff-1": "1.1002410042167976",
          "coeff-2": "1.1696737600027878"
         },
         {
          "coeff-0": "-3.369778893498745",
          "coeff-1": "1.1002410042167976",
          "coeff-2": "1.1696737600027878"
         },
         {
          "coeff-0": "-3.369778893498745",
          "coeff-1": "1.1002410042167976",
          "coeff-2": "1.1696737600027878"
         },
         {
          "coeff-0": "-3.369778893498745",
          "coeff-1": "1.1002410042167976",
          "coeff-2": "1.1696737600027878"
         },
         {
          "coeff-0": "-3.369778893498745",
          "coeff-1": "1.1002410042167976",
          "coeff-2": "1.1696737600027878"
         },
         {
          "coeff-0": "-3.369778893498745",
          "coeff-1": "1.1002410042167976",
          "coeff-2": "1.1696737600027878"
         },
         {
          "coeff-0": "-3.369778893498745",
          "coeff-1": "1.1002410042167976",
          "coeff-2": "1.1696737600027878"
         },
         {
          "coeff-0": "-3.369778893498745",
          "coeff-1": "1.1002410042167976",
          "coeff-2": "1.1696737600027878"
         },
         {
          "coeff-0": "-3.369778893498745",
          "coeff-1": "1.1002410042167976",
          "coeff-2": "1.1696737600027878"
         },
         {
          "coeff-0": "-3.369778893498745",
          "coeff-1": "1.1002410042167976",
          "coeff-2": "1.1696737600027878"
         },
         {
          "coeff-0": "-3.369778893498745",
          "coeff-1": "1.1002410042167976",
          "coeff-2": "1.1696737600027878"
         },
         {
          "coeff-0": "-3.369778893498745",
          "coeff-1": "1.1002410042167976",
          "coeff-2": "1.1696737600027878"
         },
         {
          "coeff-0": "-3.369778893498745",
          "coeff-1": "1.1002410042167976",
          "coeff-2": "1.1696737600027878"
         },
         {
          "coeff-0": "-3.369778893498745",
          "coeff-1": "1.1002410042167976",
          "coeff-2": "1.1696737600027878"
         },
         {
          "coeff-0": "-3.369778893498745",
          "coeff-1": "1.1002410042167976",
          "coeff-2": "1.1696737600027878"
         },
         {
          "coeff-0": "-3.369778893498745",
          "coeff-1": "1.1002410042167976",
          "coeff-2": "1.1696737600027878"
         },
         {
          "coeff-0": "-3.369778893498745",
          "coeff-1": "1.1002410042167976",
          "coeff-2": "1.1696737600027878"
         },
         {
          "coeff-0": "-3.369778893498745",
          "coeff-1": "1.1002410042167976",
          "coeff-2": "1.1696737600027878"
         },
         {
          "coeff-0": "-3.369778893498745",
          "coeff-1": "1.1002410042167976",
          "coeff-2": "1.1696737600027878"
         },
         {
          "coeff-0": "-3.369778893498745",
          "coeff-1": "1.1002410042167976",
          "coeff-2": "1.1696737600027878"
         },
         {
          "coeff-0": "-3.369778893498745",
          "coeff-1": "1.1002410042167976",
          "coeff-2": "1.1696737600027878"
         },
         {
          "coeff-0": "-3.369778893498745",
          "coeff-1": "1.1002410042167976",
          "coeff-2": "1.1696737600027878"
         },
         {
          "coeff-0": "-3.369778893498745",
          "coeff-1": "1.1002410042167976",
          "coeff-2": "1.1696737600027878"
         },
         {
          "coeff-0": "-3.369778893498745",
          "coeff-1": "1.1002410042167976",
          "coeff-2": "1.1696737600027878"
         },
         {
          "coeff-0": "-3.369778893498745",
          "coeff-1": "1.1002410042167976",
          "coeff-2": "1.1696737600027878"
         },
         {
          "coeff-0": "-3.369778893498745",
          "coeff-1": "1.1002410042167976",
          "coeff-2": "1.1696737600027878"
         },
         {
          "coeff-0": "-3.369778893498745",
          "coeff-1": "1.1002410042167976",
          "coeff-2": "1.1696737600027878"
         },
         {
          "coeff-0": "-3.369778893498745",
          "coeff-1": "1.1002410042167976",
          "coeff-2": "1.1696737600027878"
         },
         {
          "coeff-0": "-3.369778893498745",
          "coeff-1": "1.1002410042167976",
          "coeff-2": "1.1696737600027878"
         },
         {
          "coeff-0": "-3.369778893498745",
          "coeff-1": "1.1002410042167976",
          "coeff-2": "1.1696737600027878"
         },
         {
          "coeff-0": "-3.369778893498745",
          "coeff-1": "1.1002410042167976",
          "coeff-2": "1.1696737600027878"
         },
         {
          "coeff-0": "-3.369778893498745",
          "coeff-1": "1.1002410042167976",
          "coeff-2": "1.1696737600027878"
         },
         {
          "coeff-0": "-3.369778893498745",
          "coeff-1": "1.1002410042167976",
          "coeff-2": "1.1696737600027878"
         },
         {
          "coeff-0": "-3.369778893498745",
          "coeff-1": "1.1002410042167976",
          "coeff-2": "1.1696737600027878"
         },
         {
          "coeff-0": "-3.369778893498745",
          "coeff-1": "1.1002410042167976",
          "coeff-2": "1.1696737600027878"
         },
         {
          "coeff-0": "-3.369778893498745",
          "coeff-1": "1.1002410042167976",
          "coeff-2": "1.1696737600027878"
         },
         {
          "coeff-0": "-3.369778893498745",
          "coeff-1": "1.1002410042167976",
          "coeff-2": "1.1696737600027878"
         },
         {
          "coeff-0": "-3.369778893498745",
          "coeff-1": "1.1002410042167976",
          "coeff-2": "1.1696737600027878"
         },
         {
          "coeff-0": "-3.369778893498745",
          "coeff-1": "1.1002410042167976",
          "coeff-2": "1.1696737600027878"
         },
         {
          "coeff-0": "-3.369778893498745",
          "coeff-1": "1.1002410042167976",
          "coeff-2": "1.1696737600027878"
         },
         {
          "coeff-0": "-3.369778893498745",
          "coeff-1": "1.1002410042167976",
          "coeff-2": "1.1696737600027878"
         },
         {
          "coeff-0": "-3.369778893498745",
          "coeff-1": "1.1002410042167976",
          "coeff-2": "1.1696737600027878"
         },
         {
          "coeff-0": "-3.369778893498745",
          "coeff-1": "1.1002410042167976",
          "coeff-2": "1.1696737600027878"
         },
         {
          "coeff-0": "-3.369778893498745",
          "coeff-1": "1.1002410042167976",
          "coeff-2": "1.1696737600027878"
         },
         {
          "coeff-0": "-3.369778893498745",
          "coeff-1": "1.1002410042167976",
          "coeff-2": "1.1696737600027878"
         },
         {
          "coeff-0": "-3.369778893498745",
          "coeff-1": "1.1002410042167976",
          "coeff-2": "1.1696737600027878"
         },
         {
          "coeff-0": "-3.369778893498745",
          "coeff-1": "1.1002410042167976",
          "coeff-2": "1.1696737600027878"
         },
         {
          "coeff-0": "-3.369778893498745",
          "coeff-1": "1.1002410042167976",
          "coeff-2": "1.1696737600027878"
         },
         {
          "coeff-0": "-3.369778893498745",
          "coeff-1": "1.1002410042167976",
          "coeff-2": "1.1696737600027878"
         },
         {
          "coeff-0": "-3.369778893498745",
          "coeff-1": "1.1002410042167976",
          "coeff-2": "1.1696737600027878"
         },
         {
          "coeff-0": "-3.369778893498745",
          "coeff-1": "1.1002410042167976",
          "coeff-2": "1.1696737600027878"
         },
         {
          "coeff-0": "-3.369778893498745",
          "coeff-1": "1.1002410042167976",
          "coeff-2": "1.1696737600027878"
         },
         {
          "coeff-0": "-3.369778893498745",
          "coeff-1": "1.1002410042167976",
          "coeff-2": "1.1696737600027878"
         },
         {
          "coeff-0": "-3.369778893498745",
          "coeff-1": "1.1002410042167976",
          "coeff-2": "1.1696737600027878"
         },
         {
          "coeff-0": "-3.369778893498745",
          "coeff-1": "1.1002410042167976",
          "coeff-2": "1.1696737600027878"
         },
         {
          "coeff-0": "-3.369778893498745",
          "coeff-1": "1.1002410042167976",
          "coeff-2": "1.1696737600027878"
         },
         {
          "coeff-0": "-3.369778893498745",
          "coeff-1": "1.1002410042167976",
          "coeff-2": "1.1696737600027878"
         },
         {
          "coeff-0": "-3.369778893498745",
          "coeff-1": "1.1002410042167976",
          "coeff-2": "1.1696737600027878"
         },
         {
          "coeff-0": "-3.369778893498745",
          "coeff-1": "1.1002410042167976",
          "coeff-2": "1.1696737600027878"
         },
         {
          "coeff-0": "-3.369778893498745",
          "coeff-1": "1.1002410042167976",
          "coeff-2": "1.1696737600027878"
         },
         {
          "coeff-0": "-3.369778893498745",
          "coeff-1": "1.1002410042167976",
          "coeff-2": "1.1696737600027878"
         },
         {
          "coeff-0": "-3.369778893498745",
          "coeff-1": "1.1002410042167976",
          "coeff-2": "1.1696737600027878"
         },
         {
          "coeff-0": "-3.369778893498745",
          "coeff-1": "1.1002410042167976",
          "coeff-2": "1.1696737600027878"
         },
         {
          "coeff-0": "-3.369778893498745",
          "coeff-1": "1.1002410042167976",
          "coeff-2": "1.1696737600027878"
         },
         {
          "coeff-0": "-3.369778893498745",
          "coeff-1": "1.1002410042167976",
          "coeff-2": "1.1696737600027878"
         },
         {
          "coeff-0": "-3.369778893498745",
          "coeff-1": "1.1002410042167976",
          "coeff-2": "1.1696737600027878"
         },
         {
          "coeff-0": "-3.369778893498745",
          "coeff-1": "1.1002410042167976",
          "coeff-2": "1.1696737600027878"
         },
         {
          "coeff-0": "-3.369778893498745",
          "coeff-1": "1.1002410042167976",
          "coeff-2": "1.1696737600027878"
         },
         {
          "coeff-0": "-3.369778893498745",
          "coeff-1": "1.1002410042167976",
          "coeff-2": "1.1696737600027878"
         },
         {
          "coeff-0": "-3.369778893498745",
          "coeff-1": "1.1002410042167976",
          "coeff-2": "1.1696737600027878"
         },
         {
          "coeff-0": "-3.369778893498745",
          "coeff-1": "1.1002410042167976",
          "coeff-2": "1.1696737600027878"
         },
         {
          "coeff-0": "-3.369778893498745",
          "coeff-1": "1.1002410042167976",
          "coeff-2": "1.1696737600027878"
         },
         {
          "coeff-0": "-3.369778893498745",
          "coeff-1": "1.1002410042167976",
          "coeff-2": "1.1696737600027878"
         },
         {
          "coeff-0": "-3.369778893498745",
          "coeff-1": "1.1002410042167976",
          "coeff-2": "1.1696737600027878"
         },
         {
          "coeff-0": "-3.369778893498745",
          "coeff-1": "1.1002410042167976",
          "coeff-2": "1.1696737600027878"
         },
         {
          "coeff-0": "-3.369778893498745",
          "coeff-1": "1.1002410042167976",
          "coeff-2": "1.1696737600027878"
         },
         {
          "coeff-0": "-3.369778893498745",
          "coeff-1": "1.1002410042167976",
          "coeff-2": "1.1696737600027878"
         },
         {
          "coeff-0": "-3.369778893498745",
          "coeff-1": "1.1002410042167976",
          "coeff-2": "1.1696737600027878"
         },
         {
          "coeff-0": "-3.369778893498745",
          "coeff-1": "1.1002410042167976",
          "coeff-2": "1.1696737600027878"
         },
         {
          "coeff-0": "-3.369778893498745",
          "coeff-1": "1.1002410042167976",
          "coeff-2": "1.1696737600027878"
         },
         {
          "coeff-0": "-3.369778893498745",
          "coeff-1": "1.1002410042167976",
          "coeff-2": "1.1696737600027878"
         },
         {
          "coeff-0": "-3.369778893498745",
          "coeff-1": "1.1002410042167976",
          "coeff-2": "1.1696737600027878"
         },
         {
          "coeff-0": "-3.369778893498745",
          "coeff-1": "1.1002410042167976",
          "coeff-2": "1.1696737600027878"
         },
         {
          "coeff-0": "-3.369778893498745",
          "coeff-1": "1.1002410042167976",
          "coeff-2": "1.1696737600027878"
         },
         {
          "coeff-0": "-3.369778893498745",
          "coeff-1": "1.1002410042167976",
          "coeff-2": "1.1696737600027878"
         },
         {
          "coeff-0": "-3.369778893498745",
          "coeff-1": "1.1002410042167976",
          "coeff-2": "1.1696737600027878"
         },
         {
          "coeff-0": "-3.369778893498745",
          "coeff-1": "1.1002410042167976",
          "coeff-2": "1.1696737600027878"
         },
         {
          "coeff-0": "-3.369778893498745",
          "coeff-1": "1.1002410042167976",
          "coeff-2": "1.1696737600027878"
         },
         {
          "coeff-0": "-3.369778893498745",
          "coeff-1": "1.1002410042167976",
          "coeff-2": "1.1696737600027878"
         },
         {
          "coeff-0": "-3.369778893498745",
          "coeff-1": "1.1002410042167976",
          "coeff-2": "1.1696737600027878"
         },
         {
          "coeff-0": "-3.369778893498745",
          "coeff-1": "1.1002410042167976",
          "coeff-2": "1.1696737600027878"
         },
         {
          "coeff-0": "-3.369778893498745",
          "coeff-1": "1.1002410042167976",
          "coeff-2": "1.1696737600027878"
         },
         {
          "coeff-0": "-3.369778893498745",
          "coeff-1": "1.1002410042167976",
          "coeff-2": "1.1696737600027878"
         },
         {
          "coeff-0": "-3.369778893498745",
          "coeff-1": "1.1002410042167976",
          "coeff-2": "1.1696737600027878"
         },
         {
          "coeff-0": "-3.369778893498745",
          "coeff-1": "1.1002410042167976",
          "coeff-2": "1.1696737600027878"
         },
         {
          "coeff-0": "-3.369778893498745",
          "coeff-1": "1.1002410042167976",
          "coeff-2": "1.1696737600027878"
         },
         {
          "coeff-0": "-3.369778893498745",
          "coeff-1": "1.1002410042167976",
          "coeff-2": "1.1696737600027878"
         },
         {
          "coeff-0": "-3.369778893498745",
          "coeff-1": "1.1002410042167976",
          "coeff-2": "1.1696737600027878"
         },
         {
          "coeff-0": "-3.369778893498745",
          "coeff-1": "1.1002410042167976",
          "coeff-2": "1.1696737600027878"
         },
         {
          "coeff-0": "-3.369778893498745",
          "coeff-1": "1.1002410042167976",
          "coeff-2": "1.1696737600027878"
         },
         {
          "coeff-0": "-3.369778893498745",
          "coeff-1": "1.1002410042167976",
          "coeff-2": "1.1696737600027878"
         },
         {
          "coeff-0": "-3.369778893498745",
          "coeff-1": "1.1002410042167976",
          "coeff-2": "1.1696737600027878"
         },
         {
          "coeff-0": "-3.369778893498745",
          "coeff-1": "1.1002410042167976",
          "coeff-2": "1.1696737600027878"
         },
         {
          "coeff-0": "-3.369778893498745",
          "coeff-1": "1.1002410042167976",
          "coeff-2": "1.1696737600027878"
         },
         {
          "coeff-0": "-3.369778893498745",
          "coeff-1": "1.1002410042167976",
          "coeff-2": "1.1696737600027878"
         },
         {
          "coeff-0": "-3.369778893498745",
          "coeff-1": "1.1002410042167976",
          "coeff-2": "1.1696737600027878"
         },
         {
          "coeff-0": "-3.369778893498745",
          "coeff-1": "1.1002410042167976",
          "coeff-2": "1.1696737600027878"
         },
         {
          "coeff-0": "-3.369778893498745",
          "coeff-1": "1.1002410042167976",
          "coeff-2": "1.1696737600027878"
         },
         {
          "coeff-0": "-3.369778893498745",
          "coeff-1": "1.1002410042167976",
          "coeff-2": "1.1696737600027878"
         },
         {
          "coeff-0": "-3.369778893498745",
          "coeff-1": "1.1002410042167976",
          "coeff-2": "1.1696737600027878"
         },
         {
          "coeff-0": "-3.369778893498745",
          "coeff-1": "1.1002410042167976",
          "coeff-2": "1.1696737600027878"
         },
         {
          "coeff-0": "-3.369778893498745",
          "coeff-1": "1.1002410042167976",
          "coeff-2": "1.1696737600027878"
         },
         {
          "coeff-0": "-3.369778893498745",
          "coeff-1": "1.1002410042167976",
          "coeff-2": "1.1696737600027878"
         },
         {
          "coeff-0": "-3.369778893498745",
          "coeff-1": "1.1002410042167976",
          "coeff-2": "1.1696737600027878"
         },
         {
          "coeff-0": "-3.369778893498745",
          "coeff-1": "1.1002410042167976",
          "coeff-2": "1.1696737600027878"
         },
         {
          "coeff-0": "-3.369778893498745",
          "coeff-1": "1.1002410042167976",
          "coeff-2": "1.1696737600027878"
         },
         {
          "coeff-0": "-3.369778893498745",
          "coeff-1": "1.1002410042167976",
          "coeff-2": "1.1696737600027878"
         },
         {
          "coeff-0": "-3.369778893498745",
          "coeff-1": "1.1002410042167976",
          "coeff-2": "1.1696737600027878"
         },
         {
          "coeff-0": "-3.369778893498745",
          "coeff-1": "1.1002410042167976",
          "coeff-2": "1.1696737600027878"
         },
         {
          "coeff-0": "-3.369778893498745",
          "coeff-1": "1.1002410042167976",
          "coeff-2": "1.1696737600027878"
         },
         {
          "coeff-0": "-3.369778893498745",
          "coeff-1": "1.1002410042167976",
          "coeff-2": "1.1696737600027878"
         },
         {
          "coeff-0": "-3.369778893498745",
          "coeff-1": "1.1002410042167976",
          "coeff-2": "1.1696737600027878"
         },
         {
          "coeff-0": "-3.369778893498745",
          "coeff-1": "1.1002410042167976",
          "coeff-2": "1.1696737600027878"
         },
         {
          "coeff-0": "-3.369778893498745",
          "coeff-1": "1.1002410042167976",
          "coeff-2": "1.1696737600027878"
         },
         {
          "coeff-0": "-3.369778893498745",
          "coeff-1": "1.1002410042167976",
          "coeff-2": "1.1696737600027878"
         },
         {
          "coeff-0": "-3.369778893498745",
          "coeff-1": "1.1002410042167976",
          "coeff-2": "1.1696737600027878"
         },
         {
          "coeff-0": "-3.369778893498745",
          "coeff-1": "1.1002410042167976",
          "coeff-2": "1.1696737600027878"
         },
         {
          "coeff-0": "-3.369778893498745",
          "coeff-1": "1.1002410042167976",
          "coeff-2": "1.1696737600027878"
         },
         {
          "coeff-0": "-3.369778893498745",
          "coeff-1": "1.1002410042167976",
          "coeff-2": "1.1696737600027878"
         },
         {
          "coeff-0": "-3.369778893498745",
          "coeff-1": "1.1002410042167976",
          "coeff-2": "1.1696737600027878"
         },
         {
          "coeff-0": "-3.369778893498745",
          "coeff-1": "1.1002410042167976",
          "coeff-2": "1.1696737600027878"
         },
         {
          "coeff-0": "-3.369778893498745",
          "coeff-1": "1.1002410042167976",
          "coeff-2": "1.1696737600027878"
         },
         {
          "coeff-0": "-3.369778893498745",
          "coeff-1": "1.1002410042167976",
          "coeff-2": "1.1696737600027878"
         },
         {
          "coeff-0": "-3.369778893498745",
          "coeff-1": "1.1002410042167976",
          "coeff-2": "1.1696737600027878"
         },
         {
          "coeff-0": "-3.369778893498745",
          "coeff-1": "1.1002410042167976",
          "coeff-2": "1.1696737600027878"
         },
         {
          "coeff-0": "-3.369778893498745",
          "coeff-1": "1.1002410042167976",
          "coeff-2": "1.1696737600027878"
         },
         {
          "coeff-0": "-3.369778893498745",
          "coeff-1": "1.1002410042167976",
          "coeff-2": "1.1696737600027878"
         },
         {
          "coeff-0": "-3.369778893498745",
          "coeff-1": "1.1002410042167976",
          "coeff-2": "1.1696737600027878"
         },
         {
          "coeff-0": "-3.369778893498745",
          "coeff-1": "1.1002410042167976",
          "coeff-2": "1.1696737600027878"
         },
         {
          "coeff-0": "-3.369778893498745",
          "coeff-1": "1.1002410042167976",
          "coeff-2": "1.1696737600027878"
         },
         {
          "coeff-0": "-3.369778893498745",
          "coeff-1": "1.1002410042167976",
          "coeff-2": "1.1696737600027878"
         },
         {
          "coeff-0": "-3.369778893498745",
          "coeff-1": "1.1002410042167976",
          "coeff-2": "1.1696737600027878"
         },
         {
          "coeff-0": "-3.369778893498745",
          "coeff-1": "1.1002410042167976",
          "coeff-2": "1.1696737600027878"
         },
         {
          "coeff-0": "-3.369778893498745",
          "coeff-1": "1.1002410042167976",
          "coeff-2": "1.1696737600027878"
         },
         {
          "coeff-0": "-3.369778893498745",
          "coeff-1": "1.1002410042167976",
          "coeff-2": "1.1696737600027878"
         },
         {
          "coeff-0": "-3.369778893498745",
          "coeff-1": "1.1002410042167976",
          "coeff-2": "1.1696737600027878"
         },
         {
          "coeff-0": "-3.369778893498745",
          "coeff-1": "1.1002410042167976",
          "coeff-2": "1.1696737600027878"
         },
         {
          "coeff-0": "-3.369778893498745",
          "coeff-1": "1.1002410042167976",
          "coeff-2": "1.1696737600027878"
         },
         {
          "coeff-0": "-3.369778893498745",
          "coeff-1": "1.1002410042167976",
          "coeff-2": "1.1696737600027878"
         },
         {
          "coeff-0": "-3.369778893498745",
          "coeff-1": "1.1002410042167976",
          "coeff-2": "1.1696737600027878"
         },
         {
          "coeff-0": "-3.369778893498745",
          "coeff-1": "1.1002410042167976",
          "coeff-2": "1.1696737600027878"
         },
         {
          "coeff-0": "-3.369778893498745",
          "coeff-1": "1.1002410042167976",
          "coeff-2": "1.1696737600027878"
         },
         {
          "coeff-0": "-3.369778893498745",
          "coeff-1": "1.1002410042167976",
          "coeff-2": "1.1696737600027878"
         },
         {
          "coeff-0": "-3.369778893498745",
          "coeff-1": "1.1002410042167976",
          "coeff-2": "1.1696737600027878"
         },
         {
          "coeff-0": "-3.369778893498745",
          "coeff-1": "1.1002410042167976",
          "coeff-2": "1.1696737600027878"
         },
         {
          "coeff-0": "-3.369778893498745",
          "coeff-1": "1.1002410042167976",
          "coeff-2": "1.1696737600027878"
         },
         {
          "coeff-0": "-3.369778893498745",
          "coeff-1": "1.1002410042167976",
          "coeff-2": "1.1696737600027878"
         },
         {
          "coeff-0": "-3.369778893498745",
          "coeff-1": "1.1002410042167976",
          "coeff-2": "1.1696737600027878"
         },
         {
          "coeff-0": "-3.369778893498745",
          "coeff-1": "1.1002410042167976",
          "coeff-2": "1.1696737600027878"
         },
         {
          "coeff-0": "-3.369778893498745",
          "coeff-1": "1.1002410042167976",
          "coeff-2": "1.1696737600027878"
         },
         {
          "coeff-0": "-3.369778893498745",
          "coeff-1": "1.1002410042167976",
          "coeff-2": "1.1696737600027878"
         },
         {
          "coeff-0": "-3.369778893498745",
          "coeff-1": "1.1002410042167976",
          "coeff-2": "1.1696737600027878"
         },
         {
          "coeff-0": "-3.369778893498745",
          "coeff-1": "1.1002410042167976",
          "coeff-2": "1.1696737600027878"
         },
         {
          "coeff-0": "-3.369778893498745",
          "coeff-1": "1.1002410042167976",
          "coeff-2": "1.1696737600027878"
         },
         {
          "coeff-0": "-3.369778893498745",
          "coeff-1": "1.1002410042167976",
          "coeff-2": "1.1696737600027878"
         },
         {
          "coeff-0": "-3.369778893498745",
          "coeff-1": "1.1002410042167976",
          "coeff-2": "1.1696737600027878"
         },
         {
          "coeff-0": "-3.369778893498745",
          "coeff-1": "1.1002410042167976",
          "coeff-2": "1.1696737600027878"
         },
         {
          "coeff-0": "-3.369778893498745",
          "coeff-1": "1.1002410042167976",
          "coeff-2": "1.1696737600027878"
         },
         {
          "coeff-0": "-3.369778893498745",
          "coeff-1": "1.1002410042167976",
          "coeff-2": "1.1696737600027878"
         },
         {
          "coeff-0": "-3.369778893498745",
          "coeff-1": "1.1002410042167976",
          "coeff-2": "1.1696737600027878"
         },
         {
          "coeff-0": "-3.369778893498745",
          "coeff-1": "1.1002410042167976",
          "coeff-2": "1.1696737600027878"
         },
         {
          "coeff-0": "-3.369778893498745",
          "coeff-1": "1.1002410042167976",
          "coeff-2": "1.1696737600027878"
         },
         {
          "coeff-0": "-3.369778893498745",
          "coeff-1": "1.1002410042167976",
          "coeff-2": "1.1696737600027878"
         },
         {
          "coeff-0": "-3.369778893498745",
          "coeff-1": "1.1002410042167976",
          "coeff-2": "1.1696737600027878"
         },
         {
          "coeff-0": "-3.369778893498745",
          "coeff-1": "1.1002410042167976",
          "coeff-2": "1.1696737600027878"
         },
         {
          "coeff-0": "-3.369778893498745",
          "coeff-1": "1.1002410042167976",
          "coeff-2": "1.1696737600027878"
         },
         {
          "coeff-0": "-3.369778893498745",
          "coeff-1": "1.1002410042167976",
          "coeff-2": "1.1696737600027878"
         },
         {
          "coeff-0": "-3.369778893498745",
          "coeff-1": "1.1002410042167976",
          "coeff-2": "1.1696737600027878"
         },
         {
          "coeff-0": "-3.369778893498745",
          "coeff-1": "1.1002410042167976",
          "coeff-2": "1.1696737600027878"
         },
         {
          "coeff-0": "-3.369778893498745",
          "coeff-1": "1.1002410042167976",
          "coeff-2": "1.1696737600027878"
         },
         {
          "coeff-0": "-3.369778893498745",
          "coeff-1": "1.1002410042167976",
          "coeff-2": "1.1696737600027878"
         },
         {
          "coeff-0": "-3.369778893498745",
          "coeff-1": "1.1002410042167976",
          "coeff-2": "1.1696737600027878"
         },
         {
          "coeff-0": "-3.369778893498745",
          "coeff-1": "1.1002410042167976",
          "coeff-2": "1.1696737600027878"
         },
         {
          "coeff-0": "-3.369778893498745",
          "coeff-1": "1.1002410042167976",
          "coeff-2": "1.1696737600027878"
         },
         {
          "coeff-0": "-3.369778893498745",
          "coeff-1": "1.1002410042167976",
          "coeff-2": "1.1696737600027878"
         },
         {
          "coeff-0": "-3.369778893498745",
          "coeff-1": "1.1002410042167976",
          "coeff-2": "1.1696737600027878"
         },
         {
          "coeff-0": "-3.369778893498745",
          "coeff-1": "1.1002410042167976",
          "coeff-2": "1.1696737600027878"
         },
         {
          "coeff-0": "-3.369778893498745",
          "coeff-1": "1.1002410042167976",
          "coeff-2": "1.1696737600027878"
         },
         {
          "coeff-0": "-3.369778893498745",
          "coeff-1": "1.1002410042167976",
          "coeff-2": "1.1696737600027878"
         },
         {
          "coeff-0": "-3.369778893498745",
          "coeff-1": "1.1002410042167976",
          "coeff-2": "1.1696737600027878"
         },
         {
          "coeff-0": "-3.369778893498745",
          "coeff-1": "1.1002410042167976",
          "coeff-2": "1.1696737600027878"
         },
         {
          "coeff-0": "-3.369778893498745",
          "coeff-1": "1.1002410042167976",
          "coeff-2": "1.1696737600027878"
         },
         {
          "coeff-0": "-3.369778893498745",
          "coeff-1": "1.1002410042167976",
          "coeff-2": "1.1696737600027878"
         },
         {
          "coeff-0": "-3.369778893498745",
          "coeff-1": "1.1002410042167976",
          "coeff-2": "1.1696737600027878"
         },
         {
          "coeff-0": "-3.369778893498745",
          "coeff-1": "1.1002410042167976",
          "coeff-2": "1.1696737600027878"
         },
         {
          "coeff-0": "-3.369778893498745",
          "coeff-1": "1.1002410042167976",
          "coeff-2": "1.1696737600027878"
         },
         {
          "coeff-0": "-3.369778893498745",
          "coeff-1": "1.1002410042167976",
          "coeff-2": "1.1696737600027878"
         },
         {
          "coeff-0": "-3.369778893498745",
          "coeff-1": "1.1002410042167976",
          "coeff-2": "1.1696737600027878"
         },
         {
          "coeff-0": "-3.369778893498745",
          "coeff-1": "1.1002410042167976",
          "coeff-2": "1.1696737600027878"
         },
         {
          "coeff-0": "-3.369778893498745",
          "coeff-1": "1.1002410042167976",
          "coeff-2": "1.1696737600027878"
         },
         {
          "coeff-0": "-3.369778893498745",
          "coeff-1": "1.1002410042167976",
          "coeff-2": "1.1696737600027878"
         },
         {
          "coeff-0": "-3.369778893498745",
          "coeff-1": "1.1002410042167976",
          "coeff-2": "1.1696737600027878"
         },
         {
          "coeff-0": "-3.369778893498745",
          "coeff-1": "1.1002410042167976",
          "coeff-2": "1.1696737600027878"
         },
         {
          "coeff-0": "-3.369778893498745",
          "coeff-1": "1.1002410042167976",
          "coeff-2": "1.1696737600027878"
         },
         {
          "coeff-0": "-3.369778893498745",
          "coeff-1": "1.1002410042167976",
          "coeff-2": "1.1696737600027878"
         },
         {
          "coeff-0": "-3.369778893498745",
          "coeff-1": "1.1002410042167976",
          "coeff-2": "1.1696737600027878"
         },
         {
          "coeff-0": "-3.369778893498745",
          "coeff-1": "1.1002410042167976",
          "coeff-2": "1.1696737600027878"
         },
         {
          "coeff-0": "-3.369778893498745",
          "coeff-1": "1.1002410042167976",
          "coeff-2": "1.1696737600027878"
         },
         {
          "coeff-0": "-3.369778893498745",
          "coeff-1": "1.1002410042167976",
          "coeff-2": "1.1696737600027878"
         },
         {
          "coeff-0": "-3.369778893498745",
          "coeff-1": "1.1002410042167976",
          "coeff-2": "1.1696737600027878"
         },
         {
          "coeff-0": "-3.369778893498745",
          "coeff-1": "1.1002410042167976",
          "coeff-2": "1.1696737600027878"
         },
         {
          "coeff-0": "-3.369778893498745",
          "coeff-1": "1.1002410042167976",
          "coeff-2": "1.1696737600027878"
         },
         {
          "coeff-0": "-3.369778893498745",
          "coeff-1": "1.1002410042167976",
          "coeff-2": "1.1696737600027878"
         },
         {
          "coeff-0": "-3.369778893498745",
          "coeff-1": "1.1002410042167976",
          "coeff-2": "1.1696737600027878"
         },
         {
          "coeff-0": "-3.369778893498745",
          "coeff-1": "1.1002410042167976",
          "coeff-2": "1.1696737600027878"
         },
         {
          "coeff-0": "-3.369778893498745",
          "coeff-1": "1.1002410042167976",
          "coeff-2": "1.1696737600027878"
         },
         {
          "coeff-0": "-3.369778893498745",
          "coeff-1": "1.1002410042167976",
          "coeff-2": "1.1696737600027878"
         },
         {
          "coeff-0": "-3.369778893498745",
          "coeff-1": "1.1002410042167976",
          "coeff-2": "1.1696737600027878"
         },
         {
          "coeff-0": "-3.369778893498745",
          "coeff-1": "1.1002410042167976",
          "coeff-2": "1.1696737600027878"
         },
         {
          "coeff-0": "-3.369778893498745",
          "coeff-1": "1.1002410042167976",
          "coeff-2": "1.1696737600027878"
         },
         {
          "coeff-0": "-3.369778893498745",
          "coeff-1": "1.1002410042167976",
          "coeff-2": "1.1696737600027878"
         },
         {
          "coeff-0": "-3.369778893498745",
          "coeff-1": "1.1002410042167976",
          "coeff-2": "1.1696737600027878"
         },
         {
          "coeff-0": "-3.369778893498745",
          "coeff-1": "1.1002410042167976",
          "coeff-2": "1.1696737600027878"
         },
         {
          "coeff-0": "-3.369778893498745",
          "coeff-1": "1.1002410042167976",
          "coeff-2": "1.1696737600027878"
         },
         {
          "coeff-0": "-3.369778893498745",
          "coeff-1": "1.1002410042167976",
          "coeff-2": "1.1696737600027878"
         },
         {
          "coeff-0": "-3.369778893498745",
          "coeff-1": "1.1002410042167976",
          "coeff-2": "1.1696737600027878"
         },
         {
          "coeff-0": "-3.369778893498745",
          "coeff-1": "1.1002410042167976",
          "coeff-2": "1.1696737600027878"
         },
         {
          "coeff-0": "-3.369778893498745",
          "coeff-1": "1.1002410042167976",
          "coeff-2": "1.1696737600027878"
         },
         {
          "coeff-0": "-3.369778893498745",
          "coeff-1": "1.1002410042167976",
          "coeff-2": "1.1696737600027878"
         },
         {
          "coeff-0": "-3.369778893498745",
          "coeff-1": "1.1002410042167976",
          "coeff-2": "1.1696737600027878"
         },
         {
          "coeff-0": "-3.369778893498745",
          "coeff-1": "1.1002410042167976",
          "coeff-2": "1.1696737600027878"
         },
         {
          "coeff-0": "-3.369778893498745",
          "coeff-1": "1.1002410042167976",
          "coeff-2": "1.1696737600027878"
         },
         {
          "coeff-0": "-3.369778893498745",
          "coeff-1": "1.1002410042167976",
          "coeff-2": "1.1696737600027878"
         },
         {
          "coeff-0": "-3.369778893498745",
          "coeff-1": "1.1002410042167976",
          "coeff-2": "1.1696737600027878"
         },
         {
          "coeff-0": "-3.369778893498745",
          "coeff-1": "1.1002410042167976",
          "coeff-2": "1.1696737600027878"
         },
         {
          "coeff-0": "-3.369778893498745",
          "coeff-1": "1.1002410042167976",
          "coeff-2": "1.1696737600027878"
         },
         {
          "coeff-0": "-3.369778893498745",
          "coeff-1": "1.1002410042167976",
          "coeff-2": "1.1696737600027878"
         },
         {
          "coeff-0": "-3.369778893498745",
          "coeff-1": "1.1002410042167976",
          "coeff-2": "1.1696737600027878"
         },
         {
          "coeff-0": "-3.369778893498745",
          "coeff-1": "1.1002410042167976",
          "coeff-2": "1.1696737600027878"
         },
         {
          "coeff-0": "-3.369778893498745",
          "coeff-1": "1.1002410042167976",
          "coeff-2": "1.1696737600027878"
         },
         {
          "coeff-0": "-3.369778893498745",
          "coeff-1": "1.1002410042167976",
          "coeff-2": "1.1696737600027878"
         },
         {
          "coeff-0": "-3.369778893498745",
          "coeff-1": "1.1002410042167976",
          "coeff-2": "1.1696737600027878"
         },
         {
          "coeff-0": "-3.369778893498745",
          "coeff-1": "1.1002410042167976",
          "coeff-2": "1.1696737600027878"
         },
         {
          "coeff-0": "-3.369778893498745",
          "coeff-1": "1.1002410042167976",
          "coeff-2": "1.1696737600027878"
         },
         {
          "coeff-0": "-3.369778893498745",
          "coeff-1": "1.1002410042167976",
          "coeff-2": "1.1696737600027878"
         },
         {
          "coeff-0": "-3.369778893498745",
          "coeff-1": "1.1002410042167976",
          "coeff-2": "1.1696737600027878"
         },
         {
          "coeff-0": "-3.369778893498745",
          "coeff-1": "1.1002410042167976",
          "coeff-2": "1.1696737600027878"
         },
         {
          "coeff-0": "-3.369778893498745",
          "coeff-1": "1.1002410042167976",
          "coeff-2": "1.1696737600027878"
         },
         {
          "coeff-0": "-3.369778893498745",
          "coeff-1": "1.1002410042167976",
          "coeff-2": "1.1696737600027878"
         },
         {
          "coeff-0": "-3.369778893498745",
          "coeff-1": "1.1002410042167976",
          "coeff-2": "1.1696737600027878"
         },
         {
          "coeff-0": "-3.369778893498745",
          "coeff-1": "1.1002410042167976",
          "coeff-2": "1.1696737600027878"
         },
         {
          "coeff-0": "-3.369778893498745",
          "coeff-1": "1.1002410042167976",
          "coeff-2": "1.1696737600027878"
         },
         {
          "coeff-0": "-3.369778893498745",
          "coeff-1": "1.1002410042167976",
          "coeff-2": "1.1696737600027878"
         },
         {
          "coeff-0": "-3.369778893498745",
          "coeff-1": "1.1002410042167976",
          "coeff-2": "1.1696737600027878"
         },
         {
          "coeff-0": "-3.369778893498745",
          "coeff-1": "1.1002410042167976",
          "coeff-2": "1.1696737600027878"
         },
         {
          "coeff-0": "-3.369778893498745",
          "coeff-1": "1.1002410042167976",
          "coeff-2": "1.1696737600027878"
         },
         {
          "coeff-0": "-3.369778893498745",
          "coeff-1": "1.1002410042167976",
          "coeff-2": "1.1696737600027878"
         },
         {
          "coeff-0": "-3.369778893498745",
          "coeff-1": "1.1002410042167976",
          "coeff-2": "1.1696737600027878"
         },
         {
          "coeff-0": "-3.369778893498745",
          "coeff-1": "1.1002410042167976",
          "coeff-2": "1.1696737600027878"
         },
         {
          "coeff-0": "-3.369778893498745",
          "coeff-1": "1.1002410042167976",
          "coeff-2": "1.1696737600027878"
         },
         {
          "coeff-0": "-3.369778893498745",
          "coeff-1": "1.1002410042167976",
          "coeff-2": "1.1696737600027878"
         },
         {
          "coeff-0": "-3.369778893498745",
          "coeff-1": "1.1002410042167976",
          "coeff-2": "1.1696737600027878"
         },
         {
          "coeff-0": "-3.369778893498745",
          "coeff-1": "1.1002410042167976",
          "coeff-2": "1.1696737600027878"
         },
         {
          "coeff-0": "-3.369778893498745",
          "coeff-1": "1.1002410042167976",
          "coeff-2": "1.1696737600027878"
         },
         {
          "coeff-0": "-3.369778893498745",
          "coeff-1": "1.1002410042167976",
          "coeff-2": "1.1696737600027878"
         },
         {
          "coeff-0": "-3.369778893498745",
          "coeff-1": "1.1002410042167976",
          "coeff-2": "1.1696737600027878"
         },
         {
          "coeff-0": "-3.369778893498745",
          "coeff-1": "1.1002410042167976",
          "coeff-2": "1.1696737600027878"
         },
         {
          "coeff-0": "-3.369778893498745",
          "coeff-1": "1.1002410042167976",
          "coeff-2": "1.1696737600027878"
         },
         {
          "coeff-0": "-3.369778893498745",
          "coeff-1": "1.1002410042167976",
          "coeff-2": "1.1696737600027878"
         },
         {
          "coeff-0": "-3.369778893498745",
          "coeff-1": "1.1002410042167976",
          "coeff-2": "1.1696737600027878"
         },
         {
          "coeff-0": "-3.369778893498745",
          "coeff-1": "1.1002410042167976",
          "coeff-2": "1.1696737600027878"
         },
         {
          "coeff-0": "-3.369778893498745",
          "coeff-1": "1.1002410042167976",
          "coeff-2": "1.1696737600027878"
         },
         {
          "coeff-0": "-3.369778893498745",
          "coeff-1": "1.1002410042167976",
          "coeff-2": "1.1696737600027878"
         },
         {
          "coeff-0": "-3.369778893498745",
          "coeff-1": "1.1002410042167976",
          "coeff-2": "1.1696737600027878"
         },
         {
          "coeff-0": "-3.369778893498745",
          "coeff-1": "1.1002410042167976",
          "coeff-2": "1.1696737600027878"
         },
         {
          "coeff-0": "-3.369778893498745",
          "coeff-1": "1.1002410042167976",
          "coeff-2": "1.1696737600027878"
         },
         {
          "coeff-0": "-3.369778893498745",
          "coeff-1": "1.1002410042167976",
          "coeff-2": "1.1696737600027878"
         },
         {
          "coeff-0": "-3.369778893498745",
          "coeff-1": "1.1002410042167976",
          "coeff-2": "1.1696737600027878"
         },
         {
          "coeff-0": "-3.369778893498745",
          "coeff-1": "1.1002410042167976",
          "coeff-2": "1.1696737600027878"
         },
         {
          "coeff-0": "-3.369778893498745",
          "coeff-1": "1.1002410042167976",
          "coeff-2": "1.1696737600027878"
         },
         {
          "coeff-0": "-3.369778893498745",
          "coeff-1": "1.1002410042167976",
          "coeff-2": "1.1696737600027878"
         },
         {
          "coeff-0": "-3.369778893498745",
          "coeff-1": "1.1002410042167976",
          "coeff-2": "1.1696737600027878"
         },
         {
          "coeff-0": "-3.369778893498745",
          "coeff-1": "1.1002410042167976",
          "coeff-2": "1.1696737600027878"
         },
         {
          "coeff-0": "-3.369778893498745",
          "coeff-1": "1.1002410042167976",
          "coeff-2": "1.1696737600027878"
         },
         {
          "coeff-0": "-3.369778893498745",
          "coeff-1": "1.1002410042167976",
          "coeff-2": "1.1696737600027878"
         },
         {
          "coeff-0": "-3.369778893498745",
          "coeff-1": "1.1002410042167976",
          "coeff-2": "1.1696737600027878"
         },
         {
          "coeff-0": "-3.369778893498745",
          "coeff-1": "1.1002410042167976",
          "coeff-2": "1.1696737600027878"
         },
         {
          "coeff-0": "-3.369778893498745",
          "coeff-1": "1.1002410042167976",
          "coeff-2": "1.1696737600027878"
         },
         {
          "coeff-0": "-3.369778893498745",
          "coeff-1": "1.1002410042167976",
          "coeff-2": "1.1696737600027878"
         },
         {
          "coeff-0": "-3.369778893498745",
          "coeff-1": "1.1002410042167976",
          "coeff-2": "1.1696737600027878"
         },
         {
          "coeff-0": "-3.369778893498745",
          "coeff-1": "1.1002410042167976",
          "coeff-2": "1.1696737600027878"
         },
         {
          "coeff-0": "-3.369778893498745",
          "coeff-1": "1.1002410042167976",
          "coeff-2": "1.1696737600027878"
         },
         {
          "coeff-0": "-3.369778893498745",
          "coeff-1": "1.1002410042167976",
          "coeff-2": "1.1696737600027878"
         },
         {
          "coeff-0": "-3.369778893498745",
          "coeff-1": "1.1002410042167976",
          "coeff-2": "1.1696737600027878"
         },
         {
          "coeff-0": "-3.369778893498745",
          "coeff-1": "1.1002410042167976",
          "coeff-2": "1.1696737600027878"
         },
         {
          "coeff-0": "-3.369778893498745",
          "coeff-1": "1.1002410042167976",
          "coeff-2": "1.1696737600027878"
         },
         {
          "coeff-0": "-3.369778893498745",
          "coeff-1": "1.1002410042167976",
          "coeff-2": "1.1696737600027878"
         },
         {
          "coeff-0": "-3.369778893498745",
          "coeff-1": "1.1002410042167976",
          "coeff-2": "1.1696737600027878"
         },
         {
          "coeff-0": "-3.369778893498745",
          "coeff-1": "1.1002410042167976",
          "coeff-2": "1.1696737600027878"
         },
         {
          "coeff-0": "-3.369778893498745",
          "coeff-1": "1.1002410042167976",
          "coeff-2": "1.1696737600027878"
         },
         {
          "coeff-0": "-3.369778893498745",
          "coeff-1": "1.1002410042167976",
          "coeff-2": "1.1696737600027878"
         },
         {
          "coeff-0": "-3.369778893498745",
          "coeff-1": "1.1002410042167976",
          "coeff-2": "1.1696737600027878"
         },
         {
          "coeff-0": "-3.369778893498745",
          "coeff-1": "1.1002410042167976",
          "coeff-2": "1.1696737600027878"
         },
         {
          "coeff-0": "-3.369778893498745",
          "coeff-1": "1.1002410042167976",
          "coeff-2": "1.1696737600027878"
         },
         {
          "coeff-0": "-3.369778893498745",
          "coeff-1": "1.1002410042167976",
          "coeff-2": "1.1696737600027878"
         },
         {
          "coeff-0": "-3.369778893498745",
          "coeff-1": "1.1002410042167976",
          "coeff-2": "1.1696737600027878"
         },
         {
          "coeff-0": "-3.369778893498745",
          "coeff-1": "1.1002410042167976",
          "coeff-2": "1.1696737600027878"
         },
         {
          "coeff-0": "-3.369778893498745",
          "coeff-1": "1.1002410042167976",
          "coeff-2": "1.1696737600027878"
         },
         {
          "coeff-0": "-3.369778893498745",
          "coeff-1": "1.1002410042167976",
          "coeff-2": "1.1696737600027878"
         },
         {
          "coeff-0": "-3.369778893498745",
          "coeff-1": "1.1002410042167976",
          "coeff-2": "1.1696737600027878"
         },
         {
          "coeff-0": "-3.369778893498745",
          "coeff-1": "1.1002410042167976",
          "coeff-2": "1.1696737600027878"
         },
         {
          "coeff-0": "-3.369778893498745",
          "coeff-1": "1.1002410042167976",
          "coeff-2": "1.1696737600027878"
         },
         {
          "coeff-0": "-3.369778893498745",
          "coeff-1": "1.1002410042167976",
          "coeff-2": "1.1696737600027878"
         },
         {
          "coeff-0": "-3.369778893498745",
          "coeff-1": "1.1002410042167976",
          "coeff-2": "1.1696737600027878"
         },
         {
          "coeff-0": "-3.369778893498745",
          "coeff-1": "1.1002410042167976",
          "coeff-2": "1.1696737600027878"
         },
         {
          "coeff-0": "-3.369778893498745",
          "coeff-1": "1.1002410042167976",
          "coeff-2": "1.1696737600027878"
         },
         {
          "coeff-0": "-3.369778893498745",
          "coeff-1": "1.1002410042167976",
          "coeff-2": "1.1696737600027878"
         },
         {
          "coeff-0": "-3.369778893498745",
          "coeff-1": "1.1002410042167976",
          "coeff-2": "1.1696737600027878"
         },
         {
          "coeff-0": "-3.369778893498745",
          "coeff-1": "1.1002410042167976",
          "coeff-2": "1.1696737600027878"
         },
         {
          "coeff-0": "-3.369778893498745",
          "coeff-1": "1.1002410042167976",
          "coeff-2": "1.1696737600027878"
         }
        ]
       },
       "description": ".",
       "height": 600,
       "title": "",
       "vconcat": [
        {
         "hconcat": [
          {
           "encoding": {
            "x": {
             "bin": true,
             "field": "coeff-0",
             "type": "quantitative"
            },
            "y": {
             "aggregate": "count",
             "field": "coeff-0",
             "type": "quantitative"
            }
           },
           "mark": "bar"
          },
          {
           "encoding": {
            "x": {
             "field": "coeff-0",
             "scale": {
              "zero": false
             },
             "type": "quantitative"
            },
            "y": {
             "field": "coeff-1",
             "scale": {
              "zero": false
             },
             "type": "quantitative"
            }
           },
           "mark": "circle"
          },
          {
           "encoding": {
            "x": {
             "field": "coeff-0",
             "scale": {
              "zero": false
             },
             "type": "quantitative"
            },
            "y": {
             "field": "coeff-2",
             "scale": {
              "zero": false
             },
             "type": "quantitative"
            }
           },
           "mark": "circle"
          }
         ]
        },
        {
         "hconcat": [
          {
           "encoding": {
            "x": {
             "field": "coeff-1",
             "scale": {
              "zero": false
             },
             "type": "quantitative"
            },
            "y": {
             "field": "coeff-0",
             "scale": {
              "zero": false
             },
             "type": "quantitative"
            }
           },
           "mark": "circle"
          },
          {
           "encoding": {
            "x": {
             "bin": true,
             "field": "coeff-1",
             "type": "quantitative"
            },
            "y": {
             "aggregate": "count",
             "field": "coeff-1",
             "type": "quantitative"
            }
           },
           "mark": "bar"
          },
          {
           "encoding": {
            "x": {
             "field": "coeff-1",
             "scale": {
              "zero": false
             },
             "type": "quantitative"
            },
            "y": {
             "field": "coeff-2",
             "scale": {
              "zero": false
             },
             "type": "quantitative"
            }
           },
           "mark": "circle"
          }
         ]
        },
        {
         "hconcat": [
          {
           "encoding": {
            "x": {
             "field": "coeff-2",
             "scale": {
              "zero": false
             },
             "type": "quantitative"
            },
            "y": {
             "field": "coeff-0",
             "scale": {
              "zero": false
             },
             "type": "quantitative"
            }
           },
           "mark": "circle"
          },
          {
           "encoding": {
            "x": {
             "field": "coeff-2",
             "scale": {
              "zero": false
             },
             "type": "quantitative"
            },
            "y": {
             "field": "coeff-1",
             "scale": {
              "zero": false
             },
             "type": "quantitative"
            }
           },
           "mark": "circle"
          },
          {
           "encoding": {
            "x": {
             "bin": true,
             "field": "coeff-2",
             "type": "quantitative"
            },
            "y": {
             "aggregate": "count",
             "field": "coeff-2",
             "type": "quantitative"
            }
           },
           "mark": "bar"
          }
         ]
        }
       ],
       "width": 600
      },
      "image/png": "[encoded data removed]"
     },
     "metadata": {},
     "output_type": "display_data"
    }
   ],
   "source": [
    "val df = DataFrame(Seq(\n",
    "    DataFrame.Column.ofContinuous(samples.map(s => s.parameters.shapeParameters.coefficients(0)), \"coeff-0\"), \n",
    "    DataFrame.Column.ofContinuous(samples.map(s => s.parameters.shapeParameters.coefficients(1)), \"coeff-1\"), \n",
    "    DataFrame.Column.ofContinuous(samples.map(s => s.parameters.shapeParameters.coefficients(2)), \"coeff-2\"), \n",
    "    )\n",
    ")\n",
    "\n",
    "df.plot.pairPlot(Seq(\"coeff-0\", \"coeff-1\", \"coeff-2\"), title = \"Pairs\").show()"
   ]
  },
  {
   "cell_type": "markdown",
   "id": "69bb43b7-142e-4f08-8851-7dccda036f46",
   "metadata": {},
   "source": [
    "#### Exercises\n",
    "\n",
    "* Make more complicated pose changes. Does it still work?\n",
    "* How do the priors affect the result?\n",
    "* Print the acceptance ratios for your proposals. Which work, which don't? How con you tune them?\n",
    "* Try to fit the contour drawn in the image `spine-contour-handdrawn`, which you find in the folder `images`. You can load the image and extract the contour with the code below. \n",
    "* Draw your own contour using an arbitrary drawing problen on an x-ray of the L1 vertebra you find on the internet. Make sure you draw the contour in Black. You can extract"
   ]
  },
  {
   "cell_type": "markdown",
   "id": "8b145ec7-8b39-4f45-a37b-b5ae330b1e6f",
   "metadata": {},
   "source": [
    "### Useful snippets"
   ]
  },
  {
   "cell_type": "code",
   "execution_count": 363,
   "id": "09446c51-f13e-4a91-bb2a-0949f17ab7df",
   "metadata": {},
   "outputs": [
    {
     "ename": "",
     "evalue": "",
     "output_type": "error",
     "traceback": [
      "\u001b[31mjavax.imageio.IIOException: Can't read input file!\u001b[39m\n  javax.imageio.ImageIO.read(\u001b[32mImageIO.java\u001b[39m:\u001b[32m1308\u001b[39m)\n  ammonite.$sess.cmd362$Helper.<init>(\u001b[32mcmd362.sc\u001b[39m:\u001b[32m15\u001b[39m)\n  ammonite.$sess.cmd362$.<clinit>(\u001b[32mcmd362.sc\u001b[39m:\u001b[32m64486\u001b[39m)"
     ]
    }
   ],
   "source": [
    "import scalismo.renderer.PixelImage\n",
    "import scalismo.mesh.{LineMesh2D, LineList}\n",
    "import scalismo.common.UnstructuredPoints2D\n",
    "\n",
    "// extracts a contour from an rgb image\n",
    "def extractContour(rgbImage : PixelImage[RGB]) : LineMesh[_2D] = \n",
    "    val image = rgbImage.map(rgb => if rgb.r > 0.99 && rgb.b > 0.99 && rgb.g > 0.99 then 1 else 0)\n",
    "        \n",
    "    val points = for (\n",
    "        x <- 0 until image.domain.width; \n",
    "        y <- 0 until image.domain.height\n",
    "        if (image(x,y) == 1)) yield Point2D(x, y)\n",
    "    LineMesh2D(UnstructuredPoints2D(points), LineList.empty)\n",
    "\n",
    "val bufferedImage = javax.imageio.ImageIO.read(new java.io.File(\"./data/spine-contour-handdrawn.png\"))\n",
    "val image  = PixelImage.fromBufferedImage(bufferedImage)\n",
    "val targetContour = extractContour(image)"
   ]
  },
  {
   "cell_type": "code",
   "execution_count": null,
   "id": "bab041ac-864f-468e-9293-cfddf20330ca",
   "metadata": {},
   "outputs": [],
   "source": []
  }
 ],
 "metadata": {
  "kernelspec": {
   "display_name": "Scala",
   "language": "scala",
   "name": "scala"
  },
  "language_info": {
   "codemirror_mode": "text/x-scala",
   "file_extension": ".sc",
   "mimetype": "text/x-scala",
   "name": "scala",
   "nbconvert_exporter": "script",
   "version": "2.13.8"
  }
 },
 "nbformat": 4,
 "nbformat_minor": 5
}
