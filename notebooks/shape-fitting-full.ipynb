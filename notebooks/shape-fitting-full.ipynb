{
 "cells": [
  {
   "cell_type": "markdown",
   "id": "da849a4f-0493-4c4f-baa9-be4a8e69e87e",
   "metadata": {},
   "source": [
    "# Fitting shape models - including pose\n",
    "\n",
    "#### Marcel Lüthi, Departement of Mathematics and Computer Science, University of Basel \n",
    "\n",
    "This notebook serves as a template for a more complete fitting project that does a 3D from 2D reconstruction of the vertebra, where the pose is not known. The code in this notebook is structurally correct, but the priors, evaluators and proposals are not tuned and the reconstruction as such are therefore not going to work. Your task is to make it work. "
   ]
  },
  {
   "cell_type": "markdown",
   "id": "4325f6c3-c9d9-40dc-9ac0-1f6bcdb379c8",
   "metadata": {},
   "source": [
    "### Setup\n",
    "\n",
    "We begin as usual with importing all the necessary libraries. "
   ]
  },
  {
   "cell_type": "code",
   "execution_count": 1,
   "id": "118fc52e-ead0-4941-9559-953c05f35b95",
   "metadata": {},
   "outputs": [
    {
     "data": {
      "text/plain": [
       "\u001b[36mapi\u001b[39m: \u001b[32mJupyterApi\u001b[39m = almond.JupyterApiImpl@78363fd2"
      ]
     },
     "execution_count": 1,
     "metadata": {},
     "output_type": "execute_result"
    }
   ],
   "source": [
    "// Suppressing excessive output for the jupyter-notebook\n",
    "val api = implicitly[almond.api.JupyterApi]\n",
    "api.silent(true)"
   ]
  },
  {
   "cell_type": "code",
   "execution_count": 2,
   "id": "1a6c8486-c1af-408e-b818-7285a6a3e7e0",
   "metadata": {},
   "outputs": [],
   "source": [
    "// add repositories from which libraries are loaded. \n",
    "import coursierapi.{Credentials, MavenRepository}\n",
    "interp.repositories() ++= Seq(\n",
    "  MavenRepository.of(\"https://oss.sonatype.org/content/repositories/snapshots\")\n",
    ")"
   ]
  },
  {
   "cell_type": "code",
   "execution_count": 3,
   "id": "12cd74f6-3c9a-4f93-bcd0-65d715d2a8d4",
   "metadata": {},
   "outputs": [],
   "source": [
    "// downloading the libraries\n",
    "import $ivy.`ch.unibas.cs.gravis::scalismo-plot:0.1-SNAPSHOT`\n",
    "import $ivy.`ch.unibas.cs.gravis::scalismo-renderer:0.1-SNAPSHOT`\n",
    "import $ivy.`org.scalanlp::breeze:2.1.0`\n",
    "import $ivy.`org.scalanlp::breeze-natives:2.1.0`"
   ]
  },
  {
   "cell_type": "code",
   "execution_count": 4,
   "id": "92e0b6f0-c950-497c-b692-25044847d0eb",
   "metadata": {},
   "outputs": [],
   "source": [
    "// imports\n",
    "\n",
    "// scalismo imports\n",
    "import scalismo.io.StatisticalModelIO\n",
    "import scalismo.io.LandmarkIO\n",
    "import scalismo.geometry.*\n",
    "import scalismo.common.*\n",
    "import scalismo.statisticalmodel.*\n",
    "import scalismo.mesh.{TriangleMesh, LineMesh}\n",
    "import scalismo.transformations.*\n",
    "\n",
    "// sampling framework\n",
    "import scalismo.sampling._\n",
    "import scalismo.sampling.proposals._\n",
    "import scalismo.sampling.parameters._\n",
    "import scalismo.sampling.evaluators._\n",
    "import scalismo.sampling.loggers.MHSampleLogger\n",
    "import scalismo.sampling.algorithms.MetropolisHastings\n",
    "\n",
    "\n",
    "// rendering\n",
    "import scalismo.renderer.{ContourRenderer, Renderer, show, PixelImage, Contour}\n",
    "import scalismo.color.RGB\n",
    "\n",
    "// plotting\n",
    "import scalismo.plot.data.DataFrame\n",
    "import scalismo.plot.plottarget.PlotTarget.plotTargetJupyter\n",
    "\n",
    "// linear algebra and statistics\n",
    "import breeze.linalg.DenseVector\n",
    "import breeze.linalg.DenseMatrix\n",
    "import breeze.stats.distributions.{Gaussian, MultivariateGaussian}\n",
    "import breeze.stats.distributions.Rand.FixedSeed.randBasis\n",
    "\n",
    "// java helpers\n",
    "import java.io.File"
   ]
  },
  {
   "cell_type": "code",
   "execution_count": 5,
   "id": "57231a01-2782-4d23-a4c1-fa9a9effe119",
   "metadata": {},
   "outputs": [],
   "source": [
    "given rng: scalismo.utils.Random = scalismo.utils.Random(42)"
   ]
  },
  {
   "cell_type": "markdown",
   "id": "427fda8f-610f-4f86-bbac-78e6b10ba0eb",
   "metadata": {},
   "source": [
    "### Generating simulated data"
   ]
  },
  {
   "cell_type": "markdown",
   "id": "28a8dec0-f5f1-4021-b63e-721c6e843d92",
   "metadata": {},
   "source": [
    "The following function generates a contour for the given parameters. Note that it is possible to add a pose transformation. "
   ]
  },
  {
   "cell_type": "code",
   "execution_count": 6,
   "id": "740c6295-59ff-4e12-99b4-e69ac0c07986",
   "metadata": {},
   "outputs": [],
   "source": [
    "def generate(vertebraModel : PointDistributionModel[_3D, TriangleMesh], \n",
    "             poseTransform : RigidTransformation[_3D], \n",
    "             shapeCoefficients : DenseVector[Double], \n",
    "             sensorDistance : Int, \n",
    "             sourceLocation : Point[_3D], \n",
    "             noiseSigma : Double) : LineMesh[_2D] = \n",
    "    \n",
    "    // sample from the prior    \n",
    "    val sample = vertebraModel.instance(shapeCoefficients).transform(poseTransform)\n",
    "\n",
    "    // project the sampled shape to get the contour\n",
    "    val sampledContour = ContourRenderer.projectMeshContours(sample, sensorDistance, sourceLocation)\n",
    "    \n",
    "    if noiseSigma > 1e-5 then     \n",
    "        // add Gaussian noise to each point  \n",
    "        val noiseTransform = Transformation2D( (point : Point[_2D]) => \n",
    "            val pointVec = DenseVector(point.x, point.y)\n",
    "            val noisyPoint = MultivariateGaussian(pointVec, DenseMatrix.eye[Double](2)* noiseSigma).draw()\n",
    "\n",
    "            Point2D(noisyPoint(0), noisyPoint(1))\n",
    "        )                 \n",
    "        sampledContour.transform(noiseTransform)\n",
    "    else sampledContour"
   ]
  },
  {
   "cell_type": "markdown",
   "id": "f519ed2c-81b1-4429-8495-2880138910a1",
   "metadata": {},
   "source": [
    "Generate a target contour to be fitted. By adjusting the pose parameters, you can make the problem more or less difficult. "
   ]
  },
  {
   "cell_type": "code",
   "execution_count": 7,
   "id": "899a4806-ee4c-4cb5-9529-fc8ec11362d7",
   "metadata": {},
   "outputs": [],
   "source": [
    "val vertebraModel = StatisticalModelIO.readStatisticalTriangleMeshModel3D(File(\"./data/vertebra-model.h5\")).get\n",
    "val rot = Rotation3D(0.1, 0.0, 0.0, Point3D(0, 0, 0))\n",
    "val translation = Translation3D(EuclideanVector3D(10, 5, 3))\n",
    "val poseTransform = TranslationAfterRotation3D(translation, rot)\n",
    "\n",
    "val coeffs = DenseVector.zeros[Double](vertebraModel.rank)\n",
    "coeffs(0) = -3\n",
    "coeffs(1) = 1.0\n",
    "coeffs(2) = 1.5\n",
    "val sensorDistance = 400\n",
    "val sourceLocation = Point3D(0, 0, 100)\n",
    "val noiseSigma : Double = 1\n",
    "\n",
    "val targetContour = generate(vertebraModel, poseTransform, coeffs, sensorDistance, sourceLocation, noiseSigma)"
   ]
  },
  {
   "cell_type": "markdown",
   "id": "0bb54e2f-59a8-445b-abd5-9581c0b1143e",
   "metadata": {},
   "source": [
    "It looks as follows:"
   ]
  },
  {
   "cell_type": "code",
   "execution_count": 8,
   "id": "8a9db155-8184-401c-9c70-3894e451eaa7",
   "metadata": {},
   "outputs": [
    {
     "data": {
      "image/png": "[encoded data removed]"
     },
     "metadata": {},
     "output_type": "display_data"
    }
   ],
   "source": [
    "ContourRenderer.renderMeshContour(targetContour, 1000, 1000).show()"
   ]
  },
  {
   "cell_type": "markdown",
   "id": "ac2764ba-f855-47bd-b269-bd4a94b77196",
   "metadata": {},
   "source": [
    "### Setting up the markov chain\n",
    "\n",
    "We can now set up the Markov-Chain to sample from the posterior, exactly as we did it for the regression example:"
   ]
  },
  {
   "cell_type": "markdown",
   "id": "0a7e2f9b-a428-4ad9-a02f-c62ed073a25f",
   "metadata": {},
   "source": [
    "### Parameter vector"
   ]
  },
  {
   "cell_type": "markdown",
   "id": "c5f1fe47-fd12-4d06-adf2-71864c83936a",
   "metadata": {},
   "source": [
    "In contrast to the previous notebook, we use not only the class `ShapeParameter`  to represent our parameters, but also pose parameters. The combo is already defined in Scalismo and is called `PoseAndShapeParameters`. The code below should make it clear how it it used. "
   ]
  },
  {
   "cell_type": "markdown",
   "id": "8451cdd9-c23a-4658-b6e4-fe312fc5e446",
   "metadata": {},
   "source": [
    "#### Evaluators"
   ]
  },
  {
   "cell_type": "markdown",
   "id": "1318820a-2c1c-446a-809a-0ce790856afa",
   "metadata": {},
   "source": [
    "We start by defining the priors for shape, translation and rotation"
   ]
  },
  {
   "cell_type": "code",
   "execution_count": 9,
   "id": "f7810653-93ea-4101-8f0f-355b4b3dce9f",
   "metadata": {},
   "outputs": [],
   "source": [
    "// Prior over the shape parameters.  \n",
    "case class ShapePriorEvaluator(model: PointDistributionModel[_3D, TriangleMesh])\n",
    "      extends MHDistributionEvaluator[PoseAndShapeParameters] {\n",
    "          \n",
    "    val shapeParameterPrior = MultivariateGaussian(DenseVector.zeros[Double](model.rank), DenseMatrix.eye[Double](model.rank))\n",
    "\n",
    "    override def logValue(sample: MHSample[PoseAndShapeParameters]): Double = {\n",
    "        shapeParameterPrior.logPdf(sample.parameters.shapeParameters.coefficients) \n",
    "    }\n",
    "  }\n",
    "\n"
   ]
  },
  {
   "cell_type": "code",
   "execution_count": 10,
   "id": "568b6a73-6a79-4a09-bee1-4e8682e3ee63",
   "metadata": {},
   "outputs": [],
   "source": [
    "// Prior over the shape parameters.  \n",
    "object TranslationPriorEvaluator  extends MHDistributionEvaluator[PoseAndShapeParameters] {\n",
    "          \n",
    "    val translationPriorParameterPrior = MultivariateGaussian(DenseVector.zeros[Double](3), DenseMatrix.eye[Double](3) * 3000.0)\n",
    "\n",
    "    override def logValue(sample: MHSample[PoseAndShapeParameters]): Double = {\n",
    "        translationPriorParameterPrior.logPdf(sample.parameters.translationParameters.translationVector.toBreezeVector) \n",
    "    }\n",
    "  }"
   ]
  },
  {
   "cell_type": "code",
   "execution_count": 11,
   "id": "5cf95939-40fd-4a66-bc03-582c72cb3c99",
   "metadata": {},
   "outputs": [],
   "source": [
    "// Prior over the shape parameters.  \n",
    "object RotationPriorEvaluator extends MHDistributionEvaluator[PoseAndShapeParameters] {\n",
    "          \n",
    "    val rotationPhiPrior = breeze.stats.distributions.Uniform(-2 * 3.141, 2 * 3.141)\n",
    "    val rotationPsiPrior = breeze.stats.distributions.Uniform(-2 * 3.141, 2 * 3.141)\n",
    "    val rotationThetaPrior = breeze.stats.distributions.Uniform(-2 * 3.141, 2 * 3.141)\n",
    "    \n",
    "\n",
    "    override def logValue(sample: MHSample[PoseAndShapeParameters]): Double = {\n",
    "        val (phi, psi, theta) = sample.parameters.rotationParameters.angles\n",
    "        rotationPhiPrior.logPdf(phi) + rotationPsiPrior.logPdf(psi) + rotationThetaPrior.logPdf(theta) \n",
    "    }\n",
    "  }"
   ]
  },
  {
   "cell_type": "markdown",
   "id": "49be134e-a876-4e2d-855d-6ae936977645",
   "metadata": {},
   "source": [
    "The contour evaluator is similar to the one in the previous notebook. There are two important differences:\n",
    "\n",
    "- It applies a rigid transformation to the shape before generating the contour\n",
    "- The distance between the genrated contour and the target contour is computed from the target contour. This makes it possible to work with target contours that are only partially given. "
   ]
  },
  {
   "cell_type": "code",
   "execution_count": 12,
   "id": "3453d353-695d-4a6e-b774-d26ad055a820",
   "metadata": {},
   "outputs": [],
   "source": [
    "// Likelihood\n",
    "case class ContourEvaluator(\n",
    "        model: PointDistributionModel[_3D, TriangleMesh],\n",
    "        targetContour: LineMesh[_2D], \n",
    "        sensorDistance : Int, \n",
    "        sourceLocation : Point[_3D], \n",
    "        noiseSigma : Double\n",
    "    ) extends MHDistributionEvaluator[PoseAndShapeParameters]:\n",
    "\n",
    "    def pointToBreezeVector(p : Point[_2D]) : DenseVector[Double] = \n",
    "        DenseVector[Double](p.x, p.y)\n",
    "    \n",
    "\n",
    "    override def logValue(sample: MHSample[PoseAndShapeParameters]): Double = \n",
    "        val poseTransformation = ContourEvaluator.transformFromPoseParameters(sample.parameters.rotationParameters, Point3D(0, 0, 0), sample.parameters.translationParameters)\n",
    "        val modelInstance = model.instance(sample.parameters.shapeParameters.coefficients).transform(poseTransformation)\n",
    "        val sampledContour = ContourRenderer.projectMeshContours(modelInstance, sensorDistance, sourceLocation)                \n",
    "    \n",
    "\n",
    "        val likelihoods = for contourPoint <- targetContour.pointSet.points yield            \n",
    "            val likelihoodDist = MultivariateGaussian(pointToBreezeVector(contourPoint), DenseMatrix.eye[Double](2) * noiseSigma)            \n",
    "            val closestSamplePoint = sampledContour.pointSet.findClosestPoint(contourPoint).point            \n",
    "            likelihoodDist.logPdf(pointToBreezeVector(closestSamplePoint))\n",
    "        likelihoods.sum    \n",
    "\n",
    "object ContourEvaluator:\n",
    "    // defines a rigid transformation for the given pose parameters. \n",
    "    def transformFromPoseParameters(rotationParameters : RotationParameters, rotationCenter : Point[_3D], translationParameters : TranslationParameters) : RigidTransformation[_3D] = \n",
    "\n",
    "        val (phi, psi, theta) = rotationParameters.angles\n",
    "        val rot = Rotation3D(phi, psi, theta, rotationCenter)\n",
    "        val translation = Translation3D(translationParameters.translationVector)\n",
    "        TranslationAfterRotation(translation, rot)\n",
    "        \n"
   ]
  },
  {
   "cell_type": "markdown",
   "id": "f3f198f8-e4b1-45db-86ee-3d57d2dbb2f2",
   "metadata": {},
   "source": [
    "The posterior is defined as always:"
   ]
  },
  {
   "cell_type": "code",
   "execution_count": 13,
   "id": "f02aa3f3-9487-44cf-bb44-b9e3ba2a812a",
   "metadata": {},
   "outputs": [],
   "source": [
    "val likelihoodEvaluator = ContourEvaluator(vertebraModel, targetContour, sensorDistance, sourceLocation, noiseSigma).cached\n",
    "val priorEvaluator = ProductEvaluator(TranslationPriorEvaluator.cached, ShapePriorEvaluator(vertebraModel).cached, RotationPriorEvaluator.cached)\n",
    "val posteriorEvaluator = ProductEvaluator(likelihoodEvaluator, priorEvaluator)"
   ]
  },
  {
   "cell_type": "markdown",
   "id": "eec1bd89-5784-4206-b55e-480a07c3e50f",
   "metadata": {},
   "source": [
    "#### Proposals\n",
    "\n",
    "Next we define the proposals for the Metropolis-Hastings algorithm. As we are dealing with more parameters, we need more sophisticated proposals. See [Tutorial 15](https://scalismo.org/docs/Tutorials/tutorial15) of the Scalismo documentation for details on how to set up such proposals. "
   ]
  },
  {
   "cell_type": "code",
   "execution_count": 14,
   "id": "ba51715a-eed8-481e-8553-466e84b98d69",
   "metadata": {},
   "outputs": [],
   "source": [
    "val identTranslationProposal = MHIdentityProposal.forType[TranslationParameters]\n",
    "val identRotationProposal = MHIdentityProposal.forType[RotationParameters]\n",
    "val identShapeProposal = MHIdentityProposal.forType[ShapeParameters]\n"
   ]
  },
  {
   "cell_type": "code",
   "execution_count": 15,
   "id": "cf69bae3-693e-492d-90c4-6bdfd4f8cc50",
   "metadata": {},
   "outputs": [],
   "source": [
    "val shapeProposal =\n",
    "    GaussianRandomWalkProposal(0.05, \"shape\")\n",
    "      .forType[ShapeParameters]\n",
    "\n",
    "val shapeOnlyProposal = MHProductProposal(\n",
    "    identTranslationProposal, \n",
    "    identRotationProposal, \n",
    "    shapeProposal\n",
    ").forType[PoseAndShapeParameters]\n",
    "  .relabel(\"shape-only\")"
   ]
  },
  {
   "cell_type": "code",
   "execution_count": 16,
   "id": "2d91048b-7bca-45fa-94ae-0770ddc77189",
   "metadata": {},
   "outputs": [],
   "source": [
    "val translationProposal = MHProductProposal(\n",
    "    GaussianRandomWalkProposal(0.1, \"tx\").forType[Double],\n",
    "    GaussianRandomWalkProposal(0.1, \"ty\").forType[Double],\n",
    "    GaussianRandomWalkProposal(0.1, \"tz\").forType[Double]\n",
    "  ).forType[TranslationParameters]\n",
    "    .relabel(\"translation-only\")\n",
    "\n",
    "val translationOnlyProposal = MHProductProposal(\n",
    "    translationProposal, \n",
    "    identRotationProposal,\n",
    "    identShapeProposal\n",
    ").forType[PoseAndShapeParameters]\n",
    "    "
   ]
  },
  {
   "cell_type": "code",
   "execution_count": 17,
   "id": "eea80f70-7fc8-4d4a-b47c-da69146b0758",
   "metadata": {},
   "outputs": [],
   "source": [
    "val rotationProposal = MHProductProposal(\n",
    "    GaussianRandomWalkProposal(0.01, \"rx\").forType[Double],\n",
    "    GaussianRandomWalkProposal(0.01, \"ry\").forType[Double],\n",
    "    GaussianRandomWalkProposal(0.01, \"rz\").forType[Double]\n",
    "  ).forType[RotationParameters].relabel(\"rotation-only\")\n",
    "\n",
    "val rotationOnlyProposal = MHProductProposal(\n",
    "    identTranslationProposal, \n",
    "    rotationProposal,\n",
    "    identShapeProposal\n",
    ").forType[PoseAndShapeParameters]\n",
    "    "
   ]
  },
  {
   "cell_type": "code",
   "execution_count": 18,
   "id": "f5d68f6a-8d69-4d4c-af40-9c6d885510e6",
   "metadata": {},
   "outputs": [],
   "source": [
    "  val mixturePoseAndShapeProposal = MHMixtureProposal(\n",
    "    (0.5, shapeOnlyProposal),\n",
    "    (0.3, translationOnlyProposal), \n",
    "    (0.2, rotationOnlyProposal)\n",
    "  )"
   ]
  },
  {
   "cell_type": "markdown",
   "id": "dd3a6aaf-2fa7-41d1-ac7f-81990fd70247",
   "metadata": {},
   "source": [
    "#### Putting it together"
   ]
  },
  {
   "cell_type": "markdown",
   "id": "47df4a78-fea3-471a-bf0f-99772eca2352",
   "metadata": {},
   "source": [
    "We can now put everything together:"
   ]
  },
  {
   "cell_type": "code",
   "execution_count": 19,
   "id": "b9b6cd68-661b-4c0b-9bdd-279030667ceb",
   "metadata": {},
   "outputs": [],
   "source": [
    "val logger = MHSampleLogger[PoseAndShapeParameters]()\n",
    "val chain = MetropolisHastings(mixturePoseAndShapeProposal, posteriorEvaluator)\n",
    "\n",
    "val initialParameters = PoseAndShapeParameters(\n",
    "    TranslationParameters(EuclideanVector3D(0,0,0)), \n",
    "    RotationParameters(0.0, 0.0, 0.0), \n",
    "    ShapeParameters(DenseVector.zeros[Double](vertebraModel.rank))\n",
    ")\n",
    "val mhIterator = chain.iterator(MHSample(initialParameters, \"inital\"), logger)"
   ]
  },
  {
   "cell_type": "markdown",
   "id": "b23e7b17-1af5-48ea-92aa-672a786be00b",
   "metadata": {},
   "source": [
    "Let's draw some samples from the posterior:"
   ]
  },
  {
   "cell_type": "code",
   "execution_count": 20,
   "id": "5aafb4d3-4aa8-459a-a88f-6e97e97456d7",
   "metadata": {},
   "outputs": [],
   "source": [
    "val samples = mhIterator.drop(1000).take(2000).toIndexedSeq"
   ]
  },
  {
   "cell_type": "markdown",
   "id": "b3bc75d2-a98e-4bed-a31c-8ed3346dffbd",
   "metadata": {},
   "source": [
    "The most likely reconstruction is given by the sample with the highest posterior value"
   ]
  },
  {
   "cell_type": "code",
   "execution_count": 21,
   "id": "21478b25-3456-42ce-987e-09541fc56963",
   "metadata": {},
   "outputs": [],
   "source": [
    "val bestSample = samples.maxBy(posteriorEvaluator.logValue)"
   ]
  },
  {
   "cell_type": "code",
   "execution_count": 22,
   "id": "e5e6f9ba-3d97-480b-90bd-db8f0704d4a2",
   "metadata": {},
   "outputs": [
    {
     "name": "stdout",
     "output_type": "stream",
     "text": [
      "MHSample(PoseAndShapeParameters(TranslationParameters(EuclideanVector3D(9.695317716918845,4.898210767868617,3.055289144055844)),RotationParameters((0.09698151986423557,-0.02233295871222564,-0.0033847620174391694)),ShapeParameters(DenseVector(-2.9886280341585034, 0.9430811668252467, 1.2994088070164065, 0.059866369694525925, -0.01679774830672277, -0.15152586919451114, -0.13030969676368878, 0.3183105194281465, -0.2332535714859571, -0.1121995452941981, -0.14877028329455108, 0.14492563206922385, 0.13858602386792637, 0.36670750579606265, 0.35573587854554023, 0.6241723688222369, 0.2975547383920819, 0.05277895375564151, 0.23500771459289946, 0.6605732326490326, -0.045109017744780454, 0.17550963828551078, -0.2778539281481592, -0.374594349727967, -1.1248378718881984, -0.3473613729949364, 0.04422167651683787, 1.13649674091073, -0.6479601540544896, -1.3777908437652713, -0.7125639601615597, -0.1758210684481175, -0.7917324995365761, 0.33939799804726506, 0.6131484811015924, -0.6220788408631042, -0.0863992941061287, -0.8740118658773114, 0.08434881400602086, 0.03420833893317754, 0.6930216874835756, -1.268422345390963, -0.329972070841548, -1.2052652836365083, 0.8158026036021935, -0.606619092496668, -0.39651335535331605, 0.21913551109751178, -0.13389036594315123, -0.5915528758602822, -0.9521006357156775, -0.10264807048645253, 0.20960057899402748, 0.904895951924295, 0.5859849053455878))),(translation-only, ident, ident))\n"
     ]
    }
   ],
   "source": [
    "println(bestSample)"
   ]
  },
  {
   "cell_type": "markdown",
   "id": "6c9af10e-5284-432b-860f-c6fe726a60ed",
   "metadata": {},
   "source": [
    "This does not mean, however, that fitting did not work. Let's visualize the result:"
   ]
  },
  {
   "cell_type": "code",
   "execution_count": 23,
   "id": "a823361b-b683-4723-9954-986ef1fd8f3e",
   "metadata": {},
   "outputs": [
    {
     "data": {
      "image/png": "[encoded data removed]"
     },
     "metadata": {},
     "output_type": "display_data"
    }
   ],
   "source": [
    "val bestMesh = vertebraModel.instance(bestSample.parameters.shapeParameters.coefficients)\n",
    "    .transform(ContourEvaluator.transformFromPoseParameters(bestSample.parameters.rotationParameters, Point3D(0,0,0), bestSample.parameters.translationParameters))\n",
    "val bestConour = ContourRenderer.projectMeshContours(bestMesh, sensorDistance, sourceLocation)\n",
    "ContourRenderer.renderMeshContours(Seq((bestConour, RGB(1.0, 0, 0)), (targetContour, RGB(0, 0, 1.0))), 1000, 1000).show()"
   ]
  },
  {
   "cell_type": "markdown",
   "id": "b5281000-4420-4d18-a69b-22bb867eb734",
   "metadata": {},
   "source": [
    "As we see, the two contours are really close together. Let's see how the reconstruction looks like:"
   ]
  },
  {
   "cell_type": "code",
   "execution_count": 24,
   "id": "c8f73db8-7203-446b-b890-419a00d688fe",
   "metadata": {},
   "outputs": [
    {
     "data": {
      "image/png": "[encoded data removed]"
     },
     "metadata": {},
     "output_type": "display_data"
    }
   ],
   "source": [
    "def render(mesh : TriangleMesh[_3D]) : Unit = \n",
    "    Renderer.renderMesh(mesh, RGB.White, Point3D(0, 0, 250), 256, 256).show()\n",
    "render(bestMesh)\n"
   ]
  },
  {
   "cell_type": "markdown",
   "id": "b1f65036-06a5-43cc-9682-ee279f2780b1",
   "metadata": {},
   "source": [
    "Now we show some more contours"
   ]
  },
  {
   "cell_type": "code",
   "execution_count": 25,
   "id": "fabd12a7-6801-4f04-b45b-2b371172609c",
   "metadata": {},
   "outputs": [
    {
     "data": {
      "image/png": "[encoded data removed]"
     },
     "metadata": {},
     "output_type": "display_data"
    }
   ],
   "source": [
    "val numContours = 30\n",
    "val someContours = for sample <- samples.grouped(samples.length / numContours).map(_.head).toIndexedSeq yield \n",
    "    val mesh = vertebraModel.instance(sample.parameters.shapeParameters.coefficients)\n",
    "    .transform(ContourEvaluator.transformFromPoseParameters(sample.parameters.rotationParameters, Point3D(0,0,0), sample.parameters.translationParameters))\n",
    "    ContourRenderer.projectMeshContours(mesh, sensorDistance, sourceLocation)\n",
    "\n",
    "val coloredContours = (targetContour, RGB(0, 0, 1.0)) +: someContours.map(c => (c, RGB(1.0, 0, 0)))\n",
    "ContourRenderer.renderMeshContours(coloredContours, 1000, 1000).show()"
   ]
  },
  {
   "cell_type": "code",
   "execution_count": 26,
   "id": "a8f7a876-9c0f-4290-a191-646ba3bb8228",
   "metadata": {},
   "outputs": [
    {
     "data": {
      "application/vnd.vega.v5+json": {
       "$schema": "https://vega.github.io/schema/vega-lite/v5.json",
       "data": {
        "values": [
         {
          "coeff-0": "-3.1117569783253334",
          "coeff-1": "0.7135521024911163",
          "coeff-2": "0.3930462637077338"
         },
         {
          "coeff-0": "-3.1117569783253334",
          "coeff-1": "0.7135521024911163",
          "coeff-2": "0.3930462637077338"
         },
         {
          "coeff-0": "-3.1117569783253334",
          "coeff-1": "0.7135521024911163",
          "coeff-2": "0.3930462637077338"
         },
         {
          "coeff-0": "-3.1117569783253334",
          "coeff-1": "0.7135521024911163",
          "coeff-2": "0.3930462637077338"
         },
         {
          "coeff-0": "-3.1117569783253334",
          "coeff-1": "0.7135521024911163",
          "coeff-2": "0.3930462637077338"
         },
         {
          "coeff-0": "-3.1117569783253334",
          "coeff-1": "0.7135521024911163",
          "coeff-2": "0.3930462637077338"
         },
         {
          "coeff-0": "-3.1117569783253334",
          "coeff-1": "0.7135521024911163",
          "coeff-2": "0.3930462637077338"
         },
         {
          "coeff-0": "-3.1117569783253334",
          "coeff-1": "0.7135521024911163",
          "coeff-2": "0.3930462637077338"
         },
         {
          "coeff-0": "-3.1117569783253334",
          "coeff-1": "0.7135521024911163",
          "coeff-2": "0.3930462637077338"
         },
         {
          "coeff-0": "-3.1548278579284004",
          "coeff-1": "0.7361236554747421",
          "coeff-2": "0.3687971036280005"
         },
         {
          "coeff-0": "-3.1548278579284004",
          "coeff-1": "0.7361236554747421",
          "coeff-2": "0.3687971036280005"
         },
         {
          "coeff-0": "-3.1548278579284004",
          "coeff-1": "0.7361236554747421",
          "coeff-2": "0.3687971036280005"
         },
         {
          "coeff-0": "-3.1548278579284004",
          "coeff-1": "0.7361236554747421",
          "coeff-2": "0.3687971036280005"
         },
         {
          "coeff-0": "-3.1548278579284004",
          "coeff-1": "0.7361236554747421",
          "coeff-2": "0.3687971036280005"
         },
         {
          "coeff-0": "-3.1548278579284004",
          "coeff-1": "0.7361236554747421",
          "coeff-2": "0.3687971036280005"
         },
         {
          "coeff-0": "-3.1548278579284004",
          "coeff-1": "0.7361236554747421",
          "coeff-2": "0.3687971036280005"
         },
         {
          "coeff-0": "-3.1548278579284004",
          "coeff-1": "0.7361236554747421",
          "coeff-2": "0.3687971036280005"
         },
         {
          "coeff-0": "-3.1266722492507246",
          "coeff-1": "0.7773251630988255",
          "coeff-2": "0.29310343720202714"
         },
         {
          "coeff-0": "-3.1266722492507246",
          "coeff-1": "0.7773251630988255",
          "coeff-2": "0.29310343720202714"
         },
         {
          "coeff-0": "-3.1266722492507246",
          "coeff-1": "0.7773251630988255",
          "coeff-2": "0.29310343720202714"
         },
         {
          "coeff-0": "-3.1266722492507246",
          "coeff-1": "0.7773251630988255",
          "coeff-2": "0.29310343720202714"
         },
         {
          "coeff-0": "-3.078630233262891",
          "coeff-1": "0.7004882734632312",
          "coeff-2": "0.3052981640425767"
         },
         {
          "coeff-0": "-3.078630233262891",
          "coeff-1": "0.7004882734632312",
          "coeff-2": "0.3052981640425767"
         },
         {
          "coeff-0": "-3.078630233262891",
          "coeff-1": "0.7004882734632312",
          "coeff-2": "0.3052981640425767"
         },
         {
          "coeff-0": "-3.078630233262891",
          "coeff-1": "0.7004882734632312",
          "coeff-2": "0.3052981640425767"
         },
         {
          "coeff-0": "-3.078630233262891",
          "coeff-1": "0.7004882734632312",
          "coeff-2": "0.3052981640425767"
         },
         {
          "coeff-0": "-3.078630233262891",
          "coeff-1": "0.7004882734632312",
          "coeff-2": "0.3052981640425767"
         },
         {
          "coeff-0": "-3.078630233262891",
          "coeff-1": "0.7004882734632312",
          "coeff-2": "0.3052981640425767"
         },
         {
          "coeff-0": "-3.078630233262891",
          "coeff-1": "0.7004882734632312",
          "coeff-2": "0.3052981640425767"
         },
         {
          "coeff-0": "-3.12747045735369",
          "coeff-1": "0.7618656085832216",
          "coeff-2": "0.3113671776875636"
         },
         {
          "coeff-0": "-3.12747045735369",
          "coeff-1": "0.7618656085832216",
          "coeff-2": "0.3113671776875636"
         },
         {
          "coeff-0": "-3.12747045735369",
          "coeff-1": "0.7618656085832216",
          "coeff-2": "0.3113671776875636"
         },
         {
          "coeff-0": "-3.12747045735369",
          "coeff-1": "0.7618656085832216",
          "coeff-2": "0.3113671776875636"
         },
         {
          "coeff-0": "-3.092366944653752",
          "coeff-1": "0.7540062644670469",
          "coeff-2": "0.325999478920628"
         },
         {
          "coeff-0": "-3.089739692197454",
          "coeff-1": "0.7512508750884229",
          "coeff-2": "0.2911193203398286"
         },
         {
          "coeff-0": "-3.089739692197454",
          "coeff-1": "0.7512508750884229",
          "coeff-2": "0.2911193203398286"
         },
         {
          "coeff-0": "-3.089739692197454",
          "coeff-1": "0.7512508750884229",
          "coeff-2": "0.2911193203398286"
         },
         {
          "coeff-0": "-3.089739692197454",
          "coeff-1": "0.7512508750884229",
          "coeff-2": "0.2911193203398286"
         },
         {
          "coeff-0": "-3.089739692197454",
          "coeff-1": "0.7512508750884229",
          "coeff-2": "0.2911193203398286"
         },
         {
          "coeff-0": "-3.089739692197454",
          "coeff-1": "0.7512508750884229",
          "coeff-2": "0.2911193203398286"
         },
         {
          "coeff-0": "-3.089739692197454",
          "coeff-1": "0.7512508750884229",
          "coeff-2": "0.2911193203398286"
         },
         {
          "coeff-0": "-3.089739692197454",
          "coeff-1": "0.7512508750884229",
          "coeff-2": "0.2911193203398286"
         },
         {
          "coeff-0": "-3.089739692197454",
          "coeff-1": "0.7512508750884229",
          "coeff-2": "0.2911193203398286"
         },
         {
          "coeff-0": "-3.089739692197454",
          "coeff-1": "0.7512508750884229",
          "coeff-2": "0.2911193203398286"
         },
         {
          "coeff-0": "-3.089739692197454",
          "coeff-1": "0.7512508750884229",
          "coeff-2": "0.2911193203398286"
         },
         {
          "coeff-0": "-3.089739692197454",
          "coeff-1": "0.7512508750884229",
          "coeff-2": "0.2911193203398286"
         },
         {
          "coeff-0": "-3.089739692197454",
          "coeff-1": "0.7512508750884229",
          "coeff-2": "0.2911193203398286"
         },
         {
          "coeff-0": "-3.089739692197454",
          "coeff-1": "0.7512508750884229",
          "coeff-2": "0.2911193203398286"
         },
         {
          "coeff-0": "-3.089739692197454",
          "coeff-1": "0.7512508750884229",
          "coeff-2": "0.2911193203398286"
         },
         {
          "coeff-0": "-3.089739692197454",
          "coeff-1": "0.7512508750884229",
          "coeff-2": "0.2911193203398286"
         },
         {
          "coeff-0": "-3.089739692197454",
          "coeff-1": "0.7512508750884229",
          "coeff-2": "0.2911193203398286"
         },
         {
          "coeff-0": "-3.089739692197454",
          "coeff-1": "0.7512508750884229",
          "coeff-2": "0.2911193203398286"
         },
         {
          "coeff-0": "-3.089739692197454",
          "coeff-1": "0.7512508750884229",
          "coeff-2": "0.2911193203398286"
         },
         {
          "coeff-0": "-3.089739692197454",
          "coeff-1": "0.7512508750884229",
          "coeff-2": "0.2911193203398286"
         },
         {
          "coeff-0": "-3.089739692197454",
          "coeff-1": "0.7512508750884229",
          "coeff-2": "0.2911193203398286"
         },
         {
          "coeff-0": "-3.089739692197454",
          "coeff-1": "0.7512508750884229",
          "coeff-2": "0.2911193203398286"
         },
         {
          "coeff-0": "-3.089739692197454",
          "coeff-1": "0.7512508750884229",
          "coeff-2": "0.2911193203398286"
         },
         {
          "coeff-0": "-3.089739692197454",
          "coeff-1": "0.7512508750884229",
          "coeff-2": "0.2911193203398286"
         },
         {
          "coeff-0": "-3.089739692197454",
          "coeff-1": "0.7512508750884229",
          "coeff-2": "0.2911193203398286"
         },
         {
          "coeff-0": "-3.089739692197454",
          "coeff-1": "0.7512508750884229",
          "coeff-2": "0.2911193203398286"
         },
         {
          "coeff-0": "-3.0991072753549984",
          "coeff-1": "0.7784189020535454",
          "coeff-2": "0.35845594206910814"
         },
         {
          "coeff-0": "-3.0991072753549984",
          "coeff-1": "0.7784189020535454",
          "coeff-2": "0.35845594206910814"
         },
         {
          "coeff-0": "-3.0991072753549984",
          "coeff-1": "0.7784189020535454",
          "coeff-2": "0.35845594206910814"
         },
         {
          "coeff-0": "-3.0991072753549984",
          "coeff-1": "0.7784189020535454",
          "coeff-2": "0.35845594206910814"
         },
         {
          "coeff-0": "-3.0991072753549984",
          "coeff-1": "0.7784189020535454",
          "coeff-2": "0.35845594206910814"
         },
         {
          "coeff-0": "-3.1113737032393773",
          "coeff-1": "0.8089583391247893",
          "coeff-2": "0.2782026469905144"
         },
         {
          "coeff-0": "-3.1113737032393773",
          "coeff-1": "0.8089583391247893",
          "coeff-2": "0.2782026469905144"
         },
         {
          "coeff-0": "-3.1113737032393773",
          "coeff-1": "0.8089583391247893",
          "coeff-2": "0.2782026469905144"
         },
         {
          "coeff-0": "-3.1113737032393773",
          "coeff-1": "0.8089583391247893",
          "coeff-2": "0.2782026469905144"
         },
         {
          "coeff-0": "-3.1113737032393773",
          "coeff-1": "0.8089583391247893",
          "coeff-2": "0.2782026469905144"
         },
         {
          "coeff-0": "-3.1113737032393773",
          "coeff-1": "0.8089583391247893",
          "coeff-2": "0.2782026469905144"
         },
         {
          "coeff-0": "-3.1375158019416514",
          "coeff-1": "0.8018011812317583",
          "coeff-2": "0.3154750087940197"
         },
         {
          "coeff-0": "-3.1375158019416514",
          "coeff-1": "0.8018011812317583",
          "coeff-2": "0.3154750087940197"
         },
         {
          "coeff-0": "-3.144957087903773",
          "coeff-1": "0.8402063866012133",
          "coeff-2": "0.3109663994827083"
         },
         {
          "coeff-0": "-3.144957087903773",
          "coeff-1": "0.8402063866012133",
          "coeff-2": "0.3109663994827083"
         },
         {
          "coeff-0": "-3.144957087903773",
          "coeff-1": "0.8402063866012133",
          "coeff-2": "0.3109663994827083"
         },
         {
          "coeff-0": "-3.144957087903773",
          "coeff-1": "0.8402063866012133",
          "coeff-2": "0.3109663994827083"
         },
         {
          "coeff-0": "-3.144957087903773",
          "coeff-1": "0.8402063866012133",
          "coeff-2": "0.3109663994827083"
         },
         {
          "coeff-0": "-3.144957087903773",
          "coeff-1": "0.8402063866012133",
          "coeff-2": "0.3109663994827083"
         },
         {
          "coeff-0": "-3.144957087903773",
          "coeff-1": "0.8402063866012133",
          "coeff-2": "0.3109663994827083"
         },
         {
          "coeff-0": "-3.1631481865356017",
          "coeff-1": "0.807839334533035",
          "coeff-2": "0.30477474156085116"
         },
         {
          "coeff-0": "-3.1631481865356017",
          "coeff-1": "0.807839334533035",
          "coeff-2": "0.30477474156085116"
         },
         {
          "coeff-0": "-3.1653512311300567",
          "coeff-1": "0.8439332353276925",
          "coeff-2": "0.21278582357195924"
         },
         {
          "coeff-0": "-3.1653512311300567",
          "coeff-1": "0.8439332353276925",
          "coeff-2": "0.21278582357195924"
         },
         {
          "coeff-0": "-3.1653512311300567",
          "coeff-1": "0.8439332353276925",
          "coeff-2": "0.21278582357195924"
         },
         {
          "coeff-0": "-3.1653512311300567",
          "coeff-1": "0.8439332353276925",
          "coeff-2": "0.21278582357195924"
         },
         {
          "coeff-0": "-3.1653512311300567",
          "coeff-1": "0.8439332353276925",
          "coeff-2": "0.21278582357195924"
         },
         {
          "coeff-0": "-3.1653512311300567",
          "coeff-1": "0.8439332353276925",
          "coeff-2": "0.21278582357195924"
         },
         {
          "coeff-0": "-3.1653512311300567",
          "coeff-1": "0.8439332353276925",
          "coeff-2": "0.21278582357195924"
         },
         {
          "coeff-0": "-3.1653512311300567",
          "coeff-1": "0.8439332353276925",
          "coeff-2": "0.21278582357195924"
         },
         {
          "coeff-0": "-3.1653512311300567",
          "coeff-1": "0.8439332353276925",
          "coeff-2": "0.21278582357195924"
         },
         {
          "coeff-0": "-3.1653512311300567",
          "coeff-1": "0.8439332353276925",
          "coeff-2": "0.21278582357195924"
         },
         {
          "coeff-0": "-3.1653512311300567",
          "coeff-1": "0.8439332353276925",
          "coeff-2": "0.21278582357195924"
         },
         {
          "coeff-0": "-3.1653512311300567",
          "coeff-1": "0.8439332353276925",
          "coeff-2": "0.21278582357195924"
         },
         {
          "coeff-0": "-3.1653512311300567",
          "coeff-1": "0.8439332353276925",
          "coeff-2": "0.21278582357195924"
         },
         {
          "coeff-0": "-3.1653512311300567",
          "coeff-1": "0.8439332353276925",
          "coeff-2": "0.21278582357195924"
         },
         {
          "coeff-0": "-3.1653512311300567",
          "coeff-1": "0.8439332353276925",
          "coeff-2": "0.21278582357195924"
         },
         {
          "coeff-0": "-3.1653512311300567",
          "coeff-1": "0.8439332353276925",
          "coeff-2": "0.21278582357195924"
         },
         {
          "coeff-0": "-3.1653512311300567",
          "coeff-1": "0.8439332353276925",
          "coeff-2": "0.21278582357195924"
         },
         {
          "coeff-0": "-3.1653512311300567",
          "coeff-1": "0.8439332353276925",
          "coeff-2": "0.21278582357195924"
         },
         {
          "coeff-0": "-3.119351239861033",
          "coeff-1": "0.7976858016027446",
          "coeff-2": "0.20873004624623706"
         },
         {
          "coeff-0": "-3.1819239988505155",
          "coeff-1": "0.7937522817009561",
          "coeff-2": "0.18790932158470672"
         },
         {
          "coeff-0": "-3.1819239988505155",
          "coeff-1": "0.7937522817009561",
          "coeff-2": "0.18790932158470672"
         },
         {
          "coeff-0": "-3.1819239988505155",
          "coeff-1": "0.7937522817009561",
          "coeff-2": "0.18790932158470672"
         },
         {
          "coeff-0": "-3.1819239988505155",
          "coeff-1": "0.7937522817009561",
          "coeff-2": "0.18790932158470672"
         },
         {
          "coeff-0": "-3.1819239988505155",
          "coeff-1": "0.7937522817009561",
          "coeff-2": "0.18790932158470672"
         },
         {
          "coeff-0": "-3.1819239988505155",
          "coeff-1": "0.7937522817009561",
          "coeff-2": "0.18790932158470672"
         },
         {
          "coeff-0": "-3.1819239988505155",
          "coeff-1": "0.7937522817009561",
          "coeff-2": "0.18790932158470672"
         },
         {
          "coeff-0": "-3.1819239988505155",
          "coeff-1": "0.7937522817009561",
          "coeff-2": "0.18790932158470672"
         },
         {
          "coeff-0": "-3.143713203000204",
          "coeff-1": "0.7980092366800772",
          "coeff-2": "0.19954239312693658"
         },
         {
          "coeff-0": "-3.143713203000204",
          "coeff-1": "0.7980092366800772",
          "coeff-2": "0.19954239312693658"
         },
         {
          "coeff-0": "-3.143713203000204",
          "coeff-1": "0.7980092366800772",
          "coeff-2": "0.19954239312693658"
         },
         {
          "coeff-0": "-3.143713203000204",
          "coeff-1": "0.7980092366800772",
          "coeff-2": "0.19954239312693658"
         },
         {
          "coeff-0": "-3.143713203000204",
          "coeff-1": "0.7980092366800772",
          "coeff-2": "0.19954239312693658"
         },
         {
          "coeff-0": "-3.143713203000204",
          "coeff-1": "0.7980092366800772",
          "coeff-2": "0.19954239312693658"
         },
         {
          "coeff-0": "-3.143713203000204",
          "coeff-1": "0.7980092366800772",
          "coeff-2": "0.19954239312693658"
         },
         {
          "coeff-0": "-3.143713203000204",
          "coeff-1": "0.7980092366800772",
          "coeff-2": "0.19954239312693658"
         },
         {
          "coeff-0": "-3.143713203000204",
          "coeff-1": "0.7980092366800772",
          "coeff-2": "0.19954239312693658"
         },
         {
          "coeff-0": "-3.143713203000204",
          "coeff-1": "0.7980092366800772",
          "coeff-2": "0.19954239312693658"
         },
         {
          "coeff-0": "-3.143713203000204",
          "coeff-1": "0.7980092366800772",
          "coeff-2": "0.19954239312693658"
         },
         {
          "coeff-0": "-3.1609302509412247",
          "coeff-1": "0.8981754757197955",
          "coeff-2": "0.20389566157862812"
         },
         {
          "coeff-0": "-3.1157398299629095",
          "coeff-1": "0.8630930433958597",
          "coeff-2": "0.16299904983402685"
         },
         {
          "coeff-0": "-3.1157398299629095",
          "coeff-1": "0.8630930433958597",
          "coeff-2": "0.16299904983402685"
         },
         {
          "coeff-0": "-3.1157398299629095",
          "coeff-1": "0.8630930433958597",
          "coeff-2": "0.16299904983402685"
         },
         {
          "coeff-0": "-3.1157398299629095",
          "coeff-1": "0.8630930433958597",
          "coeff-2": "0.16299904983402685"
         },
         {
          "coeff-0": "-3.1157398299629095",
          "coeff-1": "0.8630930433958597",
          "coeff-2": "0.16299904983402685"
         },
         {
          "coeff-0": "-3.180298548469925",
          "coeff-1": "0.8991445558588689",
          "coeff-2": "0.16158306757678603"
         },
         {
          "coeff-0": "-3.180298548469925",
          "coeff-1": "0.8991445558588689",
          "coeff-2": "0.16158306757678603"
         },
         {
          "coeff-0": "-3.180298548469925",
          "coeff-1": "0.8991445558588689",
          "coeff-2": "0.16158306757678603"
         },
         {
          "coeff-0": "-3.180298548469925",
          "coeff-1": "0.8991445558588689",
          "coeff-2": "0.16158306757678603"
         },
         {
          "coeff-0": "-3.180298548469925",
          "coeff-1": "0.8991445558588689",
          "coeff-2": "0.16158306757678603"
         },
         {
          "coeff-0": "-3.180298548469925",
          "coeff-1": "0.8991445558588689",
          "coeff-2": "0.16158306757678603"
         },
         {
          "coeff-0": "-3.180298548469925",
          "coeff-1": "0.8991445558588689",
          "coeff-2": "0.16158306757678603"
         },
         {
          "coeff-0": "-3.180298548469925",
          "coeff-1": "0.8991445558588689",
          "coeff-2": "0.16158306757678603"
         },
         {
          "coeff-0": "-3.180298548469925",
          "coeff-1": "0.8991445558588689",
          "coeff-2": "0.16158306757678603"
         },
         {
          "coeff-0": "-3.180298548469925",
          "coeff-1": "0.8991445558588689",
          "coeff-2": "0.16158306757678603"
         },
         {
          "coeff-0": "-3.180298548469925",
          "coeff-1": "0.8991445558588689",
          "coeff-2": "0.16158306757678603"
         },
         {
          "coeff-0": "-3.180298548469925",
          "coeff-1": "0.8991445558588689",
          "coeff-2": "0.16158306757678603"
         },
         {
          "coeff-0": "-3.180298548469925",
          "coeff-1": "0.8991445558588689",
          "coeff-2": "0.16158306757678603"
         },
         {
          "coeff-0": "-3.180298548469925",
          "coeff-1": "0.8991445558588689",
          "coeff-2": "0.16158306757678603"
         },
         {
          "coeff-0": "-3.180298548469925",
          "coeff-1": "0.8991445558588689",
          "coeff-2": "0.16158306757678603"
         },
         {
          "coeff-0": "-3.180298548469925",
          "coeff-1": "0.8991445558588689",
          "coeff-2": "0.16158306757678603"
         },
         {
          "coeff-0": "-3.180298548469925",
          "coeff-1": "0.8991445558588689",
          "coeff-2": "0.16158306757678603"
         },
         {
          "coeff-0": "-3.180298548469925",
          "coeff-1": "0.8991445558588689",
          "coeff-2": "0.16158306757678603"
         },
         {
          "coeff-0": "-3.180298548469925",
          "coeff-1": "0.8991445558588689",
          "coeff-2": "0.16158306757678603"
         },
         {
          "coeff-0": "-3.180298548469925",
          "coeff-1": "0.8991445558588689",
          "coeff-2": "0.16158306757678603"
         },
         {
          "coeff-0": "-3.180298548469925",
          "coeff-1": "0.8991445558588689",
          "coeff-2": "0.16158306757678603"
         },
         {
          "coeff-0": "-3.180298548469925",
          "coeff-1": "0.8991445558588689",
          "coeff-2": "0.16158306757678603"
         },
         {
          "coeff-0": "-3.180298548469925",
          "coeff-1": "0.8991445558588689",
          "coeff-2": "0.16158306757678603"
         },
         {
          "coeff-0": "-3.180298548469925",
          "coeff-1": "0.8991445558588689",
          "coeff-2": "0.16158306757678603"
         },
         {
          "coeff-0": "-3.180298548469925",
          "coeff-1": "0.8991445558588689",
          "coeff-2": "0.16158306757678603"
         },
         {
          "coeff-0": "-3.180278254994761",
          "coeff-1": "0.8769785579489262",
          "coeff-2": "0.09552165150664614"
         },
         {
          "coeff-0": "-3.180278254994761",
          "coeff-1": "0.8769785579489262",
          "coeff-2": "0.09552165150664614"
         },
         {
          "coeff-0": "-3.180278254994761",
          "coeff-1": "0.8769785579489262",
          "coeff-2": "0.09552165150664614"
         },
         {
          "coeff-0": "-3.180278254994761",
          "coeff-1": "0.8769785579489262",
          "coeff-2": "0.09552165150664614"
         },
         {
          "coeff-0": "-3.180278254994761",
          "coeff-1": "0.8769785579489262",
          "coeff-2": "0.09552165150664614"
         },
         {
          "coeff-0": "-3.180278254994761",
          "coeff-1": "0.8769785579489262",
          "coeff-2": "0.09552165150664614"
         },
         {
          "coeff-0": "-3.1463441018624803",
          "coeff-1": "0.8870711123579083",
          "coeff-2": "0.20472157419055143"
         },
         {
          "coeff-0": "-3.1463441018624803",
          "coeff-1": "0.8870711123579083",
          "coeff-2": "0.20472157419055143"
         },
         {
          "coeff-0": "-3.1463441018624803",
          "coeff-1": "0.8870711123579083",
          "coeff-2": "0.20472157419055143"
         },
         {
          "coeff-0": "-3.1463441018624803",
          "coeff-1": "0.8870711123579083",
          "coeff-2": "0.20472157419055143"
         },
         {
          "coeff-0": "-3.1463441018624803",
          "coeff-1": "0.8870711123579083",
          "coeff-2": "0.20472157419055143"
         },
         {
          "coeff-0": "-3.1463441018624803",
          "coeff-1": "0.8870711123579083",
          "coeff-2": "0.20472157419055143"
         },
         {
          "coeff-0": "-3.102447715497203",
          "coeff-1": "0.9161229429653245",
          "coeff-2": "0.3132323778101574"
         },
         {
          "coeff-0": "-3.102447715497203",
          "coeff-1": "0.9161229429653245",
          "coeff-2": "0.3132323778101574"
         },
         {
          "coeff-0": "-3.102447715497203",
          "coeff-1": "0.9161229429653245",
          "coeff-2": "0.3132323778101574"
         },
         {
          "coeff-0": "-3.102447715497203",
          "coeff-1": "0.9161229429653245",
          "coeff-2": "0.3132323778101574"
         },
         {
          "coeff-0": "-3.102447715497203",
          "coeff-1": "0.9161229429653245",
          "coeff-2": "0.3132323778101574"
         },
         {
          "coeff-0": "-3.102447715497203",
          "coeff-1": "0.9161229429653245",
          "coeff-2": "0.3132323778101574"
         },
         {
          "coeff-0": "-3.102447715497203",
          "coeff-1": "0.9161229429653245",
          "coeff-2": "0.3132323778101574"
         },
         {
          "coeff-0": "-3.102447715497203",
          "coeff-1": "0.9161229429653245",
          "coeff-2": "0.3132323778101574"
         },
         {
          "coeff-0": "-3.102447715497203",
          "coeff-1": "0.9161229429653245",
          "coeff-2": "0.3132323778101574"
         },
         {
          "coeff-0": "-3.102447715497203",
          "coeff-1": "0.9161229429653245",
          "coeff-2": "0.3132323778101574"
         },
         {
          "coeff-0": "-3.102447715497203",
          "coeff-1": "0.9161229429653245",
          "coeff-2": "0.3132323778101574"
         },
         {
          "coeff-0": "-3.102447715497203",
          "coeff-1": "0.9161229429653245",
          "coeff-2": "0.3132323778101574"
         },
         {
          "coeff-0": "-3.102447715497203",
          "coeff-1": "0.9161229429653245",
          "coeff-2": "0.3132323778101574"
         },
         {
          "coeff-0": "-3.102447715497203",
          "coeff-1": "0.9161229429653245",
          "coeff-2": "0.3132323778101574"
         },
         {
          "coeff-0": "-3.102447715497203",
          "coeff-1": "0.9161229429653245",
          "coeff-2": "0.3132323778101574"
         },
         {
          "coeff-0": "-3.102447715497203",
          "coeff-1": "0.9161229429653245",
          "coeff-2": "0.3132323778101574"
         },
         {
          "coeff-0": "-3.102447715497203",
          "coeff-1": "0.9161229429653245",
          "coeff-2": "0.3132323778101574"
         },
         {
          "coeff-0": "-3.102447715497203",
          "coeff-1": "0.9161229429653245",
          "coeff-2": "0.3132323778101574"
         },
         {
          "coeff-0": "-3.102447715497203",
          "coeff-1": "0.9161229429653245",
          "coeff-2": "0.3132323778101574"
         },
         {
          "coeff-0": "-3.102447715497203",
          "coeff-1": "0.9161229429653245",
          "coeff-2": "0.3132323778101574"
         },
         {
          "coeff-0": "-3.102447715497203",
          "coeff-1": "0.9161229429653245",
          "coeff-2": "0.3132323778101574"
         },
         {
          "coeff-0": "-3.102447715497203",
          "coeff-1": "0.9161229429653245",
          "coeff-2": "0.3132323778101574"
         },
         {
          "coeff-0": "-3.102447715497203",
          "coeff-1": "0.9161229429653245",
          "coeff-2": "0.3132323778101574"
         },
         {
          "coeff-0": "-3.102447715497203",
          "coeff-1": "0.9161229429653245",
          "coeff-2": "0.3132323778101574"
         },
         {
          "coeff-0": "-3.1306707332299477",
          "coeff-1": "0.9058684091270679",
          "coeff-2": "0.3098273676487533"
         },
         {
          "coeff-0": "-3.1306707332299477",
          "coeff-1": "0.9058684091270679",
          "coeff-2": "0.3098273676487533"
         },
         {
          "coeff-0": "-3.1306707332299477",
          "coeff-1": "0.9058684091270679",
          "coeff-2": "0.3098273676487533"
         },
         {
          "coeff-0": "-3.1306707332299477",
          "coeff-1": "0.9058684091270679",
          "coeff-2": "0.3098273676487533"
         },
         {
          "coeff-0": "-3.1306707332299477",
          "coeff-1": "0.9058684091270679",
          "coeff-2": "0.3098273676487533"
         },
         {
          "coeff-0": "-3.1306707332299477",
          "coeff-1": "0.9058684091270679",
          "coeff-2": "0.3098273676487533"
         },
         {
          "coeff-0": "-3.1306707332299477",
          "coeff-1": "0.9058684091270679",
          "coeff-2": "0.3098273676487533"
         },
         {
          "coeff-0": "-3.1306707332299477",
          "coeff-1": "0.9058684091270679",
          "coeff-2": "0.3098273676487533"
         },
         {
          "coeff-0": "-3.1306707332299477",
          "coeff-1": "0.9058684091270679",
          "coeff-2": "0.3098273676487533"
         },
         {
          "coeff-0": "-3.1306707332299477",
          "coeff-1": "0.9058684091270679",
          "coeff-2": "0.3098273676487533"
         },
         {
          "coeff-0": "-3.1306707332299477",
          "coeff-1": "0.9058684091270679",
          "coeff-2": "0.3098273676487533"
         },
         {
          "coeff-0": "-3.1306707332299477",
          "coeff-1": "0.9058684091270679",
          "coeff-2": "0.3098273676487533"
         },
         {
          "coeff-0": "-3.1306707332299477",
          "coeff-1": "0.9058684091270679",
          "coeff-2": "0.3098273676487533"
         },
         {
          "coeff-0": "-3.1306707332299477",
          "coeff-1": "0.9058684091270679",
          "coeff-2": "0.3098273676487533"
         },
         {
          "coeff-0": "-3.1306707332299477",
          "coeff-1": "0.9058684091270679",
          "coeff-2": "0.3098273676487533"
         },
         {
          "coeff-0": "-3.1306707332299477",
          "coeff-1": "0.9058684091270679",
          "coeff-2": "0.3098273676487533"
         },
         {
          "coeff-0": "-3.1306707332299477",
          "coeff-1": "0.9058684091270679",
          "coeff-2": "0.3098273676487533"
         },
         {
          "coeff-0": "-3.1306707332299477",
          "coeff-1": "0.9058684091270679",
          "coeff-2": "0.3098273676487533"
         },
         {
          "coeff-0": "-3.1306707332299477",
          "coeff-1": "0.9058684091270679",
          "coeff-2": "0.3098273676487533"
         },
         {
          "coeff-0": "-3.1306707332299477",
          "coeff-1": "0.9058684091270679",
          "coeff-2": "0.3098273676487533"
         },
         {
          "coeff-0": "-3.1306707332299477",
          "coeff-1": "0.9058684091270679",
          "coeff-2": "0.3098273676487533"
         },
         {
          "coeff-0": "-3.1306707332299477",
          "coeff-1": "0.9058684091270679",
          "coeff-2": "0.3098273676487533"
         },
         {
          "coeff-0": "-3.1306707332299477",
          "coeff-1": "0.9058684091270679",
          "coeff-2": "0.3098273676487533"
         },
         {
          "coeff-0": "-3.1306707332299477",
          "coeff-1": "0.9058684091270679",
          "coeff-2": "0.3098273676487533"
         },
         {
          "coeff-0": "-3.1306707332299477",
          "coeff-1": "0.9058684091270679",
          "coeff-2": "0.3098273676487533"
         },
         {
          "coeff-0": "-3.1306707332299477",
          "coeff-1": "0.9058684091270679",
          "coeff-2": "0.3098273676487533"
         },
         {
          "coeff-0": "-3.1306707332299477",
          "coeff-1": "0.9058684091270679",
          "coeff-2": "0.3098273676487533"
         },
         {
          "coeff-0": "-3.1306707332299477",
          "coeff-1": "0.9058684091270679",
          "coeff-2": "0.3098273676487533"
         },
         {
          "coeff-0": "-3.1306707332299477",
          "coeff-1": "0.9058684091270679",
          "coeff-2": "0.3098273676487533"
         },
         {
          "coeff-0": "-3.1306707332299477",
          "coeff-1": "0.9058684091270679",
          "coeff-2": "0.3098273676487533"
         },
         {
          "coeff-0": "-3.1306707332299477",
          "coeff-1": "0.9058684091270679",
          "coeff-2": "0.3098273676487533"
         },
         {
          "coeff-0": "-3.1306707332299477",
          "coeff-1": "0.9058684091270679",
          "coeff-2": "0.3098273676487533"
         },
         {
          "coeff-0": "-3.1306707332299477",
          "coeff-1": "0.9058684091270679",
          "coeff-2": "0.3098273676487533"
         },
         {
          "coeff-0": "-3.0673934747427545",
          "coeff-1": "0.8745728949640542",
          "coeff-2": "0.2888464221411676"
         },
         {
          "coeff-0": "-3.0673934747427545",
          "coeff-1": "0.8745728949640542",
          "coeff-2": "0.2888464221411676"
         },
         {
          "coeff-0": "-3.0673934747427545",
          "coeff-1": "0.8745728949640542",
          "coeff-2": "0.2888464221411676"
         },
         {
          "coeff-0": "-3.082251416301755",
          "coeff-1": "0.9229502560342364",
          "coeff-2": "0.26191966343264067"
         },
         {
          "coeff-0": "-3.082251416301755",
          "coeff-1": "0.9229502560342364",
          "coeff-2": "0.26191966343264067"
         },
         {
          "coeff-0": "-3.082251416301755",
          "coeff-1": "0.9229502560342364",
          "coeff-2": "0.26191966343264067"
         },
         {
          "coeff-0": "-3.082251416301755",
          "coeff-1": "0.9229502560342364",
          "coeff-2": "0.26191966343264067"
         },
         {
          "coeff-0": "-3.082251416301755",
          "coeff-1": "0.9229502560342364",
          "coeff-2": "0.26191966343264067"
         },
         {
          "coeff-0": "-3.082251416301755",
          "coeff-1": "0.9229502560342364",
          "coeff-2": "0.26191966343264067"
         },
         {
          "coeff-0": "-3.082251416301755",
          "coeff-1": "0.9229502560342364",
          "coeff-2": "0.26191966343264067"
         },
         {
          "coeff-0": "-3.082251416301755",
          "coeff-1": "0.9229502560342364",
          "coeff-2": "0.26191966343264067"
         },
         {
          "coeff-0": "-3.082251416301755",
          "coeff-1": "0.9229502560342364",
          "coeff-2": "0.26191966343264067"
         },
         {
          "coeff-0": "-3.082251416301755",
          "coeff-1": "0.9229502560342364",
          "coeff-2": "0.26191966343264067"
         },
         {
          "coeff-0": "-3.082251416301755",
          "coeff-1": "0.9229502560342364",
          "coeff-2": "0.26191966343264067"
         },
         {
          "coeff-0": "-3.094887682444426",
          "coeff-1": "0.977490020709976",
          "coeff-2": "0.2593197097117884"
         },
         {
          "coeff-0": "-3.094887682444426",
          "coeff-1": "0.977490020709976",
          "coeff-2": "0.2593197097117884"
         },
         {
          "coeff-0": "-3.094887682444426",
          "coeff-1": "0.977490020709976",
          "coeff-2": "0.2593197097117884"
         },
         {
          "coeff-0": "-3.094887682444426",
          "coeff-1": "0.977490020709976",
          "coeff-2": "0.2593197097117884"
         },
         {
          "coeff-0": "-3.094887682444426",
          "coeff-1": "0.977490020709976",
          "coeff-2": "0.2593197097117884"
         },
         {
          "coeff-0": "-3.094887682444426",
          "coeff-1": "0.977490020709976",
          "coeff-2": "0.2593197097117884"
         },
         {
          "coeff-0": "-3.094887682444426",
          "coeff-1": "0.977490020709976",
          "coeff-2": "0.2593197097117884"
         },
         {
          "coeff-0": "-3.094887682444426",
          "coeff-1": "0.977490020709976",
          "coeff-2": "0.2593197097117884"
         },
         {
          "coeff-0": "-3.094887682444426",
          "coeff-1": "0.977490020709976",
          "coeff-2": "0.2593197097117884"
         },
         {
          "coeff-0": "-3.094887682444426",
          "coeff-1": "0.977490020709976",
          "coeff-2": "0.2593197097117884"
         },
         {
          "coeff-0": "-3.094887682444426",
          "coeff-1": "0.977490020709976",
          "coeff-2": "0.2593197097117884"
         },
         {
          "coeff-0": "-3.094887682444426",
          "coeff-1": "0.977490020709976",
          "coeff-2": "0.2593197097117884"
         },
         {
          "coeff-0": "-3.094887682444426",
          "coeff-1": "0.977490020709976",
          "coeff-2": "0.2593197097117884"
         },
         {
          "coeff-0": "-3.094887682444426",
          "coeff-1": "0.977490020709976",
          "coeff-2": "0.2593197097117884"
         },
         {
          "coeff-0": "-3.094887682444426",
          "coeff-1": "0.977490020709976",
          "coeff-2": "0.2593197097117884"
         },
         {
          "coeff-0": "-3.094887682444426",
          "coeff-1": "0.977490020709976",
          "coeff-2": "0.2593197097117884"
         },
         {
          "coeff-0": "-3.1487598773898817",
          "coeff-1": "0.9898450361199251",
          "coeff-2": "0.31350310285051614"
         },
         {
          "coeff-0": "-3.1487598773898817",
          "coeff-1": "0.9898450361199251",
          "coeff-2": "0.31350310285051614"
         },
         {
          "coeff-0": "-3.118375237553295",
          "coeff-1": "1.0136541708167928",
          "coeff-2": "0.31580632124247254"
         },
         {
          "coeff-0": "-3.118375237553295",
          "coeff-1": "1.0136541708167928",
          "coeff-2": "0.31580632124247254"
         },
         {
          "coeff-0": "-3.118375237553295",
          "coeff-1": "1.0136541708167928",
          "coeff-2": "0.31580632124247254"
         },
         {
          "coeff-0": "-3.118375237553295",
          "coeff-1": "1.0136541708167928",
          "coeff-2": "0.31580632124247254"
         },
         {
          "coeff-0": "-3.118375237553295",
          "coeff-1": "1.0136541708167928",
          "coeff-2": "0.31580632124247254"
         },
         {
          "coeff-0": "-3.118375237553295",
          "coeff-1": "1.0136541708167928",
          "coeff-2": "0.31580632124247254"
         },
         {
          "coeff-0": "-3.118375237553295",
          "coeff-1": "1.0136541708167928",
          "coeff-2": "0.31580632124247254"
         },
         {
          "coeff-0": "-3.118375237553295",
          "coeff-1": "1.0136541708167928",
          "coeff-2": "0.31580632124247254"
         },
         {
          "coeff-0": "-3.118375237553295",
          "coeff-1": "1.0136541708167928",
          "coeff-2": "0.31580632124247254"
         },
         {
          "coeff-0": "-3.118375237553295",
          "coeff-1": "1.0136541708167928",
          "coeff-2": "0.31580632124247254"
         },
         {
          "coeff-0": "-3.118375237553295",
          "coeff-1": "1.0136541708167928",
          "coeff-2": "0.31580632124247254"
         },
         {
          "coeff-0": "-3.118375237553295",
          "coeff-1": "1.0136541708167928",
          "coeff-2": "0.31580632124247254"
         },
         {
          "coeff-0": "-3.118375237553295",
          "coeff-1": "1.0136541708167928",
          "coeff-2": "0.31580632124247254"
         },
         {
          "coeff-0": "-3.118375237553295",
          "coeff-1": "1.0136541708167928",
          "coeff-2": "0.31580632124247254"
         },
         {
          "coeff-0": "-3.118375237553295",
          "coeff-1": "1.0136541708167928",
          "coeff-2": "0.31580632124247254"
         },
         {
          "coeff-0": "-3.118375237553295",
          "coeff-1": "1.0136541708167928",
          "coeff-2": "0.31580632124247254"
         },
         {
          "coeff-0": "-3.118375237553295",
          "coeff-1": "1.0136541708167928",
          "coeff-2": "0.31580632124247254"
         },
         {
          "coeff-0": "-3.1188311352603435",
          "coeff-1": "1.0155116010474414",
          "coeff-2": "0.36168854928937966"
         },
         {
          "coeff-0": "-3.1188311352603435",
          "coeff-1": "1.0155116010474414",
          "coeff-2": "0.36168854928937966"
         },
         {
          "coeff-0": "-3.1188311352603435",
          "coeff-1": "1.0155116010474414",
          "coeff-2": "0.36168854928937966"
         },
         {
          "coeff-0": "-3.1188311352603435",
          "coeff-1": "1.0155116010474414",
          "coeff-2": "0.36168854928937966"
         },
         {
          "coeff-0": "-3.1188311352603435",
          "coeff-1": "1.0155116010474414",
          "coeff-2": "0.36168854928937966"
         },
         {
          "coeff-0": "-3.1188311352603435",
          "coeff-1": "1.0155116010474414",
          "coeff-2": "0.36168854928937966"
         },
         {
          "coeff-0": "-3.1188311352603435",
          "coeff-1": "1.0155116010474414",
          "coeff-2": "0.36168854928937966"
         },
         {
          "coeff-0": "-3.1188311352603435",
          "coeff-1": "1.0155116010474414",
          "coeff-2": "0.36168854928937966"
         },
         {
          "coeff-0": "-3.1188311352603435",
          "coeff-1": "1.0155116010474414",
          "coeff-2": "0.36168854928937966"
         },
         {
          "coeff-0": "-3.1188311352603435",
          "coeff-1": "1.0155116010474414",
          "coeff-2": "0.36168854928937966"
         },
         {
          "coeff-0": "-3.1188311352603435",
          "coeff-1": "1.0155116010474414",
          "coeff-2": "0.36168854928937966"
         },
         {
          "coeff-0": "-3.1188311352603435",
          "coeff-1": "1.0155116010474414",
          "coeff-2": "0.36168854928937966"
         },
         {
          "coeff-0": "-3.1188311352603435",
          "coeff-1": "1.0155116010474414",
          "coeff-2": "0.36168854928937966"
         },
         {
          "coeff-0": "-3.1188311352603435",
          "coeff-1": "1.0155116010474414",
          "coeff-2": "0.36168854928937966"
         },
         {
          "coeff-0": "-3.1188311352603435",
          "coeff-1": "1.0155116010474414",
          "coeff-2": "0.36168854928937966"
         },
         {
          "coeff-0": "-3.1188311352603435",
          "coeff-1": "1.0155116010474414",
          "coeff-2": "0.36168854928937966"
         },
         {
          "coeff-0": "-3.1188311352603435",
          "coeff-1": "1.0155116010474414",
          "coeff-2": "0.36168854928937966"
         },
         {
          "coeff-0": "-3.1188311352603435",
          "coeff-1": "1.0155116010474414",
          "coeff-2": "0.36168854928937966"
         },
         {
          "coeff-0": "-3.1188311352603435",
          "coeff-1": "1.0155116010474414",
          "coeff-2": "0.36168854928937966"
         },
         {
          "coeff-0": "-3.1188311352603435",
          "coeff-1": "1.0155116010474414",
          "coeff-2": "0.36168854928937966"
         },
         {
          "coeff-0": "-3.1188311352603435",
          "coeff-1": "1.0155116010474414",
          "coeff-2": "0.36168854928937966"
         },
         {
          "coeff-0": "-3.1188311352603435",
          "coeff-1": "1.0155116010474414",
          "coeff-2": "0.36168854928937966"
         },
         {
          "coeff-0": "-3.1188311352603435",
          "coeff-1": "1.0155116010474414",
          "coeff-2": "0.36168854928937966"
         },
         {
          "coeff-0": "-3.1188311352603435",
          "coeff-1": "1.0155116010474414",
          "coeff-2": "0.36168854928937966"
         },
         {
          "coeff-0": "-3.1188311352603435",
          "coeff-1": "1.0155116010474414",
          "coeff-2": "0.36168854928937966"
         },
         {
          "coeff-0": "-3.1188311352603435",
          "coeff-1": "1.0155116010474414",
          "coeff-2": "0.36168854928937966"
         },
         {
          "coeff-0": "-3.112082997092619",
          "coeff-1": "0.9957058458698301",
          "coeff-2": "0.42785259621537075"
         },
         {
          "coeff-0": "-3.112082997092619",
          "coeff-1": "0.9957058458698301",
          "coeff-2": "0.42785259621537075"
         },
         {
          "coeff-0": "-3.112082997092619",
          "coeff-1": "0.9957058458698301",
          "coeff-2": "0.42785259621537075"
         },
         {
          "coeff-0": "-3.112082997092619",
          "coeff-1": "0.9957058458698301",
          "coeff-2": "0.42785259621537075"
         },
         {
          "coeff-0": "-3.112082997092619",
          "coeff-1": "0.9957058458698301",
          "coeff-2": "0.42785259621537075"
         },
         {
          "coeff-0": "-3.112082997092619",
          "coeff-1": "0.9957058458698301",
          "coeff-2": "0.42785259621537075"
         },
         {
          "coeff-0": "-3.112082997092619",
          "coeff-1": "0.9957058458698301",
          "coeff-2": "0.42785259621537075"
         },
         {
          "coeff-0": "-3.125558328769573",
          "coeff-1": "0.9733733060250679",
          "coeff-2": "0.47171208552555444"
         },
         {
          "coeff-0": "-3.125558328769573",
          "coeff-1": "0.9733733060250679",
          "coeff-2": "0.47171208552555444"
         },
         {
          "coeff-0": "-3.125558328769573",
          "coeff-1": "0.9733733060250679",
          "coeff-2": "0.47171208552555444"
         },
         {
          "coeff-0": "-3.125558328769573",
          "coeff-1": "0.9733733060250679",
          "coeff-2": "0.47171208552555444"
         },
         {
          "coeff-0": "-3.125558328769573",
          "coeff-1": "0.9733733060250679",
          "coeff-2": "0.47171208552555444"
         },
         {
          "coeff-0": "-3.125558328769573",
          "coeff-1": "0.9733733060250679",
          "coeff-2": "0.47171208552555444"
         },
         {
          "coeff-0": "-3.125558328769573",
          "coeff-1": "0.9733733060250679",
          "coeff-2": "0.47171208552555444"
         },
         {
          "coeff-0": "-3.125558328769573",
          "coeff-1": "0.9733733060250679",
          "coeff-2": "0.47171208552555444"
         },
         {
          "coeff-0": "-3.125558328769573",
          "coeff-1": "0.9733733060250679",
          "coeff-2": "0.47171208552555444"
         },
         {
          "coeff-0": "-3.125558328769573",
          "coeff-1": "0.9733733060250679",
          "coeff-2": "0.47171208552555444"
         },
         {
          "coeff-0": "-3.125558328769573",
          "coeff-1": "0.9733733060250679",
          "coeff-2": "0.47171208552555444"
         },
         {
          "coeff-0": "-3.125558328769573",
          "coeff-1": "0.9733733060250679",
          "coeff-2": "0.47171208552555444"
         },
         {
          "coeff-0": "-3.125558328769573",
          "coeff-1": "0.9733733060250679",
          "coeff-2": "0.47171208552555444"
         },
         {
          "coeff-0": "-3.125558328769573",
          "coeff-1": "0.9733733060250679",
          "coeff-2": "0.47171208552555444"
         },
         {
          "coeff-0": "-3.125558328769573",
          "coeff-1": "0.9733733060250679",
          "coeff-2": "0.47171208552555444"
         },
         {
          "coeff-0": "-3.125558328769573",
          "coeff-1": "0.9733733060250679",
          "coeff-2": "0.47171208552555444"
         },
         {
          "coeff-0": "-3.125558328769573",
          "coeff-1": "0.9733733060250679",
          "coeff-2": "0.47171208552555444"
         },
         {
          "coeff-0": "-3.125558328769573",
          "coeff-1": "0.9733733060250679",
          "coeff-2": "0.47171208552555444"
         },
         {
          "coeff-0": "-3.125558328769573",
          "coeff-1": "0.9733733060250679",
          "coeff-2": "0.47171208552555444"
         },
         {
          "coeff-0": "-3.125558328769573",
          "coeff-1": "0.9733733060250679",
          "coeff-2": "0.47171208552555444"
         },
         {
          "coeff-0": "-3.125558328769573",
          "coeff-1": "0.9733733060250679",
          "coeff-2": "0.47171208552555444"
         },
         {
          "coeff-0": "-3.125558328769573",
          "coeff-1": "0.9733733060250679",
          "coeff-2": "0.47171208552555444"
         },
         {
          "coeff-0": "-3.125558328769573",
          "coeff-1": "0.9733733060250679",
          "coeff-2": "0.47171208552555444"
         },
         {
          "coeff-0": "-3.125558328769573",
          "coeff-1": "0.9733733060250679",
          "coeff-2": "0.47171208552555444"
         },
         {
          "coeff-0": "-3.125558328769573",
          "coeff-1": "0.9733733060250679",
          "coeff-2": "0.47171208552555444"
         },
         {
          "coeff-0": "-3.125558328769573",
          "coeff-1": "0.9733733060250679",
          "coeff-2": "0.47171208552555444"
         },
         {
          "coeff-0": "-3.125558328769573",
          "coeff-1": "0.9733733060250679",
          "coeff-2": "0.47171208552555444"
         },
         {
          "coeff-0": "-3.125558328769573",
          "coeff-1": "0.9733733060250679",
          "coeff-2": "0.47171208552555444"
         },
         {
          "coeff-0": "-3.125558328769573",
          "coeff-1": "0.9733733060250679",
          "coeff-2": "0.47171208552555444"
         },
         {
          "coeff-0": "-3.200240676571031",
          "coeff-1": "0.978949363903352",
          "coeff-2": "0.5067056261397249"
         },
         {
          "coeff-0": "-3.200240676571031",
          "coeff-1": "0.978949363903352",
          "coeff-2": "0.5067056261397249"
         },
         {
          "coeff-0": "-3.200240676571031",
          "coeff-1": "0.978949363903352",
          "coeff-2": "0.5067056261397249"
         },
         {
          "coeff-0": "-3.200240676571031",
          "coeff-1": "0.978949363903352",
          "coeff-2": "0.5067056261397249"
         },
         {
          "coeff-0": "-3.200240676571031",
          "coeff-1": "0.978949363903352",
          "coeff-2": "0.5067056261397249"
         },
         {
          "coeff-0": "-3.200240676571031",
          "coeff-1": "0.978949363903352",
          "coeff-2": "0.5067056261397249"
         },
         {
          "coeff-0": "-3.200240676571031",
          "coeff-1": "0.978949363903352",
          "coeff-2": "0.5067056261397249"
         },
         {
          "coeff-0": "-3.200240676571031",
          "coeff-1": "0.978949363903352",
          "coeff-2": "0.5067056261397249"
         },
         {
          "coeff-0": "-3.200240676571031",
          "coeff-1": "0.978949363903352",
          "coeff-2": "0.5067056261397249"
         },
         {
          "coeff-0": "-3.200240676571031",
          "coeff-1": "0.978949363903352",
          "coeff-2": "0.5067056261397249"
         },
         {
          "coeff-0": "-3.200240676571031",
          "coeff-1": "0.978949363903352",
          "coeff-2": "0.5067056261397249"
         },
         {
          "coeff-0": "-3.200240676571031",
          "coeff-1": "0.978949363903352",
          "coeff-2": "0.5067056261397249"
         },
         {
          "coeff-0": "-3.200240676571031",
          "coeff-1": "0.978949363903352",
          "coeff-2": "0.5067056261397249"
         },
         {
          "coeff-0": "-3.200240676571031",
          "coeff-1": "0.978949363903352",
          "coeff-2": "0.5067056261397249"
         },
         {
          "coeff-0": "-3.200240676571031",
          "coeff-1": "0.978949363903352",
          "coeff-2": "0.5067056261397249"
         },
         {
          "coeff-0": "-3.200240676571031",
          "coeff-1": "0.978949363903352",
          "coeff-2": "0.5067056261397249"
         },
         {
          "coeff-0": "-3.200240676571031",
          "coeff-1": "0.978949363903352",
          "coeff-2": "0.5067056261397249"
         },
         {
          "coeff-0": "-3.200240676571031",
          "coeff-1": "0.978949363903352",
          "coeff-2": "0.5067056261397249"
         },
         {
          "coeff-0": "-3.200240676571031",
          "coeff-1": "0.978949363903352",
          "coeff-2": "0.5067056261397249"
         },
         {
          "coeff-0": "-3.200240676571031",
          "coeff-1": "0.978949363903352",
          "coeff-2": "0.5067056261397249"
         },
         {
          "coeff-0": "-3.200240676571031",
          "coeff-1": "0.978949363903352",
          "coeff-2": "0.5067056261397249"
         },
         {
          "coeff-0": "-3.200240676571031",
          "coeff-1": "0.978949363903352",
          "coeff-2": "0.5067056261397249"
         },
         {
          "coeff-0": "-3.200240676571031",
          "coeff-1": "0.978949363903352",
          "coeff-2": "0.5067056261397249"
         },
         {
          "coeff-0": "-3.200240676571031",
          "coeff-1": "0.978949363903352",
          "coeff-2": "0.5067056261397249"
         },
         {
          "coeff-0": "-3.200240676571031",
          "coeff-1": "0.978949363903352",
          "coeff-2": "0.5067056261397249"
         },
         {
          "coeff-0": "-3.200240676571031",
          "coeff-1": "0.978949363903352",
          "coeff-2": "0.5067056261397249"
         },
         {
          "coeff-0": "-3.200240676571031",
          "coeff-1": "0.978949363903352",
          "coeff-2": "0.5067056261397249"
         },
         {
          "coeff-0": "-3.200240676571031",
          "coeff-1": "0.978949363903352",
          "coeff-2": "0.5067056261397249"
         },
         {
          "coeff-0": "-3.200240676571031",
          "coeff-1": "0.978949363903352",
          "coeff-2": "0.5067056261397249"
         },
         {
          "coeff-0": "-3.200240676571031",
          "coeff-1": "0.978949363903352",
          "coeff-2": "0.5067056261397249"
         },
         {
          "coeff-0": "-3.200240676571031",
          "coeff-1": "0.978949363903352",
          "coeff-2": "0.5067056261397249"
         },
         {
          "coeff-0": "-3.2242087139572924",
          "coeff-1": "0.9147948395378355",
          "coeff-2": "0.5605319481938267"
         },
         {
          "coeff-0": "-3.2242087139572924",
          "coeff-1": "0.9147948395378355",
          "coeff-2": "0.5605319481938267"
         },
         {
          "coeff-0": "-3.2242087139572924",
          "coeff-1": "0.9147948395378355",
          "coeff-2": "0.5605319481938267"
         },
         {
          "coeff-0": "-3.2242087139572924",
          "coeff-1": "0.9147948395378355",
          "coeff-2": "0.5605319481938267"
         },
         {
          "coeff-0": "-3.2242087139572924",
          "coeff-1": "0.9147948395378355",
          "coeff-2": "0.5605319481938267"
         },
         {
          "coeff-0": "-3.2242087139572924",
          "coeff-1": "0.9147948395378355",
          "coeff-2": "0.5605319481938267"
         },
         {
          "coeff-0": "-3.2242087139572924",
          "coeff-1": "0.9147948395378355",
          "coeff-2": "0.5605319481938267"
         },
         {
          "coeff-0": "-3.2242087139572924",
          "coeff-1": "0.9147948395378355",
          "coeff-2": "0.5605319481938267"
         },
         {
          "coeff-0": "-3.2242087139572924",
          "coeff-1": "0.9147948395378355",
          "coeff-2": "0.5605319481938267"
         },
         {
          "coeff-0": "-3.2242087139572924",
          "coeff-1": "0.9147948395378355",
          "coeff-2": "0.5605319481938267"
         },
         {
          "coeff-0": "-3.2242087139572924",
          "coeff-1": "0.9147948395378355",
          "coeff-2": "0.5605319481938267"
         },
         {
          "coeff-0": "-3.2242087139572924",
          "coeff-1": "0.9147948395378355",
          "coeff-2": "0.5605319481938267"
         },
         {
          "coeff-0": "-3.2242087139572924",
          "coeff-1": "0.9147948395378355",
          "coeff-2": "0.5605319481938267"
         },
         {
          "coeff-0": "-3.2242087139572924",
          "coeff-1": "0.9147948395378355",
          "coeff-2": "0.5605319481938267"
         },
         {
          "coeff-0": "-3.2242087139572924",
          "coeff-1": "0.9147948395378355",
          "coeff-2": "0.5605319481938267"
         },
         {
          "coeff-0": "-3.2666273276430426",
          "coeff-1": "0.9261937543155118",
          "coeff-2": "0.5111757802177894"
         },
         {
          "coeff-0": "-3.2666273276430426",
          "coeff-1": "0.9261937543155118",
          "coeff-2": "0.5111757802177894"
         },
         {
          "coeff-0": "-3.2666273276430426",
          "coeff-1": "0.9261937543155118",
          "coeff-2": "0.5111757802177894"
         },
         {
          "coeff-0": "-3.2666273276430426",
          "coeff-1": "0.9261937543155118",
          "coeff-2": "0.5111757802177894"
         },
         {
          "coeff-0": "-3.2666273276430426",
          "coeff-1": "0.9261937543155118",
          "coeff-2": "0.5111757802177894"
         },
         {
          "coeff-0": "-3.2666273276430426",
          "coeff-1": "0.9261937543155118",
          "coeff-2": "0.5111757802177894"
         },
         {
          "coeff-0": "-3.2666273276430426",
          "coeff-1": "0.9261937543155118",
          "coeff-2": "0.5111757802177894"
         },
         {
          "coeff-0": "-3.2666273276430426",
          "coeff-1": "0.9261937543155118",
          "coeff-2": "0.5111757802177894"
         },
         {
          "coeff-0": "-3.2666273276430426",
          "coeff-1": "0.9261937543155118",
          "coeff-2": "0.5111757802177894"
         },
         {
          "coeff-0": "-3.2666273276430426",
          "coeff-1": "0.9261937543155118",
          "coeff-2": "0.5111757802177894"
         },
         {
          "coeff-0": "-3.2666273276430426",
          "coeff-1": "0.9261937543155118",
          "coeff-2": "0.5111757802177894"
         },
         {
          "coeff-0": "-3.2666273276430426",
          "coeff-1": "0.9261937543155118",
          "coeff-2": "0.5111757802177894"
         },
         {
          "coeff-0": "-3.2666273276430426",
          "coeff-1": "0.9261937543155118",
          "coeff-2": "0.5111757802177894"
         },
         {
          "coeff-0": "-3.2193877215455697",
          "coeff-1": "0.9628888241728423",
          "coeff-2": "0.4428477070526464"
         },
         {
          "coeff-0": "-3.2193877215455697",
          "coeff-1": "0.9628888241728423",
          "coeff-2": "0.4428477070526464"
         },
         {
          "coeff-0": "-3.2193877215455697",
          "coeff-1": "0.9628888241728423",
          "coeff-2": "0.4428477070526464"
         },
         {
          "coeff-0": "-3.2193877215455697",
          "coeff-1": "0.9628888241728423",
          "coeff-2": "0.4428477070526464"
         },
         {
          "coeff-0": "-3.2193877215455697",
          "coeff-1": "0.9628888241728423",
          "coeff-2": "0.4428477070526464"
         },
         {
          "coeff-0": "-3.2193877215455697",
          "coeff-1": "0.9628888241728423",
          "coeff-2": "0.4428477070526464"
         },
         {
          "coeff-0": "-3.2193877215455697",
          "coeff-1": "0.9628888241728423",
          "coeff-2": "0.4428477070526464"
         },
         {
          "coeff-0": "-3.2193877215455697",
          "coeff-1": "0.9628888241728423",
          "coeff-2": "0.4428477070526464"
         },
         {
          "coeff-0": "-3.2463580475573797",
          "coeff-1": "0.9933988334851874",
          "coeff-2": "0.4994104892918166"
         },
         {
          "coeff-0": "-3.2463580475573797",
          "coeff-1": "0.9933988334851874",
          "coeff-2": "0.4994104892918166"
         },
         {
          "coeff-0": "-3.2463580475573797",
          "coeff-1": "0.9933988334851874",
          "coeff-2": "0.4994104892918166"
         },
         {
          "coeff-0": "-3.2463580475573797",
          "coeff-1": "0.9933988334851874",
          "coeff-2": "0.4994104892918166"
         },
         {
          "coeff-0": "-3.2463580475573797",
          "coeff-1": "0.9933988334851874",
          "coeff-2": "0.4994104892918166"
         },
         {
          "coeff-0": "-3.2463580475573797",
          "coeff-1": "0.9933988334851874",
          "coeff-2": "0.4994104892918166"
         },
         {
          "coeff-0": "-3.2463580475573797",
          "coeff-1": "0.9933988334851874",
          "coeff-2": "0.4994104892918166"
         },
         {
          "coeff-0": "-3.2463580475573797",
          "coeff-1": "0.9933988334851874",
          "coeff-2": "0.4994104892918166"
         },
         {
          "coeff-0": "-3.2463580475573797",
          "coeff-1": "0.9933988334851874",
          "coeff-2": "0.4994104892918166"
         },
         {
          "coeff-0": "-3.2463580475573797",
          "coeff-1": "0.9933988334851874",
          "coeff-2": "0.4994104892918166"
         },
         {
          "coeff-0": "-3.2463580475573797",
          "coeff-1": "0.9933988334851874",
          "coeff-2": "0.4994104892918166"
         },
         {
          "coeff-0": "-3.2463580475573797",
          "coeff-1": "0.9933988334851874",
          "coeff-2": "0.4994104892918166"
         },
         {
          "coeff-0": "-3.2463580475573797",
          "coeff-1": "0.9933988334851874",
          "coeff-2": "0.4994104892918166"
         },
         {
          "coeff-0": "-3.2463580475573797",
          "coeff-1": "0.9933988334851874",
          "coeff-2": "0.4994104892918166"
         },
         {
          "coeff-0": "-3.2463580475573797",
          "coeff-1": "0.9933988334851874",
          "coeff-2": "0.4994104892918166"
         },
         {
          "coeff-0": "-3.2463580475573797",
          "coeff-1": "0.9933988334851874",
          "coeff-2": "0.4994104892918166"
         },
         {
          "coeff-0": "-3.2463580475573797",
          "coeff-1": "0.9933988334851874",
          "coeff-2": "0.4994104892918166"
         },
         {
          "coeff-0": "-3.2463580475573797",
          "coeff-1": "0.9933988334851874",
          "coeff-2": "0.4994104892918166"
         },
         {
          "coeff-0": "-3.2463580475573797",
          "coeff-1": "0.9933988334851874",
          "coeff-2": "0.4994104892918166"
         },
         {
          "coeff-0": "-3.2463580475573797",
          "coeff-1": "0.9933988334851874",
          "coeff-2": "0.4994104892918166"
         },
         {
          "coeff-0": "-3.2463580475573797",
          "coeff-1": "0.9933988334851874",
          "coeff-2": "0.4994104892918166"
         },
         {
          "coeff-0": "-3.2463580475573797",
          "coeff-1": "0.9933988334851874",
          "coeff-2": "0.4994104892918166"
         },
         {
          "coeff-0": "-3.2463580475573797",
          "coeff-1": "0.9933988334851874",
          "coeff-2": "0.4994104892918166"
         },
         {
          "coeff-0": "-3.2463580475573797",
          "coeff-1": "0.9933988334851874",
          "coeff-2": "0.4994104892918166"
         },
         {
          "coeff-0": "-3.2463580475573797",
          "coeff-1": "0.9933988334851874",
          "coeff-2": "0.4994104892918166"
         },
         {
          "coeff-0": "-3.2463580475573797",
          "coeff-1": "0.9933988334851874",
          "coeff-2": "0.4994104892918166"
         },
         {
          "coeff-0": "-3.2463580475573797",
          "coeff-1": "0.9933988334851874",
          "coeff-2": "0.4994104892918166"
         },
         {
          "coeff-0": "-3.2463580475573797",
          "coeff-1": "0.9933988334851874",
          "coeff-2": "0.4994104892918166"
         },
         {
          "coeff-0": "-3.2463580475573797",
          "coeff-1": "0.9933988334851874",
          "coeff-2": "0.4994104892918166"
         },
         {
          "coeff-0": "-3.2463580475573797",
          "coeff-1": "0.9933988334851874",
          "coeff-2": "0.4994104892918166"
         },
         {
          "coeff-0": "-3.2463580475573797",
          "coeff-1": "0.9933988334851874",
          "coeff-2": "0.4994104892918166"
         },
         {
          "coeff-0": "-3.2263165337344604",
          "coeff-1": "0.9717086343674568",
          "coeff-2": "0.4634913848203275"
         },
         {
          "coeff-0": "-3.2263165337344604",
          "coeff-1": "0.9717086343674568",
          "coeff-2": "0.4634913848203275"
         },
         {
          "coeff-0": "-3.2263165337344604",
          "coeff-1": "0.9717086343674568",
          "coeff-2": "0.4634913848203275"
         },
         {
          "coeff-0": "-3.2263165337344604",
          "coeff-1": "0.9717086343674568",
          "coeff-2": "0.4634913848203275"
         },
         {
          "coeff-0": "-3.2263165337344604",
          "coeff-1": "0.9717086343674568",
          "coeff-2": "0.4634913848203275"
         },
         {
          "coeff-0": "-3.2263165337344604",
          "coeff-1": "0.9717086343674568",
          "coeff-2": "0.4634913848203275"
         },
         {
          "coeff-0": "-3.2263165337344604",
          "coeff-1": "0.9717086343674568",
          "coeff-2": "0.4634913848203275"
         },
         {
          "coeff-0": "-3.2263165337344604",
          "coeff-1": "0.9717086343674568",
          "coeff-2": "0.4634913848203275"
         },
         {
          "coeff-0": "-3.2263165337344604",
          "coeff-1": "0.9717086343674568",
          "coeff-2": "0.4634913848203275"
         },
         {
          "coeff-0": "-3.2263165337344604",
          "coeff-1": "0.9717086343674568",
          "coeff-2": "0.4634913848203275"
         },
         {
          "coeff-0": "-3.2263165337344604",
          "coeff-1": "0.9717086343674568",
          "coeff-2": "0.4634913848203275"
         },
         {
          "coeff-0": "-3.2263165337344604",
          "coeff-1": "0.9717086343674568",
          "coeff-2": "0.4634913848203275"
         },
         {
          "coeff-0": "-3.2263165337344604",
          "coeff-1": "0.9717086343674568",
          "coeff-2": "0.4634913848203275"
         },
         {
          "coeff-0": "-3.2263165337344604",
          "coeff-1": "0.9717086343674568",
          "coeff-2": "0.4634913848203275"
         },
         {
          "coeff-0": "-3.2263165337344604",
          "coeff-1": "0.9717086343674568",
          "coeff-2": "0.4634913848203275"
         },
         {
          "coeff-0": "-3.2263165337344604",
          "coeff-1": "0.9717086343674568",
          "coeff-2": "0.4634913848203275"
         },
         {
          "coeff-0": "-3.2263165337344604",
          "coeff-1": "0.9717086343674568",
          "coeff-2": "0.4634913848203275"
         },
         {
          "coeff-0": "-3.2263165337344604",
          "coeff-1": "0.9717086343674568",
          "coeff-2": "0.4634913848203275"
         },
         {
          "coeff-0": "-3.2263165337344604",
          "coeff-1": "0.9717086343674568",
          "coeff-2": "0.4634913848203275"
         },
         {
          "coeff-0": "-3.2263165337344604",
          "coeff-1": "0.9717086343674568",
          "coeff-2": "0.4634913848203275"
         },
         {
          "coeff-0": "-3.2263165337344604",
          "coeff-1": "0.9717086343674568",
          "coeff-2": "0.4634913848203275"
         },
         {
          "coeff-0": "-3.2263165337344604",
          "coeff-1": "0.9717086343674568",
          "coeff-2": "0.4634913848203275"
         },
         {
          "coeff-0": "-3.2263165337344604",
          "coeff-1": "0.9717086343674568",
          "coeff-2": "0.4634913848203275"
         },
         {
          "coeff-0": "-3.2263165337344604",
          "coeff-1": "0.9717086343674568",
          "coeff-2": "0.4634913848203275"
         },
         {
          "coeff-0": "-3.2263165337344604",
          "coeff-1": "0.9717086343674568",
          "coeff-2": "0.4634913848203275"
         },
         {
          "coeff-0": "-3.2263165337344604",
          "coeff-1": "0.9717086343674568",
          "coeff-2": "0.4634913848203275"
         },
         {
          "coeff-0": "-3.2263165337344604",
          "coeff-1": "0.9717086343674568",
          "coeff-2": "0.4634913848203275"
         },
         {
          "coeff-0": "-3.2263165337344604",
          "coeff-1": "0.9717086343674568",
          "coeff-2": "0.4634913848203275"
         },
         {
          "coeff-0": "-3.2263165337344604",
          "coeff-1": "0.9717086343674568",
          "coeff-2": "0.4634913848203275"
         },
         {
          "coeff-0": "-3.2263165337344604",
          "coeff-1": "0.9717086343674568",
          "coeff-2": "0.4634913848203275"
         },
         {
          "coeff-0": "-3.2263165337344604",
          "coeff-1": "0.9717086343674568",
          "coeff-2": "0.4634913848203275"
         },
         {
          "coeff-0": "-3.2263165337344604",
          "coeff-1": "0.9717086343674568",
          "coeff-2": "0.4634913848203275"
         },
         {
          "coeff-0": "-3.2263165337344604",
          "coeff-1": "0.9717086343674568",
          "coeff-2": "0.4634913848203275"
         },
         {
          "coeff-0": "-3.2263165337344604",
          "coeff-1": "0.9717086343674568",
          "coeff-2": "0.4634913848203275"
         },
         {
          "coeff-0": "-3.2263165337344604",
          "coeff-1": "0.9717086343674568",
          "coeff-2": "0.4634913848203275"
         },
         {
          "coeff-0": "-3.2263165337344604",
          "coeff-1": "0.9717086343674568",
          "coeff-2": "0.4634913848203275"
         },
         {
          "coeff-0": "-3.2263165337344604",
          "coeff-1": "0.9717086343674568",
          "coeff-2": "0.4634913848203275"
         },
         {
          "coeff-0": "-3.2263165337344604",
          "coeff-1": "0.9717086343674568",
          "coeff-2": "0.4634913848203275"
         },
         {
          "coeff-0": "-3.2263165337344604",
          "coeff-1": "0.9717086343674568",
          "coeff-2": "0.4634913848203275"
         },
         {
          "coeff-0": "-3.2263165337344604",
          "coeff-1": "0.9717086343674568",
          "coeff-2": "0.4634913848203275"
         },
         {
          "coeff-0": "-3.2263165337344604",
          "coeff-1": "0.9717086343674568",
          "coeff-2": "0.4634913848203275"
         },
         {
          "coeff-0": "-3.2263165337344604",
          "coeff-1": "0.9717086343674568",
          "coeff-2": "0.4634913848203275"
         },
         {
          "coeff-0": "-3.2263165337344604",
          "coeff-1": "0.9717086343674568",
          "coeff-2": "0.4634913848203275"
         },
         {
          "coeff-0": "-3.2263165337344604",
          "coeff-1": "0.9717086343674568",
          "coeff-2": "0.4634913848203275"
         },
         {
          "coeff-0": "-3.2263165337344604",
          "coeff-1": "0.9717086343674568",
          "coeff-2": "0.4634913848203275"
         },
         {
          "coeff-0": "-3.2263165337344604",
          "coeff-1": "0.9717086343674568",
          "coeff-2": "0.4634913848203275"
         },
         {
          "coeff-0": "-3.2263165337344604",
          "coeff-1": "0.9717086343674568",
          "coeff-2": "0.4634913848203275"
         },
         {
          "coeff-0": "-3.2263165337344604",
          "coeff-1": "0.9717086343674568",
          "coeff-2": "0.4634913848203275"
         },
         {
          "coeff-0": "-3.2263165337344604",
          "coeff-1": "0.9717086343674568",
          "coeff-2": "0.4634913848203275"
         },
         {
          "coeff-0": "-3.2263165337344604",
          "coeff-1": "0.9717086343674568",
          "coeff-2": "0.4634913848203275"
         },
         {
          "coeff-0": "-3.2263165337344604",
          "coeff-1": "0.9717086343674568",
          "coeff-2": "0.4634913848203275"
         },
         {
          "coeff-0": "-3.2263165337344604",
          "coeff-1": "0.9717086343674568",
          "coeff-2": "0.4634913848203275"
         },
         {
          "coeff-0": "-3.2263165337344604",
          "coeff-1": "0.9717086343674568",
          "coeff-2": "0.4634913848203275"
         },
         {
          "coeff-0": "-3.2263165337344604",
          "coeff-1": "0.9717086343674568",
          "coeff-2": "0.4634913848203275"
         },
         {
          "coeff-0": "-3.2263165337344604",
          "coeff-1": "0.9717086343674568",
          "coeff-2": "0.4634913848203275"
         },
         {
          "coeff-0": "-3.2263165337344604",
          "coeff-1": "0.9717086343674568",
          "coeff-2": "0.4634913848203275"
         },
         {
          "coeff-0": "-3.2263165337344604",
          "coeff-1": "0.9717086343674568",
          "coeff-2": "0.4634913848203275"
         },
         {
          "coeff-0": "-3.2263165337344604",
          "coeff-1": "0.9717086343674568",
          "coeff-2": "0.4634913848203275"
         },
         {
          "coeff-0": "-3.2263165337344604",
          "coeff-1": "0.9717086343674568",
          "coeff-2": "0.4634913848203275"
         },
         {
          "coeff-0": "-3.2263165337344604",
          "coeff-1": "0.9717086343674568",
          "coeff-2": "0.4634913848203275"
         },
         {
          "coeff-0": "-3.2263165337344604",
          "coeff-1": "0.9717086343674568",
          "coeff-2": "0.4634913848203275"
         },
         {
          "coeff-0": "-3.2263165337344604",
          "coeff-1": "0.9717086343674568",
          "coeff-2": "0.4634913848203275"
         },
         {
          "coeff-0": "-3.2263165337344604",
          "coeff-1": "0.9717086343674568",
          "coeff-2": "0.4634913848203275"
         },
         {
          "coeff-0": "-3.2263165337344604",
          "coeff-1": "0.9717086343674568",
          "coeff-2": "0.4634913848203275"
         },
         {
          "coeff-0": "-3.2263165337344604",
          "coeff-1": "0.9717086343674568",
          "coeff-2": "0.4634913848203275"
         },
         {
          "coeff-0": "-3.2263165337344604",
          "coeff-1": "0.9717086343674568",
          "coeff-2": "0.4634913848203275"
         },
         {
          "coeff-0": "-3.2263165337344604",
          "coeff-1": "0.9717086343674568",
          "coeff-2": "0.4634913848203275"
         },
         {
          "coeff-0": "-3.2263165337344604",
          "coeff-1": "0.9717086343674568",
          "coeff-2": "0.4634913848203275"
         },
         {
          "coeff-0": "-3.2263165337344604",
          "coeff-1": "0.9717086343674568",
          "coeff-2": "0.4634913848203275"
         },
         {
          "coeff-0": "-3.2263165337344604",
          "coeff-1": "0.9717086343674568",
          "coeff-2": "0.4634913848203275"
         },
         {
          "coeff-0": "-3.2263165337344604",
          "coeff-1": "0.9717086343674568",
          "coeff-2": "0.4634913848203275"
         },
         {
          "coeff-0": "-3.2263165337344604",
          "coeff-1": "0.9717086343674568",
          "coeff-2": "0.4634913848203275"
         },
         {
          "coeff-0": "-3.2263165337344604",
          "coeff-1": "0.9717086343674568",
          "coeff-2": "0.4634913848203275"
         },
         {
          "coeff-0": "-3.2263165337344604",
          "coeff-1": "0.9717086343674568",
          "coeff-2": "0.4634913848203275"
         },
         {
          "coeff-0": "-3.2263165337344604",
          "coeff-1": "0.9717086343674568",
          "coeff-2": "0.4634913848203275"
         },
         {
          "coeff-0": "-3.2263165337344604",
          "coeff-1": "0.9717086343674568",
          "coeff-2": "0.4634913848203275"
         },
         {
          "coeff-0": "-3.2263165337344604",
          "coeff-1": "0.9717086343674568",
          "coeff-2": "0.4634913848203275"
         },
         {
          "coeff-0": "-3.2263165337344604",
          "coeff-1": "0.9717086343674568",
          "coeff-2": "0.4634913848203275"
         },
         {
          "coeff-0": "-3.2263165337344604",
          "coeff-1": "0.9717086343674568",
          "coeff-2": "0.4634913848203275"
         },
         {
          "coeff-0": "-3.2263165337344604",
          "coeff-1": "0.9717086343674568",
          "coeff-2": "0.4634913848203275"
         },
         {
          "coeff-0": "-3.2263165337344604",
          "coeff-1": "0.9717086343674568",
          "coeff-2": "0.4634913848203275"
         },
         {
          "coeff-0": "-3.2263165337344604",
          "coeff-1": "0.9717086343674568",
          "coeff-2": "0.4634913848203275"
         },
         {
          "coeff-0": "-3.2263165337344604",
          "coeff-1": "0.9717086343674568",
          "coeff-2": "0.4634913848203275"
         },
         {
          "coeff-0": "-3.2263165337344604",
          "coeff-1": "0.9717086343674568",
          "coeff-2": "0.4634913848203275"
         },
         {
          "coeff-0": "-3.2263165337344604",
          "coeff-1": "0.9717086343674568",
          "coeff-2": "0.4634913848203275"
         },
         {
          "coeff-0": "-3.2263165337344604",
          "coeff-1": "0.9717086343674568",
          "coeff-2": "0.4634913848203275"
         },
         {
          "coeff-0": "-3.2263165337344604",
          "coeff-1": "0.9717086343674568",
          "coeff-2": "0.4634913848203275"
         },
         {
          "coeff-0": "-3.2263165337344604",
          "coeff-1": "0.9717086343674568",
          "coeff-2": "0.4634913848203275"
         },
         {
          "coeff-0": "-3.2263165337344604",
          "coeff-1": "0.9717086343674568",
          "coeff-2": "0.4634913848203275"
         },
         {
          "coeff-0": "-3.2263165337344604",
          "coeff-1": "0.9717086343674568",
          "coeff-2": "0.4634913848203275"
         },
         {
          "coeff-0": "-3.2263165337344604",
          "coeff-1": "0.9717086343674568",
          "coeff-2": "0.4634913848203275"
         },
         {
          "coeff-0": "-3.2263165337344604",
          "coeff-1": "0.9717086343674568",
          "coeff-2": "0.4634913848203275"
         },
         {
          "coeff-0": "-3.2263165337344604",
          "coeff-1": "0.9717086343674568",
          "coeff-2": "0.4634913848203275"
         },
         {
          "coeff-0": "-3.2263165337344604",
          "coeff-1": "0.9717086343674568",
          "coeff-2": "0.4634913848203275"
         },
         {
          "coeff-0": "-3.2263165337344604",
          "coeff-1": "0.9717086343674568",
          "coeff-2": "0.4634913848203275"
         },
         {
          "coeff-0": "-3.2263165337344604",
          "coeff-1": "0.9717086343674568",
          "coeff-2": "0.4634913848203275"
         },
         {
          "coeff-0": "-3.2263165337344604",
          "coeff-1": "0.9717086343674568",
          "coeff-2": "0.4634913848203275"
         },
         {
          "coeff-0": "-3.2263165337344604",
          "coeff-1": "0.9717086343674568",
          "coeff-2": "0.4634913848203275"
         },
         {
          "coeff-0": "-3.2263165337344604",
          "coeff-1": "0.9717086343674568",
          "coeff-2": "0.4634913848203275"
         },
         {
          "coeff-0": "-3.2263165337344604",
          "coeff-1": "0.9717086343674568",
          "coeff-2": "0.4634913848203275"
         },
         {
          "coeff-0": "-3.2263165337344604",
          "coeff-1": "0.9717086343674568",
          "coeff-2": "0.4634913848203275"
         },
         {
          "coeff-0": "-3.2263165337344604",
          "coeff-1": "0.9717086343674568",
          "coeff-2": "0.4634913848203275"
         },
         {
          "coeff-0": "-3.2263165337344604",
          "coeff-1": "0.9717086343674568",
          "coeff-2": "0.4634913848203275"
         },
         {
          "coeff-0": "-3.2263165337344604",
          "coeff-1": "0.9717086343674568",
          "coeff-2": "0.4634913848203275"
         },
         {
          "coeff-0": "-3.2263165337344604",
          "coeff-1": "0.9717086343674568",
          "coeff-2": "0.4634913848203275"
         },
         {
          "coeff-0": "-3.2263165337344604",
          "coeff-1": "0.9717086343674568",
          "coeff-2": "0.4634913848203275"
         },
         {
          "coeff-0": "-3.2263165337344604",
          "coeff-1": "0.9717086343674568",
          "coeff-2": "0.4634913848203275"
         },
         {
          "coeff-0": "-3.2263165337344604",
          "coeff-1": "0.9717086343674568",
          "coeff-2": "0.4634913848203275"
         },
         {
          "coeff-0": "-3.2263165337344604",
          "coeff-1": "0.9717086343674568",
          "coeff-2": "0.4634913848203275"
         },
         {
          "coeff-0": "-3.2014677683516966",
          "coeff-1": "0.9845112143753256",
          "coeff-2": "0.517513681194255"
         },
         {
          "coeff-0": "-3.2014677683516966",
          "coeff-1": "0.9845112143753256",
          "coeff-2": "0.517513681194255"
         },
         {
          "coeff-0": "-3.2014677683516966",
          "coeff-1": "0.9845112143753256",
          "coeff-2": "0.517513681194255"
         },
         {
          "coeff-0": "-3.2014677683516966",
          "coeff-1": "0.9845112143753256",
          "coeff-2": "0.517513681194255"
         },
         {
          "coeff-0": "-3.2014677683516966",
          "coeff-1": "0.9845112143753256",
          "coeff-2": "0.517513681194255"
         },
         {
          "coeff-0": "-3.2014677683516966",
          "coeff-1": "0.9845112143753256",
          "coeff-2": "0.517513681194255"
         },
         {
          "coeff-0": "-3.2014677683516966",
          "coeff-1": "0.9845112143753256",
          "coeff-2": "0.517513681194255"
         },
         {
          "coeff-0": "-3.2065027976998115",
          "coeff-1": "1.0115361735268096",
          "coeff-2": "0.5071289444724053"
         },
         {
          "coeff-0": "-3.2065027976998115",
          "coeff-1": "1.0115361735268096",
          "coeff-2": "0.5071289444724053"
         },
         {
          "coeff-0": "-3.2065027976998115",
          "coeff-1": "1.0115361735268096",
          "coeff-2": "0.5071289444724053"
         },
         {
          "coeff-0": "-3.2065027976998115",
          "coeff-1": "1.0115361735268096",
          "coeff-2": "0.5071289444724053"
         },
         {
          "coeff-0": "-3.2065027976998115",
          "coeff-1": "1.0115361735268096",
          "coeff-2": "0.5071289444724053"
         },
         {
          "coeff-0": "-3.2065027976998115",
          "coeff-1": "1.0115361735268096",
          "coeff-2": "0.5071289444724053"
         },
         {
          "coeff-0": "-3.2065027976998115",
          "coeff-1": "1.0115361735268096",
          "coeff-2": "0.5071289444724053"
         },
         {
          "coeff-0": "-3.2065027976998115",
          "coeff-1": "1.0115361735268096",
          "coeff-2": "0.5071289444724053"
         },
         {
          "coeff-0": "-3.2065027976998115",
          "coeff-1": "1.0115361735268096",
          "coeff-2": "0.5071289444724053"
         },
         {
          "coeff-0": "-3.2065027976998115",
          "coeff-1": "1.0115361735268096",
          "coeff-2": "0.5071289444724053"
         },
         {
          "coeff-0": "-3.2065027976998115",
          "coeff-1": "1.0115361735268096",
          "coeff-2": "0.5071289444724053"
         },
         {
          "coeff-0": "-3.2065027976998115",
          "coeff-1": "1.0115361735268096",
          "coeff-2": "0.5071289444724053"
         },
         {
          "coeff-0": "-3.2065027976998115",
          "coeff-1": "1.0115361735268096",
          "coeff-2": "0.5071289444724053"
         },
         {
          "coeff-0": "-3.2065027976998115",
          "coeff-1": "1.0115361735268096",
          "coeff-2": "0.5071289444724053"
         },
         {
          "coeff-0": "-3.2065027976998115",
          "coeff-1": "1.0115361735268096",
          "coeff-2": "0.5071289444724053"
         },
         {
          "coeff-0": "-3.2065027976998115",
          "coeff-1": "1.0115361735268096",
          "coeff-2": "0.5071289444724053"
         },
         {
          "coeff-0": "-3.2065027976998115",
          "coeff-1": "1.0115361735268096",
          "coeff-2": "0.5071289444724053"
         },
         {
          "coeff-0": "-3.2065027976998115",
          "coeff-1": "1.0115361735268096",
          "coeff-2": "0.5071289444724053"
         },
         {
          "coeff-0": "-3.2065027976998115",
          "coeff-1": "1.0115361735268096",
          "coeff-2": "0.5071289444724053"
         },
         {
          "coeff-0": "-3.2065027976998115",
          "coeff-1": "1.0115361735268096",
          "coeff-2": "0.5071289444724053"
         },
         {
          "coeff-0": "-3.2065027976998115",
          "coeff-1": "1.0115361735268096",
          "coeff-2": "0.5071289444724053"
         },
         {
          "coeff-0": "-3.2065027976998115",
          "coeff-1": "1.0115361735268096",
          "coeff-2": "0.5071289444724053"
         },
         {
          "coeff-0": "-3.2065027976998115",
          "coeff-1": "1.0115361735268096",
          "coeff-2": "0.5071289444724053"
         },
         {
          "coeff-0": "-3.2065027976998115",
          "coeff-1": "1.0115361735268096",
          "coeff-2": "0.5071289444724053"
         },
         {
          "coeff-0": "-3.2065027976998115",
          "coeff-1": "1.0115361735268096",
          "coeff-2": "0.5071289444724053"
         },
         {
          "coeff-0": "-3.2065027976998115",
          "coeff-1": "1.0115361735268096",
          "coeff-2": "0.5071289444724053"
         },
         {
          "coeff-0": "-3.2065027976998115",
          "coeff-1": "1.0115361735268096",
          "coeff-2": "0.5071289444724053"
         },
         {
          "coeff-0": "-3.2065027976998115",
          "coeff-1": "1.0115361735268096",
          "coeff-2": "0.5071289444724053"
         },
         {
          "coeff-0": "-3.2065027976998115",
          "coeff-1": "1.0115361735268096",
          "coeff-2": "0.5071289444724053"
         },
         {
          "coeff-0": "-3.2065027976998115",
          "coeff-1": "1.0115361735268096",
          "coeff-2": "0.5071289444724053"
         },
         {
          "coeff-0": "-3.2065027976998115",
          "coeff-1": "1.0115361735268096",
          "coeff-2": "0.5071289444724053"
         },
         {
          "coeff-0": "-3.2065027976998115",
          "coeff-1": "1.0115361735268096",
          "coeff-2": "0.5071289444724053"
         },
         {
          "coeff-0": "-3.2065027976998115",
          "coeff-1": "1.0115361735268096",
          "coeff-2": "0.5071289444724053"
         },
         {
          "coeff-0": "-3.2065027976998115",
          "coeff-1": "1.0115361735268096",
          "coeff-2": "0.5071289444724053"
         },
         {
          "coeff-0": "-3.2065027976998115",
          "coeff-1": "1.0115361735268096",
          "coeff-2": "0.5071289444724053"
         },
         {
          "coeff-0": "-3.2065027976998115",
          "coeff-1": "1.0115361735268096",
          "coeff-2": "0.5071289444724053"
         },
         {
          "coeff-0": "-3.2065027976998115",
          "coeff-1": "1.0115361735268096",
          "coeff-2": "0.5071289444724053"
         },
         {
          "coeff-0": "-3.2065027976998115",
          "coeff-1": "1.0115361735268096",
          "coeff-2": "0.5071289444724053"
         },
         {
          "coeff-0": "-3.2065027976998115",
          "coeff-1": "1.0115361735268096",
          "coeff-2": "0.5071289444724053"
         },
         {
          "coeff-0": "-3.2065027976998115",
          "coeff-1": "1.0115361735268096",
          "coeff-2": "0.5071289444724053"
         },
         {
          "coeff-0": "-3.2065027976998115",
          "coeff-1": "1.0115361735268096",
          "coeff-2": "0.5071289444724053"
         },
         {
          "coeff-0": "-3.2065027976998115",
          "coeff-1": "1.0115361735268096",
          "coeff-2": "0.5071289444724053"
         },
         {
          "coeff-0": "-3.2065027976998115",
          "coeff-1": "1.0115361735268096",
          "coeff-2": "0.5071289444724053"
         },
         {
          "coeff-0": "-3.2065027976998115",
          "coeff-1": "1.0115361735268096",
          "coeff-2": "0.5071289444724053"
         },
         {
          "coeff-0": "-3.2065027976998115",
          "coeff-1": "1.0115361735268096",
          "coeff-2": "0.5071289444724053"
         },
         {
          "coeff-0": "-3.2065027976998115",
          "coeff-1": "1.0115361735268096",
          "coeff-2": "0.5071289444724053"
         },
         {
          "coeff-0": "-3.2065027976998115",
          "coeff-1": "1.0115361735268096",
          "coeff-2": "0.5071289444724053"
         },
         {
          "coeff-0": "-3.2065027976998115",
          "coeff-1": "1.0115361735268096",
          "coeff-2": "0.5071289444724053"
         },
         {
          "coeff-0": "-3.2065027976998115",
          "coeff-1": "1.0115361735268096",
          "coeff-2": "0.5071289444724053"
         },
         {
          "coeff-0": "-3.2065027976998115",
          "coeff-1": "1.0115361735268096",
          "coeff-2": "0.5071289444724053"
         },
         {
          "coeff-0": "-3.2065027976998115",
          "coeff-1": "1.0115361735268096",
          "coeff-2": "0.5071289444724053"
         },
         {
          "coeff-0": "-3.2065027976998115",
          "coeff-1": "1.0115361735268096",
          "coeff-2": "0.5071289444724053"
         },
         {
          "coeff-0": "-3.2065027976998115",
          "coeff-1": "1.0115361735268096",
          "coeff-2": "0.5071289444724053"
         },
         {
          "coeff-0": "-3.2065027976998115",
          "coeff-1": "1.0115361735268096",
          "coeff-2": "0.5071289444724053"
         },
         {
          "coeff-0": "-3.2065027976998115",
          "coeff-1": "1.0115361735268096",
          "coeff-2": "0.5071289444724053"
         },
         {
          "coeff-0": "-3.2065027976998115",
          "coeff-1": "1.0115361735268096",
          "coeff-2": "0.5071289444724053"
         },
         {
          "coeff-0": "-3.2065027976998115",
          "coeff-1": "1.0115361735268096",
          "coeff-2": "0.5071289444724053"
         },
         {
          "coeff-0": "-3.2065027976998115",
          "coeff-1": "1.0115361735268096",
          "coeff-2": "0.5071289444724053"
         },
         {
          "coeff-0": "-3.2065027976998115",
          "coeff-1": "1.0115361735268096",
          "coeff-2": "0.5071289444724053"
         },
         {
          "coeff-0": "-3.2065027976998115",
          "coeff-1": "1.0115361735268096",
          "coeff-2": "0.5071289444724053"
         },
         {
          "coeff-0": "-3.2065027976998115",
          "coeff-1": "1.0115361735268096",
          "coeff-2": "0.5071289444724053"
         },
         {
          "coeff-0": "-3.2065027976998115",
          "coeff-1": "1.0115361735268096",
          "coeff-2": "0.5071289444724053"
         },
         {
          "coeff-0": "-3.2065027976998115",
          "coeff-1": "1.0115361735268096",
          "coeff-2": "0.5071289444724053"
         },
         {
          "coeff-0": "-3.2065027976998115",
          "coeff-1": "1.0115361735268096",
          "coeff-2": "0.5071289444724053"
         },
         {
          "coeff-0": "-3.2065027976998115",
          "coeff-1": "1.0115361735268096",
          "coeff-2": "0.5071289444724053"
         },
         {
          "coeff-0": "-3.2065027976998115",
          "coeff-1": "1.0115361735268096",
          "coeff-2": "0.5071289444724053"
         },
         {
          "coeff-0": "-3.2024924492322366",
          "coeff-1": "1.0299995469571903",
          "coeff-2": "0.48951601833112973"
         },
         {
          "coeff-0": "-3.2024924492322366",
          "coeff-1": "1.0299995469571903",
          "coeff-2": "0.48951601833112973"
         },
         {
          "coeff-0": "-3.2024924492322366",
          "coeff-1": "1.0299995469571903",
          "coeff-2": "0.48951601833112973"
         },
         {
          "coeff-0": "-3.2024924492322366",
          "coeff-1": "1.0299995469571903",
          "coeff-2": "0.48951601833112973"
         },
         {
          "coeff-0": "-3.2024924492322366",
          "coeff-1": "1.0299995469571903",
          "coeff-2": "0.48951601833112973"
         },
         {
          "coeff-0": "-3.2024924492322366",
          "coeff-1": "1.0299995469571903",
          "coeff-2": "0.48951601833112973"
         },
         {
          "coeff-0": "-3.2024924492322366",
          "coeff-1": "1.0299995469571903",
          "coeff-2": "0.48951601833112973"
         },
         {
          "coeff-0": "-3.2024924492322366",
          "coeff-1": "1.0299995469571903",
          "coeff-2": "0.48951601833112973"
         },
         {
          "coeff-0": "-3.2024924492322366",
          "coeff-1": "1.0299995469571903",
          "coeff-2": "0.48951601833112973"
         },
         {
          "coeff-0": "-3.2024924492322366",
          "coeff-1": "1.0299995469571903",
          "coeff-2": "0.48951601833112973"
         },
         {
          "coeff-0": "-3.2024924492322366",
          "coeff-1": "1.0299995469571903",
          "coeff-2": "0.48951601833112973"
         },
         {
          "coeff-0": "-3.2024924492322366",
          "coeff-1": "1.0299995469571903",
          "coeff-2": "0.48951601833112973"
         },
         {
          "coeff-0": "-3.2024924492322366",
          "coeff-1": "1.0299995469571903",
          "coeff-2": "0.48951601833112973"
         },
         {
          "coeff-0": "-3.2024924492322366",
          "coeff-1": "1.0299995469571903",
          "coeff-2": "0.48951601833112973"
         },
         {
          "coeff-0": "-3.2024924492322366",
          "coeff-1": "1.0299995469571903",
          "coeff-2": "0.48951601833112973"
         },
         {
          "coeff-0": "-3.2024924492322366",
          "coeff-1": "1.0299995469571903",
          "coeff-2": "0.48951601833112973"
         },
         {
          "coeff-0": "-3.2024924492322366",
          "coeff-1": "1.0299995469571903",
          "coeff-2": "0.48951601833112973"
         },
         {
          "coeff-0": "-3.2024924492322366",
          "coeff-1": "1.0299995469571903",
          "coeff-2": "0.48951601833112973"
         },
         {
          "coeff-0": "-3.2024924492322366",
          "coeff-1": "1.0299995469571903",
          "coeff-2": "0.48951601833112973"
         },
         {
          "coeff-0": "-3.2024924492322366",
          "coeff-1": "1.0299995469571903",
          "coeff-2": "0.48951601833112973"
         },
         {
          "coeff-0": "-3.2024924492322366",
          "coeff-1": "1.0299995469571903",
          "coeff-2": "0.48951601833112973"
         },
         {
          "coeff-0": "-3.2024924492322366",
          "coeff-1": "1.0299995469571903",
          "coeff-2": "0.48951601833112973"
         },
         {
          "coeff-0": "-3.2024924492322366",
          "coeff-1": "1.0299995469571903",
          "coeff-2": "0.48951601833112973"
         },
         {
          "coeff-0": "-3.2024924492322366",
          "coeff-1": "1.0299995469571903",
          "coeff-2": "0.48951601833112973"
         },
         {
          "coeff-0": "-3.2024924492322366",
          "coeff-1": "1.0299995469571903",
          "coeff-2": "0.48951601833112973"
         },
         {
          "coeff-0": "-3.2024924492322366",
          "coeff-1": "1.0299995469571903",
          "coeff-2": "0.48951601833112973"
         },
         {
          "coeff-0": "-3.2024924492322366",
          "coeff-1": "1.0299995469571903",
          "coeff-2": "0.48951601833112973"
         },
         {
          "coeff-0": "-3.2024924492322366",
          "coeff-1": "1.0299995469571903",
          "coeff-2": "0.48951601833112973"
         },
         {
          "coeff-0": "-3.2024924492322366",
          "coeff-1": "1.0299995469571903",
          "coeff-2": "0.48951601833112973"
         },
         {
          "coeff-0": "-3.2024924492322366",
          "coeff-1": "1.0299995469571903",
          "coeff-2": "0.48951601833112973"
         },
         {
          "coeff-0": "-3.2024924492322366",
          "coeff-1": "1.0299995469571903",
          "coeff-2": "0.48951601833112973"
         },
         {
          "coeff-0": "-3.2024924492322366",
          "coeff-1": "1.0299995469571903",
          "coeff-2": "0.48951601833112973"
         },
         {
          "coeff-0": "-3.2024924492322366",
          "coeff-1": "1.0299995469571903",
          "coeff-2": "0.48951601833112973"
         },
         {
          "coeff-0": "-3.2024924492322366",
          "coeff-1": "1.0299995469571903",
          "coeff-2": "0.48951601833112973"
         },
         {
          "coeff-0": "-3.2024924492322366",
          "coeff-1": "1.0299995469571903",
          "coeff-2": "0.48951601833112973"
         },
         {
          "coeff-0": "-3.172783985815568",
          "coeff-1": "1.016208215380339",
          "coeff-2": "0.5147656857385648"
         },
         {
          "coeff-0": "-3.172783985815568",
          "coeff-1": "1.016208215380339",
          "coeff-2": "0.5147656857385648"
         },
         {
          "coeff-0": "-3.207773830646907",
          "coeff-1": "0.9940007902836053",
          "coeff-2": "0.4936326186293398"
         },
         {
          "coeff-0": "-3.207773830646907",
          "coeff-1": "0.9940007902836053",
          "coeff-2": "0.4936326186293398"
         },
         {
          "coeff-0": "-3.207773830646907",
          "coeff-1": "0.9940007902836053",
          "coeff-2": "0.4936326186293398"
         },
         {
          "coeff-0": "-3.207773830646907",
          "coeff-1": "0.9940007902836053",
          "coeff-2": "0.4936326186293398"
         },
         {
          "coeff-0": "-3.207773830646907",
          "coeff-1": "0.9940007902836053",
          "coeff-2": "0.4936326186293398"
         },
         {
          "coeff-0": "-3.207773830646907",
          "coeff-1": "0.9940007902836053",
          "coeff-2": "0.4936326186293398"
         },
         {
          "coeff-0": "-3.207773830646907",
          "coeff-1": "0.9940007902836053",
          "coeff-2": "0.4936326186293398"
         },
         {
          "coeff-0": "-3.207773830646907",
          "coeff-1": "0.9940007902836053",
          "coeff-2": "0.4936326186293398"
         },
         {
          "coeff-0": "-3.207773830646907",
          "coeff-1": "0.9940007902836053",
          "coeff-2": "0.4936326186293398"
         },
         {
          "coeff-0": "-3.207773830646907",
          "coeff-1": "0.9940007902836053",
          "coeff-2": "0.4936326186293398"
         },
         {
          "coeff-0": "-3.207773830646907",
          "coeff-1": "0.9940007902836053",
          "coeff-2": "0.4936326186293398"
         },
         {
          "coeff-0": "-3.1856724355703134",
          "coeff-1": "1.028106964581274",
          "coeff-2": "0.44281569657758824"
         },
         {
          "coeff-0": "-3.1856724355703134",
          "coeff-1": "1.028106964581274",
          "coeff-2": "0.44281569657758824"
         },
         {
          "coeff-0": "-3.1856724355703134",
          "coeff-1": "1.028106964581274",
          "coeff-2": "0.44281569657758824"
         },
         {
          "coeff-0": "-3.1856724355703134",
          "coeff-1": "1.028106964581274",
          "coeff-2": "0.44281569657758824"
         },
         {
          "coeff-0": "-3.1856724355703134",
          "coeff-1": "1.028106964581274",
          "coeff-2": "0.44281569657758824"
         },
         {
          "coeff-0": "-3.1856724355703134",
          "coeff-1": "1.028106964581274",
          "coeff-2": "0.44281569657758824"
         },
         {
          "coeff-0": "-3.1856724355703134",
          "coeff-1": "1.028106964581274",
          "coeff-2": "0.44281569657758824"
         },
         {
          "coeff-0": "-3.1856724355703134",
          "coeff-1": "1.028106964581274",
          "coeff-2": "0.44281569657758824"
         },
         {
          "coeff-0": "-3.1856724355703134",
          "coeff-1": "1.028106964581274",
          "coeff-2": "0.44281569657758824"
         },
         {
          "coeff-0": "-3.1856724355703134",
          "coeff-1": "1.028106964581274",
          "coeff-2": "0.44281569657758824"
         },
         {
          "coeff-0": "-3.1856724355703134",
          "coeff-1": "1.028106964581274",
          "coeff-2": "0.44281569657758824"
         },
         {
          "coeff-0": "-3.193226339977867",
          "coeff-1": "0.9960422242592714",
          "coeff-2": "0.5210897490364069"
         },
         {
          "coeff-0": "-3.193226339977867",
          "coeff-1": "0.9960422242592714",
          "coeff-2": "0.5210897490364069"
         },
         {
          "coeff-0": "-3.2222638468739517",
          "coeff-1": "0.9779858720663207",
          "coeff-2": "0.506128346355104"
         },
         {
          "coeff-0": "-3.2222638468739517",
          "coeff-1": "0.9779858720663207",
          "coeff-2": "0.506128346355104"
         },
         {
          "coeff-0": "-3.2222638468739517",
          "coeff-1": "0.9779858720663207",
          "coeff-2": "0.506128346355104"
         },
         {
          "coeff-0": "-3.1474498278870655",
          "coeff-1": "0.959515372696861",
          "coeff-2": "0.4461859603577358"
         },
         {
          "coeff-0": "-3.1474498278870655",
          "coeff-1": "0.959515372696861",
          "coeff-2": "0.4461859603577358"
         },
         {
          "coeff-0": "-3.1474498278870655",
          "coeff-1": "0.959515372696861",
          "coeff-2": "0.4461859603577358"
         },
         {
          "coeff-0": "-3.1474498278870655",
          "coeff-1": "0.959515372696861",
          "coeff-2": "0.4461859603577358"
         },
         {
          "coeff-0": "-3.1474498278870655",
          "coeff-1": "0.959515372696861",
          "coeff-2": "0.4461859603577358"
         },
         {
          "coeff-0": "-3.1474498278870655",
          "coeff-1": "0.959515372696861",
          "coeff-2": "0.4461859603577358"
         },
         {
          "coeff-0": "-3.1474498278870655",
          "coeff-1": "0.959515372696861",
          "coeff-2": "0.4461859603577358"
         },
         {
          "coeff-0": "-3.1474498278870655",
          "coeff-1": "0.959515372696861",
          "coeff-2": "0.4461859603577358"
         },
         {
          "coeff-0": "-3.1474498278870655",
          "coeff-1": "0.959515372696861",
          "coeff-2": "0.4461859603577358"
         },
         {
          "coeff-0": "-3.1474498278870655",
          "coeff-1": "0.959515372696861",
          "coeff-2": "0.4461859603577358"
         },
         {
          "coeff-0": "-3.1474498278870655",
          "coeff-1": "0.959515372696861",
          "coeff-2": "0.4461859603577358"
         },
         {
          "coeff-0": "-3.1474498278870655",
          "coeff-1": "0.959515372696861",
          "coeff-2": "0.4461859603577358"
         },
         {
          "coeff-0": "-3.1474498278870655",
          "coeff-1": "0.959515372696861",
          "coeff-2": "0.4461859603577358"
         },
         {
          "coeff-0": "-3.1474498278870655",
          "coeff-1": "0.959515372696861",
          "coeff-2": "0.4461859603577358"
         },
         {
          "coeff-0": "-3.1474498278870655",
          "coeff-1": "0.959515372696861",
          "coeff-2": "0.4461859603577358"
         },
         {
          "coeff-0": "-3.1474498278870655",
          "coeff-1": "0.959515372696861",
          "coeff-2": "0.4461859603577358"
         },
         {
          "coeff-0": "-3.1474498278870655",
          "coeff-1": "0.959515372696861",
          "coeff-2": "0.4461859603577358"
         },
         {
          "coeff-0": "-3.1474498278870655",
          "coeff-1": "0.959515372696861",
          "coeff-2": "0.4461859603577358"
         },
         {
          "coeff-0": "-3.1474498278870655",
          "coeff-1": "0.959515372696861",
          "coeff-2": "0.4461859603577358"
         },
         {
          "coeff-0": "-3.200692265462787",
          "coeff-1": "0.9959639777891576",
          "coeff-2": "0.5194471176547892"
         },
         {
          "coeff-0": "-3.200692265462787",
          "coeff-1": "0.9959639777891576",
          "coeff-2": "0.5194471176547892"
         },
         {
          "coeff-0": "-3.200692265462787",
          "coeff-1": "0.9959639777891576",
          "coeff-2": "0.5194471176547892"
         },
         {
          "coeff-0": "-3.200692265462787",
          "coeff-1": "0.9959639777891576",
          "coeff-2": "0.5194471176547892"
         },
         {
          "coeff-0": "-3.200692265462787",
          "coeff-1": "0.9959639777891576",
          "coeff-2": "0.5194471176547892"
         },
         {
          "coeff-0": "-3.200692265462787",
          "coeff-1": "0.9959639777891576",
          "coeff-2": "0.5194471176547892"
         },
         {
          "coeff-0": "-3.200692265462787",
          "coeff-1": "0.9959639777891576",
          "coeff-2": "0.5194471176547892"
         },
         {
          "coeff-0": "-3.200692265462787",
          "coeff-1": "0.9959639777891576",
          "coeff-2": "0.5194471176547892"
         },
         {
          "coeff-0": "-3.200692265462787",
          "coeff-1": "0.9959639777891576",
          "coeff-2": "0.5194471176547892"
         },
         {
          "coeff-0": "-3.213153145931444",
          "coeff-1": "1.0342740078109733",
          "coeff-2": "0.5576922088813523"
         },
         {
          "coeff-0": "-3.213153145931444",
          "coeff-1": "1.0342740078109733",
          "coeff-2": "0.5576922088813523"
         },
         {
          "coeff-0": "-3.213153145931444",
          "coeff-1": "1.0342740078109733",
          "coeff-2": "0.5576922088813523"
         },
         {
          "coeff-0": "-3.213153145931444",
          "coeff-1": "1.0342740078109733",
          "coeff-2": "0.5576922088813523"
         },
         {
          "coeff-0": "-3.213153145931444",
          "coeff-1": "1.0342740078109733",
          "coeff-2": "0.5576922088813523"
         },
         {
          "coeff-0": "-3.213153145931444",
          "coeff-1": "1.0342740078109733",
          "coeff-2": "0.5576922088813523"
         },
         {
          "coeff-0": "-3.1649044461889386",
          "coeff-1": "1.0344247732273584",
          "coeff-2": "0.592242792590377"
         },
         {
          "coeff-0": "-3.1649044461889386",
          "coeff-1": "1.0344247732273584",
          "coeff-2": "0.592242792590377"
         },
         {
          "coeff-0": "-3.1649044461889386",
          "coeff-1": "1.0344247732273584",
          "coeff-2": "0.592242792590377"
         },
         {
          "coeff-0": "-3.1649044461889386",
          "coeff-1": "1.0344247732273584",
          "coeff-2": "0.592242792590377"
         },
         {
          "coeff-0": "-3.1649044461889386",
          "coeff-1": "1.0344247732273584",
          "coeff-2": "0.592242792590377"
         },
         {
          "coeff-0": "-3.1649044461889386",
          "coeff-1": "1.0344247732273584",
          "coeff-2": "0.592242792590377"
         },
         {
          "coeff-0": "-3.1649044461889386",
          "coeff-1": "1.0344247732273584",
          "coeff-2": "0.592242792590377"
         },
         {
          "coeff-0": "-3.1442339363084444",
          "coeff-1": "1.019151310970471",
          "coeff-2": "0.657727801754977"
         },
         {
          "coeff-0": "-3.1442339363084444",
          "coeff-1": "1.019151310970471",
          "coeff-2": "0.657727801754977"
         },
         {
          "coeff-0": "-3.1442339363084444",
          "coeff-1": "1.019151310970471",
          "coeff-2": "0.657727801754977"
         },
         {
          "coeff-0": "-3.1442339363084444",
          "coeff-1": "1.019151310970471",
          "coeff-2": "0.657727801754977"
         },
         {
          "coeff-0": "-3.1442339363084444",
          "coeff-1": "1.019151310970471",
          "coeff-2": "0.657727801754977"
         },
         {
          "coeff-0": "-3.1442339363084444",
          "coeff-1": "1.019151310970471",
          "coeff-2": "0.657727801754977"
         },
         {
          "coeff-0": "-3.1442339363084444",
          "coeff-1": "1.019151310970471",
          "coeff-2": "0.657727801754977"
         },
         {
          "coeff-0": "-3.1442339363084444",
          "coeff-1": "1.019151310970471",
          "coeff-2": "0.657727801754977"
         },
         {
          "coeff-0": "-3.1442339363084444",
          "coeff-1": "1.019151310970471",
          "coeff-2": "0.657727801754977"
         },
         {
          "coeff-0": "-3.1442339363084444",
          "coeff-1": "1.019151310970471",
          "coeff-2": "0.657727801754977"
         },
         {
          "coeff-0": "-3.1442339363084444",
          "coeff-1": "1.019151310970471",
          "coeff-2": "0.657727801754977"
         },
         {
          "coeff-0": "-3.1442339363084444",
          "coeff-1": "1.019151310970471",
          "coeff-2": "0.657727801754977"
         },
         {
          "coeff-0": "-3.117987465184929",
          "coeff-1": "1.0589182930169176",
          "coeff-2": "0.5760752533786384"
         },
         {
          "coeff-0": "-3.117987465184929",
          "coeff-1": "1.0589182930169176",
          "coeff-2": "0.5760752533786384"
         },
         {
          "coeff-0": "-3.117987465184929",
          "coeff-1": "1.0589182930169176",
          "coeff-2": "0.5760752533786384"
         },
         {
          "coeff-0": "-3.117987465184929",
          "coeff-1": "1.0589182930169176",
          "coeff-2": "0.5760752533786384"
         },
         {
          "coeff-0": "-3.117987465184929",
          "coeff-1": "1.0589182930169176",
          "coeff-2": "0.5760752533786384"
         },
         {
          "coeff-0": "-3.117987465184929",
          "coeff-1": "1.0589182930169176",
          "coeff-2": "0.5760752533786384"
         },
         {
          "coeff-0": "-3.117987465184929",
          "coeff-1": "1.0589182930169176",
          "coeff-2": "0.5760752533786384"
         },
         {
          "coeff-0": "-3.117987465184929",
          "coeff-1": "1.0589182930169176",
          "coeff-2": "0.5760752533786384"
         },
         {
          "coeff-0": "-3.117987465184929",
          "coeff-1": "1.0589182930169176",
          "coeff-2": "0.5760752533786384"
         },
         {
          "coeff-0": "-3.117987465184929",
          "coeff-1": "1.0589182930169176",
          "coeff-2": "0.5760752533786384"
         },
         {
          "coeff-0": "-3.117987465184929",
          "coeff-1": "1.0589182930169176",
          "coeff-2": "0.5760752533786384"
         },
         {
          "coeff-0": "-3.117987465184929",
          "coeff-1": "1.0589182930169176",
          "coeff-2": "0.5760752533786384"
         },
         {
          "coeff-0": "-3.117987465184929",
          "coeff-1": "1.0589182930169176",
          "coeff-2": "0.5760752533786384"
         },
         {
          "coeff-0": "-3.117987465184929",
          "coeff-1": "1.0589182930169176",
          "coeff-2": "0.5760752533786384"
         },
         {
          "coeff-0": "-3.117987465184929",
          "coeff-1": "1.0589182930169176",
          "coeff-2": "0.5760752533786384"
         },
         {
          "coeff-0": "-3.117987465184929",
          "coeff-1": "1.0589182930169176",
          "coeff-2": "0.5760752533786384"
         },
         {
          "coeff-0": "-3.117987465184929",
          "coeff-1": "1.0589182930169176",
          "coeff-2": "0.5760752533786384"
         },
         {
          "coeff-0": "-3.117987465184929",
          "coeff-1": "1.0589182930169176",
          "coeff-2": "0.5760752533786384"
         },
         {
          "coeff-0": "-3.117987465184929",
          "coeff-1": "1.0589182930169176",
          "coeff-2": "0.5760752533786384"
         },
         {
          "coeff-0": "-3.117987465184929",
          "coeff-1": "1.0589182930169176",
          "coeff-2": "0.5760752533786384"
         },
         {
          "coeff-0": "-3.117987465184929",
          "coeff-1": "1.0589182930169176",
          "coeff-2": "0.5760752533786384"
         },
         {
          "coeff-0": "-3.117987465184929",
          "coeff-1": "1.0589182930169176",
          "coeff-2": "0.5760752533786384"
         },
         {
          "coeff-0": "-3.117987465184929",
          "coeff-1": "1.0589182930169176",
          "coeff-2": "0.5760752533786384"
         },
         {
          "coeff-0": "-3.117987465184929",
          "coeff-1": "1.0589182930169176",
          "coeff-2": "0.5760752533786384"
         },
         {
          "coeff-0": "-3.117987465184929",
          "coeff-1": "1.0589182930169176",
          "coeff-2": "0.5760752533786384"
         },
         {
          "coeff-0": "-3.117987465184929",
          "coeff-1": "1.0589182930169176",
          "coeff-2": "0.5760752533786384"
         },
         {
          "coeff-0": "-3.117987465184929",
          "coeff-1": "1.0589182930169176",
          "coeff-2": "0.5760752533786384"
         },
         {
          "coeff-0": "-3.117987465184929",
          "coeff-1": "1.0589182930169176",
          "coeff-2": "0.5760752533786384"
         },
         {
          "coeff-0": "-3.117987465184929",
          "coeff-1": "1.0589182930169176",
          "coeff-2": "0.5760752533786384"
         },
         {
          "coeff-0": "-3.117987465184929",
          "coeff-1": "1.0589182930169176",
          "coeff-2": "0.5760752533786384"
         },
         {
          "coeff-0": "-3.117987465184929",
          "coeff-1": "1.0589182930169176",
          "coeff-2": "0.5760752533786384"
         },
         {
          "coeff-0": "-3.117987465184929",
          "coeff-1": "1.0589182930169176",
          "coeff-2": "0.5760752533786384"
         },
         {
          "coeff-0": "-3.117987465184929",
          "coeff-1": "1.0589182930169176",
          "coeff-2": "0.5760752533786384"
         },
         {
          "coeff-0": "-3.117987465184929",
          "coeff-1": "1.0589182930169176",
          "coeff-2": "0.5760752533786384"
         },
         {
          "coeff-0": "-3.117987465184929",
          "coeff-1": "1.0589182930169176",
          "coeff-2": "0.5760752533786384"
         },
         {
          "coeff-0": "-3.117987465184929",
          "coeff-1": "1.0589182930169176",
          "coeff-2": "0.5760752533786384"
         },
         {
          "coeff-0": "-3.117987465184929",
          "coeff-1": "1.0589182930169176",
          "coeff-2": "0.5760752533786384"
         },
         {
          "coeff-0": "-3.117987465184929",
          "coeff-1": "1.0589182930169176",
          "coeff-2": "0.5760752533786384"
         },
         {
          "coeff-0": "-3.117987465184929",
          "coeff-1": "1.0589182930169176",
          "coeff-2": "0.5760752533786384"
         },
         {
          "coeff-0": "-3.117987465184929",
          "coeff-1": "1.0589182930169176",
          "coeff-2": "0.5760752533786384"
         },
         {
          "coeff-0": "-3.117987465184929",
          "coeff-1": "1.0589182930169176",
          "coeff-2": "0.5760752533786384"
         },
         {
          "coeff-0": "-3.117987465184929",
          "coeff-1": "1.0589182930169176",
          "coeff-2": "0.5760752533786384"
         },
         {
          "coeff-0": "-3.117987465184929",
          "coeff-1": "1.0589182930169176",
          "coeff-2": "0.5760752533786384"
         },
         {
          "coeff-0": "-3.117987465184929",
          "coeff-1": "1.0589182930169176",
          "coeff-2": "0.5760752533786384"
         },
         {
          "coeff-0": "-3.117987465184929",
          "coeff-1": "1.0589182930169176",
          "coeff-2": "0.5760752533786384"
         },
         {
          "coeff-0": "-3.117987465184929",
          "coeff-1": "1.0589182930169176",
          "coeff-2": "0.5760752533786384"
         },
         {
          "coeff-0": "-3.117987465184929",
          "coeff-1": "1.0589182930169176",
          "coeff-2": "0.5760752533786384"
         },
         {
          "coeff-0": "-3.117987465184929",
          "coeff-1": "1.0589182930169176",
          "coeff-2": "0.5760752533786384"
         },
         {
          "coeff-0": "-3.117987465184929",
          "coeff-1": "1.0589182930169176",
          "coeff-2": "0.5760752533786384"
         },
         {
          "coeff-0": "-3.117987465184929",
          "coeff-1": "1.0589182930169176",
          "coeff-2": "0.5760752533786384"
         },
         {
          "coeff-0": "-3.117987465184929",
          "coeff-1": "1.0589182930169176",
          "coeff-2": "0.5760752533786384"
         },
         {
          "coeff-0": "-3.117987465184929",
          "coeff-1": "1.0589182930169176",
          "coeff-2": "0.5760752533786384"
         },
         {
          "coeff-0": "-3.117987465184929",
          "coeff-1": "1.0589182930169176",
          "coeff-2": "0.5760752533786384"
         },
         {
          "coeff-0": "-3.117987465184929",
          "coeff-1": "1.0589182930169176",
          "coeff-2": "0.5760752533786384"
         },
         {
          "coeff-0": "-3.117987465184929",
          "coeff-1": "1.0589182930169176",
          "coeff-2": "0.5760752533786384"
         },
         {
          "coeff-0": "-3.117987465184929",
          "coeff-1": "1.0589182930169176",
          "coeff-2": "0.5760752533786384"
         },
         {
          "coeff-0": "-3.117987465184929",
          "coeff-1": "1.0589182930169176",
          "coeff-2": "0.5760752533786384"
         },
         {
          "coeff-0": "-3.117987465184929",
          "coeff-1": "1.0589182930169176",
          "coeff-2": "0.5760752533786384"
         },
         {
          "coeff-0": "-3.117987465184929",
          "coeff-1": "1.0589182930169176",
          "coeff-2": "0.5760752533786384"
         },
         {
          "coeff-0": "-3.117987465184929",
          "coeff-1": "1.0589182930169176",
          "coeff-2": "0.5760752533786384"
         },
         {
          "coeff-0": "-3.117987465184929",
          "coeff-1": "1.0589182930169176",
          "coeff-2": "0.5760752533786384"
         },
         {
          "coeff-0": "-3.117987465184929",
          "coeff-1": "1.0589182930169176",
          "coeff-2": "0.5760752533786384"
         },
         {
          "coeff-0": "-3.117987465184929",
          "coeff-1": "1.0589182930169176",
          "coeff-2": "0.5760752533786384"
         },
         {
          "coeff-0": "-3.117987465184929",
          "coeff-1": "1.0589182930169176",
          "coeff-2": "0.5760752533786384"
         },
         {
          "coeff-0": "-3.117987465184929",
          "coeff-1": "1.0589182930169176",
          "coeff-2": "0.5760752533786384"
         },
         {
          "coeff-0": "-3.117987465184929",
          "coeff-1": "1.0589182930169176",
          "coeff-2": "0.5760752533786384"
         },
         {
          "coeff-0": "-3.117987465184929",
          "coeff-1": "1.0589182930169176",
          "coeff-2": "0.5760752533786384"
         },
         {
          "coeff-0": "-3.117987465184929",
          "coeff-1": "1.0589182930169176",
          "coeff-2": "0.5760752533786384"
         },
         {
          "coeff-0": "-3.117987465184929",
          "coeff-1": "1.0589182930169176",
          "coeff-2": "0.5760752533786384"
         },
         {
          "coeff-0": "-3.117987465184929",
          "coeff-1": "1.0589182930169176",
          "coeff-2": "0.5760752533786384"
         },
         {
          "coeff-0": "-3.117987465184929",
          "coeff-1": "1.0589182930169176",
          "coeff-2": "0.5760752533786384"
         },
         {
          "coeff-0": "-3.117987465184929",
          "coeff-1": "1.0589182930169176",
          "coeff-2": "0.5760752533786384"
         },
         {
          "coeff-0": "-3.117987465184929",
          "coeff-1": "1.0589182930169176",
          "coeff-2": "0.5760752533786384"
         },
         {
          "coeff-0": "-3.117987465184929",
          "coeff-1": "1.0589182930169176",
          "coeff-2": "0.5760752533786384"
         },
         {
          "coeff-0": "-3.117987465184929",
          "coeff-1": "1.0589182930169176",
          "coeff-2": "0.5760752533786384"
         },
         {
          "coeff-0": "-3.117987465184929",
          "coeff-1": "1.0589182930169176",
          "coeff-2": "0.5760752533786384"
         },
         {
          "coeff-0": "-3.117987465184929",
          "coeff-1": "1.0589182930169176",
          "coeff-2": "0.5760752533786384"
         },
         {
          "coeff-0": "-3.117987465184929",
          "coeff-1": "1.0589182930169176",
          "coeff-2": "0.5760752533786384"
         },
         {
          "coeff-0": "-3.117987465184929",
          "coeff-1": "1.0589182930169176",
          "coeff-2": "0.5760752533786384"
         },
         {
          "coeff-0": "-3.142700103676772",
          "coeff-1": "1.0152128268762064",
          "coeff-2": "0.5861334618740538"
         },
         {
          "coeff-0": "-3.142700103676772",
          "coeff-1": "1.0152128268762064",
          "coeff-2": "0.5861334618740538"
         },
         {
          "coeff-0": "-3.142700103676772",
          "coeff-1": "1.0152128268762064",
          "coeff-2": "0.5861334618740538"
         },
         {
          "coeff-0": "-3.142700103676772",
          "coeff-1": "1.0152128268762064",
          "coeff-2": "0.5861334618740538"
         },
         {
          "coeff-0": "-3.142700103676772",
          "coeff-1": "1.0152128268762064",
          "coeff-2": "0.5861334618740538"
         },
         {
          "coeff-0": "-3.142700103676772",
          "coeff-1": "1.0152128268762064",
          "coeff-2": "0.5861334618740538"
         },
         {
          "coeff-0": "-3.142700103676772",
          "coeff-1": "1.0152128268762064",
          "coeff-2": "0.5861334618740538"
         },
         {
          "coeff-0": "-3.142700103676772",
          "coeff-1": "1.0152128268762064",
          "coeff-2": "0.5861334618740538"
         },
         {
          "coeff-0": "-3.1111974273290417",
          "coeff-1": "1.0495707395589753",
          "coeff-2": "0.596816394242743"
         },
         {
          "coeff-0": "-3.1111974273290417",
          "coeff-1": "1.0495707395589753",
          "coeff-2": "0.596816394242743"
         },
         {
          "coeff-0": "-3.1111974273290417",
          "coeff-1": "1.0495707395589753",
          "coeff-2": "0.596816394242743"
         },
         {
          "coeff-0": "-3.1111974273290417",
          "coeff-1": "1.0495707395589753",
          "coeff-2": "0.596816394242743"
         },
         {
          "coeff-0": "-3.1111974273290417",
          "coeff-1": "1.0495707395589753",
          "coeff-2": "0.596816394242743"
         },
         {
          "coeff-0": "-3.1111974273290417",
          "coeff-1": "1.0495707395589753",
          "coeff-2": "0.596816394242743"
         },
         {
          "coeff-0": "-3.1111974273290417",
          "coeff-1": "1.0495707395589753",
          "coeff-2": "0.596816394242743"
         },
         {
          "coeff-0": "-3.1111974273290417",
          "coeff-1": "1.0495707395589753",
          "coeff-2": "0.596816394242743"
         },
         {
          "coeff-0": "-3.1111974273290417",
          "coeff-1": "1.0495707395589753",
          "coeff-2": "0.596816394242743"
         },
         {
          "coeff-0": "-3.1111974273290417",
          "coeff-1": "1.0495707395589753",
          "coeff-2": "0.596816394242743"
         },
         {
          "coeff-0": "-3.1111974273290417",
          "coeff-1": "1.0495707395589753",
          "coeff-2": "0.596816394242743"
         },
         {
          "coeff-0": "-3.1111974273290417",
          "coeff-1": "1.0495707395589753",
          "coeff-2": "0.596816394242743"
         },
         {
          "coeff-0": "-3.1111974273290417",
          "coeff-1": "1.0495707395589753",
          "coeff-2": "0.596816394242743"
         },
         {
          "coeff-0": "-3.1111974273290417",
          "coeff-1": "1.0495707395589753",
          "coeff-2": "0.596816394242743"
         },
         {
          "coeff-0": "-3.1111974273290417",
          "coeff-1": "1.0495707395589753",
          "coeff-2": "0.596816394242743"
         },
         {
          "coeff-0": "-3.1111974273290417",
          "coeff-1": "1.0495707395589753",
          "coeff-2": "0.596816394242743"
         },
         {
          "coeff-0": "-3.1111974273290417",
          "coeff-1": "1.0495707395589753",
          "coeff-2": "0.596816394242743"
         },
         {
          "coeff-0": "-3.1111974273290417",
          "coeff-1": "1.0495707395589753",
          "coeff-2": "0.596816394242743"
         },
         {
          "coeff-0": "-3.117438230466534",
          "coeff-1": "1.071157560903511",
          "coeff-2": "0.567936655620962"
         },
         {
          "coeff-0": "-3.117438230466534",
          "coeff-1": "1.071157560903511",
          "coeff-2": "0.567936655620962"
         },
         {
          "coeff-0": "-3.117438230466534",
          "coeff-1": "1.071157560903511",
          "coeff-2": "0.567936655620962"
         },
         {
          "coeff-0": "-3.117438230466534",
          "coeff-1": "1.071157560903511",
          "coeff-2": "0.567936655620962"
         },
         {
          "coeff-0": "-3.117438230466534",
          "coeff-1": "1.071157560903511",
          "coeff-2": "0.567936655620962"
         },
         {
          "coeff-0": "-3.117438230466534",
          "coeff-1": "1.071157560903511",
          "coeff-2": "0.567936655620962"
         },
         {
          "coeff-0": "-3.117438230466534",
          "coeff-1": "1.071157560903511",
          "coeff-2": "0.567936655620962"
         },
         {
          "coeff-0": "-3.117438230466534",
          "coeff-1": "1.071157560903511",
          "coeff-2": "0.567936655620962"
         },
         {
          "coeff-0": "-3.117438230466534",
          "coeff-1": "1.071157560903511",
          "coeff-2": "0.567936655620962"
         },
         {
          "coeff-0": "-3.117438230466534",
          "coeff-1": "1.071157560903511",
          "coeff-2": "0.567936655620962"
         },
         {
          "coeff-0": "-3.117438230466534",
          "coeff-1": "1.071157560903511",
          "coeff-2": "0.567936655620962"
         },
         {
          "coeff-0": "-3.117438230466534",
          "coeff-1": "1.071157560903511",
          "coeff-2": "0.567936655620962"
         },
         {
          "coeff-0": "-3.117438230466534",
          "coeff-1": "1.071157560903511",
          "coeff-2": "0.567936655620962"
         },
         {
          "coeff-0": "-3.117438230466534",
          "coeff-1": "1.071157560903511",
          "coeff-2": "0.567936655620962"
         },
         {
          "coeff-0": "-3.117438230466534",
          "coeff-1": "1.071157560903511",
          "coeff-2": "0.567936655620962"
         },
         {
          "coeff-0": "-3.117438230466534",
          "coeff-1": "1.071157560903511",
          "coeff-2": "0.567936655620962"
         },
         {
          "coeff-0": "-3.117438230466534",
          "coeff-1": "1.071157560903511",
          "coeff-2": "0.567936655620962"
         },
         {
          "coeff-0": "-3.117438230466534",
          "coeff-1": "1.071157560903511",
          "coeff-2": "0.567936655620962"
         },
         {
          "coeff-0": "-3.117438230466534",
          "coeff-1": "1.071157560903511",
          "coeff-2": "0.567936655620962"
         },
         {
          "coeff-0": "-3.117438230466534",
          "coeff-1": "1.071157560903511",
          "coeff-2": "0.567936655620962"
         },
         {
          "coeff-0": "-3.117438230466534",
          "coeff-1": "1.071157560903511",
          "coeff-2": "0.567936655620962"
         },
         {
          "coeff-0": "-3.117438230466534",
          "coeff-1": "1.071157560903511",
          "coeff-2": "0.567936655620962"
         },
         {
          "coeff-0": "-3.117438230466534",
          "coeff-1": "1.071157560903511",
          "coeff-2": "0.567936655620962"
         },
         {
          "coeff-0": "-3.117438230466534",
          "coeff-1": "1.071157560903511",
          "coeff-2": "0.567936655620962"
         },
         {
          "coeff-0": "-3.117438230466534",
          "coeff-1": "1.071157560903511",
          "coeff-2": "0.567936655620962"
         },
         {
          "coeff-0": "-3.0862003850917827",
          "coeff-1": "1.0758477288572597",
          "coeff-2": "0.5361811294717499"
         },
         {
          "coeff-0": "-3.0862003850917827",
          "coeff-1": "1.0758477288572597",
          "coeff-2": "0.5361811294717499"
         },
         {
          "coeff-0": "-3.0862003850917827",
          "coeff-1": "1.0758477288572597",
          "coeff-2": "0.5361811294717499"
         },
         {
          "coeff-0": "-3.0862003850917827",
          "coeff-1": "1.0758477288572597",
          "coeff-2": "0.5361811294717499"
         },
         {
          "coeff-0": "-3.0862003850917827",
          "coeff-1": "1.0758477288572597",
          "coeff-2": "0.5361811294717499"
         },
         {
          "coeff-0": "-3.0862003850917827",
          "coeff-1": "1.0758477288572597",
          "coeff-2": "0.5361811294717499"
         },
         {
          "coeff-0": "-3.0655447077626468",
          "coeff-1": "1.085693204317391",
          "coeff-2": "0.6501624354953953"
         },
         {
          "coeff-0": "-3.0816843286966016",
          "coeff-1": "1.022143271259258",
          "coeff-2": "0.6759703677805767"
         },
         {
          "coeff-0": "-3.0816843286966016",
          "coeff-1": "1.022143271259258",
          "coeff-2": "0.6759703677805767"
         },
         {
          "coeff-0": "-3.0816843286966016",
          "coeff-1": "1.022143271259258",
          "coeff-2": "0.6759703677805767"
         },
         {
          "coeff-0": "-3.0816843286966016",
          "coeff-1": "1.022143271259258",
          "coeff-2": "0.6759703677805767"
         },
         {
          "coeff-0": "-3.0816843286966016",
          "coeff-1": "1.022143271259258",
          "coeff-2": "0.6759703677805767"
         },
         {
          "coeff-0": "-3.0816843286966016",
          "coeff-1": "1.022143271259258",
          "coeff-2": "0.6759703677805767"
         },
         {
          "coeff-0": "-3.0816843286966016",
          "coeff-1": "1.022143271259258",
          "coeff-2": "0.6759703677805767"
         },
         {
          "coeff-0": "-3.0816843286966016",
          "coeff-1": "1.022143271259258",
          "coeff-2": "0.6759703677805767"
         },
         {
          "coeff-0": "-3.0816843286966016",
          "coeff-1": "1.022143271259258",
          "coeff-2": "0.6759703677805767"
         },
         {
          "coeff-0": "-3.0816843286966016",
          "coeff-1": "1.022143271259258",
          "coeff-2": "0.6759703677805767"
         },
         {
          "coeff-0": "-3.0816843286966016",
          "coeff-1": "1.022143271259258",
          "coeff-2": "0.6759703677805767"
         },
         {
          "coeff-0": "-3.0816843286966016",
          "coeff-1": "1.022143271259258",
          "coeff-2": "0.6759703677805767"
         },
         {
          "coeff-0": "-3.0816843286966016",
          "coeff-1": "1.022143271259258",
          "coeff-2": "0.6759703677805767"
         },
         {
          "coeff-0": "-3.0816843286966016",
          "coeff-1": "1.022143271259258",
          "coeff-2": "0.6759703677805767"
         },
         {
          "coeff-0": "-3.0816843286966016",
          "coeff-1": "1.022143271259258",
          "coeff-2": "0.6759703677805767"
         },
         {
          "coeff-0": "-3.0816843286966016",
          "coeff-1": "1.022143271259258",
          "coeff-2": "0.6759703677805767"
         },
         {
          "coeff-0": "-3.0816843286966016",
          "coeff-1": "1.022143271259258",
          "coeff-2": "0.6759703677805767"
         },
         {
          "coeff-0": "-3.0816843286966016",
          "coeff-1": "1.022143271259258",
          "coeff-2": "0.6759703677805767"
         },
         {
          "coeff-0": "-3.0816843286966016",
          "coeff-1": "1.022143271259258",
          "coeff-2": "0.6759703677805767"
         },
         {
          "coeff-0": "-3.0816843286966016",
          "coeff-1": "1.022143271259258",
          "coeff-2": "0.6759703677805767"
         },
         {
          "coeff-0": "-3.0816843286966016",
          "coeff-1": "1.022143271259258",
          "coeff-2": "0.6759703677805767"
         },
         {
          "coeff-0": "-3.0816843286966016",
          "coeff-1": "1.022143271259258",
          "coeff-2": "0.6759703677805767"
         },
         {
          "coeff-0": "-3.0816843286966016",
          "coeff-1": "1.022143271259258",
          "coeff-2": "0.6759703677805767"
         },
         {
          "coeff-0": "-3.0816843286966016",
          "coeff-1": "1.022143271259258",
          "coeff-2": "0.6759703677805767"
         },
         {
          "coeff-0": "-3.0816843286966016",
          "coeff-1": "1.022143271259258",
          "coeff-2": "0.6759703677805767"
         },
         {
          "coeff-0": "-3.0816843286966016",
          "coeff-1": "1.022143271259258",
          "coeff-2": "0.6759703677805767"
         },
         {
          "coeff-0": "-3.0816843286966016",
          "coeff-1": "1.022143271259258",
          "coeff-2": "0.6759703677805767"
         },
         {
          "coeff-0": "-3.0816843286966016",
          "coeff-1": "1.022143271259258",
          "coeff-2": "0.6759703677805767"
         },
         {
          "coeff-0": "-3.0816843286966016",
          "coeff-1": "1.022143271259258",
          "coeff-2": "0.6759703677805767"
         },
         {
          "coeff-0": "-3.0816843286966016",
          "coeff-1": "1.022143271259258",
          "coeff-2": "0.6759703677805767"
         },
         {
          "coeff-0": "-3.0816843286966016",
          "coeff-1": "1.022143271259258",
          "coeff-2": "0.6759703677805767"
         },
         {
          "coeff-0": "-3.0816843286966016",
          "coeff-1": "1.022143271259258",
          "coeff-2": "0.6759703677805767"
         },
         {
          "coeff-0": "-3.0816843286966016",
          "coeff-1": "1.022143271259258",
          "coeff-2": "0.6759703677805767"
         },
         {
          "coeff-0": "-3.0816843286966016",
          "coeff-1": "1.022143271259258",
          "coeff-2": "0.6759703677805767"
         },
         {
          "coeff-0": "-3.0816843286966016",
          "coeff-1": "1.022143271259258",
          "coeff-2": "0.6759703677805767"
         },
         {
          "coeff-0": "-3.0816843286966016",
          "coeff-1": "1.022143271259258",
          "coeff-2": "0.6759703677805767"
         },
         {
          "coeff-0": "-3.0816843286966016",
          "coeff-1": "1.022143271259258",
          "coeff-2": "0.6759703677805767"
         },
         {
          "coeff-0": "-3.0816843286966016",
          "coeff-1": "1.022143271259258",
          "coeff-2": "0.6759703677805767"
         },
         {
          "coeff-0": "-3.0816843286966016",
          "coeff-1": "1.022143271259258",
          "coeff-2": "0.6759703677805767"
         },
         {
          "coeff-0": "-3.0816843286966016",
          "coeff-1": "1.022143271259258",
          "coeff-2": "0.6759703677805767"
         },
         {
          "coeff-0": "-3.0816843286966016",
          "coeff-1": "1.022143271259258",
          "coeff-2": "0.6759703677805767"
         },
         {
          "coeff-0": "-3.0816843286966016",
          "coeff-1": "1.022143271259258",
          "coeff-2": "0.6759703677805767"
         },
         {
          "coeff-0": "-3.0816843286966016",
          "coeff-1": "1.022143271259258",
          "coeff-2": "0.6759703677805767"
         },
         {
          "coeff-0": "-3.0816843286966016",
          "coeff-1": "1.022143271259258",
          "coeff-2": "0.6759703677805767"
         },
         {
          "coeff-0": "-3.0816843286966016",
          "coeff-1": "1.022143271259258",
          "coeff-2": "0.6759703677805767"
         },
         {
          "coeff-0": "-3.0816843286966016",
          "coeff-1": "1.022143271259258",
          "coeff-2": "0.6759703677805767"
         },
         {
          "coeff-0": "-3.0816843286966016",
          "coeff-1": "1.022143271259258",
          "coeff-2": "0.6759703677805767"
         },
         {
          "coeff-0": "-3.0816843286966016",
          "coeff-1": "1.022143271259258",
          "coeff-2": "0.6759703677805767"
         },
         {
          "coeff-0": "-3.0816843286966016",
          "coeff-1": "1.022143271259258",
          "coeff-2": "0.6759703677805767"
         },
         {
          "coeff-0": "-3.0816843286966016",
          "coeff-1": "1.022143271259258",
          "coeff-2": "0.6759703677805767"
         },
         {
          "coeff-0": "-3.0816843286966016",
          "coeff-1": "1.022143271259258",
          "coeff-2": "0.6759703677805767"
         },
         {
          "coeff-0": "-3.0816843286966016",
          "coeff-1": "1.022143271259258",
          "coeff-2": "0.6759703677805767"
         },
         {
          "coeff-0": "-3.0816843286966016",
          "coeff-1": "1.022143271259258",
          "coeff-2": "0.6759703677805767"
         },
         {
          "coeff-0": "-3.0816843286966016",
          "coeff-1": "1.022143271259258",
          "coeff-2": "0.6759703677805767"
         },
         {
          "coeff-0": "-3.0816843286966016",
          "coeff-1": "1.022143271259258",
          "coeff-2": "0.6759703677805767"
         },
         {
          "coeff-0": "-3.112199498657689",
          "coeff-1": "1.0071910869019391",
          "coeff-2": "0.720751288083294"
         },
         {
          "coeff-0": "-3.108973749211378",
          "coeff-1": "0.9661962286419348",
          "coeff-2": "0.7215337031677271"
         },
         {
          "coeff-0": "-3.108973749211378",
          "coeff-1": "0.9661962286419348",
          "coeff-2": "0.7215337031677271"
         },
         {
          "coeff-0": "-3.108973749211378",
          "coeff-1": "0.9661962286419348",
          "coeff-2": "0.7215337031677271"
         },
         {
          "coeff-0": "-3.108973749211378",
          "coeff-1": "0.9661962286419348",
          "coeff-2": "0.7215337031677271"
         },
         {
          "coeff-0": "-3.108973749211378",
          "coeff-1": "0.9661962286419348",
          "coeff-2": "0.7215337031677271"
         },
         {
          "coeff-0": "-3.108973749211378",
          "coeff-1": "0.9661962286419348",
          "coeff-2": "0.7215337031677271"
         },
         {
          "coeff-0": "-3.108973749211378",
          "coeff-1": "0.9661962286419348",
          "coeff-2": "0.7215337031677271"
         },
         {
          "coeff-0": "-3.108973749211378",
          "coeff-1": "0.9661962286419348",
          "coeff-2": "0.7215337031677271"
         },
         {
          "coeff-0": "-3.108973749211378",
          "coeff-1": "0.9661962286419348",
          "coeff-2": "0.7215337031677271"
         },
         {
          "coeff-0": "-3.108973749211378",
          "coeff-1": "0.9661962286419348",
          "coeff-2": "0.7215337031677271"
         },
         {
          "coeff-0": "-3.108973749211378",
          "coeff-1": "0.9661962286419348",
          "coeff-2": "0.7215337031677271"
         },
         {
          "coeff-0": "-3.108973749211378",
          "coeff-1": "0.9661962286419348",
          "coeff-2": "0.7215337031677271"
         },
         {
          "coeff-0": "-3.108973749211378",
          "coeff-1": "0.9661962286419348",
          "coeff-2": "0.7215337031677271"
         },
         {
          "coeff-0": "-3.108973749211378",
          "coeff-1": "0.9661962286419348",
          "coeff-2": "0.7215337031677271"
         },
         {
          "coeff-0": "-3.108973749211378",
          "coeff-1": "0.9661962286419348",
          "coeff-2": "0.7215337031677271"
         },
         {
          "coeff-0": "-3.108973749211378",
          "coeff-1": "0.9661962286419348",
          "coeff-2": "0.7215337031677271"
         },
         {
          "coeff-0": "-3.108973749211378",
          "coeff-1": "0.9661962286419348",
          "coeff-2": "0.7215337031677271"
         },
         {
          "coeff-0": "-3.108973749211378",
          "coeff-1": "0.9661962286419348",
          "coeff-2": "0.7215337031677271"
         },
         {
          "coeff-0": "-3.108973749211378",
          "coeff-1": "0.9661962286419348",
          "coeff-2": "0.7215337031677271"
         },
         {
          "coeff-0": "-3.108973749211378",
          "coeff-1": "0.9661962286419348",
          "coeff-2": "0.7215337031677271"
         },
         {
          "coeff-0": "-3.108973749211378",
          "coeff-1": "0.9661962286419348",
          "coeff-2": "0.7215337031677271"
         },
         {
          "coeff-0": "-3.108973749211378",
          "coeff-1": "0.9661962286419348",
          "coeff-2": "0.7215337031677271"
         },
         {
          "coeff-0": "-3.108973749211378",
          "coeff-1": "0.9661962286419348",
          "coeff-2": "0.7215337031677271"
         },
         {
          "coeff-0": "-3.108973749211378",
          "coeff-1": "0.9661962286419348",
          "coeff-2": "0.7215337031677271"
         },
         {
          "coeff-0": "-3.108973749211378",
          "coeff-1": "0.9661962286419348",
          "coeff-2": "0.7215337031677271"
         },
         {
          "coeff-0": "-3.108973749211378",
          "coeff-1": "0.9661962286419348",
          "coeff-2": "0.7215337031677271"
         },
         {
          "coeff-0": "-3.108973749211378",
          "coeff-1": "0.9661962286419348",
          "coeff-2": "0.7215337031677271"
         },
         {
          "coeff-0": "-3.108973749211378",
          "coeff-1": "0.9661962286419348",
          "coeff-2": "0.7215337031677271"
         },
         {
          "coeff-0": "-3.108973749211378",
          "coeff-1": "0.9661962286419348",
          "coeff-2": "0.7215337031677271"
         },
         {
          "coeff-0": "-3.108973749211378",
          "coeff-1": "0.9661962286419348",
          "coeff-2": "0.7215337031677271"
         },
         {
          "coeff-0": "-3.108973749211378",
          "coeff-1": "0.9661962286419348",
          "coeff-2": "0.7215337031677271"
         },
         {
          "coeff-0": "-3.108973749211378",
          "coeff-1": "0.9661962286419348",
          "coeff-2": "0.7215337031677271"
         },
         {
          "coeff-0": "-3.108973749211378",
          "coeff-1": "0.9661962286419348",
          "coeff-2": "0.7215337031677271"
         },
         {
          "coeff-0": "-3.108973749211378",
          "coeff-1": "0.9661962286419348",
          "coeff-2": "0.7215337031677271"
         },
         {
          "coeff-0": "-3.108973749211378",
          "coeff-1": "0.9661962286419348",
          "coeff-2": "0.7215337031677271"
         },
         {
          "coeff-0": "-3.108973749211378",
          "coeff-1": "0.9661962286419348",
          "coeff-2": "0.7215337031677271"
         },
         {
          "coeff-0": "-3.108973749211378",
          "coeff-1": "0.9661962286419348",
          "coeff-2": "0.7215337031677271"
         },
         {
          "coeff-0": "-3.108973749211378",
          "coeff-1": "0.9661962286419348",
          "coeff-2": "0.7215337031677271"
         },
         {
          "coeff-0": "-3.108973749211378",
          "coeff-1": "0.9661962286419348",
          "coeff-2": "0.7215337031677271"
         },
         {
          "coeff-0": "-3.108973749211378",
          "coeff-1": "0.9661962286419348",
          "coeff-2": "0.7215337031677271"
         },
         {
          "coeff-0": "-3.0990597727182396",
          "coeff-1": "0.9529885859476565",
          "coeff-2": "0.7768955752283477"
         },
         {
          "coeff-0": "-3.0990597727182396",
          "coeff-1": "0.9529885859476565",
          "coeff-2": "0.7768955752283477"
         },
         {
          "coeff-0": "-3.0990597727182396",
          "coeff-1": "0.9529885859476565",
          "coeff-2": "0.7768955752283477"
         },
         {
          "coeff-0": "-3.0990597727182396",
          "coeff-1": "0.9529885859476565",
          "coeff-2": "0.7768955752283477"
         },
         {
          "coeff-0": "-3.0990597727182396",
          "coeff-1": "0.9529885859476565",
          "coeff-2": "0.7768955752283477"
         },
         {
          "coeff-0": "-3.0990597727182396",
          "coeff-1": "0.9529885859476565",
          "coeff-2": "0.7768955752283477"
         },
         {
          "coeff-0": "-3.0990597727182396",
          "coeff-1": "0.9529885859476565",
          "coeff-2": "0.7768955752283477"
         },
         {
          "coeff-0": "-3.0990597727182396",
          "coeff-1": "0.9529885859476565",
          "coeff-2": "0.7768955752283477"
         },
         {
          "coeff-0": "-3.0990597727182396",
          "coeff-1": "0.9529885859476565",
          "coeff-2": "0.7768955752283477"
         },
         {
          "coeff-0": "-3.0990597727182396",
          "coeff-1": "0.9529885859476565",
          "coeff-2": "0.7768955752283477"
         },
         {
          "coeff-0": "-3.0990597727182396",
          "coeff-1": "0.9529885859476565",
          "coeff-2": "0.7768955752283477"
         },
         {
          "coeff-0": "-3.0990597727182396",
          "coeff-1": "0.9529885859476565",
          "coeff-2": "0.7768955752283477"
         },
         {
          "coeff-0": "-3.0990597727182396",
          "coeff-1": "0.9529885859476565",
          "coeff-2": "0.7768955752283477"
         },
         {
          "coeff-0": "-3.0990597727182396",
          "coeff-1": "0.9529885859476565",
          "coeff-2": "0.7768955752283477"
         },
         {
          "coeff-0": "-3.0990597727182396",
          "coeff-1": "0.9529885859476565",
          "coeff-2": "0.7768955752283477"
         },
         {
          "coeff-0": "-3.0990597727182396",
          "coeff-1": "0.9529885859476565",
          "coeff-2": "0.7768955752283477"
         },
         {
          "coeff-0": "-3.0990597727182396",
          "coeff-1": "0.9529885859476565",
          "coeff-2": "0.7768955752283477"
         },
         {
          "coeff-0": "-3.0990597727182396",
          "coeff-1": "0.9529885859476565",
          "coeff-2": "0.7768955752283477"
         },
         {
          "coeff-0": "-3.0990597727182396",
          "coeff-1": "0.9529885859476565",
          "coeff-2": "0.7768955752283477"
         },
         {
          "coeff-0": "-3.0990597727182396",
          "coeff-1": "0.9529885859476565",
          "coeff-2": "0.7768955752283477"
         },
         {
          "coeff-0": "-3.0990597727182396",
          "coeff-1": "0.9529885859476565",
          "coeff-2": "0.7768955752283477"
         },
         {
          "coeff-0": "-3.0990597727182396",
          "coeff-1": "0.9529885859476565",
          "coeff-2": "0.7768955752283477"
         },
         {
          "coeff-0": "-3.0990597727182396",
          "coeff-1": "0.9529885859476565",
          "coeff-2": "0.7768955752283477"
         },
         {
          "coeff-0": "-3.0990597727182396",
          "coeff-1": "0.9529885859476565",
          "coeff-2": "0.7768955752283477"
         },
         {
          "coeff-0": "-3.0990597727182396",
          "coeff-1": "0.9529885859476565",
          "coeff-2": "0.7768955752283477"
         },
         {
          "coeff-0": "-3.0990597727182396",
          "coeff-1": "0.9529885859476565",
          "coeff-2": "0.7768955752283477"
         },
         {
          "coeff-0": "-3.0990597727182396",
          "coeff-1": "0.9529885859476565",
          "coeff-2": "0.7768955752283477"
         },
         {
          "coeff-0": "-3.0990597727182396",
          "coeff-1": "0.9529885859476565",
          "coeff-2": "0.7768955752283477"
         },
         {
          "coeff-0": "-3.0990597727182396",
          "coeff-1": "0.9529885859476565",
          "coeff-2": "0.7768955752283477"
         },
         {
          "coeff-0": "-3.0990597727182396",
          "coeff-1": "0.9529885859476565",
          "coeff-2": "0.7768955752283477"
         },
         {
          "coeff-0": "-3.0990597727182396",
          "coeff-1": "0.9529885859476565",
          "coeff-2": "0.7768955752283477"
         },
         {
          "coeff-0": "-3.0990597727182396",
          "coeff-1": "0.9529885859476565",
          "coeff-2": "0.7768955752283477"
         },
         {
          "coeff-0": "-3.0990597727182396",
          "coeff-1": "0.9529885859476565",
          "coeff-2": "0.7768955752283477"
         },
         {
          "coeff-0": "-3.1147576466545077",
          "coeff-1": "0.9607620450405505",
          "coeff-2": "0.7317073580261604"
         },
         {
          "coeff-0": "-3.1147576466545077",
          "coeff-1": "0.9607620450405505",
          "coeff-2": "0.7317073580261604"
         },
         {
          "coeff-0": "-3.1147576466545077",
          "coeff-1": "0.9607620450405505",
          "coeff-2": "0.7317073580261604"
         },
         {
          "coeff-0": "-3.1147576466545077",
          "coeff-1": "0.9607620450405505",
          "coeff-2": "0.7317073580261604"
         },
         {
          "coeff-0": "-3.1147576466545077",
          "coeff-1": "0.9607620450405505",
          "coeff-2": "0.7317073580261604"
         },
         {
          "coeff-0": "-3.1147576466545077",
          "coeff-1": "0.9607620450405505",
          "coeff-2": "0.7317073580261604"
         },
         {
          "coeff-0": "-3.1147576466545077",
          "coeff-1": "0.9607620450405505",
          "coeff-2": "0.7317073580261604"
         },
         {
          "coeff-0": "-3.1147576466545077",
          "coeff-1": "0.9607620450405505",
          "coeff-2": "0.7317073580261604"
         },
         {
          "coeff-0": "-3.1147576466545077",
          "coeff-1": "0.9607620450405505",
          "coeff-2": "0.7317073580261604"
         },
         {
          "coeff-0": "-3.1147576466545077",
          "coeff-1": "0.9607620450405505",
          "coeff-2": "0.7317073580261604"
         },
         {
          "coeff-0": "-3.1147576466545077",
          "coeff-1": "0.9607620450405505",
          "coeff-2": "0.7317073580261604"
         },
         {
          "coeff-0": "-3.1147576466545077",
          "coeff-1": "0.9607620450405505",
          "coeff-2": "0.7317073580261604"
         },
         {
          "coeff-0": "-3.1147576466545077",
          "coeff-1": "0.9607620450405505",
          "coeff-2": "0.7317073580261604"
         },
         {
          "coeff-0": "-3.1147576466545077",
          "coeff-1": "0.9607620450405505",
          "coeff-2": "0.7317073580261604"
         },
         {
          "coeff-0": "-3.1147576466545077",
          "coeff-1": "0.9607620450405505",
          "coeff-2": "0.7317073580261604"
         },
         {
          "coeff-0": "-3.1147576466545077",
          "coeff-1": "0.9607620450405505",
          "coeff-2": "0.7317073580261604"
         },
         {
          "coeff-0": "-3.1147576466545077",
          "coeff-1": "0.9607620450405505",
          "coeff-2": "0.7317073580261604"
         },
         {
          "coeff-0": "-3.1147576466545077",
          "coeff-1": "0.9607620450405505",
          "coeff-2": "0.7317073580261604"
         },
         {
          "coeff-0": "-3.1147576466545077",
          "coeff-1": "0.9607620450405505",
          "coeff-2": "0.7317073580261604"
         },
         {
          "coeff-0": "-3.1147576466545077",
          "coeff-1": "0.9607620450405505",
          "coeff-2": "0.7317073580261604"
         },
         {
          "coeff-0": "-3.1147576466545077",
          "coeff-1": "0.9607620450405505",
          "coeff-2": "0.7317073580261604"
         },
         {
          "coeff-0": "-3.1147576466545077",
          "coeff-1": "0.9607620450405505",
          "coeff-2": "0.7317073580261604"
         },
         {
          "coeff-0": "-3.1147576466545077",
          "coeff-1": "0.9607620450405505",
          "coeff-2": "0.7317073580261604"
         },
         {
          "coeff-0": "-3.1147576466545077",
          "coeff-1": "0.9607620450405505",
          "coeff-2": "0.7317073580261604"
         },
         {
          "coeff-0": "-3.1147576466545077",
          "coeff-1": "0.9607620450405505",
          "coeff-2": "0.7317073580261604"
         },
         {
          "coeff-0": "-3.1147576466545077",
          "coeff-1": "0.9607620450405505",
          "coeff-2": "0.7317073580261604"
         },
         {
          "coeff-0": "-3.1147576466545077",
          "coeff-1": "0.9607620450405505",
          "coeff-2": "0.7317073580261604"
         },
         {
          "coeff-0": "-3.1147576466545077",
          "coeff-1": "0.9607620450405505",
          "coeff-2": "0.7317073580261604"
         },
         {
          "coeff-0": "-3.1147576466545077",
          "coeff-1": "0.9607620450405505",
          "coeff-2": "0.7317073580261604"
         },
         {
          "coeff-0": "-3.1147576466545077",
          "coeff-1": "0.9607620450405505",
          "coeff-2": "0.7317073580261604"
         },
         {
          "coeff-0": "-3.1147576466545077",
          "coeff-1": "0.9607620450405505",
          "coeff-2": "0.7317073580261604"
         },
         {
          "coeff-0": "-3.1147576466545077",
          "coeff-1": "0.9607620450405505",
          "coeff-2": "0.7317073580261604"
         },
         {
          "coeff-0": "-3.1147576466545077",
          "coeff-1": "0.9607620450405505",
          "coeff-2": "0.7317073580261604"
         },
         {
          "coeff-0": "-3.1147576466545077",
          "coeff-1": "0.9607620450405505",
          "coeff-2": "0.7317073580261604"
         },
         {
          "coeff-0": "-3.1147576466545077",
          "coeff-1": "0.9607620450405505",
          "coeff-2": "0.7317073580261604"
         },
         {
          "coeff-0": "-3.1147576466545077",
          "coeff-1": "0.9607620450405505",
          "coeff-2": "0.7317073580261604"
         },
         {
          "coeff-0": "-3.1147576466545077",
          "coeff-1": "0.9607620450405505",
          "coeff-2": "0.7317073580261604"
         },
         {
          "coeff-0": "-3.1147576466545077",
          "coeff-1": "0.9607620450405505",
          "coeff-2": "0.7317073580261604"
         },
         {
          "coeff-0": "-3.1147576466545077",
          "coeff-1": "0.9607620450405505",
          "coeff-2": "0.7317073580261604"
         },
         {
          "coeff-0": "-3.1147576466545077",
          "coeff-1": "0.9607620450405505",
          "coeff-2": "0.7317073580261604"
         },
         {
          "coeff-0": "-3.1147576466545077",
          "coeff-1": "0.9607620450405505",
          "coeff-2": "0.7317073580261604"
         },
         {
          "coeff-0": "-3.099188927723548",
          "coeff-1": "0.9084850555093568",
          "coeff-2": "0.7916296764833981"
         },
         {
          "coeff-0": "-3.099188927723548",
          "coeff-1": "0.9084850555093568",
          "coeff-2": "0.7916296764833981"
         },
         {
          "coeff-0": "-3.099188927723548",
          "coeff-1": "0.9084850555093568",
          "coeff-2": "0.7916296764833981"
         },
         {
          "coeff-0": "-3.099188927723548",
          "coeff-1": "0.9084850555093568",
          "coeff-2": "0.7916296764833981"
         },
         {
          "coeff-0": "-3.099188927723548",
          "coeff-1": "0.9084850555093568",
          "coeff-2": "0.7916296764833981"
         },
         {
          "coeff-0": "-3.099188927723548",
          "coeff-1": "0.9084850555093568",
          "coeff-2": "0.7916296764833981"
         },
         {
          "coeff-0": "-3.099188927723548",
          "coeff-1": "0.9084850555093568",
          "coeff-2": "0.7916296764833981"
         },
         {
          "coeff-0": "-3.099188927723548",
          "coeff-1": "0.9084850555093568",
          "coeff-2": "0.7916296764833981"
         },
         {
          "coeff-0": "-3.099188927723548",
          "coeff-1": "0.9084850555093568",
          "coeff-2": "0.7916296764833981"
         },
         {
          "coeff-0": "-3.099188927723548",
          "coeff-1": "0.9084850555093568",
          "coeff-2": "0.7916296764833981"
         },
         {
          "coeff-0": "-3.099188927723548",
          "coeff-1": "0.9084850555093568",
          "coeff-2": "0.7916296764833981"
         },
         {
          "coeff-0": "-3.099188927723548",
          "coeff-1": "0.9084850555093568",
          "coeff-2": "0.7916296764833981"
         },
         {
          "coeff-0": "-3.099188927723548",
          "coeff-1": "0.9084850555093568",
          "coeff-2": "0.7916296764833981"
         },
         {
          "coeff-0": "-3.099188927723548",
          "coeff-1": "0.9084850555093568",
          "coeff-2": "0.7916296764833981"
         },
         {
          "coeff-0": "-3.099188927723548",
          "coeff-1": "0.9084850555093568",
          "coeff-2": "0.7916296764833981"
         },
         {
          "coeff-0": "-3.099188927723548",
          "coeff-1": "0.9084850555093568",
          "coeff-2": "0.7916296764833981"
         },
         {
          "coeff-0": "-3.099188927723548",
          "coeff-1": "0.9084850555093568",
          "coeff-2": "0.7916296764833981"
         },
         {
          "coeff-0": "-3.099188927723548",
          "coeff-1": "0.9084850555093568",
          "coeff-2": "0.7916296764833981"
         },
         {
          "coeff-0": "-3.07653985889361",
          "coeff-1": "0.9358859866350081",
          "coeff-2": "0.8763498609049175"
         },
         {
          "coeff-0": "-3.07653985889361",
          "coeff-1": "0.9358859866350081",
          "coeff-2": "0.8763498609049175"
         },
         {
          "coeff-0": "-3.07653985889361",
          "coeff-1": "0.9358859866350081",
          "coeff-2": "0.8763498609049175"
         },
         {
          "coeff-0": "-3.07653985889361",
          "coeff-1": "0.9358859866350081",
          "coeff-2": "0.8763498609049175"
         },
         {
          "coeff-0": "-3.07653985889361",
          "coeff-1": "0.9358859866350081",
          "coeff-2": "0.8763498609049175"
         },
         {
          "coeff-0": "-3.07653985889361",
          "coeff-1": "0.9358859866350081",
          "coeff-2": "0.8763498609049175"
         },
         {
          "coeff-0": "-3.07653985889361",
          "coeff-1": "0.9358859866350081",
          "coeff-2": "0.8763498609049175"
         },
         {
          "coeff-0": "-3.07653985889361",
          "coeff-1": "0.9358859866350081",
          "coeff-2": "0.8763498609049175"
         },
         {
          "coeff-0": "-3.07653985889361",
          "coeff-1": "0.9358859866350081",
          "coeff-2": "0.8763498609049175"
         },
         {
          "coeff-0": "-3.07653985889361",
          "coeff-1": "0.9358859866350081",
          "coeff-2": "0.8763498609049175"
         },
         {
          "coeff-0": "-3.07653985889361",
          "coeff-1": "0.9358859866350081",
          "coeff-2": "0.8763498609049175"
         },
         {
          "coeff-0": "-3.07653985889361",
          "coeff-1": "0.9358859866350081",
          "coeff-2": "0.8763498609049175"
         },
         {
          "coeff-0": "-3.07653985889361",
          "coeff-1": "0.9358859866350081",
          "coeff-2": "0.8763498609049175"
         },
         {
          "coeff-0": "-3.07653985889361",
          "coeff-1": "0.9358859866350081",
          "coeff-2": "0.8763498609049175"
         },
         {
          "coeff-0": "-3.07653985889361",
          "coeff-1": "0.9358859866350081",
          "coeff-2": "0.8763498609049175"
         },
         {
          "coeff-0": "-3.07653985889361",
          "coeff-1": "0.9358859866350081",
          "coeff-2": "0.8763498609049175"
         },
         {
          "coeff-0": "-3.07653985889361",
          "coeff-1": "0.9358859866350081",
          "coeff-2": "0.8763498609049175"
         },
         {
          "coeff-0": "-3.0809810144528895",
          "coeff-1": "0.8860595213643153",
          "coeff-2": "0.8554625965952408"
         },
         {
          "coeff-0": "-3.0809810144528895",
          "coeff-1": "0.8860595213643153",
          "coeff-2": "0.8554625965952408"
         },
         {
          "coeff-0": "-3.0809810144528895",
          "coeff-1": "0.8860595213643153",
          "coeff-2": "0.8554625965952408"
         },
         {
          "coeff-0": "-3.0809810144528895",
          "coeff-1": "0.8860595213643153",
          "coeff-2": "0.8554625965952408"
         },
         {
          "coeff-0": "-3.0809810144528895",
          "coeff-1": "0.8860595213643153",
          "coeff-2": "0.8554625965952408"
         },
         {
          "coeff-0": "-3.0809810144528895",
          "coeff-1": "0.8860595213643153",
          "coeff-2": "0.8554625965952408"
         },
         {
          "coeff-0": "-3.0809810144528895",
          "coeff-1": "0.8860595213643153",
          "coeff-2": "0.8554625965952408"
         },
         {
          "coeff-0": "-3.0809810144528895",
          "coeff-1": "0.8860595213643153",
          "coeff-2": "0.8554625965952408"
         },
         {
          "coeff-0": "-3.0809810144528895",
          "coeff-1": "0.8860595213643153",
          "coeff-2": "0.8554625965952408"
         },
         {
          "coeff-0": "-3.0809810144528895",
          "coeff-1": "0.8860595213643153",
          "coeff-2": "0.8554625965952408"
         },
         {
          "coeff-0": "-3.0809810144528895",
          "coeff-1": "0.8860595213643153",
          "coeff-2": "0.8554625965952408"
         },
         {
          "coeff-0": "-3.0809810144528895",
          "coeff-1": "0.8860595213643153",
          "coeff-2": "0.8554625965952408"
         },
         {
          "coeff-0": "-3.0809810144528895",
          "coeff-1": "0.8860595213643153",
          "coeff-2": "0.8554625965952408"
         },
         {
          "coeff-0": "-3.0809810144528895",
          "coeff-1": "0.8860595213643153",
          "coeff-2": "0.8554625965952408"
         },
         {
          "coeff-0": "-3.0809810144528895",
          "coeff-1": "0.8860595213643153",
          "coeff-2": "0.8554625965952408"
         },
         {
          "coeff-0": "-3.0875395632987237",
          "coeff-1": "0.943078866091059",
          "coeff-2": "0.7831960271479824"
         },
         {
          "coeff-0": "-3.0875395632987237",
          "coeff-1": "0.943078866091059",
          "coeff-2": "0.7831960271479824"
         },
         {
          "coeff-0": "-3.0875395632987237",
          "coeff-1": "0.943078866091059",
          "coeff-2": "0.7831960271479824"
         },
         {
          "coeff-0": "-3.0875395632987237",
          "coeff-1": "0.943078866091059",
          "coeff-2": "0.7831960271479824"
         },
         {
          "coeff-0": "-3.0875395632987237",
          "coeff-1": "0.943078866091059",
          "coeff-2": "0.7831960271479824"
         },
         {
          "coeff-0": "-3.0875395632987237",
          "coeff-1": "0.943078866091059",
          "coeff-2": "0.7831960271479824"
         },
         {
          "coeff-0": "-3.0875395632987237",
          "coeff-1": "0.943078866091059",
          "coeff-2": "0.7831960271479824"
         },
         {
          "coeff-0": "-3.0875395632987237",
          "coeff-1": "0.943078866091059",
          "coeff-2": "0.7831960271479824"
         },
         {
          "coeff-0": "-3.0875395632987237",
          "coeff-1": "0.943078866091059",
          "coeff-2": "0.7831960271479824"
         },
         {
          "coeff-0": "-3.0875395632987237",
          "coeff-1": "0.943078866091059",
          "coeff-2": "0.7831960271479824"
         },
         {
          "coeff-0": "-3.0875395632987237",
          "coeff-1": "0.943078866091059",
          "coeff-2": "0.7831960271479824"
         },
         {
          "coeff-0": "-3.0875395632987237",
          "coeff-1": "0.943078866091059",
          "coeff-2": "0.7831960271479824"
         },
         {
          "coeff-0": "-3.0875395632987237",
          "coeff-1": "0.943078866091059",
          "coeff-2": "0.7831960271479824"
         },
         {
          "coeff-0": "-3.0875395632987237",
          "coeff-1": "0.943078866091059",
          "coeff-2": "0.7831960271479824"
         },
         {
          "coeff-0": "-3.0875395632987237",
          "coeff-1": "0.943078866091059",
          "coeff-2": "0.7831960271479824"
         },
         {
          "coeff-0": "-3.0875395632987237",
          "coeff-1": "0.943078866091059",
          "coeff-2": "0.7831960271479824"
         },
         {
          "coeff-0": "-3.0875395632987237",
          "coeff-1": "0.943078866091059",
          "coeff-2": "0.7831960271479824"
         },
         {
          "coeff-0": "-3.0875395632987237",
          "coeff-1": "0.943078866091059",
          "coeff-2": "0.7831960271479824"
         },
         {
          "coeff-0": "-3.0875395632987237",
          "coeff-1": "0.943078866091059",
          "coeff-2": "0.7831960271479824"
         },
         {
          "coeff-0": "-3.0875395632987237",
          "coeff-1": "0.943078866091059",
          "coeff-2": "0.7831960271479824"
         },
         {
          "coeff-0": "-3.0875395632987237",
          "coeff-1": "0.943078866091059",
          "coeff-2": "0.7831960271479824"
         },
         {
          "coeff-0": "-3.0875395632987237",
          "coeff-1": "0.943078866091059",
          "coeff-2": "0.7831960271479824"
         },
         {
          "coeff-0": "-3.0875395632987237",
          "coeff-1": "0.943078866091059",
          "coeff-2": "0.7831960271479824"
         },
         {
          "coeff-0": "-3.0875395632987237",
          "coeff-1": "0.943078866091059",
          "coeff-2": "0.7831960271479824"
         },
         {
          "coeff-0": "-3.0875395632987237",
          "coeff-1": "0.943078866091059",
          "coeff-2": "0.7831960271479824"
         },
         {
          "coeff-0": "-3.0875395632987237",
          "coeff-1": "0.943078866091059",
          "coeff-2": "0.7831960271479824"
         },
         {
          "coeff-0": "-3.0875395632987237",
          "coeff-1": "0.943078866091059",
          "coeff-2": "0.7831960271479824"
         },
         {
          "coeff-0": "-3.0875395632987237",
          "coeff-1": "0.943078866091059",
          "coeff-2": "0.7831960271479824"
         },
         {
          "coeff-0": "-3.0875395632987237",
          "coeff-1": "0.943078866091059",
          "coeff-2": "0.7831960271479824"
         },
         {
          "coeff-0": "-3.0875395632987237",
          "coeff-1": "0.943078866091059",
          "coeff-2": "0.7831960271479824"
         },
         {
          "coeff-0": "-3.0875395632987237",
          "coeff-1": "0.943078866091059",
          "coeff-2": "0.7831960271479824"
         },
         {
          "coeff-0": "-3.0875395632987237",
          "coeff-1": "0.943078866091059",
          "coeff-2": "0.7831960271479824"
         },
         {
          "coeff-0": "-3.0875395632987237",
          "coeff-1": "0.943078866091059",
          "coeff-2": "0.7831960271479824"
         },
         {
          "coeff-0": "-3.0875395632987237",
          "coeff-1": "0.943078866091059",
          "coeff-2": "0.7831960271479824"
         },
         {
          "coeff-0": "-3.0875395632987237",
          "coeff-1": "0.943078866091059",
          "coeff-2": "0.7831960271479824"
         },
         {
          "coeff-0": "-3.0875395632987237",
          "coeff-1": "0.943078866091059",
          "coeff-2": "0.7831960271479824"
         },
         {
          "coeff-0": "-3.0875395632987237",
          "coeff-1": "0.943078866091059",
          "coeff-2": "0.7831960271479824"
         },
         {
          "coeff-0": "-3.0875395632987237",
          "coeff-1": "0.943078866091059",
          "coeff-2": "0.7831960271479824"
         },
         {
          "coeff-0": "-3.0875395632987237",
          "coeff-1": "0.943078866091059",
          "coeff-2": "0.7831960271479824"
         },
         {
          "coeff-0": "-3.0875395632987237",
          "coeff-1": "0.943078866091059",
          "coeff-2": "0.7831960271479824"
         },
         {
          "coeff-0": "-3.0875395632987237",
          "coeff-1": "0.943078866091059",
          "coeff-2": "0.7831960271479824"
         },
         {
          "coeff-0": "-3.0875395632987237",
          "coeff-1": "0.943078866091059",
          "coeff-2": "0.7831960271479824"
         },
         {
          "coeff-0": "-3.0875395632987237",
          "coeff-1": "0.943078866091059",
          "coeff-2": "0.7831960271479824"
         },
         {
          "coeff-0": "-3.0875395632987237",
          "coeff-1": "0.943078866091059",
          "coeff-2": "0.7831960271479824"
         },
         {
          "coeff-0": "-3.0875395632987237",
          "coeff-1": "0.943078866091059",
          "coeff-2": "0.7831960271479824"
         },
         {
          "coeff-0": "-3.0875395632987237",
          "coeff-1": "0.943078866091059",
          "coeff-2": "0.7831960271479824"
         },
         {
          "coeff-0": "-3.0875395632987237",
          "coeff-1": "0.943078866091059",
          "coeff-2": "0.7831960271479824"
         },
         {
          "coeff-0": "-3.0875395632987237",
          "coeff-1": "0.943078866091059",
          "coeff-2": "0.7831960271479824"
         },
         {
          "coeff-0": "-3.0875395632987237",
          "coeff-1": "0.943078866091059",
          "coeff-2": "0.7831960271479824"
         },
         {
          "coeff-0": "-3.0875395632987237",
          "coeff-1": "0.943078866091059",
          "coeff-2": "0.7831960271479824"
         },
         {
          "coeff-0": "-3.0875395632987237",
          "coeff-1": "0.943078866091059",
          "coeff-2": "0.7831960271479824"
         },
         {
          "coeff-0": "-3.0875395632987237",
          "coeff-1": "0.943078866091059",
          "coeff-2": "0.7831960271479824"
         },
         {
          "coeff-0": "-3.0875395632987237",
          "coeff-1": "0.943078866091059",
          "coeff-2": "0.7831960271479824"
         },
         {
          "coeff-0": "-3.0875395632987237",
          "coeff-1": "0.943078866091059",
          "coeff-2": "0.7831960271479824"
         },
         {
          "coeff-0": "-3.0875395632987237",
          "coeff-1": "0.943078866091059",
          "coeff-2": "0.7831960271479824"
         },
         {
          "coeff-0": "-3.0875395632987237",
          "coeff-1": "0.943078866091059",
          "coeff-2": "0.7831960271479824"
         },
         {
          "coeff-0": "-3.0875395632987237",
          "coeff-1": "0.943078866091059",
          "coeff-2": "0.7831960271479824"
         },
         {
          "coeff-0": "-3.0875395632987237",
          "coeff-1": "0.943078866091059",
          "coeff-2": "0.7831960271479824"
         },
         {
          "coeff-0": "-3.0875395632987237",
          "coeff-1": "0.943078866091059",
          "coeff-2": "0.7831960271479824"
         },
         {
          "coeff-0": "-3.0875395632987237",
          "coeff-1": "0.943078866091059",
          "coeff-2": "0.7831960271479824"
         },
         {
          "coeff-0": "-3.0875395632987237",
          "coeff-1": "0.943078866091059",
          "coeff-2": "0.7831960271479824"
         },
         {
          "coeff-0": "-3.0875395632987237",
          "coeff-1": "0.943078866091059",
          "coeff-2": "0.7831960271479824"
         },
         {
          "coeff-0": "-3.0875395632987237",
          "coeff-1": "0.943078866091059",
          "coeff-2": "0.7831960271479824"
         },
         {
          "coeff-0": "-3.0875395632987237",
          "coeff-1": "0.943078866091059",
          "coeff-2": "0.7831960271479824"
         },
         {
          "coeff-0": "-3.0875395632987237",
          "coeff-1": "0.943078866091059",
          "coeff-2": "0.7831960271479824"
         },
         {
          "coeff-0": "-3.0875395632987237",
          "coeff-1": "0.943078866091059",
          "coeff-2": "0.7831960271479824"
         },
         {
          "coeff-0": "-3.0875395632987237",
          "coeff-1": "0.943078866091059",
          "coeff-2": "0.7831960271479824"
         },
         {
          "coeff-0": "-3.0875395632987237",
          "coeff-1": "0.943078866091059",
          "coeff-2": "0.7831960271479824"
         },
         {
          "coeff-0": "-3.0875395632987237",
          "coeff-1": "0.943078866091059",
          "coeff-2": "0.7831960271479824"
         },
         {
          "coeff-0": "-3.0875395632987237",
          "coeff-1": "0.943078866091059",
          "coeff-2": "0.7831960271479824"
         },
         {
          "coeff-0": "-3.0875395632987237",
          "coeff-1": "0.943078866091059",
          "coeff-2": "0.7831960271479824"
         },
         {
          "coeff-0": "-3.0875395632987237",
          "coeff-1": "0.943078866091059",
          "coeff-2": "0.7831960271479824"
         },
         {
          "coeff-0": "-3.0875395632987237",
          "coeff-1": "0.943078866091059",
          "coeff-2": "0.7831960271479824"
         },
         {
          "coeff-0": "-3.0875395632987237",
          "coeff-1": "0.943078866091059",
          "coeff-2": "0.7831960271479824"
         },
         {
          "coeff-0": "-3.0875395632987237",
          "coeff-1": "0.943078866091059",
          "coeff-2": "0.7831960271479824"
         },
         {
          "coeff-0": "-3.0875395632987237",
          "coeff-1": "0.943078866091059",
          "coeff-2": "0.7831960271479824"
         },
         {
          "coeff-0": "-3.0875395632987237",
          "coeff-1": "0.943078866091059",
          "coeff-2": "0.7831960271479824"
         },
         {
          "coeff-0": "-3.0875395632987237",
          "coeff-1": "0.943078866091059",
          "coeff-2": "0.7831960271479824"
         },
         {
          "coeff-0": "-3.0875395632987237",
          "coeff-1": "0.943078866091059",
          "coeff-2": "0.7831960271479824"
         },
         {
          "coeff-0": "-3.0875395632987237",
          "coeff-1": "0.943078866091059",
          "coeff-2": "0.7831960271479824"
         },
         {
          "coeff-0": "-3.0875395632987237",
          "coeff-1": "0.943078866091059",
          "coeff-2": "0.7831960271479824"
         },
         {
          "coeff-0": "-3.0875395632987237",
          "coeff-1": "0.943078866091059",
          "coeff-2": "0.7831960271479824"
         },
         {
          "coeff-0": "-3.0875395632987237",
          "coeff-1": "0.943078866091059",
          "coeff-2": "0.7831960271479824"
         },
         {
          "coeff-0": "-3.0875395632987237",
          "coeff-1": "0.943078866091059",
          "coeff-2": "0.7831960271479824"
         },
         {
          "coeff-0": "-3.0875395632987237",
          "coeff-1": "0.943078866091059",
          "coeff-2": "0.7831960271479824"
         },
         {
          "coeff-0": "-3.0875395632987237",
          "coeff-1": "0.943078866091059",
          "coeff-2": "0.7831960271479824"
         },
         {
          "coeff-0": "-3.0875395632987237",
          "coeff-1": "0.943078866091059",
          "coeff-2": "0.7831960271479824"
         },
         {
          "coeff-0": "-3.0875395632987237",
          "coeff-1": "0.943078866091059",
          "coeff-2": "0.7831960271479824"
         },
         {
          "coeff-0": "-3.0875395632987237",
          "coeff-1": "0.943078866091059",
          "coeff-2": "0.7831960271479824"
         },
         {
          "coeff-0": "-3.0875395632987237",
          "coeff-1": "0.943078866091059",
          "coeff-2": "0.7831960271479824"
         },
         {
          "coeff-0": "-3.0572303731309938",
          "coeff-1": "0.9378809453558549",
          "coeff-2": "0.8463321340791465"
         },
         {
          "coeff-0": "-3.0572303731309938",
          "coeff-1": "0.9378809453558549",
          "coeff-2": "0.8463321340791465"
         },
         {
          "coeff-0": "-3.0572303731309938",
          "coeff-1": "0.9378809453558549",
          "coeff-2": "0.8463321340791465"
         },
         {
          "coeff-0": "-3.0572303731309938",
          "coeff-1": "0.9378809453558549",
          "coeff-2": "0.8463321340791465"
         },
         {
          "coeff-0": "-3.0572303731309938",
          "coeff-1": "0.9378809453558549",
          "coeff-2": "0.8463321340791465"
         },
         {
          "coeff-0": "-3.0572303731309938",
          "coeff-1": "0.9378809453558549",
          "coeff-2": "0.8463321340791465"
         },
         {
          "coeff-0": "-3.0572303731309938",
          "coeff-1": "0.9378809453558549",
          "coeff-2": "0.8463321340791465"
         },
         {
          "coeff-0": "-3.0572303731309938",
          "coeff-1": "0.9378809453558549",
          "coeff-2": "0.8463321340791465"
         },
         {
          "coeff-0": "-3.0572303731309938",
          "coeff-1": "0.9378809453558549",
          "coeff-2": "0.8463321340791465"
         },
         {
          "coeff-0": "-3.0572303731309938",
          "coeff-1": "0.9378809453558549",
          "coeff-2": "0.8463321340791465"
         },
         {
          "coeff-0": "-3.0572303731309938",
          "coeff-1": "0.9378809453558549",
          "coeff-2": "0.8463321340791465"
         },
         {
          "coeff-0": "-3.0995442766785106",
          "coeff-1": "0.9094152977692133",
          "coeff-2": "0.8650210401454892"
         },
         {
          "coeff-0": "-3.0995442766785106",
          "coeff-1": "0.9094152977692133",
          "coeff-2": "0.8650210401454892"
         },
         {
          "coeff-0": "-3.0995442766785106",
          "coeff-1": "0.9094152977692133",
          "coeff-2": "0.8650210401454892"
         },
         {
          "coeff-0": "-3.0995442766785106",
          "coeff-1": "0.9094152977692133",
          "coeff-2": "0.8650210401454892"
         },
         {
          "coeff-0": "-3.0995442766785106",
          "coeff-1": "0.9094152977692133",
          "coeff-2": "0.8650210401454892"
         },
         {
          "coeff-0": "-3.0995442766785106",
          "coeff-1": "0.9094152977692133",
          "coeff-2": "0.8650210401454892"
         },
         {
          "coeff-0": "-3.0995442766785106",
          "coeff-1": "0.9094152977692133",
          "coeff-2": "0.8650210401454892"
         },
         {
          "coeff-0": "-3.0995442766785106",
          "coeff-1": "0.9094152977692133",
          "coeff-2": "0.8650210401454892"
         },
         {
          "coeff-0": "-3.0995442766785106",
          "coeff-1": "0.9094152977692133",
          "coeff-2": "0.8650210401454892"
         },
         {
          "coeff-0": "-3.0995442766785106",
          "coeff-1": "0.9094152977692133",
          "coeff-2": "0.8650210401454892"
         },
         {
          "coeff-0": "-3.0995442766785106",
          "coeff-1": "0.9094152977692133",
          "coeff-2": "0.8650210401454892"
         },
         {
          "coeff-0": "-3.0995442766785106",
          "coeff-1": "0.9094152977692133",
          "coeff-2": "0.8650210401454892"
         },
         {
          "coeff-0": "-3.0995442766785106",
          "coeff-1": "0.9094152977692133",
          "coeff-2": "0.8650210401454892"
         },
         {
          "coeff-0": "-3.0995442766785106",
          "coeff-1": "0.9094152977692133",
          "coeff-2": "0.8650210401454892"
         },
         {
          "coeff-0": "-3.0995442766785106",
          "coeff-1": "0.9094152977692133",
          "coeff-2": "0.8650210401454892"
         },
         {
          "coeff-0": "-3.0995442766785106",
          "coeff-1": "0.9094152977692133",
          "coeff-2": "0.8650210401454892"
         },
         {
          "coeff-0": "-3.0995442766785106",
          "coeff-1": "0.9094152977692133",
          "coeff-2": "0.8650210401454892"
         },
         {
          "coeff-0": "-3.0995442766785106",
          "coeff-1": "0.9094152977692133",
          "coeff-2": "0.8650210401454892"
         },
         {
          "coeff-0": "-3.0995442766785106",
          "coeff-1": "0.9094152977692133",
          "coeff-2": "0.8650210401454892"
         },
         {
          "coeff-0": "-3.0995442766785106",
          "coeff-1": "0.9094152977692133",
          "coeff-2": "0.8650210401454892"
         },
         {
          "coeff-0": "-3.0995442766785106",
          "coeff-1": "0.9094152977692133",
          "coeff-2": "0.8650210401454892"
         },
         {
          "coeff-0": "-3.0995442766785106",
          "coeff-1": "0.9094152977692133",
          "coeff-2": "0.8650210401454892"
         },
         {
          "coeff-0": "-3.0995442766785106",
          "coeff-1": "0.9094152977692133",
          "coeff-2": "0.8650210401454892"
         },
         {
          "coeff-0": "-3.0995442766785106",
          "coeff-1": "0.9094152977692133",
          "coeff-2": "0.8650210401454892"
         },
         {
          "coeff-0": "-3.0995442766785106",
          "coeff-1": "0.9094152977692133",
          "coeff-2": "0.8650210401454892"
         },
         {
          "coeff-0": "-3.0995442766785106",
          "coeff-1": "0.9094152977692133",
          "coeff-2": "0.8650210401454892"
         },
         {
          "coeff-0": "-3.0995442766785106",
          "coeff-1": "0.9094152977692133",
          "coeff-2": "0.8650210401454892"
         },
         {
          "coeff-0": "-3.0995442766785106",
          "coeff-1": "0.9094152977692133",
          "coeff-2": "0.8650210401454892"
         },
         {
          "coeff-0": "-3.0995442766785106",
          "coeff-1": "0.9094152977692133",
          "coeff-2": "0.8650210401454892"
         },
         {
          "coeff-0": "-3.0995442766785106",
          "coeff-1": "0.9094152977692133",
          "coeff-2": "0.8650210401454892"
         },
         {
          "coeff-0": "-3.0995442766785106",
          "coeff-1": "0.9094152977692133",
          "coeff-2": "0.8650210401454892"
         },
         {
          "coeff-0": "-3.0995442766785106",
          "coeff-1": "0.9094152977692133",
          "coeff-2": "0.8650210401454892"
         },
         {
          "coeff-0": "-3.0995442766785106",
          "coeff-1": "0.9094152977692133",
          "coeff-2": "0.8650210401454892"
         },
         {
          "coeff-0": "-3.0995442766785106",
          "coeff-1": "0.9094152977692133",
          "coeff-2": "0.8650210401454892"
         },
         {
          "coeff-0": "-3.0995442766785106",
          "coeff-1": "0.9094152977692133",
          "coeff-2": "0.8650210401454892"
         },
         {
          "coeff-0": "-3.0995442766785106",
          "coeff-1": "0.9094152977692133",
          "coeff-2": "0.8650210401454892"
         },
         {
          "coeff-0": "-3.0995442766785106",
          "coeff-1": "0.9094152977692133",
          "coeff-2": "0.8650210401454892"
         },
         {
          "coeff-0": "-3.0995442766785106",
          "coeff-1": "0.9094152977692133",
          "coeff-2": "0.8650210401454892"
         },
         {
          "coeff-0": "-3.0995442766785106",
          "coeff-1": "0.9094152977692133",
          "coeff-2": "0.8650210401454892"
         },
         {
          "coeff-0": "-3.0995442766785106",
          "coeff-1": "0.9094152977692133",
          "coeff-2": "0.8650210401454892"
         },
         {
          "coeff-0": "-3.0995442766785106",
          "coeff-1": "0.9094152977692133",
          "coeff-2": "0.8650210401454892"
         },
         {
          "coeff-0": "-3.0995442766785106",
          "coeff-1": "0.9094152977692133",
          "coeff-2": "0.8650210401454892"
         },
         {
          "coeff-0": "-3.0995442766785106",
          "coeff-1": "0.9094152977692133",
          "coeff-2": "0.8650210401454892"
         },
         {
          "coeff-0": "-3.0995442766785106",
          "coeff-1": "0.9094152977692133",
          "coeff-2": "0.8650210401454892"
         },
         {
          "coeff-0": "-3.096297460721261",
          "coeff-1": "0.9077492769450332",
          "coeff-2": "0.8463629655229135"
         },
         {
          "coeff-0": "-3.096297460721261",
          "coeff-1": "0.9077492769450332",
          "coeff-2": "0.8463629655229135"
         },
         {
          "coeff-0": "-3.096297460721261",
          "coeff-1": "0.9077492769450332",
          "coeff-2": "0.8463629655229135"
         },
         {
          "coeff-0": "-3.096297460721261",
          "coeff-1": "0.9077492769450332",
          "coeff-2": "0.8463629655229135"
         },
         {
          "coeff-0": "-3.096297460721261",
          "coeff-1": "0.9077492769450332",
          "coeff-2": "0.8463629655229135"
         },
         {
          "coeff-0": "-3.096297460721261",
          "coeff-1": "0.9077492769450332",
          "coeff-2": "0.8463629655229135"
         },
         {
          "coeff-0": "-3.096297460721261",
          "coeff-1": "0.9077492769450332",
          "coeff-2": "0.8463629655229135"
         },
         {
          "coeff-0": "-3.0670456745451227",
          "coeff-1": "0.9526650390430446",
          "coeff-2": "0.868600779526488"
         },
         {
          "coeff-0": "-3.0670456745451227",
          "coeff-1": "0.9526650390430446",
          "coeff-2": "0.868600779526488"
         },
         {
          "coeff-0": "-3.0670456745451227",
          "coeff-1": "0.9526650390430446",
          "coeff-2": "0.868600779526488"
         },
         {
          "coeff-0": "-3.0670456745451227",
          "coeff-1": "0.9526650390430446",
          "coeff-2": "0.868600779526488"
         },
         {
          "coeff-0": "-3.0670456745451227",
          "coeff-1": "0.9526650390430446",
          "coeff-2": "0.868600779526488"
         },
         {
          "coeff-0": "-3.0670456745451227",
          "coeff-1": "0.9526650390430446",
          "coeff-2": "0.868600779526488"
         },
         {
          "coeff-0": "-3.0670456745451227",
          "coeff-1": "0.9526650390430446",
          "coeff-2": "0.868600779526488"
         },
         {
          "coeff-0": "-3.0670456745451227",
          "coeff-1": "0.9526650390430446",
          "coeff-2": "0.868600779526488"
         },
         {
          "coeff-0": "-3.0670456745451227",
          "coeff-1": "0.9526650390430446",
          "coeff-2": "0.868600779526488"
         },
         {
          "coeff-0": "-3.0670456745451227",
          "coeff-1": "0.9526650390430446",
          "coeff-2": "0.868600779526488"
         },
         {
          "coeff-0": "-3.0670456745451227",
          "coeff-1": "0.9526650390430446",
          "coeff-2": "0.868600779526488"
         },
         {
          "coeff-0": "-3.0670456745451227",
          "coeff-1": "0.9526650390430446",
          "coeff-2": "0.868600779526488"
         },
         {
          "coeff-0": "-3.0670456745451227",
          "coeff-1": "0.9526650390430446",
          "coeff-2": "0.868600779526488"
         },
         {
          "coeff-0": "-3.0670456745451227",
          "coeff-1": "0.9526650390430446",
          "coeff-2": "0.868600779526488"
         },
         {
          "coeff-0": "-3.0670456745451227",
          "coeff-1": "0.9526650390430446",
          "coeff-2": "0.868600779526488"
         },
         {
          "coeff-0": "-3.0670456745451227",
          "coeff-1": "0.9526650390430446",
          "coeff-2": "0.868600779526488"
         },
         {
          "coeff-0": "-3.0670456745451227",
          "coeff-1": "0.9526650390430446",
          "coeff-2": "0.868600779526488"
         },
         {
          "coeff-0": "-3.0670456745451227",
          "coeff-1": "0.9526650390430446",
          "coeff-2": "0.868600779526488"
         },
         {
          "coeff-0": "-3.0670456745451227",
          "coeff-1": "0.9526650390430446",
          "coeff-2": "0.868600779526488"
         },
         {
          "coeff-0": "-3.0670456745451227",
          "coeff-1": "0.9526650390430446",
          "coeff-2": "0.868600779526488"
         },
         {
          "coeff-0": "-3.0670456745451227",
          "coeff-1": "0.9526650390430446",
          "coeff-2": "0.868600779526488"
         },
         {
          "coeff-0": "-3.0670456745451227",
          "coeff-1": "0.9526650390430446",
          "coeff-2": "0.868600779526488"
         },
         {
          "coeff-0": "-3.0670456745451227",
          "coeff-1": "0.9526650390430446",
          "coeff-2": "0.868600779526488"
         },
         {
          "coeff-0": "-3.0670456745451227",
          "coeff-1": "0.9526650390430446",
          "coeff-2": "0.868600779526488"
         },
         {
          "coeff-0": "-3.0670456745451227",
          "coeff-1": "0.9526650390430446",
          "coeff-2": "0.868600779526488"
         },
         {
          "coeff-0": "-3.0670456745451227",
          "coeff-1": "0.9526650390430446",
          "coeff-2": "0.868600779526488"
         },
         {
          "coeff-0": "-3.0670456745451227",
          "coeff-1": "0.9526650390430446",
          "coeff-2": "0.868600779526488"
         },
         {
          "coeff-0": "-3.0670456745451227",
          "coeff-1": "0.9526650390430446",
          "coeff-2": "0.868600779526488"
         },
         {
          "coeff-0": "-3.0670456745451227",
          "coeff-1": "0.9526650390430446",
          "coeff-2": "0.868600779526488"
         },
         {
          "coeff-0": "-3.0670456745451227",
          "coeff-1": "0.9526650390430446",
          "coeff-2": "0.868600779526488"
         },
         {
          "coeff-0": "-3.0670456745451227",
          "coeff-1": "0.9526650390430446",
          "coeff-2": "0.868600779526488"
         },
         {
          "coeff-0": "-3.0670456745451227",
          "coeff-1": "0.9526650390430446",
          "coeff-2": "0.868600779526488"
         },
         {
          "coeff-0": "-3.0670456745451227",
          "coeff-1": "0.9526650390430446",
          "coeff-2": "0.868600779526488"
         },
         {
          "coeff-0": "-3.0670456745451227",
          "coeff-1": "0.9526650390430446",
          "coeff-2": "0.868600779526488"
         },
         {
          "coeff-0": "-3.0670456745451227",
          "coeff-1": "0.9526650390430446",
          "coeff-2": "0.868600779526488"
         },
         {
          "coeff-0": "-3.044605264166192",
          "coeff-1": "0.9252209379898706",
          "coeff-2": "0.9063173083660627"
         },
         {
          "coeff-0": "-3.044605264166192",
          "coeff-1": "0.9252209379898706",
          "coeff-2": "0.9063173083660627"
         },
         {
          "coeff-0": "-3.044605264166192",
          "coeff-1": "0.9252209379898706",
          "coeff-2": "0.9063173083660627"
         },
         {
          "coeff-0": "-3.044605264166192",
          "coeff-1": "0.9252209379898706",
          "coeff-2": "0.9063173083660627"
         },
         {
          "coeff-0": "-3.044605264166192",
          "coeff-1": "0.9252209379898706",
          "coeff-2": "0.9063173083660627"
         },
         {
          "coeff-0": "-3.044605264166192",
          "coeff-1": "0.9252209379898706",
          "coeff-2": "0.9063173083660627"
         },
         {
          "coeff-0": "-3.044605264166192",
          "coeff-1": "0.9252209379898706",
          "coeff-2": "0.9063173083660627"
         },
         {
          "coeff-0": "-3.044605264166192",
          "coeff-1": "0.9252209379898706",
          "coeff-2": "0.9063173083660627"
         },
         {
          "coeff-0": "-3.044605264166192",
          "coeff-1": "0.9252209379898706",
          "coeff-2": "0.9063173083660627"
         },
         {
          "coeff-0": "-3.044605264166192",
          "coeff-1": "0.9252209379898706",
          "coeff-2": "0.9063173083660627"
         },
         {
          "coeff-0": "-3.044605264166192",
          "coeff-1": "0.9252209379898706",
          "coeff-2": "0.9063173083660627"
         },
         {
          "coeff-0": "-3.044605264166192",
          "coeff-1": "0.9252209379898706",
          "coeff-2": "0.9063173083660627"
         },
         {
          "coeff-0": "-3.044605264166192",
          "coeff-1": "0.9252209379898706",
          "coeff-2": "0.9063173083660627"
         },
         {
          "coeff-0": "-3.044605264166192",
          "coeff-1": "0.9252209379898706",
          "coeff-2": "0.9063173083660627"
         },
         {
          "coeff-0": "-3.044605264166192",
          "coeff-1": "0.9252209379898706",
          "coeff-2": "0.9063173083660627"
         },
         {
          "coeff-0": "-3.044605264166192",
          "coeff-1": "0.9252209379898706",
          "coeff-2": "0.9063173083660627"
         },
         {
          "coeff-0": "-3.044605264166192",
          "coeff-1": "0.9252209379898706",
          "coeff-2": "0.9063173083660627"
         },
         {
          "coeff-0": "-3.044605264166192",
          "coeff-1": "0.9252209379898706",
          "coeff-2": "0.9063173083660627"
         },
         {
          "coeff-0": "-3.044605264166192",
          "coeff-1": "0.9252209379898706",
          "coeff-2": "0.9063173083660627"
         },
         {
          "coeff-0": "-3.044605264166192",
          "coeff-1": "0.9252209379898706",
          "coeff-2": "0.9063173083660627"
         },
         {
          "coeff-0": "-3.044605264166192",
          "coeff-1": "0.9252209379898706",
          "coeff-2": "0.9063173083660627"
         },
         {
          "coeff-0": "-3.044605264166192",
          "coeff-1": "0.9252209379898706",
          "coeff-2": "0.9063173083660627"
         },
         {
          "coeff-0": "-3.044605264166192",
          "coeff-1": "0.9252209379898706",
          "coeff-2": "0.9063173083660627"
         },
         {
          "coeff-0": "-3.044605264166192",
          "coeff-1": "0.9252209379898706",
          "coeff-2": "0.9063173083660627"
         },
         {
          "coeff-0": "-3.044605264166192",
          "coeff-1": "0.9252209379898706",
          "coeff-2": "0.9063173083660627"
         },
         {
          "coeff-0": "-3.044605264166192",
          "coeff-1": "0.9252209379898706",
          "coeff-2": "0.9063173083660627"
         },
         {
          "coeff-0": "-3.044605264166192",
          "coeff-1": "0.9252209379898706",
          "coeff-2": "0.9063173083660627"
         },
         {
          "coeff-0": "-3.044605264166192",
          "coeff-1": "0.9252209379898706",
          "coeff-2": "0.9063173083660627"
         },
         {
          "coeff-0": "-3.044605264166192",
          "coeff-1": "0.9252209379898706",
          "coeff-2": "0.9063173083660627"
         },
         {
          "coeff-0": "-3.044605264166192",
          "coeff-1": "0.9252209379898706",
          "coeff-2": "0.9063173083660627"
         },
         {
          "coeff-0": "-3.049671239199533",
          "coeff-1": "0.970393510713785",
          "coeff-2": "0.8560941115209136"
         },
         {
          "coeff-0": "-3.049671239199533",
          "coeff-1": "0.970393510713785",
          "coeff-2": "0.8560941115209136"
         },
         {
          "coeff-0": "-3.049671239199533",
          "coeff-1": "0.970393510713785",
          "coeff-2": "0.8560941115209136"
         },
         {
          "coeff-0": "-3.049671239199533",
          "coeff-1": "0.970393510713785",
          "coeff-2": "0.8560941115209136"
         },
         {
          "coeff-0": "-3.049671239199533",
          "coeff-1": "0.970393510713785",
          "coeff-2": "0.8560941115209136"
         },
         {
          "coeff-0": "-3.049671239199533",
          "coeff-1": "0.970393510713785",
          "coeff-2": "0.8560941115209136"
         },
         {
          "coeff-0": "-3.049671239199533",
          "coeff-1": "0.970393510713785",
          "coeff-2": "0.8560941115209136"
         },
         {
          "coeff-0": "-3.049671239199533",
          "coeff-1": "0.970393510713785",
          "coeff-2": "0.8560941115209136"
         },
         {
          "coeff-0": "-3.049671239199533",
          "coeff-1": "0.970393510713785",
          "coeff-2": "0.8560941115209136"
         },
         {
          "coeff-0": "-3.049671239199533",
          "coeff-1": "0.970393510713785",
          "coeff-2": "0.8560941115209136"
         },
         {
          "coeff-0": "-3.049671239199533",
          "coeff-1": "0.970393510713785",
          "coeff-2": "0.8560941115209136"
         },
         {
          "coeff-0": "-3.049671239199533",
          "coeff-1": "0.970393510713785",
          "coeff-2": "0.8560941115209136"
         },
         {
          "coeff-0": "-3.049671239199533",
          "coeff-1": "0.970393510713785",
          "coeff-2": "0.8560941115209136"
         },
         {
          "coeff-0": "-3.049671239199533",
          "coeff-1": "0.970393510713785",
          "coeff-2": "0.8560941115209136"
         },
         {
          "coeff-0": "-3.049671239199533",
          "coeff-1": "0.970393510713785",
          "coeff-2": "0.8560941115209136"
         },
         {
          "coeff-0": "-3.049671239199533",
          "coeff-1": "0.970393510713785",
          "coeff-2": "0.8560941115209136"
         },
         {
          "coeff-0": "-3.049671239199533",
          "coeff-1": "0.970393510713785",
          "coeff-2": "0.8560941115209136"
         },
         {
          "coeff-0": "-3.049671239199533",
          "coeff-1": "0.970393510713785",
          "coeff-2": "0.8560941115209136"
         },
         {
          "coeff-0": "-3.049671239199533",
          "coeff-1": "0.970393510713785",
          "coeff-2": "0.8560941115209136"
         },
         {
          "coeff-0": "-3.049671239199533",
          "coeff-1": "0.970393510713785",
          "coeff-2": "0.8560941115209136"
         },
         {
          "coeff-0": "-3.049671239199533",
          "coeff-1": "0.970393510713785",
          "coeff-2": "0.8560941115209136"
         },
         {
          "coeff-0": "-3.049671239199533",
          "coeff-1": "0.970393510713785",
          "coeff-2": "0.8560941115209136"
         },
         {
          "coeff-0": "-3.049671239199533",
          "coeff-1": "0.970393510713785",
          "coeff-2": "0.8560941115209136"
         },
         {
          "coeff-0": "-3.049671239199533",
          "coeff-1": "0.970393510713785",
          "coeff-2": "0.8560941115209136"
         },
         {
          "coeff-0": "-3.049671239199533",
          "coeff-1": "0.970393510713785",
          "coeff-2": "0.8560941115209136"
         },
         {
          "coeff-0": "-3.049671239199533",
          "coeff-1": "0.970393510713785",
          "coeff-2": "0.8560941115209136"
         },
         {
          "coeff-0": "-3.049671239199533",
          "coeff-1": "0.970393510713785",
          "coeff-2": "0.8560941115209136"
         },
         {
          "coeff-0": "-3.049671239199533",
          "coeff-1": "0.970393510713785",
          "coeff-2": "0.8560941115209136"
         },
         {
          "coeff-0": "-3.049671239199533",
          "coeff-1": "0.970393510713785",
          "coeff-2": "0.8560941115209136"
         },
         {
          "coeff-0": "-3.049671239199533",
          "coeff-1": "0.970393510713785",
          "coeff-2": "0.8560941115209136"
         },
         {
          "coeff-0": "-3.049671239199533",
          "coeff-1": "0.970393510713785",
          "coeff-2": "0.8560941115209136"
         },
         {
          "coeff-0": "-3.049671239199533",
          "coeff-1": "0.970393510713785",
          "coeff-2": "0.8560941115209136"
         },
         {
          "coeff-0": "-3.049671239199533",
          "coeff-1": "0.970393510713785",
          "coeff-2": "0.8560941115209136"
         },
         {
          "coeff-0": "-3.049671239199533",
          "coeff-1": "0.970393510713785",
          "coeff-2": "0.8560941115209136"
         },
         {
          "coeff-0": "-3.049671239199533",
          "coeff-1": "0.970393510713785",
          "coeff-2": "0.8560941115209136"
         },
         {
          "coeff-0": "-3.049671239199533",
          "coeff-1": "0.970393510713785",
          "coeff-2": "0.8560941115209136"
         },
         {
          "coeff-0": "-3.049671239199533",
          "coeff-1": "0.970393510713785",
          "coeff-2": "0.8560941115209136"
         },
         {
          "coeff-0": "-3.049671239199533",
          "coeff-1": "0.970393510713785",
          "coeff-2": "0.8560941115209136"
         },
         {
          "coeff-0": "-3.049671239199533",
          "coeff-1": "0.970393510713785",
          "coeff-2": "0.8560941115209136"
         },
         {
          "coeff-0": "-3.049671239199533",
          "coeff-1": "0.970393510713785",
          "coeff-2": "0.8560941115209136"
         },
         {
          "coeff-0": "-3.049671239199533",
          "coeff-1": "0.970393510713785",
          "coeff-2": "0.8560941115209136"
         },
         {
          "coeff-0": "-3.049671239199533",
          "coeff-1": "0.970393510713785",
          "coeff-2": "0.8560941115209136"
         },
         {
          "coeff-0": "-3.049671239199533",
          "coeff-1": "0.970393510713785",
          "coeff-2": "0.8560941115209136"
         },
         {
          "coeff-0": "-3.049671239199533",
          "coeff-1": "0.970393510713785",
          "coeff-2": "0.8560941115209136"
         },
         {
          "coeff-0": "-3.049671239199533",
          "coeff-1": "0.970393510713785",
          "coeff-2": "0.8560941115209136"
         },
         {
          "coeff-0": "-3.049671239199533",
          "coeff-1": "0.970393510713785",
          "coeff-2": "0.8560941115209136"
         },
         {
          "coeff-0": "-3.049671239199533",
          "coeff-1": "0.970393510713785",
          "coeff-2": "0.8560941115209136"
         },
         {
          "coeff-0": "-3.049671239199533",
          "coeff-1": "0.970393510713785",
          "coeff-2": "0.8560941115209136"
         },
         {
          "coeff-0": "-3.049671239199533",
          "coeff-1": "0.970393510713785",
          "coeff-2": "0.8560941115209136"
         },
         {
          "coeff-0": "-3.049671239199533",
          "coeff-1": "0.970393510713785",
          "coeff-2": "0.8560941115209136"
         },
         {
          "coeff-0": "-3.049671239199533",
          "coeff-1": "0.970393510713785",
          "coeff-2": "0.8560941115209136"
         },
         {
          "coeff-0": "-3.049671239199533",
          "coeff-1": "0.970393510713785",
          "coeff-2": "0.8560941115209136"
         },
         {
          "coeff-0": "-3.049671239199533",
          "coeff-1": "0.970393510713785",
          "coeff-2": "0.8560941115209136"
         },
         {
          "coeff-0": "-3.049671239199533",
          "coeff-1": "0.970393510713785",
          "coeff-2": "0.8560941115209136"
         },
         {
          "coeff-0": "-3.049671239199533",
          "coeff-1": "0.970393510713785",
          "coeff-2": "0.8560941115209136"
         },
         {
          "coeff-0": "-3.112332059290943",
          "coeff-1": "0.9538640978003642",
          "coeff-2": "0.879347841102763"
         },
         {
          "coeff-0": "-3.112332059290943",
          "coeff-1": "0.9538640978003642",
          "coeff-2": "0.879347841102763"
         },
         {
          "coeff-0": "-3.112332059290943",
          "coeff-1": "0.9538640978003642",
          "coeff-2": "0.879347841102763"
         },
         {
          "coeff-0": "-3.112332059290943",
          "coeff-1": "0.9538640978003642",
          "coeff-2": "0.879347841102763"
         },
         {
          "coeff-0": "-3.112332059290943",
          "coeff-1": "0.9538640978003642",
          "coeff-2": "0.879347841102763"
         },
         {
          "coeff-0": "-3.112332059290943",
          "coeff-1": "0.9538640978003642",
          "coeff-2": "0.879347841102763"
         },
         {
          "coeff-0": "-3.112332059290943",
          "coeff-1": "0.9538640978003642",
          "coeff-2": "0.879347841102763"
         },
         {
          "coeff-0": "-3.112332059290943",
          "coeff-1": "0.9538640978003642",
          "coeff-2": "0.879347841102763"
         },
         {
          "coeff-0": "-3.112332059290943",
          "coeff-1": "0.9538640978003642",
          "coeff-2": "0.879347841102763"
         },
         {
          "coeff-0": "-3.112332059290943",
          "coeff-1": "0.9538640978003642",
          "coeff-2": "0.879347841102763"
         },
         {
          "coeff-0": "-3.112332059290943",
          "coeff-1": "0.9538640978003642",
          "coeff-2": "0.879347841102763"
         },
         {
          "coeff-0": "-3.112332059290943",
          "coeff-1": "0.9538640978003642",
          "coeff-2": "0.879347841102763"
         },
         {
          "coeff-0": "-3.112332059290943",
          "coeff-1": "0.9538640978003642",
          "coeff-2": "0.879347841102763"
         },
         {
          "coeff-0": "-3.112332059290943",
          "coeff-1": "0.9538640978003642",
          "coeff-2": "0.879347841102763"
         },
         {
          "coeff-0": "-3.112332059290943",
          "coeff-1": "0.9538640978003642",
          "coeff-2": "0.879347841102763"
         },
         {
          "coeff-0": "-3.112332059290943",
          "coeff-1": "0.9538640978003642",
          "coeff-2": "0.879347841102763"
         },
         {
          "coeff-0": "-3.112332059290943",
          "coeff-1": "0.9538640978003642",
          "coeff-2": "0.879347841102763"
         },
         {
          "coeff-0": "-3.112332059290943",
          "coeff-1": "0.9538640978003642",
          "coeff-2": "0.879347841102763"
         },
         {
          "coeff-0": "-3.112332059290943",
          "coeff-1": "0.9538640978003642",
          "coeff-2": "0.879347841102763"
         },
         {
          "coeff-0": "-3.112332059290943",
          "coeff-1": "0.9538640978003642",
          "coeff-2": "0.879347841102763"
         },
         {
          "coeff-0": "-3.112332059290943",
          "coeff-1": "0.9538640978003642",
          "coeff-2": "0.879347841102763"
         },
         {
          "coeff-0": "-3.0923325704772293",
          "coeff-1": "0.9004435537943078",
          "coeff-2": "0.9243141930884919"
         },
         {
          "coeff-0": "-3.0923325704772293",
          "coeff-1": "0.9004435537943078",
          "coeff-2": "0.9243141930884919"
         },
         {
          "coeff-0": "-3.074152804726343",
          "coeff-1": "0.9200755145163302",
          "coeff-2": "0.9022199820954071"
         },
         {
          "coeff-0": "-3.074152804726343",
          "coeff-1": "0.9200755145163302",
          "coeff-2": "0.9022199820954071"
         },
         {
          "coeff-0": "-3.074152804726343",
          "coeff-1": "0.9200755145163302",
          "coeff-2": "0.9022199820954071"
         },
         {
          "coeff-0": "-3.074152804726343",
          "coeff-1": "0.9200755145163302",
          "coeff-2": "0.9022199820954071"
         },
         {
          "coeff-0": "-3.074152804726343",
          "coeff-1": "0.9200755145163302",
          "coeff-2": "0.9022199820954071"
         },
         {
          "coeff-0": "-3.074152804726343",
          "coeff-1": "0.9200755145163302",
          "coeff-2": "0.9022199820954071"
         },
         {
          "coeff-0": "-3.074152804726343",
          "coeff-1": "0.9200755145163302",
          "coeff-2": "0.9022199820954071"
         },
         {
          "coeff-0": "-3.074152804726343",
          "coeff-1": "0.9200755145163302",
          "coeff-2": "0.9022199820954071"
         },
         {
          "coeff-0": "-3.074152804726343",
          "coeff-1": "0.9200755145163302",
          "coeff-2": "0.9022199820954071"
         },
         {
          "coeff-0": "-3.074152804726343",
          "coeff-1": "0.9200755145163302",
          "coeff-2": "0.9022199820954071"
         },
         {
          "coeff-0": "-3.074152804726343",
          "coeff-1": "0.9200755145163302",
          "coeff-2": "0.9022199820954071"
         },
         {
          "coeff-0": "-3.074152804726343",
          "coeff-1": "0.9200755145163302",
          "coeff-2": "0.9022199820954071"
         },
         {
          "coeff-0": "-3.074152804726343",
          "coeff-1": "0.9200755145163302",
          "coeff-2": "0.9022199820954071"
         },
         {
          "coeff-0": "-3.074152804726343",
          "coeff-1": "0.9200755145163302",
          "coeff-2": "0.9022199820954071"
         },
         {
          "coeff-0": "-3.074152804726343",
          "coeff-1": "0.9200755145163302",
          "coeff-2": "0.9022199820954071"
         },
         {
          "coeff-0": "-3.074152804726343",
          "coeff-1": "0.9200755145163302",
          "coeff-2": "0.9022199820954071"
         },
         {
          "coeff-0": "-3.074152804726343",
          "coeff-1": "0.9200755145163302",
          "coeff-2": "0.9022199820954071"
         },
         {
          "coeff-0": "-3.074152804726343",
          "coeff-1": "0.9200755145163302",
          "coeff-2": "0.9022199820954071"
         },
         {
          "coeff-0": "-3.074152804726343",
          "coeff-1": "0.9200755145163302",
          "coeff-2": "0.9022199820954071"
         },
         {
          "coeff-0": "-3.074152804726343",
          "coeff-1": "0.9200755145163302",
          "coeff-2": "0.9022199820954071"
         },
         {
          "coeff-0": "-3.074152804726343",
          "coeff-1": "0.9200755145163302",
          "coeff-2": "0.9022199820954071"
         },
         {
          "coeff-0": "-3.074152804726343",
          "coeff-1": "0.9200755145163302",
          "coeff-2": "0.9022199820954071"
         },
         {
          "coeff-0": "-3.074152804726343",
          "coeff-1": "0.9200755145163302",
          "coeff-2": "0.9022199820954071"
         },
         {
          "coeff-0": "-3.074152804726343",
          "coeff-1": "0.9200755145163302",
          "coeff-2": "0.9022199820954071"
         },
         {
          "coeff-0": "-3.074152804726343",
          "coeff-1": "0.9200755145163302",
          "coeff-2": "0.9022199820954071"
         },
         {
          "coeff-0": "-3.074152804726343",
          "coeff-1": "0.9200755145163302",
          "coeff-2": "0.9022199820954071"
         },
         {
          "coeff-0": "-3.074152804726343",
          "coeff-1": "0.9200755145163302",
          "coeff-2": "0.9022199820954071"
         },
         {
          "coeff-0": "-3.046482070402568",
          "coeff-1": "0.9099118249663672",
          "coeff-2": "0.9115960312411427"
         },
         {
          "coeff-0": "-3.046482070402568",
          "coeff-1": "0.9099118249663672",
          "coeff-2": "0.9115960312411427"
         },
         {
          "coeff-0": "-3.046482070402568",
          "coeff-1": "0.9099118249663672",
          "coeff-2": "0.9115960312411427"
         },
         {
          "coeff-0": "-3.046482070402568",
          "coeff-1": "0.9099118249663672",
          "coeff-2": "0.9115960312411427"
         },
         {
          "coeff-0": "-3.046482070402568",
          "coeff-1": "0.9099118249663672",
          "coeff-2": "0.9115960312411427"
         },
         {
          "coeff-0": "-3.046482070402568",
          "coeff-1": "0.9099118249663672",
          "coeff-2": "0.9115960312411427"
         },
         {
          "coeff-0": "-3.046482070402568",
          "coeff-1": "0.9099118249663672",
          "coeff-2": "0.9115960312411427"
         },
         {
          "coeff-0": "-3.046482070402568",
          "coeff-1": "0.9099118249663672",
          "coeff-2": "0.9115960312411427"
         },
         {
          "coeff-0": "-3.046482070402568",
          "coeff-1": "0.9099118249663672",
          "coeff-2": "0.9115960312411427"
         },
         {
          "coeff-0": "-3.046482070402568",
          "coeff-1": "0.9099118249663672",
          "coeff-2": "0.9115960312411427"
         },
         {
          "coeff-0": "-3.046482070402568",
          "coeff-1": "0.9099118249663672",
          "coeff-2": "0.9115960312411427"
         },
         {
          "coeff-0": "-3.046482070402568",
          "coeff-1": "0.9099118249663672",
          "coeff-2": "0.9115960312411427"
         },
         {
          "coeff-0": "-3.046482070402568",
          "coeff-1": "0.9099118249663672",
          "coeff-2": "0.9115960312411427"
         },
         {
          "coeff-0": "-3.046482070402568",
          "coeff-1": "0.9099118249663672",
          "coeff-2": "0.9115960312411427"
         },
         {
          "coeff-0": "-3.046482070402568",
          "coeff-1": "0.9099118249663672",
          "coeff-2": "0.9115960312411427"
         },
         {
          "coeff-0": "-3.046482070402568",
          "coeff-1": "0.9099118249663672",
          "coeff-2": "0.9115960312411427"
         },
         {
          "coeff-0": "-3.046482070402568",
          "coeff-1": "0.9099118249663672",
          "coeff-2": "0.9115960312411427"
         },
         {
          "coeff-0": "-3.046482070402568",
          "coeff-1": "0.9099118249663672",
          "coeff-2": "0.9115960312411427"
         },
         {
          "coeff-0": "-3.046482070402568",
          "coeff-1": "0.9099118249663672",
          "coeff-2": "0.9115960312411427"
         },
         {
          "coeff-0": "-3.046482070402568",
          "coeff-1": "0.9099118249663672",
          "coeff-2": "0.9115960312411427"
         },
         {
          "coeff-0": "-3.046482070402568",
          "coeff-1": "0.9099118249663672",
          "coeff-2": "0.9115960312411427"
         },
         {
          "coeff-0": "-3.046482070402568",
          "coeff-1": "0.9099118249663672",
          "coeff-2": "0.9115960312411427"
         },
         {
          "coeff-0": "-3.046482070402568",
          "coeff-1": "0.9099118249663672",
          "coeff-2": "0.9115960312411427"
         },
         {
          "coeff-0": "-3.046482070402568",
          "coeff-1": "0.9099118249663672",
          "coeff-2": "0.9115960312411427"
         },
         {
          "coeff-0": "-3.046482070402568",
          "coeff-1": "0.9099118249663672",
          "coeff-2": "0.9115960312411427"
         },
         {
          "coeff-0": "-3.046482070402568",
          "coeff-1": "0.9099118249663672",
          "coeff-2": "0.9115960312411427"
         },
         {
          "coeff-0": "-3.046482070402568",
          "coeff-1": "0.9099118249663672",
          "coeff-2": "0.9115960312411427"
         },
         {
          "coeff-0": "-3.046482070402568",
          "coeff-1": "0.9099118249663672",
          "coeff-2": "0.9115960312411427"
         },
         {
          "coeff-0": "-3.046482070402568",
          "coeff-1": "0.9099118249663672",
          "coeff-2": "0.9115960312411427"
         },
         {
          "coeff-0": "-3.046482070402568",
          "coeff-1": "0.9099118249663672",
          "coeff-2": "0.9115960312411427"
         },
         {
          "coeff-0": "-3.046482070402568",
          "coeff-1": "0.9099118249663672",
          "coeff-2": "0.9115960312411427"
         },
         {
          "coeff-0": "-3.046482070402568",
          "coeff-1": "0.9099118249663672",
          "coeff-2": "0.9115960312411427"
         },
         {
          "coeff-0": "-3.046482070402568",
          "coeff-1": "0.9099118249663672",
          "coeff-2": "0.9115960312411427"
         },
         {
          "coeff-0": "-3.046482070402568",
          "coeff-1": "0.9099118249663672",
          "coeff-2": "0.9115960312411427"
         },
         {
          "coeff-0": "-3.046482070402568",
          "coeff-1": "0.9099118249663672",
          "coeff-2": "0.9115960312411427"
         },
         {
          "coeff-0": "-3.046482070402568",
          "coeff-1": "0.9099118249663672",
          "coeff-2": "0.9115960312411427"
         },
         {
          "coeff-0": "-3.046482070402568",
          "coeff-1": "0.9099118249663672",
          "coeff-2": "0.9115960312411427"
         },
         {
          "coeff-0": "-3.046482070402568",
          "coeff-1": "0.9099118249663672",
          "coeff-2": "0.9115960312411427"
         },
         {
          "coeff-0": "-3.046482070402568",
          "coeff-1": "0.9099118249663672",
          "coeff-2": "0.9115960312411427"
         },
         {
          "coeff-0": "-3.046482070402568",
          "coeff-1": "0.9099118249663672",
          "coeff-2": "0.9115960312411427"
         },
         {
          "coeff-0": "-3.046482070402568",
          "coeff-1": "0.9099118249663672",
          "coeff-2": "0.9115960312411427"
         },
         {
          "coeff-0": "-3.046482070402568",
          "coeff-1": "0.9099118249663672",
          "coeff-2": "0.9115960312411427"
         },
         {
          "coeff-0": "-3.046482070402568",
          "coeff-1": "0.9099118249663672",
          "coeff-2": "0.9115960312411427"
         },
         {
          "coeff-0": "-3.046482070402568",
          "coeff-1": "0.9099118249663672",
          "coeff-2": "0.9115960312411427"
         },
         {
          "coeff-0": "-3.046482070402568",
          "coeff-1": "0.9099118249663672",
          "coeff-2": "0.9115960312411427"
         },
         {
          "coeff-0": "-3.046482070402568",
          "coeff-1": "0.9099118249663672",
          "coeff-2": "0.9115960312411427"
         },
         {
          "coeff-0": "-3.046482070402568",
          "coeff-1": "0.9099118249663672",
          "coeff-2": "0.9115960312411427"
         },
         {
          "coeff-0": "-3.046482070402568",
          "coeff-1": "0.9099118249663672",
          "coeff-2": "0.9115960312411427"
         },
         {
          "coeff-0": "-3.046482070402568",
          "coeff-1": "0.9099118249663672",
          "coeff-2": "0.9115960312411427"
         },
         {
          "coeff-0": "-3.046482070402568",
          "coeff-1": "0.9099118249663672",
          "coeff-2": "0.9115960312411427"
         },
         {
          "coeff-0": "-3.046482070402568",
          "coeff-1": "0.9099118249663672",
          "coeff-2": "0.9115960312411427"
         },
         {
          "coeff-0": "-3.046482070402568",
          "coeff-1": "0.9099118249663672",
          "coeff-2": "0.9115960312411427"
         },
         {
          "coeff-0": "-3.046482070402568",
          "coeff-1": "0.9099118249663672",
          "coeff-2": "0.9115960312411427"
         },
         {
          "coeff-0": "-3.046482070402568",
          "coeff-1": "0.9099118249663672",
          "coeff-2": "0.9115960312411427"
         },
         {
          "coeff-0": "-3.046482070402568",
          "coeff-1": "0.9099118249663672",
          "coeff-2": "0.9115960312411427"
         },
         {
          "coeff-0": "-3.046482070402568",
          "coeff-1": "0.9099118249663672",
          "coeff-2": "0.9115960312411427"
         },
         {
          "coeff-0": "-3.0457093758294302",
          "coeff-1": "0.910598012152056",
          "coeff-2": "0.9310946310622427"
         },
         {
          "coeff-0": "-3.0457093758294302",
          "coeff-1": "0.910598012152056",
          "coeff-2": "0.9310946310622427"
         },
         {
          "coeff-0": "-3.0457093758294302",
          "coeff-1": "0.910598012152056",
          "coeff-2": "0.9310946310622427"
         },
         {
          "coeff-0": "-3.0457093758294302",
          "coeff-1": "0.910598012152056",
          "coeff-2": "0.9310946310622427"
         },
         {
          "coeff-0": "-3.0457093758294302",
          "coeff-1": "0.910598012152056",
          "coeff-2": "0.9310946310622427"
         },
         {
          "coeff-0": "-3.0457093758294302",
          "coeff-1": "0.910598012152056",
          "coeff-2": "0.9310946310622427"
         },
         {
          "coeff-0": "-3.0457093758294302",
          "coeff-1": "0.910598012152056",
          "coeff-2": "0.9310946310622427"
         },
         {
          "coeff-0": "-3.0457093758294302",
          "coeff-1": "0.910598012152056",
          "coeff-2": "0.9310946310622427"
         },
         {
          "coeff-0": "-3.0457093758294302",
          "coeff-1": "0.910598012152056",
          "coeff-2": "0.9310946310622427"
         },
         {
          "coeff-0": "-3.0457093758294302",
          "coeff-1": "0.910598012152056",
          "coeff-2": "0.9310946310622427"
         },
         {
          "coeff-0": "-3.0457093758294302",
          "coeff-1": "0.910598012152056",
          "coeff-2": "0.9310946310622427"
         },
         {
          "coeff-0": "-3.0457093758294302",
          "coeff-1": "0.910598012152056",
          "coeff-2": "0.9310946310622427"
         },
         {
          "coeff-0": "-3.0457093758294302",
          "coeff-1": "0.910598012152056",
          "coeff-2": "0.9310946310622427"
         },
         {
          "coeff-0": "-3.0457093758294302",
          "coeff-1": "0.910598012152056",
          "coeff-2": "0.9310946310622427"
         },
         {
          "coeff-0": "-3.0457093758294302",
          "coeff-1": "0.910598012152056",
          "coeff-2": "0.9310946310622427"
         },
         {
          "coeff-0": "-3.0624044329418263",
          "coeff-1": "0.9134630972725467",
          "coeff-2": "1.0227689202775425"
         },
         {
          "coeff-0": "-3.0624044329418263",
          "coeff-1": "0.9134630972725467",
          "coeff-2": "1.0227689202775425"
         },
         {
          "coeff-0": "-3.0394927459612697",
          "coeff-1": "0.932972788381953",
          "coeff-2": "1.0638445067537825"
         },
         {
          "coeff-0": "-3.0394927459612697",
          "coeff-1": "0.932972788381953",
          "coeff-2": "1.0638445067537825"
         },
         {
          "coeff-0": "-3.0394927459612697",
          "coeff-1": "0.932972788381953",
          "coeff-2": "1.0638445067537825"
         },
         {
          "coeff-0": "-3.0394927459612697",
          "coeff-1": "0.932972788381953",
          "coeff-2": "1.0638445067537825"
         },
         {
          "coeff-0": "-3.0394927459612697",
          "coeff-1": "0.932972788381953",
          "coeff-2": "1.0638445067537825"
         },
         {
          "coeff-0": "-3.0394927459612697",
          "coeff-1": "0.932972788381953",
          "coeff-2": "1.0638445067537825"
         },
         {
          "coeff-0": "-3.0035983676667453",
          "coeff-1": "0.9379993274848988",
          "coeff-2": "1.023386555894833"
         },
         {
          "coeff-0": "-3.0035983676667453",
          "coeff-1": "0.9379993274848988",
          "coeff-2": "1.023386555894833"
         },
         {
          "coeff-0": "-3.0035983676667453",
          "coeff-1": "0.9379993274848988",
          "coeff-2": "1.023386555894833"
         },
         {
          "coeff-0": "-3.0035983676667453",
          "coeff-1": "0.9379993274848988",
          "coeff-2": "1.023386555894833"
         },
         {
          "coeff-0": "-3.0035983676667453",
          "coeff-1": "0.9379993274848988",
          "coeff-2": "1.023386555894833"
         },
         {
          "coeff-0": "-3.0035983676667453",
          "coeff-1": "0.9379993274848988",
          "coeff-2": "1.023386555894833"
         },
         {
          "coeff-0": "-3.0035983676667453",
          "coeff-1": "0.9379993274848988",
          "coeff-2": "1.023386555894833"
         },
         {
          "coeff-0": "-3.0035983676667453",
          "coeff-1": "0.9379993274848988",
          "coeff-2": "1.023386555894833"
         },
         {
          "coeff-0": "-3.0035983676667453",
          "coeff-1": "0.9379993274848988",
          "coeff-2": "1.023386555894833"
         },
         {
          "coeff-0": "-3.0035983676667453",
          "coeff-1": "0.9379993274848988",
          "coeff-2": "1.023386555894833"
         },
         {
          "coeff-0": "-3.0035983676667453",
          "coeff-1": "0.9379993274848988",
          "coeff-2": "1.023386555894833"
         },
         {
          "coeff-0": "-3.0035983676667453",
          "coeff-1": "0.9379993274848988",
          "coeff-2": "1.023386555894833"
         },
         {
          "coeff-0": "-3.0035983676667453",
          "coeff-1": "0.9379993274848988",
          "coeff-2": "1.023386555894833"
         },
         {
          "coeff-0": "-3.0035983676667453",
          "coeff-1": "0.9379993274848988",
          "coeff-2": "1.023386555894833"
         },
         {
          "coeff-0": "-3.000510663096769",
          "coeff-1": "0.9734157608790206",
          "coeff-2": "1.0280253253715994"
         },
         {
          "coeff-0": "-3.000510663096769",
          "coeff-1": "0.9734157608790206",
          "coeff-2": "1.0280253253715994"
         },
         {
          "coeff-0": "-3.000510663096769",
          "coeff-1": "0.9734157608790206",
          "coeff-2": "1.0280253253715994"
         },
         {
          "coeff-0": "-3.000510663096769",
          "coeff-1": "0.9734157608790206",
          "coeff-2": "1.0280253253715994"
         },
         {
          "coeff-0": "-3.000510663096769",
          "coeff-1": "0.9734157608790206",
          "coeff-2": "1.0280253253715994"
         },
         {
          "coeff-0": "-3.000510663096769",
          "coeff-1": "0.9734157608790206",
          "coeff-2": "1.0280253253715994"
         },
         {
          "coeff-0": "-3.000510663096769",
          "coeff-1": "0.9734157608790206",
          "coeff-2": "1.0280253253715994"
         },
         {
          "coeff-0": "-3.000510663096769",
          "coeff-1": "0.9734157608790206",
          "coeff-2": "1.0280253253715994"
         },
         {
          "coeff-0": "-3.000510663096769",
          "coeff-1": "0.9734157608790206",
          "coeff-2": "1.0280253253715994"
         },
         {
          "coeff-0": "-3.000510663096769",
          "coeff-1": "0.9734157608790206",
          "coeff-2": "1.0280253253715994"
         },
         {
          "coeff-0": "-3.000510663096769",
          "coeff-1": "0.9734157608790206",
          "coeff-2": "1.0280253253715994"
         },
         {
          "coeff-0": "-3.000510663096769",
          "coeff-1": "0.9734157608790206",
          "coeff-2": "1.0280253253715994"
         },
         {
          "coeff-0": "-3.000510663096769",
          "coeff-1": "0.9734157608790206",
          "coeff-2": "1.0280253253715994"
         },
         {
          "coeff-0": "-3.000510663096769",
          "coeff-1": "0.9734157608790206",
          "coeff-2": "1.0280253253715994"
         },
         {
          "coeff-0": "-3.000510663096769",
          "coeff-1": "0.9734157608790206",
          "coeff-2": "1.0280253253715994"
         },
         {
          "coeff-0": "-3.000510663096769",
          "coeff-1": "0.9734157608790206",
          "coeff-2": "1.0280253253715994"
         },
         {
          "coeff-0": "-3.000510663096769",
          "coeff-1": "0.9734157608790206",
          "coeff-2": "1.0280253253715994"
         },
         {
          "coeff-0": "-3.0215664733406427",
          "coeff-1": "0.9790823077874751",
          "coeff-2": "1.009833558718766"
         },
         {
          "coeff-0": "-3.0215664733406427",
          "coeff-1": "0.9790823077874751",
          "coeff-2": "1.009833558718766"
         },
         {
          "coeff-0": "-3.0215664733406427",
          "coeff-1": "0.9790823077874751",
          "coeff-2": "1.009833558718766"
         },
         {
          "coeff-0": "-3.0215664733406427",
          "coeff-1": "0.9790823077874751",
          "coeff-2": "1.009833558718766"
         },
         {
          "coeff-0": "-3.0215664733406427",
          "coeff-1": "0.9790823077874751",
          "coeff-2": "1.009833558718766"
         },
         {
          "coeff-0": "-3.0215664733406427",
          "coeff-1": "0.9790823077874751",
          "coeff-2": "1.009833558718766"
         },
         {
          "coeff-0": "-3.0215664733406427",
          "coeff-1": "0.9790823077874751",
          "coeff-2": "1.009833558718766"
         },
         {
          "coeff-0": "-3.0215664733406427",
          "coeff-1": "0.9790823077874751",
          "coeff-2": "1.009833558718766"
         },
         {
          "coeff-0": "-3.0215664733406427",
          "coeff-1": "0.9790823077874751",
          "coeff-2": "1.009833558718766"
         },
         {
          "coeff-0": "-3.0215664733406427",
          "coeff-1": "0.9790823077874751",
          "coeff-2": "1.009833558718766"
         },
         {
          "coeff-0": "-3.0215664733406427",
          "coeff-1": "0.9790823077874751",
          "coeff-2": "1.009833558718766"
         },
         {
          "coeff-0": "-3.0215664733406427",
          "coeff-1": "0.9790823077874751",
          "coeff-2": "1.009833558718766"
         },
         {
          "coeff-0": "-3.0215664733406427",
          "coeff-1": "0.9790823077874751",
          "coeff-2": "1.009833558718766"
         },
         {
          "coeff-0": "-3.0215664733406427",
          "coeff-1": "0.9790823077874751",
          "coeff-2": "1.009833558718766"
         },
         {
          "coeff-0": "-3.0499227098257937",
          "coeff-1": "0.9233297426486228",
          "coeff-2": "1.035936386280468"
         },
         {
          "coeff-0": "-3.0499227098257937",
          "coeff-1": "0.9233297426486228",
          "coeff-2": "1.035936386280468"
         },
         {
          "coeff-0": "-3.0499227098257937",
          "coeff-1": "0.9233297426486228",
          "coeff-2": "1.035936386280468"
         },
         {
          "coeff-0": "-3.0499227098257937",
          "coeff-1": "0.9233297426486228",
          "coeff-2": "1.035936386280468"
         },
         {
          "coeff-0": "-3.0499227098257937",
          "coeff-1": "0.9233297426486228",
          "coeff-2": "1.035936386280468"
         },
         {
          "coeff-0": "-3.0499227098257937",
          "coeff-1": "0.9233297426486228",
          "coeff-2": "1.035936386280468"
         },
         {
          "coeff-0": "-3.0499227098257937",
          "coeff-1": "0.9233297426486228",
          "coeff-2": "1.035936386280468"
         },
         {
          "coeff-0": "-3.0499227098257937",
          "coeff-1": "0.9233297426486228",
          "coeff-2": "1.035936386280468"
         },
         {
          "coeff-0": "-3.0499227098257937",
          "coeff-1": "0.9233297426486228",
          "coeff-2": "1.035936386280468"
         },
         {
          "coeff-0": "-3.0499227098257937",
          "coeff-1": "0.9233297426486228",
          "coeff-2": "1.035936386280468"
         },
         {
          "coeff-0": "-3.0499227098257937",
          "coeff-1": "0.9233297426486228",
          "coeff-2": "1.035936386280468"
         },
         {
          "coeff-0": "-3.0499227098257937",
          "coeff-1": "0.9233297426486228",
          "coeff-2": "1.035936386280468"
         },
         {
          "coeff-0": "-3.0499227098257937",
          "coeff-1": "0.9233297426486228",
          "coeff-2": "1.035936386280468"
         },
         {
          "coeff-0": "-3.0499227098257937",
          "coeff-1": "0.9233297426486228",
          "coeff-2": "1.035936386280468"
         },
         {
          "coeff-0": "-3.0499227098257937",
          "coeff-1": "0.9233297426486228",
          "coeff-2": "1.035936386280468"
         },
         {
          "coeff-0": "-3.0499227098257937",
          "coeff-1": "0.9233297426486228",
          "coeff-2": "1.035936386280468"
         },
         {
          "coeff-0": "-3.0499227098257937",
          "coeff-1": "0.9233297426486228",
          "coeff-2": "1.035936386280468"
         },
         {
          "coeff-0": "-3.0499227098257937",
          "coeff-1": "0.9233297426486228",
          "coeff-2": "1.035936386280468"
         },
         {
          "coeff-0": "-3.0499227098257937",
          "coeff-1": "0.9233297426486228",
          "coeff-2": "1.035936386280468"
         },
         {
          "coeff-0": "-3.0499227098257937",
          "coeff-1": "0.9233297426486228",
          "coeff-2": "1.035936386280468"
         },
         {
          "coeff-0": "-3.0499227098257937",
          "coeff-1": "0.9233297426486228",
          "coeff-2": "1.035936386280468"
         },
         {
          "coeff-0": "-3.0499227098257937",
          "coeff-1": "0.9233297426486228",
          "coeff-2": "1.035936386280468"
         },
         {
          "coeff-0": "-3.0499227098257937",
          "coeff-1": "0.9233297426486228",
          "coeff-2": "1.035936386280468"
         },
         {
          "coeff-0": "-3.0499227098257937",
          "coeff-1": "0.9233297426486228",
          "coeff-2": "1.035936386280468"
         },
         {
          "coeff-0": "-3.0499227098257937",
          "coeff-1": "0.9233297426486228",
          "coeff-2": "1.035936386280468"
         },
         {
          "coeff-0": "-3.0499227098257937",
          "coeff-1": "0.9233297426486228",
          "coeff-2": "1.035936386280468"
         },
         {
          "coeff-0": "-3.0499227098257937",
          "coeff-1": "0.9233297426486228",
          "coeff-2": "1.035936386280468"
         },
         {
          "coeff-0": "-3.0499227098257937",
          "coeff-1": "0.9233297426486228",
          "coeff-2": "1.035936386280468"
         },
         {
          "coeff-0": "-3.0499227098257937",
          "coeff-1": "0.9233297426486228",
          "coeff-2": "1.035936386280468"
         },
         {
          "coeff-0": "-3.0499227098257937",
          "coeff-1": "0.9233297426486228",
          "coeff-2": "1.035936386280468"
         },
         {
          "coeff-0": "-3.0499227098257937",
          "coeff-1": "0.9233297426486228",
          "coeff-2": "1.035936386280468"
         },
         {
          "coeff-0": "-3.0499227098257937",
          "coeff-1": "0.9233297426486228",
          "coeff-2": "1.035936386280468"
         },
         {
          "coeff-0": "-3.0499227098257937",
          "coeff-1": "0.9233297426486228",
          "coeff-2": "1.035936386280468"
         },
         {
          "coeff-0": "-3.0499227098257937",
          "coeff-1": "0.9233297426486228",
          "coeff-2": "1.035936386280468"
         },
         {
          "coeff-0": "-3.0499227098257937",
          "coeff-1": "0.9233297426486228",
          "coeff-2": "1.035936386280468"
         },
         {
          "coeff-0": "-3.0499227098257937",
          "coeff-1": "0.9233297426486228",
          "coeff-2": "1.035936386280468"
         },
         {
          "coeff-0": "-3.0499227098257937",
          "coeff-1": "0.9233297426486228",
          "coeff-2": "1.035936386280468"
         },
         {
          "coeff-0": "-3.0499227098257937",
          "coeff-1": "0.9233297426486228",
          "coeff-2": "1.035936386280468"
         },
         {
          "coeff-0": "-3.0499227098257937",
          "coeff-1": "0.9233297426486228",
          "coeff-2": "1.035936386280468"
         },
         {
          "coeff-0": "-3.0499227098257937",
          "coeff-1": "0.9233297426486228",
          "coeff-2": "1.035936386280468"
         },
         {
          "coeff-0": "-3.0499227098257937",
          "coeff-1": "0.9233297426486228",
          "coeff-2": "1.035936386280468"
         },
         {
          "coeff-0": "-3.0499227098257937",
          "coeff-1": "0.9233297426486228",
          "coeff-2": "1.035936386280468"
         },
         {
          "coeff-0": "-3.0499227098257937",
          "coeff-1": "0.9233297426486228",
          "coeff-2": "1.035936386280468"
         },
         {
          "coeff-0": "-3.0499227098257937",
          "coeff-1": "0.9233297426486228",
          "coeff-2": "1.035936386280468"
         },
         {
          "coeff-0": "-3.0499227098257937",
          "coeff-1": "0.9233297426486228",
          "coeff-2": "1.035936386280468"
         },
         {
          "coeff-0": "-3.0499227098257937",
          "coeff-1": "0.9233297426486228",
          "coeff-2": "1.035936386280468"
         },
         {
          "coeff-0": "-3.0499227098257937",
          "coeff-1": "0.9233297426486228",
          "coeff-2": "1.035936386280468"
         },
         {
          "coeff-0": "-3.0628827274595327",
          "coeff-1": "0.9381344489275336",
          "coeff-2": "1.0355208483119585"
         },
         {
          "coeff-0": "-3.0628827274595327",
          "coeff-1": "0.9381344489275336",
          "coeff-2": "1.0355208483119585"
         },
         {
          "coeff-0": "-3.0628827274595327",
          "coeff-1": "0.9381344489275336",
          "coeff-2": "1.0355208483119585"
         },
         {
          "coeff-0": "-3.0628827274595327",
          "coeff-1": "0.9381344489275336",
          "coeff-2": "1.0355208483119585"
         },
         {
          "coeff-0": "-3.0628827274595327",
          "coeff-1": "0.9381344489275336",
          "coeff-2": "1.0355208483119585"
         },
         {
          "coeff-0": "-3.0628827274595327",
          "coeff-1": "0.9381344489275336",
          "coeff-2": "1.0355208483119585"
         },
         {
          "coeff-0": "-3.0628827274595327",
          "coeff-1": "0.9381344489275336",
          "coeff-2": "1.0355208483119585"
         },
         {
          "coeff-0": "-3.0628827274595327",
          "coeff-1": "0.9381344489275336",
          "coeff-2": "1.0355208483119585"
         },
         {
          "coeff-0": "-3.0628827274595327",
          "coeff-1": "0.9381344489275336",
          "coeff-2": "1.0355208483119585"
         },
         {
          "coeff-0": "-3.0628827274595327",
          "coeff-1": "0.9381344489275336",
          "coeff-2": "1.0355208483119585"
         },
         {
          "coeff-0": "-3.0628827274595327",
          "coeff-1": "0.9381344489275336",
          "coeff-2": "1.0355208483119585"
         },
         {
          "coeff-0": "-3.0628827274595327",
          "coeff-1": "0.9381344489275336",
          "coeff-2": "1.0355208483119585"
         },
         {
          "coeff-0": "-3.0628827274595327",
          "coeff-1": "0.9381344489275336",
          "coeff-2": "1.0355208483119585"
         },
         {
          "coeff-0": "-3.0628827274595327",
          "coeff-1": "0.9381344489275336",
          "coeff-2": "1.0355208483119585"
         },
         {
          "coeff-0": "-3.0628827274595327",
          "coeff-1": "0.9381344489275336",
          "coeff-2": "1.0355208483119585"
         },
         {
          "coeff-0": "-3.0628827274595327",
          "coeff-1": "0.9381344489275336",
          "coeff-2": "1.0355208483119585"
         },
         {
          "coeff-0": "-3.0628827274595327",
          "coeff-1": "0.9381344489275336",
          "coeff-2": "1.0355208483119585"
         },
         {
          "coeff-0": "-3.0628827274595327",
          "coeff-1": "0.9381344489275336",
          "coeff-2": "1.0355208483119585"
         },
         {
          "coeff-0": "-3.0628827274595327",
          "coeff-1": "0.9381344489275336",
          "coeff-2": "1.0355208483119585"
         },
         {
          "coeff-0": "-3.0628827274595327",
          "coeff-1": "0.9381344489275336",
          "coeff-2": "1.0355208483119585"
         },
         {
          "coeff-0": "-3.0628827274595327",
          "coeff-1": "0.9381344489275336",
          "coeff-2": "1.0355208483119585"
         },
         {
          "coeff-0": "-3.0628827274595327",
          "coeff-1": "0.9381344489275336",
          "coeff-2": "1.0355208483119585"
         },
         {
          "coeff-0": "-3.0628827274595327",
          "coeff-1": "0.9381344489275336",
          "coeff-2": "1.0355208483119585"
         },
         {
          "coeff-0": "-3.0628827274595327",
          "coeff-1": "0.9381344489275336",
          "coeff-2": "1.0355208483119585"
         },
         {
          "coeff-0": "-3.0628827274595327",
          "coeff-1": "0.9381344489275336",
          "coeff-2": "1.0355208483119585"
         },
         {
          "coeff-0": "-3.0628827274595327",
          "coeff-1": "0.9381344489275336",
          "coeff-2": "1.0355208483119585"
         },
         {
          "coeff-0": "-3.0628827274595327",
          "coeff-1": "0.9381344489275336",
          "coeff-2": "1.0355208483119585"
         },
         {
          "coeff-0": "-3.0628827274595327",
          "coeff-1": "0.9381344489275336",
          "coeff-2": "1.0355208483119585"
         },
         {
          "coeff-0": "-3.0628827274595327",
          "coeff-1": "0.9381344489275336",
          "coeff-2": "1.0355208483119585"
         },
         {
          "coeff-0": "-3.0628827274595327",
          "coeff-1": "0.9381344489275336",
          "coeff-2": "1.0355208483119585"
         },
         {
          "coeff-0": "-3.0628827274595327",
          "coeff-1": "0.9381344489275336",
          "coeff-2": "1.0355208483119585"
         },
         {
          "coeff-0": "-3.0628827274595327",
          "coeff-1": "0.9381344489275336",
          "coeff-2": "1.0355208483119585"
         },
         {
          "coeff-0": "-3.0628827274595327",
          "coeff-1": "0.9381344489275336",
          "coeff-2": "1.0355208483119585"
         },
         {
          "coeff-0": "-3.0628827274595327",
          "coeff-1": "0.9381344489275336",
          "coeff-2": "1.0355208483119585"
         },
         {
          "coeff-0": "-3.0628827274595327",
          "coeff-1": "0.9381344489275336",
          "coeff-2": "1.0355208483119585"
         },
         {
          "coeff-0": "-3.0628827274595327",
          "coeff-1": "0.9381344489275336",
          "coeff-2": "1.0355208483119585"
         },
         {
          "coeff-0": "-3.0628827274595327",
          "coeff-1": "0.9381344489275336",
          "coeff-2": "1.0355208483119585"
         },
         {
          "coeff-0": "-3.0628827274595327",
          "coeff-1": "0.9381344489275336",
          "coeff-2": "1.0355208483119585"
         },
         {
          "coeff-0": "-3.0628827274595327",
          "coeff-1": "0.9381344489275336",
          "coeff-2": "1.0355208483119585"
         },
         {
          "coeff-0": "-3.0628827274595327",
          "coeff-1": "0.9381344489275336",
          "coeff-2": "1.0355208483119585"
         },
         {
          "coeff-0": "-3.0628827274595327",
          "coeff-1": "0.9381344489275336",
          "coeff-2": "1.0355208483119585"
         },
         {
          "coeff-0": "-3.0628827274595327",
          "coeff-1": "0.9381344489275336",
          "coeff-2": "1.0355208483119585"
         },
         {
          "coeff-0": "-3.0628827274595327",
          "coeff-1": "0.9381344489275336",
          "coeff-2": "1.0355208483119585"
         },
         {
          "coeff-0": "-3.0628827274595327",
          "coeff-1": "0.9381344489275336",
          "coeff-2": "1.0355208483119585"
         },
         {
          "coeff-0": "-3.0628827274595327",
          "coeff-1": "0.9381344489275336",
          "coeff-2": "1.0355208483119585"
         },
         {
          "coeff-0": "-3.0628827274595327",
          "coeff-1": "0.9381344489275336",
          "coeff-2": "1.0355208483119585"
         },
         {
          "coeff-0": "-3.0628827274595327",
          "coeff-1": "0.9381344489275336",
          "coeff-2": "1.0355208483119585"
         },
         {
          "coeff-0": "-3.0628827274595327",
          "coeff-1": "0.9381344489275336",
          "coeff-2": "1.0355208483119585"
         },
         {
          "coeff-0": "-3.0628827274595327",
          "coeff-1": "0.9381344489275336",
          "coeff-2": "1.0355208483119585"
         },
         {
          "coeff-0": "-3.0628827274595327",
          "coeff-1": "0.9381344489275336",
          "coeff-2": "1.0355208483119585"
         },
         {
          "coeff-0": "-3.0628827274595327",
          "coeff-1": "0.9381344489275336",
          "coeff-2": "1.0355208483119585"
         },
         {
          "coeff-0": "-3.0628827274595327",
          "coeff-1": "0.9381344489275336",
          "coeff-2": "1.0355208483119585"
         },
         {
          "coeff-0": "-3.0628827274595327",
          "coeff-1": "0.9381344489275336",
          "coeff-2": "1.0355208483119585"
         },
         {
          "coeff-0": "-3.0628827274595327",
          "coeff-1": "0.9381344489275336",
          "coeff-2": "1.0355208483119585"
         },
         {
          "coeff-0": "-3.0628827274595327",
          "coeff-1": "0.9381344489275336",
          "coeff-2": "1.0355208483119585"
         },
         {
          "coeff-0": "-3.0628827274595327",
          "coeff-1": "0.9381344489275336",
          "coeff-2": "1.0355208483119585"
         },
         {
          "coeff-0": "-3.0628827274595327",
          "coeff-1": "0.9381344489275336",
          "coeff-2": "1.0355208483119585"
         },
         {
          "coeff-0": "-3.0628827274595327",
          "coeff-1": "0.9381344489275336",
          "coeff-2": "1.0355208483119585"
         },
         {
          "coeff-0": "-3.0628827274595327",
          "coeff-1": "0.9381344489275336",
          "coeff-2": "1.0355208483119585"
         },
         {
          "coeff-0": "-3.0628827274595327",
          "coeff-1": "0.9381344489275336",
          "coeff-2": "1.0355208483119585"
         },
         {
          "coeff-0": "-3.0628827274595327",
          "coeff-1": "0.9381344489275336",
          "coeff-2": "1.0355208483119585"
         },
         {
          "coeff-0": "-3.0628827274595327",
          "coeff-1": "0.9381344489275336",
          "coeff-2": "1.0355208483119585"
         },
         {
          "coeff-0": "-3.0628827274595327",
          "coeff-1": "0.9381344489275336",
          "coeff-2": "1.0355208483119585"
         },
         {
          "coeff-0": "-3.0628827274595327",
          "coeff-1": "0.9381344489275336",
          "coeff-2": "1.0355208483119585"
         },
         {
          "coeff-0": "-3.0628827274595327",
          "coeff-1": "0.9381344489275336",
          "coeff-2": "1.0355208483119585"
         },
         {
          "coeff-0": "-3.0628827274595327",
          "coeff-1": "0.9381344489275336",
          "coeff-2": "1.0355208483119585"
         },
         {
          "coeff-0": "-3.0628827274595327",
          "coeff-1": "0.9381344489275336",
          "coeff-2": "1.0355208483119585"
         },
         {
          "coeff-0": "-3.0628827274595327",
          "coeff-1": "0.9381344489275336",
          "coeff-2": "1.0355208483119585"
         },
         {
          "coeff-0": "-3.0628827274595327",
          "coeff-1": "0.9381344489275336",
          "coeff-2": "1.0355208483119585"
         },
         {
          "coeff-0": "-3.0628827274595327",
          "coeff-1": "0.9381344489275336",
          "coeff-2": "1.0355208483119585"
         },
         {
          "coeff-0": "-3.0628827274595327",
          "coeff-1": "0.9381344489275336",
          "coeff-2": "1.0355208483119585"
         },
         {
          "coeff-0": "-3.0628827274595327",
          "coeff-1": "0.9381344489275336",
          "coeff-2": "1.0355208483119585"
         },
         {
          "coeff-0": "-3.0628827274595327",
          "coeff-1": "0.9381344489275336",
          "coeff-2": "1.0355208483119585"
         },
         {
          "coeff-0": "-3.0628827274595327",
          "coeff-1": "0.9381344489275336",
          "coeff-2": "1.0355208483119585"
         },
         {
          "coeff-0": "-3.0628827274595327",
          "coeff-1": "0.9381344489275336",
          "coeff-2": "1.0355208483119585"
         },
         {
          "coeff-0": "-3.0628827274595327",
          "coeff-1": "0.9381344489275336",
          "coeff-2": "1.0355208483119585"
         },
         {
          "coeff-0": "-3.0628827274595327",
          "coeff-1": "0.9381344489275336",
          "coeff-2": "1.0355208483119585"
         },
         {
          "coeff-0": "-3.0628827274595327",
          "coeff-1": "0.9381344489275336",
          "coeff-2": "1.0355208483119585"
         },
         {
          "coeff-0": "-3.0628827274595327",
          "coeff-1": "0.9381344489275336",
          "coeff-2": "1.0355208483119585"
         },
         {
          "coeff-0": "-3.0628827274595327",
          "coeff-1": "0.9381344489275336",
          "coeff-2": "1.0355208483119585"
         },
         {
          "coeff-0": "-3.0628827274595327",
          "coeff-1": "0.9381344489275336",
          "coeff-2": "1.0355208483119585"
         },
         {
          "coeff-0": "-3.0628827274595327",
          "coeff-1": "0.9381344489275336",
          "coeff-2": "1.0355208483119585"
         },
         {
          "coeff-0": "-3.0628827274595327",
          "coeff-1": "0.9381344489275336",
          "coeff-2": "1.0355208483119585"
         },
         {
          "coeff-0": "-3.0628827274595327",
          "coeff-1": "0.9381344489275336",
          "coeff-2": "1.0355208483119585"
         },
         {
          "coeff-0": "-3.0628827274595327",
          "coeff-1": "0.9381344489275336",
          "coeff-2": "1.0355208483119585"
         },
         {
          "coeff-0": "-3.0628827274595327",
          "coeff-1": "0.9381344489275336",
          "coeff-2": "1.0355208483119585"
         },
         {
          "coeff-0": "-3.0628827274595327",
          "coeff-1": "0.9381344489275336",
          "coeff-2": "1.0355208483119585"
         },
         {
          "coeff-0": "-3.0628827274595327",
          "coeff-1": "0.9381344489275336",
          "coeff-2": "1.0355208483119585"
         },
         {
          "coeff-0": "-3.0628827274595327",
          "coeff-1": "0.9381344489275336",
          "coeff-2": "1.0355208483119585"
         },
         {
          "coeff-0": "-3.0628827274595327",
          "coeff-1": "0.9381344489275336",
          "coeff-2": "1.0355208483119585"
         },
         {
          "coeff-0": "-3.0015230895517893",
          "coeff-1": "0.9532962288262273",
          "coeff-2": "1.0866816940053146"
         },
         {
          "coeff-0": "-3.0015230895517893",
          "coeff-1": "0.9532962288262273",
          "coeff-2": "1.0866816940053146"
         },
         {
          "coeff-0": "-3.0015230895517893",
          "coeff-1": "0.9532962288262273",
          "coeff-2": "1.0866816940053146"
         },
         {
          "coeff-0": "-3.0015230895517893",
          "coeff-1": "0.9532962288262273",
          "coeff-2": "1.0866816940053146"
         },
         {
          "coeff-0": "-3.0015230895517893",
          "coeff-1": "0.9532962288262273",
          "coeff-2": "1.0866816940053146"
         },
         {
          "coeff-0": "-3.0015230895517893",
          "coeff-1": "0.9532962288262273",
          "coeff-2": "1.0866816940053146"
         },
         {
          "coeff-0": "-3.0015230895517893",
          "coeff-1": "0.9532962288262273",
          "coeff-2": "1.0866816940053146"
         },
         {
          "coeff-0": "-3.0015230895517893",
          "coeff-1": "0.9532962288262273",
          "coeff-2": "1.0866816940053146"
         },
         {
          "coeff-0": "-3.0015230895517893",
          "coeff-1": "0.9532962288262273",
          "coeff-2": "1.0866816940053146"
         },
         {
          "coeff-0": "-3.0015230895517893",
          "coeff-1": "0.9532962288262273",
          "coeff-2": "1.0866816940053146"
         },
         {
          "coeff-0": "-3.0015230895517893",
          "coeff-1": "0.9532962288262273",
          "coeff-2": "1.0866816940053146"
         },
         {
          "coeff-0": "-3.0015230895517893",
          "coeff-1": "0.9532962288262273",
          "coeff-2": "1.0866816940053146"
         },
         {
          "coeff-0": "-3.0015230895517893",
          "coeff-1": "0.9532962288262273",
          "coeff-2": "1.0866816940053146"
         },
         {
          "coeff-0": "-3.0015230895517893",
          "coeff-1": "0.9532962288262273",
          "coeff-2": "1.0866816940053146"
         },
         {
          "coeff-0": "-3.0015230895517893",
          "coeff-1": "0.9532962288262273",
          "coeff-2": "1.0866816940053146"
         },
         {
          "coeff-0": "-3.0015230895517893",
          "coeff-1": "0.9532962288262273",
          "coeff-2": "1.0866816940053146"
         },
         {
          "coeff-0": "-3.0015230895517893",
          "coeff-1": "0.9532962288262273",
          "coeff-2": "1.0866816940053146"
         },
         {
          "coeff-0": "-3.0015230895517893",
          "coeff-1": "0.9532962288262273",
          "coeff-2": "1.0866816940053146"
         },
         {
          "coeff-0": "-3.0015230895517893",
          "coeff-1": "0.9532962288262273",
          "coeff-2": "1.0866816940053146"
         },
         {
          "coeff-0": "-3.0015230895517893",
          "coeff-1": "0.9532962288262273",
          "coeff-2": "1.0866816940053146"
         },
         {
          "coeff-0": "-3.0015230895517893",
          "coeff-1": "0.9532962288262273",
          "coeff-2": "1.0866816940053146"
         },
         {
          "coeff-0": "-3.0015230895517893",
          "coeff-1": "0.9532962288262273",
          "coeff-2": "1.0866816940053146"
         },
         {
          "coeff-0": "-3.0015230895517893",
          "coeff-1": "0.9532962288262273",
          "coeff-2": "1.0866816940053146"
         },
         {
          "coeff-0": "-3.0015230895517893",
          "coeff-1": "0.9532962288262273",
          "coeff-2": "1.0866816940053146"
         },
         {
          "coeff-0": "-3.0015230895517893",
          "coeff-1": "0.9532962288262273",
          "coeff-2": "1.0866816940053146"
         },
         {
          "coeff-0": "-3.0015230895517893",
          "coeff-1": "0.9532962288262273",
          "coeff-2": "1.0866816940053146"
         },
         {
          "coeff-0": "-3.0015230895517893",
          "coeff-1": "0.9532962288262273",
          "coeff-2": "1.0866816940053146"
         },
         {
          "coeff-0": "-3.0517259844562017",
          "coeff-1": "0.9227277607767738",
          "coeff-2": "1.080128019237972"
         },
         {
          "coeff-0": "-3.008656470300791",
          "coeff-1": "0.9311211861348938",
          "coeff-2": "1.1045410780137657"
         },
         {
          "coeff-0": "-3.008656470300791",
          "coeff-1": "0.9311211861348938",
          "coeff-2": "1.1045410780137657"
         },
         {
          "coeff-0": "-3.008656470300791",
          "coeff-1": "0.9311211861348938",
          "coeff-2": "1.1045410780137657"
         },
         {
          "coeff-0": "-3.008656470300791",
          "coeff-1": "0.9311211861348938",
          "coeff-2": "1.1045410780137657"
         },
         {
          "coeff-0": "-3.008656470300791",
          "coeff-1": "0.9311211861348938",
          "coeff-2": "1.1045410780137657"
         },
         {
          "coeff-0": "-3.008656470300791",
          "coeff-1": "0.9311211861348938",
          "coeff-2": "1.1045410780137657"
         },
         {
          "coeff-0": "-3.008656470300791",
          "coeff-1": "0.9311211861348938",
          "coeff-2": "1.1045410780137657"
         },
         {
          "coeff-0": "-3.008656470300791",
          "coeff-1": "0.9311211861348938",
          "coeff-2": "1.1045410780137657"
         },
         {
          "coeff-0": "-3.008656470300791",
          "coeff-1": "0.9311211861348938",
          "coeff-2": "1.1045410780137657"
         },
         {
          "coeff-0": "-3.008656470300791",
          "coeff-1": "0.9311211861348938",
          "coeff-2": "1.1045410780137657"
         },
         {
          "coeff-0": "-3.008656470300791",
          "coeff-1": "0.9311211861348938",
          "coeff-2": "1.1045410780137657"
         },
         {
          "coeff-0": "-3.008656470300791",
          "coeff-1": "0.9311211861348938",
          "coeff-2": "1.1045410780137657"
         },
         {
          "coeff-0": "-3.008656470300791",
          "coeff-1": "0.9311211861348938",
          "coeff-2": "1.1045410780137657"
         },
         {
          "coeff-0": "-3.008656470300791",
          "coeff-1": "0.9311211861348938",
          "coeff-2": "1.1045410780137657"
         },
         {
          "coeff-0": "-3.008656470300791",
          "coeff-1": "0.9311211861348938",
          "coeff-2": "1.1045410780137657"
         },
         {
          "coeff-0": "-3.008656470300791",
          "coeff-1": "0.9311211861348938",
          "coeff-2": "1.1045410780137657"
         },
         {
          "coeff-0": "-3.008656470300791",
          "coeff-1": "0.9311211861348938",
          "coeff-2": "1.1045410780137657"
         },
         {
          "coeff-0": "-3.008656470300791",
          "coeff-1": "0.9311211861348938",
          "coeff-2": "1.1045410780137657"
         },
         {
          "coeff-0": "-3.008656470300791",
          "coeff-1": "0.9311211861348938",
          "coeff-2": "1.1045410780137657"
         },
         {
          "coeff-0": "-3.008656470300791",
          "coeff-1": "0.9311211861348938",
          "coeff-2": "1.1045410780137657"
         },
         {
          "coeff-0": "-3.008656470300791",
          "coeff-1": "0.9311211861348938",
          "coeff-2": "1.1045410780137657"
         },
         {
          "coeff-0": "-3.008656470300791",
          "coeff-1": "0.9311211861348938",
          "coeff-2": "1.1045410780137657"
         },
         {
          "coeff-0": "-3.008656470300791",
          "coeff-1": "0.9311211861348938",
          "coeff-2": "1.1045410780137657"
         },
         {
          "coeff-0": "-3.008656470300791",
          "coeff-1": "0.9311211861348938",
          "coeff-2": "1.1045410780137657"
         },
         {
          "coeff-0": "-3.008656470300791",
          "coeff-1": "0.9311211861348938",
          "coeff-2": "1.1045410780137657"
         },
         {
          "coeff-0": "-3.008656470300791",
          "coeff-1": "0.9311211861348938",
          "coeff-2": "1.1045410780137657"
         },
         {
          "coeff-0": "-3.008656470300791",
          "coeff-1": "0.9311211861348938",
          "coeff-2": "1.1045410780137657"
         },
         {
          "coeff-0": "-3.008656470300791",
          "coeff-1": "0.9311211861348938",
          "coeff-2": "1.1045410780137657"
         },
         {
          "coeff-0": "-3.008656470300791",
          "coeff-1": "0.9311211861348938",
          "coeff-2": "1.1045410780137657"
         },
         {
          "coeff-0": "-3.008656470300791",
          "coeff-1": "0.9311211861348938",
          "coeff-2": "1.1045410780137657"
         },
         {
          "coeff-0": "-3.008656470300791",
          "coeff-1": "0.9311211861348938",
          "coeff-2": "1.1045410780137657"
         },
         {
          "coeff-0": "-3.008656470300791",
          "coeff-1": "0.9311211861348938",
          "coeff-2": "1.1045410780137657"
         },
         {
          "coeff-0": "-3.008656470300791",
          "coeff-1": "0.9311211861348938",
          "coeff-2": "1.1045410780137657"
         },
         {
          "coeff-0": "-3.008656470300791",
          "coeff-1": "0.9311211861348938",
          "coeff-2": "1.1045410780137657"
         },
         {
          "coeff-0": "-3.008656470300791",
          "coeff-1": "0.9311211861348938",
          "coeff-2": "1.1045410780137657"
         },
         {
          "coeff-0": "-3.008656470300791",
          "coeff-1": "0.9311211861348938",
          "coeff-2": "1.1045410780137657"
         },
         {
          "coeff-0": "-3.008656470300791",
          "coeff-1": "0.9311211861348938",
          "coeff-2": "1.1045410780137657"
         },
         {
          "coeff-0": "-3.008656470300791",
          "coeff-1": "0.9311211861348938",
          "coeff-2": "1.1045410780137657"
         },
         {
          "coeff-0": "-3.008656470300791",
          "coeff-1": "0.9311211861348938",
          "coeff-2": "1.1045410780137657"
         },
         {
          "coeff-0": "-3.008656470300791",
          "coeff-1": "0.9311211861348938",
          "coeff-2": "1.1045410780137657"
         },
         {
          "coeff-0": "-3.008656470300791",
          "coeff-1": "0.9311211861348938",
          "coeff-2": "1.1045410780137657"
         },
         {
          "coeff-0": "-3.008656470300791",
          "coeff-1": "0.9311211861348938",
          "coeff-2": "1.1045410780137657"
         },
         {
          "coeff-0": "-3.008656470300791",
          "coeff-1": "0.9311211861348938",
          "coeff-2": "1.1045410780137657"
         },
         {
          "coeff-0": "-3.008656470300791",
          "coeff-1": "0.9311211861348938",
          "coeff-2": "1.1045410780137657"
         },
         {
          "coeff-0": "-3.024029949387331",
          "coeff-1": "0.9306560277946534",
          "coeff-2": "1.1582289156213983"
         },
         {
          "coeff-0": "-3.024029949387331",
          "coeff-1": "0.9306560277946534",
          "coeff-2": "1.1582289156213983"
         },
         {
          "coeff-0": "-3.024029949387331",
          "coeff-1": "0.9306560277946534",
          "coeff-2": "1.1582289156213983"
         },
         {
          "coeff-0": "-3.024029949387331",
          "coeff-1": "0.9306560277946534",
          "coeff-2": "1.1582289156213983"
         },
         {
          "coeff-0": "-3.024029949387331",
          "coeff-1": "0.9306560277946534",
          "coeff-2": "1.1582289156213983"
         },
         {
          "coeff-0": "-3.024029949387331",
          "coeff-1": "0.9306560277946534",
          "coeff-2": "1.1582289156213983"
         },
         {
          "coeff-0": "-3.024029949387331",
          "coeff-1": "0.9306560277946534",
          "coeff-2": "1.1582289156213983"
         },
         {
          "coeff-0": "-3.024029949387331",
          "coeff-1": "0.9306560277946534",
          "coeff-2": "1.1582289156213983"
         },
         {
          "coeff-0": "-3.024029949387331",
          "coeff-1": "0.9306560277946534",
          "coeff-2": "1.1582289156213983"
         },
         {
          "coeff-0": "-3.024029949387331",
          "coeff-1": "0.9306560277946534",
          "coeff-2": "1.1582289156213983"
         },
         {
          "coeff-0": "-3.024029949387331",
          "coeff-1": "0.9306560277946534",
          "coeff-2": "1.1582289156213983"
         },
         {
          "coeff-0": "-3.024029949387331",
          "coeff-1": "0.9306560277946534",
          "coeff-2": "1.1582289156213983"
         },
         {
          "coeff-0": "-3.024029949387331",
          "coeff-1": "0.9306560277946534",
          "coeff-2": "1.1582289156213983"
         },
         {
          "coeff-0": "-3.024029949387331",
          "coeff-1": "0.9306560277946534",
          "coeff-2": "1.1582289156213983"
         },
         {
          "coeff-0": "-3.024029949387331",
          "coeff-1": "0.9306560277946534",
          "coeff-2": "1.1582289156213983"
         },
         {
          "coeff-0": "-3.024029949387331",
          "coeff-1": "0.9306560277946534",
          "coeff-2": "1.1582289156213983"
         },
         {
          "coeff-0": "-3.024029949387331",
          "coeff-1": "0.9306560277946534",
          "coeff-2": "1.1582289156213983"
         },
         {
          "coeff-0": "-3.024029949387331",
          "coeff-1": "0.9306560277946534",
          "coeff-2": "1.1582289156213983"
         },
         {
          "coeff-0": "-3.024029949387331",
          "coeff-1": "0.9306560277946534",
          "coeff-2": "1.1582289156213983"
         },
         {
          "coeff-0": "-3.024029949387331",
          "coeff-1": "0.9306560277946534",
          "coeff-2": "1.1582289156213983"
         },
         {
          "coeff-0": "-3.024029949387331",
          "coeff-1": "0.9306560277946534",
          "coeff-2": "1.1582289156213983"
         },
         {
          "coeff-0": "-3.024029949387331",
          "coeff-1": "0.9306560277946534",
          "coeff-2": "1.1582289156213983"
         },
         {
          "coeff-0": "-3.024029949387331",
          "coeff-1": "0.9306560277946534",
          "coeff-2": "1.1582289156213983"
         },
         {
          "coeff-0": "-3.024029949387331",
          "coeff-1": "0.9306560277946534",
          "coeff-2": "1.1582289156213983"
         },
         {
          "coeff-0": "-3.024029949387331",
          "coeff-1": "0.9306560277946534",
          "coeff-2": "1.1582289156213983"
         },
         {
          "coeff-0": "-3.024029949387331",
          "coeff-1": "0.9306560277946534",
          "coeff-2": "1.1582289156213983"
         },
         {
          "coeff-0": "-3.024029949387331",
          "coeff-1": "0.9306560277946534",
          "coeff-2": "1.1582289156213983"
         },
         {
          "coeff-0": "-3.024029949387331",
          "coeff-1": "0.9306560277946534",
          "coeff-2": "1.1582289156213983"
         },
         {
          "coeff-0": "-3.024029949387331",
          "coeff-1": "0.9306560277946534",
          "coeff-2": "1.1582289156213983"
         },
         {
          "coeff-0": "-3.024029949387331",
          "coeff-1": "0.9306560277946534",
          "coeff-2": "1.1582289156213983"
         },
         {
          "coeff-0": "-3.024029949387331",
          "coeff-1": "0.9306560277946534",
          "coeff-2": "1.1582289156213983"
         },
         {
          "coeff-0": "-3.024029949387331",
          "coeff-1": "0.9306560277946534",
          "coeff-2": "1.1582289156213983"
         },
         {
          "coeff-0": "-3.024029949387331",
          "coeff-1": "0.9306560277946534",
          "coeff-2": "1.1582289156213983"
         },
         {
          "coeff-0": "-3.024029949387331",
          "coeff-1": "0.9306560277946534",
          "coeff-2": "1.1582289156213983"
         },
         {
          "coeff-0": "-3.024029949387331",
          "coeff-1": "0.9306560277946534",
          "coeff-2": "1.1582289156213983"
         },
         {
          "coeff-0": "-3.024029949387331",
          "coeff-1": "0.9306560277946534",
          "coeff-2": "1.1582289156213983"
         },
         {
          "coeff-0": "-3.024029949387331",
          "coeff-1": "0.9306560277946534",
          "coeff-2": "1.1582289156213983"
         },
         {
          "coeff-0": "-3.024029949387331",
          "coeff-1": "0.9306560277946534",
          "coeff-2": "1.1582289156213983"
         },
         {
          "coeff-0": "-3.024029949387331",
          "coeff-1": "0.9306560277946534",
          "coeff-2": "1.1582289156213983"
         },
         {
          "coeff-0": "-3.024029949387331",
          "coeff-1": "0.9306560277946534",
          "coeff-2": "1.1582289156213983"
         },
         {
          "coeff-0": "-3.024029949387331",
          "coeff-1": "0.9306560277946534",
          "coeff-2": "1.1582289156213983"
         },
         {
          "coeff-0": "-3.024029949387331",
          "coeff-1": "0.9306560277946534",
          "coeff-2": "1.1582289156213983"
         },
         {
          "coeff-0": "-3.024029949387331",
          "coeff-1": "0.9306560277946534",
          "coeff-2": "1.1582289156213983"
         },
         {
          "coeff-0": "-3.024029949387331",
          "coeff-1": "0.9306560277946534",
          "coeff-2": "1.1582289156213983"
         },
         {
          "coeff-0": "-3.024029949387331",
          "coeff-1": "0.9306560277946534",
          "coeff-2": "1.1582289156213983"
         },
         {
          "coeff-0": "-3.024029949387331",
          "coeff-1": "0.9306560277946534",
          "coeff-2": "1.1582289156213983"
         },
         {
          "coeff-0": "-3.024029949387331",
          "coeff-1": "0.9306560277946534",
          "coeff-2": "1.1582289156213983"
         },
         {
          "coeff-0": "-3.024029949387331",
          "coeff-1": "0.9306560277946534",
          "coeff-2": "1.1582289156213983"
         },
         {
          "coeff-0": "-3.024029949387331",
          "coeff-1": "0.9306560277946534",
          "coeff-2": "1.1582289156213983"
         },
         {
          "coeff-0": "-3.024029949387331",
          "coeff-1": "0.9306560277946534",
          "coeff-2": "1.1582289156213983"
         },
         {
          "coeff-0": "-3.024029949387331",
          "coeff-1": "0.9306560277946534",
          "coeff-2": "1.1582289156213983"
         },
         {
          "coeff-0": "-3.024029949387331",
          "coeff-1": "0.9306560277946534",
          "coeff-2": "1.1582289156213983"
         },
         {
          "coeff-0": "-3.024029949387331",
          "coeff-1": "0.9306560277946534",
          "coeff-2": "1.1582289156213983"
         },
         {
          "coeff-0": "-3.024029949387331",
          "coeff-1": "0.9306560277946534",
          "coeff-2": "1.1582289156213983"
         },
         {
          "coeff-0": "-3.024029949387331",
          "coeff-1": "0.9306560277946534",
          "coeff-2": "1.1582289156213983"
         },
         {
          "coeff-0": "-3.024029949387331",
          "coeff-1": "0.9306560277946534",
          "coeff-2": "1.1582289156213983"
         },
         {
          "coeff-0": "-3.024029949387331",
          "coeff-1": "0.9306560277946534",
          "coeff-2": "1.1582289156213983"
         },
         {
          "coeff-0": "-3.024029949387331",
          "coeff-1": "0.9306560277946534",
          "coeff-2": "1.1582289156213983"
         },
         {
          "coeff-0": "-3.024029949387331",
          "coeff-1": "0.9306560277946534",
          "coeff-2": "1.1582289156213983"
         },
         {
          "coeff-0": "-3.024029949387331",
          "coeff-1": "0.9306560277946534",
          "coeff-2": "1.1582289156213983"
         },
         {
          "coeff-0": "-3.024029949387331",
          "coeff-1": "0.9306560277946534",
          "coeff-2": "1.1582289156213983"
         },
         {
          "coeff-0": "-3.024029949387331",
          "coeff-1": "0.9306560277946534",
          "coeff-2": "1.1582289156213983"
         },
         {
          "coeff-0": "-3.024029949387331",
          "coeff-1": "0.9306560277946534",
          "coeff-2": "1.1582289156213983"
         },
         {
          "coeff-0": "-3.024029949387331",
          "coeff-1": "0.9306560277946534",
          "coeff-2": "1.1582289156213983"
         },
         {
          "coeff-0": "-3.024029949387331",
          "coeff-1": "0.9306560277946534",
          "coeff-2": "1.1582289156213983"
         },
         {
          "coeff-0": "-3.024029949387331",
          "coeff-1": "0.9306560277946534",
          "coeff-2": "1.1582289156213983"
         },
         {
          "coeff-0": "-3.024029949387331",
          "coeff-1": "0.9306560277946534",
          "coeff-2": "1.1582289156213983"
         },
         {
          "coeff-0": "-3.024029949387331",
          "coeff-1": "0.9306560277946534",
          "coeff-2": "1.1582289156213983"
         },
         {
          "coeff-0": "-3.024029949387331",
          "coeff-1": "0.9306560277946534",
          "coeff-2": "1.1582289156213983"
         },
         {
          "coeff-0": "-3.024029949387331",
          "coeff-1": "0.9306560277946534",
          "coeff-2": "1.1582289156213983"
         },
         {
          "coeff-0": "-3.024029949387331",
          "coeff-1": "0.9306560277946534",
          "coeff-2": "1.1582289156213983"
         },
         {
          "coeff-0": "-3.024029949387331",
          "coeff-1": "0.9306560277946534",
          "coeff-2": "1.1582289156213983"
         },
         {
          "coeff-0": "-3.024029949387331",
          "coeff-1": "0.9306560277946534",
          "coeff-2": "1.1582289156213983"
         },
         {
          "coeff-0": "-3.0004903560147267",
          "coeff-1": "0.9252024281476052",
          "coeff-2": "1.0738504724380127"
         },
         {
          "coeff-0": "-3.0004903560147267",
          "coeff-1": "0.9252024281476052",
          "coeff-2": "1.0738504724380127"
         },
         {
          "coeff-0": "-3.0004903560147267",
          "coeff-1": "0.9252024281476052",
          "coeff-2": "1.0738504724380127"
         },
         {
          "coeff-0": "-3.0004903560147267",
          "coeff-1": "0.9252024281476052",
          "coeff-2": "1.0738504724380127"
         },
         {
          "coeff-0": "-3.0004903560147267",
          "coeff-1": "0.9252024281476052",
          "coeff-2": "1.0738504724380127"
         },
         {
          "coeff-0": "-3.0004903560147267",
          "coeff-1": "0.9252024281476052",
          "coeff-2": "1.0738504724380127"
         },
         {
          "coeff-0": "-3.0004903560147267",
          "coeff-1": "0.9252024281476052",
          "coeff-2": "1.0738504724380127"
         },
         {
          "coeff-0": "-3.0004903560147267",
          "coeff-1": "0.9252024281476052",
          "coeff-2": "1.0738504724380127"
         },
         {
          "coeff-0": "-3.0004903560147267",
          "coeff-1": "0.9252024281476052",
          "coeff-2": "1.0738504724380127"
         },
         {
          "coeff-0": "-3.0004903560147267",
          "coeff-1": "0.9252024281476052",
          "coeff-2": "1.0738504724380127"
         },
         {
          "coeff-0": "-3.0004903560147267",
          "coeff-1": "0.9252024281476052",
          "coeff-2": "1.0738504724380127"
         },
         {
          "coeff-0": "-3.0004903560147267",
          "coeff-1": "0.9252024281476052",
          "coeff-2": "1.0738504724380127"
         },
         {
          "coeff-0": "-3.0004903560147267",
          "coeff-1": "0.9252024281476052",
          "coeff-2": "1.0738504724380127"
         },
         {
          "coeff-0": "-3.0004903560147267",
          "coeff-1": "0.9252024281476052",
          "coeff-2": "1.0738504724380127"
         },
         {
          "coeff-0": "-3.0004903560147267",
          "coeff-1": "0.9252024281476052",
          "coeff-2": "1.0738504724380127"
         },
         {
          "coeff-0": "-3.0004903560147267",
          "coeff-1": "0.9252024281476052",
          "coeff-2": "1.0738504724380127"
         },
         {
          "coeff-0": "-3.0004903560147267",
          "coeff-1": "0.9252024281476052",
          "coeff-2": "1.0738504724380127"
         },
         {
          "coeff-0": "-3.0004903560147267",
          "coeff-1": "0.9252024281476052",
          "coeff-2": "1.0738504724380127"
         },
         {
          "coeff-0": "-3.0004903560147267",
          "coeff-1": "0.9252024281476052",
          "coeff-2": "1.0738504724380127"
         },
         {
          "coeff-0": "-3.0004903560147267",
          "coeff-1": "0.9252024281476052",
          "coeff-2": "1.0738504724380127"
         },
         {
          "coeff-0": "-3.0004903560147267",
          "coeff-1": "0.9252024281476052",
          "coeff-2": "1.0738504724380127"
         },
         {
          "coeff-0": "-3.0004903560147267",
          "coeff-1": "0.9252024281476052",
          "coeff-2": "1.0738504724380127"
         },
         {
          "coeff-0": "-3.0004903560147267",
          "coeff-1": "0.9252024281476052",
          "coeff-2": "1.0738504724380127"
         },
         {
          "coeff-0": "-3.0004903560147267",
          "coeff-1": "0.9252024281476052",
          "coeff-2": "1.0738504724380127"
         },
         {
          "coeff-0": "-3.0004903560147267",
          "coeff-1": "0.9252024281476052",
          "coeff-2": "1.0738504724380127"
         },
         {
          "coeff-0": "-3.0004903560147267",
          "coeff-1": "0.9252024281476052",
          "coeff-2": "1.0738504724380127"
         },
         {
          "coeff-0": "-3.0004903560147267",
          "coeff-1": "0.9252024281476052",
          "coeff-2": "1.0738504724380127"
         },
         {
          "coeff-0": "-3.0004903560147267",
          "coeff-1": "0.9252024281476052",
          "coeff-2": "1.0738504724380127"
         },
         {
          "coeff-0": "-3.0004903560147267",
          "coeff-1": "0.9252024281476052",
          "coeff-2": "1.0738504724380127"
         },
         {
          "coeff-0": "-3.0004903560147267",
          "coeff-1": "0.9252024281476052",
          "coeff-2": "1.0738504724380127"
         },
         {
          "coeff-0": "-3.0004903560147267",
          "coeff-1": "0.9252024281476052",
          "coeff-2": "1.0738504724380127"
         },
         {
          "coeff-0": "-3.0004903560147267",
          "coeff-1": "0.9252024281476052",
          "coeff-2": "1.0738504724380127"
         },
         {
          "coeff-0": "-3.0004903560147267",
          "coeff-1": "0.9252024281476052",
          "coeff-2": "1.0738504724380127"
         },
         {
          "coeff-0": "-3.0004903560147267",
          "coeff-1": "0.9252024281476052",
          "coeff-2": "1.0738504724380127"
         },
         {
          "coeff-0": "-3.0004903560147267",
          "coeff-1": "0.9252024281476052",
          "coeff-2": "1.0738504724380127"
         },
         {
          "coeff-0": "-3.0004903560147267",
          "coeff-1": "0.9252024281476052",
          "coeff-2": "1.0738504724380127"
         },
         {
          "coeff-0": "-3.0004903560147267",
          "coeff-1": "0.9252024281476052",
          "coeff-2": "1.0738504724380127"
         },
         {
          "coeff-0": "-3.0004903560147267",
          "coeff-1": "0.9252024281476052",
          "coeff-2": "1.0738504724380127"
         },
         {
          "coeff-0": "-3.0004903560147267",
          "coeff-1": "0.9252024281476052",
          "coeff-2": "1.0738504724380127"
         },
         {
          "coeff-0": "-3.0004903560147267",
          "coeff-1": "0.9252024281476052",
          "coeff-2": "1.0738504724380127"
         },
         {
          "coeff-0": "-3.0004903560147267",
          "coeff-1": "0.9252024281476052",
          "coeff-2": "1.0738504724380127"
         },
         {
          "coeff-0": "-3.0004903560147267",
          "coeff-1": "0.9252024281476052",
          "coeff-2": "1.0738504724380127"
         },
         {
          "coeff-0": "-3.0004903560147267",
          "coeff-1": "0.9252024281476052",
          "coeff-2": "1.0738504724380127"
         },
         {
          "coeff-0": "-3.0004903560147267",
          "coeff-1": "0.9252024281476052",
          "coeff-2": "1.0738504724380127"
         },
         {
          "coeff-0": "-3.0004903560147267",
          "coeff-1": "0.9252024281476052",
          "coeff-2": "1.0738504724380127"
         },
         {
          "coeff-0": "-3.0004903560147267",
          "coeff-1": "0.9252024281476052",
          "coeff-2": "1.0738504724380127"
         },
         {
          "coeff-0": "-3.0004903560147267",
          "coeff-1": "0.9252024281476052",
          "coeff-2": "1.0738504724380127"
         },
         {
          "coeff-0": "-3.0004903560147267",
          "coeff-1": "0.9252024281476052",
          "coeff-2": "1.0738504724380127"
         },
         {
          "coeff-0": "-3.0004903560147267",
          "coeff-1": "0.9252024281476052",
          "coeff-2": "1.0738504724380127"
         },
         {
          "coeff-0": "-3.0004903560147267",
          "coeff-1": "0.9252024281476052",
          "coeff-2": "1.0738504724380127"
         },
         {
          "coeff-0": "-3.0004903560147267",
          "coeff-1": "0.9252024281476052",
          "coeff-2": "1.0738504724380127"
         },
         {
          "coeff-0": "-3.0004903560147267",
          "coeff-1": "0.9252024281476052",
          "coeff-2": "1.0738504724380127"
         },
         {
          "coeff-0": "-3.0004903560147267",
          "coeff-1": "0.9252024281476052",
          "coeff-2": "1.0738504724380127"
         },
         {
          "coeff-0": "-3.0004903560147267",
          "coeff-1": "0.9252024281476052",
          "coeff-2": "1.0738504724380127"
         },
         {
          "coeff-0": "-2.9778402653057077",
          "coeff-1": "0.9563390829208299",
          "coeff-2": "1.1642445947873281"
         },
         {
          "coeff-0": "-2.9778402653057077",
          "coeff-1": "0.9563390829208299",
          "coeff-2": "1.1642445947873281"
         },
         {
          "coeff-0": "-2.9778402653057077",
          "coeff-1": "0.9563390829208299",
          "coeff-2": "1.1642445947873281"
         },
         {
          "coeff-0": "-2.9778402653057077",
          "coeff-1": "0.9563390829208299",
          "coeff-2": "1.1642445947873281"
         },
         {
          "coeff-0": "-2.9778402653057077",
          "coeff-1": "0.9563390829208299",
          "coeff-2": "1.1642445947873281"
         },
         {
          "coeff-0": "-2.9778402653057077",
          "coeff-1": "0.9563390829208299",
          "coeff-2": "1.1642445947873281"
         },
         {
          "coeff-0": "-2.9778402653057077",
          "coeff-1": "0.9563390829208299",
          "coeff-2": "1.1642445947873281"
         },
         {
          "coeff-0": "-2.9778402653057077",
          "coeff-1": "0.9563390829208299",
          "coeff-2": "1.1642445947873281"
         },
         {
          "coeff-0": "-2.9778402653057077",
          "coeff-1": "0.9563390829208299",
          "coeff-2": "1.1642445947873281"
         },
         {
          "coeff-0": "-2.9778402653057077",
          "coeff-1": "0.9563390829208299",
          "coeff-2": "1.1642445947873281"
         },
         {
          "coeff-0": "-2.9778402653057077",
          "coeff-1": "0.9563390829208299",
          "coeff-2": "1.1642445947873281"
         },
         {
          "coeff-0": "-2.9778402653057077",
          "coeff-1": "0.9563390829208299",
          "coeff-2": "1.1642445947873281"
         },
         {
          "coeff-0": "-2.9778402653057077",
          "coeff-1": "0.9563390829208299",
          "coeff-2": "1.1642445947873281"
         },
         {
          "coeff-0": "-2.9778402653057077",
          "coeff-1": "0.9563390829208299",
          "coeff-2": "1.1642445947873281"
         },
         {
          "coeff-0": "-2.9778402653057077",
          "coeff-1": "0.9563390829208299",
          "coeff-2": "1.1642445947873281"
         },
         {
          "coeff-0": "-2.9778402653057077",
          "coeff-1": "0.9563390829208299",
          "coeff-2": "1.1642445947873281"
         },
         {
          "coeff-0": "-2.9778402653057077",
          "coeff-1": "0.9563390829208299",
          "coeff-2": "1.1642445947873281"
         },
         {
          "coeff-0": "-2.9778402653057077",
          "coeff-1": "0.9563390829208299",
          "coeff-2": "1.1642445947873281"
         },
         {
          "coeff-0": "-2.9778402653057077",
          "coeff-1": "0.9563390829208299",
          "coeff-2": "1.1642445947873281"
         },
         {
          "coeff-0": "-2.9778402653057077",
          "coeff-1": "0.9563390829208299",
          "coeff-2": "1.1642445947873281"
         },
         {
          "coeff-0": "-2.9778402653057077",
          "coeff-1": "0.9563390829208299",
          "coeff-2": "1.1642445947873281"
         },
         {
          "coeff-0": "-2.9778402653057077",
          "coeff-1": "0.9563390829208299",
          "coeff-2": "1.1642445947873281"
         },
         {
          "coeff-0": "-2.9778402653057077",
          "coeff-1": "0.9563390829208299",
          "coeff-2": "1.1642445947873281"
         },
         {
          "coeff-0": "-2.9778402653057077",
          "coeff-1": "0.9563390829208299",
          "coeff-2": "1.1642445947873281"
         },
         {
          "coeff-0": "-2.9778402653057077",
          "coeff-1": "0.9563390829208299",
          "coeff-2": "1.1642445947873281"
         },
         {
          "coeff-0": "-2.9778402653057077",
          "coeff-1": "0.9563390829208299",
          "coeff-2": "1.1642445947873281"
         },
         {
          "coeff-0": "-2.9778402653057077",
          "coeff-1": "0.9563390829208299",
          "coeff-2": "1.1642445947873281"
         },
         {
          "coeff-0": "-2.9778402653057077",
          "coeff-1": "0.9563390829208299",
          "coeff-2": "1.1642445947873281"
         },
         {
          "coeff-0": "-2.9778402653057077",
          "coeff-1": "0.9563390829208299",
          "coeff-2": "1.1642445947873281"
         },
         {
          "coeff-0": "-2.9778402653057077",
          "coeff-1": "0.9563390829208299",
          "coeff-2": "1.1642445947873281"
         },
         {
          "coeff-0": "-2.9778402653057077",
          "coeff-1": "0.9563390829208299",
          "coeff-2": "1.1642445947873281"
         },
         {
          "coeff-0": "-2.9778402653057077",
          "coeff-1": "0.9563390829208299",
          "coeff-2": "1.1642445947873281"
         },
         {
          "coeff-0": "-2.9778402653057077",
          "coeff-1": "0.9563390829208299",
          "coeff-2": "1.1642445947873281"
         },
         {
          "coeff-0": "-2.9778402653057077",
          "coeff-1": "0.9563390829208299",
          "coeff-2": "1.1642445947873281"
         },
         {
          "coeff-0": "-2.9778402653057077",
          "coeff-1": "0.9563390829208299",
          "coeff-2": "1.1642445947873281"
         },
         {
          "coeff-0": "-2.9778402653057077",
          "coeff-1": "0.9563390829208299",
          "coeff-2": "1.1642445947873281"
         },
         {
          "coeff-0": "-2.9778402653057077",
          "coeff-1": "0.9563390829208299",
          "coeff-2": "1.1642445947873281"
         },
         {
          "coeff-0": "-2.9778402653057077",
          "coeff-1": "0.9563390829208299",
          "coeff-2": "1.1642445947873281"
         },
         {
          "coeff-0": "-2.9778402653057077",
          "coeff-1": "0.9563390829208299",
          "coeff-2": "1.1642445947873281"
         },
         {
          "coeff-0": "-2.9778402653057077",
          "coeff-1": "0.9563390829208299",
          "coeff-2": "1.1642445947873281"
         },
         {
          "coeff-0": "-2.9778402653057077",
          "coeff-1": "0.9563390829208299",
          "coeff-2": "1.1642445947873281"
         },
         {
          "coeff-0": "-2.9778402653057077",
          "coeff-1": "0.9563390829208299",
          "coeff-2": "1.1642445947873281"
         },
         {
          "coeff-0": "-2.9778402653057077",
          "coeff-1": "0.9563390829208299",
          "coeff-2": "1.1642445947873281"
         },
         {
          "coeff-0": "-2.9778402653057077",
          "coeff-1": "0.9563390829208299",
          "coeff-2": "1.1642445947873281"
         },
         {
          "coeff-0": "-2.9778402653057077",
          "coeff-1": "0.9563390829208299",
          "coeff-2": "1.1642445947873281"
         },
         {
          "coeff-0": "-2.9778402653057077",
          "coeff-1": "0.9563390829208299",
          "coeff-2": "1.1642445947873281"
         },
         {
          "coeff-0": "-2.9778402653057077",
          "coeff-1": "0.9563390829208299",
          "coeff-2": "1.1642445947873281"
         },
         {
          "coeff-0": "-2.9778402653057077",
          "coeff-1": "0.9563390829208299",
          "coeff-2": "1.1642445947873281"
         },
         {
          "coeff-0": "-2.9778402653057077",
          "coeff-1": "0.9563390829208299",
          "coeff-2": "1.1642445947873281"
         },
         {
          "coeff-0": "-2.9778402653057077",
          "coeff-1": "0.9563390829208299",
          "coeff-2": "1.1642445947873281"
         },
         {
          "coeff-0": "-2.9778402653057077",
          "coeff-1": "0.9563390829208299",
          "coeff-2": "1.1642445947873281"
         },
         {
          "coeff-0": "-2.9778402653057077",
          "coeff-1": "0.9563390829208299",
          "coeff-2": "1.1642445947873281"
         },
         {
          "coeff-0": "-2.9778402653057077",
          "coeff-1": "0.9563390829208299",
          "coeff-2": "1.1642445947873281"
         },
         {
          "coeff-0": "-2.9778402653057077",
          "coeff-1": "0.9563390829208299",
          "coeff-2": "1.1642445947873281"
         },
         {
          "coeff-0": "-2.9778402653057077",
          "coeff-1": "0.9563390829208299",
          "coeff-2": "1.1642445947873281"
         },
         {
          "coeff-0": "-2.9778402653057077",
          "coeff-1": "0.9563390829208299",
          "coeff-2": "1.1642445947873281"
         },
         {
          "coeff-0": "-2.9778402653057077",
          "coeff-1": "0.9563390829208299",
          "coeff-2": "1.1642445947873281"
         },
         {
          "coeff-0": "-2.9778402653057077",
          "coeff-1": "0.9563390829208299",
          "coeff-2": "1.1642445947873281"
         },
         {
          "coeff-0": "-2.9778402653057077",
          "coeff-1": "0.9563390829208299",
          "coeff-2": "1.1642445947873281"
         },
         {
          "coeff-0": "-2.9778402653057077",
          "coeff-1": "0.9563390829208299",
          "coeff-2": "1.1642445947873281"
         },
         {
          "coeff-0": "-2.9778402653057077",
          "coeff-1": "0.9563390829208299",
          "coeff-2": "1.1642445947873281"
         },
         {
          "coeff-0": "-2.987177284306214",
          "coeff-1": "0.9752342070273435",
          "coeff-2": "1.2337277104875861"
         },
         {
          "coeff-0": "-2.987177284306214",
          "coeff-1": "0.9752342070273435",
          "coeff-2": "1.2337277104875861"
         },
         {
          "coeff-0": "-2.987177284306214",
          "coeff-1": "0.9752342070273435",
          "coeff-2": "1.2337277104875861"
         },
         {
          "coeff-0": "-2.987177284306214",
          "coeff-1": "0.9752342070273435",
          "coeff-2": "1.2337277104875861"
         },
         {
          "coeff-0": "-2.987177284306214",
          "coeff-1": "0.9752342070273435",
          "coeff-2": "1.2337277104875861"
         },
         {
          "coeff-0": "-2.987177284306214",
          "coeff-1": "0.9752342070273435",
          "coeff-2": "1.2337277104875861"
         },
         {
          "coeff-0": "-2.987177284306214",
          "coeff-1": "0.9752342070273435",
          "coeff-2": "1.2337277104875861"
         },
         {
          "coeff-0": "-2.987177284306214",
          "coeff-1": "0.9752342070273435",
          "coeff-2": "1.2337277104875861"
         },
         {
          "coeff-0": "-2.987177284306214",
          "coeff-1": "0.9752342070273435",
          "coeff-2": "1.2337277104875861"
         },
         {
          "coeff-0": "-2.987177284306214",
          "coeff-1": "0.9752342070273435",
          "coeff-2": "1.2337277104875861"
         },
         {
          "coeff-0": "-2.987177284306214",
          "coeff-1": "0.9752342070273435",
          "coeff-2": "1.2337277104875861"
         },
         {
          "coeff-0": "-2.987177284306214",
          "coeff-1": "0.9752342070273435",
          "coeff-2": "1.2337277104875861"
         },
         {
          "coeff-0": "-2.987177284306214",
          "coeff-1": "0.9752342070273435",
          "coeff-2": "1.2337277104875861"
         },
         {
          "coeff-0": "-2.987177284306214",
          "coeff-1": "0.9752342070273435",
          "coeff-2": "1.2337277104875861"
         },
         {
          "coeff-0": "-2.987177284306214",
          "coeff-1": "0.9752342070273435",
          "coeff-2": "1.2337277104875861"
         },
         {
          "coeff-0": "-2.987177284306214",
          "coeff-1": "0.9752342070273435",
          "coeff-2": "1.2337277104875861"
         },
         {
          "coeff-0": "-2.987177284306214",
          "coeff-1": "0.9752342070273435",
          "coeff-2": "1.2337277104875861"
         },
         {
          "coeff-0": "-2.987177284306214",
          "coeff-1": "0.9752342070273435",
          "coeff-2": "1.2337277104875861"
         },
         {
          "coeff-0": "-2.987177284306214",
          "coeff-1": "0.9752342070273435",
          "coeff-2": "1.2337277104875861"
         },
         {
          "coeff-0": "-2.987177284306214",
          "coeff-1": "0.9752342070273435",
          "coeff-2": "1.2337277104875861"
         },
         {
          "coeff-0": "-2.987177284306214",
          "coeff-1": "0.9752342070273435",
          "coeff-2": "1.2337277104875861"
         },
         {
          "coeff-0": "-2.987177284306214",
          "coeff-1": "0.9752342070273435",
          "coeff-2": "1.2337277104875861"
         },
         {
          "coeff-0": "-2.987177284306214",
          "coeff-1": "0.9752342070273435",
          "coeff-2": "1.2337277104875861"
         },
         {
          "coeff-0": "-2.987177284306214",
          "coeff-1": "0.9752342070273435",
          "coeff-2": "1.2337277104875861"
         },
         {
          "coeff-0": "-2.987177284306214",
          "coeff-1": "0.9752342070273435",
          "coeff-2": "1.2337277104875861"
         },
         {
          "coeff-0": "-2.987177284306214",
          "coeff-1": "0.9752342070273435",
          "coeff-2": "1.2337277104875861"
         },
         {
          "coeff-0": "-2.987177284306214",
          "coeff-1": "0.9752342070273435",
          "coeff-2": "1.2337277104875861"
         },
         {
          "coeff-0": "-2.987177284306214",
          "coeff-1": "0.9752342070273435",
          "coeff-2": "1.2337277104875861"
         },
         {
          "coeff-0": "-2.987177284306214",
          "coeff-1": "0.9752342070273435",
          "coeff-2": "1.2337277104875861"
         },
         {
          "coeff-0": "-2.987177284306214",
          "coeff-1": "0.9752342070273435",
          "coeff-2": "1.2337277104875861"
         },
         {
          "coeff-0": "-2.987177284306214",
          "coeff-1": "0.9752342070273435",
          "coeff-2": "1.2337277104875861"
         },
         {
          "coeff-0": "-2.987177284306214",
          "coeff-1": "0.9752342070273435",
          "coeff-2": "1.2337277104875861"
         },
         {
          "coeff-0": "-2.987177284306214",
          "coeff-1": "0.9752342070273435",
          "coeff-2": "1.2337277104875861"
         },
         {
          "coeff-0": "-2.987177284306214",
          "coeff-1": "0.9752342070273435",
          "coeff-2": "1.2337277104875861"
         },
         {
          "coeff-0": "-2.987177284306214",
          "coeff-1": "0.9752342070273435",
          "coeff-2": "1.2337277104875861"
         },
         {
          "coeff-0": "-2.987177284306214",
          "coeff-1": "0.9752342070273435",
          "coeff-2": "1.2337277104875861"
         },
         {
          "coeff-0": "-2.987177284306214",
          "coeff-1": "0.9752342070273435",
          "coeff-2": "1.2337277104875861"
         },
         {
          "coeff-0": "-2.987177284306214",
          "coeff-1": "0.9752342070273435",
          "coeff-2": "1.2337277104875861"
         },
         {
          "coeff-0": "-2.9886280341585034",
          "coeff-1": "0.9430811668252467",
          "coeff-2": "1.2994088070164065"
         },
         {
          "coeff-0": "-2.9886280341585034",
          "coeff-1": "0.9430811668252467",
          "coeff-2": "1.2994088070164065"
         },
         {
          "coeff-0": "-2.9886280341585034",
          "coeff-1": "0.9430811668252467",
          "coeff-2": "1.2994088070164065"
         },
         {
          "coeff-0": "-2.9886280341585034",
          "coeff-1": "0.9430811668252467",
          "coeff-2": "1.2994088070164065"
         },
         {
          "coeff-0": "-2.9886280341585034",
          "coeff-1": "0.9430811668252467",
          "coeff-2": "1.2994088070164065"
         },
         {
          "coeff-0": "-2.9886280341585034",
          "coeff-1": "0.9430811668252467",
          "coeff-2": "1.2994088070164065"
         },
         {
          "coeff-0": "-2.9886280341585034",
          "coeff-1": "0.9430811668252467",
          "coeff-2": "1.2994088070164065"
         },
         {
          "coeff-0": "-2.9886280341585034",
          "coeff-1": "0.9430811668252467",
          "coeff-2": "1.2994088070164065"
         },
         {
          "coeff-0": "-2.9886280341585034",
          "coeff-1": "0.9430811668252467",
          "coeff-2": "1.2994088070164065"
         },
         {
          "coeff-0": "-2.9886280341585034",
          "coeff-1": "0.9430811668252467",
          "coeff-2": "1.2994088070164065"
         },
         {
          "coeff-0": "-2.9886280341585034",
          "coeff-1": "0.9430811668252467",
          "coeff-2": "1.2994088070164065"
         },
         {
          "coeff-0": "-2.9886280341585034",
          "coeff-1": "0.9430811668252467",
          "coeff-2": "1.2994088070164065"
         },
         {
          "coeff-0": "-2.9886280341585034",
          "coeff-1": "0.9430811668252467",
          "coeff-2": "1.2994088070164065"
         },
         {
          "coeff-0": "-2.9886280341585034",
          "coeff-1": "0.9430811668252467",
          "coeff-2": "1.2994088070164065"
         },
         {
          "coeff-0": "-2.9886280341585034",
          "coeff-1": "0.9430811668252467",
          "coeff-2": "1.2994088070164065"
         },
         {
          "coeff-0": "-2.9886280341585034",
          "coeff-1": "0.9430811668252467",
          "coeff-2": "1.2994088070164065"
         },
         {
          "coeff-0": "-2.9886280341585034",
          "coeff-1": "0.9430811668252467",
          "coeff-2": "1.2994088070164065"
         },
         {
          "coeff-0": "-2.9886280341585034",
          "coeff-1": "0.9430811668252467",
          "coeff-2": "1.2994088070164065"
         },
         {
          "coeff-0": "-2.9886280341585034",
          "coeff-1": "0.9430811668252467",
          "coeff-2": "1.2994088070164065"
         },
         {
          "coeff-0": "-2.9886280341585034",
          "coeff-1": "0.9430811668252467",
          "coeff-2": "1.2994088070164065"
         },
         {
          "coeff-0": "-2.9886280341585034",
          "coeff-1": "0.9430811668252467",
          "coeff-2": "1.2994088070164065"
         },
         {
          "coeff-0": "-2.9886280341585034",
          "coeff-1": "0.9430811668252467",
          "coeff-2": "1.2994088070164065"
         },
         {
          "coeff-0": "-2.9886280341585034",
          "coeff-1": "0.9430811668252467",
          "coeff-2": "1.2994088070164065"
         },
         {
          "coeff-0": "-2.9886280341585034",
          "coeff-1": "0.9430811668252467",
          "coeff-2": "1.2994088070164065"
         },
         {
          "coeff-0": "-2.9886280341585034",
          "coeff-1": "0.9430811668252467",
          "coeff-2": "1.2994088070164065"
         },
         {
          "coeff-0": "-2.9886280341585034",
          "coeff-1": "0.9430811668252467",
          "coeff-2": "1.2994088070164065"
         },
         {
          "coeff-0": "-2.9886280341585034",
          "coeff-1": "0.9430811668252467",
          "coeff-2": "1.2994088070164065"
         },
         {
          "coeff-0": "-2.9886280341585034",
          "coeff-1": "0.9430811668252467",
          "coeff-2": "1.2994088070164065"
         },
         {
          "coeff-0": "-2.9886280341585034",
          "coeff-1": "0.9430811668252467",
          "coeff-2": "1.2994088070164065"
         },
         {
          "coeff-0": "-2.9886280341585034",
          "coeff-1": "0.9430811668252467",
          "coeff-2": "1.2994088070164065"
         },
         {
          "coeff-0": "-2.9886280341585034",
          "coeff-1": "0.9430811668252467",
          "coeff-2": "1.2994088070164065"
         },
         {
          "coeff-0": "-2.9886280341585034",
          "coeff-1": "0.9430811668252467",
          "coeff-2": "1.2994088070164065"
         },
         {
          "coeff-0": "-2.9886280341585034",
          "coeff-1": "0.9430811668252467",
          "coeff-2": "1.2994088070164065"
         },
         {
          "coeff-0": "-2.9886280341585034",
          "coeff-1": "0.9430811668252467",
          "coeff-2": "1.2994088070164065"
         }
        ]
       },
       "description": ".",
       "height": 600,
       "title": "",
       "vconcat": [
        {
         "hconcat": [
          {
           "encoding": {
            "x": {
             "bin": true,
             "field": "coeff-0",
             "type": "quantitative"
            },
            "y": {
             "aggregate": "count",
             "field": "coeff-0",
             "type": "quantitative"
            }
           },
           "mark": "bar"
          },
          {
           "encoding": {
            "x": {
             "field": "coeff-0",
             "scale": {
              "zero": false
             },
             "type": "quantitative"
            },
            "y": {
             "field": "coeff-1",
             "scale": {
              "zero": false
             },
             "type": "quantitative"
            }
           },
           "mark": "circle"
          },
          {
           "encoding": {
            "x": {
             "field": "coeff-0",
             "scale": {
              "zero": false
             },
             "type": "quantitative"
            },
            "y": {
             "field": "coeff-2",
             "scale": {
              "zero": false
             },
             "type": "quantitative"
            }
           },
           "mark": "circle"
          }
         ]
        },
        {
         "hconcat": [
          {
           "encoding": {
            "x": {
             "field": "coeff-1",
             "scale": {
              "zero": false
             },
             "type": "quantitative"
            },
            "y": {
             "field": "coeff-0",
             "scale": {
              "zero": false
             },
             "type": "quantitative"
            }
           },
           "mark": "circle"
          },
          {
           "encoding": {
            "x": {
             "bin": true,
             "field": "coeff-1",
             "type": "quantitative"
            },
            "y": {
             "aggregate": "count",
             "field": "coeff-1",
             "type": "quantitative"
            }
           },
           "mark": "bar"
          },
          {
           "encoding": {
            "x": {
             "field": "coeff-1",
             "scale": {
              "zero": false
             },
             "type": "quantitative"
            },
            "y": {
             "field": "coeff-2",
             "scale": {
              "zero": false
             },
             "type": "quantitative"
            }
           },
           "mark": "circle"
          }
         ]
        },
        {
         "hconcat": [
          {
           "encoding": {
            "x": {
             "field": "coeff-2",
             "scale": {
              "zero": false
             },
             "type": "quantitative"
            },
            "y": {
             "field": "coeff-0",
             "scale": {
              "zero": false
             },
             "type": "quantitative"
            }
           },
           "mark": "circle"
          },
          {
           "encoding": {
            "x": {
             "field": "coeff-2",
             "scale": {
              "zero": false
             },
             "type": "quantitative"
            },
            "y": {
             "field": "coeff-1",
             "scale": {
              "zero": false
             },
             "type": "quantitative"
            }
           },
           "mark": "circle"
          },
          {
           "encoding": {
            "x": {
             "bin": true,
             "field": "coeff-2",
             "type": "quantitative"
            },
            "y": {
             "aggregate": "count",
             "field": "coeff-2",
             "type": "quantitative"
            }
           },
           "mark": "bar"
          }
         ]
        }
       ],
       "width": 600
      },
      "image/png": "[encoded data removed]"
     },
     "metadata": {},
     "output_type": "display_data"
    }
   ],
   "source": [
    "val df = DataFrame(Seq(\n",
    "    DataFrame.Column.ofContinuous(samples.map(s => s.parameters.shapeParameters.coefficients(0)), \"coeff-0\"), \n",
    "    DataFrame.Column.ofContinuous(samples.map(s => s.parameters.shapeParameters.coefficients(1)), \"coeff-1\"), \n",
    "    DataFrame.Column.ofContinuous(samples.map(s => s.parameters.shapeParameters.coefficients(2)), \"coeff-2\"), \n",
    "    )\n",
    ")\n",
    "\n",
    "df.plot.pairPlot(Seq(\"coeff-0\", \"coeff-1\", \"coeff-2\"), title = \"Pairs\").show()"
   ]
  },
  {
   "cell_type": "markdown",
   "id": "69bb43b7-142e-4f08-8851-7dccda036f46",
   "metadata": {},
   "source": [
    "#### Exercises\n",
    "\n",
    "* Make more complicated pose changes. Does it still work?\n",
    "* How do the priors affect the result?\n",
    "* Print the acceptance ratios for your proposals. Which work, which don't? How con you tune them?\n",
    "* Try to fit the contour drawn in the image `spine-contour-handdrawn`, which you find in the folder `images`. You can load the image and extract the contour with the code below. \n",
    "* Draw your own contour using an arbitrary drawing problen on an x-ray of the L1 vertebra you find on the internet. Make sure you draw the contour in Black. You can extract"
   ]
  },
  {
   "cell_type": "markdown",
   "id": "8b145ec7-8b39-4f45-a37b-b5ae330b1e6f",
   "metadata": {},
   "source": [
    "### Useful snippets"
   ]
  },
  {
   "cell_type": "code",
   "execution_count": 28,
   "id": "09446c51-f13e-4a91-bb2a-0949f17ab7df",
   "metadata": {},
   "outputs": [],
   "source": [
    "// extract the target contour from the image.\n",
    "\n",
    "val bufferedImage = javax.imageio.ImageIO.read(new java.io.File(\"./data/spine-contour-handdrawn.png\"))\n",
    "val image  = PixelImage.fromBufferedImage(bufferedImage)\n",
    "val targetContourNotCentered = Contour.fromImage(image).get\n",
    "val centerTransform = Translation2D(Point2D(0, 0) - targetContourNotCentered.pointSet.centerOfMass)\n",
    "val targetContour = targetContourNotCentered.transform(centerTransform)"
   ]
  },
  {
   "cell_type": "code",
   "execution_count": null,
   "id": "bab041ac-864f-468e-9293-cfddf20330ca",
   "metadata": {},
   "outputs": [],
   "source": []
  }
 ],
 "metadata": {
  "kernelspec": {
   "display_name": "Scala",
   "language": "scala",
   "name": "scala"
  },
  "language_info": {
   "codemirror_mode": "text/x-scala",
   "file_extension": ".sc",
   "mimetype": "text/x-scala",
   "name": "scala",
   "nbconvert_exporter": "script",
   "version": "2.13.8"
  }
 },
 "nbformat": 4,
 "nbformat_minor": 5
}
