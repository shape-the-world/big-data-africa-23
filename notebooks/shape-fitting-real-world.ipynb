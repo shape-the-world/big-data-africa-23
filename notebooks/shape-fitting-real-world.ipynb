{
 "cells": [
  {
   "cell_type": "markdown",
   "id": "da849a4f-0493-4c4f-baa9-be4a8e69e87e",
   "metadata": {},
   "source": [
    "# shape Fitting"
   ]
  },
  {
   "cell_type": "code",
   "execution_count": 3,
   "id": "118fc52e-ead0-4941-9559-953c05f35b95",
   "metadata": {},
   "outputs": [
    {
     "data": {
      "text/plain": [
       "\u001b[36mapi\u001b[39m: \u001b[32mJupyterApi\u001b[39m = almond.JupyterApiImpl@194cdace"
      ]
     },
     "execution_count": 3,
     "metadata": {},
     "output_type": "execute_result"
    }
   ],
   "source": [
    "// Suppressing excessive output for the jupyter-notebook\n",
    "val api = implicitly[almond.api.JupyterApi]\n",
    "api.silent(true)"
   ]
  },
  {
   "cell_type": "code",
   "execution_count": 1,
   "id": "92e0b6f0-c950-497c-b692-25044847d0eb",
   "metadata": {},
   "outputs": [
    {
     "data": {
      "text/plain": [
       "\u001b[32mimport \u001b[39m\u001b[36mcoursierapi.{Credentials, MavenRepository}\n",
       "\u001b[39m\n",
       "\u001b[32mimport \u001b[39m\u001b[36m$ivy.$                                                \n",
       "\u001b[39m\n",
       "\u001b[32mimport \u001b[39m\u001b[36m$ivy.$                                                    \n",
       "\u001b[39m\n",
       "\u001b[32mimport \u001b[39m\u001b[36m$ivy.$                           \n",
       "\u001b[39m\n",
       "\u001b[32mimport \u001b[39m\u001b[36m$ivy.$                                   \n",
       "\n",
       "\n",
       "// imports\n",
       "\u001b[39m\n",
       "\u001b[32mimport \u001b[39m\u001b[36mscalismo.io.StatisticalModelIO\n",
       "\u001b[39m\n",
       "\u001b[32mimport \u001b[39m\u001b[36mscalismo.io.LandmarkIO\n",
       "\u001b[39m\n",
       "\u001b[32mimport \u001b[39m\u001b[36mscalismo.geometry._\n",
       "\u001b[39m\n",
       "\u001b[32mimport \u001b[39m\u001b[36mscalismo.common.PointId\n",
       "\u001b[39m\n",
       "\u001b[32mimport \u001b[39m\u001b[36mscalismo.common.interpolation.TriangleMeshInterpolator3D\n",
       "\u001b[39m\n",
       "\u001b[32mimport \u001b[39m\u001b[36mscalismo.common.UnstructuredPointsDomain\n",
       "\u001b[39m\n",
       "\u001b[32mimport \u001b[39m\u001b[36mscalismo.common.interpolation.NearestNeighborInterpolator3D\n",
       "\u001b[39m\n",
       "\u001b[32mimport \u001b[39m\u001b[36mscalismo.common.UnstructuredPointsDomain1D\n",
       "\u001b[39m\n",
       "\u001b[32mimport \u001b[39m\u001b[36mscalismo.common.UnstructuredPointsDomain3D\n",
       "\u001b[39m\n",
       "\u001b[32mimport \u001b[39m\u001b[36mscalismo.statisticalmodel.PointDistributionModel\n",
       "\u001b[39m\n",
       "\u001b[32mimport \u001b[39m\u001b[36mscalismo.statisticalmodel.MultivariateNormalDistribution\n",
       "\n",
       "\u001b[39m\n",
       "\u001b[32mimport \u001b[39m\u001b[36mscalismo.mesh.TriangleMesh\n",
       "\u001b[39m\n",
       "\u001b[32mimport \u001b[39m\u001b[36mscalismo.transformations._\n",
       "\n",
       "\n",
       "\u001b[39m\n",
       "\u001b[32mimport \u001b[39m\u001b[36mscalismo.sampling._\n",
       "\u001b[39m\n",
       "\u001b[32mimport \u001b[39m\u001b[36mscalismo.sampling.proposals._\n",
       "\u001b[39m\n",
       "\u001b[32mimport \u001b[39m\u001b[36mscalismo.sampling.parameters._\n",
       "\u001b[39m\n",
       "\u001b[32mimport \u001b[39m\u001b[36mscalismo.sampling.evaluators._\n",
       "\u001b[39m\n",
       "\u001b[32mimport \u001b[39m\u001b[36mscalismo.sampling.loggers.MHSampleLogger\n",
       "\u001b[39m\n",
       "\u001b[32mimport \u001b[39m\u001b[36mscalismo.sampling.algorithms.MetropolisHastings\n",
       "\u001b[39m\n",
       "\u001b[32mimport \u001b[39m\u001b[36mscalismo.mesh.LineMesh\n",
       "\u001b[39m\n",
       "\u001b[32mimport \u001b[39m\u001b[36mscalismo.mesh.LineList\n",
       "\u001b[39m\n",
       "\u001b[32mimport \u001b[39m\u001b[36mscalismo.geometry._2D\n",
       "\u001b[39m\n",
       "\u001b[32mimport \u001b[39m\u001b[36mscalismo.renderer.ContourRenderer\n",
       "\n",
       "\u001b[39m\n",
       "\u001b[32mimport \u001b[39m\u001b[36mbreeze.linalg.DenseVector\n",
       "\u001b[39m\n",
       "\u001b[32mimport \u001b[39m\u001b[36mbreeze.linalg.DenseMatrix\n",
       "\u001b[39m\n",
       "\u001b[32mimport \u001b[39m\u001b[36mbreeze.stats.distributions.MultivariateGaussian\n",
       "\u001b[39m\n",
       "\u001b[32mimport \u001b[39m\u001b[36mbreeze.stats.distributions.Rand.FixedSeed.randBasis\n",
       "\u001b[39m\n",
       "\u001b[32mimport \u001b[39m\u001b[36mscalismo.renderer.PixelImage\n",
       "\u001b[39m\n",
       "\u001b[32mimport \u001b[39m\u001b[36mscalismo.color.RGB\n",
       "\u001b[39m\n",
       "\u001b[32mimport \u001b[39m\u001b[36mscalismo.mesh.LineMesh2D\n",
       "\u001b[39m\n",
       "\u001b[32mimport \u001b[39m\u001b[36mscalismo.common.UnstructuredPoints2D\n",
       "\u001b[39m\n",
       "\u001b[32mimport \u001b[39m\u001b[36mjava.io.File\n",
       "\u001b[39m"
      ]
     },
     "execution_count": 1,
     "metadata": {},
     "output_type": "execute_result"
    }
   ],
   "source": [
    "// downloading the libraries\n",
    "\n",
    "import coursierapi.{Credentials, MavenRepository}\n",
    "interp.repositories() ++= Seq(\n",
    "  MavenRepository.of(\"https://oss.sonatype.org/content/repositories/snapshots\")\n",
    ")\n",
    "\n",
    "import $ivy.`ch.unibas.cs.gravis::scalismo-plot:0.1-SNAPSHOT`\n",
    "import $ivy.`ch.unibas.cs.gravis::scalismo-renderer:0.1-SNAPSHOT`\n",
    "import $ivy.`org.scalanlp::breeze:2.1.0`\n",
    "import $ivy.`org.scalanlp::breeze-natives:2.1.0`\n",
    "\n",
    "\n",
    "// imports\n",
    "import scalismo.io.StatisticalModelIO\n",
    "import scalismo.io.LandmarkIO\n",
    "import scalismo.geometry._\n",
    "import scalismo.common.PointId\n",
    "import scalismo.common.interpolation.TriangleMeshInterpolator3D\n",
    "import scalismo.common.UnstructuredPointsDomain\n",
    "import scalismo.common.interpolation.NearestNeighborInterpolator3D\n",
    "import scalismo.common.UnstructuredPointsDomain1D\n",
    "import scalismo.common.UnstructuredPointsDomain3D\n",
    "import scalismo.statisticalmodel.PointDistributionModel\n",
    "import scalismo.statisticalmodel.MultivariateNormalDistribution\n",
    "\n",
    "import scalismo.mesh.TriangleMesh\n",
    "import scalismo.transformations._\n",
    "\n",
    "\n",
    "import scalismo.sampling._\n",
    "import scalismo.sampling.proposals._\n",
    "import scalismo.sampling.parameters._\n",
    "import scalismo.sampling.evaluators._\n",
    "import scalismo.sampling.loggers.MHSampleLogger\n",
    "import scalismo.sampling.algorithms.MetropolisHastings\n",
    "import scalismo.mesh.LineMesh\n",
    "import scalismo.mesh.LineList\n",
    "import scalismo.geometry._2D\n",
    "import scalismo.renderer.ContourRenderer\n",
    "\n",
    "import breeze.linalg.DenseVector\n",
    "import breeze.linalg.DenseMatrix\n",
    "import breeze.stats.distributions.MultivariateGaussian\n",
    "import breeze.stats.distributions.Rand.FixedSeed.randBasis\n",
    "import scalismo.renderer.PixelImage\n",
    "import scalismo.color.RGB\n",
    "import scalismo.mesh.LineMesh2D\n",
    "import scalismo.common.UnstructuredPoints2D\n",
    "import java.io.File"
   ]
  },
  {
   "cell_type": "code",
   "execution_count": 4,
   "id": "57231a01-2782-4d23-a4c1-fa9a9effe119",
   "metadata": {},
   "outputs": [],
   "source": [
    "given rng: scalismo.utils.Random = scalismo.utils.Random(42)\n"
   ]
  },
  {
   "cell_type": "markdown",
   "id": "89b75c26-7bc4-4d66-94d9-a2e195fae90a",
   "metadata": {},
   "source": []
  },
  {
   "cell_type": "markdown",
   "id": "427fda8f-610f-4f86-bbac-78e6b10ba0eb",
   "metadata": {},
   "source": [
    "### The target"
   ]
  },
  {
   "cell_type": "code",
   "execution_count": 5,
   "id": "9682708d-6c87-4338-939a-079c7ffb53d2",
   "metadata": {},
   "outputs": [],
   "source": [
    "def extractContour(rgbImage : PixelImage[RGB]) : LineMesh[_2D] = \n",
    "    val image = rgbImage.map(rgb => if rgb.r > 0 then 1 else 0)\n",
    "        \n",
    "    val points = for (\n",
    "        x <- 0 until image.domain.width; \n",
    "        y <- 0 until image.domain.height\n",
    "        if (image(x,y) > 0)) yield Point2D(x, y)\n",
    "    LineMesh2D(UnstructuredPoints2D(points), LineList.empty)"
   ]
  },
  {
   "cell_type": "code",
   "execution_count": 9,
   "id": "8a9db155-8184-401c-9c70-3894e451eaa7",
   "metadata": {},
   "outputs": [],
   "source": [
    "val sensorDistance = 100\n",
    "val sourceLocation = Point3D(0, 0, 30)\n",
    "\n",
    "val bufferedImage = javax.imageio.ImageIO.read(new java.io.File(\"./data/spine-segmented.png\"))\n",
    "val image  = PixelImage.fromBufferedImage(bufferedImage)\n",
    "val targetContour = extractContour(image)"
   ]
  },
  {
   "cell_type": "code",
   "execution_count": 10,
   "id": "899a4806-ee4c-4cb5-9529-fc8ec11362d7",
   "metadata": {},
   "outputs": [],
   "source": [
    "val model = StatisticalModelIO.readStatisticalTriangleMeshModel3D(File(\"./data/vertebra-model.h5\")).get   \n",
    "\n"
   ]
  },
  {
   "cell_type": "markdown",
   "id": "8451cdd9-c23a-4658-b6e4-fe312fc5e446",
   "metadata": {},
   "source": [
    "### Evaluators"
   ]
  },
  {
   "cell_type": "code",
   "execution_count": 11,
   "id": "f7810653-93ea-4101-8f0f-355b4b3dce9f",
   "metadata": {},
   "outputs": [],
   "source": [
    " case class PriorEvaluator(model: PointDistributionModel[_3D, TriangleMesh])\n",
    "      extends MHDistributionEvaluator[ShapeParameters] {\n",
    "\n",
    "          \n",
    "    val shapeParameterPrior = MultivariateGaussian(DenseVector.zeros[Double](model.rank), DenseMatrix.eye[Double](model.rank))\n",
    "    override def logValue(sample: MHSample[ShapeParameters]): Double = {\n",
    "        shapeParameterPrior.logPdf(sample.parameters.coefficients) \n",
    "    }\n",
    "  }"
   ]
  },
  {
   "cell_type": "code",
   "execution_count": 12,
   "id": "3453d353-695d-4a6e-b774-d26ad055a820",
   "metadata": {},
   "outputs": [],
   "source": [
    "\n",
    "\n",
    "case class ContourEvaluator(\n",
    "        model: PointDistributionModel[_3D, TriangleMesh],\n",
    "        targetContour: LineMesh[_2D], \n",
    "        sensorDistance : Int, \n",
    "        sourceLocation : Point[_3D]\n",
    "    ) extends MHDistributionEvaluator[ShapeParameters]:\n",
    "\n",
    "    \n",
    "    override def logValue(sample: MHSample[ShapeParameters]): Double = \n",
    "        val modelInstance = model.instance(sample.parameters.coefficients)\n",
    "        val sampledContour = ContourRenderer.projectMeshContours(modelInstance, sensorDistance, sourceLocation)\n",
    "        val sigma = 2.0\n",
    "        val likelihoods = for targetPoint <- targetContour.pointSet.points yield\n",
    "            val targetPointVec = DenseVector[Double](targetPoint.x, targetPoint.y)\n",
    "            val dist = MultivariateGaussian(targetPointVec, DenseMatrix.eye[Double](2)*sigma)\n",
    "            val closestModelPoint = sampledContour.pointSet.findClosestPoint(targetPoint).point\n",
    "            val closestModelPointVec = DenseVector(closestModelPoint.x, closestModelPoint.y)\n",
    "            dist.logPdf(closestModelPointVec)\n",
    "        likelihoods.sum\n",
    "        \n",
    "    \n",
    "  \n"
   ]
  },
  {
   "cell_type": "code",
   "execution_count": 13,
   "id": "f02aa3f3-9487-44cf-bb44-b9e3ba2a812a",
   "metadata": {},
   "outputs": [],
   "source": [
    "val likelihoodEvaluator = ContourEvaluator(model, targetContour, sensorDistance, sourceLocation).cached\n",
    "val priorEvaluator = PriorEvaluator(model).cached\n",
    "val posteriorEvaluator = ProductEvaluator(priorEvaluator, likelihoodEvaluator)\n",
    "\n"
   ]
  },
  {
   "cell_type": "code",
   "execution_count": 14,
   "id": "2f32a20c-b876-48dd-a3e4-f08b17b99906",
   "metadata": {},
   "outputs": [],
   "source": [
    "val shapeProposal =\n",
    "    GaussianRandomWalkProposal(0.1, \"shape\")\n",
    "      .forType[ShapeParameters]"
   ]
  },
  {
   "cell_type": "code",
   "execution_count": 16,
   "id": "b9b6cd68-661b-4c0b-9bdd-279030667ceb",
   "metadata": {},
   "outputs": [],
   "source": [
    "val logger = MHSampleLogger[ShapeParameters]()\n",
    "val chain = MetropolisHastings(shapeProposal, posteriorEvaluator)\n",
    "\n",
    "val initialParameters = ShapeParameters(DenseVector.zeros[Double](model.rank))\n",
    "\n",
    "val mhIterator = chain.iterator(MHSample(initialParameters, \"inital\"), logger)"
   ]
  },
  {
   "cell_type": "code",
   "execution_count": 17,
   "id": "5aafb4d3-4aa8-459a-a88f-6e97e97456d7",
   "metadata": {},
   "outputs": [],
   "source": [
    "val samples = mhIterator.drop(100).take(1000).toIndexedSeq\n"
   ]
  },
  {
   "cell_type": "code",
   "execution_count": 18,
   "id": "21478b25-3456-42ce-987e-09541fc56963",
   "metadata": {},
   "outputs": [],
   "source": [
    "val bestSample = samples.maxBy(posteriorEvaluator.logValue)"
   ]
  },
  {
   "cell_type": "code",
   "execution_count": 19,
   "id": "0223fe3a-c4f7-4490-8852-2ad12b2fa038",
   "metadata": {},
   "outputs": [],
   "source": [
    "val meanSample = samples.foldLeft(DenseVector.zeros[Double](model.rank))((acc, v) => acc + v.parameters.coefficients) * (1.0 / samples.length)"
   ]
  },
  {
   "cell_type": "code",
   "execution_count": 20,
   "id": "e5e6f9ba-3d97-480b-90bd-db8f0704d4a2",
   "metadata": {},
   "outputs": [
    {
     "name": "stdout",
     "output_type": "stream",
     "text": [
      "DenseVector(-1.6562846004904843, 0.41175646834711294, 0.4388297474368019, 1.8008831399468062, 1.0362812387968297, 4.161377949126189, 1.764383009590877, 1.4946881004700725, -2.472746133254456, -1.0457423267521466, -1.42315337002081, 1.7836325893101632, -0.9844475445881671, 0.7678502445862999, -1.935079769993786, 0.41738366362362717, 0.13582284780790674, -1.9904322699940191, -0.7601634393730138, 1.7853451898804744, -2.3556850867775503, -1.3963083617721972, 4.647678824948796, 1.130148009889011, 0.2553137197215076, 0.8787210486880975, -0.7801905031716371, -3.3069461346320037, -0.3851210516824306, -1.151134022323618, 2.0606377834759777, 0.22958190210300364, 0.8045539554930494, -3.875676903910827, 0.43288293878478235, -0.3619620237457509, 1.4430066365889864, -3.165028080550067, 0.845410504465231, 1.3062751281313227, 0.3475089676222646, -1.3915660181029859, 1.2936301380124176, 2.389005583322324, -0.5773363616573103, -0.7566073744935494, 0.40529854539404603, 2.4991776418776603, 2.3391164301503196, 0.9944984156839052, -1.1473336162748073, 0.24226314661405177, 0.9425276860687832, -0.1434913929092829, 0.460801455692363)\n"
     ]
    }
   ],
   "source": [
    "println(meanSample)"
   ]
  },
  {
   "cell_type": "code",
   "execution_count": 23,
   "id": "c8f73db8-7203-446b-b890-419a00d688fe",
   "metadata": {},
   "outputs": [],
   "source": [
    "import scalismo.renderer.Renderer\n",
    "import scalismo.color.RGB\n",
    "import scalismo.renderer.show\n",
    "import java.awt.image.BufferedImage\n",
    "\n",
    "def render(mesh: TriangleMesh[_3D]) : Unit = \n",
    "    val mass = mesh.pointSet.centerOfMass\n",
    "    val meshCentered = mesh\n",
    "      .transform(Translation3D(mass.toVector * -1.0))\n",
    "      .transform(Scaling3D(0.01))\n",
    "    val img = Renderer.renderMesh(meshCentered, RGB.Black, 500, 500)\n",
    "    img.show()\n"
   ]
  },
  {
   "cell_type": "code",
   "execution_count": 24,
   "id": "fbb6c404-b6be-4ef6-be13-ce92bbb2f978",
   "metadata": {},
   "outputs": [
    {
     "data": {
      "image/png": "[encoded data removed]"
     },
     "metadata": {},
     "output_type": "display_data"
    }
   ],
   "source": [
    "val priorMean = model.instance(DenseVector.zeros[Double](model.rank))\n",
    "val posteriorMean = model.instance(meanSample)\n",
    "render(posteriorMean)"
   ]
  },
  {
   "cell_type": "code",
   "execution_count": 25,
   "id": "8e9181f9-ec85-4287-91f1-fb41cc6225a3",
   "metadata": {},
   "outputs": [
    {
     "data": {
      "image/png": "[encoded data removed]"
     },
     "metadata": {},
     "output_type": "display_data"
    },
    {
     "data": {
      "image/png": "[encoded data removed]"
     },
     "metadata": {},
     "output_type": "display_data"
    },
    {
     "data": {
      "image/png": "[encoded data removed]"
     },
     "metadata": {},
     "output_type": "display_data"
    }
   ],
   "source": [
    "val reconstructedContour = ContourRenderer.projectMeshContours(posteriorMean, sensorDistance, sourceLocation)\n",
    "val priorMeanContour = ContourRenderer.projectMeshContours(priorMean, sensorDistance, sourceLocation)\n",
    "ContourRenderer.renderMeshContour(priorMeanContour, 1000, 1000).show()\n",
    "ContourRenderer.renderMeshContour(reconstructedContour, 1000, 1000).show()\n",
    "ContourRenderer.renderMeshContour(targetContour, 1000, 1000).show()"
   ]
  },
  {
   "cell_type": "markdown",
   "id": "e8881806-3eaf-4875-91de-113e9aea0c64",
   "metadata": {},
   "source": [
    "### The likelihood function, now as a distribution"
   ]
  },
  {
   "cell_type": "code",
   "execution_count": null,
   "id": "fee9b461-70b9-42b1-9784-1e36a7a2f9a3",
   "metadata": {},
   "outputs": [],
   "source": [
    "// import scalismo.mesh.LineMesh\n",
    "// import scalismo.geometry._2D\n",
    "\n",
    "// def loglikelihood(targetContour: LineMesh[_2D], modelCoefficients : DenseVector[Double]) : Double = \n",
    "//     val modelInstance = model.instance(modelCoefficients)\n",
    "//     val sampledContour = ContourRenderer.projectMeshContours(mesh, sensorDistance, sourceLocation)\n",
    "//     val sigma = 2.0\n",
    "//     val likelihoods = for targetPoint <- targetContour.pointSet.points yield\n",
    "//         val targetPointVec = DenseVector[Double](targetPoint.x, targetPoint.y)\n",
    "//         val dist = MultivariateGaussian(targetPointVec, DenseMatrix.eye[Double](2)*sigma)\n",
    "//         val closestModelPoint = sampledContour.pointSet.findClosestPoint(targetPoint).point\n",
    "//         val closestModelPointVec = DenseVector(closestModelPoint.x, closestModelPoint.y)\n",
    "//         dist.logPdf(closestModelPointVec)\n",
    "//     likelihoods.sum\n"
   ]
  },
  {
   "cell_type": "code",
   "execution_count": null,
   "id": "b16bfa7d-bfdd-4197-a96d-3b02e175dac5",
   "metadata": {},
   "outputs": [],
   "source": []
  },
  {
   "cell_type": "code",
   "execution_count": null,
   "id": "cd6519c7-6922-4ebf-b395-8f11923e59c8",
   "metadata": {},
   "outputs": [],
   "source": []
  }
 ],
 "metadata": {
  "kernelspec": {
   "display_name": "Scala",
   "language": "scala",
   "name": "scala"
  },
  "language_info": {
   "codemirror_mode": "text/x-scala",
   "file_extension": ".sc",
   "mimetype": "text/x-scala",
   "name": "scala",
   "nbconvert_exporter": "script",
   "version": "2.13.8"
  }
 },
 "nbformat": 4,
 "nbformat_minor": 5
}
