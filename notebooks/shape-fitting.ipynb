{
 "cells": [
  {
   "cell_type": "markdown",
   "id": "da849a4f-0493-4c4f-baa9-be4a8e69e87e",
   "metadata": {},
   "source": [
    "# Fitting shape models\n",
    "\n",
    "#### Marcel Lüthi, Departement of Mathematics and Computer Science, University of Basel \n",
    "\n",
    "\n",
    "In this notebook we are fitting our model to a given contour and thereby obtain a distribution over 3D shapes, which can be used to obtain statistically meansingful reconstructions of the 3D shape from the data as well as the associated uncertainty. \n",
    "\n",
    "As always, we are starting with fitting simulated data, for which we know the ground truth. This allows us to check if the computational procedure works, before we assess the quality of our model on real data. "
   ]
  },
  {
   "cell_type": "markdown",
   "id": "4325f6c3-c9d9-40dc-9ac0-1f6bcdb379c8",
   "metadata": {},
   "source": [
    "### Setup\n",
    "\n",
    "We begin as usual with importing all the necessary libraries. "
   ]
  },
  {
   "cell_type": "code",
   "execution_count": 1,
   "id": "118fc52e-ead0-4941-9559-953c05f35b95",
   "metadata": {},
   "outputs": [
    {
     "data": {
      "text/plain": [
       "\u001b[36mapi\u001b[39m: \u001b[32mJupyterApi\u001b[39m = almond.JupyterApiImpl@5f9da105"
      ]
     },
     "execution_count": 1,
     "metadata": {},
     "output_type": "execute_result"
    }
   ],
   "source": [
    "// Suppressing excessive output for the jupyter-notebook\n",
    "val api = implicitly[almond.api.JupyterApi]\n",
    "api.silent(true)"
   ]
  },
  {
   "cell_type": "code",
   "execution_count": 2,
   "id": "1a6c8486-c1af-408e-b818-7285a6a3e7e0",
   "metadata": {},
   "outputs": [],
   "source": [
    "\n",
    "import coursierapi.{Credentials, MavenRepository}\n",
    "interp.repositories() ++= Seq(\n",
    "  MavenRepository.of(\"https://oss.sonatype.org/content/repositories/snapshots\")\n",
    ")"
   ]
  },
  {
   "cell_type": "code",
   "execution_count": 43,
   "id": "92e0b6f0-c950-497c-b692-25044847d0eb",
   "metadata": {},
   "outputs": [],
   "source": [
    "// downloading the libraries\n",
    "import $ivy.`ch.unibas.cs.gravis::scalismo-plot:0.1-SNAPSHOT`\n",
    "import $ivy.`ch.unibas.cs.gravis::scalismo-renderer:0.2-SNAPSHOT`\n",
    "import $ivy.`org.scalanlp::breeze:2.1.0`\n",
    "import $ivy.`org.scalanlp::breeze-natives:2.1.0`\n",
    "\n",
    "\n",
    "// imports\n",
    "import scalismo.io.StatisticalModelIO\n",
    "import scalismo.io.LandmarkIO\n",
    "import scalismo.geometry._\n",
    "import scalismo.common.PointId\n",
    "import scalismo.common.interpolation.TriangleMeshInterpolator3D\n",
    "import scalismo.common.UnstructuredPointsDomain\n",
    "import scalismo.common.interpolation.NearestNeighborInterpolator3D\n",
    "import scalismo.common.UnstructuredPointsDomain1D\n",
    "import scalismo.common.UnstructuredPointsDomain3D\n",
    "import scalismo.statisticalmodel.PointDistributionModel\n",
    "import scalismo.statisticalmodel.MultivariateNormalDistribution\n",
    "\n",
    "import scalismo.mesh.TriangleMesh\n",
    "import scalismo.transformations._\n",
    "\n",
    "import scalismo.renderer.Renderer\n",
    "import scalismo.color.RGB\n",
    "import scalismo.renderer.show\n",
    "\n",
    "import scalismo.sampling._\n",
    "import scalismo.sampling.proposals._\n",
    "import scalismo.sampling.parameters._\n",
    "import scalismo.sampling.evaluators._\n",
    "import scalismo.sampling.loggers.MHSampleLogger\n",
    "import scalismo.sampling.algorithms.MetropolisHastings\n",
    "import scalismo.mesh.LineMesh\n",
    "import scalismo.geometry._2D\n",
    "import scalismo.renderer.{ContourRenderer, Renderer, show}\n",
    "\n",
    "import breeze.linalg.DenseVector\n",
    "import breeze.linalg.DenseMatrix\n",
    "import breeze.stats.distributions.{Gaussian, MultivariateGaussian}\n",
    "import breeze.stats.distributions.Rand.FixedSeed.randBasis\n",
    "\n",
    "import java.io.File"
   ]
  },
  {
   "cell_type": "code",
   "execution_count": 44,
   "id": "57231a01-2782-4d23-a4c1-fa9a9effe119",
   "metadata": {},
   "outputs": [],
   "source": [
    "given rng: scalismo.utils.Random = scalismo.utils.Random(42)"
   ]
  },
  {
   "cell_type": "markdown",
   "id": "427fda8f-610f-4f86-bbac-78e6b10ba0eb",
   "metadata": {},
   "source": [
    "### Generating simulated data"
   ]
  },
  {
   "cell_type": "markdown",
   "id": "26a18f19-b1d5-408a-8e24-fc7fb90494df",
   "metadata": {},
   "source": [
    "In the last notebook, we have written a function to generate data. We use the same function here, but do not choose a random sample from the prior but one that we control:"
   ]
  },
  {
   "cell_type": "code",
   "execution_count": 166,
   "id": "740c6295-59ff-4e12-99b4-e69ac0c07986",
   "metadata": {},
   "outputs": [],
   "source": [
    "def generate(vertebraModel : PointDistributionModel[_3D, TriangleMesh], shapeCoefficients : DenseVector[Double], sensorDistance : Int, sourceLocation : Point[_3D], noiseSigma : Double) : LineMesh[_2D] = \n",
    "    \n",
    "    // sample from the prior    \n",
    "    val sample = vertebraModel.instance(shapeCoefficients)\n",
    "\n",
    "    // project the sampled shape to get the contour\n",
    "    val sampledContour = ContourRenderer.projectMeshContours(sample, sensorDistance, sourceLocation)\n",
    "    \n",
    "    if noiseSigma > 1e-5 then     \n",
    "        // add Gaussian noise to each point  \n",
    "        val noiseTransform = Transformation2D( (point : Point[_2D]) => \n",
    "            val pointVec = DenseVector(point.x, point.y)\n",
    "            val noisyPoint = MultivariateGaussian(pointVec, DenseMatrix.eye[Double](2)* noiseSigma).draw()\n",
    "\n",
    "            Point2D(noisyPoint(0), noisyPoint(1))\n",
    "        )                 \n",
    "        sampledContour.transform(noiseTransform)\n",
    "    else sampledContour"
   ]
  },
  {
   "cell_type": "markdown",
   "id": "58fc9f67-faa7-41a9-b924-628045a4b450",
   "metadata": {},
   "source": [
    "We can use this procedure to generate a ground truth:"
   ]
  },
  {
   "cell_type": "code",
   "execution_count": 169,
   "id": "899a4806-ee4c-4cb5-9529-fc8ec11362d7",
   "metadata": {},
   "outputs": [],
   "source": [
    "val vertebraModel = StatisticalModelIO.readStatisticalTriangleMeshModel3D(File(\"./data/vertebra-model.h5\")).get\n",
    "\n",
    "\n",
    "val coeffs = DenseVector.zeros[Double](vertebraModel.rank)\n",
    "coeffs(0) = -3\n",
    "val sensorDistance = 100\n",
    "val sourceLocation = Point3D(0, 0, 50)\n",
    "val noiseSigma : Double = 5.0\n",
    "\n",
    "val targetContour = generate(vertebraModel, coeffs, sensorDistance, sourceLocation, noiseSigma)"
   ]
  },
  {
   "cell_type": "markdown",
   "id": "0bb54e2f-59a8-445b-abd5-9581c0b1143e",
   "metadata": {},
   "source": [
    "It looks as follows:"
   ]
  },
  {
   "cell_type": "code",
   "execution_count": 170,
   "id": "8a9db155-8184-401c-9c70-3894e451eaa7",
   "metadata": {},
   "outputs": [
    {
     "data": {
      "image/png": "[encoded data removed]"
     },
     "metadata": {},
     "output_type": "display_data"
    }
   ],
   "source": [
    "ContourRenderer.renderMeshContour(targetContour, 1000, 1000).show()"
   ]
  },
  {
   "cell_type": "markdown",
   "id": "ac2764ba-f855-47bd-b269-bd4a94b77196",
   "metadata": {},
   "source": [
    "### Setting up the markov chain\n",
    "\n",
    "We can now set up the Markov-Chain to sample from the posterior, exactly as we did it for the regression example:"
   ]
  },
  {
   "cell_type": "markdown",
   "id": "8451cdd9-c23a-4658-b6e4-fe312fc5e446",
   "metadata": {},
   "source": [
    "#### Evaluators"
   ]
  },
  {
   "cell_type": "markdown",
   "id": "1318820a-2c1c-446a-809a-0ce790856afa",
   "metadata": {},
   "source": [
    "We start with defining evaluators for the priors and the likelihood function. Note that we use the class `ShapeParameters`, instead of defining our own parameter vector. It is essentially defined as \n",
    "\n",
    "```scala \n",
    "case class ShapeParameters(coefficients : DenseVector[Double])\n",
    "``` \n",
    "but adds some convenience functions that make it easier to work with the Scalismo sampling code. "
   ]
  },
  {
   "cell_type": "code",
   "execution_count": 171,
   "id": "f7810653-93ea-4101-8f0f-355b4b3dce9f",
   "metadata": {},
   "outputs": [],
   "source": [
    "// Prior over the shape parameters.  \n",
    "case class PriorEvaluator(model: PointDistributionModel[_3D, TriangleMesh])\n",
    "      extends MHDistributionEvaluator[ShapeParameters] {\n",
    "          \n",
    "    val shapeParameterPrior = MultivariateGaussian(DenseVector.zeros[Double](model.rank), DenseMatrix.eye[Double](model.rank))\n",
    "          \n",
    "    override def logValue(sample: MHSample[ShapeParameters]): Double = {\n",
    "        shapeParameterPrior.logPdf(sample.parameters.coefficients) \n",
    "    }\n",
    "  }"
   ]
  },
  {
   "cell_type": "code",
   "execution_count": 172,
   "id": "3453d353-695d-4a6e-b774-d26ad055a820",
   "metadata": {},
   "outputs": [],
   "source": [
    "// Likelihood\n",
    "case class ContourEvaluator(\n",
    "        model: PointDistributionModel[_3D, TriangleMesh],\n",
    "        targetContour: LineMesh[_2D], \n",
    "        sensorDistance : Int, \n",
    "        sourceLocation : Point[_3D], \n",
    "        noiseSigma : Double\n",
    "    ) extends MHDistributionEvaluator[ShapeParameters]:\n",
    "\n",
    "    def pointToBreezeVector(p : Point[_2D]) : DenseVector[Double] = \n",
    "        DenseVector[Double](p.x, p.y)\n",
    "    \n",
    "    override def logValue(sample: MHSample[ShapeParameters]): Double = \n",
    "        val modelInstance = model.instance(sample.parameters.coefficients)\n",
    "        val sampledContour = ContourRenderer.projectMeshContours(modelInstance, sensorDistance, sourceLocation)                \n",
    "    \n",
    "\n",
    "        val likelihoods = for contourPoint <- sampledContour.pointSet.points yield            \n",
    "            val likelihoodDist = MultivariateGaussian(pointToBreezeVector(contourPoint), DenseMatrix.eye[Double](2) * noiseSigma)            \n",
    "            val closestTargetPoint = targetContour.pointSet.findClosestPoint(contourPoint).point            \n",
    "            likelihoodDist.logPdf(pointToBreezeVector(closestTargetPoint))\n",
    "        likelihoods.sum    "
   ]
  },
  {
   "cell_type": "markdown",
   "id": "f3f198f8-e4b1-45db-86ee-3d57d2dbb2f2",
   "metadata": {},
   "source": [
    "We can then define the posterior distribution, from which we eventually want to sample:"
   ]
  },
  {
   "cell_type": "code",
   "execution_count": 173,
   "id": "f02aa3f3-9487-44cf-bb44-b9e3ba2a812a",
   "metadata": {},
   "outputs": [],
   "source": [
    "val likelihoodEvaluator = ContourEvaluator(vertebraModel, targetContour, sensorDistance, sourceLocation, noiseSigma).cached\n",
    "val priorEvaluator = PriorEvaluator(vertebraModel).cached\n",
    "val posteriorEvaluator = ProductEvaluator(likelihoodEvaluator, priorEvaluator)"
   ]
  },
  {
   "cell_type": "markdown",
   "id": "eec1bd89-5784-4206-b55e-480a07c3e50f",
   "metadata": {},
   "source": [
    "#### Proposals\n",
    "\n",
    "Next we define the proposals for the Metropolis-Hastings algorithm. We use here a single proposal, which randomly perturbes the shape parameters:"
   ]
  },
  {
   "cell_type": "code",
   "execution_count": 174,
   "id": "2f32a20c-b876-48dd-a3e4-f08b17b99906",
   "metadata": {},
   "outputs": [],
   "source": [
    "val shapeProposal =\n",
    "    GaussianRandomWalkProposal(0.01, \"shape\")\n",
    "      .partial(0 until 1)\n",
    "      .forType[ShapeParameters]"
   ]
  },
  {
   "cell_type": "code",
   "execution_count": null,
   "id": "f683bcef-2e21-4996-9b22-201c6f68bffb",
   "metadata": {},
   "outputs": [],
   "source": []
  },
  {
   "cell_type": "markdown",
   "id": "dd3a6aaf-2fa7-41d1-ac7f-81990fd70247",
   "metadata": {},
   "source": [
    "#### Putting it together"
   ]
  },
  {
   "cell_type": "markdown",
   "id": "47df4a78-fea3-471a-bf0f-99772eca2352",
   "metadata": {},
   "source": [
    "We can now put everything together:"
   ]
  },
  {
   "cell_type": "code",
   "execution_count": 175,
   "id": "b9b6cd68-661b-4c0b-9bdd-279030667ceb",
   "metadata": {},
   "outputs": [],
   "source": [
    "val logger = MHSampleLogger[ShapeParameters]()\n",
    "val chain = MetropolisHastings(shapeProposal, posteriorEvaluator)\n",
    "\n",
    "val initialParameters = ShapeParameters(DenseVector.zeros[Double](vertebraModel.rank))\n",
    "val mhIterator = chain.iterator(MHSample(initialParameters, \"inital\"), logger)"
   ]
  },
  {
   "cell_type": "markdown",
   "id": "b23e7b17-1af5-48ea-92aa-672a786be00b",
   "metadata": {},
   "source": [
    "Let's draw some samples from the posterior:"
   ]
  },
  {
   "cell_type": "code",
   "execution_count": 176,
   "id": "5aafb4d3-4aa8-459a-a88f-6e97e97456d7",
   "metadata": {},
   "outputs": [],
   "source": [
    "val samples = mhIterator.drop(100).take(1000).toIndexedSeq"
   ]
  },
  {
   "cell_type": "markdown",
   "id": "b3bc75d2-a98e-4bed-a31c-8ed3346dffbd",
   "metadata": {},
   "source": [
    "The most likely reconstruction is given by the sample with the highest posterior value"
   ]
  },
  {
   "cell_type": "code",
   "execution_count": 177,
   "id": "21478b25-3456-42ce-987e-09541fc56963",
   "metadata": {},
   "outputs": [],
   "source": [
    "val bestSample = samples.maxBy(posteriorEvaluator.logValue)"
   ]
  },
  {
   "cell_type": "markdown",
   "id": "b1ac6149-d4a1-40cf-a979-7ce1d3223f8a",
   "metadata": {},
   "source": [
    "Printing the coefficients reveals, that they are not exactly the same as the ground truth coefficients:"
   ]
  },
  {
   "cell_type": "code",
   "execution_count": 178,
   "id": "e5e6f9ba-3d97-480b-90bd-db8f0704d4a2",
   "metadata": {},
   "outputs": [
    {
     "name": "stdout",
     "output_type": "stream",
     "text": [
      "MHSample(ShapeParameters(DenseVector(-2.741777400188839, 0.0, 0.0, 0.0, 0.0, 0.0, 0.0, 0.0, 0.0, 0.0, 0.0, 0.0, 0.0, 0.0, 0.0, 0.0, 0.0, 0.0, 0.0, 0.0, 0.0, 0.0, 0.0, 0.0, 0.0, 0.0, 0.0, 0.0, 0.0, 0.0, 0.0, 0.0, 0.0, 0.0, 0.0, 0.0, 0.0, 0.0, 0.0, 0.0, 0.0, 0.0, 0.0, 0.0, 0.0, 0.0, 0.0, 0.0, 0.0, 0.0, 0.0, 0.0, 0.0, 0.0, 0.0)),shape)\n"
     ]
    }
   ],
   "source": [
    "println(bestSample)"
   ]
  },
  {
   "cell_type": "markdown",
   "id": "6c9af10e-5284-432b-860f-c6fe726a60ed",
   "metadata": {},
   "source": [
    "This does not mean, however, that fitting did not work. Let's visualize the result:"
   ]
  },
  {
   "cell_type": "code",
   "execution_count": 179,
   "id": "a823361b-b683-4723-9954-986ef1fd8f3e",
   "metadata": {},
   "outputs": [
    {
     "data": {
      "image/png": "[encoded data removed]"
     },
     "metadata": {},
     "output_type": "display_data"
    }
   ],
   "source": [
    "val bestMesh = vertebraModel.instance(bestSample.parameters.coefficients)\n",
    "val bestConour = ContourRenderer.projectMeshContours(bestMesh, sensorDistance, sourceLocation)\n",
    "\n",
    "ContourRenderer.renderMeshContour(bestConour, 1000, 1000).show()"
   ]
  },
  {
   "cell_type": "markdown",
   "id": "8b3c6258-a193-45f4-b9ba-320363adc4d7",
   "metadata": {},
   "source": [
    "TODO: We need a way to visualize the differences:"
   ]
  },
  {
   "cell_type": "markdown",
   "id": "b5281000-4420-4d18-a69b-22bb867eb734",
   "metadata": {},
   "source": [
    "As we see, the two contours are really close together. Let's see how the reconstruction looks like:"
   ]
  },
  {
   "cell_type": "code",
   "execution_count": 180,
   "id": "c8f73db8-7203-446b-b890-419a00d688fe",
   "metadata": {},
   "outputs": [
    {
     "data": {
      "image/png": "[encoded data removed]"
     },
     "metadata": {},
     "output_type": "display_data"
    }
   ],
   "source": [
    "def render(mesh : TriangleMesh[_3D]) : Unit = \n",
    "    Renderer.renderMesh(mesh, RGB.White, Point3D(0, 0, 250), 256, 256).show()\n",
    "render(bestMesh)\n"
   ]
  },
  {
   "cell_type": "code",
   "execution_count": null,
   "id": "fbb6c404-b6be-4ef6-be13-ce92bbb2f978",
   "metadata": {},
   "outputs": [],
   "source": [
    "render(bestMesh)"
   ]
  },
  {
   "cell_type": "markdown",
   "id": "ab10cefd-d770-4f3f-9792-2d7b3a84ab58",
   "metadata": {},
   "source": [
    "#### Exercises\n",
    "\n",
    "* Visualize some other samples from the posterior distribution. Do they look different or very similar? How well do they represent the target?\n",
    "* Create pair-plots of the first 4 coefficients, as we did for the toy problem. What do you observe?\n",
    "* How does the noise you choose affect the solution accuracy and the uncertainty?\n",
    "* Try different parameters for the ground truth. Does the computational procedure also work for these parameters?\n",
    "    * You will need to add additional proposals for these parameters. Think carefully about their scale and how large you should do the steps in the random walk\n",
    "* Add additional parameters, such as pose or sensor distance to the procedure.\n",
    "* Try to fit the contour drawn in the image `spine-contour-handdrawn`, which you find in the folder `images` You can load the image and extract the contour with the code below. \n",
    "* Draw your own contour using an arbitrary drawing problen on an x-ray of the L1 vertebra you find on the internet. Make sure you draw the contour in Black. "
   ]
  },
  {
   "cell_type": "code",
   "execution_count": 100,
   "id": "09446c51-f13e-4a91-bb2a-0949f17ab7df",
   "metadata": {},
   "outputs": [
    {
     "ename": "",
     "evalue": "",
     "output_type": "error",
     "traceback": [
      "\u001b[31mjavax.imageio.IIOException: Can't read input file!\u001b[39m\n  javax.imageio.ImageIO.read(\u001b[32mImageIO.java\u001b[39m:\u001b[32m1308\u001b[39m)\n  ammonite.$sess.cmd99$Helper.<init>(\u001b[32mcmd99.sc\u001b[39m:\u001b[32m15\u001b[39m)\n  ammonite.$sess.cmd99$.<clinit>(\u001b[32mcmd99.sc\u001b[39m:\u001b[32m64975\u001b[39m)"
     ]
    }
   ],
   "source": [
    "import scalismo.renderer.PixelImage\n",
    "import scalismo.mesh.{LineMesh2D, LineList}\n",
    "import scalismo.common.UnstructuredPoints2D\n",
    "\n",
    "// extracts a contour from an rgb image\n",
    "def extractContour(rgbImage : PixelImage[RGB]) : LineMesh[_2D] = \n",
    "    val image = rgbImage.map(rgb => if rgb.r > 0.99 && rgb.b > 0.99 && rgb.g > 0.99 then 1 else 0)\n",
    "        \n",
    "    val points = for (\n",
    "        x <- 0 until image.domain.width; \n",
    "        y <- 0 until image.domain.height\n",
    "        if (image(x,y) == 1)) yield Point2D(x, y)\n",
    "    LineMesh2D(UnstructuredPoints2D(points), LineList.empty)\n",
    "\n",
    "val bufferedImage = javax.imageio.ImageIO.read(new java.io.File(\"./data/spine-contour-handdrawn.png\"))\n",
    "val image  = PixelImage.fromBufferedImage(bufferedImage)\n",
    "val targetContour = extractContour(image)"
   ]
  },
  {
   "cell_type": "code",
   "execution_count": null,
   "id": "c5fbf722-3abb-4042-9a14-b59f23042d26",
   "metadata": {},
   "outputs": [],
   "source": []
  }
 ],
 "metadata": {
  "kernelspec": {
   "display_name": "Scala",
   "language": "scala",
   "name": "scala"
  },
  "language_info": {
   "codemirror_mode": "text/x-scala",
   "file_extension": ".sc",
   "mimetype": "text/x-scala",
   "name": "scala",
   "nbconvert_exporter": "script",
   "version": "2.13.8"
  }
 },
 "nbformat": 4,
 "nbformat_minor": 5
}
