{
 "cells": [
  {
   "cell_type": "markdown",
   "id": "da849a4f-0493-4c4f-baa9-be4a8e69e87e",
   "metadata": {},
   "source": [
    "# Fitting shape models\n",
    "\n",
    "#### Marcel Lüthi, Departement of Mathematics and Computer Science, University of Basel \n",
    "\n",
    "\n",
    "In this notebook we are fitting our model to a given contour and thereby obtain a distribution over 3D shapes. This distribution can be used to obtain statistically meansingful reconstructions of the 3D shape from the data, as well as the associated uncertainty. \n",
    "\n",
    "As always, we are starting with fitting simulated data, for which we know the ground truth. This allows us to check if the computational procedure works, before we assess the quality of our model on real data. "
   ]
  },
  {
   "cell_type": "markdown",
   "id": "4325f6c3-c9d9-40dc-9ac0-1f6bcdb379c8",
   "metadata": {},
   "source": [
    "### Setup\n",
    "\n",
    "We begin as usual with setting up the kernel and importing all the necessary libraries. "
   ]
  },
  {
   "cell_type": "code",
   "execution_count": 5,
   "id": "118fc52e-ead0-4941-9559-953c05f35b95",
   "metadata": {},
   "outputs": [],
   "source": [
    "// Suppressing excessive output for the jupyter-notebook\n",
    "val api = implicitly[almond.api.JupyterApi]\n",
    "api.silent(true)"
   ]
  },
  {
   "cell_type": "code",
   "execution_count": 6,
   "id": "1a6c8486-c1af-408e-b818-7285a6a3e7e0",
   "metadata": {},
   "outputs": [],
   "source": [
    "// add repositories from which libraries are loaded. \n",
    "import coursierapi.{Credentials, MavenRepository}\n",
    "interp.repositories() ++= Seq(\n",
    "  MavenRepository.of(\"https://oss.sonatype.org/content/repositories/snapshots\")\n",
    ")"
   ]
  },
  {
   "cell_type": "code",
   "execution_count": 7,
   "id": "92e0b6f0-c950-497c-b692-25044847d0eb",
   "metadata": {},
   "outputs": [],
   "source": [
    "// downloading the libraries\n",
    "import $ivy.`ch.unibas.cs.gravis::scalismo-plot:0.1-SNAPSHOT`\n",
    "import $ivy.`ch.unibas.cs.gravis::scalismo-renderer:0.1-SNAPSHOT`\n",
    "import $ivy.`org.scalanlp::breeze:2.1.0`\n",
    "import $ivy.`org.scalanlp::breeze-natives:2.1.0`"
   ]
  },
  {
   "cell_type": "code",
   "execution_count": 8,
   "id": "893c90c8-588a-47b4-a426-0113ddc5356f",
   "metadata": {},
   "outputs": [],
   "source": [
    "// imports\n",
    "\n",
    "// scalismo imports\n",
    "import scalismo.io.StatisticalModelIO\n",
    "import scalismo.io.LandmarkIO\n",
    "import scalismo.geometry.*\n",
    "import scalismo.common.*\n",
    "import scalismo.statisticalmodel.*\n",
    "import scalismo.mesh.{TriangleMesh, LineMesh}\n",
    "import scalismo.transformations.*\n",
    "\n",
    "// sampling framework\n",
    "import scalismo.sampling._\n",
    "import scalismo.sampling.proposals._\n",
    "import scalismo.sampling.parameters._\n",
    "import scalismo.sampling.evaluators._\n",
    "import scalismo.sampling.loggers.MHSampleLogger\n",
    "import scalismo.sampling.algorithms.MetropolisHastings\n",
    "\n",
    "\n",
    "// rendering\n",
    "import scalismo.renderer.{ContourRenderer, Renderer, show}\n",
    "import scalismo.color.RGB\n",
    "\n",
    "// plotting\n",
    "import scalismo.plot.data.DataFrame\n",
    "import scalismo.plot.plottarget.PlotTarget.plotTargetJupyter\n",
    "\n",
    "// linear algebra and statistics\n",
    "import breeze.linalg.DenseVector\n",
    "import breeze.linalg.DenseMatrix\n",
    "import breeze.stats.distributions.{Gaussian, MultivariateGaussian}\n",
    "import breeze.stats.distributions.Rand.FixedSeed.randBasis\n",
    "\n",
    "// java helpers\n",
    "import java.io.File"
   ]
  },
  {
   "cell_type": "markdown",
   "id": "2873dfbd-503a-4725-8825-c04b1b4b486f",
   "metadata": {},
   "source": [
    "We also define the random number generator."
   ]
  },
  {
   "cell_type": "code",
   "execution_count": 9,
   "id": "57231a01-2782-4d23-a4c1-fa9a9effe119",
   "metadata": {},
   "outputs": [],
   "source": [
    "given rng: scalismo.utils.Random = scalismo.utils.Random(42)"
   ]
  },
  {
   "cell_type": "markdown",
   "id": "427fda8f-610f-4f86-bbac-78e6b10ba0eb",
   "metadata": {},
   "source": [
    "### Generating simulated data"
   ]
  },
  {
   "cell_type": "markdown",
   "id": "26a18f19-b1d5-408a-8e24-fc7fb90494df",
   "metadata": {},
   "source": [
    "In the last notebook, we have written a function to generate data. We use the same function here, but do not choose a random sample from the prior but one that we control:"
   ]
  },
  {
   "cell_type": "code",
   "execution_count": 11,
   "id": "740c6295-59ff-4e12-99b4-e69ac0c07986",
   "metadata": {},
   "outputs": [],
   "source": [
    "def generate(vertebraModel : PointDistributionModel[_3D, TriangleMesh], shapeCoefficients : DenseVector[Double], sensorDistance : Int, sourceLocation : Point[_3D], noiseSigma : Double) : LineMesh[_2D] = \n",
    "    \n",
    "    // sample from the prior    \n",
    "    val sample = vertebraModel.instance(shapeCoefficients)\n",
    "\n",
    "    // project the sampled shape to get the contour\n",
    "    val sampledContour = ContourRenderer.projectMeshContours(sample, sensorDistance, sourceLocation)\n",
    "    \n",
    "    if noiseSigma > 1e-5 then     \n",
    "        // add Gaussian noise to each point  \n",
    "        val noiseTransform = Transformation2D( (point : Point[_2D]) => \n",
    "            val pointVec = DenseVector(point.x, point.y)\n",
    "            val noisyPoint = MultivariateGaussian(pointVec, DenseMatrix.eye[Double](2)* noiseSigma).draw()\n",
    "\n",
    "            Point2D(noisyPoint(0), noisyPoint(1))\n",
    "        )                 \n",
    "        sampledContour.transform(noiseTransform)\n",
    "    else sampledContour"
   ]
  },
  {
   "cell_type": "markdown",
   "id": "58fc9f67-faa7-41a9-b924-628045a4b450",
   "metadata": {},
   "source": [
    "We can use this procedure to generate \"fake\" data to which we fit our model:"
   ]
  },
  {
   "cell_type": "code",
   "execution_count": 12,
   "id": "899a4806-ee4c-4cb5-9529-fc8ec11362d7",
   "metadata": {},
   "outputs": [],
   "source": [
    "val vertebraModel = StatisticalModelIO.readStatisticalTriangleMeshModel3D(File(\"./data/vertebra-model.h5\")).get\n",
    "\n",
    "\n",
    "val coeffs = DenseVector.zeros[Double](vertebraModel.rank)\n",
    "coeffs(0) = -3\n",
    "coeffs(1) = 1.0\n",
    "coeffs(2) = 1.5\n",
    "val sensorDistance = 100\n",
    "val sourceLocation = Point3D(0, 0, 50)\n",
    "val noiseSigma : Double = 1.0\n",
    "\n",
    "val targetContour = generate(vertebraModel, coeffs, sensorDistance, sourceLocation, noiseSigma)"
   ]
  },
  {
   "cell_type": "markdown",
   "id": "0bb54e2f-59a8-445b-abd5-9581c0b1143e",
   "metadata": {},
   "source": [
    "Our target contour looks as follows:"
   ]
  },
  {
   "cell_type": "code",
   "execution_count": 9,
   "id": "8a9db155-8184-401c-9c70-3894e451eaa7",
   "metadata": {},
   "outputs": [
    {
     "data": {
      "image/png": "[encoded data removed]"
     },
     "metadata": {},
     "output_type": "display_data"
    }
   ],
   "source": [
    "ContourRenderer.renderMeshContour(targetContour, 1000, 1000).show()"
   ]
  },
  {
   "cell_type": "markdown",
   "id": "ac2764ba-f855-47bd-b269-bd4a94b77196",
   "metadata": {},
   "source": [
    "### Setting up the markov chain\n",
    "\n",
    "We can now set up the Markov-Chain to sample from the posterior, exactly as we did it for the regression example:"
   ]
  },
  {
   "cell_type": "markdown",
   "id": "8451cdd9-c23a-4658-b6e4-fe312fc5e446",
   "metadata": {},
   "source": [
    "#### Evaluators"
   ]
  },
  {
   "cell_type": "markdown",
   "id": "1318820a-2c1c-446a-809a-0ce790856afa",
   "metadata": {},
   "source": [
    "We start with defining evaluators for the priors and the likelihood function. Note that we use the class `ShapeParameters`, instead of defining our own parameter vector. It is essentially defined as \n",
    "\n",
    "```scala \n",
    "case class ShapeParameters(coefficients : DenseVector[Double])\n",
    "``` \n",
    "but adds some convenience functions that make it easier to work with the Scalismo sampling code. "
   ]
  },
  {
   "cell_type": "markdown",
   "id": "1a56d62a-54f0-4834-9af7-668a77d3d546",
   "metadata": {},
   "source": [
    "The definition of the prior is straight-forward:"
   ]
  },
  {
   "cell_type": "code",
   "execution_count": 13,
   "id": "f7810653-93ea-4101-8f0f-355b4b3dce9f",
   "metadata": {},
   "outputs": [],
   "source": [
    "// Prior over the shape parameters.  \n",
    "case class PriorEvaluator(model: PointDistributionModel[_3D, TriangleMesh])\n",
    "      extends MHDistributionEvaluator[ShapeParameters] {\n",
    "          \n",
    "    val shapeParameterPrior = MultivariateGaussian(DenseVector.zeros[Double](model.rank), DenseMatrix.eye[Double](model.rank))\n",
    "          \n",
    "    override def logValue(sample: MHSample[ShapeParameters]): Double = {\n",
    "        shapeParameterPrior.logPdf(sample.parameters.coefficients) \n",
    "    }\n",
    "  }"
   ]
  },
  {
   "cell_type": "markdown",
   "id": "39a088d5-bcf3-4d07-8c4f-d4289da5fa85",
   "metadata": {},
   "source": [
    "The likelihood function is a bit more involved. What is happening is that we generate a contour using the current parameters, and compare that contour to the target contour. The assumption is, that every point of the generated contour explains the closest point on the target contour up to Gaussian noise. "
   ]
  },
  {
   "cell_type": "code",
   "execution_count": 16,
   "id": "3453d353-695d-4a6e-b774-d26ad055a820",
   "metadata": {},
   "outputs": [],
   "source": [
    "// Likelihood\n",
    "case class ContourEvaluator(\n",
    "        model: PointDistributionModel[_3D, TriangleMesh],\n",
    "        targetContour: LineMesh[_2D], \n",
    "        sensorDistance : Int, \n",
    "        sourceLocation : Point[_3D], \n",
    "        noiseSigma : Double\n",
    "    ) extends MHDistributionEvaluator[ShapeParameters]:\n",
    "\n",
    "    def pointToBreezeVector(p : Point[_2D]) : DenseVector[Double] = \n",
    "        DenseVector[Double](p.x, p.y)\n",
    "    \n",
    "    override def logValue(sample: MHSample[ShapeParameters]): Double = \n",
    "\n",
    "        // generate the contour corresponding to the model coefficients given in the parameters\n",
    "        val modelInstance : TriangleMesh[_3D] = model.instance(sample.parameters.coefficients) \n",
    "        val sampledContour : LineMesh[_2D] = ContourRenderer.projectMeshContours(modelInstance, sensorDistance, sourceLocation)                \n",
    "    \n",
    "        // compare the generated contour to the target contour that we want to explain and compute the likelihood\n",
    "        // the comparison is done point wise, and the assumption is that the observations are independent\n",
    "        val likelihoods = for contourPoint <- sampledContour.pointSet.points yield            \n",
    "            val likelihoodDist = MultivariateGaussian(pointToBreezeVector(contourPoint), DenseMatrix.eye[Double](2) * noiseSigma)            \n",
    "            val closestTargetPoint = targetContour.pointSet.findClosestPoint(contourPoint).point            \n",
    "            likelihoodDist.logPdf(pointToBreezeVector(closestTargetPoint))\n",
    "        likelihoods.sum    "
   ]
  },
  {
   "cell_type": "markdown",
   "id": "f3f198f8-e4b1-45db-86ee-3d57d2dbb2f2",
   "metadata": {},
   "source": [
    "Using the prior and the likelihood evaluator, we can define the posterior. "
   ]
  },
  {
   "cell_type": "code",
   "execution_count": 17,
   "id": "f02aa3f3-9487-44cf-bb44-b9e3ba2a812a",
   "metadata": {},
   "outputs": [],
   "source": [
    "val likelihoodEvaluator = ContourEvaluator(vertebraModel, targetContour, sensorDistance, sourceLocation, noiseSigma).cached\n",
    "val priorEvaluator = PriorEvaluator(vertebraModel).cached\n",
    "val posteriorEvaluator = ProductEvaluator(likelihoodEvaluator, priorEvaluator)"
   ]
  },
  {
   "cell_type": "markdown",
   "id": "eec1bd89-5784-4206-b55e-480a07c3e50f",
   "metadata": {},
   "source": [
    "#### Proposals\n",
    "\n",
    "Next we define the proposals for the Metropolis-Hastings algorithm. We use here a single proposal, which randomly perturbes the shape parameters:"
   ]
  },
  {
   "cell_type": "code",
   "execution_count": 20,
   "id": "2f32a20c-b876-48dd-a3e4-f08b17b99906",
   "metadata": {},
   "outputs": [],
   "source": [
    "val shapeProposal =\n",
    "    GaussianRandomWalkProposal(0.05, \"shape\").forType[ShapeParameters]"
   ]
  },
  {
   "cell_type": "markdown",
   "id": "dd3a6aaf-2fa7-41d1-ac7f-81990fd70247",
   "metadata": {},
   "source": [
    "#### Putting it together"
   ]
  },
  {
   "cell_type": "markdown",
   "id": "47df4a78-fea3-471a-bf0f-99772eca2352",
   "metadata": {},
   "source": [
    "We can now put everything together:"
   ]
  },
  {
   "cell_type": "code",
   "execution_count": 22,
   "id": "b9b6cd68-661b-4c0b-9bdd-279030667ceb",
   "metadata": {},
   "outputs": [],
   "source": [
    "val logger = MHSampleLogger[ShapeParameters]()\n",
    "val chain = MetropolisHastings(shapeProposal, posteriorEvaluator)\n",
    "\n",
    "val initialParameters = ShapeParameters(DenseVector.zeros[Double](vertebraModel.rank))\n",
    "val mhIterator = chain.iterator(MHSample(initialParameters, \"inital\"), logger)"
   ]
  },
  {
   "cell_type": "markdown",
   "id": "b23e7b17-1af5-48ea-92aa-672a786be00b",
   "metadata": {},
   "source": [
    "Let's draw some samples from the posterior:"
   ]
  },
  {
   "cell_type": "code",
   "execution_count": 25,
   "id": "5aafb4d3-4aa8-459a-a88f-6e97e97456d7",
   "metadata": {},
   "outputs": [],
   "source": [
    "val samples = mhIterator.drop(100).take(1000).toIndexedSeq"
   ]
  },
  {
   "cell_type": "markdown",
   "id": "b3bc75d2-a98e-4bed-a31c-8ed3346dffbd",
   "metadata": {},
   "source": [
    "The most likely reconstruction is given by the sample with the highest posterior value"
   ]
  },
  {
   "cell_type": "code",
   "execution_count": 26,
   "id": "21478b25-3456-42ce-987e-09541fc56963",
   "metadata": {},
   "outputs": [],
   "source": [
    "val bestSample = samples.maxBy(posteriorEvaluator.logValue)"
   ]
  },
  {
   "cell_type": "markdown",
   "id": "b1ac6149-d4a1-40cf-a979-7ce1d3223f8a",
   "metadata": {},
   "source": [
    "Printing the coefficients reveals, that they are close to our ground truth. "
   ]
  },
  {
   "cell_type": "code",
   "execution_count": 27,
   "id": "e5e6f9ba-3d97-480b-90bd-db8f0704d4a2",
   "metadata": {},
   "outputs": [
    {
     "name": "stdout",
     "output_type": "stream",
     "text": [
      "MHSample(ShapeParameters(DenseVector(-2.824928121342954, 1.0395133823164144, 0.9702859035285134, 0.2474685910531159, 0.0011142281365626727, 0.469345695598467, -0.08361953734776321, -0.25942805633278526, 0.4287474561833364, 0.4172904679179833, 0.6114515857459055, 0.2180862014578882, -0.47490628059755857, -0.47768045696142314, 0.0020913565010944254, -0.2651164921792562, -0.17154290433459318, -0.5868464345816984, -0.039037024970727835, -0.2872004489440352, 0.06843408843531056, 0.24427189129242396, 0.5764990493338008, 0.4201962076275793, -0.585166330735634, 0.2863764753529139, 0.5057905567716734, 0.11312186597718937, -1.06665708769877, 0.19135765803581622, 0.5547464903318139, -0.44625553780096755, 0.6299701196620551, 0.08953541565025835, 0.49330080872983456, -0.18511404740137075, 0.3614544624513736, -0.3710942480589279, 0.2175230311425569, -0.7389433282543435, -0.5205907144948667, -0.05657212174602248, 0.9431530606941344, -0.3761637263782481, 0.5434242800426432, 0.7373567909704412, -0.7772038376849698, -0.378898413424162, -0.42284379805720795, -0.1624522106470553, -0.11764987930375863, 0.9136980725527559, -0.4621728189140018, -0.34545482150449774, 0.5762084890463637)),shape)\n"
     ]
    }
   ],
   "source": [
    "println(bestSample)"
   ]
  },
  {
   "cell_type": "markdown",
   "id": "6c9af10e-5284-432b-860f-c6fe726a60ed",
   "metadata": {},
   "source": [
    "Let's visually compare the two:"
   ]
  },
  {
   "cell_type": "code",
   "execution_count": 31,
   "id": "a823361b-b683-4723-9954-986ef1fd8f3e",
   "metadata": {},
   "outputs": [
    {
     "data": {
      "image/png": "[encoded data removed]"
     },
     "metadata": {},
     "output_type": "display_data"
    }
   ],
   "source": [
    "val bestMesh = vertebraModel.instance(bestSample.parameters.coefficients)\n",
    "val bestConour = ContourRenderer.projectMeshContours(bestMesh, sensorDistance, sourceLocation)\n",
    "ContourRenderer.renderMeshContours(Seq((bestConour, RGB(1.0, 0, 0)), (targetContour, RGB(0, 0, 1.0))), 1000, 1000).show()"
   ]
  },
  {
   "cell_type": "markdown",
   "id": "b5281000-4420-4d18-a69b-22bb867eb734",
   "metadata": {},
   "source": [
    "As we see, the two contours are really close together. Let's see how the reconstruction looks like:"
   ]
  },
  {
   "cell_type": "code",
   "execution_count": 32,
   "id": "c8f73db8-7203-446b-b890-419a00d688fe",
   "metadata": {},
   "outputs": [
    {
     "data": {
      "image/png": "[encoded data removed]"
     },
     "metadata": {},
     "output_type": "display_data"
    }
   ],
   "source": [
    "def render(mesh : TriangleMesh[_3D]) : Unit = \n",
    "    Renderer.renderMesh(mesh, RGB.White, Point3D(0, 0, 250), 256, 256).show()\n",
    "render(bestMesh)\n"
   ]
  },
  {
   "cell_type": "markdown",
   "id": "2d7ce65f-c5df-4c9b-b4c9-69dee852ba7d",
   "metadata": {},
   "source": [
    "An important point is, however, that we do not only have a single, best reconstruction. Since the contour represents only a part of shape, we expect that there is some uncertainty regarding the true shape. The simplest way to get a feeling for how much uncertainty is in the 3D reconstruction, is to look at different 3D reconstructions visually in a 3D viewer. \n",
    "Another possibility is to obtain measurements, such as the surface area or the volume from the 3D reconstructions and plot the differences. This is illustrated below:"
   ]
  },
  {
   "cell_type": "code",
   "execution_count": 38,
   "id": "ecd13219-7d76-45b1-a664-ab71f40fd5df",
   "metadata": {},
   "outputs": [
    {
     "data": {
      "application/vnd.vega.v5+json": {
       "$schema": "https://vega.github.io/schema/vega-lite/v5.json",
       "data": {
        "values": [
         {
          "areas": "17817.630674289736"
         },
         {
          "areas": "17817.630674289736"
         },
         {
          "areas": "17829.187422880077"
         },
         {
          "areas": "17860.140346061202"
         },
         {
          "areas": "17860.140346061202"
         },
         {
          "areas": "17860.140346061202"
         },
         {
          "areas": "17990.93513709261"
         },
         {
          "areas": "17990.93513709261"
         },
         {
          "areas": "18029.85099736868"
         },
         {
          "areas": "18127.199475333808"
         },
         {
          "areas": "18207.70056221163"
         },
         {
          "areas": "18207.70056221163"
         },
         {
          "areas": "18230.803716538594"
         },
         {
          "areas": "18230.803716538594"
         },
         {
          "areas": "18366.303783446463"
         },
         {
          "areas": "18366.303783446463"
         },
         {
          "areas": "18366.303783446463"
         },
         {
          "areas": "18366.303783446463"
         },
         {
          "areas": "18538.081966489575"
         },
         {
          "areas": "18538.081966489575"
         },
         {
          "areas": "18722.644976033138"
         },
         {
          "areas": "18722.644976033138"
         },
         {
          "areas": "18821.753251229467"
         },
         {
          "areas": "18821.753251229467"
         },
         {
          "areas": "18923.473601489146"
         },
         {
          "areas": "18923.473601489146"
         },
         {
          "areas": "18923.473601489146"
         },
         {
          "areas": "18923.473601489146"
         },
         {
          "areas": "18923.473601489146"
         },
         {
          "areas": "18923.473601489146"
         },
         {
          "areas": "18923.473601489146"
         },
         {
          "areas": "18923.473601489146"
         },
         {
          "areas": "18829.600632567635"
         },
         {
          "areas": "18760.328507970295"
         },
         {
          "areas": "18760.328507970295"
         },
         {
          "areas": "18760.328507970295"
         },
         {
          "areas": "18794.84423142329"
         },
         {
          "areas": "18794.84423142329"
         },
         {
          "areas": "18794.84423142329"
         },
         {
          "areas": "18794.84423142329"
         },
         {
          "areas": "18794.84423142329"
         },
         {
          "areas": "18794.84423142329"
         },
         {
          "areas": "18842.3686441358"
         },
         {
          "areas": "18842.3686441358"
         },
         {
          "areas": "18842.3686441358"
         },
         {
          "areas": "18842.3686441358"
         },
         {
          "areas": "18842.3686441358"
         },
         {
          "areas": "18684.36584506856"
         },
         {
          "areas": "18684.36584506856"
         },
         {
          "areas": "18684.36584506856"
         },
         {
          "areas": "18684.36584506856"
         },
         {
          "areas": "18684.36584506856"
         },
         {
          "areas": "18684.36584506856"
         },
         {
          "areas": "18684.36584506856"
         },
         {
          "areas": "18684.36584506856"
         },
         {
          "areas": "18684.36584506856"
         },
         {
          "areas": "18719.646790537692"
         },
         {
          "areas": "18719.646790537692"
         },
         {
          "areas": "18719.646790537692"
         },
         {
          "areas": "18719.646790537692"
         },
         {
          "areas": "18719.646790537692"
         },
         {
          "areas": "18719.646790537692"
         },
         {
          "areas": "18719.646790537692"
         },
         {
          "areas": "18719.646790537692"
         },
         {
          "areas": "18719.646790537692"
         },
         {
          "areas": "18761.457396538135"
         },
         {
          "areas": "18775.87224388227"
         },
         {
          "areas": "18726.87691260104"
         },
         {
          "areas": "18726.87691260104"
         },
         {
          "areas": "18726.87691260104"
         },
         {
          "areas": "18726.87691260104"
         },
         {
          "areas": "18726.87691260104"
         },
         {
          "areas": "18726.87691260104"
         },
         {
          "areas": "18726.87691260104"
         },
         {
          "areas": "18726.87691260104"
         },
         {
          "areas": "18726.87691260104"
         },
         {
          "areas": "18726.87691260104"
         },
         {
          "areas": "18726.87691260104"
         },
         {
          "areas": "18722.10985316152"
         },
         {
          "areas": "18722.10985316152"
         },
         {
          "areas": "18722.10985316152"
         },
         {
          "areas": "18722.10985316152"
         },
         {
          "areas": "18693.044153544"
         },
         {
          "areas": "18675.704957993275"
         },
         {
          "areas": "18675.704957993275"
         },
         {
          "areas": "18675.704957993275"
         },
         {
          "areas": "18715.885722710187"
         },
         {
          "areas": "18840.87504409184"
         },
         {
          "areas": "18840.87504409184"
         },
         {
          "areas": "18840.87504409184"
         },
         {
          "areas": "18840.87504409184"
         },
         {
          "areas": "18840.87504409184"
         },
         {
          "areas": "18882.266561373912"
         },
         {
          "areas": "18882.266561373912"
         },
         {
          "areas": "18882.266561373912"
         },
         {
          "areas": "18882.266561373912"
         },
         {
          "areas": "18882.266561373912"
         },
         {
          "areas": "18882.266561373912"
         },
         {
          "areas": "19017.414007471274"
         },
         {
          "areas": "19017.414007471274"
         },
         {
          "areas": "19017.414007471274"
         },
         {
          "areas": "19017.414007471274"
         },
         {
          "areas": "19017.414007471274"
         },
         {
          "areas": "19017.414007471274"
         },
         {
          "areas": "19017.414007471274"
         },
         {
          "areas": "19017.414007471274"
         },
         {
          "areas": "19017.414007471274"
         },
         {
          "areas": "19017.414007471274"
         },
         {
          "areas": "19017.414007471274"
         },
         {
          "areas": "19017.414007471274"
         },
         {
          "areas": "19001.81161371004"
         },
         {
          "areas": "19001.81161371004"
         },
         {
          "areas": "19001.81161371004"
         },
         {
          "areas": "19001.81161371004"
         },
         {
          "areas": "19001.81161371004"
         },
         {
          "areas": "19001.81161371004"
         },
         {
          "areas": "19001.81161371004"
         },
         {
          "areas": "19001.81161371004"
         },
         {
          "areas": "19001.81161371004"
         },
         {
          "areas": "19001.81161371004"
         },
         {
          "areas": "19001.81161371004"
         },
         {
          "areas": "19001.81161371004"
         },
         {
          "areas": "19001.81161371004"
         },
         {
          "areas": "19001.81161371004"
         },
         {
          "areas": "19001.81161371004"
         },
         {
          "areas": "19001.81161371004"
         },
         {
          "areas": "19001.81161371004"
         },
         {
          "areas": "19012.9441781394"
         },
         {
          "areas": "19012.9441781394"
         },
         {
          "areas": "19012.9441781394"
         },
         {
          "areas": "19012.9441781394"
         },
         {
          "areas": "19012.9441781394"
         },
         {
          "areas": "19012.9441781394"
         },
         {
          "areas": "19012.9441781394"
         },
         {
          "areas": "19012.9441781394"
         },
         {
          "areas": "19012.9441781394"
         },
         {
          "areas": "19012.9441781394"
         },
         {
          "areas": "19059.431436815783"
         },
         {
          "areas": "19059.431436815783"
         },
         {
          "areas": "19059.431436815783"
         },
         {
          "areas": "19059.431436815783"
         },
         {
          "areas": "19059.431436815783"
         },
         {
          "areas": "19059.431436815783"
         },
         {
          "areas": "19059.431436815783"
         },
         {
          "areas": "19059.431436815783"
         },
         {
          "areas": "19059.431436815783"
         },
         {
          "areas": "19059.431436815783"
         },
         {
          "areas": "19059.431436815783"
         },
         {
          "areas": "19059.431436815783"
         },
         {
          "areas": "19059.431436815783"
         },
         {
          "areas": "19059.431436815783"
         },
         {
          "areas": "19059.431436815783"
         },
         {
          "areas": "19059.431436815783"
         },
         {
          "areas": "19059.431436815783"
         },
         {
          "areas": "19059.431436815783"
         },
         {
          "areas": "19059.431436815783"
         },
         {
          "areas": "19059.431436815783"
         },
         {
          "areas": "19059.431436815783"
         },
         {
          "areas": "19059.431436815783"
         },
         {
          "areas": "19059.431436815783"
         },
         {
          "areas": "19059.431436815783"
         },
         {
          "areas": "19059.431436815783"
         },
         {
          "areas": "19059.431436815783"
         },
         {
          "areas": "19059.431436815783"
         },
         {
          "areas": "19059.431436815783"
         },
         {
          "areas": "19059.431436815783"
         },
         {
          "areas": "19059.431436815783"
         },
         {
          "areas": "19059.431436815783"
         },
         {
          "areas": "19059.431436815783"
         },
         {
          "areas": "19059.431436815783"
         },
         {
          "areas": "18971.66778486627"
         },
         {
          "areas": "19085.146891461718"
         },
         {
          "areas": "19085.146891461718"
         },
         {
          "areas": "19085.146891461718"
         },
         {
          "areas": "19058.108984883063"
         },
         {
          "areas": "19058.108984883063"
         },
         {
          "areas": "19058.108984883063"
         },
         {
          "areas": "19075.685762198544"
         },
         {
          "areas": "19075.685762198544"
         },
         {
          "areas": "19075.685762198544"
         },
         {
          "areas": "19075.685762198544"
         },
         {
          "areas": "19113.84894916455"
         },
         {
          "areas": "19113.84894916455"
         },
         {
          "areas": "19113.84894916455"
         },
         {
          "areas": "19113.84894916455"
         },
         {
          "areas": "19113.84894916455"
         },
         {
          "areas": "19127.703673607277"
         },
         {
          "areas": "19127.703673607277"
         },
         {
          "areas": "19127.703673607277"
         },
         {
          "areas": "19127.703673607277"
         },
         {
          "areas": "19127.703673607277"
         },
         {
          "areas": "19127.703673607277"
         },
         {
          "areas": "19127.703673607277"
         },
         {
          "areas": "19127.703673607277"
         },
         {
          "areas": "19127.703673607277"
         },
         {
          "areas": "19127.703673607277"
         },
         {
          "areas": "19127.703673607277"
         },
         {
          "areas": "19127.703673607277"
         },
         {
          "areas": "19127.703673607277"
         },
         {
          "areas": "19127.703673607277"
         },
         {
          "areas": "19127.703673607277"
         },
         {
          "areas": "19127.703673607277"
         },
         {
          "areas": "19127.703673607277"
         },
         {
          "areas": "19127.703673607277"
         },
         {
          "areas": "19127.703673607277"
         },
         {
          "areas": "19127.703673607277"
         },
         {
          "areas": "19127.703673607277"
         },
         {
          "areas": "19127.703673607277"
         },
         {
          "areas": "19127.703673607277"
         },
         {
          "areas": "19127.703673607277"
         },
         {
          "areas": "19127.703673607277"
         },
         {
          "areas": "19127.703673607277"
         },
         {
          "areas": "19127.703673607277"
         },
         {
          "areas": "19127.703673607277"
         },
         {
          "areas": "19127.703673607277"
         },
         {
          "areas": "19127.703673607277"
         },
         {
          "areas": "19127.703673607277"
         },
         {
          "areas": "19127.703673607277"
         },
         {
          "areas": "19127.703673607277"
         },
         {
          "areas": "19127.703673607277"
         },
         {
          "areas": "19127.703673607277"
         },
         {
          "areas": "19127.703673607277"
         },
         {
          "areas": "19127.703673607277"
         },
         {
          "areas": "19127.703673607277"
         },
         {
          "areas": "19127.703673607277"
         },
         {
          "areas": "19127.703673607277"
         },
         {
          "areas": "19127.703673607277"
         },
         {
          "areas": "19127.703673607277"
         },
         {
          "areas": "19127.703673607277"
         },
         {
          "areas": "19127.703673607277"
         },
         {
          "areas": "19127.703673607277"
         },
         {
          "areas": "19127.703673607277"
         },
         {
          "areas": "19127.703673607277"
         },
         {
          "areas": "19127.703673607277"
         },
         {
          "areas": "19127.703673607277"
         },
         {
          "areas": "19127.703673607277"
         },
         {
          "areas": "19127.703673607277"
         },
         {
          "areas": "19127.703673607277"
         },
         {
          "areas": "19127.703673607277"
         },
         {
          "areas": "19127.703673607277"
         },
         {
          "areas": "19117.132055711096"
         },
         {
          "areas": "19117.132055711096"
         },
         {
          "areas": "19117.132055711096"
         },
         {
          "areas": "19117.132055711096"
         },
         {
          "areas": "19117.132055711096"
         },
         {
          "areas": "19117.132055711096"
         },
         {
          "areas": "19117.132055711096"
         },
         {
          "areas": "19117.132055711096"
         },
         {
          "areas": "19117.132055711096"
         },
         {
          "areas": "19117.132055711096"
         },
         {
          "areas": "19117.132055711096"
         },
         {
          "areas": "19117.132055711096"
         },
         {
          "areas": "19117.132055711096"
         },
         {
          "areas": "19117.132055711096"
         },
         {
          "areas": "19117.132055711096"
         },
         {
          "areas": "19117.132055711096"
         },
         {
          "areas": "19117.132055711096"
         },
         {
          "areas": "19117.132055711096"
         },
         {
          "areas": "19117.132055711096"
         },
         {
          "areas": "19117.132055711096"
         },
         {
          "areas": "19117.132055711096"
         },
         {
          "areas": "19117.132055711096"
         },
         {
          "areas": "19117.132055711096"
         },
         {
          "areas": "19117.132055711096"
         },
         {
          "areas": "19117.132055711096"
         },
         {
          "areas": "19117.132055711096"
         },
         {
          "areas": "19117.132055711096"
         },
         {
          "areas": "19117.132055711096"
         },
         {
          "areas": "19117.132055711096"
         },
         {
          "areas": "19117.132055711096"
         },
         {
          "areas": "19117.132055711096"
         },
         {
          "areas": "19117.132055711096"
         },
         {
          "areas": "19117.132055711096"
         },
         {
          "areas": "19117.132055711096"
         },
         {
          "areas": "19117.132055711096"
         },
         {
          "areas": "19117.132055711096"
         },
         {
          "areas": "19117.132055711096"
         },
         {
          "areas": "19117.132055711096"
         },
         {
          "areas": "19117.132055711096"
         },
         {
          "areas": "19117.132055711096"
         },
         {
          "areas": "19117.132055711096"
         },
         {
          "areas": "19117.132055711096"
         },
         {
          "areas": "19117.132055711096"
         },
         {
          "areas": "19117.132055711096"
         },
         {
          "areas": "19117.132055711096"
         },
         {
          "areas": "19117.132055711096"
         },
         {
          "areas": "19117.132055711096"
         },
         {
          "areas": "19117.132055711096"
         },
         {
          "areas": "19117.132055711096"
         },
         {
          "areas": "19117.132055711096"
         },
         {
          "areas": "19117.132055711096"
         },
         {
          "areas": "19117.132055711096"
         },
         {
          "areas": "19117.132055711096"
         },
         {
          "areas": "19117.132055711096"
         },
         {
          "areas": "19117.132055711096"
         },
         {
          "areas": "19117.132055711096"
         },
         {
          "areas": "19117.132055711096"
         },
         {
          "areas": "19117.132055711096"
         },
         {
          "areas": "19117.132055711096"
         },
         {
          "areas": "19117.132055711096"
         },
         {
          "areas": "19117.132055711096"
         },
         {
          "areas": "19117.132055711096"
         },
         {
          "areas": "19117.132055711096"
         },
         {
          "areas": "19117.132055711096"
         },
         {
          "areas": "19117.132055711096"
         },
         {
          "areas": "19117.132055711096"
         },
         {
          "areas": "19117.132055711096"
         },
         {
          "areas": "19117.132055711096"
         },
         {
          "areas": "19117.132055711096"
         },
         {
          "areas": "19117.132055711096"
         },
         {
          "areas": "19117.132055711096"
         },
         {
          "areas": "19117.132055711096"
         },
         {
          "areas": "19117.132055711096"
         },
         {
          "areas": "19117.132055711096"
         },
         {
          "areas": "19117.132055711096"
         },
         {
          "areas": "19117.132055711096"
         },
         {
          "areas": "19117.132055711096"
         },
         {
          "areas": "19117.132055711096"
         },
         {
          "areas": "19117.132055711096"
         },
         {
          "areas": "19117.132055711096"
         },
         {
          "areas": "19117.132055711096"
         },
         {
          "areas": "19117.132055711096"
         },
         {
          "areas": "19117.132055711096"
         },
         {
          "areas": "19117.132055711096"
         },
         {
          "areas": "19117.132055711096"
         },
         {
          "areas": "19117.132055711096"
         },
         {
          "areas": "19117.132055711096"
         },
         {
          "areas": "19117.132055711096"
         },
         {
          "areas": "19117.132055711096"
         },
         {
          "areas": "19117.132055711096"
         },
         {
          "areas": "19117.132055711096"
         },
         {
          "areas": "19117.132055711096"
         },
         {
          "areas": "19117.132055711096"
         },
         {
          "areas": "19117.132055711096"
         },
         {
          "areas": "19117.132055711096"
         },
         {
          "areas": "19117.132055711096"
         },
         {
          "areas": "19117.132055711096"
         },
         {
          "areas": "19117.132055711096"
         },
         {
          "areas": "19117.132055711096"
         },
         {
          "areas": "19117.132055711096"
         },
         {
          "areas": "19117.132055711096"
         },
         {
          "areas": "19117.132055711096"
         },
         {
          "areas": "19117.132055711096"
         },
         {
          "areas": "19117.132055711096"
         },
         {
          "areas": "19117.132055711096"
         },
         {
          "areas": "19117.132055711096"
         },
         {
          "areas": "19117.132055711096"
         },
         {
          "areas": "19117.132055711096"
         },
         {
          "areas": "19117.132055711096"
         },
         {
          "areas": "19117.132055711096"
         },
         {
          "areas": "19117.132055711096"
         },
         {
          "areas": "19117.132055711096"
         },
         {
          "areas": "19117.132055711096"
         },
         {
          "areas": "19117.132055711096"
         },
         {
          "areas": "19117.132055711096"
         },
         {
          "areas": "19117.132055711096"
         },
         {
          "areas": "19117.132055711096"
         },
         {
          "areas": "19117.132055711096"
         },
         {
          "areas": "19126.83708048733"
         },
         {
          "areas": "19126.83708048733"
         },
         {
          "areas": "19126.83708048733"
         },
         {
          "areas": "19126.83708048733"
         },
         {
          "areas": "19126.83708048733"
         },
         {
          "areas": "19126.83708048733"
         },
         {
          "areas": "19126.83708048733"
         },
         {
          "areas": "19126.83708048733"
         },
         {
          "areas": "19126.83708048733"
         },
         {
          "areas": "19126.83708048733"
         },
         {
          "areas": "19126.83708048733"
         },
         {
          "areas": "19126.83708048733"
         },
         {
          "areas": "19126.83708048733"
         },
         {
          "areas": "19126.83708048733"
         },
         {
          "areas": "19126.83708048733"
         },
         {
          "areas": "19126.83708048733"
         },
         {
          "areas": "19126.83708048733"
         },
         {
          "areas": "19126.83708048733"
         },
         {
          "areas": "19126.83708048733"
         },
         {
          "areas": "19130.938308245164"
         },
         {
          "areas": "19130.938308245164"
         },
         {
          "areas": "19130.938308245164"
         },
         {
          "areas": "19130.938308245164"
         },
         {
          "areas": "19130.938308245164"
         },
         {
          "areas": "19130.938308245164"
         },
         {
          "areas": "19130.938308245164"
         },
         {
          "areas": "19130.938308245164"
         },
         {
          "areas": "19130.938308245164"
         },
         {
          "areas": "19126.80539392828"
         },
         {
          "areas": "19126.80539392828"
         },
         {
          "areas": "19126.80539392828"
         },
         {
          "areas": "19126.80539392828"
         },
         {
          "areas": "19126.80539392828"
         },
         {
          "areas": "19126.80539392828"
         },
         {
          "areas": "19126.80539392828"
         },
         {
          "areas": "19126.80539392828"
         },
         {
          "areas": "19126.80539392828"
         },
         {
          "areas": "19126.80539392828"
         },
         {
          "areas": "19126.80539392828"
         },
         {
          "areas": "19126.80539392828"
         },
         {
          "areas": "19126.80539392828"
         },
         {
          "areas": "19126.80539392828"
         },
         {
          "areas": "19126.80539392828"
         },
         {
          "areas": "19126.80539392828"
         },
         {
          "areas": "19126.80539392828"
         },
         {
          "areas": "19126.80539392828"
         },
         {
          "areas": "19201.021297169475"
         },
         {
          "areas": "19201.021297169475"
         },
         {
          "areas": "19201.021297169475"
         },
         {
          "areas": "19201.021297169475"
         },
         {
          "areas": "19201.021297169475"
         },
         {
          "areas": "19201.021297169475"
         },
         {
          "areas": "19201.021297169475"
         },
         {
          "areas": "19201.021297169475"
         },
         {
          "areas": "19201.021297169475"
         },
         {
          "areas": "19201.021297169475"
         },
         {
          "areas": "19201.021297169475"
         },
         {
          "areas": "19201.021297169475"
         },
         {
          "areas": "19201.021297169475"
         },
         {
          "areas": "19201.021297169475"
         },
         {
          "areas": "19201.021297169475"
         },
         {
          "areas": "19201.021297169475"
         },
         {
          "areas": "19201.021297169475"
         },
         {
          "areas": "19201.021297169475"
         },
         {
          "areas": "19201.021297169475"
         },
         {
          "areas": "19201.021297169475"
         },
         {
          "areas": "19201.021297169475"
         },
         {
          "areas": "19201.021297169475"
         },
         {
          "areas": "19201.021297169475"
         },
         {
          "areas": "19201.021297169475"
         },
         {
          "areas": "19201.021297169475"
         },
         {
          "areas": "19201.021297169475"
         },
         {
          "areas": "19201.021297169475"
         },
         {
          "areas": "19201.021297169475"
         },
         {
          "areas": "19172.81126923725"
         },
         {
          "areas": "19172.81126923725"
         },
         {
          "areas": "19172.81126923725"
         },
         {
          "areas": "19172.81126923725"
         },
         {
          "areas": "19172.81126923725"
         },
         {
          "areas": "19172.81126923725"
         },
         {
          "areas": "19172.81126923725"
         },
         {
          "areas": "19172.81126923725"
         },
         {
          "areas": "19172.81126923725"
         },
         {
          "areas": "19172.81126923725"
         },
         {
          "areas": "19172.81126923725"
         },
         {
          "areas": "19172.81126923725"
         },
         {
          "areas": "19172.81126923725"
         },
         {
          "areas": "19172.81126923725"
         },
         {
          "areas": "19172.81126923725"
         },
         {
          "areas": "19172.81126923725"
         },
         {
          "areas": "19172.81126923725"
         },
         {
          "areas": "19131.475574045246"
         },
         {
          "areas": "19131.475574045246"
         },
         {
          "areas": "19131.475574045246"
         },
         {
          "areas": "19131.475574045246"
         },
         {
          "areas": "19131.475574045246"
         },
         {
          "areas": "19131.475574045246"
         },
         {
          "areas": "19131.475574045246"
         },
         {
          "areas": "19131.475574045246"
         },
         {
          "areas": "19131.475574045246"
         },
         {
          "areas": "19131.475574045246"
         },
         {
          "areas": "19131.475574045246"
         },
         {
          "areas": "19131.475574045246"
         },
         {
          "areas": "19131.475574045246"
         },
         {
          "areas": "19131.475574045246"
         },
         {
          "areas": "19131.475574045246"
         },
         {
          "areas": "19131.475574045246"
         },
         {
          "areas": "19131.475574045246"
         },
         {
          "areas": "19131.475574045246"
         },
         {
          "areas": "19131.475574045246"
         },
         {
          "areas": "19131.475574045246"
         },
         {
          "areas": "19131.475574045246"
         },
         {
          "areas": "19131.475574045246"
         },
         {
          "areas": "19058.90407179402"
         },
         {
          "areas": "19058.90407179402"
         },
         {
          "areas": "19058.90407179402"
         },
         {
          "areas": "19058.90407179402"
         },
         {
          "areas": "19058.90407179402"
         },
         {
          "areas": "19058.90407179402"
         },
         {
          "areas": "19058.90407179402"
         },
         {
          "areas": "19058.90407179402"
         },
         {
          "areas": "19058.90407179402"
         },
         {
          "areas": "19128.730768035693"
         },
         {
          "areas": "19128.730768035693"
         },
         {
          "areas": "19128.730768035693"
         },
         {
          "areas": "19128.730768035693"
         },
         {
          "areas": "19128.730768035693"
         },
         {
          "areas": "19128.730768035693"
         },
         {
          "areas": "19128.730768035693"
         },
         {
          "areas": "19128.730768035693"
         },
         {
          "areas": "19128.730768035693"
         },
         {
          "areas": "19128.730768035693"
         },
         {
          "areas": "19128.730768035693"
         },
         {
          "areas": "19128.730768035693"
         },
         {
          "areas": "19128.730768035693"
         },
         {
          "areas": "19128.730768035693"
         },
         {
          "areas": "19128.730768035693"
         },
         {
          "areas": "19128.730768035693"
         },
         {
          "areas": "19154.076259362653"
         },
         {
          "areas": "19154.076259362653"
         },
         {
          "areas": "19154.076259362653"
         },
         {
          "areas": "19154.076259362653"
         },
         {
          "areas": "19154.076259362653"
         },
         {
          "areas": "19154.076259362653"
         },
         {
          "areas": "19154.076259362653"
         },
         {
          "areas": "19154.076259362653"
         },
         {
          "areas": "19154.076259362653"
         },
         {
          "areas": "19154.076259362653"
         },
         {
          "areas": "19145.80953640549"
         },
         {
          "areas": "19145.80953640549"
         },
         {
          "areas": "19145.80953640549"
         },
         {
          "areas": "19145.80953640549"
         },
         {
          "areas": "19145.80953640549"
         },
         {
          "areas": "19145.80953640549"
         },
         {
          "areas": "19145.80953640549"
         },
         {
          "areas": "19145.80953640549"
         },
         {
          "areas": "19145.80953640549"
         },
         {
          "areas": "19145.80953640549"
         },
         {
          "areas": "19145.80953640549"
         },
         {
          "areas": "19145.80953640549"
         },
         {
          "areas": "19145.80953640549"
         },
         {
          "areas": "19145.80953640549"
         },
         {
          "areas": "19145.80953640549"
         },
         {
          "areas": "19145.80953640549"
         },
         {
          "areas": "19145.80953640549"
         },
         {
          "areas": "19145.80953640549"
         },
         {
          "areas": "19145.80953640549"
         },
         {
          "areas": "19145.80953640549"
         },
         {
          "areas": "19145.80953640549"
         },
         {
          "areas": "19145.80953640549"
         },
         {
          "areas": "19145.80953640549"
         },
         {
          "areas": "19145.80953640549"
         },
         {
          "areas": "19145.80953640549"
         },
         {
          "areas": "19145.80953640549"
         },
         {
          "areas": "19145.80953640549"
         },
         {
          "areas": "19145.80953640549"
         },
         {
          "areas": "19145.80953640549"
         },
         {
          "areas": "19145.80953640549"
         },
         {
          "areas": "19145.80953640549"
         },
         {
          "areas": "19145.80953640549"
         },
         {
          "areas": "19145.80953640549"
         },
         {
          "areas": "19145.80953640549"
         },
         {
          "areas": "19145.80953640549"
         },
         {
          "areas": "19145.80953640549"
         },
         {
          "areas": "19145.80953640549"
         },
         {
          "areas": "19145.80953640549"
         },
         {
          "areas": "19145.80953640549"
         },
         {
          "areas": "19145.80953640549"
         },
         {
          "areas": "19075.19614045794"
         },
         {
          "areas": "19075.19614045794"
         },
         {
          "areas": "19075.19614045794"
         },
         {
          "areas": "19075.19614045794"
         },
         {
          "areas": "19075.19614045794"
         },
         {
          "areas": "19075.19614045794"
         },
         {
          "areas": "19075.19614045794"
         },
         {
          "areas": "19075.19614045794"
         },
         {
          "areas": "19075.19614045794"
         },
         {
          "areas": "19075.19614045794"
         },
         {
          "areas": "19075.19614045794"
         },
         {
          "areas": "19075.19614045794"
         },
         {
          "areas": "19075.19614045794"
         },
         {
          "areas": "19075.19614045794"
         },
         {
          "areas": "19075.19614045794"
         },
         {
          "areas": "19075.19614045794"
         },
         {
          "areas": "19075.19614045794"
         },
         {
          "areas": "19075.19614045794"
         },
         {
          "areas": "19075.19614045794"
         },
         {
          "areas": "19075.19614045794"
         },
         {
          "areas": "19075.19614045794"
         },
         {
          "areas": "19075.19614045794"
         },
         {
          "areas": "19075.19614045794"
         },
         {
          "areas": "19075.19614045794"
         },
         {
          "areas": "19075.19614045794"
         },
         {
          "areas": "19075.19614045794"
         },
         {
          "areas": "19075.19614045794"
         },
         {
          "areas": "19075.19614045794"
         },
         {
          "areas": "19075.19614045794"
         },
         {
          "areas": "19075.19614045794"
         },
         {
          "areas": "19075.19614045794"
         },
         {
          "areas": "19075.19614045794"
         },
         {
          "areas": "19075.19614045794"
         },
         {
          "areas": "19075.19614045794"
         },
         {
          "areas": "19080.55612961678"
         },
         {
          "areas": "19080.55612961678"
         },
         {
          "areas": "19080.55612961678"
         },
         {
          "areas": "19080.55612961678"
         },
         {
          "areas": "19151.094609159445"
         },
         {
          "areas": "19151.094609159445"
         },
         {
          "areas": "19151.094609159445"
         },
         {
          "areas": "19151.094609159445"
         },
         {
          "areas": "19151.094609159445"
         },
         {
          "areas": "19151.094609159445"
         },
         {
          "areas": "19151.094609159445"
         },
         {
          "areas": "19151.094609159445"
         },
         {
          "areas": "19151.094609159445"
         },
         {
          "areas": "19151.094609159445"
         },
         {
          "areas": "19151.094609159445"
         },
         {
          "areas": "19151.094609159445"
         },
         {
          "areas": "19151.094609159445"
         },
         {
          "areas": "19151.094609159445"
         },
         {
          "areas": "19151.094609159445"
         },
         {
          "areas": "19151.094609159445"
         },
         {
          "areas": "19151.094609159445"
         },
         {
          "areas": "19151.094609159445"
         },
         {
          "areas": "19151.094609159445"
         },
         {
          "areas": "19151.094609159445"
         },
         {
          "areas": "19151.094609159445"
         },
         {
          "areas": "19151.094609159445"
         },
         {
          "areas": "19151.094609159445"
         },
         {
          "areas": "19151.094609159445"
         },
         {
          "areas": "19151.094609159445"
         },
         {
          "areas": "19151.094609159445"
         },
         {
          "areas": "19151.094609159445"
         },
         {
          "areas": "19151.094609159445"
         },
         {
          "areas": "19151.094609159445"
         },
         {
          "areas": "19151.094609159445"
         },
         {
          "areas": "19151.094609159445"
         },
         {
          "areas": "19151.094609159445"
         },
         {
          "areas": "19151.094609159445"
         },
         {
          "areas": "19151.094609159445"
         },
         {
          "areas": "19151.094609159445"
         },
         {
          "areas": "19151.094609159445"
         },
         {
          "areas": "19151.094609159445"
         },
         {
          "areas": "19151.094609159445"
         },
         {
          "areas": "19151.094609159445"
         },
         {
          "areas": "19151.094609159445"
         },
         {
          "areas": "19151.094609159445"
         },
         {
          "areas": "19151.094609159445"
         },
         {
          "areas": "19151.094609159445"
         },
         {
          "areas": "19151.094609159445"
         },
         {
          "areas": "19151.094609159445"
         },
         {
          "areas": "19151.094609159445"
         },
         {
          "areas": "19151.094609159445"
         },
         {
          "areas": "19151.094609159445"
         },
         {
          "areas": "19151.094609159445"
         },
         {
          "areas": "19151.094609159445"
         },
         {
          "areas": "19151.094609159445"
         },
         {
          "areas": "19151.094609159445"
         },
         {
          "areas": "19151.094609159445"
         },
         {
          "areas": "19151.094609159445"
         },
         {
          "areas": "19151.094609159445"
         },
         {
          "areas": "19151.094609159445"
         },
         {
          "areas": "19151.094609159445"
         },
         {
          "areas": "19151.094609159445"
         },
         {
          "areas": "19151.094609159445"
         },
         {
          "areas": "19151.094609159445"
         },
         {
          "areas": "19151.094609159445"
         },
         {
          "areas": "19151.094609159445"
         },
         {
          "areas": "19151.094609159445"
         },
         {
          "areas": "19151.094609159445"
         },
         {
          "areas": "19151.094609159445"
         },
         {
          "areas": "19151.094609159445"
         },
         {
          "areas": "19151.094609159445"
         },
         {
          "areas": "19151.094609159445"
         },
         {
          "areas": "19151.094609159445"
         },
         {
          "areas": "19151.094609159445"
         },
         {
          "areas": "19151.094609159445"
         },
         {
          "areas": "19151.094609159445"
         },
         {
          "areas": "19151.094609159445"
         },
         {
          "areas": "19151.094609159445"
         },
         {
          "areas": "19151.094609159445"
         },
         {
          "areas": "19151.094609159445"
         },
         {
          "areas": "19151.094609159445"
         },
         {
          "areas": "19151.094609159445"
         },
         {
          "areas": "19151.094609159445"
         },
         {
          "areas": "19151.094609159445"
         },
         {
          "areas": "19151.094609159445"
         },
         {
          "areas": "19151.094609159445"
         },
         {
          "areas": "19151.094609159445"
         },
         {
          "areas": "19151.094609159445"
         },
         {
          "areas": "19151.094609159445"
         },
         {
          "areas": "19151.094609159445"
         },
         {
          "areas": "19151.094609159445"
         },
         {
          "areas": "19151.094609159445"
         },
         {
          "areas": "19151.094609159445"
         },
         {
          "areas": "19151.094609159445"
         },
         {
          "areas": "19151.094609159445"
         },
         {
          "areas": "19151.094609159445"
         },
         {
          "areas": "19151.094609159445"
         },
         {
          "areas": "19151.094609159445"
         },
         {
          "areas": "19151.094609159445"
         },
         {
          "areas": "19178.501872158853"
         },
         {
          "areas": "19178.501872158853"
         },
         {
          "areas": "19178.501872158853"
         },
         {
          "areas": "19178.501872158853"
         },
         {
          "areas": "19075.00776148307"
         },
         {
          "areas": "19075.00776148307"
         },
         {
          "areas": "19075.00776148307"
         },
         {
          "areas": "19075.00776148307"
         },
         {
          "areas": "19035.896410898913"
         },
         {
          "areas": "19035.896410898913"
         },
         {
          "areas": "19035.896410898913"
         },
         {
          "areas": "19035.896410898913"
         },
         {
          "areas": "19035.896410898913"
         },
         {
          "areas": "19035.896410898913"
         },
         {
          "areas": "19035.896410898913"
         },
         {
          "areas": "19035.896410898913"
         },
         {
          "areas": "19035.896410898913"
         },
         {
          "areas": "19035.896410898913"
         },
         {
          "areas": "19035.896410898913"
         },
         {
          "areas": "19035.896410898913"
         },
         {
          "areas": "19035.896410898913"
         },
         {
          "areas": "19035.896410898913"
         },
         {
          "areas": "19035.896410898913"
         },
         {
          "areas": "19035.896410898913"
         },
         {
          "areas": "19035.896410898913"
         },
         {
          "areas": "19035.896410898913"
         },
         {
          "areas": "19035.896410898913"
         },
         {
          "areas": "19035.896410898913"
         },
         {
          "areas": "19035.896410898913"
         },
         {
          "areas": "19035.896410898913"
         },
         {
          "areas": "19035.896410898913"
         },
         {
          "areas": "19035.896410898913"
         },
         {
          "areas": "19035.896410898913"
         },
         {
          "areas": "19035.896410898913"
         },
         {
          "areas": "19035.896410898913"
         },
         {
          "areas": "19035.896410898913"
         },
         {
          "areas": "19035.896410898913"
         },
         {
          "areas": "19088.548758418438"
         },
         {
          "areas": "19088.548758418438"
         },
         {
          "areas": "19088.548758418438"
         },
         {
          "areas": "19088.548758418438"
         },
         {
          "areas": "19088.548758418438"
         },
         {
          "areas": "19088.548758418438"
         },
         {
          "areas": "19088.548758418438"
         },
         {
          "areas": "19088.548758418438"
         },
         {
          "areas": "19088.548758418438"
         },
         {
          "areas": "19088.548758418438"
         },
         {
          "areas": "19088.548758418438"
         },
         {
          "areas": "19088.548758418438"
         },
         {
          "areas": "19088.548758418438"
         },
         {
          "areas": "19088.548758418438"
         },
         {
          "areas": "19088.548758418438"
         },
         {
          "areas": "19088.548758418438"
         },
         {
          "areas": "19088.548758418438"
         },
         {
          "areas": "19088.548758418438"
         },
         {
          "areas": "19088.548758418438"
         },
         {
          "areas": "19088.548758418438"
         },
         {
          "areas": "19088.548758418438"
         },
         {
          "areas": "19088.548758418438"
         },
         {
          "areas": "19088.548758418438"
         },
         {
          "areas": "19088.548758418438"
         },
         {
          "areas": "19088.548758418438"
         },
         {
          "areas": "19088.548758418438"
         },
         {
          "areas": "19088.548758418438"
         },
         {
          "areas": "19088.548758418438"
         },
         {
          "areas": "19088.548758418438"
         },
         {
          "areas": "19088.548758418438"
         },
         {
          "areas": "19088.548758418438"
         },
         {
          "areas": "19088.548758418438"
         },
         {
          "areas": "19088.548758418438"
         },
         {
          "areas": "19088.548758418438"
         },
         {
          "areas": "19088.548758418438"
         },
         {
          "areas": "19088.548758418438"
         },
         {
          "areas": "19088.548758418438"
         },
         {
          "areas": "19088.548758418438"
         },
         {
          "areas": "19088.548758418438"
         },
         {
          "areas": "19088.548758418438"
         },
         {
          "areas": "19088.548758418438"
         },
         {
          "areas": "19088.548758418438"
         },
         {
          "areas": "19088.548758418438"
         },
         {
          "areas": "19088.548758418438"
         },
         {
          "areas": "19088.548758418438"
         },
         {
          "areas": "19088.548758418438"
         },
         {
          "areas": "19088.548758418438"
         },
         {
          "areas": "19088.548758418438"
         },
         {
          "areas": "19088.548758418438"
         },
         {
          "areas": "19088.548758418438"
         },
         {
          "areas": "19088.548758418438"
         },
         {
          "areas": "19088.548758418438"
         },
         {
          "areas": "19088.548758418438"
         },
         {
          "areas": "19088.548758418438"
         },
         {
          "areas": "19088.548758418438"
         },
         {
          "areas": "19088.548758418438"
         },
         {
          "areas": "19088.548758418438"
         },
         {
          "areas": "19088.548758418438"
         },
         {
          "areas": "19088.548758418438"
         },
         {
          "areas": "19088.548758418438"
         },
         {
          "areas": "19088.548758418438"
         },
         {
          "areas": "19088.548758418438"
         },
         {
          "areas": "19088.548758418438"
         },
         {
          "areas": "19088.548758418438"
         },
         {
          "areas": "19088.548758418438"
         },
         {
          "areas": "19088.548758418438"
         },
         {
          "areas": "19088.548758418438"
         },
         {
          "areas": "19088.548758418438"
         },
         {
          "areas": "19088.548758418438"
         },
         {
          "areas": "19088.548758418438"
         },
         {
          "areas": "19088.548758418438"
         },
         {
          "areas": "19088.548758418438"
         },
         {
          "areas": "19088.548758418438"
         },
         {
          "areas": "19088.548758418438"
         },
         {
          "areas": "19088.548758418438"
         },
         {
          "areas": "19088.548758418438"
         },
         {
          "areas": "19088.548758418438"
         },
         {
          "areas": "19088.548758418438"
         },
         {
          "areas": "19088.548758418438"
         },
         {
          "areas": "19088.548758418438"
         },
         {
          "areas": "19088.548758418438"
         },
         {
          "areas": "19088.548758418438"
         },
         {
          "areas": "19088.548758418438"
         },
         {
          "areas": "19088.548758418438"
         },
         {
          "areas": "19088.548758418438"
         },
         {
          "areas": "19088.548758418438"
         },
         {
          "areas": "19088.548758418438"
         },
         {
          "areas": "19088.548758418438"
         },
         {
          "areas": "19088.548758418438"
         },
         {
          "areas": "19088.548758418438"
         },
         {
          "areas": "19088.548758418438"
         },
         {
          "areas": "19088.548758418438"
         },
         {
          "areas": "19088.548758418438"
         },
         {
          "areas": "19088.548758418438"
         },
         {
          "areas": "19088.548758418438"
         },
         {
          "areas": "19088.548758418438"
         },
         {
          "areas": "19088.548758418438"
         },
         {
          "areas": "19088.548758418438"
         },
         {
          "areas": "19088.548758418438"
         },
         {
          "areas": "19088.548758418438"
         },
         {
          "areas": "19088.548758418438"
         },
         {
          "areas": "19088.548758418438"
         },
         {
          "areas": "19088.548758418438"
         },
         {
          "areas": "19088.548758418438"
         },
         {
          "areas": "19088.548758418438"
         },
         {
          "areas": "19088.548758418438"
         },
         {
          "areas": "19088.548758418438"
         },
         {
          "areas": "19088.548758418438"
         },
         {
          "areas": "19088.548758418438"
         },
         {
          "areas": "19088.548758418438"
         },
         {
          "areas": "19088.548758418438"
         },
         {
          "areas": "19088.548758418438"
         },
         {
          "areas": "19088.548758418438"
         },
         {
          "areas": "19088.548758418438"
         },
         {
          "areas": "19088.548758418438"
         },
         {
          "areas": "19088.548758418438"
         },
         {
          "areas": "19049.42248131033"
         },
         {
          "areas": "19049.42248131033"
         },
         {
          "areas": "19049.42248131033"
         },
         {
          "areas": "19049.42248131033"
         },
         {
          "areas": "19049.42248131033"
         },
         {
          "areas": "19049.42248131033"
         },
         {
          "areas": "19049.42248131033"
         },
         {
          "areas": "19049.42248131033"
         },
         {
          "areas": "19049.42248131033"
         },
         {
          "areas": "19049.42248131033"
         },
         {
          "areas": "19049.42248131033"
         },
         {
          "areas": "19049.42248131033"
         },
         {
          "areas": "19049.42248131033"
         },
         {
          "areas": "19049.42248131033"
         },
         {
          "areas": "19049.42248131033"
         },
         {
          "areas": "19049.42248131033"
         },
         {
          "areas": "19049.42248131033"
         },
         {
          "areas": "19049.42248131033"
         },
         {
          "areas": "19049.42248131033"
         },
         {
          "areas": "19049.42248131033"
         },
         {
          "areas": "19049.42248131033"
         },
         {
          "areas": "19049.42248131033"
         },
         {
          "areas": "19049.42248131033"
         },
         {
          "areas": "19049.42248131033"
         },
         {
          "areas": "19049.42248131033"
         },
         {
          "areas": "19049.42248131033"
         },
         {
          "areas": "19049.42248131033"
         },
         {
          "areas": "19049.42248131033"
         },
         {
          "areas": "19049.42248131033"
         },
         {
          "areas": "19049.42248131033"
         },
         {
          "areas": "19049.42248131033"
         },
         {
          "areas": "19049.42248131033"
         },
         {
          "areas": "19049.42248131033"
         },
         {
          "areas": "19049.42248131033"
         },
         {
          "areas": "19049.42248131033"
         },
         {
          "areas": "19049.42248131033"
         },
         {
          "areas": "19049.42248131033"
         },
         {
          "areas": "19049.42248131033"
         },
         {
          "areas": "19049.42248131033"
         },
         {
          "areas": "19049.42248131033"
         },
         {
          "areas": "19049.42248131033"
         },
         {
          "areas": "19049.42248131033"
         },
         {
          "areas": "19049.42248131033"
         },
         {
          "areas": "19049.42248131033"
         },
         {
          "areas": "19049.42248131033"
         },
         {
          "areas": "19049.42248131033"
         },
         {
          "areas": "19049.42248131033"
         },
         {
          "areas": "19049.42248131033"
         },
         {
          "areas": "19049.42248131033"
         },
         {
          "areas": "19049.42248131033"
         },
         {
          "areas": "19049.42248131033"
         },
         {
          "areas": "19049.42248131033"
         },
         {
          "areas": "19049.42248131033"
         },
         {
          "areas": "19049.42248131033"
         },
         {
          "areas": "19049.42248131033"
         },
         {
          "areas": "19049.42248131033"
         },
         {
          "areas": "19049.42248131033"
         },
         {
          "areas": "19049.42248131033"
         },
         {
          "areas": "19049.42248131033"
         },
         {
          "areas": "19049.42248131033"
         },
         {
          "areas": "19049.42248131033"
         },
         {
          "areas": "19049.42248131033"
         },
         {
          "areas": "19049.42248131033"
         },
         {
          "areas": "19049.42248131033"
         },
         {
          "areas": "19049.42248131033"
         },
         {
          "areas": "19049.42248131033"
         },
         {
          "areas": "19049.42248131033"
         },
         {
          "areas": "19049.42248131033"
         },
         {
          "areas": "19049.42248131033"
         },
         {
          "areas": "19049.42248131033"
         },
         {
          "areas": "19049.42248131033"
         },
         {
          "areas": "19049.42248131033"
         },
         {
          "areas": "19049.42248131033"
         },
         {
          "areas": "19049.42248131033"
         },
         {
          "areas": "19049.42248131033"
         },
         {
          "areas": "19049.42248131033"
         },
         {
          "areas": "19049.42248131033"
         },
         {
          "areas": "19049.42248131033"
         },
         {
          "areas": "19049.42248131033"
         },
         {
          "areas": "19049.42248131033"
         },
         {
          "areas": "19049.42248131033"
         },
         {
          "areas": "19049.42248131033"
         },
         {
          "areas": "19049.42248131033"
         },
         {
          "areas": "19049.42248131033"
         },
         {
          "areas": "19049.42248131033"
         },
         {
          "areas": "19049.42248131033"
         },
         {
          "areas": "19049.42248131033"
         },
         {
          "areas": "19049.42248131033"
         },
         {
          "areas": "19049.42248131033"
         },
         {
          "areas": "19049.42248131033"
         },
         {
          "areas": "19049.42248131033"
         },
         {
          "areas": "19049.42248131033"
         },
         {
          "areas": "19049.42248131033"
         },
         {
          "areas": "19049.42248131033"
         },
         {
          "areas": "19049.42248131033"
         },
         {
          "areas": "19049.42248131033"
         },
         {
          "areas": "19049.42248131033"
         },
         {
          "areas": "19049.42248131033"
         },
         {
          "areas": "19049.42248131033"
         },
         {
          "areas": "19049.42248131033"
         },
         {
          "areas": "19049.42248131033"
         },
         {
          "areas": "19049.42248131033"
         },
         {
          "areas": "19049.42248131033"
         },
         {
          "areas": "19049.42248131033"
         },
         {
          "areas": "19049.42248131033"
         },
         {
          "areas": "19049.42248131033"
         },
         {
          "areas": "19049.42248131033"
         },
         {
          "areas": "19049.42248131033"
         },
         {
          "areas": "19049.42248131033"
         },
         {
          "areas": "19049.42248131033"
         },
         {
          "areas": "19049.42248131033"
         },
         {
          "areas": "19049.42248131033"
         },
         {
          "areas": "19049.42248131033"
         },
         {
          "areas": "19049.42248131033"
         },
         {
          "areas": "19049.42248131033"
         },
         {
          "areas": "19049.42248131033"
         },
         {
          "areas": "19049.42248131033"
         },
         {
          "areas": "19056.79909677318"
         },
         {
          "areas": "19056.79909677318"
         },
         {
          "areas": "19056.79909677318"
         },
         {
          "areas": "19056.79909677318"
         },
         {
          "areas": "19056.79909677318"
         },
         {
          "areas": "19056.79909677318"
         },
         {
          "areas": "19056.79909677318"
         },
         {
          "areas": "19056.79909677318"
         },
         {
          "areas": "19056.79909677318"
         },
         {
          "areas": "19056.79909677318"
         },
         {
          "areas": "19056.79909677318"
         },
         {
          "areas": "19056.79909677318"
         },
         {
          "areas": "19056.79909677318"
         },
         {
          "areas": "19056.79909677318"
         },
         {
          "areas": "19056.79909677318"
         },
         {
          "areas": "19056.79909677318"
         },
         {
          "areas": "19056.79909677318"
         },
         {
          "areas": "19056.79909677318"
         },
         {
          "areas": "19056.79909677318"
         },
         {
          "areas": "19056.79909677318"
         },
         {
          "areas": "19056.79909677318"
         },
         {
          "areas": "19056.79909677318"
         },
         {
          "areas": "19056.79909677318"
         },
         {
          "areas": "19056.79909677318"
         },
         {
          "areas": "19056.79909677318"
         },
         {
          "areas": "19056.79909677318"
         },
         {
          "areas": "19056.79909677318"
         },
         {
          "areas": "19056.79909677318"
         },
         {
          "areas": "19056.79909677318"
         },
         {
          "areas": "19056.79909677318"
         },
         {
          "areas": "19056.79909677318"
         },
         {
          "areas": "19056.79909677318"
         },
         {
          "areas": "19056.79909677318"
         },
         {
          "areas": "19056.79909677318"
         },
         {
          "areas": "19056.79909677318"
         },
         {
          "areas": "19056.79909677318"
         },
         {
          "areas": "19056.79909677318"
         },
         {
          "areas": "19056.79909677318"
         },
         {
          "areas": "19056.79909677318"
         },
         {
          "areas": "19056.79909677318"
         },
         {
          "areas": "19056.79909677318"
         },
         {
          "areas": "19056.79909677318"
         },
         {
          "areas": "19056.79909677318"
         },
         {
          "areas": "19056.79909677318"
         },
         {
          "areas": "19056.79909677318"
         },
         {
          "areas": "19056.79909677318"
         },
         {
          "areas": "19056.79909677318"
         },
         {
          "areas": "19056.79909677318"
         },
         {
          "areas": "19056.79909677318"
         },
         {
          "areas": "19056.79909677318"
         },
         {
          "areas": "19056.79909677318"
         }
        ]
       },
       "description": ".",
       "encoding": {
        "x": {
         "bin": true,
         "field": "areas",
         "type": "quantitative"
        },
        "y": {
         "aggregate": "count",
         "field": "areas",
         "type": "quantitative"
        }
       },
       "height": 600,
       "mark": "bar",
       "title": "Areas of posterior samples",
       "width": 800
      },
      "image/png": "[encoded data removed]"
     },
     "metadata": {},
     "output_type": "display_data"
    }
   ],
   "source": [
    "val areas = for sample <- samples yield \n",
    "    val mesh = vertebraModel.instance(sample.parameters.coefficients)\n",
    "    mesh.area\n",
    "\n",
    "DataFrame(Seq(\n",
    "    DataFrame.Column.ofContinuous(areas, \"areas\")) \n",
    ")\n",
    ".plot.histogram(\"areas\", \"Areas of posterior samples\").show()"
   ]
  },
  {
   "cell_type": "markdown",
   "id": "ab10cefd-d770-4f3f-9792-2d7b3a84ab58",
   "metadata": {},
   "source": [
    "#### Exercises\n",
    "\n",
    "* Visualize some other samples from the posterior distribution. Do they look different or very similar? How well do they represent the target?\n",
    "* Create pair-plots of the first 4 coefficients, as we did for the toy problem. What do you observe?\n",
    "* How does the noise you choose affect the solution accuracy and the uncertainty?\n",
    "* Try different parameters for the ground truth. Does the computational procedure also work for these parameters?\n",
    "    * You will need to add additional proposals for these parameters. Think carefully about their scale and how large you should do the steps in the random walk\n",
    "* The scenario outlined here only fits the shape coefficients and assumes that pose, sensor distance and other parameters are fixed. Make it more realistic, by adding more parameters. Use [this notebook](https://github.com/shape-the-world/big-data-africa-23/blob/main/notebooks/shape-fitting-full.ipynb), which includes pose, as a starting point. \n"
   ]
  }
 ],
 "metadata": {
  "kernelspec": {
   "display_name": "Scala",
   "language": "scala",
   "name": "scala"
  },
  "language_info": {
   "codemirror_mode": "text/x-scala",
   "file_extension": ".sc",
   "mimetype": "text/x-scala",
   "name": "scala",
   "nbconvert_exporter": "script",
   "version": "2.13.8"
  }
 },
 "nbformat": 4,
 "nbformat_minor": 5
}
