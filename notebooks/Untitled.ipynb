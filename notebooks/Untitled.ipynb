{
 "cells": [
  {
   "cell_type": "code",
   "execution_count": 15,
   "id": "7ff21708-30ff-48e7-8dd5-7eb125cb9220",
   "metadata": {},
   "outputs": [],
   "source": [
    "// Suppressing excessive output for the jupyter-notebook\n",
    "val api = implicitly[almond.api.JupyterApi]\n",
    "api.silent(true)"
   ]
  },
  {
   "cell_type": "code",
   "execution_count": 2,
   "id": "582541b4-5b55-44c3-a9a7-5fedf10d1ec7",
   "metadata": {},
   "outputs": [],
   "source": [
    "import coursierapi.{Credentials, MavenRepository}\n",
    "interp.repositories() ++= Seq(\n",
    "  MavenRepository.of(\"https://oss.sonatype.org/content/repositories/snapshots\")\n",
    ")\n"
   ]
  },
  {
   "cell_type": "code",
   "execution_count": 3,
   "id": "7bcf6d11-d9e2-4914-9bf5-8fba4c7dd53a",
   "metadata": {},
   "outputs": [],
   "source": [
    "import $ivy.`ch.unibas.cs.gravis::scalismo-plot:0.1-SNAPSHOT`\n",
    "import $ivy.`ch.unibas.cs.gravis::scalismo-renderer:0.1-SNAPSHOT`\n",
    "import $ivy.`org.scalanlp::breeze:2.1.0`\n",
    "import $ivy.`org.scalanlp::breeze-natives:2.1.0`\n",
    "\n",
    "\n",
    "// imports\n",
    "import java.io.File\n",
    "\n",
    "import scalismo.plot.data.DataFrame\n",
    "import scalismo.plot.plottarget.PlotTarget.plotTargetJupyter\n",
    "\n",
    "import scalismo.mesh.TriangleMesh\n",
    "import scalismo.geometry._3D\n",
    "import scalismo.common.PointId\n",
    "import scalismo.io.StatisticalModelIO\n",
    "\n",
    "import java.lang.Math\n",
    "\n",
    "import breeze.stats.distributions.Rand.FixedSeed.randBasis\n",
    "import breeze.linalg.{DenseMatrix, DenseVector, linspace}\n",
    "import breeze.stats.distributions.*"
   ]
  },
  {
   "cell_type": "code",
   "execution_count": 4,
   "id": "514b0c5b-7e00-4532-b19f-4a920ec1ee49",
   "metadata": {},
   "outputs": [],
   "source": [
    "scalismo.initialize()"
   ]
  },
  {
   "cell_type": "code",
   "execution_count": 5,
   "id": "619e93c7-db9c-478c-85f4-c686fa721641",
   "metadata": {},
   "outputs": [],
   "source": [
    "val vertebraModel = StatisticalModelIO.readStatisticalTriangleMeshModel3D(File(\"./data/vertebra-model.h5\")).get    \n"
   ]
  },
  {
   "cell_type": "code",
   "execution_count": 11,
   "id": "f28fa49b-25be-4009-9207-e793cc405e5d",
   "metadata": {},
   "outputs": [],
   "source": [
    "val mass = vertebraModel.mean.pointSet.centerOfMass\n"
   ]
  },
  {
   "cell_type": "code",
   "execution_count": 12,
   "id": "7b4168d7-21f6-4444-8547-0570194fee6f",
   "metadata": {},
   "outputs": [],
   "source": [
    "import scalismo.transformations.*\n",
    "import scalismo.geometry.Point3D\n",
    "val t = Translation3D(Point3D(0, 0, 0) - mass)\n",
    "val transformedModel = vertebraModel.transform(t)"
   ]
  },
  {
   "cell_type": "code",
   "execution_count": 14,
   "id": "4d77d3d9-bc03-4299-8d7f-62d69f9f5946",
   "metadata": {},
   "outputs": [],
   "source": [
    "StatisticalModelIO.writeStatisticalTriangleMeshModel3D(transformedModel, File(\"data/vertebra-model.h5\")).get"
   ]
  },
  {
   "cell_type": "code",
   "execution_count": 17,
   "id": "cf649abd-56ff-4325-b30c-97d13fbf3afc",
   "metadata": {},
   "outputs": [],
   "source": [
    "// Suppressing excessive output for the jupyter-notebook\n",
    "val api = implicitly[almond.api.JupyterApi]"
   ]
  },
  {
   "cell_type": "code",
   "execution_count": 18,
   "id": "5cf29566-4148-4807-80e9-93b04929b506",
   "metadata": {},
   "outputs": [],
   "source": [
    "import almond.interpreter.api.DisplayData"
   ]
  },
  {
   "cell_type": "code",
   "execution_count": 23,
   "id": "a19b02d0-694c-490f-9c48-6d19b5b51852",
   "metadata": {},
   "outputs": [
    {
     "data": {
      "application/javascript": [
       "\"<a>abc</a>\""
      ]
     },
     "metadata": {},
     "output_type": "display_data"
    }
   ],
   "source": [
    "\n",
    "api.publish.display(DisplayData.js(\"\\\"<a>abc</a>\\\"\"))"
   ]
  },
  {
   "cell_type": "code",
   "execution_count": null,
   "id": "9a311912-9fd0-4062-bb1a-5dd98f7a1f0e",
   "metadata": {},
   "outputs": [],
   "source": []
  }
 ],
 "metadata": {
  "kernelspec": {
   "display_name": "Scala",
   "language": "scala",
   "name": "scala"
  },
  "language_info": {
   "codemirror_mode": "text/x-scala",
   "file_extension": ".sc",
   "mimetype": "text/x-scala",
   "name": "scala",
   "nbconvert_exporter": "script",
   "version": "2.13.8"
  }
 },
 "nbformat": 4,
 "nbformat_minor": 5
}
