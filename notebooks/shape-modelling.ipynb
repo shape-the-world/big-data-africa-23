{
 "cells": [
  {
   "cell_type": "markdown",
   "id": "9386e9bc-1d62-43a3-91b6-a9ff8dc3d4db",
   "metadata": {},
   "source": [
    "# Shape Modelling\n",
    "\n",
    "#### Marcel Lüthi, Department of Mathematics and Computer Science, University of Basel "
   ]
  },
  {
   "cell_type": "markdown",
   "id": "fdd7d642-f01c-44ed-b5b2-2f3c1e4de28c",
   "metadata": {},
   "source": [
    "In this notebook we will apply the same techniques, that we developed for the simple regression model, to shape models. \n",
    "In particular, we will learn how to use the shape model as a prior, and how to generate contours. This will then allow us to build a generative model of 2D contours generated from vertebra shapes. "
   ]
  },
  {
   "cell_type": "markdown",
   "id": "46b8ea0a-12d1-4dc6-b5a7-fabaaee207c0",
   "metadata": {},
   "source": [
    "### Setup"
   ]
  },
  {
   "cell_type": "markdown",
   "id": "24db287d-fadc-40e3-a40a-ace9aaf11c6b",
   "metadata": {},
   "source": [
    "We start again by suppressing excessive outputs from the jupyter-kernel and by doing the necessary imports that we need. \n",
    "This time, we import [Scalismo](https://www.scalismo.org), an open-source library for shape modelling. "
   ]
  },
  {
   "cell_type": "code",
   "execution_count": 1,
   "id": "2d41ffa6-f35f-4ce5-a9a0-a605e3dda3f3",
   "metadata": {},
   "outputs": [
    {
     "data": {
      "text/plain": [
       "\u001b[36mapi\u001b[39m: \u001b[32mJupyterApi\u001b[39m = almond.JupyterApiImpl@570dfdbb"
      ]
     },
     "execution_count": 1,
     "metadata": {},
     "output_type": "execute_result"
    }
   ],
   "source": [
    "// Suppressing excessive output for the jupyter-notebook\n",
    "val api = implicitly[almond.api.JupyterApi]\n",
    "api.silent(true)"
   ]
  },
  {
   "cell_type": "code",
   "execution_count": 2,
   "id": "cb1b8a62-d478-466e-992c-e84e1ec42029",
   "metadata": {},
   "outputs": [],
   "source": [
    "import coursierapi.{Credentials, MavenRepository}\n",
    "interp.repositories() ++= Seq(\n",
    "  MavenRepository.of(\"https://oss.sonatype.org/content/repositories/snapshots\")\n",
    ")\n"
   ]
  },
  {
   "cell_type": "code",
   "execution_count": 3,
   "id": "fc3ba49a-1534-40f6-b73f-bd0df54cc499",
   "metadata": {},
   "outputs": [],
   "source": [
    "import $ivy.`ch.unibas.cs.gravis::scalismo-plot:0.1-SNAPSHOT`\n",
    "import $ivy.`ch.unibas.cs.gravis::scalismo-renderer:0.2-SNAPSHOT`\n",
    "import $ivy.`org.scalanlp::breeze:2.1.0`\n",
    "import $ivy.`org.scalanlp::breeze-natives:2.1.0`\n",
    "\n",
    "\n",
    "// imports\n",
    "import java.io.File\n",
    "\n",
    "import scalismo.plot.data.DataFrame\n",
    "import scalismo.plot.plottarget.PlotTarget.plotTargetJupyter\n",
    "\n",
    "import scalismo.mesh.{LineMesh, TriangleMesh}\n",
    "import scalismo.geometry.{EuclideanVector3D, EuclideanVector, Point3D, Point2D, Point, _2D, _3D}\n",
    "import scalismo.common.PointId\n",
    "import scalismo.io.StatisticalModelIO\n",
    "import scalismo.renderer.{Renderer, ContourRenderer}\n",
    "import scalismo.renderer.show\n",
    "import scalismo.transformations.*\n",
    "\n",
    "import java.lang.Math\n",
    "import scalismo.color.RGB\n",
    "\n",
    "import breeze.stats.distributions.Rand.FixedSeed.randBasis\n",
    "import breeze.linalg.{DenseMatrix, DenseVector, linspace}\n",
    "import breeze.stats.distributions.*"
   ]
  },
  {
   "cell_type": "markdown",
   "id": "3029fc8c-57f4-42d4-a4d7-667e3c3a2891",
   "metadata": {},
   "source": [
    "We define an instance to a random number generator, which is used by Scalismo. "
   ]
  },
  {
   "cell_type": "code",
   "execution_count": 4,
   "id": "701a272b-f0b1-4eae-89c5-766c475b5a82",
   "metadata": {},
   "outputs": [],
   "source": [
    "given rng : scalismo.utils.Random = scalismo.utils.Random(42L)"
   ]
  },
  {
   "cell_type": "markdown",
   "id": "41d6c7fe-681d-4a8f-aa55-a3b31c5ea5ff",
   "metadata": {},
   "source": [
    "### Loading and sampling from a model "
   ]
  },
  {
   "cell_type": "markdown",
   "id": "f55f5d7f-abf9-446d-bd9b-ec76bab03571",
   "metadata": {},
   "source": [
    "We start by loading a statistical shape model in Scalismo. "
   ]
  },
  {
   "cell_type": "code",
   "execution_count": 5,
   "id": "b36bb9f2-2a92-4cd7-a86a-90ab0ed67a1b",
   "metadata": {},
   "outputs": [],
   "source": [
    "val vertebraModel = StatisticalModelIO.readStatisticalTriangleMeshModel3D(File(\"./data/vertebra-model.h5\")).get    "
   ]
  },
  {
   "cell_type": "markdown",
   "id": "de4ee206-b5cc-4833-a02c-a46da3852c39",
   "metadata": {},
   "source": [
    "The model represents vertebra shapes (Triangle meshses), which have its center of mass located at the origin, as we can easily check:"
   ]
  },
  {
   "cell_type": "code",
   "execution_count": 6,
   "id": "f63e5d01-852b-42e9-8ea1-3de5bea5d9be",
   "metadata": {},
   "outputs": [
    {
     "name": "stdout",
     "output_type": "stream",
     "text": [
      "Point3D(1.2740496192764628E-9,1.9639422130235396E-8,-1.4750906223923166E-8)\n"
     ]
    }
   ],
   "source": [
    "val meanShape : TriangleMesh[_3D] = vertebraModel.mean\n",
    "println(meanShape.pointSet.centerOfMass)"
   ]
  },
  {
   "cell_type": "markdown",
   "id": "38d8c321-3b5e-47fe-8211-88e75f086a0e",
   "metadata": {},
   "source": [
    "Let's render the mean shape."
   ]
  },
  {
   "cell_type": "code",
   "execution_count": 18,
   "id": "ef1efb64-1050-4d93-b764-8ca000df1ff7",
   "metadata": {},
   "outputs": [
    {
     "data": {
      "image/png": "[encoded data removed]"
     },
     "metadata": {},
     "output_type": "display_data"
    }
   ],
   "source": [
    "def render(mesh : TriangleMesh[_3D]) : Unit = \n",
    "    Renderer.renderMesh(mesh, RGB.White, Point3D(0, 0, 300), 256, 256).show()\n",
    "render(meanShape)"
   ]
  },
  {
   "cell_type": "markdown",
   "id": "49431166-6a9b-4fbc-9241-610c9e81d98e",
   "metadata": {},
   "source": [
    "### Shape space"
   ]
  },
  {
   "cell_type": "markdown",
   "id": "4fbce997-ee7f-46f8-b454-e16939854a5f",
   "metadata": {},
   "source": [
    "The shape space is determined by a set of coefficients $\\alpha_i$. A shape itself, consisting of a set of points \n",
    "$(x_1, \\ldots, x_n) \\subset \\mathbb{R}^3$ is given by the following expansion:\n",
    "\n",
    "$x_i = x_i^R + \\mu(x_i^R) + \\sum_{i=1}^r \\alpha_i \\Phi_i(x_i^R)$\n",
    "\n",
    "where $x_i^R$ is the point corresponding to $x_i$ on a given reference shape, $\\alpha_i$ is a coefficient (or coordinate) and $\\Phi_i$ a basis-function. By varying the coefficients $\\alpha_i$ we can generate different shapes.  "
   ]
  },
  {
   "cell_type": "code",
   "execution_count": 14,
   "id": "7734aa26-6262-4594-84bc-728e13189e18",
   "metadata": {},
   "outputs": [],
   "source": [
    "val alpha=DenseVector.zeros[Double](vertebraModel.rank)\n",
    "alpha(0) = 3"
   ]
  },
  {
   "cell_type": "code",
   "execution_count": 15,
   "id": "add487bb-4182-4412-9095-791a5edf2216",
   "metadata": {},
   "outputs": [
    {
     "data": {
      "image/png": "[encoded data removed]"
     },
     "metadata": {},
     "output_type": "display_data"
    }
   ],
   "source": [
    "render(vertebraModel.instance(alpha))"
   ]
  },
  {
   "cell_type": "code",
   "execution_count": 16,
   "id": "d08603bd-f598-4f9b-984d-bd09bcee073d",
   "metadata": {},
   "outputs": [
    {
     "data": {
      "image/png": "[encoded data removed]"
     },
     "metadata": {},
     "output_type": "display_data"
    }
   ],
   "source": [
    "alpha(0)= -3\n",
    "render(vertebraModel.instance(alpha))"
   ]
  },
  {
   "cell_type": "markdown",
   "id": "7ec76317-5956-430a-9fa6-224da8e945ad",
   "metadata": {},
   "source": [
    "### Priors for shape"
   ]
  },
  {
   "cell_type": "markdown",
   "id": "89da8d92-ad2f-4134-992f-e01b13646fcd",
   "metadata": {},
   "source": [
    "A shape is determined by a set of coefficients $\\alpha_1, \\ldots, \\alpha_n$, with $\\alpha_i \\sim N(0, 1)$. This means we can sample from it by drawing random coefficients. "
   ]
  },
  {
   "cell_type": "code",
   "execution_count": 17,
   "id": "f5b4055f-36a1-4e3d-8963-300b5b124236",
   "metadata": {},
   "outputs": [
    {
     "data": {
      "image/png": "[encoded data removed]"
     },
     "metadata": {},
     "output_type": "display_data"
    }
   ],
   "source": [
    "val alpha = MultivariateGaussian(DenseVector.zeros[Double](vertebraModel.rank), DenseMatrix.eye[Double](vertebraModel.rank)).draw()\n",
    "val sample = vertebraModel.instance(alpha)\n",
    "render(sample)"
   ]
  },
  {
   "cell_type": "markdown",
   "id": "71fbdcb1-ed9c-4509-a66c-9b001476da05",
   "metadata": {},
   "source": [
    "This functionality is already built into scalismo in its sample method. We can thus generate samples using the following, simpler, code:"
   ]
  },
  {
   "cell_type": "code",
   "execution_count": 23,
   "id": "1c95c518-5f0d-499a-8bbb-a2d82c6dbe48",
   "metadata": {},
   "outputs": [
    {
     "data": {
      "image/png": "[encoded data removed]"
     },
     "metadata": {},
     "output_type": "display_data"
    }
   ],
   "source": [
    "val sample = vertebraModel.sample()\n",
    "render(sample)"
   ]
  },
  {
   "cell_type": "markdown",
   "id": "04374f35-3c65-40b4-805d-e874ca98d8f0",
   "metadata": {},
   "source": [
    "#### Exercises:\n",
    "\n",
    "* Sample a few shapes and obsserve the variation\n",
    "* Can you find out what variations do the individual components represent by varying the value of their respective coefficient\n",
    "* Can you plot a distribution of the surface area of vertebra shapes? To get the area of the vertebra, you can use the method `area` on a sampled mesh.\n",
    "* Think about how this connects to the prior predictive plots we performed for the toy problem. Can you think of other plots that could be useful to understand if this is a good shape prior? You may find the following code snippets useful."
   ]
  },
  {
   "cell_type": "markdown",
   "id": "ad0724a5-2fe9-494f-adb7-f5cb4fc88377",
   "metadata": {},
   "source": [
    "### Rendering a contour"
   ]
  },
  {
   "cell_type": "markdown",
   "id": "12952cc6-24cc-4534-927b-e8008cd033a8",
   "metadata": {},
   "source": [
    "Our goal in the projet is to be able to explain a contour in an image. To this end, we simulate the following, simple X-ray setup:\n",
    "![x-ray-setup](images/xray-setup.png)"
   ]
  },
  {
   "cell_type": "markdown",
   "id": "11458048-acbc-443c-9b5a-8fc279fdd8b3",
   "metadata": {},
   "source": [
    "Placing an object between the x-ray source and the sensorplane will result in a 2D image. In our simulation, the object is a mesh, which models only the boundary of the object, the resulting image will only show the projected mesh contours. "
   ]
  },
  {
   "cell_type": "code",
   "execution_count": 43,
   "id": "e5c5ccb0-37a0-4a99-8304-5bd1ed31823a",
   "metadata": {},
   "outputs": [
    {
     "data": {
      "image/png": "[encoded data removed]"
     },
     "metadata": {},
     "output_type": "display_data"
    }
   ],
   "source": [
    "val mesh = vertebraModel.sample()\n",
    "val sensorDistance = 100\n",
    "val sourceLocation = Point3D(0, 0, 80 )\n",
    "val meshContour : LineMesh[_2D] = ContourRenderer.projectMeshContours(mesh, sensorDistance, sourceLocation)\n",
    "ContourRenderer.renderMeshContour(meshContour, 256, 256).show()"
   ]
  },
  {
   "cell_type": "markdown",
   "id": "ff80780d-236d-41d0-a41f-cc21303b96e5",
   "metadata": {},
   "source": [
    "### The generative model \n",
    "\n",
    "With this setup, we can now set up a generative model for the contour $C$:\n",
    "\n",
    "$p(C, \\alpha) = p(C | \\alpha)p(\\alpha)$\n",
    "\n",
    "We already know that we model the prior as $p(\\alpha_i) \\sim N(0, I)$. We can thus generate a shape $\\Gamma[\\alpha]$ given these coefficients. For the likelihood term $p(C | \\alpha)$ we assume that the points of the observed contour $C$ are a noisy version of the generated contour obtained from the projected shape $\\Gamma[\\alpha]$. This is made precise in the following code:"
   ]
  },
  {
   "cell_type": "code",
   "execution_count": 20,
   "id": "8fcccc9f-6bdf-4f52-a654-b8f3e31ece7a",
   "metadata": {},
   "outputs": [
    {
     "data": {
      "image/png": "[encoded data removed]"
     },
     "metadata": {},
     "output_type": "display_data"
    },
    {
     "data": {
      "image/png": "[encoded data removed]"
     },
     "metadata": {},
     "output_type": "display_data"
    }
   ],
   "source": [
    "def generate() : LineMesh[_2D] = \n",
    "\n",
    "    val sensorDistance = 100\n",
    "    val sourceLocation = Point3D(0, 0, 50)\n",
    "\n",
    "    // sample from the prior\n",
    "    val alpha = MultivariateGaussian(DenseVector.zeros[Double](vertebraModel.rank), DenseMatrix.eye[Double](vertebraModel.rank)).draw()    \n",
    "    val sample = vertebraModel.instance(alpha)\n",
    "\n",
    "    // project the sampled shape to get the contour\n",
    "    val sampledContour = ContourRenderer.projectMeshContours(sample, sensorDistance, sourceLocation)\n",
    "    \n",
    "    // add Gaussian noise to each point\n",
    "    val sigma = 10.0    \n",
    "    \n",
    "    val noiseTransform = Transformation2D( (point : Point[_2D]) => \n",
    "        val pointVec = DenseVector(point.x, point.y)\n",
    "        val noise = MultivariateGaussian(pointVec, DenseMatrix.eye[Double](2)*sigma)\n",
    "        val newPoint = pointVec + noise.draw()\n",
    "        Point2D(newPoint(0), newPoint(1))\n",
    "    )                 \n",
    "    sampledContour.transform(noiseTransform)\n",
    "    \n",
    "\n",
    "\n",
    "\n",
    "for i <- 0 until 2 do\n",
    "    val contour = generate()\n",
    "    ContourRenderer.renderMeshContour(contour, 1000, 1000).show()"
   ]
  },
  {
   "cell_type": "markdown",
   "id": "c2242c7d-90f9-4931-9ff4-d9e09926062e",
   "metadata": {},
   "source": [
    "### Exercise:\n",
    "\n",
    "- What are the units of the noise parameter `sigma`. What does it really model? How would you choose it?\n",
    "- This model considers both the position/pose of the vertebra model as well as the x-ray setup as fixed. Think about if this is realistic for our final goal to reconstruct hand-drawn contours. \n",
    "    - Which parameters would you need to add?\n",
    "    - What would be their prior\n",
    "- Extend the generate method such that it takes these parameters into account. Perform prior predictive checks to get a feeling for what your prior implies. You may find the following code snippets useful. \n"
   ]
  },
  {
   "cell_type": "markdown",
   "id": "203ab92c-cedf-4650-9c6a-94d290ce47a3",
   "metadata": {},
   "source": [
    "### Useful code snippets"
   ]
  },
  {
   "cell_type": "code",
   "execution_count": 62,
   "id": "d3d8fdb6-9237-4ad9-9e1a-46fba4f2632d",
   "metadata": {},
   "outputs": [],
   "source": [
    "// define transformations\n",
    "val translation = Translation3D(EuclideanVector3D(10.0, 1.0, 7.0))\n",
    "val rotation  = Rotation3D(Math.PI / 2, 0, Math.PI / 4, center = Point3D(0, 0, 0))\n",
    "\n",
    "// define a rigid transformation, which performs first a rotation then a translation\n",
    "val rigidTransformation = TranslationAfterRotation(translation, rotation)\n",
    "\n",
    "// we can apply the transformation to any mesh, and get a new mesh \n",
    "// that is transformed accordingly (i.e. is at a new position in space\n",
    "val mesh : TriangleMesh[_3D] = vertebraModel.sample()\n",
    "val meshAtNewPosition = mesh.transform(rigidTransformation)"
   ]
  },
  {
   "cell_type": "code",
   "execution_count": null,
   "id": "06a6dc5f-065f-47b9-8cae-a7cfcd4a53a9",
   "metadata": {},
   "outputs": [],
   "source": []
  }
 ],
 "metadata": {
  "kernelspec": {
   "display_name": "Scala",
   "language": "scala",
   "name": "scala"
  },
  "language_info": {
   "codemirror_mode": "text/x-scala",
   "file_extension": ".sc",
   "mimetype": "text/x-scala",
   "name": "scala",
   "nbconvert_exporter": "script",
   "version": "2.13.8"
  }
 },
 "nbformat": 4,
 "nbformat_minor": 5
}
