{
 "cells": [
  {
   "cell_type": "markdown",
   "id": "6f621c01-3c46-4913-95b8-2acf411a8893",
   "metadata": {},
   "source": [
    "# Metropolis Sampling\n",
    "\n",
    "### Marcel Lüthi, Departement of Mathematics and Computer Science, University of Basel\n",
    "\n",
    "\n",
    "\n",
    "In this notebook we will present an implementation of the Metropolis algorithm and experiment with it. As a target distribution we will use a bivariate normal distribution. This simple setup is ideally suited for exploring the properties of the algorithm: We know how the true target distribution looks like, can change its shape, and we can visualize the samples.\n",
    "\n",
    "The intuition that we develop while experimenting with this simple examples, will help us to understand the more complicated cases that we will explore later in this course.\n"
   ]
  },
  {
   "cell_type": "markdown",
   "id": "c391f30c-36d3-41a2-9ab0-84bbdba3d20a",
   "metadata": {},
   "source": [
    "### Preparation\n",
    "\n",
    "Before we start, we need to download the plotting library scalismo-plot and make it available in the Jupyter-Notebook. It may take some time when you execute the following cells for the first time."
   ]
  },
  {
   "cell_type": "code",
   "execution_count": 1,
   "id": "72a15b87-1172-417f-b693-7151dfe58687",
   "metadata": {},
   "outputs": [
    {
     "data": {
      "text/plain": [
       "\u001b[36mapi\u001b[39m: \u001b[32mJupyterApi\u001b[39m = almond.JupyterApiImpl@425d626f"
      ]
     },
     "execution_count": 1,
     "metadata": {},
     "output_type": "execute_result"
    }
   ],
   "source": [
    "// Suppressing excessive output for the jupyter-notebook\n",
    "val api = implicitly[almond.api.JupyterApi]\n",
    "api.silent(true)"
   ]
  },
  {
   "cell_type": "code",
   "execution_count": 2,
   "id": "13e34b3a-6742-48d5-80e4-ab706e2d0921",
   "metadata": {},
   "outputs": [],
   "source": [
    "import coursierapi.{Credentials, MavenRepository}\n",
    "interp.repositories() ++= Seq(\n",
    "  MavenRepository.of(\"https://oss.sonatype.org/content/repositories/snapshots\")\n",
    ")"
   ]
  },
  {
   "cell_type": "code",
   "execution_count": 3,
   "id": "308249c5-dd09-4c1d-adc8-46f7d5981e21",
   "metadata": {},
   "outputs": [],
   "source": [
    "import $ivy.`org.scalanlp::breeze:2.1.0`\n",
    "import $ivy.`org.scalanlp::breeze-natives:2.1.0`\n",
    "import $ivy.`ch.unibas.cs.gravis::scalismo-plot:0.1-SNAPSHOT`\n",
    "\n",
    "import breeze.linalg.{DenseVector, DenseMatrix}\n",
    "import breeze.stats.distributions.MultivariateGaussian \n",
    "import breeze.stats.distributions.Rand.FixedSeed.randBasis\n",
    "\n",
    "import scalismo.plot.data.DataFrame\n",
    "import scalismo.plot.plottarget.PlotTarget.plotTargetJupyter"
   ]
  },
  {
   "cell_type": "markdown",
   "id": "1560f2d1-2d56-46e7-818c-9aee5991159a",
   "metadata": {},
   "source": [
    "We also initialize a global random number generator, which we use whenever we need a new random number in our algorithm."
   ]
  },
  {
   "cell_type": "code",
   "execution_count": 3,
   "id": "13711ea8-f6da-4583-aa69-e0f096d8ecd0",
   "metadata": {},
   "outputs": [],
   "source": [
    "// We keep random number generator around as global state\n",
    "val rng = new scala.util.Random()"
   ]
  },
  {
   "cell_type": "markdown",
   "id": "7241c6de-6166-4985-a193-76eaafa76cc2",
   "metadata": {},
   "source": [
    "\n",
    "### The Metropolis algorithm\n",
    "\n",
    "The Metropolis algorithm works by simulating a random path through the states on which the target distribution is defined. Starting from a given state, a possible new state is proposed using a proposal function. The new state is then evaluated given the target distribution and rejected or accepted depending on the likelihood ratio between the old and new state.\n",
    "\n",
    "This motivates the following definitions:\n"
   ]
  },
  {
   "cell_type": "code",
   "execution_count": 4,
   "id": "cdd93b8a-a43b-47cb-a92c-c0ae14085863",
   "metadata": {},
   "outputs": [],
   "source": [
    "type State = DenseVector[Double]  // The state is represented as a vector\n",
    "type Proposal = State => State  // The proposal function produces a new state from a given state\n",
    "type DistributionEvaluator = State => Double // The distribution evaluator evaluates a probability of each state"
   ]
  },
  {
   "cell_type": "markdown",
   "id": "8971d77c-eb6a-4785-b90e-f9ebdfe1f974",
   "metadata": {},
   "source": [
    "\n",
    "In order to understand and be able to visualize how the Metropolis algorithm walks through the state-space, we introduce a logger. The logger keeps track of the sequence of states, together with the information, which new state was proposed in each step:"
   ]
  },
  {
   "cell_type": "code",
   "execution_count": 5,
   "id": "427bf362-9235-4e36-b8b5-83226b02b1a7",
   "metadata": {},
   "outputs": [],
   "source": [
    "class Logger:\n",
    "    case class StepInfo(state : State, proposedState : State):\n",
    "        def accepted : Boolean = state == proposedState\n",
    "    \n",
    "\n",
    "    private val stepSeq = collection.mutable.Buffer[StepInfo]()\n",
    "    \n",
    "    def steps : Seq[StepInfo] = stepSeq.toSeq\n",
    "    \n",
    "    def logStep(state : State, proposedState : State) : Unit = stepSeq.append(StepInfo(state, proposedState))\n"
   ]
  },
  {
   "cell_type": "markdown",
   "id": "ec6778e5-285f-4157-b9a8-75539085b846",
   "metadata": {},
   "source": [
    "With these definitions, we are ready to implement the Metropolis sampler."
   ]
  },
  {
   "cell_type": "code",
   "execution_count": 6,
   "id": "5799aad9-20f7-4016-8293-f2152b2a87e6",
   "metadata": {},
   "outputs": [],
   "source": [
    "def metropolisSampler(p : DistributionEvaluator, q : Proposal, initialState : State, logger : Logger) : Iterator[State] = \n",
    "    // Simulates one step\n",
    "    def nextStep(currentState : State) : State = \n",
    "        \n",
    "        // propose a new state from the given state\n",
    "        val proposedState = q(currentState) \n",
    "        \n",
    "        // accept based on the ratio of probabilities between \n",
    "        // the new and the old state\n",
    "        val r = rng.nextDouble()\n",
    "        val alpha  = scala.math.min(1.0, p(proposedState) / p(currentState));\n",
    "        val nextState = if (r < alpha) proposedState else currentState\n",
    "        logger.logStep(nextState, proposedState)\n",
    "        nextState\n",
    "    \n",
    "    \n",
    "    // create an iterator starting from the initial state\n",
    "    Iterator.iterate(initialState)(nextStep)\n"
   ]
  },
  {
   "cell_type": "markdown",
   "id": "7262cdcc-c7ec-4d01-a13c-121ce4522a2d",
   "metadata": {},
   "source": [
    "This is it - this simple code is a complete implementation of the celebrated Metropolis algorithm!"
   ]
  },
  {
   "cell_type": "markdown",
   "id": "43936a39-ec03-4fd8-9839-a76330cf77fd",
   "metadata": {},
   "source": [
    "### Toy example: sampling from a bivariate normal\n",
    "\n",
    "We will now run the algorithm on a toy example, where we sample from a bivariate normal distribution. We start by defining the target probability distribution."
   ]
  },
  {
   "cell_type": "code",
   "execution_count": 7,
   "id": "14d3f35e-15c7-4917-a400-5fe4b234d417",
   "metadata": {},
   "outputs": [],
   "source": [
    "val bivariateNormal = MultivariateGaussian(\n",
    "    mean = DenseVector(9.0, 10.0), \n",
    "    covariance = DenseMatrix((2.0, 0.5), (0.5, 1.0))\n",
    ")"
   ]
  },
  {
   "cell_type": "markdown",
   "id": "7978cc91-ba9c-4fcd-b9cb-c77b94533a63",
   "metadata": {},
   "source": [
    "Let's plot some samples from the distribution:"
   ]
  },
  {
   "cell_type": "code",
   "execution_count": 8,
   "id": "5446834b-059a-491a-9792-3f7f59b88068",
   "metadata": {},
   "outputs": [
    {
     "name": "stdout",
     "output_type": "stream",
     "text": [
      "return java 11 instance\n"
     ]
    },
    {
     "data": {
      "application/vnd.vega.v5+json": {
       "$schema": "https://vega.github.io/schema/vega-lite/v5.json",
       "data": {
        "values": [
         {
          "x": "7.8960939353811535",
          "y": "9.49278203795278"
         },
         {
          "x": "7.75528961871018",
          "y": "9.068539205530545"
         },
         {
          "x": "7.826937498416146",
          "y": "10.110375772984394"
         },
         {
          "x": "8.374497047074174",
          "y": "10.014731852184587"
         },
         {
          "x": "10.907315392862293",
          "y": "10.183683748087889"
         },
         {
          "x": "9.41369300413094",
          "y": "9.083710035393292"
         },
         {
          "x": "8.493938465020575",
          "y": "9.720968084870227"
         },
         {
          "x": "11.818260147473705",
          "y": "11.596613393213357"
         },
         {
          "x": "9.849088515173321",
          "y": "10.284004231512727"
         },
         {
          "x": "9.13134668511329",
          "y": "9.546897935470968"
         },
         {
          "x": "9.938453550366246",
          "y": "10.150716309479256"
         },
         {
          "x": "8.033461172382042",
          "y": "9.916191762454936"
         },
         {
          "x": "9.983965900104812",
          "y": "10.844018036518968"
         },
         {
          "x": "9.296340892346082",
          "y": "10.321453370755572"
         },
         {
          "x": "7.1411761148348045",
          "y": "9.36544409113797"
         },
         {
          "x": "8.907603816439693",
          "y": "10.643277497621947"
         },
         {
          "x": "7.553534579419844",
          "y": "9.90886114345396"
         },
         {
          "x": "10.3786541033328",
          "y": "10.452824546197213"
         },
         {
          "x": "7.94078083367844",
          "y": "9.139890974576886"
         },
         {
          "x": "10.161215229489413",
          "y": "10.006936706978738"
         },
         {
          "x": "7.8444748443618195",
          "y": "10.640846574166321"
         },
         {
          "x": "7.916711521539789",
          "y": "7.630727860212808"
         },
         {
          "x": "8.368607644324973",
          "y": "9.117749855132503"
         },
         {
          "x": "9.70521490553943",
          "y": "12.011329353141493"
         },
         {
          "x": "8.196225686025567",
          "y": "11.01860359933022"
         },
         {
          "x": "7.358090077219942",
          "y": "9.076838764313926"
         },
         {
          "x": "12.013427155926973",
          "y": "10.607495800354839"
         },
         {
          "x": "9.690267835731882",
          "y": "11.900078879810051"
         },
         {
          "x": "7.659708122866975",
          "y": "8.393232473144788"
         },
         {
          "x": "6.679089779038149",
          "y": "9.749665624923825"
         },
         {
          "x": "10.607113506174771",
          "y": "12.053078461392847"
         },
         {
          "x": "7.437981993686762",
          "y": "8.061560438046977"
         },
         {
          "x": "9.657976923474543",
          "y": "11.412121178554413"
         },
         {
          "x": "10.317626331535552",
          "y": "8.506924655167223"
         },
         {
          "x": "10.606641340816356",
          "y": "8.678334406153283"
         },
         {
          "x": "10.72213401705441",
          "y": "10.260812587410687"
         },
         {
          "x": "10.403052024401664",
          "y": "10.214285740130729"
         },
         {
          "x": "8.757354888104652",
          "y": "7.56380218823715"
         },
         {
          "x": "8.40416886345585",
          "y": "11.735791041329126"
         },
         {
          "x": "8.165411188235591",
          "y": "11.641860479692376"
         },
         {
          "x": "8.222189261867527",
          "y": "10.93581808926707"
         },
         {
          "x": "10.115262326463396",
          "y": "10.593356308693822"
         },
         {
          "x": "6.895241563534869",
          "y": "8.854661165793056"
         },
         {
          "x": "5.956983415558247",
          "y": "8.943128229463163"
         },
         {
          "x": "8.518917677699294",
          "y": "9.715204401643351"
         },
         {
          "x": "8.468875047945046",
          "y": "10.631546416382271"
         },
         {
          "x": "9.78122177672645",
          "y": "10.75817522057536"
         },
         {
          "x": "8.361447764886908",
          "y": "11.511215545022567"
         },
         {
          "x": "5.61672179381451",
          "y": "7.801856255140718"
         },
         {
          "x": "11.203845364665932",
          "y": "7.857058345021025"
         },
         {
          "x": "7.997290176948957",
          "y": "8.388658261300272"
         },
         {
          "x": "8.963524294567076",
          "y": "9.732286011654436"
         },
         {
          "x": "9.011634450060743",
          "y": "10.985174439859456"
         },
         {
          "x": "7.748761081727324",
          "y": "9.146950990834824"
         },
         {
          "x": "9.074067157680362",
          "y": "10.305407906796892"
         },
         {
          "x": "8.227949406326283",
          "y": "9.983170517993269"
         },
         {
          "x": "8.31259644959774",
          "y": "8.444227626782865"
         },
         {
          "x": "9.750599358551472",
          "y": "9.016165267366986"
         },
         {
          "x": "10.080836610335343",
          "y": "9.60813265312197"
         },
         {
          "x": "9.89270470453951",
          "y": "9.680682634540187"
         },
         {
          "x": "8.742639896727319",
          "y": "8.849657719553337"
         },
         {
          "x": "10.276568140088203",
          "y": "10.080051794960738"
         },
         {
          "x": "7.744293363633398",
          "y": "10.116824999947736"
         },
         {
          "x": "11.173833692213089",
          "y": "10.717701272032258"
         },
         {
          "x": "7.809858291034235",
          "y": "8.459033601313763"
         },
         {
          "x": "7.642745614551688",
          "y": "8.83847604812906"
         },
         {
          "x": "10.449793385032612",
          "y": "11.456714921320737"
         },
         {
          "x": "7.687203828559253",
          "y": "9.263428283513765"
         },
         {
          "x": "7.834578609140398",
          "y": "9.319982729873761"
         },
         {
          "x": "7.941836830235275",
          "y": "8.744847478269495"
         },
         {
          "x": "10.592834453827246",
          "y": "9.597258759032481"
         },
         {
          "x": "8.377791409766077",
          "y": "10.019893237422698"
         },
         {
          "x": "9.409803474547282",
          "y": "9.366914789507353"
         },
         {
          "x": "9.468308862901136",
          "y": "10.34280435013599"
         },
         {
          "x": "8.984865420138902",
          "y": "9.952413468030802"
         },
         {
          "x": "9.444187269718297",
          "y": "10.512497129327015"
         },
         {
          "x": "9.727976703312907",
          "y": "10.967671000998546"
         },
         {
          "x": "9.578462693001855",
          "y": "10.521600811435952"
         },
         {
          "x": "9.529178356617734",
          "y": "9.202801089608535"
         },
         {
          "x": "6.27150589359451",
          "y": "10.508509647896455"
         },
         {
          "x": "8.423196213537919",
          "y": "8.743096076844651"
         },
         {
          "x": "8.867690995949813",
          "y": "9.473625680324867"
         },
         {
          "x": "9.779897781913682",
          "y": "10.11500303020906"
         },
         {
          "x": "11.016122349948425",
          "y": "10.602359055406394"
         },
         {
          "x": "8.667069055831735",
          "y": "8.17443132733163"
         },
         {
          "x": "5.616544144706556",
          "y": "8.85659661227909"
         },
         {
          "x": "10.234420522463203",
          "y": "12.821323425496894"
         },
         {
          "x": "9.663328614902595",
          "y": "8.608180893801341"
         },
         {
          "x": "8.691884543111664",
          "y": "10.221431822122536"
         },
         {
          "x": "7.950921933963571",
          "y": "7.381702623513462"
         },
         {
          "x": "9.704428409893653",
          "y": "10.96051691285064"
         },
         {
          "x": "6.880048964817433",
          "y": "8.730636055472448"
         },
         {
          "x": "10.27923424108138",
          "y": "9.948681832651806"
         },
         {
          "x": "7.583287108401027",
          "y": "9.432446926955667"
         },
         {
          "x": "8.731093174039488",
          "y": "8.51609101717873"
         },
         {
          "x": "6.994719572132437",
          "y": "10.485180393163693"
         },
         {
          "x": "9.186728617345894",
          "y": "10.338068786479639"
         },
         {
          "x": "8.889249053770296",
          "y": "8.858149722712366"
         },
         {
          "x": "9.330965764940904",
          "y": "11.615014080766517"
         },
         {
          "x": "10.706151841883315",
          "y": "10.857260877094326"
         }
        ]
       },
       "description": ".",
       "encoding": {
        "x": {
         "field": "x",
         "scale": {
          "zero": false
         },
         "type": "quantitative"
        },
        "y": {
         "field": "y",
         "scale": {
          "zero": false
         },
         "type": "quantitative"
        }
       },
       "height": 600,
       "mark": "circle",
       "title": "samples",
       "width": 800
      },
      "image/png": "[encoded data removed]"
     },
     "metadata": {},
     "output_type": "display_data"
    }
   ],
   "source": [
    "val samples = for (_ <- 0 until 100) yield bivariateNormal.sample()\n",
    "val dataFrame = DataFrame(Seq(\n",
    "    DataFrame.Column.ofContinuous(samples.map(sample => sample(0)), \"x\"), \n",
    "    DataFrame.Column.ofContinuous(samples.map(sample => sample(1)), \"y\")\n",
    "    )\n",
    ")\n",
    "\n",
    "dataFrame.plot.scatterPlot(\"x\", \"y\", \"samples\").show()"
   ]
  },
  {
   "cell_type": "markdown",
   "id": "8486ae3b-bd63-42bd-8008-da08416ae27c",
   "metadata": {},
   "source": [
    "We also need to define a proposal generator. We define a simple random walk proposal, which chooses the new direction and step length randomly."
   ]
  },
  {
   "cell_type": "code",
   "execution_count": 9,
   "id": "9994b0a4-0461-46eb-97ff-a9c1a9aa12bb",
   "metadata": {},
   "outputs": [],
   "source": [
    "def randomWalkProposal(x : State) : State =\n",
    "    val stepLength = 0.5\n",
    "    \n",
    "    val step = DenseVector(rng.nextGaussian() * stepLength, rng.nextGaussian() * stepLength)\n",
    "    x + step\n"
   ]
  },
  {
   "cell_type": "markdown",
   "id": "a0039678-188f-4e42-bb8e-4b8eafb7f060",
   "metadata": {},
   "source": [
    "Now we can draw samples using our sampler."
   ]
  },
  {
   "cell_type": "code",
   "execution_count": 10,
   "id": "b2486da4-bc84-4313-ba40-84bb1e393498",
   "metadata": {},
   "outputs": [],
   "source": [
    "val logger = new Logger()\n",
    "val samples = metropolisSampler(bivariateNormal.pdf, randomWalkProposal, DenseVector(10, 10), logger).take(500).toSeq"
   ]
  },
  {
   "cell_type": "markdown",
   "id": "ad5d0a68-ef1a-4c3d-8dd4-62d4db79dc37",
   "metadata": {},
   "source": [
    "Computing the mean and the covariance from the samples shows, that the samples approximate the target distribution rather well."
   ]
  },
  {
   "cell_type": "code",
   "execution_count": 11,
   "id": "3c8407b6-7e35-4fc0-be03-6ac4a7e475e4",
   "metadata": {},
   "outputs": [],
   "source": [
    "val mean = samples.reduce(_ + _) * (1.0 / samples.length)\n",
    "val cov = samples.map(x => (x - mean) * (x - mean).t).reduce((a, b) => a + b) * (1.0 / samples.length)"
   ]
  },
  {
   "cell_type": "code",
   "execution_count": 12,
   "id": "fba41136-a123-4490-9df2-d84f33548b4f",
   "metadata": {},
   "outputs": [
    {
     "name": "stdout",
     "output_type": "stream",
     "text": [
      "mean: DenseVector(9.112814236730559, 9.906015371951213) \n",
      "cov: 1.8746537793407188  0.6388488753197806  \n",
      "0.6388488753197806  0.7182574805784008  \n"
     ]
    }
   ],
   "source": [
    "println(s\"mean: $mean \\ncov: $cov\")"
   ]
  },
  {
   "cell_type": "markdown",
   "id": "4ce0d92f-9fd1-41c7-a82d-bbba7ab3ecfc",
   "metadata": {},
   "source": [
    "We can also check this also visually by plotting the samples:"
   ]
  },
  {
   "cell_type": "code",
   "execution_count": 13,
   "id": "11931863-36b8-4700-a888-ad0155a3e9dd",
   "metadata": {},
   "outputs": [
    {
     "data": {
      "application/vnd.vega.v5+json": {
       "$schema": "https://vega.github.io/schema/vega-lite/v5.json",
       "data": {
        "values": [
         {
          "x": "10.0",
          "y": "10.0"
         },
         {
          "x": "9.74453937451128",
          "y": "9.880698210370133"
         },
         {
          "x": "9.078110103385566",
          "y": "10.150805398942465"
         },
         {
          "x": "9.960507216629342",
          "y": "10.473067752474213"
         },
         {
          "x": "10.420692171102296",
          "y": "10.407126660749777"
         },
         {
          "x": "10.838770970853094",
          "y": "10.277652482145003"
         },
         {
          "x": "10.986031914252328",
          "y": "9.84918484791956"
         },
         {
          "x": "11.24692739370963",
          "y": "10.50421077240517"
         },
         {
          "x": "11.13964447105261",
          "y": "10.168888968591293"
         },
         {
          "x": "10.647996295279281",
          "y": "10.589171360317582"
         },
         {
          "x": "10.172044332806973",
          "y": "10.591256451335203"
         },
         {
          "x": "9.89010275003707",
          "y": "10.106470375928069"
         },
         {
          "x": "10.112793843357519",
          "y": "10.333872198282561"
         },
         {
          "x": "10.112793843357519",
          "y": "10.333872198282561"
         },
         {
          "x": "9.572360569131822",
          "y": "9.142411402042383"
         },
         {
          "x": "9.746328011772565",
          "y": "9.747263962117968"
         },
         {
          "x": "9.192300847539027",
          "y": "9.927230178714511"
         },
         {
          "x": "8.819354365798649",
          "y": "9.258079345538249"
         },
         {
          "x": "9.271158082584144",
          "y": "9.730469492809428"
         },
         {
          "x": "8.313471528252979",
          "y": "9.293055055086038"
         },
         {
          "x": "8.313471528252979",
          "y": "9.293055055086038"
         },
         {
          "x": "7.83479311454351",
          "y": "9.779921713400961"
         },
         {
          "x": "7.83479311454351",
          "y": "9.779921713400961"
         },
         {
          "x": "7.847199729727576",
          "y": "9.37342749521261"
         },
         {
          "x": "7.997857378094213",
          "y": "8.743792289643359"
         },
         {
          "x": "7.997857378094213",
          "y": "8.743792289643359"
         },
         {
          "x": "7.664337626079612",
          "y": "8.216277207849911"
         },
         {
          "x": "8.274654308504532",
          "y": "9.19853800760704"
         },
         {
          "x": "8.58127458554719",
          "y": "9.664434027393899"
         },
         {
          "x": "8.742121317539862",
          "y": "9.759926910421067"
         },
         {
          "x": "9.112890676258761",
          "y": "9.466264334833513"
         },
         {
          "x": "9.112890676258761",
          "y": "9.466264334833513"
         },
         {
          "x": "8.857087777075101",
          "y": "11.083713843921077"
         },
         {
          "x": "9.199555085510328",
          "y": "10.843499088589185"
         },
         {
          "x": "9.199555085510328",
          "y": "10.843499088589185"
         },
         {
          "x": "8.759523619753535",
          "y": "10.488766727447032"
         },
         {
          "x": "9.286674572335231",
          "y": "10.870163306422278"
         },
         {
          "x": "9.255148511626185",
          "y": "10.914682545576962"
         },
         {
          "x": "9.908167907088545",
          "y": "11.414390016670465"
         },
         {
          "x": "10.206833525042857",
          "y": "11.370998111182304"
         },
         {
          "x": "11.02636957388713",
          "y": "11.001430855352456"
         },
         {
          "x": "11.02636957388713",
          "y": "11.001430855352456"
         },
         {
          "x": "10.282407079031115",
          "y": "10.80320904266845"
         },
         {
          "x": "9.907086552017976",
          "y": "10.91897549593261"
         },
         {
          "x": "9.405996831417896",
          "y": "10.753936264270127"
         },
         {
          "x": "8.756634855647608",
          "y": "10.748305546532896"
         },
         {
          "x": "8.756634855647608",
          "y": "10.748305546532896"
         },
         {
          "x": "9.18297241856467",
          "y": "10.997812457363649"
         },
         {
          "x": "9.617428276439018",
          "y": "11.234795793875975"
         },
         {
          "x": "9.617428276439018",
          "y": "11.234795793875975"
         },
         {
          "x": "10.319842073661306",
          "y": "11.70723248056627"
         },
         {
          "x": "10.319842073661306",
          "y": "11.70723248056627"
         },
         {
          "x": "10.319842073661306",
          "y": "11.70723248056627"
         },
         {
          "x": "10.542290806413657",
          "y": "12.047189422849172"
         },
         {
          "x": "10.79674604654963",
          "y": "11.313573515237316"
         },
         {
          "x": "10.323656285954025",
          "y": "11.374428938136933"
         },
         {
          "x": "9.885586797830625",
          "y": "11.69408469587959"
         },
         {
          "x": "9.885586797830625",
          "y": "11.69408469587959"
         },
         {
          "x": "9.885586797830625",
          "y": "11.69408469587959"
         },
         {
          "x": "10.036243386606587",
          "y": "11.7747533515332"
         },
         {
          "x": "10.788252708017676",
          "y": "11.402529857361776"
         },
         {
          "x": "10.673706750916626",
          "y": "11.589585141918771"
         },
         {
          "x": "9.940778336103136",
          "y": "10.86296682257658"
         },
         {
          "x": "9.78360071272917",
          "y": "10.755951095312474"
         },
         {
          "x": "9.834689379727585",
          "y": "10.274819400663553"
         },
         {
          "x": "9.437532700045518",
          "y": "11.229738872096585"
         },
         {
          "x": "9.437532700045518",
          "y": "11.229738872096585"
         },
         {
          "x": "9.437532700045518",
          "y": "11.229738872096585"
         },
         {
          "x": "9.936602005176937",
          "y": "10.528238582785278"
         },
         {
          "x": "10.203295098805135",
          "y": "10.911239557757634"
         },
         {
          "x": "10.671628562648982",
          "y": "9.818810096747498"
         },
         {
          "x": "10.147404735939993",
          "y": "9.844691642701187"
         },
         {
          "x": "10.549122545736369",
          "y": "10.365619322130831"
         },
         {
          "x": "9.951726769253167",
          "y": "9.892680219055228"
         },
         {
          "x": "10.76726037347771",
          "y": "11.00176089904671"
         },
         {
          "x": "10.562099082767638",
          "y": "10.619042623996194"
         },
         {
          "x": "10.645202154824577",
          "y": "10.368919807000491"
         },
         {
          "x": "9.579203533697642",
          "y": "9.984970247069121"
         },
         {
          "x": "10.043908485488327",
          "y": "9.895710988601957"
         },
         {
          "x": "9.595351148901939",
          "y": "9.61338768606406"
         },
         {
          "x": "9.187135823338467",
          "y": "10.200392531429442"
         },
         {
          "x": "9.00632410687676",
          "y": "10.22452885906913"
         },
         {
          "x": "9.00632410687676",
          "y": "10.22452885906913"
         },
         {
          "x": "8.331550702006894",
          "y": "9.942829632197324"
         },
         {
          "x": "8.580542528886284",
          "y": "9.990464764629984"
         },
         {
          "x": "8.580542528886284",
          "y": "9.990464764629984"
         },
         {
          "x": "8.580542528886284",
          "y": "9.990464764629984"
         },
         {
          "x": "8.580542528886284",
          "y": "9.990464764629984"
         },
         {
          "x": "8.699375773964517",
          "y": "9.17069841024335"
         },
         {
          "x": "9.378629296791768",
          "y": "9.677014089438542"
         },
         {
          "x": "9.378629296791768",
          "y": "9.677014089438542"
         },
         {
          "x": "9.167081364953445",
          "y": "9.869502599065886"
         },
         {
          "x": "9.56627188550185",
          "y": "9.401579725156056"
         },
         {
          "x": "9.56627188550185",
          "y": "9.401579725156056"
         },
         {
          "x": "8.915061138597746",
          "y": "9.01320011332874"
         },
         {
          "x": "9.084929219718282",
          "y": "9.44162905604398"
         },
         {
          "x": "9.141557423766097",
          "y": "9.360949828228055"
         },
         {
          "x": "8.40639690902334",
          "y": "9.640696509224034"
         },
         {
          "x": "8.863091058528832",
          "y": "10.100837861648902"
         },
         {
          "x": "8.96482551570568",
          "y": "9.554873096346235"
         },
         {
          "x": "8.96482551570568",
          "y": "9.554873096346235"
         },
         {
          "x": "8.844789950344522",
          "y": "9.848090121543866"
         },
         {
          "x": "8.937590242014643",
          "y": "10.214477045365632"
         },
         {
          "x": "9.737986655904983",
          "y": "9.75685633046571"
         },
         {
          "x": "9.942141190394432",
          "y": "9.259925441215668"
         },
         {
          "x": "8.949998288060804",
          "y": "10.104923102576013"
         },
         {
          "x": "9.336070296543282",
          "y": "10.022991851434062"
         },
         {
          "x": "10.137167144713828",
          "y": "10.169013488897463"
         },
         {
          "x": "9.717265636998292",
          "y": "10.497327785614884"
         },
         {
          "x": "8.866195896718436",
          "y": "10.45586184750285"
         },
         {
          "x": "8.94199691345409",
          "y": "10.137485128885213"
         },
         {
          "x": "9.691175327297573",
          "y": "10.976523201637024"
         },
         {
          "x": "9.478203148183146",
          "y": "11.284950599660498"
         },
         {
          "x": "9.478203148183146",
          "y": "11.284950599660498"
         },
         {
          "x": "9.716376944025512",
          "y": "10.907811787624146"
         },
         {
          "x": "10.321760709575047",
          "y": "10.891952371049616"
         },
         {
          "x": "10.321760709575047",
          "y": "10.891952371049616"
         },
         {
          "x": "10.06620964658093",
          "y": "11.61906202992669"
         },
         {
          "x": "10.282629234428278",
          "y": "12.017508234405376"
         },
         {
          "x": "10.282629234428278",
          "y": "12.017508234405376"
         },
         {
          "x": "10.282629234428278",
          "y": "12.017508234405376"
         },
         {
          "x": "10.424166917243825",
          "y": "11.861758397988186"
         },
         {
          "x": "10.981975505757715",
          "y": "11.32192923522715"
         },
         {
          "x": "10.516561350937113",
          "y": "10.353797336174692"
         },
         {
          "x": "10.550704089042876",
          "y": "9.980841633297986"
         },
         {
          "x": "10.890296906564934",
          "y": "9.783878018600575"
         },
         {
          "x": "10.564287636766482",
          "y": "10.419316083139533"
         },
         {
          "x": "10.388637317764049",
          "y": "10.096494263171161"
         },
         {
          "x": "10.546238719594802",
          "y": "10.104886596323311"
         },
         {
          "x": "10.42974394893852",
          "y": "9.963053946587676"
         },
         {
          "x": "10.911096591486181",
          "y": "9.843082582251235"
         },
         {
          "x": "11.249770685424016",
          "y": "10.571287948861688"
         },
         {
          "x": "11.009696461931465",
          "y": "11.451559781598892"
         },
         {
          "x": "11.009696461931465",
          "y": "11.451559781598892"
         },
         {
          "x": "10.90592482210088",
          "y": "11.353587030781224"
         },
         {
          "x": "11.114720464129647",
          "y": "11.365555225040051"
         },
         {
          "x": "11.21849506461537",
          "y": "11.213823329510547"
         },
         {
          "x": "11.35210489913699",
          "y": "11.326457296176596"
         },
         {
          "x": "11.9643856131015",
          "y": "11.329623427916523"
         },
         {
          "x": "11.9643856131015",
          "y": "11.329623427916523"
         },
         {
          "x": "11.105620365584157",
          "y": "11.28224974644018"
         },
         {
          "x": "11.752774932556989",
          "y": "11.201259689887811"
         },
         {
          "x": "11.752774932556989",
          "y": "11.201259689887811"
         },
         {
          "x": "11.837949699224174",
          "y": "11.309305732798027"
         },
         {
          "x": "11.961112327079686",
          "y": "10.642900767041956"
         },
         {
          "x": "11.961112327079686",
          "y": "10.642900767041956"
         },
         {
          "x": "11.571832909476464",
          "y": "11.134329607298636"
         },
         {
          "x": "11.571832909476464",
          "y": "11.134329607298636"
         },
         {
          "x": "11.026997224182686",
          "y": "10.723233685512641"
         },
         {
          "x": "11.026997224182686",
          "y": "10.723233685512641"
         },
         {
          "x": "10.780208402965835",
          "y": "10.357557569813554"
         },
         {
          "x": "10.479965010050726",
          "y": "10.014547978793832"
         },
         {
          "x": "10.268891629310389",
          "y": "10.371354717259107"
         },
         {
          "x": "11.351995542599088",
          "y": "11.607332924375482"
         },
         {
          "x": "10.357806874562767",
          "y": "11.122175015707324"
         },
         {
          "x": "9.737776488639492",
          "y": "11.083434228989459"
         },
         {
          "x": "9.830250596917672",
          "y": "11.446671888377908"
         },
         {
          "x": "10.377666583110194",
          "y": "11.269292508411162"
         },
         {
          "x": "10.88143455679674",
          "y": "11.0355259875783"
         },
         {
          "x": "10.428081719013734",
          "y": "10.42331973193797"
         },
         {
          "x": "10.33700787396548",
          "y": "10.277761038632992"
         },
         {
          "x": "10.33700787396548",
          "y": "10.277761038632992"
         },
         {
          "x": "10.427087206356692",
          "y": "10.502031456983465"
         },
         {
          "x": "9.870922244579093",
          "y": "10.556859440743164"
         },
         {
          "x": "9.607439245696092",
          "y": "10.743893116752812"
         },
         {
          "x": "9.378622872699795",
          "y": "10.913728594857456"
         },
         {
          "x": "9.378622872699795",
          "y": "10.913728594857456"
         },
         {
          "x": "9.687837791888656",
          "y": "10.34994730058447"
         },
         {
          "x": "9.687837791888656",
          "y": "10.34994730058447"
         },
         {
          "x": "9.621783295717032",
          "y": "9.901555239057556"
         },
         {
          "x": "10.148526759608677",
          "y": "9.7120372673426"
         },
         {
          "x": "9.819541234135727",
          "y": "9.151267927755114"
         },
         {
          "x": "9.819541234135727",
          "y": "9.151267927755114"
         },
         {
          "x": "9.71549200722503",
          "y": "9.551089718745551"
         },
         {
          "x": "9.194801286370769",
          "y": "9.39954669286209"
         },
         {
          "x": "9.806239297509268",
          "y": "9.384047532151538"
         },
         {
          "x": "9.670581110385607",
          "y": "8.773184088297233"
         },
         {
          "x": "9.814023521199733",
          "y": "8.906813820909239"
         },
         {
          "x": "8.347304978065864",
          "y": "9.060170550532542"
         },
         {
          "x": "8.86945221507892",
          "y": "10.156101068494472"
         },
         {
          "x": "8.845878802787103",
          "y": "9.810974332274142"
         },
         {
          "x": "8.923330766520621",
          "y": "9.517658758631931"
         },
         {
          "x": "9.011125681363428",
          "y": "9.92628120775992"
         },
         {
          "x": "8.21739875537016",
          "y": "9.805063192342006"
         },
         {
          "x": "8.596937948954258",
          "y": "9.485722816969837"
         },
         {
          "x": "8.99103279631349",
          "y": "9.229256136366507"
         },
         {
          "x": "9.7041399387873",
          "y": "9.010485509937658"
         },
         {
          "x": "9.09259288850669",
          "y": "8.917886393501501"
         },
         {
          "x": "8.9111068890652",
          "y": "9.306836625462582"
         },
         {
          "x": "7.688749113882342",
          "y": "9.749455520700533"
         },
         {
          "x": "7.94331628868805",
          "y": "9.917333750281905"
         },
         {
          "x": "7.434615978385143",
          "y": "9.73726594786505"
         },
         {
          "x": "8.255606370829407",
          "y": "8.516389036729015"
         },
         {
          "x": "8.300811165990671",
          "y": "8.830710285834485"
         },
         {
          "x": "8.586415169620912",
          "y": "9.385939676328682"
         },
         {
          "x": "8.586415169620912",
          "y": "9.385939676328682"
         },
         {
          "x": "9.44605586438365",
          "y": "9.700186699795346"
         },
         {
          "x": "8.41411216707608",
          "y": "10.159440695955062"
         },
         {
          "x": "8.765912213975556",
          "y": "9.592745955060218"
         },
         {
          "x": "9.200537429178846",
          "y": "10.442049616504892"
         },
         {
          "x": "8.900636416745426",
          "y": "10.791466679668028"
         },
         {
          "x": "7.872329795117935",
          "y": "9.927117247740544"
         },
         {
          "x": "7.907323369242075",
          "y": "9.96254120741356"
         },
         {
          "x": "7.633303357834885",
          "y": "9.653124225736516"
         },
         {
          "x": "7.633303357834885",
          "y": "9.653124225736516"
         },
         {
          "x": "7.608816779477141",
          "y": "9.00562446118205"
         },
         {
          "x": "8.199643538742151",
          "y": "8.520127664272927"
         },
         {
          "x": "7.496792857209915",
          "y": "8.540883817810922"
         },
         {
          "x": "7.496792857209915",
          "y": "8.540883817810922"
         },
         {
          "x": "7.826391251146833",
          "y": "9.431372637583813"
         },
         {
          "x": "9.20317010389914",
          "y": "10.27284376658546"
         },
         {
          "x": "9.0848829329877",
          "y": "9.914915213656634"
         },
         {
          "x": "7.866803116682406",
          "y": "10.560555094890294"
         },
         {
          "x": "7.561569440894981",
          "y": "9.83688253896234"
         },
         {
          "x": "7.561569440894981",
          "y": "9.83688253896234"
         },
         {
          "x": "8.220120916519576",
          "y": "9.86231911752182"
         },
         {
          "x": "8.780170076888282",
          "y": "10.164054533100998"
         },
         {
          "x": "8.664481761863254",
          "y": "9.662202256168287"
         },
         {
          "x": "8.664481761863254",
          "y": "9.662202256168287"
         },
         {
          "x": "8.808998244597724",
          "y": "8.352295779507811"
         },
         {
          "x": "8.600619335618699",
          "y": "7.935216893695808"
         },
         {
          "x": "9.042988486603354",
          "y": "8.633986083077426"
         },
         {
          "x": "9.33666130568829",
          "y": "8.919146970488685"
         },
         {
          "x": "9.33666130568829",
          "y": "8.919146970488685"
         },
         {
          "x": "9.410454084401227",
          "y": "9.429642431769627"
         },
         {
          "x": "9.60591090705794",
          "y": "10.087928310465516"
         },
         {
          "x": "10.018977890794963",
          "y": "10.276191282454048"
         },
         {
          "x": "10.018977890794963",
          "y": "10.276191282454048"
         },
         {
          "x": "10.8415539275156",
          "y": "9.681402540032877"
         },
         {
          "x": "10.9529595559309",
          "y": "10.429023303170712"
         },
         {
          "x": "10.9529595559309",
          "y": "10.429023303170712"
         },
         {
          "x": "10.46411485636996",
          "y": "11.146159955329619"
         },
         {
          "x": "10.330332682022416",
          "y": "10.965136491819818"
         },
         {
          "x": "10.166485766200093",
          "y": "11.16496591956076"
         },
         {
          "x": "9.584520652060174",
          "y": "11.077361497757034"
         },
         {
          "x": "9.584520652060174",
          "y": "11.077361497757034"
         },
         {
          "x": "9.584520652060174",
          "y": "11.077361497757034"
         },
         {
          "x": "9.584520652060174",
          "y": "11.077361497757034"
         },
         {
          "x": "9.872954716617674",
          "y": "11.138588091882994"
         },
         {
          "x": "9.971325655670517",
          "y": "10.171130539915783"
         },
         {
          "x": "9.943005023206593",
          "y": "10.481851629487533"
         },
         {
          "x": "9.943005023206593",
          "y": "10.481851629487533"
         },
         {
          "x": "9.943005023206593",
          "y": "10.481851629487533"
         },
         {
          "x": "10.396849717874934",
          "y": "10.534275007166135"
         },
         {
          "x": "11.038147132171165",
          "y": "10.256185147665944"
         },
         {
          "x": "11.038147132171165",
          "y": "10.256185147665944"
         },
         {
          "x": "11.038147132171165",
          "y": "10.256185147665944"
         },
         {
          "x": "11.038147132171165",
          "y": "10.256185147665944"
         },
         {
          "x": "11.038147132171165",
          "y": "10.256185147665944"
         },
         {
          "x": "9.881157483362044",
          "y": "10.78679601791258"
         },
         {
          "x": "9.881157483362044",
          "y": "10.78679601791258"
         },
         {
          "x": "9.881157483362044",
          "y": "10.78679601791258"
         },
         {
          "x": "9.881157483362044",
          "y": "10.78679601791258"
         },
         {
          "x": "9.881157483362044",
          "y": "10.78679601791258"
         },
         {
          "x": "10.380424531232467",
          "y": "11.059597429873882"
         },
         {
          "x": "10.47639620438684",
          "y": "10.689114199031879"
         },
         {
          "x": "10.69052303347565",
          "y": "10.23119911654118"
         },
         {
          "x": "11.040569043640875",
          "y": "9.49243812931347"
         },
         {
          "x": "11.040569043640875",
          "y": "9.49243812931347"
         },
         {
          "x": "11.53574574270944",
          "y": "9.539355712338734"
         },
         {
          "x": "11.843401405336806",
          "y": "9.934505699863914"
         },
         {
          "x": "12.086540392460138",
          "y": "10.181590781848316"
         },
         {
          "x": "12.086540392460138",
          "y": "10.181590781848316"
         },
         {
          "x": "12.13032055243317",
          "y": "10.737772408685974"
         },
         {
          "x": "12.311047544116724",
          "y": "10.940505636909837"
         },
         {
          "x": "12.11308441540767",
          "y": "11.022469549032964"
         },
         {
          "x": "12.11308441540767",
          "y": "11.022469549032964"
         },
         {
          "x": "12.11308441540767",
          "y": "11.022469549032964"
         },
         {
          "x": "12.11308441540767",
          "y": "11.022469549032964"
         },
         {
          "x": "11.626713760019811",
          "y": "11.307467280634437"
         },
         {
          "x": "11.9285245028458",
          "y": "10.89076551755927"
         },
         {
          "x": "11.39945530758821",
          "y": "10.932308458086279"
         },
         {
          "x": "11.196719120782346",
          "y": "10.733713649447987"
         },
         {
          "x": "10.98372963780598",
          "y": "10.351917500527495"
         },
         {
          "x": "10.98372963780598",
          "y": "10.351917500527495"
         },
         {
          "x": "10.314744461849786",
          "y": "10.60091547826169"
         },
         {
          "x": "10.204309689658919",
          "y": "10.194423035038248"
         },
         {
          "x": "10.204309689658919",
          "y": "10.194423035038248"
         },
         {
          "x": "9.881462301568183",
          "y": "10.697955727284175"
         },
         {
          "x": "10.214834992379862",
          "y": "10.795874925177467"
         },
         {
          "x": "9.686848179103844",
          "y": "10.579320321586305"
         },
         {
          "x": "9.476962703080188",
          "y": "10.418718915812814"
         },
         {
          "x": "9.605283026603363",
          "y": "9.519717509969553"
         },
         {
          "x": "9.049365710622114",
          "y": "9.163606869589017"
         },
         {
          "x": "9.073262660932526",
          "y": "9.71360722040561"
         },
         {
          "x": "9.122957515370707",
          "y": "9.869870235926465"
         },
         {
          "x": "9.122957515370707",
          "y": "9.869870235926465"
         },
         {
          "x": "9.469504772897537",
          "y": "9.517718505371471"
         },
         {
          "x": "8.944720474471863",
          "y": "8.650848110135831"
         },
         {
          "x": "8.944720474471863",
          "y": "8.650848110135831"
         },
         {
          "x": "9.225328378757414",
          "y": "8.820756348618595"
         },
         {
          "x": "8.85760033451483",
          "y": "9.052214307090583"
         },
         {
          "x": "9.71475251894565",
          "y": "8.946456315526607"
         },
         {
          "x": "9.577916277435316",
          "y": "8.874935804840783"
         },
         {
          "x": "9.577916277435316",
          "y": "8.874935804840783"
         },
         {
          "x": "9.394552510988948",
          "y": "8.749627273911472"
         },
         {
          "x": "9.250950647849828",
          "y": "9.070469449473066"
         },
         {
          "x": "9.294699061467385",
          "y": "9.474936061170421"
         },
         {
          "x": "9.211744447762099",
          "y": "9.826019978544117"
         },
         {
          "x": "9.135519420947656",
          "y": "9.785411556347775"
         },
         {
          "x": "9.578511580501944",
          "y": "9.651429803429831"
         },
         {
          "x": "8.827837065848561",
          "y": "9.33238940861095"
         },
         {
          "x": "7.9499012678614465",
          "y": "9.404177753105593"
         },
         {
          "x": "8.608573099635207",
          "y": "9.266982015221554"
         },
         {
          "x": "9.444301435702398",
          "y": "9.626578033947618"
         },
         {
          "x": "8.929277933695461",
          "y": "9.362439767641334"
         },
         {
          "x": "8.929277933695461",
          "y": "9.362439767641334"
         },
         {
          "x": "8.66128540452586",
          "y": "10.164712213454717"
         },
         {
          "x": "8.534371830712308",
          "y": "10.60207677656238"
         },
         {
          "x": "8.108646831362304",
          "y": "10.320958245086825"
         },
         {
          "x": "8.340701088306158",
          "y": "9.938480910924925"
         },
         {
          "x": "8.232007856704815",
          "y": "9.895845596282404"
         },
         {
          "x": "8.016364382955098",
          "y": "9.827574459372745"
         },
         {
          "x": "8.678168488412672",
          "y": "10.60714422523373"
         },
         {
          "x": "8.57591418134552",
          "y": "9.322150394999309"
         },
         {
          "x": "8.57591418134552",
          "y": "9.322150394999309"
         },
         {
          "x": "8.57591418134552",
          "y": "9.322150394999309"
         },
         {
          "x": "8.431136086996695",
          "y": "9.389950754051332"
         },
         {
          "x": "9.46648571395671",
          "y": "8.967877976559762"
         },
         {
          "x": "10.137021079529937",
          "y": "8.97842610069369"
         },
         {
          "x": "10.137021079529937",
          "y": "8.97842610069369"
         },
         {
          "x": "9.381812440820292",
          "y": "8.938995969590486"
         },
         {
          "x": "9.381812440820292",
          "y": "8.938995969590486"
         },
         {
          "x": "8.737858749410758",
          "y": "8.504918013499527"
         },
         {
          "x": "7.719198686730634",
          "y": "9.190221553985698"
         },
         {
          "x": "7.605484725120129",
          "y": "9.54294308403046"
         },
         {
          "x": "7.0048800961565325",
          "y": "9.78202246114064"
         },
         {
          "x": "7.383145786949555",
          "y": "9.618645397629384"
         },
         {
          "x": "7.383145786949555",
          "y": "9.618645397629384"
         },
         {
          "x": "7.383145786949555",
          "y": "9.618645397629384"
         },
         {
          "x": "7.383145786949555",
          "y": "9.618645397629384"
         },
         {
          "x": "6.883604483362982",
          "y": "9.333263046929337"
         },
         {
          "x": "6.335889706091126",
          "y": "9.272623127629078"
         },
         {
          "x": "6.335889706091126",
          "y": "9.272623127629078"
         },
         {
          "x": "6.335889706091126",
          "y": "9.272623127629078"
         },
         {
          "x": "6.335889706091126",
          "y": "9.272623127629078"
         },
         {
          "x": "5.806450796933689",
          "y": "8.72553477284115"
         },
         {
          "x": "5.425866992694041",
          "y": "9.09698611318128"
         },
         {
          "x": "5.751347559955321",
          "y": "9.155374072907087"
         },
         {
          "x": "5.630493310526356",
          "y": "9.07119585473289"
         },
         {
          "x": "5.769284182849511",
          "y": "10.149356317309126"
         },
         {
          "x": "5.932779195904083",
          "y": "10.075463901707268"
         },
         {
          "x": "6.250179093712662",
          "y": "9.334310815089394"
         },
         {
          "x": "6.250179093712662",
          "y": "9.334310815089394"
         },
         {
          "x": "6.250179093712662",
          "y": "9.334310815089394"
         },
         {
          "x": "6.802286364990963",
          "y": "9.56523003635299"
         },
         {
          "x": "6.647223274224018",
          "y": "9.785313848835509"
         },
         {
          "x": "6.951226982392243",
          "y": "9.761578161848995"
         },
         {
          "x": "6.778693266205915",
          "y": "10.031061185956014"
         },
         {
          "x": "7.126192552076402",
          "y": "9.84576306586508"
         },
         {
          "x": "7.090464319194184",
          "y": "9.848084353598601"
         },
         {
          "x": "7.090464319194184",
          "y": "9.848084353598601"
         },
         {
          "x": "6.702620977128014",
          "y": "9.264264972510029"
         },
         {
          "x": "7.858757038675601",
          "y": "10.090906937879243"
         },
         {
          "x": "7.858757038675601",
          "y": "10.090906937879243"
         },
         {
          "x": "7.858757038675601",
          "y": "10.090906937879243"
         },
         {
          "x": "7.780624970267389",
          "y": "9.84462070386729"
         },
         {
          "x": "7.547308352892121",
          "y": "9.868497703910803"
         },
         {
          "x": "8.060935914591205",
          "y": "9.262793209458193"
         },
         {
          "x": "7.787680476349378",
          "y": "9.787311883412695"
         },
         {
          "x": "7.787680476349378",
          "y": "9.787311883412695"
         },
         {
          "x": "7.905452119001562",
          "y": "9.700036898045504"
         },
         {
          "x": "7.119833508008751",
          "y": "9.147226283749138"
         },
         {
          "x": "7.289120849299567",
          "y": "9.237657611069409"
         },
         {
          "x": "8.201470567847103",
          "y": "9.267107813703934"
         },
         {
          "x": "7.766461206597362",
          "y": "8.761025870420832"
         },
         {
          "x": "7.766461206597362",
          "y": "8.761025870420832"
         },
         {
          "x": "8.01835083057765",
          "y": "9.56182985858712"
         },
         {
          "x": "7.939494685956521",
          "y": "9.326323485928516"
         },
         {
          "x": "8.228451747002572",
          "y": "9.76842177231212"
         },
         {
          "x": "8.376009366593639",
          "y": "10.267614235285912"
         },
         {
          "x": "8.73245170100974",
          "y": "10.39963675141086"
         },
         {
          "x": "8.73245170100974",
          "y": "10.39963675141086"
         },
         {
          "x": "8.572008136314267",
          "y": "10.676484819318194"
         },
         {
          "x": "8.078755692433615",
          "y": "9.905363552496215"
         },
         {
          "x": "8.238583839092607",
          "y": "9.918788356860958"
         },
         {
          "x": "7.908152800631184",
          "y": "8.675175165823353"
         },
         {
          "x": "7.252243940346565",
          "y": "9.093073981612921"
         },
         {
          "x": "6.542240176606944",
          "y": "8.585536400879006"
         },
         {
          "x": "6.542240176606944",
          "y": "8.585536400879006"
         },
         {
          "x": "6.542240176606944",
          "y": "8.585536400879006"
         },
         {
          "x": "6.643260993780132",
          "y": "8.269726886046294"
         },
         {
          "x": "7.277903084241125",
          "y": "7.5211647528607095"
         },
         {
          "x": "7.19860617943734",
          "y": "7.284015256253482"
         },
         {
          "x": "6.9068815667319745",
          "y": "7.40981084497303"
         },
         {
          "x": "6.470614780065468",
          "y": "8.239800731218732"
         },
         {
          "x": "6.470614780065468",
          "y": "8.239800731218732"
         },
         {
          "x": "6.773751455615404",
          "y": "9.33564547203027"
         },
         {
          "x": "6.951172152138903",
          "y": "8.67624044310102"
         },
         {
          "x": "6.951172152138903",
          "y": "8.67624044310102"
         },
         {
          "x": "8.049188539146597",
          "y": "8.55058389792411"
         },
         {
          "x": "7.173981131547324",
          "y": "8.214666012168813"
         },
         {
          "x": "7.316722670191092",
          "y": "7.972801227020528"
         },
         {
          "x": "6.648542407022828",
          "y": "8.7743239284075"
         },
         {
          "x": "6.648542407022828",
          "y": "8.7743239284075"
         },
         {
          "x": "6.919647827662873",
          "y": "9.009192490555943"
         },
         {
          "x": "6.919647827662873",
          "y": "9.009192490555943"
         },
         {
          "x": "7.083791241960454",
          "y": "9.883725987133099"
         },
         {
          "x": "7.083791241960454",
          "y": "9.883725987133099"
         },
         {
          "x": "7.761409096990879",
          "y": "9.72728485159391"
         },
         {
          "x": "7.238947456900998",
          "y": "9.869923050613846"
         },
         {
          "x": "8.095451908088892",
          "y": "9.825428832685635"
         },
         {
          "x": "8.095451908088892",
          "y": "9.825428832685635"
         },
         {
          "x": "8.095451908088892",
          "y": "9.825428832685635"
         },
         {
          "x": "8.095451908088892",
          "y": "9.825428832685635"
         },
         {
          "x": "7.402831580674919",
          "y": "9.6210926377964"
         },
         {
          "x": "6.967721107885182",
          "y": "9.59868143741445"
         },
         {
          "x": "7.464155714370937",
          "y": "9.132669787826808"
         },
         {
          "x": "7.3653370417908945",
          "y": "9.284019230778277"
         },
         {
          "x": "8.113043916191081",
          "y": "9.038579412399875"
         },
         {
          "x": "8.113043916191081",
          "y": "9.038579412399875"
         },
         {
          "x": "7.158083657755089",
          "y": "9.350332214660162"
         },
         {
          "x": "7.158083657755089",
          "y": "9.350332214660162"
         },
         {
          "x": "7.171347611520759",
          "y": "9.568598737296224"
         },
         {
          "x": "7.171347611520759",
          "y": "9.568598737296224"
         },
         {
          "x": "6.967888393002008",
          "y": "9.676500232209008"
         },
         {
          "x": "6.967888393002008",
          "y": "9.676500232209008"
         },
         {
          "x": "7.584345634993375",
          "y": "9.729089609053778"
         },
         {
          "x": "7.485777206794427",
          "y": "9.537999984376821"
         },
         {
          "x": "7.846166065744126",
          "y": "10.301300020959292"
         },
         {
          "x": "7.959149408627947",
          "y": "10.566712392220703"
         },
         {
          "x": "7.959149408627947",
          "y": "10.566712392220703"
         },
         {
          "x": "7.8936233021137",
          "y": "10.086142770376856"
         },
         {
          "x": "7.8936233021137",
          "y": "10.086142770376856"
         },
         {
          "x": "7.940091099014169",
          "y": "10.33781473877385"
         },
         {
          "x": "7.892052409657446",
          "y": "10.40269879495155"
         },
         {
          "x": "8.007297116938155",
          "y": "9.904650158755222"
         },
         {
          "x": "8.122140881414172",
          "y": "9.370685436641951"
         },
         {
          "x": "7.497654005331574",
          "y": "9.485692761703733"
         },
         {
          "x": "7.497654005331574",
          "y": "9.485692761703733"
         },
         {
          "x": "8.154435440327",
          "y": "9.337838780204187"
         },
         {
          "x": "8.073629177661006",
          "y": "9.719098594328928"
         },
         {
          "x": "8.644571233401706",
          "y": "9.358008808049078"
         },
         {
          "x": "8.508008135115825",
          "y": "9.28563729577046"
         },
         {
          "x": "8.045817752859973",
          "y": "9.558750247907218"
         },
         {
          "x": "7.754218790727879",
          "y": "10.070973990362438"
         },
         {
          "x": "7.735258059870599",
          "y": "9.87058680916424"
         },
         {
          "x": "7.51715517573745",
          "y": "9.21090306571551"
         },
         {
          "x": "7.4542720830160185",
          "y": "8.959246453866749"
         },
         {
          "x": "7.516531795410084",
          "y": "8.219397787519789"
         },
         {
          "x": "8.409754507268598",
          "y": "8.646317962557205"
         },
         {
          "x": "9.081609256091085",
          "y": "8.902103473404074"
         },
         {
          "x": "9.081609256091085",
          "y": "8.902103473404074"
         },
         {
          "x": "9.331435412523012",
          "y": "8.766933610333076"
         },
         {
          "x": "9.294559628211251",
          "y": "9.098106826233508"
         },
         {
          "x": "9.144908072140154",
          "y": "8.963211718580924"
         },
         {
          "x": "9.464286029681311",
          "y": "9.338558842893882"
         },
         {
          "x": "9.45747985369652",
          "y": "9.589648295848756"
         },
         {
          "x": "9.45747985369652",
          "y": "9.589648295848756"
         },
         {
          "x": "9.45747985369652",
          "y": "9.589648295848756"
         },
         {
          "x": "8.960003599299316",
          "y": "9.560799376692566"
         },
         {
          "x": "9.685892396836307",
          "y": "9.700014853819175"
         },
         {
          "x": "9.685892396836307",
          "y": "9.700014853819175"
         },
         {
          "x": "9.77086546060761",
          "y": "9.418414391453416"
         },
         {
          "x": "9.171122647573755",
          "y": "9.307282081875918"
         },
         {
          "x": "9.301256721150414",
          "y": "9.080022316035217"
         },
         {
          "x": "9.178986364283283",
          "y": "8.732414858175229"
         },
         {
          "x": "9.67216624506601",
          "y": "8.494320448207414"
         },
         {
          "x": "9.811137279241139",
          "y": "8.6368939863562"
         },
         {
          "x": "9.66412801349097",
          "y": "8.845254204050855"
         },
         {
          "x": "10.292360754710376",
          "y": "9.131220497409206"
         },
         {
          "x": "10.278806940988128",
          "y": "9.5162675732116"
         },
         {
          "x": "9.918241920981151",
          "y": "9.179411926477925"
         },
         {
          "x": "9.948438668296196",
          "y": "8.785528124523875"
         },
         {
          "x": "9.948438668296196",
          "y": "8.785528124523875"
         },
         {
          "x": "10.723733605729992",
          "y": "8.95528694107911"
         },
         {
          "x": "10.831777794444468",
          "y": "8.46344201840593"
         },
         {
          "x": "9.842654923353741",
          "y": "8.210756217002285"
         },
         {
          "x": "9.695191952310996",
          "y": "9.077859037763995"
         },
         {
          "x": "9.473217533426393",
          "y": "9.795645134713613"
         },
         {
          "x": "9.904270026206353",
          "y": "9.997469548204696"
         },
         {
          "x": "9.600366768270353",
          "y": "10.088086294468429"
         },
         {
          "x": "9.728628627146131",
          "y": "9.666995040008977"
         },
         {
          "x": "9.77231712094653",
          "y": "9.757007228271275"
         },
         {
          "x": "9.59166256288128",
          "y": "9.496871918860231"
         },
         {
          "x": "9.283717028057357",
          "y": "9.306921444486767"
         },
         {
          "x": "9.131969882310095",
          "y": "10.115855777263642"
         },
         {
          "x": "9.52221700419193",
          "y": "9.727321295406933"
         },
         {
          "x": "9.785065416412488",
          "y": "9.939253454718937"
         },
         {
          "x": "10.190193964804575",
          "y": "9.919637322060305"
         },
         {
          "x": "9.71571849530033",
          "y": "10.008865645539881"
         },
         {
          "x": "9.226312313904439",
          "y": "9.814552979134964"
         },
         {
          "x": "9.33764542637202",
          "y": "9.107024984070897"
         },
         {
          "x": "9.19960224392751",
          "y": "8.830139915505645"
         },
         {
          "x": "9.40941310210987",
          "y": "8.62345786888147"
         },
         {
          "x": "8.810551376044327",
          "y": "8.876628172550607"
         },
         {
          "x": "8.810551376044327",
          "y": "8.876628172550607"
         },
         {
          "x": "8.810551376044327",
          "y": "8.876628172550607"
         },
         {
          "x": "8.643380501181015",
          "y": "8.787787049107154"
         },
         {
          "x": "8.06155602780088",
          "y": "9.235904464576631"
         },
         {
          "x": "7.979069151109804",
          "y": "9.639350696374516"
         },
         {
          "x": "8.09228574461351",
          "y": "9.82964626542866"
         },
         {
          "x": "8.09228574461351",
          "y": "9.82964626542866"
         },
         {
          "x": "8.35006275597073",
          "y": "9.663761149672661"
         },
         {
          "x": "8.289700686003622",
          "y": "10.210274605625509"
         },
         {
          "x": "8.577961413426735",
          "y": "9.907307152363646"
         },
         {
          "x": "8.264575873308686",
          "y": "10.236735666610132"
         },
         {
          "x": "8.139588419588256",
          "y": "9.503256390429522"
         },
         {
          "x": "8.139588419588256",
          "y": "9.503256390429522"
         },
         {
          "x": "8.404604800310615",
          "y": "9.704130163266802"
         }
        ]
       },
       "description": ".",
       "encoding": {
        "x": {
         "field": "x",
         "scale": {
          "zero": false
         },
         "type": "quantitative"
        },
        "y": {
         "field": "y",
         "scale": {
          "zero": false
         },
         "type": "quantitative"
        }
       },
       "height": 600,
       "mark": "circle",
       "title": "samples",
       "width": 800
      },
      "image/png": "[encoded data removed]"
     },
     "metadata": {},
     "output_type": "display_data"
    }
   ],
   "source": [
    "val dataFrame = DataFrame(Seq(\n",
    "    DataFrame.Column.ofContinuous(samples.map(sample => sample(0)), \"x\"), \n",
    "    DataFrame.Column.ofContinuous(samples.map(sample => sample(1)), \"y\")\n",
    "    )\n",
    ")\n",
    "\n",
    "dataFrame.plot.scatterPlot(\"x\", \"y\", \"samples\").show()"
   ]
  },
  {
   "cell_type": "markdown",
   "id": "13981356-6e0a-4466-a21d-dc31e6886f64",
   "metadata": {},
   "source": [
    "To get a deeper understanding of how the metropolis algorithm works, it is interesting to visualize not only the accepted samples, but also those which are rejected, and possibly the path that was taken. This is achieved by the following plot function, which visualizes the accepted and rejected samples in different colors and also can plot lines to show the path that was explored:"
   ]
  },
  {
   "cell_type": "code",
   "execution_count": 14,
   "id": "23ea40ac-f81f-4181-98fd-1d9b0c60f785",
   "metadata": {},
   "outputs": [
    {
     "data": {
      "application/vnd.vega.v5+json": {
       "$schema": "https://vega.github.io/schema/vega-lite/v5.json",
       "data": {
        "values": [
         {
          "State": "accepted",
          "x": "9.74453937451128",
          "y": "9.880698210370133"
         },
         {
          "State": "accepted",
          "x": "9.078110103385566",
          "y": "10.150805398942465"
         },
         {
          "State": "accepted",
          "x": "9.960507216629342",
          "y": "10.473067752474213"
         },
         {
          "State": "accepted",
          "x": "10.420692171102296",
          "y": "10.407126660749777"
         },
         {
          "State": "accepted",
          "x": "10.838770970853094",
          "y": "10.277652482145003"
         },
         {
          "State": "accepted",
          "x": "10.986031914252328",
          "y": "9.84918484791956"
         },
         {
          "State": "accepted",
          "x": "11.24692739370963",
          "y": "10.50421077240517"
         },
         {
          "State": "accepted",
          "x": "11.13964447105261",
          "y": "10.168888968591293"
         },
         {
          "State": "accepted",
          "x": "10.647996295279281",
          "y": "10.589171360317582"
         },
         {
          "State": "accepted",
          "x": "10.172044332806973",
          "y": "10.591256451335203"
         },
         {
          "State": "accepted",
          "x": "9.89010275003707",
          "y": "10.106470375928069"
         },
         {
          "State": "accepted",
          "x": "10.112793843357519",
          "y": "10.333872198282561"
         },
         {
          "State": "rejected",
          "x": "10.112793843357519",
          "y": "10.333872198282561"
         },
         {
          "State": "accepted",
          "x": "9.572360569131822",
          "y": "9.142411402042383"
         },
         {
          "State": "accepted",
          "x": "9.746328011772565",
          "y": "9.747263962117968"
         },
         {
          "State": "accepted",
          "x": "9.192300847539027",
          "y": "9.927230178714511"
         },
         {
          "State": "accepted",
          "x": "8.819354365798649",
          "y": "9.258079345538249"
         },
         {
          "State": "accepted",
          "x": "9.271158082584144",
          "y": "9.730469492809428"
         },
         {
          "State": "accepted",
          "x": "8.313471528252979",
          "y": "9.293055055086038"
         },
         {
          "State": "rejected",
          "x": "8.313471528252979",
          "y": "9.293055055086038"
         },
         {
          "State": "accepted",
          "x": "7.83479311454351",
          "y": "9.779921713400961"
         },
         {
          "State": "rejected",
          "x": "7.83479311454351",
          "y": "9.779921713400961"
         },
         {
          "State": "accepted",
          "x": "7.847199729727576",
          "y": "9.37342749521261"
         },
         {
          "State": "accepted",
          "x": "7.997857378094213",
          "y": "8.743792289643359"
         },
         {
          "State": "rejected",
          "x": "7.997857378094213",
          "y": "8.743792289643359"
         },
         {
          "State": "accepted",
          "x": "7.664337626079612",
          "y": "8.216277207849911"
         },
         {
          "State": "accepted",
          "x": "8.274654308504532",
          "y": "9.19853800760704"
         },
         {
          "State": "accepted",
          "x": "8.58127458554719",
          "y": "9.664434027393899"
         },
         {
          "State": "accepted",
          "x": "8.742121317539862",
          "y": "9.759926910421067"
         },
         {
          "State": "accepted",
          "x": "9.112890676258761",
          "y": "9.466264334833513"
         },
         {
          "State": "rejected",
          "x": "9.112890676258761",
          "y": "9.466264334833513"
         },
         {
          "State": "accepted",
          "x": "8.857087777075101",
          "y": "11.083713843921077"
         },
         {
          "State": "accepted",
          "x": "9.199555085510328",
          "y": "10.843499088589185"
         },
         {
          "State": "rejected",
          "x": "9.199555085510328",
          "y": "10.843499088589185"
         },
         {
          "State": "accepted",
          "x": "8.759523619753535",
          "y": "10.488766727447032"
         },
         {
          "State": "accepted",
          "x": "9.286674572335231",
          "y": "10.870163306422278"
         },
         {
          "State": "accepted",
          "x": "9.255148511626185",
          "y": "10.914682545576962"
         },
         {
          "State": "accepted",
          "x": "9.908167907088545",
          "y": "11.414390016670465"
         },
         {
          "State": "accepted",
          "x": "10.206833525042857",
          "y": "11.370998111182304"
         },
         {
          "State": "accepted",
          "x": "11.02636957388713",
          "y": "11.001430855352456"
         },
         {
          "State": "rejected",
          "x": "11.02636957388713",
          "y": "11.001430855352456"
         },
         {
          "State": "accepted",
          "x": "10.282407079031115",
          "y": "10.80320904266845"
         },
         {
          "State": "accepted",
          "x": "9.907086552017976",
          "y": "10.91897549593261"
         },
         {
          "State": "accepted",
          "x": "9.405996831417896",
          "y": "10.753936264270127"
         },
         {
          "State": "accepted",
          "x": "8.756634855647608",
          "y": "10.748305546532896"
         },
         {
          "State": "rejected",
          "x": "8.756634855647608",
          "y": "10.748305546532896"
         },
         {
          "State": "accepted",
          "x": "9.18297241856467",
          "y": "10.997812457363649"
         },
         {
          "State": "accepted",
          "x": "9.617428276439018",
          "y": "11.234795793875975"
         },
         {
          "State": "rejected",
          "x": "9.617428276439018",
          "y": "11.234795793875975"
         },
         {
          "State": "accepted",
          "x": "10.319842073661306",
          "y": "11.70723248056627"
         },
         {
          "State": "rejected",
          "x": "10.319842073661306",
          "y": "11.70723248056627"
         },
         {
          "State": "rejected",
          "x": "10.319842073661306",
          "y": "11.70723248056627"
         },
         {
          "State": "accepted",
          "x": "10.542290806413657",
          "y": "12.047189422849172"
         },
         {
          "State": "accepted",
          "x": "10.79674604654963",
          "y": "11.313573515237316"
         },
         {
          "State": "accepted",
          "x": "10.323656285954025",
          "y": "11.374428938136933"
         },
         {
          "State": "accepted",
          "x": "9.885586797830625",
          "y": "11.69408469587959"
         },
         {
          "State": "rejected",
          "x": "9.885586797830625",
          "y": "11.69408469587959"
         },
         {
          "State": "rejected",
          "x": "9.885586797830625",
          "y": "11.69408469587959"
         },
         {
          "State": "accepted",
          "x": "10.036243386606587",
          "y": "11.7747533515332"
         },
         {
          "State": "accepted",
          "x": "10.788252708017676",
          "y": "11.402529857361776"
         },
         {
          "State": "accepted",
          "x": "10.673706750916626",
          "y": "11.589585141918771"
         },
         {
          "State": "accepted",
          "x": "9.940778336103136",
          "y": "10.86296682257658"
         },
         {
          "State": "accepted",
          "x": "9.78360071272917",
          "y": "10.755951095312474"
         },
         {
          "State": "accepted",
          "x": "9.834689379727585",
          "y": "10.274819400663553"
         },
         {
          "State": "accepted",
          "x": "9.437532700045518",
          "y": "11.229738872096585"
         },
         {
          "State": "rejected",
          "x": "9.437532700045518",
          "y": "11.229738872096585"
         },
         {
          "State": "rejected",
          "x": "9.437532700045518",
          "y": "11.229738872096585"
         },
         {
          "State": "accepted",
          "x": "9.936602005176937",
          "y": "10.528238582785278"
         },
         {
          "State": "accepted",
          "x": "10.203295098805135",
          "y": "10.911239557757634"
         },
         {
          "State": "accepted",
          "x": "10.671628562648982",
          "y": "9.818810096747498"
         },
         {
          "State": "accepted",
          "x": "10.147404735939993",
          "y": "9.844691642701187"
         },
         {
          "State": "accepted",
          "x": "10.549122545736369",
          "y": "10.365619322130831"
         },
         {
          "State": "accepted",
          "x": "9.951726769253167",
          "y": "9.892680219055228"
         },
         {
          "State": "accepted",
          "x": "10.76726037347771",
          "y": "11.00176089904671"
         },
         {
          "State": "accepted",
          "x": "10.562099082767638",
          "y": "10.619042623996194"
         },
         {
          "State": "accepted",
          "x": "10.645202154824577",
          "y": "10.368919807000491"
         },
         {
          "State": "accepted",
          "x": "9.579203533697642",
          "y": "9.984970247069121"
         },
         {
          "State": "accepted",
          "x": "10.043908485488327",
          "y": "9.895710988601957"
         },
         {
          "State": "accepted",
          "x": "9.595351148901939",
          "y": "9.61338768606406"
         },
         {
          "State": "accepted",
          "x": "9.187135823338467",
          "y": "10.200392531429442"
         },
         {
          "State": "accepted",
          "x": "9.00632410687676",
          "y": "10.22452885906913"
         },
         {
          "State": "rejected",
          "x": "9.00632410687676",
          "y": "10.22452885906913"
         },
         {
          "State": "accepted",
          "x": "8.331550702006894",
          "y": "9.942829632197324"
         },
         {
          "State": "accepted",
          "x": "8.580542528886284",
          "y": "9.990464764629984"
         },
         {
          "State": "rejected",
          "x": "8.580542528886284",
          "y": "9.990464764629984"
         },
         {
          "State": "rejected",
          "x": "8.580542528886284",
          "y": "9.990464764629984"
         },
         {
          "State": "rejected",
          "x": "8.580542528886284",
          "y": "9.990464764629984"
         },
         {
          "State": "accepted",
          "x": "8.699375773964517",
          "y": "9.17069841024335"
         },
         {
          "State": "accepted",
          "x": "9.378629296791768",
          "y": "9.677014089438542"
         },
         {
          "State": "rejected",
          "x": "9.378629296791768",
          "y": "9.677014089438542"
         },
         {
          "State": "accepted",
          "x": "9.167081364953445",
          "y": "9.869502599065886"
         },
         {
          "State": "accepted",
          "x": "9.56627188550185",
          "y": "9.401579725156056"
         },
         {
          "State": "rejected",
          "x": "9.56627188550185",
          "y": "9.401579725156056"
         },
         {
          "State": "accepted",
          "x": "8.915061138597746",
          "y": "9.01320011332874"
         },
         {
          "State": "accepted",
          "x": "9.084929219718282",
          "y": "9.44162905604398"
         },
         {
          "State": "accepted",
          "x": "9.141557423766097",
          "y": "9.360949828228055"
         },
         {
          "State": "accepted",
          "x": "8.40639690902334",
          "y": "9.640696509224034"
         },
         {
          "State": "accepted",
          "x": "8.863091058528832",
          "y": "10.100837861648902"
         },
         {
          "State": "accepted",
          "x": "8.96482551570568",
          "y": "9.554873096346235"
         },
         {
          "State": "rejected",
          "x": "8.96482551570568",
          "y": "9.554873096346235"
         },
         {
          "State": "accepted",
          "x": "8.844789950344522",
          "y": "9.848090121543866"
         },
         {
          "State": "accepted",
          "x": "8.937590242014643",
          "y": "10.214477045365632"
         },
         {
          "State": "accepted",
          "x": "9.737986655904983",
          "y": "9.75685633046571"
         },
         {
          "State": "accepted",
          "x": "9.942141190394432",
          "y": "9.259925441215668"
         },
         {
          "State": "accepted",
          "x": "8.949998288060804",
          "y": "10.104923102576013"
         },
         {
          "State": "accepted",
          "x": "9.336070296543282",
          "y": "10.022991851434062"
         },
         {
          "State": "accepted",
          "x": "10.137167144713828",
          "y": "10.169013488897463"
         },
         {
          "State": "accepted",
          "x": "9.717265636998292",
          "y": "10.497327785614884"
         },
         {
          "State": "accepted",
          "x": "8.866195896718436",
          "y": "10.45586184750285"
         },
         {
          "State": "accepted",
          "x": "8.94199691345409",
          "y": "10.137485128885213"
         },
         {
          "State": "accepted",
          "x": "9.691175327297573",
          "y": "10.976523201637024"
         },
         {
          "State": "accepted",
          "x": "9.478203148183146",
          "y": "11.284950599660498"
         },
         {
          "State": "rejected",
          "x": "9.478203148183146",
          "y": "11.284950599660498"
         },
         {
          "State": "accepted",
          "x": "9.716376944025512",
          "y": "10.907811787624146"
         },
         {
          "State": "accepted",
          "x": "10.321760709575047",
          "y": "10.891952371049616"
         },
         {
          "State": "rejected",
          "x": "10.321760709575047",
          "y": "10.891952371049616"
         },
         {
          "State": "accepted",
          "x": "10.06620964658093",
          "y": "11.61906202992669"
         },
         {
          "State": "accepted",
          "x": "10.282629234428278",
          "y": "12.017508234405376"
         },
         {
          "State": "rejected",
          "x": "10.282629234428278",
          "y": "12.017508234405376"
         },
         {
          "State": "rejected",
          "x": "10.282629234428278",
          "y": "12.017508234405376"
         },
         {
          "State": "accepted",
          "x": "10.424166917243825",
          "y": "11.861758397988186"
         },
         {
          "State": "accepted",
          "x": "10.981975505757715",
          "y": "11.32192923522715"
         },
         {
          "State": "accepted",
          "x": "10.516561350937113",
          "y": "10.353797336174692"
         },
         {
          "State": "accepted",
          "x": "10.550704089042876",
          "y": "9.980841633297986"
         },
         {
          "State": "accepted",
          "x": "10.890296906564934",
          "y": "9.783878018600575"
         },
         {
          "State": "accepted",
          "x": "10.564287636766482",
          "y": "10.419316083139533"
         },
         {
          "State": "accepted",
          "x": "10.388637317764049",
          "y": "10.096494263171161"
         },
         {
          "State": "accepted",
          "x": "10.546238719594802",
          "y": "10.104886596323311"
         },
         {
          "State": "accepted",
          "x": "10.42974394893852",
          "y": "9.963053946587676"
         },
         {
          "State": "accepted",
          "x": "10.911096591486181",
          "y": "9.843082582251235"
         },
         {
          "State": "accepted",
          "x": "11.249770685424016",
          "y": "10.571287948861688"
         },
         {
          "State": "accepted",
          "x": "11.009696461931465",
          "y": "11.451559781598892"
         },
         {
          "State": "rejected",
          "x": "11.009696461931465",
          "y": "11.451559781598892"
         },
         {
          "State": "accepted",
          "x": "10.90592482210088",
          "y": "11.353587030781224"
         },
         {
          "State": "accepted",
          "x": "11.114720464129647",
          "y": "11.365555225040051"
         },
         {
          "State": "accepted",
          "x": "11.21849506461537",
          "y": "11.213823329510547"
         },
         {
          "State": "accepted",
          "x": "11.35210489913699",
          "y": "11.326457296176596"
         },
         {
          "State": "accepted",
          "x": "11.9643856131015",
          "y": "11.329623427916523"
         },
         {
          "State": "rejected",
          "x": "11.9643856131015",
          "y": "11.329623427916523"
         },
         {
          "State": "accepted",
          "x": "11.105620365584157",
          "y": "11.28224974644018"
         },
         {
          "State": "accepted",
          "x": "11.752774932556989",
          "y": "11.201259689887811"
         },
         {
          "State": "rejected",
          "x": "11.752774932556989",
          "y": "11.201259689887811"
         },
         {
          "State": "accepted",
          "x": "11.837949699224174",
          "y": "11.309305732798027"
         },
         {
          "State": "accepted",
          "x": "11.961112327079686",
          "y": "10.642900767041956"
         },
         {
          "State": "rejected",
          "x": "11.961112327079686",
          "y": "10.642900767041956"
         },
         {
          "State": "accepted",
          "x": "11.571832909476464",
          "y": "11.134329607298636"
         },
         {
          "State": "rejected",
          "x": "11.571832909476464",
          "y": "11.134329607298636"
         },
         {
          "State": "accepted",
          "x": "11.026997224182686",
          "y": "10.723233685512641"
         },
         {
          "State": "rejected",
          "x": "11.026997224182686",
          "y": "10.723233685512641"
         },
         {
          "State": "accepted",
          "x": "10.780208402965835",
          "y": "10.357557569813554"
         },
         {
          "State": "accepted",
          "x": "10.479965010050726",
          "y": "10.014547978793832"
         },
         {
          "State": "accepted",
          "x": "10.268891629310389",
          "y": "10.371354717259107"
         },
         {
          "State": "accepted",
          "x": "11.351995542599088",
          "y": "11.607332924375482"
         },
         {
          "State": "accepted",
          "x": "10.357806874562767",
          "y": "11.122175015707324"
         },
         {
          "State": "accepted",
          "x": "9.737776488639492",
          "y": "11.083434228989459"
         },
         {
          "State": "accepted",
          "x": "9.830250596917672",
          "y": "11.446671888377908"
         },
         {
          "State": "accepted",
          "x": "10.377666583110194",
          "y": "11.269292508411162"
         },
         {
          "State": "accepted",
          "x": "10.88143455679674",
          "y": "11.0355259875783"
         },
         {
          "State": "accepted",
          "x": "10.428081719013734",
          "y": "10.42331973193797"
         },
         {
          "State": "accepted",
          "x": "10.33700787396548",
          "y": "10.277761038632992"
         },
         {
          "State": "rejected",
          "x": "10.33700787396548",
          "y": "10.277761038632992"
         },
         {
          "State": "accepted",
          "x": "10.427087206356692",
          "y": "10.502031456983465"
         },
         {
          "State": "accepted",
          "x": "9.870922244579093",
          "y": "10.556859440743164"
         },
         {
          "State": "accepted",
          "x": "9.607439245696092",
          "y": "10.743893116752812"
         },
         {
          "State": "accepted",
          "x": "9.378622872699795",
          "y": "10.913728594857456"
         },
         {
          "State": "rejected",
          "x": "9.378622872699795",
          "y": "10.913728594857456"
         },
         {
          "State": "accepted",
          "x": "9.687837791888656",
          "y": "10.34994730058447"
         },
         {
          "State": "rejected",
          "x": "9.687837791888656",
          "y": "10.34994730058447"
         },
         {
          "State": "accepted",
          "x": "9.621783295717032",
          "y": "9.901555239057556"
         },
         {
          "State": "accepted",
          "x": "10.148526759608677",
          "y": "9.7120372673426"
         },
         {
          "State": "accepted",
          "x": "9.819541234135727",
          "y": "9.151267927755114"
         },
         {
          "State": "rejected",
          "x": "9.819541234135727",
          "y": "9.151267927755114"
         },
         {
          "State": "accepted",
          "x": "9.71549200722503",
          "y": "9.551089718745551"
         },
         {
          "State": "accepted",
          "x": "9.194801286370769",
          "y": "9.39954669286209"
         },
         {
          "State": "accepted",
          "x": "9.806239297509268",
          "y": "9.384047532151538"
         },
         {
          "State": "accepted",
          "x": "9.670581110385607",
          "y": "8.773184088297233"
         },
         {
          "State": "accepted",
          "x": "9.814023521199733",
          "y": "8.906813820909239"
         },
         {
          "State": "accepted",
          "x": "8.347304978065864",
          "y": "9.060170550532542"
         },
         {
          "State": "accepted",
          "x": "8.86945221507892",
          "y": "10.156101068494472"
         },
         {
          "State": "accepted",
          "x": "8.845878802787103",
          "y": "9.810974332274142"
         },
         {
          "State": "accepted",
          "x": "8.923330766520621",
          "y": "9.517658758631931"
         },
         {
          "State": "accepted",
          "x": "9.011125681363428",
          "y": "9.92628120775992"
         },
         {
          "State": "accepted",
          "x": "8.21739875537016",
          "y": "9.805063192342006"
         },
         {
          "State": "accepted",
          "x": "8.596937948954258",
          "y": "9.485722816969837"
         },
         {
          "State": "accepted",
          "x": "8.99103279631349",
          "y": "9.229256136366507"
         },
         {
          "State": "accepted",
          "x": "9.7041399387873",
          "y": "9.010485509937658"
         },
         {
          "State": "accepted",
          "x": "9.09259288850669",
          "y": "8.917886393501501"
         },
         {
          "State": "accepted",
          "x": "8.9111068890652",
          "y": "9.306836625462582"
         },
         {
          "State": "accepted",
          "x": "7.688749113882342",
          "y": "9.749455520700533"
         },
         {
          "State": "accepted",
          "x": "7.94331628868805",
          "y": "9.917333750281905"
         },
         {
          "State": "accepted",
          "x": "7.434615978385143",
          "y": "9.73726594786505"
         },
         {
          "State": "accepted",
          "x": "8.255606370829407",
          "y": "8.516389036729015"
         },
         {
          "State": "accepted",
          "x": "8.300811165990671",
          "y": "8.830710285834485"
         },
         {
          "State": "accepted",
          "x": "8.586415169620912",
          "y": "9.385939676328682"
         },
         {
          "State": "rejected",
          "x": "8.586415169620912",
          "y": "9.385939676328682"
         },
         {
          "State": "accepted",
          "x": "9.44605586438365",
          "y": "9.700186699795346"
         },
         {
          "State": "accepted",
          "x": "8.41411216707608",
          "y": "10.159440695955062"
         },
         {
          "State": "accepted",
          "x": "8.765912213975556",
          "y": "9.592745955060218"
         },
         {
          "State": "accepted",
          "x": "9.200537429178846",
          "y": "10.442049616504892"
         },
         {
          "State": "accepted",
          "x": "8.900636416745426",
          "y": "10.791466679668028"
         },
         {
          "State": "accepted",
          "x": "7.872329795117935",
          "y": "9.927117247740544"
         },
         {
          "State": "accepted",
          "x": "7.907323369242075",
          "y": "9.96254120741356"
         },
         {
          "State": "accepted",
          "x": "7.633303357834885",
          "y": "9.653124225736516"
         },
         {
          "State": "rejected",
          "x": "7.633303357834885",
          "y": "9.653124225736516"
         },
         {
          "State": "accepted",
          "x": "7.608816779477141",
          "y": "9.00562446118205"
         },
         {
          "State": "accepted",
          "x": "8.199643538742151",
          "y": "8.520127664272927"
         },
         {
          "State": "accepted",
          "x": "7.496792857209915",
          "y": "8.540883817810922"
         },
         {
          "State": "rejected",
          "x": "7.496792857209915",
          "y": "8.540883817810922"
         },
         {
          "State": "accepted",
          "x": "7.826391251146833",
          "y": "9.431372637583813"
         },
         {
          "State": "accepted",
          "x": "9.20317010389914",
          "y": "10.27284376658546"
         },
         {
          "State": "accepted",
          "x": "9.0848829329877",
          "y": "9.914915213656634"
         },
         {
          "State": "accepted",
          "x": "7.866803116682406",
          "y": "10.560555094890294"
         },
         {
          "State": "accepted",
          "x": "7.561569440894981",
          "y": "9.83688253896234"
         },
         {
          "State": "rejected",
          "x": "7.561569440894981",
          "y": "9.83688253896234"
         },
         {
          "State": "accepted",
          "x": "8.220120916519576",
          "y": "9.86231911752182"
         },
         {
          "State": "accepted",
          "x": "8.780170076888282",
          "y": "10.164054533100998"
         },
         {
          "State": "accepted",
          "x": "8.664481761863254",
          "y": "9.662202256168287"
         },
         {
          "State": "rejected",
          "x": "8.664481761863254",
          "y": "9.662202256168287"
         },
         {
          "State": "accepted",
          "x": "8.808998244597724",
          "y": "8.352295779507811"
         },
         {
          "State": "accepted",
          "x": "8.600619335618699",
          "y": "7.935216893695808"
         },
         {
          "State": "accepted",
          "x": "9.042988486603354",
          "y": "8.633986083077426"
         },
         {
          "State": "accepted",
          "x": "9.33666130568829",
          "y": "8.919146970488685"
         },
         {
          "State": "rejected",
          "x": "9.33666130568829",
          "y": "8.919146970488685"
         },
         {
          "State": "accepted",
          "x": "9.410454084401227",
          "y": "9.429642431769627"
         },
         {
          "State": "accepted",
          "x": "9.60591090705794",
          "y": "10.087928310465516"
         },
         {
          "State": "accepted",
          "x": "10.018977890794963",
          "y": "10.276191282454048"
         },
         {
          "State": "rejected",
          "x": "10.018977890794963",
          "y": "10.276191282454048"
         },
         {
          "State": "accepted",
          "x": "10.8415539275156",
          "y": "9.681402540032877"
         },
         {
          "State": "accepted",
          "x": "10.9529595559309",
          "y": "10.429023303170712"
         },
         {
          "State": "rejected",
          "x": "10.9529595559309",
          "y": "10.429023303170712"
         },
         {
          "State": "accepted",
          "x": "10.46411485636996",
          "y": "11.146159955329619"
         },
         {
          "State": "accepted",
          "x": "10.330332682022416",
          "y": "10.965136491819818"
         },
         {
          "State": "accepted",
          "x": "10.166485766200093",
          "y": "11.16496591956076"
         },
         {
          "State": "accepted",
          "x": "9.584520652060174",
          "y": "11.077361497757034"
         },
         {
          "State": "rejected",
          "x": "9.584520652060174",
          "y": "11.077361497757034"
         },
         {
          "State": "rejected",
          "x": "9.584520652060174",
          "y": "11.077361497757034"
         },
         {
          "State": "rejected",
          "x": "9.584520652060174",
          "y": "11.077361497757034"
         },
         {
          "State": "accepted",
          "x": "9.872954716617674",
          "y": "11.138588091882994"
         },
         {
          "State": "accepted",
          "x": "9.971325655670517",
          "y": "10.171130539915783"
         },
         {
          "State": "accepted",
          "x": "9.943005023206593",
          "y": "10.481851629487533"
         },
         {
          "State": "rejected",
          "x": "9.943005023206593",
          "y": "10.481851629487533"
         },
         {
          "State": "rejected",
          "x": "9.943005023206593",
          "y": "10.481851629487533"
         },
         {
          "State": "accepted",
          "x": "10.396849717874934",
          "y": "10.534275007166135"
         },
         {
          "State": "accepted",
          "x": "11.038147132171165",
          "y": "10.256185147665944"
         },
         {
          "State": "rejected",
          "x": "11.038147132171165",
          "y": "10.256185147665944"
         },
         {
          "State": "rejected",
          "x": "11.038147132171165",
          "y": "10.256185147665944"
         },
         {
          "State": "rejected",
          "x": "11.038147132171165",
          "y": "10.256185147665944"
         },
         {
          "State": "rejected",
          "x": "11.038147132171165",
          "y": "10.256185147665944"
         },
         {
          "State": "accepted",
          "x": "9.881157483362044",
          "y": "10.78679601791258"
         },
         {
          "State": "rejected",
          "x": "9.881157483362044",
          "y": "10.78679601791258"
         },
         {
          "State": "rejected",
          "x": "9.881157483362044",
          "y": "10.78679601791258"
         },
         {
          "State": "rejected",
          "x": "9.881157483362044",
          "y": "10.78679601791258"
         },
         {
          "State": "rejected",
          "x": "9.881157483362044",
          "y": "10.78679601791258"
         },
         {
          "State": "accepted",
          "x": "10.380424531232467",
          "y": "11.059597429873882"
         },
         {
          "State": "accepted",
          "x": "10.47639620438684",
          "y": "10.689114199031879"
         },
         {
          "State": "accepted",
          "x": "10.69052303347565",
          "y": "10.23119911654118"
         },
         {
          "State": "accepted",
          "x": "11.040569043640875",
          "y": "9.49243812931347"
         },
         {
          "State": "rejected",
          "x": "11.040569043640875",
          "y": "9.49243812931347"
         },
         {
          "State": "accepted",
          "x": "11.53574574270944",
          "y": "9.539355712338734"
         },
         {
          "State": "accepted",
          "x": "11.843401405336806",
          "y": "9.934505699863914"
         },
         {
          "State": "accepted",
          "x": "12.086540392460138",
          "y": "10.181590781848316"
         },
         {
          "State": "rejected",
          "x": "12.086540392460138",
          "y": "10.181590781848316"
         },
         {
          "State": "accepted",
          "x": "12.13032055243317",
          "y": "10.737772408685974"
         },
         {
          "State": "accepted",
          "x": "12.311047544116724",
          "y": "10.940505636909837"
         },
         {
          "State": "accepted",
          "x": "12.11308441540767",
          "y": "11.022469549032964"
         },
         {
          "State": "rejected",
          "x": "12.11308441540767",
          "y": "11.022469549032964"
         },
         {
          "State": "rejected",
          "x": "12.11308441540767",
          "y": "11.022469549032964"
         },
         {
          "State": "rejected",
          "x": "12.11308441540767",
          "y": "11.022469549032964"
         },
         {
          "State": "accepted",
          "x": "11.626713760019811",
          "y": "11.307467280634437"
         },
         {
          "State": "accepted",
          "x": "11.9285245028458",
          "y": "10.89076551755927"
         },
         {
          "State": "accepted",
          "x": "11.39945530758821",
          "y": "10.932308458086279"
         },
         {
          "State": "accepted",
          "x": "11.196719120782346",
          "y": "10.733713649447987"
         },
         {
          "State": "accepted",
          "x": "10.98372963780598",
          "y": "10.351917500527495"
         },
         {
          "State": "rejected",
          "x": "10.98372963780598",
          "y": "10.351917500527495"
         },
         {
          "State": "accepted",
          "x": "10.314744461849786",
          "y": "10.60091547826169"
         },
         {
          "State": "accepted",
          "x": "10.204309689658919",
          "y": "10.194423035038248"
         },
         {
          "State": "rejected",
          "x": "10.204309689658919",
          "y": "10.194423035038248"
         },
         {
          "State": "accepted",
          "x": "9.881462301568183",
          "y": "10.697955727284175"
         },
         {
          "State": "accepted",
          "x": "10.214834992379862",
          "y": "10.795874925177467"
         },
         {
          "State": "accepted",
          "x": "9.686848179103844",
          "y": "10.579320321586305"
         },
         {
          "State": "accepted",
          "x": "9.476962703080188",
          "y": "10.418718915812814"
         },
         {
          "State": "accepted",
          "x": "9.605283026603363",
          "y": "9.519717509969553"
         },
         {
          "State": "accepted",
          "x": "9.049365710622114",
          "y": "9.163606869589017"
         },
         {
          "State": "accepted",
          "x": "9.073262660932526",
          "y": "9.71360722040561"
         },
         {
          "State": "accepted",
          "x": "9.122957515370707",
          "y": "9.869870235926465"
         },
         {
          "State": "rejected",
          "x": "9.122957515370707",
          "y": "9.869870235926465"
         },
         {
          "State": "accepted",
          "x": "9.469504772897537",
          "y": "9.517718505371471"
         },
         {
          "State": "accepted",
          "x": "8.944720474471863",
          "y": "8.650848110135831"
         },
         {
          "State": "rejected",
          "x": "8.944720474471863",
          "y": "8.650848110135831"
         },
         {
          "State": "accepted",
          "x": "9.225328378757414",
          "y": "8.820756348618595"
         },
         {
          "State": "accepted",
          "x": "8.85760033451483",
          "y": "9.052214307090583"
         },
         {
          "State": "accepted",
          "x": "9.71475251894565",
          "y": "8.946456315526607"
         },
         {
          "State": "accepted",
          "x": "9.577916277435316",
          "y": "8.874935804840783"
         },
         {
          "State": "rejected",
          "x": "9.577916277435316",
          "y": "8.874935804840783"
         },
         {
          "State": "accepted",
          "x": "9.394552510988948",
          "y": "8.749627273911472"
         },
         {
          "State": "accepted",
          "x": "9.250950647849828",
          "y": "9.070469449473066"
         },
         {
          "State": "accepted",
          "x": "9.294699061467385",
          "y": "9.474936061170421"
         },
         {
          "State": "accepted",
          "x": "9.211744447762099",
          "y": "9.826019978544117"
         },
         {
          "State": "accepted",
          "x": "9.135519420947656",
          "y": "9.785411556347775"
         },
         {
          "State": "accepted",
          "x": "9.578511580501944",
          "y": "9.651429803429831"
         },
         {
          "State": "accepted",
          "x": "8.827837065848561",
          "y": "9.33238940861095"
         },
         {
          "State": "accepted",
          "x": "7.9499012678614465",
          "y": "9.404177753105593"
         },
         {
          "State": "accepted",
          "x": "8.608573099635207",
          "y": "9.266982015221554"
         },
         {
          "State": "accepted",
          "x": "9.444301435702398",
          "y": "9.626578033947618"
         },
         {
          "State": "accepted",
          "x": "8.929277933695461",
          "y": "9.362439767641334"
         },
         {
          "State": "rejected",
          "x": "8.929277933695461",
          "y": "9.362439767641334"
         },
         {
          "State": "accepted",
          "x": "8.66128540452586",
          "y": "10.164712213454717"
         },
         {
          "State": "accepted",
          "x": "8.534371830712308",
          "y": "10.60207677656238"
         },
         {
          "State": "accepted",
          "x": "8.108646831362304",
          "y": "10.320958245086825"
         },
         {
          "State": "accepted",
          "x": "8.340701088306158",
          "y": "9.938480910924925"
         },
         {
          "State": "accepted",
          "x": "8.232007856704815",
          "y": "9.895845596282404"
         },
         {
          "State": "accepted",
          "x": "8.016364382955098",
          "y": "9.827574459372745"
         },
         {
          "State": "accepted",
          "x": "8.678168488412672",
          "y": "10.60714422523373"
         },
         {
          "State": "accepted",
          "x": "8.57591418134552",
          "y": "9.322150394999309"
         },
         {
          "State": "rejected",
          "x": "8.57591418134552",
          "y": "9.322150394999309"
         },
         {
          "State": "rejected",
          "x": "8.57591418134552",
          "y": "9.322150394999309"
         },
         {
          "State": "accepted",
          "x": "8.431136086996695",
          "y": "9.389950754051332"
         },
         {
          "State": "accepted",
          "x": "9.46648571395671",
          "y": "8.967877976559762"
         },
         {
          "State": "accepted",
          "x": "10.137021079529937",
          "y": "8.97842610069369"
         },
         {
          "State": "rejected",
          "x": "10.137021079529937",
          "y": "8.97842610069369"
         },
         {
          "State": "accepted",
          "x": "9.381812440820292",
          "y": "8.938995969590486"
         },
         {
          "State": "rejected",
          "x": "9.381812440820292",
          "y": "8.938995969590486"
         },
         {
          "State": "accepted",
          "x": "8.737858749410758",
          "y": "8.504918013499527"
         },
         {
          "State": "accepted",
          "x": "7.719198686730634",
          "y": "9.190221553985698"
         },
         {
          "State": "accepted",
          "x": "7.605484725120129",
          "y": "9.54294308403046"
         },
         {
          "State": "accepted",
          "x": "7.0048800961565325",
          "y": "9.78202246114064"
         },
         {
          "State": "accepted",
          "x": "7.383145786949555",
          "y": "9.618645397629384"
         },
         {
          "State": "rejected",
          "x": "7.383145786949555",
          "y": "9.618645397629384"
         },
         {
          "State": "rejected",
          "x": "7.383145786949555",
          "y": "9.618645397629384"
         },
         {
          "State": "rejected",
          "x": "7.383145786949555",
          "y": "9.618645397629384"
         },
         {
          "State": "accepted",
          "x": "6.883604483362982",
          "y": "9.333263046929337"
         },
         {
          "State": "accepted",
          "x": "6.335889706091126",
          "y": "9.272623127629078"
         },
         {
          "State": "rejected",
          "x": "6.335889706091126",
          "y": "9.272623127629078"
         },
         {
          "State": "rejected",
          "x": "6.335889706091126",
          "y": "9.272623127629078"
         },
         {
          "State": "rejected",
          "x": "6.335889706091126",
          "y": "9.272623127629078"
         },
         {
          "State": "accepted",
          "x": "5.806450796933689",
          "y": "8.72553477284115"
         },
         {
          "State": "accepted",
          "x": "5.425866992694041",
          "y": "9.09698611318128"
         },
         {
          "State": "accepted",
          "x": "5.751347559955321",
          "y": "9.155374072907087"
         },
         {
          "State": "accepted",
          "x": "5.630493310526356",
          "y": "9.07119585473289"
         },
         {
          "State": "accepted",
          "x": "5.769284182849511",
          "y": "10.149356317309126"
         },
         {
          "State": "accepted",
          "x": "5.932779195904083",
          "y": "10.075463901707268"
         },
         {
          "State": "accepted",
          "x": "6.250179093712662",
          "y": "9.334310815089394"
         },
         {
          "State": "rejected",
          "x": "6.250179093712662",
          "y": "9.334310815089394"
         },
         {
          "State": "rejected",
          "x": "6.250179093712662",
          "y": "9.334310815089394"
         },
         {
          "State": "accepted",
          "x": "6.802286364990963",
          "y": "9.56523003635299"
         },
         {
          "State": "accepted",
          "x": "6.647223274224018",
          "y": "9.785313848835509"
         },
         {
          "State": "accepted",
          "x": "6.951226982392243",
          "y": "9.761578161848995"
         },
         {
          "State": "accepted",
          "x": "6.778693266205915",
          "y": "10.031061185956014"
         },
         {
          "State": "accepted",
          "x": "7.126192552076402",
          "y": "9.84576306586508"
         },
         {
          "State": "accepted",
          "x": "7.090464319194184",
          "y": "9.848084353598601"
         },
         {
          "State": "rejected",
          "x": "7.090464319194184",
          "y": "9.848084353598601"
         },
         {
          "State": "accepted",
          "x": "6.702620977128014",
          "y": "9.264264972510029"
         },
         {
          "State": "accepted",
          "x": "7.858757038675601",
          "y": "10.090906937879243"
         },
         {
          "State": "rejected",
          "x": "7.858757038675601",
          "y": "10.090906937879243"
         },
         {
          "State": "rejected",
          "x": "7.858757038675601",
          "y": "10.090906937879243"
         },
         {
          "State": "accepted",
          "x": "7.780624970267389",
          "y": "9.84462070386729"
         },
         {
          "State": "accepted",
          "x": "7.547308352892121",
          "y": "9.868497703910803"
         },
         {
          "State": "accepted",
          "x": "8.060935914591205",
          "y": "9.262793209458193"
         },
         {
          "State": "accepted",
          "x": "7.787680476349378",
          "y": "9.787311883412695"
         },
         {
          "State": "rejected",
          "x": "7.787680476349378",
          "y": "9.787311883412695"
         },
         {
          "State": "accepted",
          "x": "7.905452119001562",
          "y": "9.700036898045504"
         },
         {
          "State": "accepted",
          "x": "7.119833508008751",
          "y": "9.147226283749138"
         },
         {
          "State": "accepted",
          "x": "7.289120849299567",
          "y": "9.237657611069409"
         },
         {
          "State": "accepted",
          "x": "8.201470567847103",
          "y": "9.267107813703934"
         },
         {
          "State": "accepted",
          "x": "7.766461206597362",
          "y": "8.761025870420832"
         },
         {
          "State": "rejected",
          "x": "7.766461206597362",
          "y": "8.761025870420832"
         },
         {
          "State": "accepted",
          "x": "8.01835083057765",
          "y": "9.56182985858712"
         },
         {
          "State": "accepted",
          "x": "7.939494685956521",
          "y": "9.326323485928516"
         },
         {
          "State": "accepted",
          "x": "8.228451747002572",
          "y": "9.76842177231212"
         },
         {
          "State": "accepted",
          "x": "8.376009366593639",
          "y": "10.267614235285912"
         },
         {
          "State": "accepted",
          "x": "8.73245170100974",
          "y": "10.39963675141086"
         },
         {
          "State": "rejected",
          "x": "8.73245170100974",
          "y": "10.39963675141086"
         },
         {
          "State": "accepted",
          "x": "8.572008136314267",
          "y": "10.676484819318194"
         },
         {
          "State": "accepted",
          "x": "8.078755692433615",
          "y": "9.905363552496215"
         },
         {
          "State": "accepted",
          "x": "8.238583839092607",
          "y": "9.918788356860958"
         },
         {
          "State": "accepted",
          "x": "7.908152800631184",
          "y": "8.675175165823353"
         },
         {
          "State": "accepted",
          "x": "7.252243940346565",
          "y": "9.093073981612921"
         },
         {
          "State": "accepted",
          "x": "6.542240176606944",
          "y": "8.585536400879006"
         },
         {
          "State": "rejected",
          "x": "6.542240176606944",
          "y": "8.585536400879006"
         },
         {
          "State": "rejected",
          "x": "6.542240176606944",
          "y": "8.585536400879006"
         },
         {
          "State": "accepted",
          "x": "6.643260993780132",
          "y": "8.269726886046294"
         },
         {
          "State": "accepted",
          "x": "7.277903084241125",
          "y": "7.5211647528607095"
         },
         {
          "State": "accepted",
          "x": "7.19860617943734",
          "y": "7.284015256253482"
         },
         {
          "State": "accepted",
          "x": "6.9068815667319745",
          "y": "7.40981084497303"
         },
         {
          "State": "accepted",
          "x": "6.470614780065468",
          "y": "8.239800731218732"
         },
         {
          "State": "rejected",
          "x": "6.470614780065468",
          "y": "8.239800731218732"
         },
         {
          "State": "accepted",
          "x": "6.773751455615404",
          "y": "9.33564547203027"
         },
         {
          "State": "accepted",
          "x": "6.951172152138903",
          "y": "8.67624044310102"
         },
         {
          "State": "rejected",
          "x": "6.951172152138903",
          "y": "8.67624044310102"
         },
         {
          "State": "accepted",
          "x": "8.049188539146597",
          "y": "8.55058389792411"
         },
         {
          "State": "accepted",
          "x": "7.173981131547324",
          "y": "8.214666012168813"
         },
         {
          "State": "accepted",
          "x": "7.316722670191092",
          "y": "7.972801227020528"
         },
         {
          "State": "accepted",
          "x": "6.648542407022828",
          "y": "8.7743239284075"
         },
         {
          "State": "rejected",
          "x": "6.648542407022828",
          "y": "8.7743239284075"
         },
         {
          "State": "accepted",
          "x": "6.919647827662873",
          "y": "9.009192490555943"
         },
         {
          "State": "rejected",
          "x": "6.919647827662873",
          "y": "9.009192490555943"
         },
         {
          "State": "accepted",
          "x": "7.083791241960454",
          "y": "9.883725987133099"
         },
         {
          "State": "rejected",
          "x": "7.083791241960454",
          "y": "9.883725987133099"
         },
         {
          "State": "accepted",
          "x": "7.761409096990879",
          "y": "9.72728485159391"
         },
         {
          "State": "accepted",
          "x": "7.238947456900998",
          "y": "9.869923050613846"
         },
         {
          "State": "accepted",
          "x": "8.095451908088892",
          "y": "9.825428832685635"
         },
         {
          "State": "rejected",
          "x": "8.095451908088892",
          "y": "9.825428832685635"
         },
         {
          "State": "rejected",
          "x": "8.095451908088892",
          "y": "9.825428832685635"
         },
         {
          "State": "rejected",
          "x": "8.095451908088892",
          "y": "9.825428832685635"
         },
         {
          "State": "accepted",
          "x": "7.402831580674919",
          "y": "9.6210926377964"
         },
         {
          "State": "accepted",
          "x": "6.967721107885182",
          "y": "9.59868143741445"
         },
         {
          "State": "accepted",
          "x": "7.464155714370937",
          "y": "9.132669787826808"
         },
         {
          "State": "accepted",
          "x": "7.3653370417908945",
          "y": "9.284019230778277"
         },
         {
          "State": "accepted",
          "x": "8.113043916191081",
          "y": "9.038579412399875"
         },
         {
          "State": "rejected",
          "x": "8.113043916191081",
          "y": "9.038579412399875"
         },
         {
          "State": "accepted",
          "x": "7.158083657755089",
          "y": "9.350332214660162"
         },
         {
          "State": "rejected",
          "x": "7.158083657755089",
          "y": "9.350332214660162"
         },
         {
          "State": "accepted",
          "x": "7.171347611520759",
          "y": "9.568598737296224"
         },
         {
          "State": "rejected",
          "x": "7.171347611520759",
          "y": "9.568598737296224"
         },
         {
          "State": "accepted",
          "x": "6.967888393002008",
          "y": "9.676500232209008"
         },
         {
          "State": "rejected",
          "x": "6.967888393002008",
          "y": "9.676500232209008"
         },
         {
          "State": "accepted",
          "x": "7.584345634993375",
          "y": "9.729089609053778"
         },
         {
          "State": "accepted",
          "x": "7.485777206794427",
          "y": "9.537999984376821"
         },
         {
          "State": "accepted",
          "x": "7.846166065744126",
          "y": "10.301300020959292"
         },
         {
          "State": "accepted",
          "x": "7.959149408627947",
          "y": "10.566712392220703"
         },
         {
          "State": "rejected",
          "x": "7.959149408627947",
          "y": "10.566712392220703"
         },
         {
          "State": "accepted",
          "x": "7.8936233021137",
          "y": "10.086142770376856"
         },
         {
          "State": "rejected",
          "x": "7.8936233021137",
          "y": "10.086142770376856"
         },
         {
          "State": "accepted",
          "x": "7.940091099014169",
          "y": "10.33781473877385"
         },
         {
          "State": "accepted",
          "x": "7.892052409657446",
          "y": "10.40269879495155"
         },
         {
          "State": "accepted",
          "x": "8.007297116938155",
          "y": "9.904650158755222"
         },
         {
          "State": "accepted",
          "x": "8.122140881414172",
          "y": "9.370685436641951"
         },
         {
          "State": "accepted",
          "x": "7.497654005331574",
          "y": "9.485692761703733"
         },
         {
          "State": "rejected",
          "x": "7.497654005331574",
          "y": "9.485692761703733"
         },
         {
          "State": "accepted",
          "x": "8.154435440327",
          "y": "9.337838780204187"
         },
         {
          "State": "accepted",
          "x": "8.073629177661006",
          "y": "9.719098594328928"
         },
         {
          "State": "accepted",
          "x": "8.644571233401706",
          "y": "9.358008808049078"
         },
         {
          "State": "accepted",
          "x": "8.508008135115825",
          "y": "9.28563729577046"
         },
         {
          "State": "accepted",
          "x": "8.045817752859973",
          "y": "9.558750247907218"
         },
         {
          "State": "accepted",
          "x": "7.754218790727879",
          "y": "10.070973990362438"
         },
         {
          "State": "accepted",
          "x": "7.735258059870599",
          "y": "9.87058680916424"
         },
         {
          "State": "accepted",
          "x": "7.51715517573745",
          "y": "9.21090306571551"
         },
         {
          "State": "accepted",
          "x": "7.4542720830160185",
          "y": "8.959246453866749"
         },
         {
          "State": "accepted",
          "x": "7.516531795410084",
          "y": "8.219397787519789"
         },
         {
          "State": "accepted",
          "x": "8.409754507268598",
          "y": "8.646317962557205"
         },
         {
          "State": "accepted",
          "x": "9.081609256091085",
          "y": "8.902103473404074"
         },
         {
          "State": "rejected",
          "x": "9.081609256091085",
          "y": "8.902103473404074"
         },
         {
          "State": "accepted",
          "x": "9.331435412523012",
          "y": "8.766933610333076"
         },
         {
          "State": "accepted",
          "x": "9.294559628211251",
          "y": "9.098106826233508"
         },
         {
          "State": "accepted",
          "x": "9.144908072140154",
          "y": "8.963211718580924"
         },
         {
          "State": "accepted",
          "x": "9.464286029681311",
          "y": "9.338558842893882"
         },
         {
          "State": "accepted",
          "x": "9.45747985369652",
          "y": "9.589648295848756"
         },
         {
          "State": "rejected",
          "x": "9.45747985369652",
          "y": "9.589648295848756"
         },
         {
          "State": "rejected",
          "x": "9.45747985369652",
          "y": "9.589648295848756"
         },
         {
          "State": "accepted",
          "x": "8.960003599299316",
          "y": "9.560799376692566"
         },
         {
          "State": "accepted",
          "x": "9.685892396836307",
          "y": "9.700014853819175"
         },
         {
          "State": "rejected",
          "x": "9.685892396836307",
          "y": "9.700014853819175"
         },
         {
          "State": "accepted",
          "x": "9.77086546060761",
          "y": "9.418414391453416"
         },
         {
          "State": "accepted",
          "x": "9.171122647573755",
          "y": "9.307282081875918"
         },
         {
          "State": "accepted",
          "x": "9.301256721150414",
          "y": "9.080022316035217"
         },
         {
          "State": "accepted",
          "x": "9.178986364283283",
          "y": "8.732414858175229"
         },
         {
          "State": "accepted",
          "x": "9.67216624506601",
          "y": "8.494320448207414"
         },
         {
          "State": "accepted",
          "x": "9.811137279241139",
          "y": "8.6368939863562"
         },
         {
          "State": "accepted",
          "x": "9.66412801349097",
          "y": "8.845254204050855"
         },
         {
          "State": "accepted",
          "x": "10.292360754710376",
          "y": "9.131220497409206"
         },
         {
          "State": "accepted",
          "x": "10.278806940988128",
          "y": "9.5162675732116"
         },
         {
          "State": "accepted",
          "x": "9.918241920981151",
          "y": "9.179411926477925"
         },
         {
          "State": "accepted",
          "x": "9.948438668296196",
          "y": "8.785528124523875"
         },
         {
          "State": "rejected",
          "x": "9.948438668296196",
          "y": "8.785528124523875"
         },
         {
          "State": "accepted",
          "x": "10.723733605729992",
          "y": "8.95528694107911"
         },
         {
          "State": "accepted",
          "x": "10.831777794444468",
          "y": "8.46344201840593"
         },
         {
          "State": "accepted",
          "x": "9.842654923353741",
          "y": "8.210756217002285"
         },
         {
          "State": "accepted",
          "x": "9.695191952310996",
          "y": "9.077859037763995"
         },
         {
          "State": "accepted",
          "x": "9.473217533426393",
          "y": "9.795645134713613"
         },
         {
          "State": "accepted",
          "x": "9.904270026206353",
          "y": "9.997469548204696"
         },
         {
          "State": "accepted",
          "x": "9.600366768270353",
          "y": "10.088086294468429"
         },
         {
          "State": "accepted",
          "x": "9.728628627146131",
          "y": "9.666995040008977"
         },
         {
          "State": "accepted",
          "x": "9.77231712094653",
          "y": "9.757007228271275"
         },
         {
          "State": "accepted",
          "x": "9.59166256288128",
          "y": "9.496871918860231"
         },
         {
          "State": "accepted",
          "x": "9.283717028057357",
          "y": "9.306921444486767"
         },
         {
          "State": "accepted",
          "x": "9.131969882310095",
          "y": "10.115855777263642"
         },
         {
          "State": "accepted",
          "x": "9.52221700419193",
          "y": "9.727321295406933"
         },
         {
          "State": "accepted",
          "x": "9.785065416412488",
          "y": "9.939253454718937"
         },
         {
          "State": "accepted",
          "x": "10.190193964804575",
          "y": "9.919637322060305"
         },
         {
          "State": "accepted",
          "x": "9.71571849530033",
          "y": "10.008865645539881"
         },
         {
          "State": "accepted",
          "x": "9.226312313904439",
          "y": "9.814552979134964"
         },
         {
          "State": "accepted",
          "x": "9.33764542637202",
          "y": "9.107024984070897"
         },
         {
          "State": "accepted",
          "x": "9.19960224392751",
          "y": "8.830139915505645"
         },
         {
          "State": "accepted",
          "x": "9.40941310210987",
          "y": "8.62345786888147"
         },
         {
          "State": "accepted",
          "x": "8.810551376044327",
          "y": "8.876628172550607"
         },
         {
          "State": "rejected",
          "x": "8.810551376044327",
          "y": "8.876628172550607"
         },
         {
          "State": "rejected",
          "x": "8.810551376044327",
          "y": "8.876628172550607"
         },
         {
          "State": "accepted",
          "x": "8.643380501181015",
          "y": "8.787787049107154"
         },
         {
          "State": "accepted",
          "x": "8.06155602780088",
          "y": "9.235904464576631"
         },
         {
          "State": "accepted",
          "x": "7.979069151109804",
          "y": "9.639350696374516"
         },
         {
          "State": "accepted",
          "x": "8.09228574461351",
          "y": "9.82964626542866"
         },
         {
          "State": "rejected",
          "x": "8.09228574461351",
          "y": "9.82964626542866"
         },
         {
          "State": "accepted",
          "x": "8.35006275597073",
          "y": "9.663761149672661"
         },
         {
          "State": "accepted",
          "x": "8.289700686003622",
          "y": "10.210274605625509"
         },
         {
          "State": "accepted",
          "x": "8.577961413426735",
          "y": "9.907307152363646"
         },
         {
          "State": "accepted",
          "x": "8.264575873308686",
          "y": "10.236735666610132"
         },
         {
          "State": "accepted",
          "x": "8.139588419588256",
          "y": "9.503256390429522"
         },
         {
          "State": "rejected",
          "x": "8.139588419588256",
          "y": "9.503256390429522"
         },
         {
          "State": "accepted",
          "x": "8.404604800310615",
          "y": "9.704130163266802"
         }
        ]
       },
       "description": ".",
       "encoding": {
        "color": {
         "field": "State"
        },
        "x": {
         "field": "x",
         "scale": {
          "zero": false
         },
         "type": "quantitative"
        },
        "y": {
         "field": "y",
         "scale": {
          "zero": false
         },
         "type": "quantitative"
        }
       },
       "height": 600,
       "mark": "circle",
       "title": "Samples",
       "width": 800
      },
      "image/png": "[encoded data removed]"
     },
     "metadata": {},
     "output_type": "display_data"
    }
   ],
   "source": [
    "val samples = logger.steps\n",
    "\n",
    "val dataFrame = DataFrame(Seq(\n",
    "    DataFrame.Column.ofContinuous(samples.map((s : logger.StepInfo) => s.state(0)), \"x\"),\n",
    "    DataFrame.Column.ofContinuous(samples.map((s : logger.StepInfo) => s.state(1)), \"y\"),\n",
    "    DataFrame.Column.ofNominals(samples.map((s : logger.StepInfo) => if s.accepted then \"accepted\" else \"rejected\"), \"State\")\n",
    "))\n",
    "           \n",
    "dataFrame.plot.scatterPlot(\"x\", \"y\", title = \"Samples\", colorField = \"State\").show()"
   ]
  },
  {
   "cell_type": "code",
   "execution_count": null,
   "id": "1dc83f8a-f077-4b1d-aed3-11a752f28dca",
   "metadata": {},
   "outputs": [],
   "source": []
  },
  {
   "cell_type": "markdown",
   "id": "2adfe563-4953-4d8e-9ed8-a975d781af94",
   "metadata": {},
   "source": [
    "### Exercises\n",
    "\n",
    "* We have started sampling from close to the mean of the target distribution. What happens when we start at the Point (0,0)?\n",
    "    * Visualize the resulting samples using the plot functions\n",
    "    * How could we mitigate the situation?\n",
    "* Play with different step-length in the proposal.\n",
    "    * What happens to the acceptance and rejection rate?\n",
    "    * How well is the target distribution approximated after a fixed number of samples\n",
    "* Experiment with different target distributions.\n",
    "    * Make the variance larger and smaller\n",
    "    * Change the correlation\n",
    "    * Assign to all samples whose x value is larger then 5 the probability 0.\n",
    "        * Do you need to normalize the pdf? why, why not?\n",
    "* Define a function that computes the expected value of a given function, using the samples\n",
    "* How could you get samples from the marginal distributions?\n"
   ]
  },
  {
   "cell_type": "code",
   "execution_count": null,
   "id": "5b4a630e-c4e7-408f-bc0e-8925767e5097",
   "metadata": {},
   "outputs": [],
   "source": []
  },
  {
   "cell_type": "code",
   "execution_count": null,
   "id": "18e9f29e-cf7e-4bb9-b452-935b8bb0fea4",
   "metadata": {},
   "outputs": [],
   "source": []
  }
 ],
 "metadata": {
  "kernelspec": {
   "display_name": "Scala",
   "language": "scala",
   "name": "scala"
  },
  "language_info": {
   "codemirror_mode": "text/x-scala",
   "file_extension": ".sc",
   "mimetype": "text/x-scala",
   "name": "scala",
   "nbconvert_exporter": "script",
   "version": "2.13.8"
  }
 },
 "nbformat": 4,
 "nbformat_minor": 5
}
