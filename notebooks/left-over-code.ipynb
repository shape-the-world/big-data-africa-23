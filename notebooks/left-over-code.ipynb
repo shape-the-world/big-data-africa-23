{
 "cells": [
  {
   "cell_type": "code",
   "execution_count": null,
   "id": "b1857472-df30-4730-9e74-03a6f84e57ff",
   "metadata": {},
   "outputs": [],
   "source": []
  },
  {
   "cell_type": "markdown",
   "id": "bec9b340-1d83-4760-b624-1773f00ec6b8",
   "metadata": {},
   "source": [
    "### Bonus: Looking ahead"
   ]
  },
  {
   "cell_type": "markdown",
   "id": "42660f15-2880-475a-aa34-d645204404d6",
   "metadata": {},
   "source": [
    "You may have noticed that we have not yet looked at the data. Using our model to infer from data is subject to part 3 of the course. However, if you are fast (and bored) we can still look ahead a bit. First we will just visualize the data:\n"
   ]
  },
  {
   "cell_type": "code",
   "execution_count": 44,
   "id": "d06db8a4-0331-4cf3-b147-5aa9d0752813",
   "metadata": {},
   "outputs": [
    {
     "data": {
      "application/vnd.vega.v5+json": {
       "$schema": "https://vega.github.io/schema/vega-lite/v5.json",
       "data": {
        "values": [
         {
          "Length": "17.3",
          "Span": "20"
         },
         {
          "Length": "18",
          "Span": "19.5"
         },
         {
          "Length": "18.5",
          "Span": "20"
         },
         {
          "Length": "19",
          "Span": "20.6"
         },
         {
          "Length": "19.5",
          "Span": "22"
         },
         {
          "Length": "19.5",
          "Span": "20"
         },
         {
          "Length": "21.5",
          "Span": "23.5"
         },
         {
          "Length": "21",
          "Span": "24"
         },
         {
          "Length": "19.1",
          "Span": "21.5"
         },
         {
          "Length": "19.5",
          "Span": "23"
         },
         {
          "Length": "21",
          "Span": "22.7"
         },
         {
          "Length": "19",
          "Span": "21.5"
         },
         {
          "Length": "19.8",
          "Span": "22.2"
         },
         {
          "Length": "17.5",
          "Span": "20"
         },
         {
          "Length": "17.5",
          "Span": "21.3"
         },
         {
          "Length": "16.8",
          "Span": "19"
         },
         {
          "Length": "19",
          "Span": "20.5"
         },
         {
          "Length": "19.7",
          "Span": "21.1"
         },
         {
          "Length": "22",
          "Span": "19"
         },
         {
          "Length": "18.2",
          "Span": "19.8"
         },
         {
          "Length": "19.5",
          "Span": "21"
         },
         {
          "Length": "19.5",
          "Span": "22"
         },
         {
          "Length": "22",
          "Span": "19"
         },
         {
          "Length": "19",
          "Span": "18"
         },
         {
          "Length": "20",
          "Span": "22"
         },
         {
          "Length": "19",
          "Span": "18"
         },
         {
          "Length": "19",
          "Span": "21"
         },
         {
          "Length": "22",
          "Span": "23"
         },
         {
          "Length": "22",
          "Span": "23"
         },
         {
          "Length": "21",
          "Span": "24"
         },
         {
          "Length": "18.5",
          "Span": "19"
         },
         {
          "Length": "17.8",
          "Span": "15.24"
         },
         {
          "Length": "21",
          "Span": "23"
         },
         {
          "Length": "19",
          "Span": "18"
         },
         {
          "Length": "20",
          "Span": "18.5"
         },
         {
          "Length": "18",
          "Span": "19.5"
         },
         {
          "Length": "17.5",
          "Span": "18.5"
         },
         {
          "Length": "18",
          "Span": "19"
         },
         {
          "Length": "18.5",
          "Span": "20.8"
         },
         {
          "Length": "19",
          "Span": "18.5"
         },
         {
          "Length": "19",
          "Span": "20"
         },
         {
          "Length": "21",
          "Span": "24"
         },
         {
          "Length": "18.6",
          "Span": "18.1"
         },
         {
          "Length": "19.5",
          "Span": "21.5"
         },
         {
          "Length": "24",
          "Span": "23"
         },
         {
          "Length": "19.5",
          "Span": "20.5"
         },
         {
          "Length": "19.5",
          "Span": "22.5"
         },
         {
          "Length": "19",
          "Span": "20"
         },
         {
          "Length": "19.5",
          "Span": "20"
         },
         {
          "Length": "20.5",
          "Span": "23.5"
         },
         {
          "Length": "19.5",
          "Span": "21.5"
         },
         {
          "Length": "19.2",
          "Span": "20.3"
         },
         {
          "Length": "19.5",
          "Span": "21.3"
         },
         {
          "Length": "18.3",
          "Span": "19.5"
         },
         {
          "Length": "19.5",
          "Span": "20"
         },
         {
          "Length": "19.1",
          "Span": "15.5"
         },
         {
          "Length": "19.5",
          "Span": "17.5"
         },
         {
          "Length": "19",
          "Span": "20"
         },
         {
          "Length": "20.3",
          "Span": "22.5"
         },
         {
          "Length": "16",
          "Span": "17"
         },
         {
          "Length": "20",
          "Span": "22.5"
         },
         {
          "Length": "16.5",
          "Span": "15"
         },
         {
          "Length": "16.5",
          "Span": "18"
         },
         {
          "Length": "19.5",
          "Span": "20.5"
         },
         {
          "Length": "18",
          "Span": "14.5"
         },
         {
          "Length": "17",
          "Span": "19"
         },
         {
          "Length": "19",
          "Span": "20"
         },
         {
          "Length": "21.5",
          "Span": "19.2"
         },
         {
          "Length": "20.5",
          "Span": "23"
         },
         {
          "Length": "19.7",
          "Span": "22"
         },
         {
          "Length": "21.5",
          "Span": "23.8"
         },
         {
          "Length": "16.7",
          "Span": "18.6"
         },
         {
          "Length": "18.8",
          "Span": "19.6"
         },
         {
          "Length": "19.6",
          "Span": "18"
         },
         {
          "Length": "19.5",
          "Span": "18.5"
         },
         {
          "Length": "18",
          "Span": "20"
         },
         {
          "Length": "19",
          "Span": "20"
         },
         {
          "Length": "16.8",
          "Span": "13.9"
         },
         {
          "Length": "20",
          "Span": "21"
         },
         {
          "Length": "18.5",
          "Span": "21.7"
         },
         {
          "Length": "16.4",
          "Span": "19"
         },
         {
          "Length": "22.5",
          "Span": "21"
         },
         {
          "Length": "17.8",
          "Span": "14"
         },
         {
          "Length": "17.1",
          "Span": "18"
         },
         {
          "Length": "21",
          "Span": "19.5"
         },
         {
          "Length": "21",
          "Span": "18"
         },
         {
          "Length": "19",
          "Span": "17.5"
         },
         {
          "Length": "17",
          "Span": "16"
         },
         {
          "Length": "20",
          "Span": "21"
         },
         {
          "Length": "16.5",
          "Span": "18"
         },
         {
          "Length": "20.3",
          "Span": "23.7"
         },
         {
          "Length": "21",
          "Span": "18"
         },
         {
          "Length": "19",
          "Span": "19.5"
         },
         {
          "Length": "18",
          "Span": "19"
         },
         {
          "Length": "17.5",
          "Span": "12.5"
         },
         {
          "Length": "17.5",
          "Span": "17.5"
         },
         {
          "Length": "20",
          "Span": "15"
         },
         {
          "Length": "19.5",
          "Span": "22.5"
         },
         {
          "Length": "18.5",
          "Span": "15"
         },
         {
          "Length": "15",
          "Span": "17"
         },
         {
          "Length": "19",
          "Span": "23.5"
         },
         {
          "Length": "19",
          "Span": "20"
         },
         {
          "Length": "20.8",
          "Span": "20.8"
         },
         {
          "Length": "17.5",
          "Span": "20"
         },
         {
          "Length": "20",
          "Span": "17"
         },
         {
          "Length": "17.5",
          "Span": "15"
         },
         {
          "Length": "19",
          "Span": "20"
         },
         {
          "Length": "19",
          "Span": "16"
         },
         {
          "Length": "17",
          "Span": "20"
         },
         {
          "Length": "20",
          "Span": "21"
         },
         {
          "Length": "19.5",
          "Span": "18"
         },
         {
          "Length": "21.5",
          "Span": "25"
         },
         {
          "Length": "21",
          "Span": "26.25"
         },
         {
          "Length": "19.5",
          "Span": "21.7"
         },
         {
          "Length": "19",
          "Span": "20.5"
         },
         {
          "Length": "17.5",
          "Span": "18"
         },
         {
          "Length": "21",
          "Span": "22"
         },
         {
          "Length": "22",
          "Span": "25.5"
         },
         {
          "Length": "18.9",
          "Span": "19.6"
         },
         {
          "Length": "17.5",
          "Span": "20.7"
         },
         {
          "Length": "18.7",
          "Span": "22.3"
         },
         {
          "Length": "19.6",
          "Span": "21.2"
         },
         {
          "Length": "20.1",
          "Span": "22.3"
         },
         {
          "Length": "18.3",
          "Span": "19.5"
         },
         {
          "Length": "19",
          "Span": "22.4"
         },
         {
          "Length": "19.8",
          "Span": "21"
         },
         {
          "Length": "18.5",
          "Span": "20"
         },
         {
          "Length": "16.5",
          "Span": "10"
         },
         {
          "Length": "15.2",
          "Span": "14.1"
         },
         {
          "Length": "19",
          "Span": "20.5"
         },
         {
          "Length": "18",
          "Span": "21"
         },
         {
          "Length": "21",
          "Span": "23.8"
         },
         {
          "Length": "18",
          "Span": "15"
         },
         {
          "Length": "19",
          "Span": "15.8"
         },
         {
          "Length": "20.3",
          "Span": "22.2"
         },
         {
          "Length": "18.5",
          "Span": "20.5"
         },
         {
          "Length": "19",
          "Span": "17"
         },
         {
          "Length": "18",
          "Span": "21"
         },
         {
          "Length": "18.5",
          "Span": "20"
         },
         {
          "Length": "17",
          "Span": "15"
         },
         {
          "Length": "17.5",
          "Span": "20.5"
         },
         {
          "Length": "20",
          "Span": "23"
         },
         {
          "Length": "19.2",
          "Span": "21.5"
         },
         {
          "Length": "19",
          "Span": "17"
         },
         {
          "Length": "18.5",
          "Span": "22.5"
         },
         {
          "Length": "20",
          "Span": "23"
         },
         {
          "Length": "19",
          "Span": "18"
         },
         {
          "Length": "17.2",
          "Span": "13.4"
         },
         {
          "Length": "18",
          "Span": "20.5"
         },
         {
          "Length": "18.4",
          "Span": "20.5"
         },
         {
          "Length": "17",
          "Span": "18"
         },
         {
          "Length": "20",
          "Span": "22"
         },
         {
          "Length": "19",
          "Span": "20"
         },
         {
          "Length": "18.5",
          "Span": "20.5"
         },
         {
          "Length": "18",
          "Span": "19"
         },
         {
          "Length": "17.4",
          "Span": "19.5"
         },
         {
          "Length": "19.6",
          "Span": "19.4"
         },
         {
          "Length": "19.7",
          "Span": "18.9"
         },
         {
          "Length": "20",
          "Span": "21.3"
         },
         {
          "Length": "19.4",
          "Span": "18.3"
         },
         {
          "Length": "17",
          "Span": "19.7"
         },
         {
          "Length": "17.9",
          "Span": "16.4"
         },
         {
          "Length": "22",
          "Span": "20.5"
         },
         {
          "Length": "19.1",
          "Span": "20.3"
         },
         {
          "Length": "16.5",
          "Span": "14.9"
         },
         {
          "Length": "15",
          "Span": "15.5"
         },
         {
          "Length": "17.5",
          "Span": "15"
         },
         {
          "Length": "18",
          "Span": "19"
         },
         {
          "Length": "18",
          "Span": "17"
         },
         {
          "Length": "20.5",
          "Span": "23"
         },
         {
          "Length": "19.5",
          "Span": "22"
         },
         {
          "Length": "17",
          "Span": "19.1"
         },
         {
          "Length": "17.2",
          "Span": "18"
         },
         {
          "Length": "19",
          "Span": "22.5"
         },
         {
          "Length": "17.8",
          "Span": "19.4"
         },
         {
          "Length": "19",
          "Span": "17.5"
         },
         {
          "Length": "18",
          "Span": "19.5"
         },
         {
          "Length": "19",
          "Span": "22.3"
         },
         {
          "Length": "17.6",
          "Span": "18"
         },
         {
          "Length": "20.3",
          "Span": "21"
         },
         {
          "Length": "20.3",
          "Span": "23.3"
         },
         {
          "Length": "20.5",
          "Span": "22.4"
         },
         {
          "Length": "18",
          "Span": "19"
         },
         {
          "Length": "17.2",
          "Span": "21.7"
         },
         {
          "Length": "19.7",
          "Span": "21.3"
         },
         {
          "Length": "19.5",
          "Span": "20"
         },
         {
          "Length": "18",
          "Span": "19.5"
         },
         {
          "Length": "18",
          "Span": "20"
         },
         {
          "Length": "18.5",
          "Span": "20"
         },
         {
          "Length": "21",
          "Span": "19"
         },
         {
          "Length": "19",
          "Span": "23"
         },
         {
          "Length": "18",
          "Span": "22"
         },
         {
          "Length": "19",
          "Span": "15"
         },
         {
          "Length": "19",
          "Span": "21"
         },
         {
          "Length": "19.5",
          "Span": "17.5"
         },
         {
          "Length": "18",
          "Span": "17"
         },
         {
          "Length": "18.75",
          "Span": "15.25"
         },
         {
          "Length": "19.5",
          "Span": "17"
         },
         {
          "Length": "19.5",
          "Span": "22"
         },
         {
          "Length": "20.5",
          "Span": "21"
         },
         {
          "Length": "18.3",
          "Span": "18"
         },
         {
          "Length": "17.7",
          "Span": "17.5"
         },
         {
          "Length": "18",
          "Span": "18"
         },
         {
          "Length": "19",
          "Span": "19.3"
         },
         {
          "Length": "19.5",
          "Span": "20.5"
         },
         {
          "Length": "21",
          "Span": "20"
         },
         {
          "Length": "21",
          "Span": "22.6"
         },
         {
          "Length": "23.5",
          "Span": "22.5"
         },
         {
          "Length": "20",
          "Span": "17"
         },
         {
          "Length": "19",
          "Span": "16.5"
         },
         {
          "Length": "15",
          "Span": "17.5"
         },
         {
          "Length": "20.2",
          "Span": "19.1"
         },
         {
          "Length": "19",
          "Span": "22"
         },
         {
          "Length": "18",
          "Span": "17.5"
         },
         {
          "Length": "19",
          "Span": "17"
         },
         {
          "Length": "19.3",
          "Span": "21.5"
         },
         {
          "Length": "20",
          "Span": "23"
         },
         {
          "Length": "17.8",
          "Span": "23"
         },
         {
          "Length": "18.5",
          "Span": "15.5"
         },
         {
          "Length": "19",
          "Span": "21"
         },
         {
          "Length": "17",
          "Span": "14"
         },
         {
          "Length": "18",
          "Span": "20"
         },
         {
          "Length": "16",
          "Span": "19"
         },
         {
          "Length": "18",
          "Span": "16"
         },
         {
          "Length": "16",
          "Span": "14"
         },
         {
          "Length": "18",
          "Span": "20"
         },
         {
          "Length": "18",
          "Span": "19"
         },
         {
          "Length": "18",
          "Span": "16"
         },
         {
          "Length": "17",
          "Span": "18.9"
         },
         {
          "Length": "19.9",
          "Span": "21.1"
         },
         {
          "Length": "18.1",
          "Span": "19.5"
         },
         {
          "Length": "21",
          "Span": "23.5"
         },
         {
          "Length": "19.5",
          "Span": "20.5"
         }
        ]
       },
       "description": ".",
       "encoding": {
        "x": {
         "field": "Length",
         "scale": {
          "zero": false
         },
         "type": "quantitative"
        },
        "y": {
         "field": "Span",
         "scale": {
          "zero": false
         },
         "type": "quantitative"
        }
       },
       "height": 600,
       "mark": "circle",
       "title": "Length vs Span",
       "width": 800
      },
      "image/png": "[encoded data removed]"
     },
     "metadata": {},
     "output_type": "display_data"
    }
   ],
   "source": [
    "data.plot.scatterPlot(\"Length\", \"Span\" , \"Length vs Span\" ).show()"
   ]
  },
  {
   "cell_type": "code",
   "execution_count": null,
   "id": "359ed1dc-00e0-4390-aadd-df54c92cb72c",
   "metadata": {},
   "outputs": [],
   "source": []
  },
  {
   "cell_type": "markdown",
   "id": "17f6d3a0-d122-4f58-be6a-7a05c2a5195f",
   "metadata": {},
   "source": [
    "Now we have the model \n",
    "\n",
    "$p(\\sigma, \\mu | D) = p(\\sigma, \\mu) p(D | \\sigma, \\mu) / p(D)$"
   ]
  },
  {
   "cell_type": "code",
   "execution_count": 13,
   "id": "6972c8d9-540f-4697-bee9-d5a86ec371a8",
   "metadata": {},
   "outputs": [],
   "source": [
    "val lengthData = Seq(20.0, 21.3, 22.9)"
   ]
  },
  {
   "cell_type": "code",
   "execution_count": 14,
   "id": "6fb2b2bb-e0ac-4e25-95ab-8ea136263726",
   "metadata": {},
   "outputs": [],
   "source": [
    "def likelihood(mu : Double, sigma : Double) : Double = \n",
    "    \n",
    "    val likelihoodI = for length <- lengthData yield\n",
    "        Gaussian(mu, sigma).pdf(length)\n",
    "    likelihoodI.sum"
   ]
  },
  {
   "cell_type": "code",
   "execution_count": null,
   "id": "6cb37aa3-81db-4f2b-a8d8-e0a006be8aee",
   "metadata": {},
   "outputs": [],
   "source": []
  },
  {
   "cell_type": "code",
   "execution_count": 18,
   "id": "b5a65c18-9d50-4e39-8ebd-a222fd626678",
   "metadata": {},
   "outputs": [],
   "source": [
    "val dMu = Gaussian(20.0, 1.0)\n",
    "val dSigma = Uniform(0, 1)\n",
    "val priorSamples = for i <- 0 until 100 yield (dMu.draw(), dSigma.draw())"
   ]
  },
  {
   "cell_type": "code",
   "execution_count": 19,
   "id": "eae7cd79-b149-47f2-9656-23b55a606239",
   "metadata": {},
   "outputs": [
    {
     "data": {
      "application/vnd.vega.v5+json": {
       "$schema": "https://vega.github.io/schema/vega-lite/v5.json",
       "data": {
        "values": [
         {
          "mu": "21.328966060109614",
          "sigma": "0.06320762523564905"
         },
         {
          "mu": "20.00249560388424",
          "sigma": "0.028952544185627316"
         },
         {
          "mu": "21.2388893615826",
          "sigma": "0.08531092516444683"
         },
         {
          "mu": "22.619260508661394",
          "sigma": "0.84277686060261"
         },
         {
          "mu": "19.755913895133588",
          "sigma": "0.5495005758893481"
         },
         {
          "mu": "20.08280939959167",
          "sigma": "0.5010631776206456"
         },
         {
          "mu": "21.541112665863228",
          "sigma": "0.30419868598945743"
         },
         {
          "mu": "22.060962741715016",
          "sigma": "0.8671671582954279"
         },
         {
          "mu": "19.855786190588393",
          "sigma": "0.24488947598440203"
         },
         {
          "mu": "20.070654370054474",
          "sigma": "0.17857996492104533"
         },
         {
          "mu": "19.707084889670316",
          "sigma": "0.36509987700095525"
         },
         {
          "mu": "20.00249560388424",
          "sigma": "0.028952544185627316"
         },
         {
          "mu": "19.78646570213191",
          "sigma": "0.39916114541848935"
         },
         {
          "mu": "20.6677531571092",
          "sigma": "0.6756891493658728"
         },
         {
          "mu": "19.630035297512794",
          "sigma": "0.3433917262004158"
         },
         {
          "mu": "19.70289169958238",
          "sigma": "0.3998016980429162"
         },
         {
          "mu": "21.56532039767231",
          "sigma": "0.5896947225402012"
         },
         {
          "mu": "21.2388893615826",
          "sigma": "0.08531092516444683"
         },
         {
          "mu": "21.119532030676694",
          "sigma": "0.15984528114017582"
         },
         {
          "mu": "20.00249560388424",
          "sigma": "0.028952544185627316"
         },
         {
          "mu": "20.00249560388424",
          "sigma": "0.028952544185627316"
         },
         {
          "mu": "20.680739087674215",
          "sigma": "0.6803486675078321"
         },
         {
          "mu": "21.2388893615826",
          "sigma": "0.08531092516444683"
         },
         {
          "mu": "21.328966060109614",
          "sigma": "0.06320762523564905"
         },
         {
          "mu": "20.21063025520056",
          "sigma": "0.9834262414544963"
         },
         {
          "mu": "20.837526659871653",
          "sigma": "0.8428548884238287"
         },
         {
          "mu": "19.70289169958238",
          "sigma": "0.3998016980429162"
         },
         {
          "mu": "20.246115939048885",
          "sigma": "0.9918903321669477"
         },
         {
          "mu": "19.755913895133588",
          "sigma": "0.5495005758893481"
         },
         {
          "mu": "19.928080863387706",
          "sigma": "0.6982484798465574"
         },
         {
          "mu": "20.00249560388424",
          "sigma": "0.028952544185627316"
         },
         {
          "mu": "19.630035297512794",
          "sigma": "0.3433917262004158"
         },
         {
          "mu": "19.8057680203227",
          "sigma": "0.11738029711758835"
         },
         {
          "mu": "20.00249560388424",
          "sigma": "0.028952544185627316"
         },
         {
          "mu": "19.755913895133588",
          "sigma": "0.5495005758893481"
         },
         {
          "mu": "20.46179103769938",
          "sigma": "0.7814796033776479"
         },
         {
          "mu": "21.85305264706982",
          "sigma": "0.29407665853040843"
         },
         {
          "mu": "21.328966060109614",
          "sigma": "0.06320762523564905"
         },
         {
          "mu": "19.78646570213191",
          "sigma": "0.39916114541848935"
         },
         {
          "mu": "21.230233920393584",
          "sigma": "0.6817399488993654"
         },
         {
          "mu": "21.2388893615826",
          "sigma": "0.08531092516444683"
         },
         {
          "mu": "20.47065919315553",
          "sigma": "0.958740926284771"
         },
         {
          "mu": "19.630035297512794",
          "sigma": "0.3433917262004158"
         },
         {
          "mu": "21.036102822759098",
          "sigma": "0.26720703724300887"
         },
         {
          "mu": "20.183918803316168",
          "sigma": "0.1533688803343607"
         },
         {
          "mu": "20.6677531571092",
          "sigma": "0.6756891493658728"
         },
         {
          "mu": "19.8057680203227",
          "sigma": "0.11738029711758835"
         },
         {
          "mu": "21.2388893615826",
          "sigma": "0.08531092516444683"
         },
         {
          "mu": "21.026261268497436",
          "sigma": "0.5181498195331466"
         },
         {
          "mu": "20.00249560388424",
          "sigma": "0.028952544185627316"
         },
         {
          "mu": "19.855786190588393",
          "sigma": "0.24488947598440203"
         },
         {
          "mu": "21.119532030676694",
          "sigma": "0.15984528114017582"
         },
         {
          "mu": "20.680739087674215",
          "sigma": "0.6803486675078321"
         },
         {
          "mu": "20.318253535264244",
          "sigma": "0.9873487639142862"
         },
         {
          "mu": "18.863517084431557",
          "sigma": "0.7781715919892229"
         },
         {
          "mu": "20.08280939959167",
          "sigma": "0.5010631776206456"
         },
         {
          "mu": "20.47065919315553",
          "sigma": "0.958740926284771"
         },
         {
          "mu": "20.46179103769938",
          "sigma": "0.7814796033776479"
         },
         {
          "mu": "20.64811013158631",
          "sigma": "0.8130538652345072"
         },
         {
          "mu": "19.707084889670316",
          "sigma": "0.36509987700095525"
         },
         {
          "mu": "20.837526659871653",
          "sigma": "0.8428548884238287"
         },
         {
          "mu": "20.344988144574028",
          "sigma": "0.8442349648149945"
         },
         {
          "mu": "19.78646570213191",
          "sigma": "0.39916114541848935"
         },
         {
          "mu": "20.636613403601643",
          "sigma": "0.6347863231544912"
         },
         {
          "mu": "20.00249560388424",
          "sigma": "0.028952544185627316"
         },
         {
          "mu": "21.541112665863228",
          "sigma": "0.30419868598945743"
         },
         {
          "mu": "20.477869230456747",
          "sigma": "0.7645619677526638"
         },
         {
          "mu": "20.381107765085588",
          "sigma": "0.9799623335489527"
         },
         {
          "mu": "19.77084729248894",
          "sigma": "0.37674127363182763"
         },
         {
          "mu": "20.00249560388424",
          "sigma": "0.028952544185627316"
         },
         {
          "mu": "19.855786190588393",
          "sigma": "0.24488947598440203"
         },
         {
          "mu": "21.56532039767231",
          "sigma": "0.5896947225402012"
         },
         {
          "mu": "20.00249560388424",
          "sigma": "0.028952544185627316"
         },
         {
          "mu": "20.771658781973787",
          "sigma": "0.7032175014269013"
         },
         {
          "mu": "20.84437536655338",
          "sigma": "0.7372542381235958"
         },
         {
          "mu": "20.22317975105258",
          "sigma": "0.5596824126123958"
         },
         {
          "mu": "21.2388893615826",
          "sigma": "0.08531092516444683"
         },
         {
          "mu": "19.707084889670316",
          "sigma": "0.36509987700095525"
         },
         {
          "mu": "21.85305264706982",
          "sigma": "0.29407665853040843"
         },
         {
          "mu": "19.8057680203227",
          "sigma": "0.11738029711758835"
         },
         {
          "mu": "19.8057680203227",
          "sigma": "0.11738029711758835"
         },
         {
          "mu": "19.78646570213191",
          "sigma": "0.39916114541848935"
         },
         {
          "mu": "20.00249560388424",
          "sigma": "0.028952544185627316"
         },
         {
          "mu": "20.070654370054474",
          "sigma": "0.17857996492104533"
         },
         {
          "mu": "21.1385978264253",
          "sigma": "0.3004036819393041"
         },
         {
          "mu": "20.636613403601643",
          "sigma": "0.6347863231544912"
         },
         {
          "mu": "20.070654370054474",
          "sigma": "0.17857996492104533"
         },
         {
          "mu": "19.8057680203227",
          "sigma": "0.11738029711758835"
         },
         {
          "mu": "20.477869230456747",
          "sigma": "0.7645619677526638"
         },
         {
          "mu": "19.77084729248894",
          "sigma": "0.37674127363182763"
         },
         {
          "mu": "20.383591507590385",
          "sigma": "0.26503969943949723"
         },
         {
          "mu": "20.00249560388424",
          "sigma": "0.028952544185627316"
         },
         {
          "mu": "20.22317975105258",
          "sigma": "0.5596824126123958"
         },
         {
          "mu": "20.00249560388424",
          "sigma": "0.028952544185627316"
         },
         {
          "mu": "20.00249560388424",
          "sigma": "0.028952544185627316"
         },
         {
          "mu": "20.00249560388424",
          "sigma": "0.028952544185627316"
         },
         {
          "mu": "19.77084729248894",
          "sigma": "0.37674127363182763"
         },
         {
          "mu": "20.00249560388424",
          "sigma": "0.028952544185627316"
         },
         {
          "mu": "21.2388893615826",
          "sigma": "0.08531092516444683"
         },
         {
          "mu": "21.2388893615826",
          "sigma": "0.08531092516444683"
         }
        ]
       },
       "description": ".",
       "encoding": {
        "x": {
         "bin": true,
         "field": "mu",
         "type": "quantitative"
        },
        "y": {
         "aggregate": "count",
         "field": "mu",
         "type": "quantitative"
        }
       },
       "height": 600,
       "mark": "bar",
       "title": "posterior",
       "width": 800
      },
      "image/png": "[encoded data removed]"
     },
     "metadata": {},
     "output_type": "display_data"
    }
   ],
   "source": [
    "val likelihoods = for (mu, sigma) <- priorSamples yield likelihood(mu, sigma)\n",
    "val n = likelihoods.sum\n",
    "val qis = for (mu, sigma) <- priorSamples yield likelihood(mu, sigma) / n\n",
    "\n",
    "val cumsum = qis.scanLeft[Double](0)((acc, x) => acc + x)\n",
    "val samples = for priorSample <- priorSamples yield\n",
    "    val r = Uniform(0, 1).draw()\n",
    "    val i = cumsum.indexWhere(s => s > r) - 1\n",
    "    priorSamples(i)\n",
    "\n",
    "DataFrame.fromColumns(Seq(\n",
    "    DataFrame.Column.ofContinuous(samples.map(s => s._1), \"mu\"), \n",
    "    DataFrame.Column.ofContinuous(samples.map(s => s._2), \"sigma\")\n",
    "    )\n",
    ").plot.histogram(\"mu\", title= \"posterior\") .show()"
   ]
  },
  {
   "cell_type": "code",
   "execution_count": 21,
   "id": "68d176de-5cbd-4204-a6ba-e54f12966388",
   "metadata": {},
   "outputs": [
    {
     "name": "stdout",
     "output_type": "stream",
     "text": [
      "hello world\n"
     ]
    }
   ],
   "source": [
    "println(\"hello world\")"
   ]
  },
  {
   "cell_type": "markdown",
   "id": "e0a4e592-f160-497f-8ada-ba38bb47c55c",
   "metadata": {},
   "source": [
    "//p(h | mu, sigma) p(mu, sigma) / p(h) = p(h, mu, sigma) = p(mu, sigma | h) "
   ]
  }
 ],
 "metadata": {
  "kernelspec": {
   "display_name": "Scala",
   "language": "scala",
   "name": "scala"
  },
  "language_info": {
   "codemirror_mode": "text/x-scala",
   "file_extension": ".sc",
   "mimetype": "text/x-scala",
   "name": "scala",
   "nbconvert_exporter": "script",
   "version": "2.13.8"
  }
 },
 "nbformat": 4,
 "nbformat_minor": 5
}
