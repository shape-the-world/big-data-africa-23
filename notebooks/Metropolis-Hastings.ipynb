{
 "cells": [
  {
   "cell_type": "markdown",
   "id": "6f621c01-3c46-4913-95b8-2acf411a8893",
   "metadata": {},
   "source": [
    "# Metropolis Sampling\n",
    "\n",
    "### Marcel Lüthi, Departement of Mathematics and Computer Science, University of Basel\n",
    "\n",
    "\n",
    "\n",
    "In this notebook we will present an implementation of the Metropolis algorithm and experiment with it. As a target distribution we will use a bivariate normal distribution. This simple setup is ideally suited for exploring the properties of the algorithm: We know how the true target distribution looks like, can change its shape, and we can visualize the samples.\n",
    "\n",
    "The intuition that we develop while experimenting with this simple examples, will help us to understand the more complicated cases that we will explore later in this course.\n"
   ]
  },
  {
   "cell_type": "markdown",
   "id": "c391f30c-36d3-41a2-9ab0-84bbdba3d20a",
   "metadata": {},
   "source": [
    "### Preparation\n",
    "\n",
    "Before we start, we need to download the plotting library scalismo-plot and make it available in the Jupyter-Notebook. It may take some time when you execute the following cells for the first time."
   ]
  },
  {
   "cell_type": "code",
   "execution_count": 3,
   "id": "72a15b87-1172-417f-b693-7151dfe58687",
   "metadata": {},
   "outputs": [
    {
     "data": {
      "text/plain": [
       "\u001b[36mapi\u001b[39m: \u001b[32mJupyterApi\u001b[39m = almond.JupyterApiImpl@82bb8ff"
      ]
     },
     "execution_count": 3,
     "metadata": {},
     "output_type": "execute_result"
    }
   ],
   "source": [
    "// Suppressing excessive output for the jupyter-notebook\n",
    "val api = implicitly[almond.api.JupyterApi]\n",
    "api.silent(true)"
   ]
  },
  {
   "cell_type": "code",
   "execution_count": 39,
   "id": "308249c5-dd09-4c1d-adc8-46f7d5981e21",
   "metadata": {},
   "outputs": [],
   "source": [
    "import coursierapi.{Credentials, MavenRepository}\n",
    "interp.repositories() ++= Seq(\n",
    "  MavenRepository.of(\"https://oss.sonatype.org/content/repositories/snapshots\")\n",
    ")\n",
    "\n",
    "import $ivy.`org.scalanlp::breeze:2.1.0`\n",
    "import $ivy.`org.scalanlp::breeze-natives:2.1.0`\n",
    "import $ivy.`ch.unibas.cs.gravis::scalismo-plot:0.1-SNAPSHOT`\n",
    "\n",
    "import breeze.linalg.{DenseVector, DenseMatrix}\n",
    "import breeze.stats.distributions.MultivariateGaussian \n",
    "import breeze.stats.distributions.Rand.FixedSeed.randBasis\n",
    "\n",
    "import scalismo.plot.data.DataFrame\n",
    "import scalismo.plot.plottarget.PlotTarget.plotTargetJupyter"
   ]
  },
  {
   "cell_type": "markdown",
   "id": "1560f2d1-2d56-46e7-818c-9aee5991159a",
   "metadata": {},
   "source": [
    "We also initialize a global random number generator, which we use whenever we need a new random number in our algorithm."
   ]
  },
  {
   "cell_type": "code",
   "execution_count": 5,
   "id": "13711ea8-f6da-4583-aa69-e0f096d8ecd0",
   "metadata": {},
   "outputs": [],
   "source": [
    "// We keep random number generator around as global state\n",
    "val rng = new scala.util.Random()"
   ]
  },
  {
   "cell_type": "markdown",
   "id": "7241c6de-6166-4985-a193-76eaafa76cc2",
   "metadata": {},
   "source": [
    "\n",
    "### The Metropolis algorithm\n",
    "\n",
    "The Metropolis algorithm works by simulating a random path through the states on which the target distribution is defined. Starting from a given state, a possible new state is proposed using a proposal function. The new state is then evaluated given the target distribution and rejected or accepted depending on the likelihood ratio between the old and new state.\n",
    "\n",
    "This motivates the following definitions:\n"
   ]
  },
  {
   "cell_type": "code",
   "execution_count": 8,
   "id": "cdd93b8a-a43b-47cb-a92c-c0ae14085863",
   "metadata": {},
   "outputs": [],
   "source": [
    "type State = DenseVector[Double]  // The state is represented as a vector\n",
    "type Proposal = State => State  // The proposal function produces a new state from a given state\n",
    "type DistributionEvaluator = State => Double // The distribution evaluator evaluates a probability of each state"
   ]
  },
  {
   "cell_type": "markdown",
   "id": "8971d77c-eb6a-4785-b90e-f9ebdfe1f974",
   "metadata": {},
   "source": [
    "\n",
    "In order to understand and be able to visualize how the Metropolis algorithm walks through the state-space, we introduce a logger. The logger keeps track of the sequence of states, together with the information, which new state was proposed in each step:"
   ]
  },
  {
   "cell_type": "code",
   "execution_count": 9,
   "id": "427bf362-9235-4e36-b8b5-83226b02b1a7",
   "metadata": {},
   "outputs": [],
   "source": [
    "class Logger:\n",
    "    case class StepInfo(state : State, proposedState : State):\n",
    "        def accepted : Boolean = state == proposedState\n",
    "    \n",
    "\n",
    "    private val stepSeq = collection.mutable.Buffer[StepInfo]()\n",
    "    \n",
    "    def steps : Seq[StepInfo] = stepSeq.toSeq\n",
    "    \n",
    "    def logStep(state : State, proposedState : State) : Unit = stepSeq.append(StepInfo(state, proposedState))\n"
   ]
  },
  {
   "cell_type": "markdown",
   "id": "ec6778e5-285f-4157-b9a8-75539085b846",
   "metadata": {},
   "source": [
    "With these definitions, we are ready to implement the Metropolis sampler."
   ]
  },
  {
   "cell_type": "code",
   "execution_count": 11,
   "id": "5799aad9-20f7-4016-8293-f2152b2a87e6",
   "metadata": {},
   "outputs": [],
   "source": [
    "def metropolisSampler(p : DistributionEvaluator, q : Proposal, initialState : State, logger : Logger) : Iterator[State] = \n",
    "    // Simulates one step\n",
    "    def nextStep(currentState : State) : State = \n",
    "        \n",
    "        // propose a new state from the given state\n",
    "        val proposedState = q(currentState) \n",
    "        \n",
    "        // accept based on the ratio of probabilities between \n",
    "        // the new and the old state\n",
    "        val r = rng.nextDouble()\n",
    "        val alpha  = scala.math.min(1.0, p(proposedState) / p(currentState));\n",
    "        val nextState = if (r < alpha) proposedState else currentState\n",
    "        logger.logStep(nextState, proposedState)\n",
    "        nextState\n",
    "    \n",
    "    \n",
    "    // create an iterator starting from the initial state\n",
    "    Iterator.iterate(initialState)(nextStep)\n"
   ]
  },
  {
   "cell_type": "markdown",
   "id": "7262cdcc-c7ec-4d01-a13c-121ce4522a2d",
   "metadata": {},
   "source": [
    "This is it - this simple code is a complete implementation of the celebrated Metropolis algorithm!"
   ]
  },
  {
   "cell_type": "markdown",
   "id": "43936a39-ec03-4fd8-9839-a76330cf77fd",
   "metadata": {},
   "source": [
    "### Toy example: sampling from a bivariate normal\n",
    "\n",
    "We will now run the algorithm on a toy example, where we sample from a bivariate normal distribution. We start by defining the target probability distribution."
   ]
  },
  {
   "cell_type": "code",
   "execution_count": 14,
   "id": "14d3f35e-15c7-4917-a400-5fe4b234d417",
   "metadata": {},
   "outputs": [],
   "source": [
    "val bivariateNormal = MultivariateGaussian(\n",
    "    mean = DenseVector(9.0, 10.0), \n",
    "    covariance = DenseMatrix((2.0, 0.5), (0.5, 1.0))\n",
    ")"
   ]
  },
  {
   "cell_type": "markdown",
   "id": "7978cc91-ba9c-4fcd-b9cb-c77b94533a63",
   "metadata": {},
   "source": [
    "Let's plot some samples from the distribution:"
   ]
  },
  {
   "cell_type": "code",
   "execution_count": 17,
   "id": "5446834b-059a-491a-9792-3f7f59b88068",
   "metadata": {},
   "outputs": [
    {
     "data": {
      "application/vnd.vega.v5+json": {
       "$schema": "https://vega.github.io/schema/vega-lite/v5.json",
       "data": {
        "values": [
         {
          "x": "8.55933009380724",
          "y": "10.098097872086957"
         },
         {
          "x": "9.384428415515623",
          "y": "10.279910747942665"
         },
         {
          "x": "10.212169783369124",
          "y": "9.44372135711272"
         },
         {
          "x": "7.880772379481761",
          "y": "11.135514236472385"
         },
         {
          "x": "6.221874792031243",
          "y": "7.696395657761421"
         },
         {
          "x": "10.831566565422198",
          "y": "10.577065264576165"
         },
         {
          "x": "11.136696206093243",
          "y": "11.178446754450228"
         },
         {
          "x": "9.422419496502505",
          "y": "11.630646309756864"
         },
         {
          "x": "11.857916632676144",
          "y": "12.75441708562516"
         },
         {
          "x": "10.037120194121108",
          "y": "10.867781912631376"
         },
         {
          "x": "9.19442504762266",
          "y": "10.027621475484318"
         },
         {
          "x": "6.734077622464243",
          "y": "10.397208324772178"
         },
         {
          "x": "7.913643972102263",
          "y": "8.873456018394425"
         },
         {
          "x": "12.296443524764875",
          "y": "10.67881237693939"
         },
         {
          "x": "9.46232246159504",
          "y": "8.672507838875967"
         },
         {
          "x": "9.06916102018162",
          "y": "10.864893351033327"
         },
         {
          "x": "9.031545381115505",
          "y": "10.851242545745125"
         },
         {
          "x": "7.1585805058599306",
          "y": "9.406661441334466"
         },
         {
          "x": "6.896251024844741",
          "y": "8.976173396223054"
         },
         {
          "x": "8.494468853914425",
          "y": "8.678678001712195"
         },
         {
          "x": "8.44502713970404",
          "y": "10.30189620478249"
         },
         {
          "x": "12.12655819598849",
          "y": "9.727387072764676"
         },
         {
          "x": "9.223694310795045",
          "y": "11.406003371751167"
         },
         {
          "x": "9.095977169568757",
          "y": "9.87720906979402"
         },
         {
          "x": "9.620093908504845",
          "y": "10.074032664418091"
         },
         {
          "x": "8.94834806746979",
          "y": "10.100529777611143"
         },
         {
          "x": "9.010920390373252",
          "y": "11.984913547316275"
         },
         {
          "x": "11.298746720137572",
          "y": "10.090695584060443"
         },
         {
          "x": "7.754429092930998",
          "y": "7.616574657050952"
         },
         {
          "x": "8.914201870473553",
          "y": "9.51264243923457"
         },
         {
          "x": "8.723220239057326",
          "y": "11.220807047951991"
         },
         {
          "x": "8.242714899837603",
          "y": "10.316025619929654"
         },
         {
          "x": "9.20313316874377",
          "y": "11.80118297129223"
         },
         {
          "x": "6.92876788606573",
          "y": "9.934080050881505"
         },
         {
          "x": "10.274123194623412",
          "y": "8.975487852847582"
         },
         {
          "x": "8.51371883520183",
          "y": "9.873600369896096"
         },
         {
          "x": "8.497371179459682",
          "y": "9.501997055812529"
         },
         {
          "x": "9.99613986010959",
          "y": "9.989167765504387"
         },
         {
          "x": "8.88756564451566",
          "y": "9.745071660302687"
         },
         {
          "x": "10.781555262890144",
          "y": "10.403915018889077"
         },
         {
          "x": "11.00041692801187",
          "y": "11.1315870957547"
         },
         {
          "x": "10.076211577614007",
          "y": "11.279945893997215"
         },
         {
          "x": "9.963530491281169",
          "y": "10.930668501990993"
         },
         {
          "x": "8.507404198049535",
          "y": "10.172175002082673"
         },
         {
          "x": "10.522025674892646",
          "y": "10.173966744479833"
         },
         {
          "x": "8.775136414602414",
          "y": "10.889634277015734"
         },
         {
          "x": "10.511651873143226",
          "y": "9.619910251195826"
         },
         {
          "x": "6.837962336121781",
          "y": "8.974103506572199"
         },
         {
          "x": "7.1643681203955465",
          "y": "9.890165661939987"
         },
         {
          "x": "9.016458032355988",
          "y": "11.096120101831117"
         },
         {
          "x": "8.264475577401441",
          "y": "11.036348429138853"
         },
         {
          "x": "7.94191720955402",
          "y": "9.62476623499711"
         },
         {
          "x": "8.718627435588703",
          "y": "10.251196657804204"
         },
         {
          "x": "11.255075195697307",
          "y": "8.813301682504305"
         },
         {
          "x": "8.958880651091015",
          "y": "11.177887735764319"
         },
         {
          "x": "10.625498759140005",
          "y": "11.236340176967769"
         },
         {
          "x": "8.922847382505356",
          "y": "9.161577187343719"
         },
         {
          "x": "8.159789385452484",
          "y": "9.252172946777625"
         },
         {
          "x": "9.579166970842422",
          "y": "11.461015811297688"
         },
         {
          "x": "8.679260300600923",
          "y": "9.49528771326112"
         },
         {
          "x": "6.836129928889775",
          "y": "9.056072299048452"
         },
         {
          "x": "10.148599908984558",
          "y": "10.433239922456561"
         },
         {
          "x": "10.98455786189756",
          "y": "10.561218427486146"
         },
         {
          "x": "8.440927996816818",
          "y": "9.788396069919255"
         },
         {
          "x": "10.606596772735642",
          "y": "11.071311655287843"
         },
         {
          "x": "11.04583077265012",
          "y": "10.719800094330054"
         },
         {
          "x": "7.374761130487332",
          "y": "8.555464936293628"
         },
         {
          "x": "9.734910681376464",
          "y": "12.064679776982683"
         },
         {
          "x": "7.933131767826709",
          "y": "9.36169131656805"
         },
         {
          "x": "8.784202020913742",
          "y": "9.678676605215347"
         },
         {
          "x": "10.319059619928476",
          "y": "10.344585122339796"
         },
         {
          "x": "7.8244199884458085",
          "y": "9.138231934753339"
         },
         {
          "x": "12.930798601912784",
          "y": "10.363168676658809"
         },
         {
          "x": "8.70034302530786",
          "y": "9.358034528047725"
         },
         {
          "x": "6.909487706009498",
          "y": "9.3920586620992"
         },
         {
          "x": "9.774906371555891",
          "y": "8.24033459345804"
         },
         {
          "x": "7.488661459906169",
          "y": "10.003240834691443"
         },
         {
          "x": "7.9317779722594235",
          "y": "7.810046713429781"
         },
         {
          "x": "9.26293313336236",
          "y": "11.302165241407835"
         },
         {
          "x": "8.504974957811699",
          "y": "9.55575801405979"
         },
         {
          "x": "6.916717620663495",
          "y": "8.20418109077234"
         },
         {
          "x": "9.735333485380718",
          "y": "10.124189966273528"
         },
         {
          "x": "8.431461236848259",
          "y": "9.851436031957231"
         },
         {
          "x": "8.454030348450836",
          "y": "9.767439325320378"
         },
         {
          "x": "9.172765705980671",
          "y": "9.835010305767238"
         },
         {
          "x": "12.192599067837751",
          "y": "9.6334740890871"
         },
         {
          "x": "9.884590954072893",
          "y": "11.365419495520053"
         },
         {
          "x": "11.095963199379433",
          "y": "10.094084746650418"
         },
         {
          "x": "9.370579025511756",
          "y": "10.481404381355174"
         },
         {
          "x": "8.41317047852203",
          "y": "9.989206116085393"
         },
         {
          "x": "9.687811705479096",
          "y": "10.891130766085505"
         },
         {
          "x": "6.016587929147179",
          "y": "10.031667726297185"
         },
         {
          "x": "8.219808504089123",
          "y": "8.329142694629736"
         },
         {
          "x": "12.251795200879068",
          "y": "11.359660777208141"
         },
         {
          "x": "9.577006573682619",
          "y": "10.29835901223704"
         },
         {
          "x": "8.958345136894689",
          "y": "9.556696579809433"
         },
         {
          "x": "8.253868807053916",
          "y": "8.880204465836114"
         },
         {
          "x": "8.969698003866968",
          "y": "10.048709322595482"
         },
         {
          "x": "7.874976002375084",
          "y": "10.593466991281307"
         },
         {
          "x": "8.792496430250248",
          "y": "10.079888823563634"
         }
        ]
       },
       "description": ".",
       "encoding": {
        "x": {
         "field": "x",
         "scale": {
          "zero": false
         },
         "type": "quantitative"
        },
        "y": {
         "field": "y",
         "scale": {
          "zero": false
         },
         "type": "quantitative"
        }
       },
       "height": 600,
       "mark": "circle",
       "title": "samples",
       "width": 800
      },
      "image/png": "[encoded data removed]"
     },
     "metadata": {},
     "output_type": "display_data"
    }
   ],
   "source": [
    "val samples = for (_ <- 0 until 100) yield bivariateNormal.sample()\n",
    "val dataFrame = DataFrame(Seq(\n",
    "    DataFrame.Column.ofContinuous(samples.map(sample => sample(0)), \"x\"), \n",
    "    DataFrame.Column.ofContinuous(samples.map(sample => sample(1)), \"y\")\n",
    "    )\n",
    ")\n",
    "\n",
    "dataFrame.plot.scatterPlot(\"x\", \"y\", \"samples\").show()"
   ]
  },
  {
   "cell_type": "markdown",
   "id": "8486ae3b-bd63-42bd-8008-da08416ae27c",
   "metadata": {},
   "source": [
    "We also need to define a proposal generator. We define a simple random walk proposal, which chooses the new direction and step length randomly."
   ]
  },
  {
   "cell_type": "code",
   "execution_count": 18,
   "id": "9994b0a4-0461-46eb-97ff-a9c1a9aa12bb",
   "metadata": {},
   "outputs": [],
   "source": [
    "def randomWalkProposal(x : State) : State =\n",
    "    val stepLength = 0.5\n",
    "    \n",
    "    val step = DenseVector(rng.nextGaussian() * stepLength, rng.nextGaussian() * stepLength)\n",
    "    x + step\n"
   ]
  },
  {
   "cell_type": "markdown",
   "id": "a0039678-188f-4e42-bb8e-4b8eafb7f060",
   "metadata": {},
   "source": [
    "Now we can draw samples using our sampler."
   ]
  },
  {
   "cell_type": "code",
   "execution_count": 19,
   "id": "b2486da4-bc84-4313-ba40-84bb1e393498",
   "metadata": {},
   "outputs": [],
   "source": [
    "val logger = new Logger()\n",
    "val samples = metropolisSampler(bivariateNormal.pdf, randomWalkProposal, DenseVector(10, 10), logger).take(500).toSeq"
   ]
  },
  {
   "cell_type": "markdown",
   "id": "ad5d0a68-ef1a-4c3d-8dd4-62d4db79dc37",
   "metadata": {},
   "source": [
    "Computing the mean and the covariance from the samples shows, that the samples approximate the target distribution rather well."
   ]
  },
  {
   "cell_type": "code",
   "execution_count": 21,
   "id": "3c8407b6-7e35-4fc0-be03-6ac4a7e475e4",
   "metadata": {},
   "outputs": [],
   "source": [
    "val mean = samples.reduce(_ + _) * (1.0 / samples.length)\n",
    "val cov = samples.map(x => (x - mean) * (x - mean).t).reduce((a, b) => a + b) * (1.0 / samples.length)"
   ]
  },
  {
   "cell_type": "code",
   "execution_count": 24,
   "id": "fba41136-a123-4490-9df2-d84f33548b4f",
   "metadata": {},
   "outputs": [
    {
     "name": "stdout",
     "output_type": "stream",
     "text": [
      "mean: DenseVector(9.755702392972706, 10.055058325225877) \n",
      "cov: 1.9694765147836797   0.49112390270613726  \n",
      "0.49112390270613726  0.8140771351093409   \n"
     ]
    }
   ],
   "source": [
    "println(s\"mean: $mean \\ncov: $cov\")"
   ]
  },
  {
   "cell_type": "markdown",
   "id": "4ce0d92f-9fd1-41c7-a82d-bbba7ab3ecfc",
   "metadata": {},
   "source": [
    "We can also check this also visually by plotting the samples:"
   ]
  },
  {
   "cell_type": "code",
   "execution_count": 25,
   "id": "11931863-36b8-4700-a888-ad0155a3e9dd",
   "metadata": {},
   "outputs": [
    {
     "data": {
      "application/vnd.vega.v5+json": {
       "$schema": "https://vega.github.io/schema/vega-lite/v5.json",
       "data": {
        "values": [
         {
          "x": "10.0",
          "y": "10.0"
         },
         {
          "x": "9.90331687433279",
          "y": "10.168246062011002"
         },
         {
          "x": "9.003905187988694",
          "y": "10.647452772775598"
         },
         {
          "x": "9.34590393345684",
          "y": "10.558347947384078"
         },
         {
          "x": "8.83890942149723",
          "y": "10.275789039698887"
         },
         {
          "x": "8.992331315268837",
          "y": "9.659281448639522"
         },
         {
          "x": "9.13533689959687",
          "y": "9.680594437122426"
         },
         {
          "x": "9.260380383894784",
          "y": "10.103956722050675"
         },
         {
          "x": "9.950479022057396",
          "y": "10.39473664003415"
         },
         {
          "x": "9.82339218780957",
          "y": "10.678715639896454"
         },
         {
          "x": "10.06413857208752",
          "y": "9.697392883278"
         },
         {
          "x": "9.624130047698982",
          "y": "9.364824172155233"
         },
         {
          "x": "9.624130047698982",
          "y": "9.364824172155233"
         },
         {
          "x": "8.865571188054792",
          "y": "9.406289682943806"
         },
         {
          "x": "9.324052066600077",
          "y": "8.71577142756186"
         },
         {
          "x": "9.356610435805916",
          "y": "9.196336909414095"
         },
         {
          "x": "8.519585579021909",
          "y": "9.828465641692517"
         },
         {
          "x": "7.9266441822479115",
          "y": "9.81438979880001"
         },
         {
          "x": "7.849132132674108",
          "y": "10.18709033300858"
         },
         {
          "x": "7.840775696454974",
          "y": "9.48765490101804"
         },
         {
          "x": "7.788951104955083",
          "y": "9.146963509048945"
         },
         {
          "x": "7.788951104955083",
          "y": "9.146963509048945"
         },
         {
          "x": "8.1853780938211",
          "y": "9.698006019411505"
         },
         {
          "x": "8.34396545492146",
          "y": "10.193528065717253"
         },
         {
          "x": "8.068726650882168",
          "y": "9.919017847840214"
         },
         {
          "x": "7.583749403176079",
          "y": "9.967073804098161"
         },
         {
          "x": "8.07955193547834",
          "y": "9.699694678177703"
         },
         {
          "x": "8.094322893079013",
          "y": "9.819137591648378"
         },
         {
          "x": "8.213704516508596",
          "y": "9.35075110669091"
         },
         {
          "x": "8.680411247247099",
          "y": "9.176321674616785"
         },
         {
          "x": "8.46737094502496",
          "y": "9.587922852204088"
         },
         {
          "x": "8.916685497052955",
          "y": "9.358858308014176"
         },
         {
          "x": "8.916685497052955",
          "y": "9.358858308014176"
         },
         {
          "x": "8.916685497052955",
          "y": "9.358858308014176"
         },
         {
          "x": "9.828535450949072",
          "y": "9.806126572880325"
         },
         {
          "x": "9.828535450949072",
          "y": "9.806126572880325"
         },
         {
          "x": "9.965965545528029",
          "y": "9.987926081073155"
         },
         {
          "x": "10.357004213391946",
          "y": "9.563587159358773"
         },
         {
          "x": "10.357004213391946",
          "y": "9.563587159358773"
         },
         {
          "x": "10.357004213391946",
          "y": "9.563587159358773"
         },
         {
          "x": "10.357004213391946",
          "y": "9.563587159358773"
         },
         {
          "x": "10.357004213391946",
          "y": "9.563587159358773"
         },
         {
          "x": "10.077301836663967",
          "y": "9.861050340660785"
         },
         {
          "x": "10.077301836663967",
          "y": "9.861050340660785"
         },
         {
          "x": "11.01772514556877",
          "y": "9.896444990431064"
         },
         {
          "x": "11.392496886642727",
          "y": "10.528427342879718"
         },
         {
          "x": "12.305759848811713",
          "y": "11.052078154359995"
         },
         {
          "x": "12.305759848811713",
          "y": "11.052078154359995"
         },
         {
          "x": "12.305759848811713",
          "y": "11.052078154359995"
         },
         {
          "x": "12.305759848811713",
          "y": "11.052078154359995"
         },
         {
          "x": "11.67349374296956",
          "y": "10.92630763144721"
         },
         {
          "x": "11.67349374296956",
          "y": "10.92630763144721"
         },
         {
          "x": "12.105422009008876",
          "y": "11.393867855336909"
         },
         {
          "x": "12.105422009008876",
          "y": "11.393867855336909"
         },
         {
          "x": "11.92031761312362",
          "y": "11.016145757085846"
         },
         {
          "x": "11.568533797105411",
          "y": "10.664912947749558"
         },
         {
          "x": "11.568533797105411",
          "y": "10.664912947749558"
         },
         {
          "x": "10.691053081091281",
          "y": "10.410070448718825"
         },
         {
          "x": "11.25641818232696",
          "y": "10.316826531962729"
         },
         {
          "x": "11.875171599964574",
          "y": "10.449867988495967"
         },
         {
          "x": "11.91892079741833",
          "y": "10.971188100158194"
         },
         {
          "x": "11.738855635740157",
          "y": "10.051419833629211"
         },
         {
          "x": "12.303393418121658",
          "y": "10.70483208417733"
         },
         {
          "x": "12.171775281416318",
          "y": "10.73384767512807"
         },
         {
          "x": "12.027516142832402",
          "y": "10.583490839363868"
         },
         {
          "x": "12.027516142832402",
          "y": "10.583490839363868"
         },
         {
          "x": "12.181299170937603",
          "y": "9.705967547890074"
         },
         {
          "x": "10.81367397976718",
          "y": "10.221862139431819"
         },
         {
          "x": "10.881562588204991",
          "y": "10.800489895532207"
         },
         {
          "x": "10.881562588204991",
          "y": "10.800489895532207"
         },
         {
          "x": "10.741634192515654",
          "y": "10.648953830542192"
         },
         {
          "x": "10.485484641053507",
          "y": "10.953280888312884"
         },
         {
          "x": "9.955539213293209",
          "y": "10.398502931559555"
         },
         {
          "x": "10.593653601857737",
          "y": "10.624105144076315"
         },
         {
          "x": "10.12281745834946",
          "y": "10.751527118849394"
         },
         {
          "x": "9.669302101785027",
          "y": "11.089945448653939"
         },
         {
          "x": "9.919868601954812",
          "y": "9.729172102271889"
         },
         {
          "x": "8.81466717708763",
          "y": "10.788646057579268"
         },
         {
          "x": "8.280077636191312",
          "y": "10.714255379767344"
         },
         {
          "x": "8.174144370918604",
          "y": "10.0772412473087"
         },
         {
          "x": "7.810241335633757",
          "y": "8.838010749514257"
         },
         {
          "x": "7.81339783356259",
          "y": "8.82750668287445"
         },
         {
          "x": "8.036036908198822",
          "y": "8.87500377526582"
         },
         {
          "x": "7.813942139032728",
          "y": "8.732391211214452"
         },
         {
          "x": "7.813942139032728",
          "y": "8.732391211214452"
         },
         {
          "x": "8.91641879937747",
          "y": "9.11048939436428"
         },
         {
          "x": "9.43428244776469",
          "y": "8.787983295589761"
         },
         {
          "x": "9.330730949924709",
          "y": "8.615054964847374"
         },
         {
          "x": "9.330730949924709",
          "y": "8.615054964847374"
         },
         {
          "x": "9.330730949924709",
          "y": "8.615054964847374"
         },
         {
          "x": "8.983138465168919",
          "y": "8.51963060074017"
         },
         {
          "x": "8.977723217978902",
          "y": "8.178092287671356"
         },
         {
          "x": "9.24592633833896",
          "y": "9.031400138903722"
         },
         {
          "x": "9.567109051958258",
          "y": "9.572810632039193"
         },
         {
          "x": "9.692354684061709",
          "y": "9.2192090287202"
         },
         {
          "x": "9.560563430525338",
          "y": "9.281821664011371"
         },
         {
          "x": "9.847528526059667",
          "y": "9.303956727327211"
         },
         {
          "x": "10.172189905421423",
          "y": "9.10237088203301"
         },
         {
          "x": "9.945768011685246",
          "y": "8.541805118806058"
         },
         {
          "x": "9.712831829834496",
          "y": "8.794746599934621"
         },
         {
          "x": "9.712831829834496",
          "y": "8.794746599934621"
         },
         {
          "x": "10.014811825891517",
          "y": "8.79224199710368"
         },
         {
          "x": "10.016602992537882",
          "y": "8.908013458324927"
         },
         {
          "x": "10.016602992537882",
          "y": "8.908013458324927"
         },
         {
          "x": "10.123648985428018",
          "y": "8.864790038925435"
         },
         {
          "x": "10.483322643723577",
          "y": "8.56750111384289"
         },
         {
          "x": "10.483322643723577",
          "y": "8.56750111384289"
         },
         {
          "x": "10.483322643723577",
          "y": "8.56750111384289"
         },
         {
          "x": "11.099965553315098",
          "y": "9.175183448034652"
         },
         {
          "x": "11.099965553315098",
          "y": "9.175183448034652"
         },
         {
          "x": "11.252053866871195",
          "y": "10.318305988760626"
         },
         {
          "x": "11.252053866871195",
          "y": "10.318305988760626"
         },
         {
          "x": "11.903278946010229",
          "y": "9.660020275373675"
         },
         {
          "x": "11.903278946010229",
          "y": "9.660020275373675"
         },
         {
          "x": "11.793742676904799",
          "y": "9.587442752500838"
         },
         {
          "x": "11.793742676904799",
          "y": "9.587442752500838"
         },
         {
          "x": "11.251345247415294",
          "y": "9.664843718032726"
         },
         {
          "x": "11.394103544827836",
          "y": "10.109489796140306"
         },
         {
          "x": "11.061786755903006",
          "y": "10.680710546098613"
         },
         {
          "x": "11.061786755903006",
          "y": "10.680710546098613"
         },
         {
          "x": "11.269082997314511",
          "y": "11.103036255672205"
         },
         {
          "x": "11.269082997314511",
          "y": "11.103036255672205"
         },
         {
          "x": "11.494051649577905",
          "y": "12.426272199240007"
         },
         {
          "x": "11.73304409557264",
          "y": "11.804773668245211"
         },
         {
          "x": "12.709208642750257",
          "y": "11.527610007214916"
         },
         {
          "x": "12.874697508406161",
          "y": "11.497716407007667"
         },
         {
          "x": "12.874697508406161",
          "y": "11.497716407007667"
         },
         {
          "x": "12.291098425056811",
          "y": "11.993807188378945"
         },
         {
          "x": "12.421686096241315",
          "y": "11.695659908524362"
         },
         {
          "x": "12.206881141198595",
          "y": "11.348751650057173"
         },
         {
          "x": "12.553046612105414",
          "y": "11.249710672344776"
         },
         {
          "x": "11.977982444433362",
          "y": "11.080754165179343"
         },
         {
          "x": "11.961534488429992",
          "y": "11.247999264396906"
         },
         {
          "x": "11.961534488429992",
          "y": "11.247999264396906"
         },
         {
          "x": "11.590559012955708",
          "y": "10.40233514201356"
         },
         {
          "x": "11.352885347092444",
          "y": "9.936416311542342"
         },
         {
          "x": "10.903286801773415",
          "y": "9.97142714080628"
         },
         {
          "x": "10.903286801773415",
          "y": "9.97142714080628"
         },
         {
          "x": "10.620704072594481",
          "y": "10.329264472445777"
         },
         {
          "x": "10.643966238828105",
          "y": "11.017635649868081"
         },
         {
          "x": "10.149381085219819",
          "y": "11.316453723159105"
         },
         {
          "x": "10.149381085219819",
          "y": "11.316453723159105"
         },
         {
          "x": "10.149381085219819",
          "y": "11.316453723159105"
         },
         {
          "x": "9.959340557378201",
          "y": "11.098357478646642"
         },
         {
          "x": "9.959340557378201",
          "y": "11.098357478646642"
         },
         {
          "x": "9.765914698562222",
          "y": "10.294313147940331"
         },
         {
          "x": "9.490586602257036",
          "y": "10.672564967360847"
         },
         {
          "x": "9.468814032638726",
          "y": "10.119346715507193"
         },
         {
          "x": "8.216033572745271",
          "y": "9.6463675475768"
         },
         {
          "x": "7.770141805931353",
          "y": "10.018827863043448"
         },
         {
          "x": "8.089602756807833",
          "y": "9.80360744439924"
         },
         {
          "x": "8.203635845215137",
          "y": "10.006276477267793"
         },
         {
          "x": "8.270860750183598",
          "y": "9.996685656405264"
         },
         {
          "x": "8.270860750183598",
          "y": "9.996685656405264"
         },
         {
          "x": "8.18753458917369",
          "y": "10.121183430287612"
         },
         {
          "x": "8.18753458917369",
          "y": "10.121183430287612"
         },
         {
          "x": "7.832780872895339",
          "y": "10.448280227715092"
         },
         {
          "x": "7.306323676700118",
          "y": "10.109908055607834"
         },
         {
          "x": "6.96362655521367",
          "y": "10.398944239971536"
         },
         {
          "x": "7.028012663848111",
          "y": "10.62547956470721"
         },
         {
          "x": "6.506750403338615",
          "y": "10.362257490361094"
         },
         {
          "x": "7.493814735815819",
          "y": "10.356788880044158"
         },
         {
          "x": "7.905248706689801",
          "y": "10.041553915295566"
         },
         {
          "x": "7.905248706689801",
          "y": "10.041553915295566"
         },
         {
          "x": "8.691270846600005",
          "y": "10.285287238428136"
         },
         {
          "x": "8.691270846600005",
          "y": "10.285287238428136"
         },
         {
          "x": "8.466926515583141",
          "y": "10.4597406494642"
         },
         {
          "x": "7.982869386511063",
          "y": "10.917523052755426"
         },
         {
          "x": "8.402629046516665",
          "y": "9.70648553581804"
         },
         {
          "x": "8.402629046516665",
          "y": "9.70648553581804"
         },
         {
          "x": "8.402629046516665",
          "y": "9.70648553581804"
         },
         {
          "x": "9.40305116485278",
          "y": "10.211148706944295"
         },
         {
          "x": "9.895618391736372",
          "y": "9.954850645955675"
         },
         {
          "x": "9.895618391736372",
          "y": "9.954850645955675"
         },
         {
          "x": "10.59351347876235",
          "y": "11.179142152263884"
         },
         {
          "x": "11.387433352846708",
          "y": "10.401659861624106"
         },
         {
          "x": "11.387433352846708",
          "y": "10.401659861624106"
         },
         {
          "x": "11.387433352846708",
          "y": "10.401659861624106"
         },
         {
          "x": "11.480209982127587",
          "y": "10.478264204988927"
         },
         {
          "x": "11.111414655455905",
          "y": "9.610822165949065"
         },
         {
          "x": "10.209878074944486",
          "y": "9.706023194664173"
         },
         {
          "x": "11.290419439342276",
          "y": "8.963206244413692"
         },
         {
          "x": "11.290419439342276",
          "y": "8.963206244413692"
         },
         {
          "x": "10.254658868377065",
          "y": "8.769000269908501"
         },
         {
          "x": "10.06780704900286",
          "y": "9.089497826820137"
         },
         {
          "x": "9.861532771510529",
          "y": "10.019851134215955"
         },
         {
          "x": "9.28154740013415",
          "y": "10.597468639048085"
         },
         {
          "x": "8.994433296270998",
          "y": "10.289836070966565"
         },
         {
          "x": "8.441942477682977",
          "y": "9.862823377488057"
         },
         {
          "x": "8.121952549174587",
          "y": "10.91160916006763"
         },
         {
          "x": "8.205911868216797",
          "y": "11.014173757710651"
         },
         {
          "x": "8.205911868216797",
          "y": "11.014173757710651"
         },
         {
          "x": "8.205911868216797",
          "y": "11.014173757710651"
         },
         {
          "x": "8.607458186099908",
          "y": "11.131034658228954"
         },
         {
          "x": "8.538592872596446",
          "y": "10.999066344869313"
         },
         {
          "x": "8.438244833569003",
          "y": "10.93383045121333"
         },
         {
          "x": "8.438244833569003",
          "y": "10.93383045121333"
         },
         {
          "x": "8.814891249173062",
          "y": "11.049500129340027"
         },
         {
          "x": "8.821519086372465",
          "y": "11.094820801585028"
         },
         {
          "x": "8.821519086372465",
          "y": "11.094820801585028"
         },
         {
          "x": "8.70180870324785",
          "y": "11.832955831820541"
         },
         {
          "x": "9.027748340882717",
          "y": "11.649539319114544"
         },
         {
          "x": "9.595505084740292",
          "y": "11.660470098963383"
         },
         {
          "x": "8.600721123798817",
          "y": "11.450612766967364"
         },
         {
          "x": "8.469358602207016",
          "y": "11.587788605935229"
         },
         {
          "x": "8.025422499831011",
          "y": "11.646478869821525"
         },
         {
          "x": "7.587701624187971",
          "y": "11.33614005294831"
         },
         {
          "x": "7.071587083344169",
          "y": "11.314018124091023"
         },
         {
          "x": "7.071587083344169",
          "y": "11.314018124091023"
         },
         {
          "x": "7.015918878086467",
          "y": "11.179263073714802"
         },
         {
          "x": "7.665349810945638",
          "y": "11.334763837082829"
         },
         {
          "x": "8.311431204682181",
          "y": "10.766630732925638"
         },
         {
          "x": "8.175014911980886",
          "y": "10.483264638924988"
         },
         {
          "x": "8.612355592600387",
          "y": "9.943197749450658"
         },
         {
          "x": "8.64983528180538",
          "y": "10.030078360969664"
         },
         {
          "x": "8.64983528180538",
          "y": "10.030078360969664"
         },
         {
          "x": "8.64983528180538",
          "y": "10.030078360969664"
         },
         {
          "x": "9.410738804451567",
          "y": "10.695283718331416"
         },
         {
          "x": "9.79081140996936",
          "y": "11.243264566549005"
         },
         {
          "x": "9.712809805513654",
          "y": "10.943456925022765"
         },
         {
          "x": "9.701906726513089",
          "y": "10.753759143358554"
         },
         {
          "x": "9.623942109051757",
          "y": "10.319280165969083"
         },
         {
          "x": "9.623942109051757",
          "y": "10.319280165969083"
         },
         {
          "x": "10.209176565624826",
          "y": "11.224534261062002"
         },
         {
          "x": "10.585415708954628",
          "y": "10.353892289693093"
         },
         {
          "x": "10.24243279590794",
          "y": "10.099532096250556"
         },
         {
          "x": "10.201679888823506",
          "y": "10.69221824170689"
         },
         {
          "x": "10.376408948556373",
          "y": "10.793060639682643"
         },
         {
          "x": "9.949209214537108",
          "y": "11.03297598716678"
         },
         {
          "x": "10.051489847462989",
          "y": "11.018551626277809"
         },
         {
          "x": "10.851117254804063",
          "y": "11.302301538392094"
         },
         {
          "x": "10.851117254804063",
          "y": "11.302301538392094"
         },
         {
          "x": "11.587227584738443",
          "y": "11.543033330826669"
         },
         {
          "x": "11.497553781934988",
          "y": "11.34137396321266"
         },
         {
          "x": "11.443689283072828",
          "y": "11.339340259774954"
         },
         {
          "x": "11.886286086973328",
          "y": "11.518905305308063"
         },
         {
          "x": "12.013575181373744",
          "y": "11.296148341546806"
         },
         {
          "x": "12.013575181373744",
          "y": "11.296148341546806"
         },
         {
          "x": "12.02946286779246",
          "y": "10.665710774917596"
         },
         {
          "x": "11.703249334175808",
          "y": "10.276885740843886"
         },
         {
          "x": "12.129271046026174",
          "y": "9.883094272358475"
         },
         {
          "x": "11.583794790642095",
          "y": "9.247364704552608"
         },
         {
          "x": "11.094267954420035",
          "y": "8.915031029029864"
         },
         {
          "x": "11.094267954420035",
          "y": "8.915031029029864"
         },
         {
          "x": "11.094267954420035",
          "y": "8.915031029029864"
         },
         {
          "x": "11.094267954420035",
          "y": "8.915031029029864"
         },
         {
          "x": "11.021899853948216",
          "y": "9.3175324517378"
         },
         {
          "x": "10.81013000203162",
          "y": "9.733223127983909"
         },
         {
          "x": "10.386822897327505",
          "y": "9.62161522022158"
         },
         {
          "x": "10.386822897327505",
          "y": "9.62161522022158"
         },
         {
          "x": "10.158709500355656",
          "y": "10.693284028358025"
         },
         {
          "x": "9.928853923370424",
          "y": "10.814065934602803"
         },
         {
          "x": "9.244880383870148",
          "y": "10.896329264387305"
         },
         {
          "x": "9.73287279762436",
          "y": "10.895879843435642"
         },
         {
          "x": "9.829999435326881",
          "y": "10.87267795786213"
         },
         {
          "x": "10.361308091442915",
          "y": "10.9591327736363"
         },
         {
          "x": "10.65056526180496",
          "y": "10.773784065495692"
         },
         {
          "x": "11.450981569524751",
          "y": "11.242747766727133"
         },
         {
          "x": "11.815952300407616",
          "y": "10.876807489923438"
         },
         {
          "x": "11.598955122723671",
          "y": "10.84115699550034"
         },
         {
          "x": "11.598955122723671",
          "y": "10.84115699550034"
         },
         {
          "x": "10.69259610973083",
          "y": "10.570496147347164"
         },
         {
          "x": "11.201192023109847",
          "y": "9.872115352482393"
         },
         {
          "x": "11.201192023109847",
          "y": "9.872115352482393"
         },
         {
          "x": "10.872434790499977",
          "y": "9.975546354194773"
         },
         {
          "x": "10.92405643421311",
          "y": "8.917599390327856"
         },
         {
          "x": "11.685108766852805",
          "y": "9.195898948992419"
         },
         {
          "x": "10.668984128056541",
          "y": "9.095678388743538"
         },
         {
          "x": "10.722363580605382",
          "y": "9.76209041235504"
         },
         {
          "x": "10.481619439545634",
          "y": "9.420004690349455"
         },
         {
          "x": "10.451586140736087",
          "y": "9.456699445139092"
         },
         {
          "x": "10.050926473471536",
          "y": "10.086052972554494"
         },
         {
          "x": "10.050926473471536",
          "y": "10.086052972554494"
         },
         {
          "x": "10.452353389437786",
          "y": "9.346167505711293"
         },
         {
          "x": "9.64517522774276",
          "y": "8.918014188297844"
         },
         {
          "x": "8.814470392240667",
          "y": "8.489356101682779"
         },
         {
          "x": "8.96717640959285",
          "y": "8.080947711965356"
         },
         {
          "x": "9.209650085564443",
          "y": "7.912263165600902"
         },
         {
          "x": "8.867154011612135",
          "y": "8.55613537470714"
         },
         {
          "x": "9.194331320474134",
          "y": "8.459322279434737"
         },
         {
          "x": "8.963257358965095",
          "y": "8.075757124594148"
         },
         {
          "x": "8.963257358965095",
          "y": "8.075757124594148"
         },
         {
          "x": "10.008944431364394",
          "y": "8.650624791863935"
         },
         {
          "x": "9.480592515121014",
          "y": "9.241686570058825"
         },
         {
          "x": "8.960746191883302",
          "y": "8.916735160206871"
         },
         {
          "x": "8.82955268205037",
          "y": "8.768133269013743"
         },
         {
          "x": "8.82955268205037",
          "y": "8.768133269013743"
         },
         {
          "x": "9.376258850001394",
          "y": "9.397617444763414"
         },
         {
          "x": "9.178261807479752",
          "y": "9.151172380705903"
         },
         {
          "x": "8.84672176853392",
          "y": "9.276029501332399"
         },
         {
          "x": "8.724431632398275",
          "y": "9.035449701882229"
         },
         {
          "x": "9.246360690873994",
          "y": "9.512630302604036"
         },
         {
          "x": "9.903207387349145",
          "y": "8.592439000327861"
         },
         {
          "x": "9.918239484524817",
          "y": "8.768819381739537"
         },
         {
          "x": "9.886856811906414",
          "y": "9.238174315214946"
         },
         {
          "x": "9.886856811906414",
          "y": "9.238174315214946"
         },
         {
          "x": "9.015213775973448",
          "y": "8.858292978845418"
         },
         {
          "x": "9.51753350111044",
          "y": "8.665439053020501"
         },
         {
          "x": "9.448948466725815",
          "y": "8.546335599486538"
         },
         {
          "x": "9.406757564291564",
          "y": "8.316426707022387"
         },
         {
          "x": "9.29627125157712",
          "y": "8.475105149832029"
         },
         {
          "x": "9.29627125157712",
          "y": "8.475105149832029"
         },
         {
          "x": "8.743180592883807",
          "y": "9.069665466452959"
         },
         {
          "x": "8.743180592883807",
          "y": "9.069665466452959"
         },
         {
          "x": "8.743180592883807",
          "y": "9.069665466452959"
         },
         {
          "x": "9.283800398978178",
          "y": "9.152553866615781"
         },
         {
          "x": "9.934352828593074",
          "y": "9.375403186289116"
         },
         {
          "x": "9.76508128315183",
          "y": "10.323838092371497"
         },
         {
          "x": "9.415489945977786",
          "y": "10.022722713729049"
         },
         {
          "x": "8.77425541330144",
          "y": "10.376011080104742"
         },
         {
          "x": "9.066286810162467",
          "y": "9.487731894319824"
         },
         {
          "x": "9.559756950269353",
          "y": "9.804296049575445"
         },
         {
          "x": "9.309440786977149",
          "y": "10.532452636118299"
         },
         {
          "x": "8.861197576870346",
          "y": "10.823494183227183"
         },
         {
          "x": "8.861197576870346",
          "y": "10.823494183227183"
         },
         {
          "x": "8.861197576870346",
          "y": "10.823494183227183"
         },
         {
          "x": "8.784167866700894",
          "y": "10.166545163141462"
         },
         {
          "x": "9.328506389218816",
          "y": "10.266917703159466"
         },
         {
          "x": "9.539172005777889",
          "y": "10.10764884866296"
         },
         {
          "x": "9.880550160544585",
          "y": "9.936718951519499"
         },
         {
          "x": "9.857916635420779",
          "y": "9.44598236734386"
         },
         {
          "x": "8.930918022242317",
          "y": "9.099844415114156"
         },
         {
          "x": "10.342403012189518",
          "y": "10.108067870149004"
         },
         {
          "x": "11.29785736098441",
          "y": "10.21679840749824"
         },
         {
          "x": "10.26167471190088",
          "y": "9.759294310541842"
         },
         {
          "x": "10.26167471190088",
          "y": "9.759294310541842"
         },
         {
          "x": "10.781137260197696",
          "y": "9.966955583211126"
         },
         {
          "x": "10.922475047605774",
          "y": "10.493750594766885"
         },
         {
          "x": "10.627638131698966",
          "y": "10.243487376478477"
         },
         {
          "x": "9.715136393605496",
          "y": "10.85103698287679"
         },
         {
          "x": "9.789432245639007",
          "y": "11.161526208097792"
         },
         {
          "x": "9.905003745503969",
          "y": "10.743328573886473"
         },
         {
          "x": "9.563858655168659",
          "y": "11.345815475088965"
         },
         {
          "x": "9.404210234170069",
          "y": "11.41070431936296"
         },
         {
          "x": "9.243095395042731",
          "y": "10.949895470898554"
         },
         {
          "x": "9.807100743845147",
          "y": "10.609694786396187"
         },
         {
          "x": "11.15526410787495",
          "y": "11.032395344980088"
         },
         {
          "x": "11.52500334095444",
          "y": "11.050674902954334"
         },
         {
          "x": "12.034218393967887",
          "y": "11.409894380998551"
         },
         {
          "x": "11.844498554621312",
          "y": "11.928934982189007"
         },
         {
          "x": "12.168297765236764",
          "y": "12.164954579670429"
         },
         {
          "x": "12.168297765236764",
          "y": "12.164954579670429"
         },
         {
          "x": "12.168297765236764",
          "y": "12.164954579670429"
         },
         {
          "x": "12.168297765236764",
          "y": "12.164954579670429"
         },
         {
          "x": "12.168297765236764",
          "y": "12.164954579670429"
         },
         {
          "x": "12.619409648996275",
          "y": "11.924548677181821"
         },
         {
          "x": "12.94628586904713",
          "y": "12.050927371151392"
         },
         {
          "x": "12.823336132334207",
          "y": "11.876392647019973"
         },
         {
          "x": "12.724851799098081",
          "y": "11.84012775653358"
         },
         {
          "x": "13.203275016917958",
          "y": "11.353115833700418"
         },
         {
          "x": "12.069998131602656",
          "y": "11.534617198928249"
         },
         {
          "x": "12.069998131602656",
          "y": "11.534617198928249"
         },
         {
          "x": "12.069998131602656",
          "y": "11.534617198928249"
         },
         {
          "x": "12.02454193749662",
          "y": "11.388309242472962"
         },
         {
          "x": "12.02454193749662",
          "y": "11.388309242472962"
         },
         {
          "x": "11.951312527285912",
          "y": "11.264369197125372"
         },
         {
          "x": "11.022350524932977",
          "y": "11.080155214804229"
         },
         {
          "x": "10.99830016830353",
          "y": "10.501200603507979"
         },
         {
          "x": "11.049336042870683",
          "y": "10.147676756462817"
         },
         {
          "x": "10.166693342804482",
          "y": "10.387895881643091"
         },
         {
          "x": "10.003297898248084",
          "y": "10.035867640990434"
         },
         {
          "x": "10.16542976706302",
          "y": "10.360599025020614"
         },
         {
          "x": "9.470022200517418",
          "y": "10.039353179617919"
         },
         {
          "x": "9.354986997204279",
          "y": "9.836038366492318"
         },
         {
          "x": "9.354986997204279",
          "y": "9.836038366492318"
         },
         {
          "x": "9.234433877738303",
          "y": "9.956675114077449"
         },
         {
          "x": "9.234433877738303",
          "y": "9.956675114077449"
         },
         {
          "x": "9.2069569511014",
          "y": "9.677609509831347"
         },
         {
          "x": "8.59244081879808",
          "y": "9.647195869779617"
         },
         {
          "x": "8.069640455520105",
          "y": "9.52536171902754"
         },
         {
          "x": "7.840309724139847",
          "y": "9.894423997667571"
         },
         {
          "x": "7.183791592052818",
          "y": "10.000517611453859"
         },
         {
          "x": "7.483739182555614",
          "y": "10.412730787647932"
         },
         {
          "x": "8.132025890752006",
          "y": "10.853214685610348"
         },
         {
          "x": "8.132025890752006",
          "y": "10.853214685610348"
         },
         {
          "x": "8.108159730410017",
          "y": "10.609140436770803"
         },
         {
          "x": "7.981968511950081",
          "y": "10.327842888585547"
         },
         {
          "x": "7.935967195027723",
          "y": "9.625353394434974"
         },
         {
          "x": "8.533805438312566",
          "y": "9.373516031960309"
         },
         {
          "x": "9.09108694127887",
          "y": "9.034314329015894"
         },
         {
          "x": "9.33457448779735",
          "y": "9.281134990419012"
         },
         {
          "x": "9.890571761334417",
          "y": "9.560913972938621"
         },
         {
          "x": "10.08397582503618",
          "y": "9.830386191896189"
         },
         {
          "x": "9.693922937743984",
          "y": "9.444934255582474"
         },
         {
          "x": "9.376704293451255",
          "y": "9.387280282790234"
         },
         {
          "x": "9.420109809302017",
          "y": "8.74079509509304"
         },
         {
          "x": "9.648104387926992",
          "y": "9.084773157482488"
         },
         {
          "x": "9.527410826833215",
          "y": "9.07703850397416"
         },
         {
          "x": "9.58663297366358",
          "y": "9.590831667680098"
         },
         {
          "x": "9.832891645394369",
          "y": "9.768182211202292"
         },
         {
          "x": "9.832891645394369",
          "y": "9.768182211202292"
         },
         {
          "x": "10.05443101743801",
          "y": "9.895215706887482"
         },
         {
          "x": "9.711562274525333",
          "y": "10.10677125762566"
         },
         {
          "x": "9.139086903878693",
          "y": "10.423199390882848"
         },
         {
          "x": "9.610263443516379",
          "y": "10.139237818931667"
         },
         {
          "x": "8.939791424919514",
          "y": "10.420764109514712"
         },
         {
          "x": "8.179244405515059",
          "y": "10.108793882643704"
         },
         {
          "x": "7.393617864562232",
          "y": "9.496171267795377"
         },
         {
          "x": "8.18686326759594",
          "y": "9.412342395030663"
         },
         {
          "x": "8.473276413657839",
          "y": "10.062001207132438"
         },
         {
          "x": "9.005556746703595",
          "y": "11.12617180689602"
         },
         {
          "x": "9.094438569682156",
          "y": "11.098774438032171"
         },
         {
          "x": "9.052158110736189",
          "y": "10.371011461236813"
         },
         {
          "x": "9.493272284195735",
          "y": "10.18960719689104"
         },
         {
          "x": "9.08015561048318",
          "y": "9.511362453482839"
         },
         {
          "x": "9.452740435542617",
          "y": "9.465560675145785"
         },
         {
          "x": "9.452740435542617",
          "y": "9.465560675145785"
         },
         {
          "x": "9.759091122335885",
          "y": "9.829527477441223"
         },
         {
          "x": "9.529831523903",
          "y": "9.210227075924703"
         },
         {
          "x": "9.717942889531193",
          "y": "9.321930730413143"
         },
         {
          "x": "9.672902517519182",
          "y": "9.74164443639536"
         },
         {
          "x": "9.582530995226323",
          "y": "10.498542421046272"
         },
         {
          "x": "9.734436479609075",
          "y": "9.316877726269006"
         },
         {
          "x": "9.774357484962495",
          "y": "9.39497885852191"
         },
         {
          "x": "10.110564144811336",
          "y": "9.370228128400859"
         },
         {
          "x": "10.110564144811336",
          "y": "9.370228128400859"
         },
         {
          "x": "10.069021777442584",
          "y": "9.435953084591612"
         },
         {
          "x": "10.879613877846207",
          "y": "9.766036610718292"
         },
         {
          "x": "10.649008217780374",
          "y": "10.781917721736818"
         },
         {
          "x": "10.928144093619206",
          "y": "11.140345285362823"
         },
         {
          "x": "10.120954480142297",
          "y": "10.73732570091956"
         },
         {
          "x": "9.467473438689629",
          "y": "10.946951823672784"
         },
         {
          "x": "9.039491599516735",
          "y": "10.323037876044257"
         },
         {
          "x": "9.395197581139904",
          "y": "10.625367137101543"
         },
         {
          "x": "9.894809491019803",
          "y": "10.653017683077122"
         },
         {
          "x": "9.894809491019803",
          "y": "10.653017683077122"
         },
         {
          "x": "9.894809491019803",
          "y": "10.653017683077122"
         },
         {
          "x": "10.172062039397026",
          "y": "10.98588625232096"
         },
         {
          "x": "10.172062039397026",
          "y": "10.98588625232096"
         },
         {
          "x": "10.015612301437473",
          "y": "10.677401712420897"
         },
         {
          "x": "9.699623982878528",
          "y": "10.670913406699041"
         },
         {
          "x": "9.654002414479978",
          "y": "10.142781041238534"
         },
         {
          "x": "9.846462140678135",
          "y": "9.916939544257195"
         },
         {
          "x": "9.372610226828591",
          "y": "10.29024856491922"
         },
         {
          "x": "9.910560336099877",
          "y": "9.571480980985777"
         },
         {
          "x": "9.820991618856038",
          "y": "9.164651099577966"
         },
         {
          "x": "10.275215479206478",
          "y": "9.802394247302402"
         },
         {
          "x": "10.274097631594762",
          "y": "9.66516842281128"
         },
         {
          "x": "10.281652096197837",
          "y": "8.660996535413112"
         },
         {
          "x": "10.55052838737212",
          "y": "8.847872381014296"
         },
         {
          "x": "10.186569518134931",
          "y": "9.116085014498472"
         },
         {
          "x": "10.186569518134931",
          "y": "9.116085014498472"
         },
         {
          "x": "10.770985496891067",
          "y": "9.390613145666883"
         },
         {
          "x": "11.020042766974324",
          "y": "9.510071452733017"
         },
         {
          "x": "11.020042766974324",
          "y": "9.510071452733017"
         },
         {
          "x": "11.135423577616379",
          "y": "10.224590085900871"
         },
         {
          "x": "10.737781315313635",
          "y": "10.608742652585388"
         },
         {
          "x": "10.737781315313635",
          "y": "10.608742652585388"
         },
         {
          "x": "10.37660458746442",
          "y": "10.216600367214184"
         },
         {
          "x": "9.782483969752006",
          "y": "10.581589511697883"
         },
         {
          "x": "10.477198052137817",
          "y": "9.685210353909014"
         },
         {
          "x": "10.14392283808834",
          "y": "9.606875581808426"
         },
         {
          "x": "9.724289638947864",
          "y": "9.256686508835019"
         },
         {
          "x": "9.724289638947864",
          "y": "9.256686508835019"
         },
         {
          "x": "9.508365349376804",
          "y": "9.321924085969435"
         },
         {
          "x": "9.14628815845957",
          "y": "9.386771657370634"
         },
         {
          "x": "8.421150972997442",
          "y": "9.327937062387523"
         },
         {
          "x": "8.75645415158254",
          "y": "9.652689307106836"
         },
         {
          "x": "8.608184355592474",
          "y": "10.152477522339897"
         },
         {
          "x": "8.647324280333708",
          "y": "9.921721835208619"
         },
         {
          "x": "8.361907194128639",
          "y": "9.83331320382323"
         },
         {
          "x": "8.58345535758705",
          "y": "9.408451376895155"
         },
         {
          "x": "8.491195828975822",
          "y": "9.210387822344439"
         },
         {
          "x": "8.03586782442717",
          "y": "8.147284230879894"
         },
         {
          "x": "8.179361582896586",
          "y": "7.912470892250751"
         },
         {
          "x": "9.02778633833199",
          "y": "8.244623811161587"
         },
         {
          "x": "7.993179706574324",
          "y": "8.11412209381395"
         },
         {
          "x": "7.568965432542185",
          "y": "8.177233727225577"
         },
         {
          "x": "7.337434682914338",
          "y": "9.161737239072002"
         },
         {
          "x": "6.62072370952916",
          "y": "8.960551944581328"
         },
         {
          "x": "6.547948938113247",
          "y": "9.114059371955053"
         },
         {
          "x": "5.766873416121707",
          "y": "8.511892474826862"
         },
         {
          "x": "5.909124003357473",
          "y": "8.637989656315234"
         },
         {
          "x": "5.78782374648841",
          "y": "9.162610780893141"
         },
         {
          "x": "6.238660218932005",
          "y": "8.867315050760368"
         },
         {
          "x": "6.0845962712748625",
          "y": "9.5209789155329"
         },
         {
          "x": "6.365937445243221",
          "y": "9.717229475550301"
         },
         {
          "x": "7.3781303404468375",
          "y": "9.184228861081403"
         },
         {
          "x": "7.095083324241971",
          "y": "8.646538102073896"
         },
         {
          "x": "7.327053077720771",
          "y": "8.536844368389668"
         },
         {
          "x": "7.778921792552896",
          "y": "9.3835409574893"
         },
         {
          "x": "7.778921792552896",
          "y": "9.3835409574893"
         },
         {
          "x": "7.98129187994422",
          "y": "9.373718980796282"
         },
         {
          "x": "7.98129187994422",
          "y": "9.373718980796282"
         },
         {
          "x": "7.796049225996194",
          "y": "9.18286138824114"
         },
         {
          "x": "8.02773765248852",
          "y": "10.044625899095571"
         },
         {
          "x": "8.66045904505023",
          "y": "9.795514337092643"
         },
         {
          "x": "8.089910454259057",
          "y": "9.511954092794154"
         },
         {
          "x": "8.577947971162429",
          "y": "9.766310928416862"
         },
         {
          "x": "8.50378350483885",
          "y": "9.974127951435062"
         },
         {
          "x": "8.50378350483885",
          "y": "9.974127951435062"
         },
         {
          "x": "9.046577318037984",
          "y": "9.9680103320552"
         },
         {
          "x": "8.690958212630695",
          "y": "9.863619162959322"
         },
         {
          "x": "9.585844447208183",
          "y": "10.43058242835214"
         },
         {
          "x": "9.4989976507776",
          "y": "9.705049088407387"
         },
         {
          "x": "10.097841124267534",
          "y": "9.42053178791322"
         },
         {
          "x": "10.603347811510275",
          "y": "9.881791837835179"
         },
         {
          "x": "10.469793123987404",
          "y": "10.205958330127174"
         },
         {
          "x": "10.358603744910257",
          "y": "10.314108705072188"
         },
         {
          "x": "9.800148857942226",
          "y": "10.639206049471193"
         }
        ]
       },
       "description": ".",
       "encoding": {
        "x": {
         "field": "x",
         "scale": {
          "zero": false
         },
         "type": "quantitative"
        },
        "y": {
         "field": "y",
         "scale": {
          "zero": false
         },
         "type": "quantitative"
        }
       },
       "height": 600,
       "mark": "circle",
       "title": "samples",
       "width": 800
      },
      "image/png": "[encoded data removed]"
     },
     "metadata": {},
     "output_type": "display_data"
    }
   ],
   "source": [
    "val dataFrame = DataFrame(Seq(\n",
    "    DataFrame.Column.ofContinuous(samples.map(sample => sample(0)), \"x\"), \n",
    "    DataFrame.Column.ofContinuous(samples.map(sample => sample(1)), \"y\")\n",
    "    )\n",
    ")\n",
    "\n",
    "dataFrame.plot.scatterPlot(\"x\", \"y\", \"samples\").show()"
   ]
  },
  {
   "cell_type": "markdown",
   "id": "13981356-6e0a-4466-a21d-dc31e6886f64",
   "metadata": {},
   "source": [
    "To get a deeper understanding of how the metropolis algorithm works, it is interesting to visualize not only the accepted samples, but also those which are rejected, and possibly the path that was taken. This is achieved by the following plot function, which visualizes the accepted and rejected samples in different colors and also can plot lines to show the path that was explored:"
   ]
  },
  {
   "cell_type": "code",
   "execution_count": 38,
   "id": "23ea40ac-f81f-4181-98fd-1d9b0c60f785",
   "metadata": {},
   "outputs": [
    {
     "data": {
      "application/vnd.vega.v5+json": {
       "$schema": "https://vega.github.io/schema/vega-lite/v5.json",
       "data": {
        "values": [
         {
          "State": "accepted",
          "x": "9.90331687433279",
          "y": "10.168246062011002"
         },
         {
          "State": "accepted",
          "x": "9.003905187988694",
          "y": "10.647452772775598"
         },
         {
          "State": "accepted",
          "x": "9.34590393345684",
          "y": "10.558347947384078"
         },
         {
          "State": "accepted",
          "x": "8.83890942149723",
          "y": "10.275789039698887"
         },
         {
          "State": "accepted",
          "x": "8.992331315268837",
          "y": "9.659281448639522"
         },
         {
          "State": "accepted",
          "x": "9.13533689959687",
          "y": "9.680594437122426"
         },
         {
          "State": "accepted",
          "x": "9.260380383894784",
          "y": "10.103956722050675"
         },
         {
          "State": "accepted",
          "x": "9.950479022057396",
          "y": "10.39473664003415"
         },
         {
          "State": "accepted",
          "x": "9.82339218780957",
          "y": "10.678715639896454"
         },
         {
          "State": "accepted",
          "x": "10.06413857208752",
          "y": "9.697392883278"
         },
         {
          "State": "accepted",
          "x": "9.624130047698982",
          "y": "9.364824172155233"
         },
         {
          "State": "rejected",
          "x": "9.624130047698982",
          "y": "9.364824172155233"
         },
         {
          "State": "accepted",
          "x": "8.865571188054792",
          "y": "9.406289682943806"
         },
         {
          "State": "accepted",
          "x": "9.324052066600077",
          "y": "8.71577142756186"
         },
         {
          "State": "accepted",
          "x": "9.356610435805916",
          "y": "9.196336909414095"
         },
         {
          "State": "accepted",
          "x": "8.519585579021909",
          "y": "9.828465641692517"
         },
         {
          "State": "accepted",
          "x": "7.9266441822479115",
          "y": "9.81438979880001"
         },
         {
          "State": "accepted",
          "x": "7.849132132674108",
          "y": "10.18709033300858"
         },
         {
          "State": "accepted",
          "x": "7.840775696454974",
          "y": "9.48765490101804"
         },
         {
          "State": "accepted",
          "x": "7.788951104955083",
          "y": "9.146963509048945"
         },
         {
          "State": "rejected",
          "x": "7.788951104955083",
          "y": "9.146963509048945"
         },
         {
          "State": "accepted",
          "x": "8.1853780938211",
          "y": "9.698006019411505"
         },
         {
          "State": "accepted",
          "x": "8.34396545492146",
          "y": "10.193528065717253"
         },
         {
          "State": "accepted",
          "x": "8.068726650882168",
          "y": "9.919017847840214"
         },
         {
          "State": "accepted",
          "x": "7.583749403176079",
          "y": "9.967073804098161"
         },
         {
          "State": "accepted",
          "x": "8.07955193547834",
          "y": "9.699694678177703"
         },
         {
          "State": "accepted",
          "x": "8.094322893079013",
          "y": "9.819137591648378"
         },
         {
          "State": "accepted",
          "x": "8.213704516508596",
          "y": "9.35075110669091"
         },
         {
          "State": "accepted",
          "x": "8.680411247247099",
          "y": "9.176321674616785"
         },
         {
          "State": "accepted",
          "x": "8.46737094502496",
          "y": "9.587922852204088"
         },
         {
          "State": "accepted",
          "x": "8.916685497052955",
          "y": "9.358858308014176"
         },
         {
          "State": "rejected",
          "x": "8.916685497052955",
          "y": "9.358858308014176"
         },
         {
          "State": "rejected",
          "x": "8.916685497052955",
          "y": "9.358858308014176"
         },
         {
          "State": "accepted",
          "x": "9.828535450949072",
          "y": "9.806126572880325"
         },
         {
          "State": "rejected",
          "x": "9.828535450949072",
          "y": "9.806126572880325"
         },
         {
          "State": "accepted",
          "x": "9.965965545528029",
          "y": "9.987926081073155"
         },
         {
          "State": "accepted",
          "x": "10.357004213391946",
          "y": "9.563587159358773"
         },
         {
          "State": "rejected",
          "x": "10.357004213391946",
          "y": "9.563587159358773"
         },
         {
          "State": "rejected",
          "x": "10.357004213391946",
          "y": "9.563587159358773"
         },
         {
          "State": "rejected",
          "x": "10.357004213391946",
          "y": "9.563587159358773"
         },
         {
          "State": "rejected",
          "x": "10.357004213391946",
          "y": "9.563587159358773"
         },
         {
          "State": "accepted",
          "x": "10.077301836663967",
          "y": "9.861050340660785"
         },
         {
          "State": "rejected",
          "x": "10.077301836663967",
          "y": "9.861050340660785"
         },
         {
          "State": "accepted",
          "x": "11.01772514556877",
          "y": "9.896444990431064"
         },
         {
          "State": "accepted",
          "x": "11.392496886642727",
          "y": "10.528427342879718"
         },
         {
          "State": "accepted",
          "x": "12.305759848811713",
          "y": "11.052078154359995"
         },
         {
          "State": "rejected",
          "x": "12.305759848811713",
          "y": "11.052078154359995"
         },
         {
          "State": "rejected",
          "x": "12.305759848811713",
          "y": "11.052078154359995"
         },
         {
          "State": "rejected",
          "x": "12.305759848811713",
          "y": "11.052078154359995"
         },
         {
          "State": "accepted",
          "x": "11.67349374296956",
          "y": "10.92630763144721"
         },
         {
          "State": "rejected",
          "x": "11.67349374296956",
          "y": "10.92630763144721"
         },
         {
          "State": "accepted",
          "x": "12.105422009008876",
          "y": "11.393867855336909"
         },
         {
          "State": "rejected",
          "x": "12.105422009008876",
          "y": "11.393867855336909"
         },
         {
          "State": "accepted",
          "x": "11.92031761312362",
          "y": "11.016145757085846"
         },
         {
          "State": "accepted",
          "x": "11.568533797105411",
          "y": "10.664912947749558"
         },
         {
          "State": "rejected",
          "x": "11.568533797105411",
          "y": "10.664912947749558"
         },
         {
          "State": "accepted",
          "x": "10.691053081091281",
          "y": "10.410070448718825"
         },
         {
          "State": "accepted",
          "x": "11.25641818232696",
          "y": "10.316826531962729"
         },
         {
          "State": "accepted",
          "x": "11.875171599964574",
          "y": "10.449867988495967"
         },
         {
          "State": "accepted",
          "x": "11.91892079741833",
          "y": "10.971188100158194"
         },
         {
          "State": "accepted",
          "x": "11.738855635740157",
          "y": "10.051419833629211"
         },
         {
          "State": "accepted",
          "x": "12.303393418121658",
          "y": "10.70483208417733"
         },
         {
          "State": "accepted",
          "x": "12.171775281416318",
          "y": "10.73384767512807"
         },
         {
          "State": "accepted",
          "x": "12.027516142832402",
          "y": "10.583490839363868"
         },
         {
          "State": "rejected",
          "x": "12.027516142832402",
          "y": "10.583490839363868"
         },
         {
          "State": "accepted",
          "x": "12.181299170937603",
          "y": "9.705967547890074"
         },
         {
          "State": "accepted",
          "x": "10.81367397976718",
          "y": "10.221862139431819"
         },
         {
          "State": "accepted",
          "x": "10.881562588204991",
          "y": "10.800489895532207"
         },
         {
          "State": "rejected",
          "x": "10.881562588204991",
          "y": "10.800489895532207"
         },
         {
          "State": "accepted",
          "x": "10.741634192515654",
          "y": "10.648953830542192"
         },
         {
          "State": "accepted",
          "x": "10.485484641053507",
          "y": "10.953280888312884"
         },
         {
          "State": "accepted",
          "x": "9.955539213293209",
          "y": "10.398502931559555"
         },
         {
          "State": "accepted",
          "x": "10.593653601857737",
          "y": "10.624105144076315"
         },
         {
          "State": "accepted",
          "x": "10.12281745834946",
          "y": "10.751527118849394"
         },
         {
          "State": "accepted",
          "x": "9.669302101785027",
          "y": "11.089945448653939"
         },
         {
          "State": "accepted",
          "x": "9.919868601954812",
          "y": "9.729172102271889"
         },
         {
          "State": "accepted",
          "x": "8.81466717708763",
          "y": "10.788646057579268"
         },
         {
          "State": "accepted",
          "x": "8.280077636191312",
          "y": "10.714255379767344"
         },
         {
          "State": "accepted",
          "x": "8.174144370918604",
          "y": "10.0772412473087"
         },
         {
          "State": "accepted",
          "x": "7.810241335633757",
          "y": "8.838010749514257"
         },
         {
          "State": "accepted",
          "x": "7.81339783356259",
          "y": "8.82750668287445"
         },
         {
          "State": "accepted",
          "x": "8.036036908198822",
          "y": "8.87500377526582"
         },
         {
          "State": "accepted",
          "x": "7.813942139032728",
          "y": "8.732391211214452"
         },
         {
          "State": "rejected",
          "x": "7.813942139032728",
          "y": "8.732391211214452"
         },
         {
          "State": "accepted",
          "x": "8.91641879937747",
          "y": "9.11048939436428"
         },
         {
          "State": "accepted",
          "x": "9.43428244776469",
          "y": "8.787983295589761"
         },
         {
          "State": "accepted",
          "x": "9.330730949924709",
          "y": "8.615054964847374"
         },
         {
          "State": "rejected",
          "x": "9.330730949924709",
          "y": "8.615054964847374"
         },
         {
          "State": "rejected",
          "x": "9.330730949924709",
          "y": "8.615054964847374"
         },
         {
          "State": "accepted",
          "x": "8.983138465168919",
          "y": "8.51963060074017"
         },
         {
          "State": "accepted",
          "x": "8.977723217978902",
          "y": "8.178092287671356"
         },
         {
          "State": "accepted",
          "x": "9.24592633833896",
          "y": "9.031400138903722"
         },
         {
          "State": "accepted",
          "x": "9.567109051958258",
          "y": "9.572810632039193"
         },
         {
          "State": "accepted",
          "x": "9.692354684061709",
          "y": "9.2192090287202"
         },
         {
          "State": "accepted",
          "x": "9.560563430525338",
          "y": "9.281821664011371"
         },
         {
          "State": "accepted",
          "x": "9.847528526059667",
          "y": "9.303956727327211"
         },
         {
          "State": "accepted",
          "x": "10.172189905421423",
          "y": "9.10237088203301"
         },
         {
          "State": "accepted",
          "x": "9.945768011685246",
          "y": "8.541805118806058"
         },
         {
          "State": "accepted",
          "x": "9.712831829834496",
          "y": "8.794746599934621"
         },
         {
          "State": "rejected",
          "x": "9.712831829834496",
          "y": "8.794746599934621"
         },
         {
          "State": "accepted",
          "x": "10.014811825891517",
          "y": "8.79224199710368"
         },
         {
          "State": "accepted",
          "x": "10.016602992537882",
          "y": "8.908013458324927"
         },
         {
          "State": "rejected",
          "x": "10.016602992537882",
          "y": "8.908013458324927"
         },
         {
          "State": "accepted",
          "x": "10.123648985428018",
          "y": "8.864790038925435"
         },
         {
          "State": "accepted",
          "x": "10.483322643723577",
          "y": "8.56750111384289"
         },
         {
          "State": "rejected",
          "x": "10.483322643723577",
          "y": "8.56750111384289"
         },
         {
          "State": "rejected",
          "x": "10.483322643723577",
          "y": "8.56750111384289"
         },
         {
          "State": "accepted",
          "x": "11.099965553315098",
          "y": "9.175183448034652"
         },
         {
          "State": "rejected",
          "x": "11.099965553315098",
          "y": "9.175183448034652"
         },
         {
          "State": "accepted",
          "x": "11.252053866871195",
          "y": "10.318305988760626"
         },
         {
          "State": "rejected",
          "x": "11.252053866871195",
          "y": "10.318305988760626"
         },
         {
          "State": "accepted",
          "x": "11.903278946010229",
          "y": "9.660020275373675"
         },
         {
          "State": "rejected",
          "x": "11.903278946010229",
          "y": "9.660020275373675"
         },
         {
          "State": "accepted",
          "x": "11.793742676904799",
          "y": "9.587442752500838"
         },
         {
          "State": "rejected",
          "x": "11.793742676904799",
          "y": "9.587442752500838"
         },
         {
          "State": "accepted",
          "x": "11.251345247415294",
          "y": "9.664843718032726"
         },
         {
          "State": "accepted",
          "x": "11.394103544827836",
          "y": "10.109489796140306"
         },
         {
          "State": "accepted",
          "x": "11.061786755903006",
          "y": "10.680710546098613"
         },
         {
          "State": "rejected",
          "x": "11.061786755903006",
          "y": "10.680710546098613"
         },
         {
          "State": "accepted",
          "x": "11.269082997314511",
          "y": "11.103036255672205"
         },
         {
          "State": "rejected",
          "x": "11.269082997314511",
          "y": "11.103036255672205"
         },
         {
          "State": "accepted",
          "x": "11.494051649577905",
          "y": "12.426272199240007"
         },
         {
          "State": "accepted",
          "x": "11.73304409557264",
          "y": "11.804773668245211"
         },
         {
          "State": "accepted",
          "x": "12.709208642750257",
          "y": "11.527610007214916"
         },
         {
          "State": "accepted",
          "x": "12.874697508406161",
          "y": "11.497716407007667"
         },
         {
          "State": "rejected",
          "x": "12.874697508406161",
          "y": "11.497716407007667"
         },
         {
          "State": "accepted",
          "x": "12.291098425056811",
          "y": "11.993807188378945"
         },
         {
          "State": "accepted",
          "x": "12.421686096241315",
          "y": "11.695659908524362"
         },
         {
          "State": "accepted",
          "x": "12.206881141198595",
          "y": "11.348751650057173"
         },
         {
          "State": "accepted",
          "x": "12.553046612105414",
          "y": "11.249710672344776"
         },
         {
          "State": "accepted",
          "x": "11.977982444433362",
          "y": "11.080754165179343"
         },
         {
          "State": "accepted",
          "x": "11.961534488429992",
          "y": "11.247999264396906"
         },
         {
          "State": "rejected",
          "x": "11.961534488429992",
          "y": "11.247999264396906"
         },
         {
          "State": "accepted",
          "x": "11.590559012955708",
          "y": "10.40233514201356"
         },
         {
          "State": "accepted",
          "x": "11.352885347092444",
          "y": "9.936416311542342"
         },
         {
          "State": "accepted",
          "x": "10.903286801773415",
          "y": "9.97142714080628"
         },
         {
          "State": "rejected",
          "x": "10.903286801773415",
          "y": "9.97142714080628"
         },
         {
          "State": "accepted",
          "x": "10.620704072594481",
          "y": "10.329264472445777"
         },
         {
          "State": "accepted",
          "x": "10.643966238828105",
          "y": "11.017635649868081"
         },
         {
          "State": "accepted",
          "x": "10.149381085219819",
          "y": "11.316453723159105"
         },
         {
          "State": "rejected",
          "x": "10.149381085219819",
          "y": "11.316453723159105"
         },
         {
          "State": "rejected",
          "x": "10.149381085219819",
          "y": "11.316453723159105"
         },
         {
          "State": "accepted",
          "x": "9.959340557378201",
          "y": "11.098357478646642"
         },
         {
          "State": "rejected",
          "x": "9.959340557378201",
          "y": "11.098357478646642"
         },
         {
          "State": "accepted",
          "x": "9.765914698562222",
          "y": "10.294313147940331"
         },
         {
          "State": "accepted",
          "x": "9.490586602257036",
          "y": "10.672564967360847"
         },
         {
          "State": "accepted",
          "x": "9.468814032638726",
          "y": "10.119346715507193"
         },
         {
          "State": "accepted",
          "x": "8.216033572745271",
          "y": "9.6463675475768"
         },
         {
          "State": "accepted",
          "x": "7.770141805931353",
          "y": "10.018827863043448"
         },
         {
          "State": "accepted",
          "x": "8.089602756807833",
          "y": "9.80360744439924"
         },
         {
          "State": "accepted",
          "x": "8.203635845215137",
          "y": "10.006276477267793"
         },
         {
          "State": "accepted",
          "x": "8.270860750183598",
          "y": "9.996685656405264"
         },
         {
          "State": "rejected",
          "x": "8.270860750183598",
          "y": "9.996685656405264"
         },
         {
          "State": "accepted",
          "x": "8.18753458917369",
          "y": "10.121183430287612"
         },
         {
          "State": "rejected",
          "x": "8.18753458917369",
          "y": "10.121183430287612"
         },
         {
          "State": "accepted",
          "x": "7.832780872895339",
          "y": "10.448280227715092"
         },
         {
          "State": "accepted",
          "x": "7.306323676700118",
          "y": "10.109908055607834"
         },
         {
          "State": "accepted",
          "x": "6.96362655521367",
          "y": "10.398944239971536"
         },
         {
          "State": "accepted",
          "x": "7.028012663848111",
          "y": "10.62547956470721"
         },
         {
          "State": "accepted",
          "x": "6.506750403338615",
          "y": "10.362257490361094"
         },
         {
          "State": "accepted",
          "x": "7.493814735815819",
          "y": "10.356788880044158"
         },
         {
          "State": "accepted",
          "x": "7.905248706689801",
          "y": "10.041553915295566"
         },
         {
          "State": "rejected",
          "x": "7.905248706689801",
          "y": "10.041553915295566"
         },
         {
          "State": "accepted",
          "x": "8.691270846600005",
          "y": "10.285287238428136"
         },
         {
          "State": "rejected",
          "x": "8.691270846600005",
          "y": "10.285287238428136"
         },
         {
          "State": "accepted",
          "x": "8.466926515583141",
          "y": "10.4597406494642"
         },
         {
          "State": "accepted",
          "x": "7.982869386511063",
          "y": "10.917523052755426"
         },
         {
          "State": "accepted",
          "x": "8.402629046516665",
          "y": "9.70648553581804"
         },
         {
          "State": "rejected",
          "x": "8.402629046516665",
          "y": "9.70648553581804"
         },
         {
          "State": "rejected",
          "x": "8.402629046516665",
          "y": "9.70648553581804"
         },
         {
          "State": "accepted",
          "x": "9.40305116485278",
          "y": "10.211148706944295"
         },
         {
          "State": "accepted",
          "x": "9.895618391736372",
          "y": "9.954850645955675"
         },
         {
          "State": "rejected",
          "x": "9.895618391736372",
          "y": "9.954850645955675"
         },
         {
          "State": "accepted",
          "x": "10.59351347876235",
          "y": "11.179142152263884"
         },
         {
          "State": "accepted",
          "x": "11.387433352846708",
          "y": "10.401659861624106"
         },
         {
          "State": "rejected",
          "x": "11.387433352846708",
          "y": "10.401659861624106"
         },
         {
          "State": "rejected",
          "x": "11.387433352846708",
          "y": "10.401659861624106"
         },
         {
          "State": "accepted",
          "x": "11.480209982127587",
          "y": "10.478264204988927"
         },
         {
          "State": "accepted",
          "x": "11.111414655455905",
          "y": "9.610822165949065"
         },
         {
          "State": "accepted",
          "x": "10.209878074944486",
          "y": "9.706023194664173"
         },
         {
          "State": "accepted",
          "x": "11.290419439342276",
          "y": "8.963206244413692"
         },
         {
          "State": "rejected",
          "x": "11.290419439342276",
          "y": "8.963206244413692"
         },
         {
          "State": "accepted",
          "x": "10.254658868377065",
          "y": "8.769000269908501"
         },
         {
          "State": "accepted",
          "x": "10.06780704900286",
          "y": "9.089497826820137"
         },
         {
          "State": "accepted",
          "x": "9.861532771510529",
          "y": "10.019851134215955"
         },
         {
          "State": "accepted",
          "x": "9.28154740013415",
          "y": "10.597468639048085"
         },
         {
          "State": "accepted",
          "x": "8.994433296270998",
          "y": "10.289836070966565"
         },
         {
          "State": "accepted",
          "x": "8.441942477682977",
          "y": "9.862823377488057"
         },
         {
          "State": "accepted",
          "x": "8.121952549174587",
          "y": "10.91160916006763"
         },
         {
          "State": "accepted",
          "x": "8.205911868216797",
          "y": "11.014173757710651"
         },
         {
          "State": "rejected",
          "x": "8.205911868216797",
          "y": "11.014173757710651"
         },
         {
          "State": "rejected",
          "x": "8.205911868216797",
          "y": "11.014173757710651"
         },
         {
          "State": "accepted",
          "x": "8.607458186099908",
          "y": "11.131034658228954"
         },
         {
          "State": "accepted",
          "x": "8.538592872596446",
          "y": "10.999066344869313"
         },
         {
          "State": "accepted",
          "x": "8.438244833569003",
          "y": "10.93383045121333"
         },
         {
          "State": "rejected",
          "x": "8.438244833569003",
          "y": "10.93383045121333"
         },
         {
          "State": "accepted",
          "x": "8.814891249173062",
          "y": "11.049500129340027"
         },
         {
          "State": "accepted",
          "x": "8.821519086372465",
          "y": "11.094820801585028"
         },
         {
          "State": "rejected",
          "x": "8.821519086372465",
          "y": "11.094820801585028"
         },
         {
          "State": "accepted",
          "x": "8.70180870324785",
          "y": "11.832955831820541"
         },
         {
          "State": "accepted",
          "x": "9.027748340882717",
          "y": "11.649539319114544"
         },
         {
          "State": "accepted",
          "x": "9.595505084740292",
          "y": "11.660470098963383"
         },
         {
          "State": "accepted",
          "x": "8.600721123798817",
          "y": "11.450612766967364"
         },
         {
          "State": "accepted",
          "x": "8.469358602207016",
          "y": "11.587788605935229"
         },
         {
          "State": "accepted",
          "x": "8.025422499831011",
          "y": "11.646478869821525"
         },
         {
          "State": "accepted",
          "x": "7.587701624187971",
          "y": "11.33614005294831"
         },
         {
          "State": "accepted",
          "x": "7.071587083344169",
          "y": "11.314018124091023"
         },
         {
          "State": "rejected",
          "x": "7.071587083344169",
          "y": "11.314018124091023"
         },
         {
          "State": "accepted",
          "x": "7.015918878086467",
          "y": "11.179263073714802"
         },
         {
          "State": "accepted",
          "x": "7.665349810945638",
          "y": "11.334763837082829"
         },
         {
          "State": "accepted",
          "x": "8.311431204682181",
          "y": "10.766630732925638"
         },
         {
          "State": "accepted",
          "x": "8.175014911980886",
          "y": "10.483264638924988"
         },
         {
          "State": "accepted",
          "x": "8.612355592600387",
          "y": "9.943197749450658"
         },
         {
          "State": "accepted",
          "x": "8.64983528180538",
          "y": "10.030078360969664"
         },
         {
          "State": "rejected",
          "x": "8.64983528180538",
          "y": "10.030078360969664"
         },
         {
          "State": "rejected",
          "x": "8.64983528180538",
          "y": "10.030078360969664"
         },
         {
          "State": "accepted",
          "x": "9.410738804451567",
          "y": "10.695283718331416"
         },
         {
          "State": "accepted",
          "x": "9.79081140996936",
          "y": "11.243264566549005"
         },
         {
          "State": "accepted",
          "x": "9.712809805513654",
          "y": "10.943456925022765"
         },
         {
          "State": "accepted",
          "x": "9.701906726513089",
          "y": "10.753759143358554"
         },
         {
          "State": "accepted",
          "x": "9.623942109051757",
          "y": "10.319280165969083"
         },
         {
          "State": "rejected",
          "x": "9.623942109051757",
          "y": "10.319280165969083"
         },
         {
          "State": "accepted",
          "x": "10.209176565624826",
          "y": "11.224534261062002"
         },
         {
          "State": "accepted",
          "x": "10.585415708954628",
          "y": "10.353892289693093"
         },
         {
          "State": "accepted",
          "x": "10.24243279590794",
          "y": "10.099532096250556"
         },
         {
          "State": "accepted",
          "x": "10.201679888823506",
          "y": "10.69221824170689"
         },
         {
          "State": "accepted",
          "x": "10.376408948556373",
          "y": "10.793060639682643"
         },
         {
          "State": "accepted",
          "x": "9.949209214537108",
          "y": "11.03297598716678"
         },
         {
          "State": "accepted",
          "x": "10.051489847462989",
          "y": "11.018551626277809"
         },
         {
          "State": "accepted",
          "x": "10.851117254804063",
          "y": "11.302301538392094"
         },
         {
          "State": "rejected",
          "x": "10.851117254804063",
          "y": "11.302301538392094"
         },
         {
          "State": "accepted",
          "x": "11.587227584738443",
          "y": "11.543033330826669"
         },
         {
          "State": "accepted",
          "x": "11.497553781934988",
          "y": "11.34137396321266"
         },
         {
          "State": "accepted",
          "x": "11.443689283072828",
          "y": "11.339340259774954"
         },
         {
          "State": "accepted",
          "x": "11.886286086973328",
          "y": "11.518905305308063"
         },
         {
          "State": "accepted",
          "x": "12.013575181373744",
          "y": "11.296148341546806"
         },
         {
          "State": "rejected",
          "x": "12.013575181373744",
          "y": "11.296148341546806"
         },
         {
          "State": "accepted",
          "x": "12.02946286779246",
          "y": "10.665710774917596"
         },
         {
          "State": "accepted",
          "x": "11.703249334175808",
          "y": "10.276885740843886"
         },
         {
          "State": "accepted",
          "x": "12.129271046026174",
          "y": "9.883094272358475"
         },
         {
          "State": "accepted",
          "x": "11.583794790642095",
          "y": "9.247364704552608"
         },
         {
          "State": "accepted",
          "x": "11.094267954420035",
          "y": "8.915031029029864"
         },
         {
          "State": "rejected",
          "x": "11.094267954420035",
          "y": "8.915031029029864"
         },
         {
          "State": "rejected",
          "x": "11.094267954420035",
          "y": "8.915031029029864"
         },
         {
          "State": "rejected",
          "x": "11.094267954420035",
          "y": "8.915031029029864"
         },
         {
          "State": "accepted",
          "x": "11.021899853948216",
          "y": "9.3175324517378"
         },
         {
          "State": "accepted",
          "x": "10.81013000203162",
          "y": "9.733223127983909"
         },
         {
          "State": "accepted",
          "x": "10.386822897327505",
          "y": "9.62161522022158"
         },
         {
          "State": "rejected",
          "x": "10.386822897327505",
          "y": "9.62161522022158"
         },
         {
          "State": "accepted",
          "x": "10.158709500355656",
          "y": "10.693284028358025"
         },
         {
          "State": "accepted",
          "x": "9.928853923370424",
          "y": "10.814065934602803"
         },
         {
          "State": "accepted",
          "x": "9.244880383870148",
          "y": "10.896329264387305"
         },
         {
          "State": "accepted",
          "x": "9.73287279762436",
          "y": "10.895879843435642"
         },
         {
          "State": "accepted",
          "x": "9.829999435326881",
          "y": "10.87267795786213"
         },
         {
          "State": "accepted",
          "x": "10.361308091442915",
          "y": "10.9591327736363"
         },
         {
          "State": "accepted",
          "x": "10.65056526180496",
          "y": "10.773784065495692"
         },
         {
          "State": "accepted",
          "x": "11.450981569524751",
          "y": "11.242747766727133"
         },
         {
          "State": "accepted",
          "x": "11.815952300407616",
          "y": "10.876807489923438"
         },
         {
          "State": "accepted",
          "x": "11.598955122723671",
          "y": "10.84115699550034"
         },
         {
          "State": "rejected",
          "x": "11.598955122723671",
          "y": "10.84115699550034"
         },
         {
          "State": "accepted",
          "x": "10.69259610973083",
          "y": "10.570496147347164"
         },
         {
          "State": "accepted",
          "x": "11.201192023109847",
          "y": "9.872115352482393"
         },
         {
          "State": "rejected",
          "x": "11.201192023109847",
          "y": "9.872115352482393"
         },
         {
          "State": "accepted",
          "x": "10.872434790499977",
          "y": "9.975546354194773"
         },
         {
          "State": "accepted",
          "x": "10.92405643421311",
          "y": "8.917599390327856"
         },
         {
          "State": "accepted",
          "x": "11.685108766852805",
          "y": "9.195898948992419"
         },
         {
          "State": "accepted",
          "x": "10.668984128056541",
          "y": "9.095678388743538"
         },
         {
          "State": "accepted",
          "x": "10.722363580605382",
          "y": "9.76209041235504"
         },
         {
          "State": "accepted",
          "x": "10.481619439545634",
          "y": "9.420004690349455"
         },
         {
          "State": "accepted",
          "x": "10.451586140736087",
          "y": "9.456699445139092"
         },
         {
          "State": "accepted",
          "x": "10.050926473471536",
          "y": "10.086052972554494"
         },
         {
          "State": "rejected",
          "x": "10.050926473471536",
          "y": "10.086052972554494"
         },
         {
          "State": "accepted",
          "x": "10.452353389437786",
          "y": "9.346167505711293"
         },
         {
          "State": "accepted",
          "x": "9.64517522774276",
          "y": "8.918014188297844"
         },
         {
          "State": "accepted",
          "x": "8.814470392240667",
          "y": "8.489356101682779"
         },
         {
          "State": "accepted",
          "x": "8.96717640959285",
          "y": "8.080947711965356"
         },
         {
          "State": "accepted",
          "x": "9.209650085564443",
          "y": "7.912263165600902"
         },
         {
          "State": "accepted",
          "x": "8.867154011612135",
          "y": "8.55613537470714"
         },
         {
          "State": "accepted",
          "x": "9.194331320474134",
          "y": "8.459322279434737"
         },
         {
          "State": "accepted",
          "x": "8.963257358965095",
          "y": "8.075757124594148"
         },
         {
          "State": "rejected",
          "x": "8.963257358965095",
          "y": "8.075757124594148"
         },
         {
          "State": "accepted",
          "x": "10.008944431364394",
          "y": "8.650624791863935"
         },
         {
          "State": "accepted",
          "x": "9.480592515121014",
          "y": "9.241686570058825"
         },
         {
          "State": "accepted",
          "x": "8.960746191883302",
          "y": "8.916735160206871"
         },
         {
          "State": "accepted",
          "x": "8.82955268205037",
          "y": "8.768133269013743"
         },
         {
          "State": "rejected",
          "x": "8.82955268205037",
          "y": "8.768133269013743"
         },
         {
          "State": "accepted",
          "x": "9.376258850001394",
          "y": "9.397617444763414"
         },
         {
          "State": "accepted",
          "x": "9.178261807479752",
          "y": "9.151172380705903"
         },
         {
          "State": "accepted",
          "x": "8.84672176853392",
          "y": "9.276029501332399"
         },
         {
          "State": "accepted",
          "x": "8.724431632398275",
          "y": "9.035449701882229"
         },
         {
          "State": "accepted",
          "x": "9.246360690873994",
          "y": "9.512630302604036"
         },
         {
          "State": "accepted",
          "x": "9.903207387349145",
          "y": "8.592439000327861"
         },
         {
          "State": "accepted",
          "x": "9.918239484524817",
          "y": "8.768819381739537"
         },
         {
          "State": "accepted",
          "x": "9.886856811906414",
          "y": "9.238174315214946"
         },
         {
          "State": "rejected",
          "x": "9.886856811906414",
          "y": "9.238174315214946"
         },
         {
          "State": "accepted",
          "x": "9.015213775973448",
          "y": "8.858292978845418"
         },
         {
          "State": "accepted",
          "x": "9.51753350111044",
          "y": "8.665439053020501"
         },
         {
          "State": "accepted",
          "x": "9.448948466725815",
          "y": "8.546335599486538"
         },
         {
          "State": "accepted",
          "x": "9.406757564291564",
          "y": "8.316426707022387"
         },
         {
          "State": "accepted",
          "x": "9.29627125157712",
          "y": "8.475105149832029"
         },
         {
          "State": "rejected",
          "x": "9.29627125157712",
          "y": "8.475105149832029"
         },
         {
          "State": "accepted",
          "x": "8.743180592883807",
          "y": "9.069665466452959"
         },
         {
          "State": "rejected",
          "x": "8.743180592883807",
          "y": "9.069665466452959"
         },
         {
          "State": "rejected",
          "x": "8.743180592883807",
          "y": "9.069665466452959"
         },
         {
          "State": "accepted",
          "x": "9.283800398978178",
          "y": "9.152553866615781"
         },
         {
          "State": "accepted",
          "x": "9.934352828593074",
          "y": "9.375403186289116"
         },
         {
          "State": "accepted",
          "x": "9.76508128315183",
          "y": "10.323838092371497"
         },
         {
          "State": "accepted",
          "x": "9.415489945977786",
          "y": "10.022722713729049"
         },
         {
          "State": "accepted",
          "x": "8.77425541330144",
          "y": "10.376011080104742"
         },
         {
          "State": "accepted",
          "x": "9.066286810162467",
          "y": "9.487731894319824"
         },
         {
          "State": "accepted",
          "x": "9.559756950269353",
          "y": "9.804296049575445"
         },
         {
          "State": "accepted",
          "x": "9.309440786977149",
          "y": "10.532452636118299"
         },
         {
          "State": "accepted",
          "x": "8.861197576870346",
          "y": "10.823494183227183"
         },
         {
          "State": "rejected",
          "x": "8.861197576870346",
          "y": "10.823494183227183"
         },
         {
          "State": "rejected",
          "x": "8.861197576870346",
          "y": "10.823494183227183"
         },
         {
          "State": "accepted",
          "x": "8.784167866700894",
          "y": "10.166545163141462"
         },
         {
          "State": "accepted",
          "x": "9.328506389218816",
          "y": "10.266917703159466"
         },
         {
          "State": "accepted",
          "x": "9.539172005777889",
          "y": "10.10764884866296"
         },
         {
          "State": "accepted",
          "x": "9.880550160544585",
          "y": "9.936718951519499"
         },
         {
          "State": "accepted",
          "x": "9.857916635420779",
          "y": "9.44598236734386"
         },
         {
          "State": "accepted",
          "x": "8.930918022242317",
          "y": "9.099844415114156"
         },
         {
          "State": "accepted",
          "x": "10.342403012189518",
          "y": "10.108067870149004"
         },
         {
          "State": "accepted",
          "x": "11.29785736098441",
          "y": "10.21679840749824"
         },
         {
          "State": "accepted",
          "x": "10.26167471190088",
          "y": "9.759294310541842"
         },
         {
          "State": "rejected",
          "x": "10.26167471190088",
          "y": "9.759294310541842"
         },
         {
          "State": "accepted",
          "x": "10.781137260197696",
          "y": "9.966955583211126"
         },
         {
          "State": "accepted",
          "x": "10.922475047605774",
          "y": "10.493750594766885"
         },
         {
          "State": "accepted",
          "x": "10.627638131698966",
          "y": "10.243487376478477"
         },
         {
          "State": "accepted",
          "x": "9.715136393605496",
          "y": "10.85103698287679"
         },
         {
          "State": "accepted",
          "x": "9.789432245639007",
          "y": "11.161526208097792"
         },
         {
          "State": "accepted",
          "x": "9.905003745503969",
          "y": "10.743328573886473"
         },
         {
          "State": "accepted",
          "x": "9.563858655168659",
          "y": "11.345815475088965"
         },
         {
          "State": "accepted",
          "x": "9.404210234170069",
          "y": "11.41070431936296"
         },
         {
          "State": "accepted",
          "x": "9.243095395042731",
          "y": "10.949895470898554"
         },
         {
          "State": "accepted",
          "x": "9.807100743845147",
          "y": "10.609694786396187"
         },
         {
          "State": "accepted",
          "x": "11.15526410787495",
          "y": "11.032395344980088"
         },
         {
          "State": "accepted",
          "x": "11.52500334095444",
          "y": "11.050674902954334"
         },
         {
          "State": "accepted",
          "x": "12.034218393967887",
          "y": "11.409894380998551"
         },
         {
          "State": "accepted",
          "x": "11.844498554621312",
          "y": "11.928934982189007"
         },
         {
          "State": "accepted",
          "x": "12.168297765236764",
          "y": "12.164954579670429"
         },
         {
          "State": "rejected",
          "x": "12.168297765236764",
          "y": "12.164954579670429"
         },
         {
          "State": "rejected",
          "x": "12.168297765236764",
          "y": "12.164954579670429"
         },
         {
          "State": "rejected",
          "x": "12.168297765236764",
          "y": "12.164954579670429"
         },
         {
          "State": "rejected",
          "x": "12.168297765236764",
          "y": "12.164954579670429"
         },
         {
          "State": "accepted",
          "x": "12.619409648996275",
          "y": "11.924548677181821"
         },
         {
          "State": "accepted",
          "x": "12.94628586904713",
          "y": "12.050927371151392"
         },
         {
          "State": "accepted",
          "x": "12.823336132334207",
          "y": "11.876392647019973"
         },
         {
          "State": "accepted",
          "x": "12.724851799098081",
          "y": "11.84012775653358"
         },
         {
          "State": "accepted",
          "x": "13.203275016917958",
          "y": "11.353115833700418"
         },
         {
          "State": "accepted",
          "x": "12.069998131602656",
          "y": "11.534617198928249"
         },
         {
          "State": "rejected",
          "x": "12.069998131602656",
          "y": "11.534617198928249"
         },
         {
          "State": "rejected",
          "x": "12.069998131602656",
          "y": "11.534617198928249"
         },
         {
          "State": "accepted",
          "x": "12.02454193749662",
          "y": "11.388309242472962"
         },
         {
          "State": "rejected",
          "x": "12.02454193749662",
          "y": "11.388309242472962"
         },
         {
          "State": "accepted",
          "x": "11.951312527285912",
          "y": "11.264369197125372"
         },
         {
          "State": "accepted",
          "x": "11.022350524932977",
          "y": "11.080155214804229"
         },
         {
          "State": "accepted",
          "x": "10.99830016830353",
          "y": "10.501200603507979"
         },
         {
          "State": "accepted",
          "x": "11.049336042870683",
          "y": "10.147676756462817"
         },
         {
          "State": "accepted",
          "x": "10.166693342804482",
          "y": "10.387895881643091"
         },
         {
          "State": "accepted",
          "x": "10.003297898248084",
          "y": "10.035867640990434"
         },
         {
          "State": "accepted",
          "x": "10.16542976706302",
          "y": "10.360599025020614"
         },
         {
          "State": "accepted",
          "x": "9.470022200517418",
          "y": "10.039353179617919"
         },
         {
          "State": "accepted",
          "x": "9.354986997204279",
          "y": "9.836038366492318"
         },
         {
          "State": "rejected",
          "x": "9.354986997204279",
          "y": "9.836038366492318"
         },
         {
          "State": "accepted",
          "x": "9.234433877738303",
          "y": "9.956675114077449"
         },
         {
          "State": "rejected",
          "x": "9.234433877738303",
          "y": "9.956675114077449"
         },
         {
          "State": "accepted",
          "x": "9.2069569511014",
          "y": "9.677609509831347"
         },
         {
          "State": "accepted",
          "x": "8.59244081879808",
          "y": "9.647195869779617"
         },
         {
          "State": "accepted",
          "x": "8.069640455520105",
          "y": "9.52536171902754"
         },
         {
          "State": "accepted",
          "x": "7.840309724139847",
          "y": "9.894423997667571"
         },
         {
          "State": "accepted",
          "x": "7.183791592052818",
          "y": "10.000517611453859"
         },
         {
          "State": "accepted",
          "x": "7.483739182555614",
          "y": "10.412730787647932"
         },
         {
          "State": "accepted",
          "x": "8.132025890752006",
          "y": "10.853214685610348"
         },
         {
          "State": "rejected",
          "x": "8.132025890752006",
          "y": "10.853214685610348"
         },
         {
          "State": "accepted",
          "x": "8.108159730410017",
          "y": "10.609140436770803"
         },
         {
          "State": "accepted",
          "x": "7.981968511950081",
          "y": "10.327842888585547"
         },
         {
          "State": "accepted",
          "x": "7.935967195027723",
          "y": "9.625353394434974"
         },
         {
          "State": "accepted",
          "x": "8.533805438312566",
          "y": "9.373516031960309"
         },
         {
          "State": "accepted",
          "x": "9.09108694127887",
          "y": "9.034314329015894"
         },
         {
          "State": "accepted",
          "x": "9.33457448779735",
          "y": "9.281134990419012"
         },
         {
          "State": "accepted",
          "x": "9.890571761334417",
          "y": "9.560913972938621"
         },
         {
          "State": "accepted",
          "x": "10.08397582503618",
          "y": "9.830386191896189"
         },
         {
          "State": "accepted",
          "x": "9.693922937743984",
          "y": "9.444934255582474"
         },
         {
          "State": "accepted",
          "x": "9.376704293451255",
          "y": "9.387280282790234"
         },
         {
          "State": "accepted",
          "x": "9.420109809302017",
          "y": "8.74079509509304"
         },
         {
          "State": "accepted",
          "x": "9.648104387926992",
          "y": "9.084773157482488"
         },
         {
          "State": "accepted",
          "x": "9.527410826833215",
          "y": "9.07703850397416"
         },
         {
          "State": "accepted",
          "x": "9.58663297366358",
          "y": "9.590831667680098"
         },
         {
          "State": "accepted",
          "x": "9.832891645394369",
          "y": "9.768182211202292"
         },
         {
          "State": "rejected",
          "x": "9.832891645394369",
          "y": "9.768182211202292"
         },
         {
          "State": "accepted",
          "x": "10.05443101743801",
          "y": "9.895215706887482"
         },
         {
          "State": "accepted",
          "x": "9.711562274525333",
          "y": "10.10677125762566"
         },
         {
          "State": "accepted",
          "x": "9.139086903878693",
          "y": "10.423199390882848"
         },
         {
          "State": "accepted",
          "x": "9.610263443516379",
          "y": "10.139237818931667"
         },
         {
          "State": "accepted",
          "x": "8.939791424919514",
          "y": "10.420764109514712"
         },
         {
          "State": "accepted",
          "x": "8.179244405515059",
          "y": "10.108793882643704"
         },
         {
          "State": "accepted",
          "x": "7.393617864562232",
          "y": "9.496171267795377"
         },
         {
          "State": "accepted",
          "x": "8.18686326759594",
          "y": "9.412342395030663"
         },
         {
          "State": "accepted",
          "x": "8.473276413657839",
          "y": "10.062001207132438"
         },
         {
          "State": "accepted",
          "x": "9.005556746703595",
          "y": "11.12617180689602"
         },
         {
          "State": "accepted",
          "x": "9.094438569682156",
          "y": "11.098774438032171"
         },
         {
          "State": "accepted",
          "x": "9.052158110736189",
          "y": "10.371011461236813"
         },
         {
          "State": "accepted",
          "x": "9.493272284195735",
          "y": "10.18960719689104"
         },
         {
          "State": "accepted",
          "x": "9.08015561048318",
          "y": "9.511362453482839"
         },
         {
          "State": "accepted",
          "x": "9.452740435542617",
          "y": "9.465560675145785"
         },
         {
          "State": "rejected",
          "x": "9.452740435542617",
          "y": "9.465560675145785"
         },
         {
          "State": "accepted",
          "x": "9.759091122335885",
          "y": "9.829527477441223"
         },
         {
          "State": "accepted",
          "x": "9.529831523903",
          "y": "9.210227075924703"
         },
         {
          "State": "accepted",
          "x": "9.717942889531193",
          "y": "9.321930730413143"
         },
         {
          "State": "accepted",
          "x": "9.672902517519182",
          "y": "9.74164443639536"
         },
         {
          "State": "accepted",
          "x": "9.582530995226323",
          "y": "10.498542421046272"
         },
         {
          "State": "accepted",
          "x": "9.734436479609075",
          "y": "9.316877726269006"
         },
         {
          "State": "accepted",
          "x": "9.774357484962495",
          "y": "9.39497885852191"
         },
         {
          "State": "accepted",
          "x": "10.110564144811336",
          "y": "9.370228128400859"
         },
         {
          "State": "rejected",
          "x": "10.110564144811336",
          "y": "9.370228128400859"
         },
         {
          "State": "accepted",
          "x": "10.069021777442584",
          "y": "9.435953084591612"
         },
         {
          "State": "accepted",
          "x": "10.879613877846207",
          "y": "9.766036610718292"
         },
         {
          "State": "accepted",
          "x": "10.649008217780374",
          "y": "10.781917721736818"
         },
         {
          "State": "accepted",
          "x": "10.928144093619206",
          "y": "11.140345285362823"
         },
         {
          "State": "accepted",
          "x": "10.120954480142297",
          "y": "10.73732570091956"
         },
         {
          "State": "accepted",
          "x": "9.467473438689629",
          "y": "10.946951823672784"
         },
         {
          "State": "accepted",
          "x": "9.039491599516735",
          "y": "10.323037876044257"
         },
         {
          "State": "accepted",
          "x": "9.395197581139904",
          "y": "10.625367137101543"
         },
         {
          "State": "accepted",
          "x": "9.894809491019803",
          "y": "10.653017683077122"
         },
         {
          "State": "rejected",
          "x": "9.894809491019803",
          "y": "10.653017683077122"
         },
         {
          "State": "rejected",
          "x": "9.894809491019803",
          "y": "10.653017683077122"
         },
         {
          "State": "accepted",
          "x": "10.172062039397026",
          "y": "10.98588625232096"
         },
         {
          "State": "rejected",
          "x": "10.172062039397026",
          "y": "10.98588625232096"
         },
         {
          "State": "accepted",
          "x": "10.015612301437473",
          "y": "10.677401712420897"
         },
         {
          "State": "accepted",
          "x": "9.699623982878528",
          "y": "10.670913406699041"
         },
         {
          "State": "accepted",
          "x": "9.654002414479978",
          "y": "10.142781041238534"
         },
         {
          "State": "accepted",
          "x": "9.846462140678135",
          "y": "9.916939544257195"
         },
         {
          "State": "accepted",
          "x": "9.372610226828591",
          "y": "10.29024856491922"
         },
         {
          "State": "accepted",
          "x": "9.910560336099877",
          "y": "9.571480980985777"
         },
         {
          "State": "accepted",
          "x": "9.820991618856038",
          "y": "9.164651099577966"
         },
         {
          "State": "accepted",
          "x": "10.275215479206478",
          "y": "9.802394247302402"
         },
         {
          "State": "accepted",
          "x": "10.274097631594762",
          "y": "9.66516842281128"
         },
         {
          "State": "accepted",
          "x": "10.281652096197837",
          "y": "8.660996535413112"
         },
         {
          "State": "accepted",
          "x": "10.55052838737212",
          "y": "8.847872381014296"
         },
         {
          "State": "accepted",
          "x": "10.186569518134931",
          "y": "9.116085014498472"
         },
         {
          "State": "rejected",
          "x": "10.186569518134931",
          "y": "9.116085014498472"
         },
         {
          "State": "accepted",
          "x": "10.770985496891067",
          "y": "9.390613145666883"
         },
         {
          "State": "accepted",
          "x": "11.020042766974324",
          "y": "9.510071452733017"
         },
         {
          "State": "rejected",
          "x": "11.020042766974324",
          "y": "9.510071452733017"
         },
         {
          "State": "accepted",
          "x": "11.135423577616379",
          "y": "10.224590085900871"
         },
         {
          "State": "accepted",
          "x": "10.737781315313635",
          "y": "10.608742652585388"
         },
         {
          "State": "rejected",
          "x": "10.737781315313635",
          "y": "10.608742652585388"
         },
         {
          "State": "accepted",
          "x": "10.37660458746442",
          "y": "10.216600367214184"
         },
         {
          "State": "accepted",
          "x": "9.782483969752006",
          "y": "10.581589511697883"
         },
         {
          "State": "accepted",
          "x": "10.477198052137817",
          "y": "9.685210353909014"
         },
         {
          "State": "accepted",
          "x": "10.14392283808834",
          "y": "9.606875581808426"
         },
         {
          "State": "accepted",
          "x": "9.724289638947864",
          "y": "9.256686508835019"
         },
         {
          "State": "rejected",
          "x": "9.724289638947864",
          "y": "9.256686508835019"
         },
         {
          "State": "accepted",
          "x": "9.508365349376804",
          "y": "9.321924085969435"
         },
         {
          "State": "accepted",
          "x": "9.14628815845957",
          "y": "9.386771657370634"
         },
         {
          "State": "accepted",
          "x": "8.421150972997442",
          "y": "9.327937062387523"
         },
         {
          "State": "accepted",
          "x": "8.75645415158254",
          "y": "9.652689307106836"
         },
         {
          "State": "accepted",
          "x": "8.608184355592474",
          "y": "10.152477522339897"
         },
         {
          "State": "accepted",
          "x": "8.647324280333708",
          "y": "9.921721835208619"
         },
         {
          "State": "accepted",
          "x": "8.361907194128639",
          "y": "9.83331320382323"
         },
         {
          "State": "accepted",
          "x": "8.58345535758705",
          "y": "9.408451376895155"
         },
         {
          "State": "accepted",
          "x": "8.491195828975822",
          "y": "9.210387822344439"
         },
         {
          "State": "accepted",
          "x": "8.03586782442717",
          "y": "8.147284230879894"
         },
         {
          "State": "accepted",
          "x": "8.179361582896586",
          "y": "7.912470892250751"
         },
         {
          "State": "accepted",
          "x": "9.02778633833199",
          "y": "8.244623811161587"
         },
         {
          "State": "accepted",
          "x": "7.993179706574324",
          "y": "8.11412209381395"
         },
         {
          "State": "accepted",
          "x": "7.568965432542185",
          "y": "8.177233727225577"
         },
         {
          "State": "accepted",
          "x": "7.337434682914338",
          "y": "9.161737239072002"
         },
         {
          "State": "accepted",
          "x": "6.62072370952916",
          "y": "8.960551944581328"
         },
         {
          "State": "accepted",
          "x": "6.547948938113247",
          "y": "9.114059371955053"
         },
         {
          "State": "accepted",
          "x": "5.766873416121707",
          "y": "8.511892474826862"
         },
         {
          "State": "accepted",
          "x": "5.909124003357473",
          "y": "8.637989656315234"
         },
         {
          "State": "accepted",
          "x": "5.78782374648841",
          "y": "9.162610780893141"
         },
         {
          "State": "accepted",
          "x": "6.238660218932005",
          "y": "8.867315050760368"
         },
         {
          "State": "accepted",
          "x": "6.0845962712748625",
          "y": "9.5209789155329"
         },
         {
          "State": "accepted",
          "x": "6.365937445243221",
          "y": "9.717229475550301"
         },
         {
          "State": "accepted",
          "x": "7.3781303404468375",
          "y": "9.184228861081403"
         },
         {
          "State": "accepted",
          "x": "7.095083324241971",
          "y": "8.646538102073896"
         },
         {
          "State": "accepted",
          "x": "7.327053077720771",
          "y": "8.536844368389668"
         },
         {
          "State": "accepted",
          "x": "7.778921792552896",
          "y": "9.3835409574893"
         },
         {
          "State": "rejected",
          "x": "7.778921792552896",
          "y": "9.3835409574893"
         },
         {
          "State": "accepted",
          "x": "7.98129187994422",
          "y": "9.373718980796282"
         },
         {
          "State": "rejected",
          "x": "7.98129187994422",
          "y": "9.373718980796282"
         },
         {
          "State": "accepted",
          "x": "7.796049225996194",
          "y": "9.18286138824114"
         },
         {
          "State": "accepted",
          "x": "8.02773765248852",
          "y": "10.044625899095571"
         },
         {
          "State": "accepted",
          "x": "8.66045904505023",
          "y": "9.795514337092643"
         },
         {
          "State": "accepted",
          "x": "8.089910454259057",
          "y": "9.511954092794154"
         },
         {
          "State": "accepted",
          "x": "8.577947971162429",
          "y": "9.766310928416862"
         },
         {
          "State": "accepted",
          "x": "8.50378350483885",
          "y": "9.974127951435062"
         },
         {
          "State": "rejected",
          "x": "8.50378350483885",
          "y": "9.974127951435062"
         },
         {
          "State": "accepted",
          "x": "9.046577318037984",
          "y": "9.9680103320552"
         },
         {
          "State": "accepted",
          "x": "8.690958212630695",
          "y": "9.863619162959322"
         },
         {
          "State": "accepted",
          "x": "9.585844447208183",
          "y": "10.43058242835214"
         },
         {
          "State": "accepted",
          "x": "9.4989976507776",
          "y": "9.705049088407387"
         },
         {
          "State": "accepted",
          "x": "10.097841124267534",
          "y": "9.42053178791322"
         },
         {
          "State": "accepted",
          "x": "10.603347811510275",
          "y": "9.881791837835179"
         },
         {
          "State": "accepted",
          "x": "10.469793123987404",
          "y": "10.205958330127174"
         },
         {
          "State": "accepted",
          "x": "10.358603744910257",
          "y": "10.314108705072188"
         },
         {
          "State": "accepted",
          "x": "9.800148857942226",
          "y": "10.639206049471193"
         }
        ]
       },
       "description": ".",
       "encoding": {
        "color": {
         "field": "State"
        },
        "x": {
         "field": "x",
         "scale": {
          "zero": false
         },
         "type": "quantitative"
        },
        "y": {
         "field": "y",
         "scale": {
          "zero": false
         },
         "type": "quantitative"
        }
       },
       "height": 600,
       "mark": "circle",
       "title": "Samples",
       "width": 800
      },
      "image/png": "[encoded data removed]"
     },
     "metadata": {},
     "output_type": "display_data"
    }
   ],
   "source": [
    "val samples = logger.steps\n",
    "\n",
    "val dataFrame = DataFrame(Seq(\n",
    "    DataFrame.Column.ofContinuous(samples.map((s : logger.StepInfo) => s.state(0)), \"x\"),\n",
    "    DataFrame.Column.ofContinuous(samples.map((s : logger.StepInfo) => s.state(1)), \"y\"),\n",
    "    DataFrame.Column.ofNominals(samples.map((s : logger.StepInfo) => if s.accepted then \"accepted\" else \"rejected\"), \"State\")\n",
    "))\n",
    "           \n",
    "dataFrame.plot.scatterPlot(\"x\", \"y\", title = \"Samples\", colorField = \"State\").show()"
   ]
  },
  {
   "cell_type": "code",
   "execution_count": null,
   "id": "1dc83f8a-f077-4b1d-aed3-11a752f28dca",
   "metadata": {},
   "outputs": [],
   "source": []
  },
  {
   "cell_type": "markdown",
   "id": "2adfe563-4953-4d8e-9ed8-a975d781af94",
   "metadata": {},
   "source": [
    "### Exercises\n",
    "\n",
    "* We have started sampling from close to the mean of the target distribution. What happens when we start at the Point (0,0)?\n",
    "    * Visualize the resulting samples using the plot functions\n",
    "    * How could we mitigate the situation?\n",
    "* Play with different step-length in the proposal.\n",
    "    * What happens to the acceptance and rejection rate?\n",
    "    * How well is the target distribution approximated after a fixed number of samples\n",
    "* Experiment with different target distributions.\n",
    "    * Make the variance larger and smaller\n",
    "    * Change the correlation\n",
    "    * Assign to all samples whose x value is larger then 5 the probability 0.\n",
    "        * Do you need to normalize the pdf? why, why not?\n",
    "* Define a function that computes the expected value of a given function, using the samples\n",
    "* How could you get samples from the marginal distributions?\n"
   ]
  },
  {
   "cell_type": "code",
   "execution_count": null,
   "id": "5b4a630e-c4e7-408f-bc0e-8925767e5097",
   "metadata": {},
   "outputs": [],
   "source": []
  }
 ],
 "metadata": {
  "kernelspec": {
   "display_name": "Scala",
   "language": "scala",
   "name": "scala"
  },
  "language_info": {
   "codemirror_mode": "text/x-scala",
   "file_extension": ".sc",
   "mimetype": "text/x-scala",
   "name": "scala",
   "nbconvert_exporter": "script",
   "version": "2.13.8"
  }
 },
 "nbformat": 4,
 "nbformat_minor": 5
}
